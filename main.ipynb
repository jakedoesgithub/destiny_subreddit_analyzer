{
 "cells": [
  {
   "cell_type": "markdown",
   "metadata": {},
   "source": [
    "[banner]: b1.png\n",
    "![banner]"
   ]
  },
  {
   "cell_type": "markdown",
   "metadata": {},
   "source": [
    "# Welcome to Destiny Subreddit Analyzer\n",
    "\n",
    "## How it works\n",
    "Below you will find a few a few charts already displayed, with the rest hidden behind switches that allow you to toggle the informational charts on and off. This is done because some charts take a minute or longer to load, and its easier to load the ones you want to look at one at a time rather than all at once. Some of these charts will allow you to adjust their input using widgets; these widgets will display after you select to turn a chart \"On\".\n",
    "\n",
    "For charts which allow you to change the input parameters, please be patient with it as the charts have to load again with the new parameters. It'll keep displaying the old chart until the new one is finished loading, at which point it will switch the chart to the new one. "
   ]
  },
  {
   "cell_type": "code",
   "execution_count": 22,
   "metadata": {},
   "outputs": [],
   "source": [
    "#imports\n",
    "import json\n",
    "import requests\n",
    "import pandas as pd\n",
    "from textblob import TextBlob\n",
    "from textblob.sentiments import NaiveBayesAnalyzer\n",
    "import numpy as np\n",
    "import plotly.express as px\n",
    "import ipywidgets as widgets\n",
    "import time\n",
    "from tqdm.notebook import tqdm as progbar"
   ]
  },
  {
   "cell_type": "code",
   "execution_count": 23,
   "metadata": {},
   "outputs": [
    {
     "data": {
      "application/vnd.jupyter.widget-view+json": {
       "model_id": "adcdc25def1f4bb28f1ed9b237cf055e",
       "version_major": 2,
       "version_minor": 0
      },
      "text/plain": [
       "HBox(children=(FloatProgress(value=0.0, description='test', style=ProgressStyle(description_width='initial')),…"
      ]
     },
     "metadata": {},
     "output_type": "display_data"
    },
    {
     "name": "stdout",
     "output_type": "stream",
     "text": [
      "\n"
     ]
    }
   ],
   "source": [
    "for i in progbar(range(0,100), desc='test'):\n",
    "    time.sleep(0.1)"
   ]
  },
  {
   "cell_type": "code",
   "execution_count": 68,
   "metadata": {},
   "outputs": [
    {
     "name": "stdout",
     "output_type": "stream",
     "text": [
      "Tue Dec  3 18:00:00 2019\n",
      "Wed Dec  4 18:00:00 2019\n",
      "Thu Dec  5 18:00:00 2019\n",
      "Fri Dec  6 18:00:00 2019\n",
      "Sat Dec  7 18:00:00 2019\n",
      "Sun Dec  8 18:00:00 2019\n",
      "Mon Dec  9 18:00:00 2019\n",
      "Tue Dec 10 18:00:00 2019\n",
      "Wed Dec 11 18:00:00 2019\n",
      "Thu Dec 12 18:00:00 2019\n",
      "Fri Dec 13 18:00:00 2019\n",
      "Sat Dec 14 18:00:00 2019\n",
      "Sun Dec 15 18:00:00 2019\n",
      "Mon Dec 16 18:00:00 2019\n",
      "Tue Dec 17 18:00:00 2019\n",
      "Wed Dec 18 18:00:00 2019\n",
      "Thu Dec 19 18:00:00 2019\n",
      "Fri Dec 20 18:00:00 2019\n",
      "Sat Dec 21 18:00:00 2019\n",
      "Sun Dec 22 18:00:00 2019\n",
      "Mon Dec 23 18:00:00 2019\n",
      "Tue Dec 24 18:00:00 2019\n",
      "Wed Dec 25 18:00:00 2019\n",
      "Thu Dec 26 18:00:00 2019\n",
      "Fri Dec 27 18:00:00 2019\n",
      "Sat Dec 28 18:00:00 2019\n",
      "Sun Dec 29 18:00:00 2019\n",
      "Mon Dec 30 18:00:00 2019\n",
      "Tue Dec 31 18:00:00 2019\n",
      "Wed Jan  1 18:00:00 2020\n"
     ]
    }
   ],
   "source": [
    "def see_times(freq):\n",
    "    url = 'https://api.pushshift.io/reddit/search/submission'\n",
    "    params_dict = {'after':'30d','subreddit':'crucibleplaybook',\n",
    "                   'size':'0','fields':'aggs','aggs':'created_utc','frequency':freq}\n",
    "    result = requests.get(url=url, params=params_dict).json()\n",
    "    result = result['aggs']['created_utc']\n",
    "    for x in result:\n",
    "        print(time.ctime(x['key']))\n",
    "\n",
    "see_times(5)"
   ]
  },
  {
   "cell_type": "code",
   "execution_count": 25,
   "metadata": {},
   "outputs": [
    {
     "data": {
      "text/html": [
       "<div>\n",
       "<style scoped>\n",
       "    .dataframe tbody tr th:only-of-type {\n",
       "        vertical-align: middle;\n",
       "    }\n",
       "\n",
       "    .dataframe tbody tr th {\n",
       "        vertical-align: top;\n",
       "    }\n",
       "\n",
       "    .dataframe thead th {\n",
       "        text-align: right;\n",
       "    }\n",
       "</style>\n",
       "<table border=\"1\" class=\"dataframe\">\n",
       "  <thead>\n",
       "    <tr style=\"text-align: right;\">\n",
       "      <th></th>\n",
       "      <th>num_comments</th>\n",
       "      <th>date</th>\n",
       "      <th>subreddit</th>\n",
       "    </tr>\n",
       "  </thead>\n",
       "  <tbody>\n",
       "    <tr>\n",
       "      <th>19</th>\n",
       "      <td>0</td>\n",
       "      <td>2020-01-01 21:04:50</td>\n",
       "      <td>destinythegame</td>\n",
       "    </tr>\n",
       "    <tr>\n",
       "      <th>18</th>\n",
       "      <td>0</td>\n",
       "      <td>2020-01-01 21:01:11</td>\n",
       "      <td>destinythegame</td>\n",
       "    </tr>\n",
       "    <tr>\n",
       "      <th>17</th>\n",
       "      <td>0</td>\n",
       "      <td>2020-01-01 20:56:14</td>\n",
       "      <td>destinythegame</td>\n",
       "    </tr>\n",
       "    <tr>\n",
       "      <th>16</th>\n",
       "      <td>0</td>\n",
       "      <td>2020-01-01 20:54:47</td>\n",
       "      <td>destinythegame</td>\n",
       "    </tr>\n",
       "    <tr>\n",
       "      <th>15</th>\n",
       "      <td>0</td>\n",
       "      <td>2020-01-01 20:53:58</td>\n",
       "      <td>destinythegame</td>\n",
       "    </tr>\n",
       "  </tbody>\n",
       "</table>\n",
       "</div>"
      ],
      "text/plain": [
       "    num_comments                date       subreddit\n",
       "19             0 2020-01-01 21:04:50  destinythegame\n",
       "18             0 2020-01-01 21:01:11  destinythegame\n",
       "17             0 2020-01-01 20:56:14  destinythegame\n",
       "16             0 2020-01-01 20:54:47  destinythegame\n",
       "15             0 2020-01-01 20:53:58  destinythegame"
      ]
     },
     "execution_count": 25,
     "metadata": {},
     "output_type": "execute_result"
    }
   ],
   "source": [
    "def get_post_times(subreddit, **kwargs):\n",
    "    submission_url = \"https://api.pushshift.io/reddit/search/submission/\"\n",
    "    kwargs['subreddit']=subreddit\n",
    "    response = requests.get(url=submission_url, params=kwargs).json()\n",
    "    response_data = response[\"data\"]\n",
    "    results = []\n",
    "    for x in response_data:\n",
    "        if isinstance(x['selftext'], str) and (x['selftext'] != '[removed]'):\n",
    "                temp = {}\n",
    "                temp[\"num_comments\"]=x[\"num_comments\"]\n",
    "                temp['date'] = pd.to_datetime(x['created_utc'], unit='s')\n",
    "                temp['subreddit']=subreddit\n",
    "                results.append(temp)\n",
    "        else:\n",
    "            pass\n",
    "    df = pd.DataFrame.from_dict(results)\n",
    "    return df\n",
    "dftest = get_post_times(\"destinythegame\", after = \"1h\", size = 500)\n",
    "dftest = dftest[::-1]\n",
    "dftest.head(5)"
   ]
  },
  {
   "cell_type": "code",
   "execution_count": 85,
   "metadata": {},
   "outputs": [
    {
     "name": "stdout",
     "output_type": "stream",
     "text": [
      "0   2019-12-29\n",
      "1   2019-12-30\n",
      "2   2019-12-31\n",
      "3   2020-01-01\n",
      "4   2020-01-02\n",
      "Name: key, dtype: datetime64[ns]\n"
     ]
    },
    {
     "ename": "AttributeError",
     "evalue": "module 'time' has no attribute 'df'",
     "output_type": "error",
     "traceback": [
      "\u001b[1;31m---------------------------------------------------------------------------\u001b[0m",
      "\u001b[1;31mAttributeError\u001b[0m                            Traceback (most recent call last)",
      "\u001b[1;32m<ipython-input-85-b0ddd956cc3b>\u001b[0m in \u001b[0;36m<module>\u001b[1;34m\u001b[0m\n\u001b[0;32m      2\u001b[0m \u001b[0mdate\u001b[0m \u001b[1;33m=\u001b[0m \u001b[0mpd\u001b[0m\u001b[1;33m.\u001b[0m\u001b[0mto_datetime\u001b[0m\u001b[1;33m(\u001b[0m\u001b[0mdf\u001b[0m\u001b[1;33m[\u001b[0m\u001b[1;34m'key'\u001b[0m\u001b[1;33m]\u001b[0m\u001b[1;33m,\u001b[0m \u001b[0munit\u001b[0m\u001b[1;33m=\u001b[0m\u001b[1;34m's'\u001b[0m\u001b[1;33m)\u001b[0m\u001b[1;33m\u001b[0m\u001b[1;33m\u001b[0m\u001b[0m\n\u001b[0;32m      3\u001b[0m \u001b[0mprint\u001b[0m\u001b[1;33m(\u001b[0m\u001b[0mdate\u001b[0m\u001b[1;33m)\u001b[0m\u001b[1;33m\u001b[0m\u001b[1;33m\u001b[0m\u001b[0m\n\u001b[1;32m----> 4\u001b[1;33m \u001b[0mthedate\u001b[0m\u001b[1;33m,\u001b[0m \u001b[0mthetime\u001b[0m \u001b[1;33m=\u001b[0m \u001b[0mtime\u001b[0m\u001b[1;33m.\u001b[0m\u001b[0mtime\u001b[0m\u001b[1;33m(\u001b[0m\u001b[0mtime\u001b[0m\u001b[1;33m.\u001b[0m\u001b[0mdf\u001b[0m\u001b[1;33m[\u001b[0m\u001b[1;34m'key'\u001b[0m\u001b[1;33m]\u001b[0m\u001b[1;33m[\u001b[0m\u001b[1;36m1\u001b[0m\u001b[1;33m]\u001b[0m\u001b[1;33m)\u001b[0m\u001b[1;33m.\u001b[0m\u001b[0msplit\u001b[0m\u001b[1;33m(\u001b[0m\u001b[1;33m)\u001b[0m\u001b[1;33m\u001b[0m\u001b[1;33m\u001b[0m\u001b[0m\n\u001b[0m\u001b[0;32m      5\u001b[0m \u001b[0myear\u001b[0m\u001b[1;33m,\u001b[0m \u001b[0mmonth\u001b[0m\u001b[1;33m,\u001b[0m \u001b[0mday\u001b[0m \u001b[1;33m=\u001b[0m \u001b[0mthedate\u001b[0m\u001b[1;33m.\u001b[0m\u001b[0msplit\u001b[0m\u001b[1;33m(\u001b[0m\u001b[1;34m'-'\u001b[0m\u001b[1;33m)\u001b[0m\u001b[1;33m\u001b[0m\u001b[1;33m\u001b[0m\u001b[0m\n\u001b[0;32m      6\u001b[0m \u001b[0mhour\u001b[0m\u001b[1;33m,\u001b[0m \u001b[0mminute\u001b[0m\u001b[1;33m,\u001b[0m \u001b[0msecond\u001b[0m \u001b[1;33m=\u001b[0m \u001b[0mthetime\u001b[0m\u001b[1;33m.\u001b[0m\u001b[0msplit\u001b[0m\u001b[1;33m(\u001b[0m\u001b[1;34m':'\u001b[0m\u001b[1;33m)\u001b[0m\u001b[1;33m\u001b[0m\u001b[1;33m\u001b[0m\u001b[0m\n",
      "\u001b[1;31mAttributeError\u001b[0m: module 'time' has no attribute 'df'"
     ]
    }
   ],
   "source": [
    "df = get_posts_aggs('destinythegame', aggs='created_utc', freq='days',  days=5)\n",
    "date = pd.to_datetime(df['key'], unit='s')\n",
    "print(date)\n",
    "thedate, thetime = time.time(time.df['key'][1]).split()\n",
    "year, month, day = thedate.split('-')\n",
    "hour, minute, second = thetime.split(':')\n",
    "print(f'y:{year}, m:{month}, day:{day}, hour: {hour}, minute: {minute}, second: {second}')"
   ]
  },
  {
   "cell_type": "code",
   "execution_count": null,
   "metadata": {},
   "outputs": [],
   "source": [
    "seconds_epoch = time.time()\n",
    "localtime = time.ctime"
   ]
  },
  {
   "cell_type": "code",
   "execution_count": 27,
   "metadata": {},
   "outputs": [],
   "source": [
    "#functions\n",
    "\n",
    "def jprint(obj):\n",
    "    # create a formatted string of the Python JSON object\n",
    "    text = json.dumps(obj, sort_keys=True, indent=4)\n",
    "    print(text)\n",
    "    \n",
    "def format_comment(text):\n",
    "    l = text.split()\n",
    "    n = len(l)\n",
    "    i=1\n",
    "    result = l[0]\n",
    "    while i < n:\n",
    "        result = result + ' ' + l[i]\n",
    "        if (n % 20) == 0:\n",
    "            result = result + '\\n'\n",
    "        i += 1\n",
    "    return result\n",
    "\n",
    "def get_top_5_submissions():\n",
    "    #returns a list of dictionaries each reresenting 1 of the top 5 submissions from dtg from last day\n",
    "    submission_url = \"https://api.pushshift.io/reddit/search/submission/\"\n",
    "    paramdict = {'after': \"1d\", \"sort_type\":\"num_comments\",\"subreddit\":\"destinythegame\",\"size\":5, \"sort\":\"desc\"}\n",
    "    response = requests.get(url=submission_url, params= paramdict).json()\n",
    "    response_data = response[\"data\"]\n",
    "    results = []\n",
    "    for x in response_data:\n",
    "        temp = {}\n",
    "        temp[\"title\"]=x[\"title\"]\n",
    "        temp[\"author\"]=x[\"author\"]\n",
    "        temp[\"url\"] = x[\"url\"]\n",
    "        temp[\"num_comments\"]=x[\"num_comments\"]\n",
    "        temp[\"id\"]=x[\"id\"]\n",
    "        comment_json = requests.get('https://api.pushshift.io/reddit/submission/comment_ids/{}'.format(x[\"id\"])).json()\n",
    "        comment_array = comment_json['data']\n",
    "        temp['comment_ids']=comment_array\n",
    "        results.append(temp)\n",
    "    return results\n",
    "\n",
    "def get_submissions(**kwrgs):\n",
    "    #returns a list of dictionaries each reresenting 1 of the top 5 submissions from dtg from last day\n",
    "    submission_url = \"https://api.pushshift.io/reddit/search/submission/\"\n",
    "    response = requests.get(url=submission_url, params=kwargs).json()\n",
    "    response_data = response[\"data\"]\n",
    "    return response_data\n",
    "\n",
    "def get_comments(**kwrgs):\n",
    "    #returns a list of dictionaries each reresenting 1 of the top 5 submissions from dtg from last day\n",
    "    submission_url = \"https://api.pushshift.io/reddit/search/comment/\"\n",
    "    response = requests.get(url=submission_url, params=kwargs).json()\n",
    "    response_data = response[\"data\"]\n",
    "    return response_data\n",
    "\n",
    "\n",
    "def get_comments_from_ids(comment_id_array):\n",
    "    #returns a list of comments in string form seperated by \",\" for a set of comment ids\n",
    "    comment_url = \"https://api.pushshift.io/reddit/search/comment/\"\n",
    "    params_dict = {\"ids\": \", \".join(str(x) for x in comment_id_array), \"fields\":\"body\"}\n",
    "    result = requests.get(url=comment_url, params=params_dict).json()\n",
    "    data = result['data']\n",
    "    final_result  = []\n",
    "    for x in data:\n",
    "        final_result.append(x[\"body\"])\n",
    "    return final_result\n",
    "\n",
    "def analyze_comment(comment):\n",
    "    #returns a list containing a comment, its polarity, and subjectvity\n",
    "    blob = TextBlob(comment)\n",
    "    polarity, subjectivity = blob.sentiment\n",
    "    return polarity, subjectivity\n",
    "\n",
    "def daily_submissions():\n",
    "    #returns a list of dictionaries each reresenting 1 of the top 5 submissions from dtg from last day\n",
    "    submission_url = \"https://api.pushshift.io/reddit/search/submission/\"\n",
    "    paramdict = {'after': \"1d\",\"subreddit\":\"destinythegame\"}\n",
    "    response = requests.get(url=submission_url, params= paramdict).json()\n",
    "    response_data = response[\"data\"]\n",
    "    results = []\n",
    "    for x in response_data:\n",
    "        temp = {}\n",
    "        temp[\"title\"]=x[\"title\"].strip()\n",
    "        temp[\"author\"]=x[\"author\"].strip()\n",
    "        temp[\"url\"] = x[\"url\"].strip()\n",
    "        temp[\"num_comments\"]=x[\"num_comments\"]\n",
    "        temp[\"id\"]=x[\"id\"].strip()\n",
    "        temp['text'] = x['selftext'].strip()\n",
    "        results.append(temp)\n",
    "    return results\n",
    "\n",
    "def text_splitter(text):\n",
    "    l = text.split()\n",
    "    n = len(l)\n",
    "    i = 0\n",
    "    x = 1\n",
    "    results = {'results1':'', 'results2':'', 'results3':'', 'results4':''}\n",
    "    while i < n:\n",
    "        if (n- i) >= 20:\n",
    "            r = 'results'+str(x)\n",
    "            results[r]=' '.join(l[i:i+20])\n",
    "            i = i+20\n",
    "            x += 1\n",
    "        else:\n",
    "            r = 'results'+str(x)\n",
    "            results[r]= ' '.join(l[i:i+(n-i)])\n",
    "            break\n",
    "    return results['results1'], results['results2'], results['results3'], results['results4']\n",
    "         \n",
    "\n",
    "def get_submissions_df(subreddit, **kwargs):\n",
    "    #returns a list of dictionaries each reresenting 1 of the top 5 submissions from dtg from last day\n",
    "    submission_url = \"https://api.pushshift.io/reddit/search/submission/\"\n",
    "    kwargs['subreddit']=subreddit\n",
    "    response = requests.get(url=submission_url, params=kwargs).json()\n",
    "    response_data = response[\"data\"]\n",
    "    results = []\n",
    "    if len(response_data) < 1:\n",
    "        return None\n",
    "    for x in response_data:\n",
    "        try:\n",
    "            if isinstance(x['selftext'], str):\n",
    "                temp = {}\n",
    "                temp[\"title\"]=x[\"title\"].strip()\n",
    "                temp[\"author\"]=x[\"author\"].strip()\n",
    "                temp[\"url\"] = x[\"url\"].strip()\n",
    "                temp[\"num_comments\"]=x[\"num_comments\"]\n",
    "                temp[\"id\"]=x[\"id\"].strip()\n",
    "                temp['text'] = x['selftext'].strip()\n",
    "                temp['post_length'] = len(x['selftext'].split())\n",
    "                temp['date'] = pd.to_datetime(x['created_utc'], unit='s')\n",
    "                results.append(temp)\n",
    "        except:\n",
    "            pass\n",
    "    df = pd.DataFrame.from_dict(results)\n",
    "    df = df[df.text != '[removed]']\n",
    "    df = df[df.post_length > 10]\n",
    "    df['polarity'], df['subjectivity'] = zip(*df['text'].map(analyze_comment))\n",
    "    df['sentiment'] = df.apply(lambda x: 'positive' if x['polarity'] > 0 else 'negative', axis=1)\n",
    "    df['subreddit'] = subreddit\n",
    "    return df\n",
    "\n",
    "\n",
    "    "
   ]
  },
  {
   "cell_type": "code",
   "execution_count": 94,
   "metadata": {},
   "outputs": [
    {
     "data": {
      "application/vnd.plotly.v1+json": {
       "config": {
        "plotlyServerURL": "https://plot.ly"
       },
       "data": [
        {
         "alignmentgroup": "True",
         "hoverlabel": {
          "namelength": 0
         },
         "hovertemplate": "date=%{x}<br>number posts=%{y}",
         "legendgroup": "",
         "marker": {
          "color": "#636efa"
         },
         "name": "",
         "offsetgroup": "",
         "orientation": "v",
         "showlegend": false,
         "textposition": "auto",
         "type": "bar",
         "x": [
          "2019-12-29",
          "2019-12-30",
          "2019-12-31",
          "2020-01-01",
          "2020-01-02"
         ],
         "xaxis": "x",
         "y": [
          476,
          549,
          581,
          412,
          290
         ],
         "yaxis": "y"
        }
       ],
       "layout": {
        "barmode": "group",
        "legend": {
         "tracegroupgap": 0
        },
        "template": {
         "data": {
          "bar": [
           {
            "error_x": {
             "color": "#2a3f5f"
            },
            "error_y": {
             "color": "#2a3f5f"
            },
            "marker": {
             "line": {
              "color": "#E5ECF6",
              "width": 0.5
             }
            },
            "type": "bar"
           }
          ],
          "barpolar": [
           {
            "marker": {
             "line": {
              "color": "#E5ECF6",
              "width": 0.5
             }
            },
            "type": "barpolar"
           }
          ],
          "carpet": [
           {
            "aaxis": {
             "endlinecolor": "#2a3f5f",
             "gridcolor": "white",
             "linecolor": "white",
             "minorgridcolor": "white",
             "startlinecolor": "#2a3f5f"
            },
            "baxis": {
             "endlinecolor": "#2a3f5f",
             "gridcolor": "white",
             "linecolor": "white",
             "minorgridcolor": "white",
             "startlinecolor": "#2a3f5f"
            },
            "type": "carpet"
           }
          ],
          "choropleth": [
           {
            "colorbar": {
             "outlinewidth": 0,
             "ticks": ""
            },
            "type": "choropleth"
           }
          ],
          "contour": [
           {
            "colorbar": {
             "outlinewidth": 0,
             "ticks": ""
            },
            "colorscale": [
             [
              0,
              "#0d0887"
             ],
             [
              0.1111111111111111,
              "#46039f"
             ],
             [
              0.2222222222222222,
              "#7201a8"
             ],
             [
              0.3333333333333333,
              "#9c179e"
             ],
             [
              0.4444444444444444,
              "#bd3786"
             ],
             [
              0.5555555555555556,
              "#d8576b"
             ],
             [
              0.6666666666666666,
              "#ed7953"
             ],
             [
              0.7777777777777778,
              "#fb9f3a"
             ],
             [
              0.8888888888888888,
              "#fdca26"
             ],
             [
              1,
              "#f0f921"
             ]
            ],
            "type": "contour"
           }
          ],
          "contourcarpet": [
           {
            "colorbar": {
             "outlinewidth": 0,
             "ticks": ""
            },
            "type": "contourcarpet"
           }
          ],
          "heatmap": [
           {
            "colorbar": {
             "outlinewidth": 0,
             "ticks": ""
            },
            "colorscale": [
             [
              0,
              "#0d0887"
             ],
             [
              0.1111111111111111,
              "#46039f"
             ],
             [
              0.2222222222222222,
              "#7201a8"
             ],
             [
              0.3333333333333333,
              "#9c179e"
             ],
             [
              0.4444444444444444,
              "#bd3786"
             ],
             [
              0.5555555555555556,
              "#d8576b"
             ],
             [
              0.6666666666666666,
              "#ed7953"
             ],
             [
              0.7777777777777778,
              "#fb9f3a"
             ],
             [
              0.8888888888888888,
              "#fdca26"
             ],
             [
              1,
              "#f0f921"
             ]
            ],
            "type": "heatmap"
           }
          ],
          "heatmapgl": [
           {
            "colorbar": {
             "outlinewidth": 0,
             "ticks": ""
            },
            "colorscale": [
             [
              0,
              "#0d0887"
             ],
             [
              0.1111111111111111,
              "#46039f"
             ],
             [
              0.2222222222222222,
              "#7201a8"
             ],
             [
              0.3333333333333333,
              "#9c179e"
             ],
             [
              0.4444444444444444,
              "#bd3786"
             ],
             [
              0.5555555555555556,
              "#d8576b"
             ],
             [
              0.6666666666666666,
              "#ed7953"
             ],
             [
              0.7777777777777778,
              "#fb9f3a"
             ],
             [
              0.8888888888888888,
              "#fdca26"
             ],
             [
              1,
              "#f0f921"
             ]
            ],
            "type": "heatmapgl"
           }
          ],
          "histogram": [
           {
            "marker": {
             "colorbar": {
              "outlinewidth": 0,
              "ticks": ""
             }
            },
            "type": "histogram"
           }
          ],
          "histogram2d": [
           {
            "colorbar": {
             "outlinewidth": 0,
             "ticks": ""
            },
            "colorscale": [
             [
              0,
              "#0d0887"
             ],
             [
              0.1111111111111111,
              "#46039f"
             ],
             [
              0.2222222222222222,
              "#7201a8"
             ],
             [
              0.3333333333333333,
              "#9c179e"
             ],
             [
              0.4444444444444444,
              "#bd3786"
             ],
             [
              0.5555555555555556,
              "#d8576b"
             ],
             [
              0.6666666666666666,
              "#ed7953"
             ],
             [
              0.7777777777777778,
              "#fb9f3a"
             ],
             [
              0.8888888888888888,
              "#fdca26"
             ],
             [
              1,
              "#f0f921"
             ]
            ],
            "type": "histogram2d"
           }
          ],
          "histogram2dcontour": [
           {
            "colorbar": {
             "outlinewidth": 0,
             "ticks": ""
            },
            "colorscale": [
             [
              0,
              "#0d0887"
             ],
             [
              0.1111111111111111,
              "#46039f"
             ],
             [
              0.2222222222222222,
              "#7201a8"
             ],
             [
              0.3333333333333333,
              "#9c179e"
             ],
             [
              0.4444444444444444,
              "#bd3786"
             ],
             [
              0.5555555555555556,
              "#d8576b"
             ],
             [
              0.6666666666666666,
              "#ed7953"
             ],
             [
              0.7777777777777778,
              "#fb9f3a"
             ],
             [
              0.8888888888888888,
              "#fdca26"
             ],
             [
              1,
              "#f0f921"
             ]
            ],
            "type": "histogram2dcontour"
           }
          ],
          "mesh3d": [
           {
            "colorbar": {
             "outlinewidth": 0,
             "ticks": ""
            },
            "type": "mesh3d"
           }
          ],
          "parcoords": [
           {
            "line": {
             "colorbar": {
              "outlinewidth": 0,
              "ticks": ""
             }
            },
            "type": "parcoords"
           }
          ],
          "pie": [
           {
            "automargin": true,
            "type": "pie"
           }
          ],
          "scatter": [
           {
            "marker": {
             "colorbar": {
              "outlinewidth": 0,
              "ticks": ""
             }
            },
            "type": "scatter"
           }
          ],
          "scatter3d": [
           {
            "line": {
             "colorbar": {
              "outlinewidth": 0,
              "ticks": ""
             }
            },
            "marker": {
             "colorbar": {
              "outlinewidth": 0,
              "ticks": ""
             }
            },
            "type": "scatter3d"
           }
          ],
          "scattercarpet": [
           {
            "marker": {
             "colorbar": {
              "outlinewidth": 0,
              "ticks": ""
             }
            },
            "type": "scattercarpet"
           }
          ],
          "scattergeo": [
           {
            "marker": {
             "colorbar": {
              "outlinewidth": 0,
              "ticks": ""
             }
            },
            "type": "scattergeo"
           }
          ],
          "scattergl": [
           {
            "marker": {
             "colorbar": {
              "outlinewidth": 0,
              "ticks": ""
             }
            },
            "type": "scattergl"
           }
          ],
          "scattermapbox": [
           {
            "marker": {
             "colorbar": {
              "outlinewidth": 0,
              "ticks": ""
             }
            },
            "type": "scattermapbox"
           }
          ],
          "scatterpolar": [
           {
            "marker": {
             "colorbar": {
              "outlinewidth": 0,
              "ticks": ""
             }
            },
            "type": "scatterpolar"
           }
          ],
          "scatterpolargl": [
           {
            "marker": {
             "colorbar": {
              "outlinewidth": 0,
              "ticks": ""
             }
            },
            "type": "scatterpolargl"
           }
          ],
          "scatterternary": [
           {
            "marker": {
             "colorbar": {
              "outlinewidth": 0,
              "ticks": ""
             }
            },
            "type": "scatterternary"
           }
          ],
          "surface": [
           {
            "colorbar": {
             "outlinewidth": 0,
             "ticks": ""
            },
            "colorscale": [
             [
              0,
              "#0d0887"
             ],
             [
              0.1111111111111111,
              "#46039f"
             ],
             [
              0.2222222222222222,
              "#7201a8"
             ],
             [
              0.3333333333333333,
              "#9c179e"
             ],
             [
              0.4444444444444444,
              "#bd3786"
             ],
             [
              0.5555555555555556,
              "#d8576b"
             ],
             [
              0.6666666666666666,
              "#ed7953"
             ],
             [
              0.7777777777777778,
              "#fb9f3a"
             ],
             [
              0.8888888888888888,
              "#fdca26"
             ],
             [
              1,
              "#f0f921"
             ]
            ],
            "type": "surface"
           }
          ],
          "table": [
           {
            "cells": {
             "fill": {
              "color": "#EBF0F8"
             },
             "line": {
              "color": "white"
             }
            },
            "header": {
             "fill": {
              "color": "#C8D4E3"
             },
             "line": {
              "color": "white"
             }
            },
            "type": "table"
           }
          ]
         },
         "layout": {
          "annotationdefaults": {
           "arrowcolor": "#2a3f5f",
           "arrowhead": 0,
           "arrowwidth": 1
          },
          "coloraxis": {
           "colorbar": {
            "outlinewidth": 0,
            "ticks": ""
           }
          },
          "colorscale": {
           "diverging": [
            [
             0,
             "#8e0152"
            ],
            [
             0.1,
             "#c51b7d"
            ],
            [
             0.2,
             "#de77ae"
            ],
            [
             0.3,
             "#f1b6da"
            ],
            [
             0.4,
             "#fde0ef"
            ],
            [
             0.5,
             "#f7f7f7"
            ],
            [
             0.6,
             "#e6f5d0"
            ],
            [
             0.7,
             "#b8e186"
            ],
            [
             0.8,
             "#7fbc41"
            ],
            [
             0.9,
             "#4d9221"
            ],
            [
             1,
             "#276419"
            ]
           ],
           "sequential": [
            [
             0,
             "#0d0887"
            ],
            [
             0.1111111111111111,
             "#46039f"
            ],
            [
             0.2222222222222222,
             "#7201a8"
            ],
            [
             0.3333333333333333,
             "#9c179e"
            ],
            [
             0.4444444444444444,
             "#bd3786"
            ],
            [
             0.5555555555555556,
             "#d8576b"
            ],
            [
             0.6666666666666666,
             "#ed7953"
            ],
            [
             0.7777777777777778,
             "#fb9f3a"
            ],
            [
             0.8888888888888888,
             "#fdca26"
            ],
            [
             1,
             "#f0f921"
            ]
           ],
           "sequentialminus": [
            [
             0,
             "#0d0887"
            ],
            [
             0.1111111111111111,
             "#46039f"
            ],
            [
             0.2222222222222222,
             "#7201a8"
            ],
            [
             0.3333333333333333,
             "#9c179e"
            ],
            [
             0.4444444444444444,
             "#bd3786"
            ],
            [
             0.5555555555555556,
             "#d8576b"
            ],
            [
             0.6666666666666666,
             "#ed7953"
            ],
            [
             0.7777777777777778,
             "#fb9f3a"
            ],
            [
             0.8888888888888888,
             "#fdca26"
            ],
            [
             1,
             "#f0f921"
            ]
           ]
          },
          "colorway": [
           "#636efa",
           "#EF553B",
           "#00cc96",
           "#ab63fa",
           "#FFA15A",
           "#19d3f3",
           "#FF6692",
           "#B6E880",
           "#FF97FF",
           "#FECB52"
          ],
          "font": {
           "color": "#2a3f5f"
          },
          "geo": {
           "bgcolor": "white",
           "lakecolor": "white",
           "landcolor": "#E5ECF6",
           "showlakes": true,
           "showland": true,
           "subunitcolor": "white"
          },
          "hoverlabel": {
           "align": "left"
          },
          "hovermode": "closest",
          "mapbox": {
           "style": "light"
          },
          "paper_bgcolor": "white",
          "plot_bgcolor": "#E5ECF6",
          "polar": {
           "angularaxis": {
            "gridcolor": "white",
            "linecolor": "white",
            "ticks": ""
           },
           "bgcolor": "#E5ECF6",
           "radialaxis": {
            "gridcolor": "white",
            "linecolor": "white",
            "ticks": ""
           }
          },
          "scene": {
           "xaxis": {
            "backgroundcolor": "#E5ECF6",
            "gridcolor": "white",
            "gridwidth": 2,
            "linecolor": "white",
            "showbackground": true,
            "ticks": "",
            "zerolinecolor": "white"
           },
           "yaxis": {
            "backgroundcolor": "#E5ECF6",
            "gridcolor": "white",
            "gridwidth": 2,
            "linecolor": "white",
            "showbackground": true,
            "ticks": "",
            "zerolinecolor": "white"
           },
           "zaxis": {
            "backgroundcolor": "#E5ECF6",
            "gridcolor": "white",
            "gridwidth": 2,
            "linecolor": "white",
            "showbackground": true,
            "ticks": "",
            "zerolinecolor": "white"
           }
          },
          "shapedefaults": {
           "line": {
            "color": "#2a3f5f"
           }
          },
          "ternary": {
           "aaxis": {
            "gridcolor": "white",
            "linecolor": "white",
            "ticks": ""
           },
           "baxis": {
            "gridcolor": "white",
            "linecolor": "white",
            "ticks": ""
           },
           "bgcolor": "#E5ECF6",
           "caxis": {
            "gridcolor": "white",
            "linecolor": "white",
            "ticks": ""
           }
          },
          "title": {
           "x": 0.05
          },
          "xaxis": {
           "automargin": true,
           "gridcolor": "white",
           "linecolor": "white",
           "ticks": "",
           "title": {
            "standoff": 15
           },
           "zerolinecolor": "white",
           "zerolinewidth": 2
          },
          "yaxis": {
           "automargin": true,
           "gridcolor": "white",
           "linecolor": "white",
           "ticks": "",
           "title": {
            "standoff": 15
           },
           "zerolinecolor": "white",
           "zerolinewidth": 2
          }
         }
        },
        "title": {
         "text": "Posts per days for last 5 days"
        },
        "xaxis": {
         "anchor": "y",
         "domain": [
          0,
          1
         ],
         "title": {
          "text": "date"
         }
        },
        "yaxis": {
         "anchor": "x",
         "domain": [
          0,
          1
         ],
         "title": {
          "text": "number posts"
         }
        }
       }
      },
      "text/html": [
       "<div>\n",
       "        \n",
       "        \n",
       "            <div id=\"284aab2f-bc67-4758-bc17-a61869eab11f\" class=\"plotly-graph-div\" style=\"height:525px; width:100%;\"></div>\n",
       "            <script type=\"text/javascript\">\n",
       "                require([\"plotly\"], function(Plotly) {\n",
       "                    window.PLOTLYENV=window.PLOTLYENV || {};\n",
       "                    \n",
       "                if (document.getElementById(\"284aab2f-bc67-4758-bc17-a61869eab11f\")) {\n",
       "                    Plotly.newPlot(\n",
       "                        '284aab2f-bc67-4758-bc17-a61869eab11f',\n",
       "                        [{\"alignmentgroup\": \"True\", \"hoverlabel\": {\"namelength\": 0}, \"hovertemplate\": \"date=%{x}<br>number posts=%{y}\", \"legendgroup\": \"\", \"marker\": {\"color\": \"#636efa\"}, \"name\": \"\", \"offsetgroup\": \"\", \"orientation\": \"v\", \"showlegend\": false, \"textposition\": \"auto\", \"type\": \"bar\", \"x\": [\"2019-12-29\", \"2019-12-30\", \"2019-12-31\", \"2020-01-01\", \"2020-01-02\"], \"xaxis\": \"x\", \"y\": [476, 549, 581, 412, 290], \"yaxis\": \"y\"}],\n",
       "                        {\"barmode\": \"group\", \"legend\": {\"tracegroupgap\": 0}, \"template\": {\"data\": {\"bar\": [{\"error_x\": {\"color\": \"#2a3f5f\"}, \"error_y\": {\"color\": \"#2a3f5f\"}, \"marker\": {\"line\": {\"color\": \"#E5ECF6\", \"width\": 0.5}}, \"type\": \"bar\"}], \"barpolar\": [{\"marker\": {\"line\": {\"color\": \"#E5ECF6\", \"width\": 0.5}}, \"type\": \"barpolar\"}], \"carpet\": [{\"aaxis\": {\"endlinecolor\": \"#2a3f5f\", \"gridcolor\": \"white\", \"linecolor\": \"white\", \"minorgridcolor\": \"white\", \"startlinecolor\": \"#2a3f5f\"}, \"baxis\": {\"endlinecolor\": \"#2a3f5f\", \"gridcolor\": \"white\", \"linecolor\": \"white\", \"minorgridcolor\": \"white\", \"startlinecolor\": \"#2a3f5f\"}, \"type\": \"carpet\"}], \"choropleth\": [{\"colorbar\": {\"outlinewidth\": 0, \"ticks\": \"\"}, \"type\": \"choropleth\"}], \"contour\": [{\"colorbar\": {\"outlinewidth\": 0, \"ticks\": \"\"}, \"colorscale\": [[0.0, \"#0d0887\"], [0.1111111111111111, \"#46039f\"], [0.2222222222222222, \"#7201a8\"], [0.3333333333333333, \"#9c179e\"], [0.4444444444444444, \"#bd3786\"], [0.5555555555555556, \"#d8576b\"], [0.6666666666666666, \"#ed7953\"], [0.7777777777777778, \"#fb9f3a\"], [0.8888888888888888, \"#fdca26\"], [1.0, \"#f0f921\"]], \"type\": \"contour\"}], \"contourcarpet\": [{\"colorbar\": {\"outlinewidth\": 0, \"ticks\": \"\"}, \"type\": \"contourcarpet\"}], \"heatmap\": [{\"colorbar\": {\"outlinewidth\": 0, \"ticks\": \"\"}, \"colorscale\": [[0.0, \"#0d0887\"], [0.1111111111111111, \"#46039f\"], [0.2222222222222222, \"#7201a8\"], [0.3333333333333333, \"#9c179e\"], [0.4444444444444444, \"#bd3786\"], [0.5555555555555556, \"#d8576b\"], [0.6666666666666666, \"#ed7953\"], [0.7777777777777778, \"#fb9f3a\"], [0.8888888888888888, \"#fdca26\"], [1.0, \"#f0f921\"]], \"type\": \"heatmap\"}], \"heatmapgl\": [{\"colorbar\": {\"outlinewidth\": 0, \"ticks\": \"\"}, \"colorscale\": [[0.0, \"#0d0887\"], [0.1111111111111111, \"#46039f\"], [0.2222222222222222, \"#7201a8\"], [0.3333333333333333, \"#9c179e\"], [0.4444444444444444, \"#bd3786\"], [0.5555555555555556, \"#d8576b\"], [0.6666666666666666, \"#ed7953\"], [0.7777777777777778, \"#fb9f3a\"], [0.8888888888888888, \"#fdca26\"], [1.0, \"#f0f921\"]], \"type\": \"heatmapgl\"}], \"histogram\": [{\"marker\": {\"colorbar\": {\"outlinewidth\": 0, \"ticks\": \"\"}}, \"type\": \"histogram\"}], \"histogram2d\": [{\"colorbar\": {\"outlinewidth\": 0, \"ticks\": \"\"}, \"colorscale\": [[0.0, \"#0d0887\"], [0.1111111111111111, \"#46039f\"], [0.2222222222222222, \"#7201a8\"], [0.3333333333333333, \"#9c179e\"], [0.4444444444444444, \"#bd3786\"], [0.5555555555555556, \"#d8576b\"], [0.6666666666666666, \"#ed7953\"], [0.7777777777777778, \"#fb9f3a\"], [0.8888888888888888, \"#fdca26\"], [1.0, \"#f0f921\"]], \"type\": \"histogram2d\"}], \"histogram2dcontour\": [{\"colorbar\": {\"outlinewidth\": 0, \"ticks\": \"\"}, \"colorscale\": [[0.0, \"#0d0887\"], [0.1111111111111111, \"#46039f\"], [0.2222222222222222, \"#7201a8\"], [0.3333333333333333, \"#9c179e\"], [0.4444444444444444, \"#bd3786\"], [0.5555555555555556, \"#d8576b\"], [0.6666666666666666, \"#ed7953\"], [0.7777777777777778, \"#fb9f3a\"], [0.8888888888888888, \"#fdca26\"], [1.0, \"#f0f921\"]], \"type\": \"histogram2dcontour\"}], \"mesh3d\": [{\"colorbar\": {\"outlinewidth\": 0, \"ticks\": \"\"}, \"type\": \"mesh3d\"}], \"parcoords\": [{\"line\": {\"colorbar\": {\"outlinewidth\": 0, \"ticks\": \"\"}}, \"type\": \"parcoords\"}], \"pie\": [{\"automargin\": true, \"type\": \"pie\"}], \"scatter\": [{\"marker\": {\"colorbar\": {\"outlinewidth\": 0, \"ticks\": \"\"}}, \"type\": \"scatter\"}], \"scatter3d\": [{\"line\": {\"colorbar\": {\"outlinewidth\": 0, \"ticks\": \"\"}}, \"marker\": {\"colorbar\": {\"outlinewidth\": 0, \"ticks\": \"\"}}, \"type\": \"scatter3d\"}], \"scattercarpet\": [{\"marker\": {\"colorbar\": {\"outlinewidth\": 0, \"ticks\": \"\"}}, \"type\": \"scattercarpet\"}], \"scattergeo\": [{\"marker\": {\"colorbar\": {\"outlinewidth\": 0, \"ticks\": \"\"}}, \"type\": \"scattergeo\"}], \"scattergl\": [{\"marker\": {\"colorbar\": {\"outlinewidth\": 0, \"ticks\": \"\"}}, \"type\": \"scattergl\"}], \"scattermapbox\": [{\"marker\": {\"colorbar\": {\"outlinewidth\": 0, \"ticks\": \"\"}}, \"type\": \"scattermapbox\"}], \"scatterpolar\": [{\"marker\": {\"colorbar\": {\"outlinewidth\": 0, \"ticks\": \"\"}}, \"type\": \"scatterpolar\"}], \"scatterpolargl\": [{\"marker\": {\"colorbar\": {\"outlinewidth\": 0, \"ticks\": \"\"}}, \"type\": \"scatterpolargl\"}], \"scatterternary\": [{\"marker\": {\"colorbar\": {\"outlinewidth\": 0, \"ticks\": \"\"}}, \"type\": \"scatterternary\"}], \"surface\": [{\"colorbar\": {\"outlinewidth\": 0, \"ticks\": \"\"}, \"colorscale\": [[0.0, \"#0d0887\"], [0.1111111111111111, \"#46039f\"], [0.2222222222222222, \"#7201a8\"], [0.3333333333333333, \"#9c179e\"], [0.4444444444444444, \"#bd3786\"], [0.5555555555555556, \"#d8576b\"], [0.6666666666666666, \"#ed7953\"], [0.7777777777777778, \"#fb9f3a\"], [0.8888888888888888, \"#fdca26\"], [1.0, \"#f0f921\"]], \"type\": \"surface\"}], \"table\": [{\"cells\": {\"fill\": {\"color\": \"#EBF0F8\"}, \"line\": {\"color\": \"white\"}}, \"header\": {\"fill\": {\"color\": \"#C8D4E3\"}, \"line\": {\"color\": \"white\"}}, \"type\": \"table\"}]}, \"layout\": {\"annotationdefaults\": {\"arrowcolor\": \"#2a3f5f\", \"arrowhead\": 0, \"arrowwidth\": 1}, \"coloraxis\": {\"colorbar\": {\"outlinewidth\": 0, \"ticks\": \"\"}}, \"colorscale\": {\"diverging\": [[0, \"#8e0152\"], [0.1, \"#c51b7d\"], [0.2, \"#de77ae\"], [0.3, \"#f1b6da\"], [0.4, \"#fde0ef\"], [0.5, \"#f7f7f7\"], [0.6, \"#e6f5d0\"], [0.7, \"#b8e186\"], [0.8, \"#7fbc41\"], [0.9, \"#4d9221\"], [1, \"#276419\"]], \"sequential\": [[0.0, \"#0d0887\"], [0.1111111111111111, \"#46039f\"], [0.2222222222222222, \"#7201a8\"], [0.3333333333333333, \"#9c179e\"], [0.4444444444444444, \"#bd3786\"], [0.5555555555555556, \"#d8576b\"], [0.6666666666666666, \"#ed7953\"], [0.7777777777777778, \"#fb9f3a\"], [0.8888888888888888, \"#fdca26\"], [1.0, \"#f0f921\"]], \"sequentialminus\": [[0.0, \"#0d0887\"], [0.1111111111111111, \"#46039f\"], [0.2222222222222222, \"#7201a8\"], [0.3333333333333333, \"#9c179e\"], [0.4444444444444444, \"#bd3786\"], [0.5555555555555556, \"#d8576b\"], [0.6666666666666666, \"#ed7953\"], [0.7777777777777778, \"#fb9f3a\"], [0.8888888888888888, \"#fdca26\"], [1.0, \"#f0f921\"]]}, \"colorway\": [\"#636efa\", \"#EF553B\", \"#00cc96\", \"#ab63fa\", \"#FFA15A\", \"#19d3f3\", \"#FF6692\", \"#B6E880\", \"#FF97FF\", \"#FECB52\"], \"font\": {\"color\": \"#2a3f5f\"}, \"geo\": {\"bgcolor\": \"white\", \"lakecolor\": \"white\", \"landcolor\": \"#E5ECF6\", \"showlakes\": true, \"showland\": true, \"subunitcolor\": \"white\"}, \"hoverlabel\": {\"align\": \"left\"}, \"hovermode\": \"closest\", \"mapbox\": {\"style\": \"light\"}, \"paper_bgcolor\": \"white\", \"plot_bgcolor\": \"#E5ECF6\", \"polar\": {\"angularaxis\": {\"gridcolor\": \"white\", \"linecolor\": \"white\", \"ticks\": \"\"}, \"bgcolor\": \"#E5ECF6\", \"radialaxis\": {\"gridcolor\": \"white\", \"linecolor\": \"white\", \"ticks\": \"\"}}, \"scene\": {\"xaxis\": {\"backgroundcolor\": \"#E5ECF6\", \"gridcolor\": \"white\", \"gridwidth\": 2, \"linecolor\": \"white\", \"showbackground\": true, \"ticks\": \"\", \"zerolinecolor\": \"white\"}, \"yaxis\": {\"backgroundcolor\": \"#E5ECF6\", \"gridcolor\": \"white\", \"gridwidth\": 2, \"linecolor\": \"white\", \"showbackground\": true, \"ticks\": \"\", \"zerolinecolor\": \"white\"}, \"zaxis\": {\"backgroundcolor\": \"#E5ECF6\", \"gridcolor\": \"white\", \"gridwidth\": 2, \"linecolor\": \"white\", \"showbackground\": true, \"ticks\": \"\", \"zerolinecolor\": \"white\"}}, \"shapedefaults\": {\"line\": {\"color\": \"#2a3f5f\"}}, \"ternary\": {\"aaxis\": {\"gridcolor\": \"white\", \"linecolor\": \"white\", \"ticks\": \"\"}, \"baxis\": {\"gridcolor\": \"white\", \"linecolor\": \"white\", \"ticks\": \"\"}, \"bgcolor\": \"#E5ECF6\", \"caxis\": {\"gridcolor\": \"white\", \"linecolor\": \"white\", \"ticks\": \"\"}}, \"title\": {\"x\": 0.05}, \"xaxis\": {\"automargin\": true, \"gridcolor\": \"white\", \"linecolor\": \"white\", \"ticks\": \"\", \"title\": {\"standoff\": 15}, \"zerolinecolor\": \"white\", \"zerolinewidth\": 2}, \"yaxis\": {\"automargin\": true, \"gridcolor\": \"white\", \"linecolor\": \"white\", \"ticks\": \"\", \"title\": {\"standoff\": 15}, \"zerolinecolor\": \"white\", \"zerolinewidth\": 2}}}, \"title\": {\"text\": \"Posts per days for last 5 days\"}, \"xaxis\": {\"anchor\": \"y\", \"domain\": [0.0, 1.0], \"title\": {\"text\": \"date\"}}, \"yaxis\": {\"anchor\": \"x\", \"domain\": [0.0, 1.0], \"title\": {\"text\": \"number posts\"}}},\n",
       "                        {\"responsive\": true}\n",
       "                    ).then(function(){\n",
       "                            \n",
       "var gd = document.getElementById('284aab2f-bc67-4758-bc17-a61869eab11f');\n",
       "var x = new MutationObserver(function (mutations, observer) {{\n",
       "        var display = window.getComputedStyle(gd).display;\n",
       "        if (!display || display === 'none') {{\n",
       "            console.log([gd, 'removed!']);\n",
       "            Plotly.purge(gd);\n",
       "            observer.disconnect();\n",
       "        }}\n",
       "}});\n",
       "\n",
       "// Listen for the removal of the full notebook cells\n",
       "var notebookContainer = gd.closest('#notebook-container');\n",
       "if (notebookContainer) {{\n",
       "    x.observe(notebookContainer, {childList: true});\n",
       "}}\n",
       "\n",
       "// Listen for the clearing of the current output cell\n",
       "var outputEl = gd.closest('.output');\n",
       "if (outputEl) {{\n",
       "    x.observe(outputEl, {childList: true});\n",
       "}}\n",
       "\n",
       "                        })\n",
       "                };\n",
       "                });\n",
       "            </script>\n",
       "        </div>"
      ]
     },
     "metadata": {},
     "output_type": "display_data"
    }
   ],
   "source": [
    "#####OUTPUT 3#####\n",
    "#functions----------------\n",
    "#note, create a 'all' option for subreddit that will compare all 4 \n",
    "def get_posts_aggs(subreddit, aggs, freq, days):\n",
    "    params_dict = {'after':str(days)+'d','subreddit':subreddit,\n",
    "                   'size':'0','fields':'aggs','aggs':aggs}\n",
    "    params_dict['frequency']=freq\n",
    "    submission_url = \"https://api.pushshift.io/reddit/search/submission/\"\n",
    "    response = requests.get(url=submission_url, params=params_dict).json()\n",
    "    response_data = response[\"aggs\"][aggs]\n",
    "    df = pd.DataFrame.from_dict(response_data)\n",
    "    return df\n",
    "\n",
    "def plot_posts_per_day(df, freq, days):\n",
    "\n",
    "    def fun(x):\n",
    "        thedate, thetime = str(x).split()\n",
    "        year, month, day = thedate.split('-')\n",
    "        hour, minute, second = thetime.split(':')\n",
    "        if freq is 'days':\n",
    "            return f'{year}-{month}-{day}'\n",
    "        elif freq is 'hour':\n",
    "            return f'{year}-{month}-{day} {hour}'\n",
    "        elif freq is 'minute':\n",
    "            return  f'{year}-{month}-{day} {hour}:{minute}'\n",
    "        else :\n",
    "            return  f'{year}-{month}-{day} {hour}:{minute}:{second}'\n",
    "    df['date'] = pd.to_datetime(df['key'], unit='s')\n",
    "    df['date'] = df['date'].apply(fun)\n",
    "    fig = px.bar(df, x='date',\n",
    "                 y ='doc_count',\n",
    "                 barmode='group',\n",
    "                 labels={'doc_count':'number posts'},\n",
    "                 title=f'Posts per {freq} for last {days} days')\n",
    "    return fig.show()\n",
    "\n",
    "\n",
    "df = get_posts_aggs('destinythegame', aggs='created_utc', freq='days', days=5)\n",
    "\n",
    "plot_posts_per_day(df, 'days', 5)"
   ]
  },
  {
   "cell_type": "code",
   "execution_count": 97,
   "metadata": {},
   "outputs": [
    {
     "data": {
      "application/vnd.jupyter.widget-view+json": {
       "model_id": "8857b6c82fa6442e8ecb90a42a892027",
       "version_major": 2,
       "version_minor": 0
      },
      "text/plain": [
       "interactive(children=(ToggleButtons(button_style='success', description='Load Chart?', options=(('Off', False)…"
      ]
     },
     "metadata": {},
     "output_type": "display_data"
    },
    {
     "data": {
      "application/vnd.jupyter.widget-view+json": {
       "model_id": "594a65b62815441885bdde303b834c1f",
       "version_major": 2,
       "version_minor": 0
      },
      "text/plain": [
       "Output(layout=Layout(border='4px solid purple'))"
      ]
     },
     "metadata": {},
     "output_type": "display_data"
    }
   ],
   "source": [
    "#####OUTPUT 3#####\n",
    "#functions----------------\n",
    "#note, create a 'all' option for subreddit that will compare all 4 \n",
    "def get_posts_aggs(subreddit, aggs, freq, days):\n",
    "    params_dict = {'after':str(days)+'d','subreddit':subreddit,\n",
    "                   'size':'0','fields':'aggs','aggs':aggs}\n",
    "    params_dict['frequency']=freq\n",
    "    submission_url = \"https://api.pushshift.io/reddit/search/submission/\"\n",
    "    response = requests.get(url=submission_url, params=params_dict).json()\n",
    "    response_data = response[\"aggs\"][aggs]\n",
    "    df = pd.DataFrame.from_dict(response_data)\n",
    "    return df\n",
    "\n",
    "def plot_posts_per_day(subreddit, freq, days):\n",
    "    df = get_posts_aggs(subreddit,'created_utc', freq, days)\n",
    "    \n",
    "    def fun(x):\n",
    "        thedate, thetime = str(x).split()\n",
    "        year, month, day = thedate.split('-')\n",
    "        hour, minute, second = thetime.split(':')\n",
    "        if freq is 'days':\n",
    "            return f'{year}-{month}-{day}'\n",
    "        elif freq is 'hour':\n",
    "            return f'{year}-{month}-{day} {hour}'\n",
    "        elif freq is 'minute':\n",
    "            return  f'{year}-{month}-{day} {hour}:{minute}'\n",
    "        else :\n",
    "            return  f'{year}-{month}-{day} {hour}:{minute}:{second}'\n",
    "\n",
    "    df['date'] = pd.to_datetime(df['key'], unit='s')\n",
    "    df['date'] = df['date'].apply(fun)\n",
    "    fig = px.bar(df, x='date',\n",
    "                 y ='doc_count',\n",
    "                 barmode='group',\n",
    "                 labels={'doc_count':'number posts'},\n",
    "                 title=f'Posts per {freq} for last {days} days')\n",
    "    return fig.show()\n",
    "    \n",
    "    \n",
    "\n",
    "def display_out3(x=False):\n",
    "    if x:\n",
    "        with out3:\n",
    "            o = widgets.interactive(plot_posts_per_day, subreddit= toggle_subs3,\n",
    "                                    days=toggle_days3, freq=toggle_freq3)\n",
    "            display(o)\n",
    "    else:\n",
    "        out3.clear_output()\n",
    "        \n",
    "\n",
    "#widgets------------------------\n",
    "out3 = widgets.Output(layout={'border': '4px solid purple'})\n",
    "\n",
    "wout3 = widgets.ToggleButtons( options=[('Off', False),('On',True)],\n",
    "                          description='Load Chart?',\n",
    "                          disabled=False,\n",
    "                          button_style='success')\n",
    "\n",
    "toggle_subs3 = widgets.Dropdown( options=[('DestinyTheGame', 'destinythegame'),\n",
    "                                               ('Destiny2', 'destiny2'),\n",
    "                                               ('LowSodiumDestiny', 'lowsodiumdestiny'),\n",
    "                                              ('RaidSecrets', 'raidsecrets'),\n",
    "                                              ('CruciblePlaybook', 'crucibleplaybook')],\n",
    "                                value='destinythegame',\n",
    "                          description='Subreddit',\n",
    "                          disabled=False)\n",
    "\n",
    "toggle_days3 = widgets.Dropdown( options=['1', '7', '30', '182', '365'], \n",
    "                          description='Days',\n",
    "                            value = '1',\n",
    "                          disabled=False)\n",
    "\n",
    "toggle_freq3 = widgets.Dropdown( options=[('Day', 'day'),\n",
    "                                               ('Hour', 'hour')],\n",
    "                          description='Frequency',\n",
    "                            value = 'day',\n",
    "                          disabled=False)\n",
    "\n",
    "toggle_aggs3 = widgets.Dropdown( options=[\"author\", \"link_id\", \"created_utc\", \"subreddit\"],\n",
    "                          description='aggs type',\n",
    "                            value = 'author',\n",
    "                          disabled=False)\n",
    "\n",
    "boxv3 = widgets.HBox([toggle_subs3, toggle_freq3, toggle_days3])\n",
    "\n",
    "#display-------------------------\n",
    "widgets.interact(display_out3, x=wout3)\n",
    "display(out3)"
   ]
  },
  {
   "cell_type": "code",
   "execution_count": null,
   "metadata": {},
   "outputs": [],
   "source": [
    "def plot_posts_per_day(subreddit, freq, days):\n",
    "    df = get_posts_aggs(subreddit,'created_utc', freq, days)\n",
    "    \n",
    "    def fun(x):\n",
    "        thedate, thetime = str(x).split()\n",
    "        year, month, day = thedate.split('-')\n",
    "        hour, minute, second = thetime.split(':')\n",
    "        if freq is 'days':\n",
    "            return f'{year}-{month}-{day}'\n",
    "        elif freq is 'hour':\n",
    "            return f'{year}-{month}-{day} {hour}'\n",
    "        elif freq is 'minute':\n",
    "            return  f'{year}-{month}-{day} {hour}:{minute}'\n",
    "        else :\n",
    "            return  f'{year}-{month}-{day} {hour}:{minute}:{second}'\n",
    "\n",
    "    df['date'] = pd.to_datetime(df['key'], unit='s')\n",
    "    df['date'] = df['date'].apply(fun)\n",
    "    fig = px.bar(df, x='date',\n",
    "                 y ='doc_count',\n",
    "                 barmode='group',\n",
    "                 labels={'doc_count':'number posts'},\n",
    "                 title=f'Posts per {freq} for last {days} days')\n",
    "    return fig.show()\n",
    "    \n",
    "    \n",
    "\n",
    "def display_out4(x=False):\n",
    "    if x:\n",
    "        with out4:\n",
    "            o = widgets.interactive(plot_posts_per_day, subreddit= toggle_subs3,\n",
    "                                    days=toggle_days3, freq=toggle_freq3)\n",
    "            display(o)\n",
    "    else:\n",
    "        out3.clear_output()\n",
    "        \n",
    "\n",
    "#widgets------------------------\n",
    "out4 = widgets.Output(layout={'border': '4px solid purple'})\n",
    "\n",
    "wout4 = widgets.ToggleButtons( options=[('Off', False),('On',True)],\n",
    "                          description='Load Chart?',\n",
    "                          disabled=False,\n",
    "                          button_style='success')\n",
    "\n",
    "toggle_subs4 = widgets.Dropdown( options=[('DestinyTheGame', 'destinythegame'),\n",
    "                                               ('Destiny2', 'destiny2'),\n",
    "                                               ('LowSodiumDestiny', 'lowsodiumdestiny'),\n",
    "                                              ('RaidSecrets', 'raidsecrets'),\n",
    "                                              ('CruciblePlaybook', 'crucibleplaybook')],\n",
    "                                value='destinythegame',\n",
    "                          description='Subreddit',\n",
    "                          disabled=False)\n",
    "\n",
    "toggle_days4 = widgets.Dropdown( options=['1', '7', '30', '182', '365'], \n",
    "                          description='Days',\n",
    "                            value = '1',\n",
    "                          disabled=False)\n",
    "\n",
    "toggle_freq4 = widgets.Dropdown( options=[('Day', 'day'),\n",
    "                                               ('Hour', 'hour')],\n",
    "                          description='Frequency',\n",
    "                            value = 'day',\n",
    "                          disabled=False)\n",
    "\n",
    "toggle_aggs4 = widgets.Dropdown( options=[\"author\", \"link_id\", \"created_utc\", \"subreddit\"],\n",
    "                          description='aggs type',\n",
    "                            value = 'author',\n",
    "                          disabled=False)\n",
    "\n",
    "boxv3 = widgets.HBox([toggle_subs4, toggle_freq4, toggle_days4])\n",
    "\n",
    "#display-------------------------\n",
    "widgets.interact(display_out4, x=wout4)\n",
    "display(out4)"
   ]
  },
  {
   "cell_type": "code",
   "execution_count": 41,
   "metadata": {
    "scrolled": false
   },
   "outputs": [
    {
     "data": {
      "application/vnd.plotly.v1+json": {
       "config": {
        "plotlyServerURL": "https://plot.ly"
       },
       "data": [
        {
         "customdata": [
          [
           "Fala_the_Flame",
           "eiqpqk"
          ],
          [
           "Skifer91290",
           "eiqq6i"
          ],
          [
           "Skifer91290",
           "eiqqok"
          ],
          [
           "enaza",
           "eiqrzr"
          ],
          [
           "Neocyte",
           "eiqwci"
          ],
          [
           "MichaelJr787",
           "eiqy5n"
          ],
          [
           "rmbartz",
           "eir1ex"
          ],
          [
           "ben9d2",
           "eir26s"
          ],
          [
           "cavemeister",
           "eir6iu"
          ],
          [
           "HaydiniDaAmazin",
           "eir7f8"
          ],
          [
           "ghawkguy",
           "eir8xw"
          ],
          [
           "ManlyMinotaur90",
           "eirag9"
          ],
          [
           "Fel1xK1NG",
           "eirc93"
          ],
          [
           "Crecendus",
           "eirfab"
          ],
          [
           "rmorg0112",
           "eirh0f"
          ],
          [
           "bysontaco",
           "eirhtw"
          ],
          [
           "bloodphoenixxiii",
           "eirr56"
          ],
          [
           "mitrensu",
           "eiry04"
          ],
          [
           "BadRobot10",
           "eiry5a"
          ],
          [
           "lordantinoob",
           "eirzg2"
          ],
          [
           "Sound_mind",
           "eis0hu"
          ],
          [
           "Soji_Juice",
           "eis4hw"
          ],
          [
           "PratalMox",
           "eis5p5"
          ],
          [
           "sawyerxbox1",
           "eis601"
          ],
          [
           "rezmeihaveghorn",
           "eisfob"
          ],
          [
           "fuze-the-hostage-",
           "eisg8w"
          ],
          [
           "Pattonic",
           "eisgvf"
          ],
          [
           "neck_crow",
           "eisi8f"
          ],
          [
           "freshizdaword",
           "eisiz9"
          ],
          [
           "RichTheKid300",
           "eisoua"
          ],
          [
           "Rod_je",
           "eisp00"
          ],
          [
           "Stewbeef12",
           "eisq00"
          ],
          [
           "FR3AKuency",
           "eisscl"
          ],
          [
           "koyafee",
           "eisw5h"
          ],
          [
           "TheRageCagePro",
           "eisy9g"
          ],
          [
           "MovableFormula",
           "eit35t"
          ],
          [
           "iShredUwU",
           "eit973"
          ],
          [
           "tjac357",
           "eit9a3"
          ],
          [
           "DaBadGuy13",
           "eitbe5"
          ],
          [
           "salty-pretzels",
           "eitdl3"
          ],
          [
           "Al_the_Renegade",
           "eitf2o"
          ],
          [
           "bacterialtrailer",
           "eittgf"
          ],
          [
           "Zeoxhostil",
           "eituxe"
          ],
          [
           "SmashEffect",
           "eitvxy"
          ],
          [
           "Darth_Onaga",
           "eitxhf"
          ],
          [
           "chumly143",
           "eiu4wq"
          ],
          [
           "GreyS550",
           "eiu6kl"
          ],
          [
           "IvanthePotato",
           "eiuaof"
          ],
          [
           "Umbrabyss",
           "eiug4v"
          ],
          [
           "mythmin24",
           "eiullx"
          ],
          [
           "GodKingMussolini",
           "eiuvcx"
          ],
          [
           "Suisyo",
           "eiuwni"
          ],
          [
           "Iamzeek2000",
           "eiux7b"
          ],
          [
           "Needlessspace",
           "eiuyhz"
          ],
          [
           "tracermain12",
           "eiuyva"
          ],
          [
           "vivereFerrari",
           "eiv143"
          ],
          [
           "xCrazedRedneckx",
           "eiv1cm"
          ],
          [
           "YourSaltyTeam",
           "eiv3cf"
          ],
          [
           "twalsh78",
           "eiv50y"
          ],
          [
           "OfficialMemeOfficer",
           "eivbp0"
          ],
          [
           "TheWiltingOrchid",
           "eivjt9"
          ],
          [
           "Goe_Phaste",
           "eivotj"
          ],
          [
           "roguegeek",
           "eivwp6"
          ],
          [
           "vhaztec515054",
           "eiw6xi"
          ],
          [
           "silveraldi",
           "eiwon2"
          ],
          [
           "Fusionking69",
           "eiwow1"
          ],
          [
           "mooseythings",
           "eiwwf0"
          ],
          [
           "Alexander070305",
           "eiwyc7"
          ],
          [
           "Splungus343",
           "eiwzpr"
          ],
          [
           "Alexander070305",
           "eix2nb"
          ],
          [
           "MoMisteries",
           "eix5ck"
          ],
          [
           "InevitableCommittee8",
           "eix5o5"
          ],
          [
           "tonnesofonions",
           "eix7iu"
          ],
          [
           "heidihoeveryone",
           "eixby7"
          ],
          [
           "Hansolo240",
           "eixcq8"
          ],
          [
           "wingsofbehamut",
           "eixi79"
          ],
          [
           "superking101",
           "eixnc7"
          ],
          [
           "LosVeneficus",
           "eixneg"
          ],
          [
           "Chung_bungus",
           "eixu3u"
          ],
          [
           "DTG_Bot",
           "eixyig"
          ],
          [
           "DTG_Bot",
           "eixyjy"
          ],
          [
           "axelemils",
           "eiy2dr"
          ],
          [
           "axelemils",
           "eiy6cw"
          ],
          [
           "varlak02",
           "eiy94c"
          ],
          [
           "Lucavellz",
           "eiycxu"
          ],
          [
           "Talia_Sendua",
           "eiyg20"
          ],
          [
           "Viper_yo",
           "eiykcb"
          ],
          [
           "driveoutthenwahs",
           "eiylmr"
          ],
          [
           "Azothexe",
           "eiym41"
          ],
          [
           "axelemils",
           "eiymv6"
          ],
          [
           "Adranelyne",
           "eiys8q"
          ],
          [
           "destinyvoidlock",
           "eiyszg"
          ],
          [
           "r3life",
           "eiyvwg"
          ],
          [
           "Yuki--San",
           "eiz3wr"
          ],
          [
           "theparttymer247",
           "eiz82v"
          ],
          [
           "ThreatLevelNoonday",
           "eiz9dc"
          ],
          [
           "TizzioCaio",
           "eizdg4"
          ],
          [
           "FalierTheCat",
           "eizdi6"
          ],
          [
           "Jason5500",
           "eizeq8"
          ],
          [
           "Stewbeef12",
           "eizgk2"
          ],
          [
           "saDD3ath",
           "eizhmr"
          ],
          [
           "Talia_Sendua",
           "eizibj"
          ],
          [
           "Soji_Juice",
           "eizikc"
          ],
          [
           "booyazord",
           "eizjy5"
          ],
          [
           "iPostYiffAndStuff",
           "eizkwn"
          ],
          [
           "Mercules904",
           "eizm6l"
          ],
          [
           "OhHolyCrapNo",
           "eizmia"
          ],
          [
           "4M_Mark",
           "eizmwu"
          ],
          [
           "DevastationSarge",
           "eizn1c"
          ],
          [
           "throwaway_lovely",
           "eizqnv"
          ],
          [
           "Acethemain777",
           "eiztp3"
          ],
          [
           "LoboStele",
           "eizvwd"
          ],
          [
           "Offsprngx",
           "eizxf1"
          ],
          [
           "weebkeeb",
           "eizy4e"
          ],
          [
           "carodjah_",
           "eizz3u"
          ],
          [
           "serhitta",
           "ej0048"
          ],
          [
           "ebpicgamer",
           "ej02n0"
          ],
          [
           "LemurreTTV",
           "ej04sz"
          ],
          [
           "fxbeta",
           "ej064d"
          ],
          [
           "DukeMonty",
           "ej0748"
          ],
          [
           "her3sy",
           "ej07vt"
          ],
          [
           "facetious_guardian",
           "ej0932"
          ],
          [
           "AutoriiNovici",
           "ej097i"
          ],
          [
           "QmanFTW",
           "ej09re"
          ],
          [
           "OneEdBoi",
           "ej0d91"
          ],
          [
           "Ramikyn",
           "ej0mnl"
          ],
          [
           "BigOlTittiesOnMyCake",
           "ej0oub"
          ],
          [
           "MrFluffehkins",
           "ej0ovc"
          ],
          [
           "ZilorZilhaust",
           "ej0tjy"
          ],
          [
           "Hypochrisy117",
           "ej0u8g"
          ],
          [
           "DTG_Bot",
           "ej0uql"
          ],
          [
           "SmartieX",
           "ej13u4"
          ],
          [
           "Soundch4ser",
           "ej158d"
          ],
          [
           "ChocolaceArt",
           "ej16wb"
          ],
          [
           "Darudeboy",
           "ej174m"
          ],
          [
           "Nexmel22122212",
           "ej19sz"
          ],
          [
           "PoddyPod",
           "ej19t6"
          ],
          [
           "iconorcz",
           "ej1c97"
          ],
          [
           "ben9d2",
           "ej1cf2"
          ],
          [
           "gammagulp",
           "ej1j5z"
          ]
         ],
         "hoverlabel": {
          "namelength": 0
         },
         "hovertemplate": "sentiment=positive<br>Date Posted=%{x}<br>Post Polarity=%{y}<br>num_comments=%{marker.size}<br>author=%{customdata[0]}<br>id=%{customdata[1]}",
         "legendgroup": "sentiment=positive",
         "marker": {
          "color": "violet",
          "size": [
           1,
           0,
           8,
           1,
           0,
           5,
           8,
           1,
           0,
           2,
           25,
           6,
           5,
           1,
           8,
           4,
           13,
           3,
           25,
           2,
           31,
           4,
           5,
           7,
           13,
           4,
           14,
           17,
           1,
           1,
           17,
           26,
           11,
           1,
           22,
           9,
           3,
           11,
           9,
           5,
           15,
           15,
           2,
           16,
           670,
           1,
           2,
           15,
           4,
           13,
           100,
           3,
           0,
           12,
           37,
           12,
           7,
           16,
           22,
           0,
           2,
           5,
           8,
           6,
           1,
           18,
           2,
           5,
           4,
           9,
           12,
           0,
           6,
           99,
           2,
           2,
           3,
           5,
           9,
           133,
           3,
           11,
           17,
           3,
           4,
           4,
           1,
           0,
           18,
           3,
           8,
           6,
           3,
           5,
           1,
           12,
           9,
           22,
           4,
           164,
           9,
           4,
           20,
           3,
           19,
           40,
           2,
           1,
           10,
           9,
           8,
           2,
           3,
           8,
           12,
           17,
           3,
           38,
           2,
           2,
           6,
           41,
           16,
           9,
           13,
           0,
           7,
           10,
           3,
           9,
           11,
           8,
           1,
           0,
           8,
           2,
           8,
           0,
           2,
           0
          ],
          "sizemode": "area",
          "sizeref": 1.675,
          "symbol": "circle"
         },
         "mode": "markers",
         "name": "sentiment=positive",
         "showlegend": true,
         "type": "scatter",
         "x": [
          "2020-01-02T00:55:46",
          "2020-01-02T00:56:45",
          "2020-01-02T00:57:58",
          "2020-01-02T01:00:58",
          "2020-01-02T01:10:31",
          "2020-01-02T01:14:35",
          "2020-01-02T01:21:58",
          "2020-01-02T01:23:42",
          "2020-01-02T01:33:09",
          "2020-01-02T01:35:11",
          "2020-01-02T01:38:31",
          "2020-01-02T01:41:56",
          "2020-01-02T01:46:00",
          "2020-01-02T01:53:00",
          "2020-01-02T01:56:55",
          "2020-01-02T01:58:52",
          "2020-01-02T02:19:42",
          "2020-01-02T02:35:01",
          "2020-01-02T02:35:20",
          "2020-01-02T02:38:13",
          "2020-01-02T02:40:38",
          "2020-01-02T02:49:39",
          "2020-01-02T02:52:14",
          "2020-01-02T02:52:51",
          "2020-01-02T03:15:08",
          "2020-01-02T03:16:30",
          "2020-01-02T03:18:04",
          "2020-01-02T03:21:11",
          "2020-01-02T03:22:56",
          "2020-01-02T03:36:31",
          "2020-01-02T03:36:53",
          "2020-01-02T03:39:08",
          "2020-01-02T03:44:24",
          "2020-01-02T03:53:20",
          "2020-01-02T03:58:27",
          "2020-01-02T04:10:19",
          "2020-01-02T04:25:38",
          "2020-01-02T04:25:52",
          "2020-01-02T04:31:12",
          "2020-01-02T04:36:30",
          "2020-01-02T04:40:23",
          "2020-01-02T05:15:42",
          "2020-01-02T05:19:32",
          "2020-01-02T05:22:06",
          "2020-01-02T05:25:59",
          "2020-01-02T05:45:06",
          "2020-01-02T05:49:32",
          "2020-01-02T06:00:34",
          "2020-01-02T06:14:50",
          "2020-01-02T06:30:02",
          "2020-01-02T06:58:26",
          "2020-01-02T07:02:24",
          "2020-01-02T07:04:06",
          "2020-01-02T07:07:34",
          "2020-01-02T07:08:35",
          "2020-01-02T07:15:17",
          "2020-01-02T07:16:03",
          "2020-01-02T07:22:16",
          "2020-01-02T07:27:26",
          "2020-01-02T07:48:56",
          "2020-01-02T08:15:39",
          "2020-01-02T08:33:13",
          "2020-01-02T09:00:59",
          "2020-01-02T09:35:56",
          "2020-01-02T10:36:34",
          "2020-01-02T10:37:27",
          "2020-01-02T11:02:47",
          "2020-01-02T11:08:57",
          "2020-01-02T11:13:06",
          "2020-01-02T11:22:43",
          "2020-01-02T11:31:57",
          "2020-01-02T11:32:56",
          "2020-01-02T11:38:55",
          "2020-01-02T11:52:57",
          "2020-01-02T11:55:31",
          "2020-01-02T12:12:47",
          "2020-01-02T12:28:29",
          "2020-01-02T12:28:40",
          "2020-01-02T12:48:33",
          "2020-01-02T13:01:11",
          "2020-01-02T13:01:18",
          "2020-01-02T13:11:42",
          "2020-01-02T13:22:41",
          "2020-01-02T13:30:38",
          "2020-01-02T13:40:56",
          "2020-01-02T13:49:09",
          "2020-01-02T14:00:29",
          "2020-01-02T14:03:57",
          "2020-01-02T14:05:07",
          "2020-01-02T14:06:52",
          "2020-01-02T14:20:13",
          "2020-01-02T14:22:06",
          "2020-01-02T14:29:28",
          "2020-01-02T14:49:04",
          "2020-01-02T14:58:48",
          "2020-01-02T15:01:45",
          "2020-01-02T15:10:46",
          "2020-01-02T15:10:54",
          "2020-01-02T15:13:37",
          "2020-01-02T15:17:47",
          "2020-01-02T15:20:09",
          "2020-01-02T15:21:45",
          "2020-01-02T15:22:14",
          "2020-01-02T15:25:15",
          "2020-01-02T15:27:31",
          "2020-01-02T15:30:26",
          "2020-01-02T15:31:13",
          "2020-01-02T15:32:06",
          "2020-01-02T15:32:21",
          "2020-01-02T15:40:11",
          "2020-01-02T15:46:43",
          "2020-01-02T15:51:31",
          "2020-01-02T15:55:03",
          "2020-01-02T15:56:31",
          "2020-01-02T15:58:34",
          "2020-01-02T16:00:41",
          "2020-01-02T16:06:05",
          "2020-01-02T16:10:48",
          "2020-01-02T16:13:38",
          "2020-01-02T16:15:50",
          "2020-01-02T16:17:29",
          "2020-01-02T16:20:02",
          "2020-01-02T16:20:18",
          "2020-01-02T16:21:31",
          "2020-01-02T16:28:40",
          "2020-01-02T16:48:25",
          "2020-01-02T16:53:03",
          "2020-01-02T16:53:06",
          "2020-01-02T17:02:41",
          "2020-01-02T17:03:55",
          "2020-01-02T17:04:52",
          "2020-01-02T17:23:02",
          "2020-01-02T17:25:50",
          "2020-01-02T17:29:10",
          "2020-01-02T17:29:35",
          "2020-01-02T17:35:01",
          "2020-01-02T17:35:02",
          "2020-01-02T17:39:53",
          "2020-01-02T17:40:16",
          "2020-01-02T17:53:39"
         ],
         "xaxis": "x",
         "y": [
          0.185,
          0.5,
          0.5,
          0.13541666666666666,
          0.2590909090909091,
          0.39999999999999997,
          0.33888888888888885,
          0.16272058823529417,
          0.2722222222222222,
          0.5399999999999999,
          0.22999999999999998,
          0.27916666666666673,
          0.3,
          0.07053571428571428,
          0.07904040404040405,
          0.24163025210084035,
          0.20833333333333334,
          0.17500000000000002,
          0.08027210884353742,
          0.02666666666666666,
          0.14750000000000002,
          0.31258503401360543,
          0.14477272727272728,
          0.032575757575757584,
          0.03571428571428571,
          0.5,
          0.052380952380952375,
          0.01687147977470559,
          0.07863636363636364,
          0.2,
          0.33166666666666667,
          0.17289473684210527,
          0.08727272727272727,
          0.42857142857142855,
          0.5666666666666667,
          1,
          0.3002705627705628,
          0.26666666666666666,
          0.1465909090909091,
          0.04643442143442144,
          0.13810575227241895,
          0.4510416666666667,
          0.07546296296296297,
          0.125,
          0.17065217391304346,
          0.13650793650793652,
          0.14188311688311692,
          0.07272727272727275,
          0.19166666666666665,
          0.023611111111111107,
          0.4976190476190476,
          0.032499999999999994,
          0.19772727272727272,
          0.13333333333333333,
          0.1,
          0.375,
          0.2,
          0.06043956043956042,
          0.19641666666666668,
          0.20610795454545455,
          0.2,
          0.05,
          0.2183333333333333,
          0.1787878787878788,
          0.053636363636363635,
          0.058191823899371,
          0.10584733893557423,
          0.06818181818181818,
          0.16666666666666666,
          0.35,
          0.23888888888888887,
          0.23393939393939397,
          0.2753968253968254,
          0.033333333333333326,
          0.10416666666666667,
          0.10601491101491102,
          0.14999999999999997,
          0.031746031746031744,
          0.08333333333333333,
          0.3099897787397787,
          0.22413911845730025,
          0.3222222222222222,
          0.4442857142857143,
          0.12088827838827841,
          0.35,
          0.034375,
          0.3088392857142857,
          0.12467532467532469,
          1,
          0.525,
          0.13102272727272724,
          0.21666666666666667,
          0.02857142857142862,
          0.14964646464646464,
          0.031111111111111107,
          0.010714285714285713,
          0.014285714285714275,
          0.3125625676406926,
          0.175,
          0.19845350052246602,
          0.8,
          0.45,
          0.1926311433664375,
          0.25,
          0.16948051948051948,
          0.20657553101756013,
          0.42857142857142855,
          0.1791666666666667,
          0.20833333333333331,
          0.175,
          0.509090909090909,
          0.08502214839424141,
          0.04707792207792208,
          0.05714285714285713,
          0.06190476190476189,
          0.1909090909090909,
          0.17192982456140354,
          0.1380094748019276,
          0.12604166666666666,
          0.2848484848484848,
          0.03571428571428571,
          0.0523809523809524,
          0.04907407407407407,
          0.0028409090909090884,
          0.21103896103896103,
          0.13164335664335663,
          0.06904761904761905,
          0.7,
          0.158512987012987,
          0.04880952380952381,
          0.14733445566778902,
          0.3666666666666667,
          0.20097402597402594,
          0.35714285714285715,
          0.48,
          0.15501984126984125,
          0.011111111111111118,
          0.20833333333333334,
          0.1730434782608696,
          0.029166666666666657
         ],
         "yaxis": "y"
        },
        {
         "alignmentgroup": "True",
         "bingroup": "x",
         "hoverlabel": {
          "namelength": 0
         },
         "hovertemplate": "sentiment=positive<br>Date Posted=%{x}<br>count=%{y}",
         "legendgroup": "sentiment=positive",
         "marker": {
          "color": "violet"
         },
         "name": "sentiment=positive",
         "offsetgroup": "sentiment=positive",
         "opacity": 0.5,
         "showlegend": false,
         "type": "histogram",
         "x": [
          "2020-01-02T00:55:46",
          "2020-01-02T00:56:45",
          "2020-01-02T00:57:58",
          "2020-01-02T01:00:58",
          "2020-01-02T01:10:31",
          "2020-01-02T01:14:35",
          "2020-01-02T01:21:58",
          "2020-01-02T01:23:42",
          "2020-01-02T01:33:09",
          "2020-01-02T01:35:11",
          "2020-01-02T01:38:31",
          "2020-01-02T01:41:56",
          "2020-01-02T01:46:00",
          "2020-01-02T01:53:00",
          "2020-01-02T01:56:55",
          "2020-01-02T01:58:52",
          "2020-01-02T02:19:42",
          "2020-01-02T02:35:01",
          "2020-01-02T02:35:20",
          "2020-01-02T02:38:13",
          "2020-01-02T02:40:38",
          "2020-01-02T02:49:39",
          "2020-01-02T02:52:14",
          "2020-01-02T02:52:51",
          "2020-01-02T03:15:08",
          "2020-01-02T03:16:30",
          "2020-01-02T03:18:04",
          "2020-01-02T03:21:11",
          "2020-01-02T03:22:56",
          "2020-01-02T03:36:31",
          "2020-01-02T03:36:53",
          "2020-01-02T03:39:08",
          "2020-01-02T03:44:24",
          "2020-01-02T03:53:20",
          "2020-01-02T03:58:27",
          "2020-01-02T04:10:19",
          "2020-01-02T04:25:38",
          "2020-01-02T04:25:52",
          "2020-01-02T04:31:12",
          "2020-01-02T04:36:30",
          "2020-01-02T04:40:23",
          "2020-01-02T05:15:42",
          "2020-01-02T05:19:32",
          "2020-01-02T05:22:06",
          "2020-01-02T05:25:59",
          "2020-01-02T05:45:06",
          "2020-01-02T05:49:32",
          "2020-01-02T06:00:34",
          "2020-01-02T06:14:50",
          "2020-01-02T06:30:02",
          "2020-01-02T06:58:26",
          "2020-01-02T07:02:24",
          "2020-01-02T07:04:06",
          "2020-01-02T07:07:34",
          "2020-01-02T07:08:35",
          "2020-01-02T07:15:17",
          "2020-01-02T07:16:03",
          "2020-01-02T07:22:16",
          "2020-01-02T07:27:26",
          "2020-01-02T07:48:56",
          "2020-01-02T08:15:39",
          "2020-01-02T08:33:13",
          "2020-01-02T09:00:59",
          "2020-01-02T09:35:56",
          "2020-01-02T10:36:34",
          "2020-01-02T10:37:27",
          "2020-01-02T11:02:47",
          "2020-01-02T11:08:57",
          "2020-01-02T11:13:06",
          "2020-01-02T11:22:43",
          "2020-01-02T11:31:57",
          "2020-01-02T11:32:56",
          "2020-01-02T11:38:55",
          "2020-01-02T11:52:57",
          "2020-01-02T11:55:31",
          "2020-01-02T12:12:47",
          "2020-01-02T12:28:29",
          "2020-01-02T12:28:40",
          "2020-01-02T12:48:33",
          "2020-01-02T13:01:11",
          "2020-01-02T13:01:18",
          "2020-01-02T13:11:42",
          "2020-01-02T13:22:41",
          "2020-01-02T13:30:38",
          "2020-01-02T13:40:56",
          "2020-01-02T13:49:09",
          "2020-01-02T14:00:29",
          "2020-01-02T14:03:57",
          "2020-01-02T14:05:07",
          "2020-01-02T14:06:52",
          "2020-01-02T14:20:13",
          "2020-01-02T14:22:06",
          "2020-01-02T14:29:28",
          "2020-01-02T14:49:04",
          "2020-01-02T14:58:48",
          "2020-01-02T15:01:45",
          "2020-01-02T15:10:46",
          "2020-01-02T15:10:54",
          "2020-01-02T15:13:37",
          "2020-01-02T15:17:47",
          "2020-01-02T15:20:09",
          "2020-01-02T15:21:45",
          "2020-01-02T15:22:14",
          "2020-01-02T15:25:15",
          "2020-01-02T15:27:31",
          "2020-01-02T15:30:26",
          "2020-01-02T15:31:13",
          "2020-01-02T15:32:06",
          "2020-01-02T15:32:21",
          "2020-01-02T15:40:11",
          "2020-01-02T15:46:43",
          "2020-01-02T15:51:31",
          "2020-01-02T15:55:03",
          "2020-01-02T15:56:31",
          "2020-01-02T15:58:34",
          "2020-01-02T16:00:41",
          "2020-01-02T16:06:05",
          "2020-01-02T16:10:48",
          "2020-01-02T16:13:38",
          "2020-01-02T16:15:50",
          "2020-01-02T16:17:29",
          "2020-01-02T16:20:02",
          "2020-01-02T16:20:18",
          "2020-01-02T16:21:31",
          "2020-01-02T16:28:40",
          "2020-01-02T16:48:25",
          "2020-01-02T16:53:03",
          "2020-01-02T16:53:06",
          "2020-01-02T17:02:41",
          "2020-01-02T17:03:55",
          "2020-01-02T17:04:52",
          "2020-01-02T17:23:02",
          "2020-01-02T17:25:50",
          "2020-01-02T17:29:10",
          "2020-01-02T17:29:35",
          "2020-01-02T17:35:01",
          "2020-01-02T17:35:02",
          "2020-01-02T17:39:53",
          "2020-01-02T17:40:16",
          "2020-01-02T17:53:39"
         ],
         "xaxis": "x2",
         "yaxis": "y2"
        },
        {
         "customdata": [
          [
           "Pyuk_Munko",
           "eiqqz3"
          ],
          [
           "Ser3nity91",
           "eiqy1w"
          ],
          [
           "frankieluigi",
           "eir2ce"
          ],
          [
           "VON_TAR",
           "eir2lb"
          ],
          [
           "Mrpenguin4521",
           "eir2pv"
          ],
          [
           "gophish92",
           "eircue"
          ],
          [
           "ToBeFrozen",
           "eirdy5"
          ],
          [
           "MR-0P",
           "eirgi0"
          ],
          [
           "mistagitgud",
           "eirk8h"
          ],
          [
           "Gjallarmoon",
           "eirlhc"
          ],
          [
           "TheDegenerant",
           "eirmpt"
          ],
          [
           "BirmingHamtaro",
           "eirp6h"
          ],
          [
           "JamesYahr",
           "eirvg2"
          ],
          [
           "13umble",
           "eirz3c"
          ],
          [
           "downAtheworld",
           "eis90g"
          ],
          [
           "SkimmedMilkPowder",
           "eisvz1"
          ],
          [
           "Scrotum_Wravecker",
           "eisxpb"
          ],
          [
           "linkinzpark88",
           "eisy73"
          ],
          [
           "pattyice420",
           "eisyh7"
          ],
          [
           "WoWRLAmazing",
           "eit1cy"
          ],
          [
           "deforrest53",
           "eit2kp"
          ],
          [
           "seejay479",
           "eit36b"
          ],
          [
           "StoryTime5675",
           "eit4wz"
          ],
          [
           "cleatplays",
           "eit9vs"
          ],
          [
           "Attention_Bear_Fuckr",
           "eithq1"
          ],
          [
           "XavierArc37",
           "eitv6s"
          ],
          [
           "megamanlan10",
           "eiulje"
          ],
          [
           "DHamlinMusic",
           "eiulty"
          ],
          [
           "Jackal_Main_0224",
           "eiunaz"
          ],
          [
           "Recon_Drone_Deployed",
           "eiusdn"
          ],
          [
           "thebigkahuna128",
           "eiut5p"
          ],
          [
           "dank_void470",
           "eiuvmw"
          ],
          [
           "uhhhhwhydoyoucare175",
           "eiv19x"
          ],
          [
           "AgentOrang_Jpg",
           "eiv381"
          ],
          [
           "StoryTime5675",
           "eiv8a3"
          ],
          [
           "BonnieJan21",
           "eiva58"
          ],
          [
           "jamilDK",
           "eivjc8"
          ],
          [
           "her3sy",
           "eivn9a"
          ],
          [
           "OPSweeperMan",
           "eivnz3"
          ],
          [
           "Shiely",
           "eivp1o"
          ],
          [
           "avram_",
           "eiw6xb"
          ],
          [
           "BothSuspect",
           "eiwje6"
          ],
          [
           "AceCareibour12",
           "eiwp19"
          ],
          [
           "Revan13",
           "eiwyse"
          ],
          [
           "ChaoticNootral",
           "eixd5z"
          ],
          [
           "Havvler",
           "eixf1b"
          ],
          [
           "Traubentritt",
           "eixhw1"
          ],
          [
           "Traubentritt",
           "eixjxi"
          ],
          [
           "Apollo_Sierra",
           "eixq6q"
          ],
          [
           "Blyrup",
           "eixxor"
          ],
          [
           "thezl1",
           "eixy56"
          ],
          [
           "UltraMelek",
           "eiy2m0"
          ],
          [
           "Hexatorium",
           "eiy42q"
          ],
          [
           "Sir_Fongo",
           "eiyo2c"
          ],
          [
           "NandoCa1rissian",
           "eiyux9"
          ],
          [
           "MwANicky13",
           "eiywnp"
          ],
          [
           "cloud4u71",
           "eiyykd"
          ],
          [
           "boljon",
           "eiz8em"
          ],
          [
           "Lunaretta",
           "eizbrt"
          ],
          [
           "NomadicDragon",
           "eizf05"
          ],
          [
           "VSVP_Dead",
           "eizqac"
          ],
          [
           "sn9691",
           "eizxig"
          ],
          [
           "gewdykhed44",
           "ej03h6"
          ],
          [
           "MrSloppyPants",
           "ej04z5"
          ],
          [
           "DarthGR",
           "ej05n5"
          ],
          [
           "TheLastRuso",
           "ej076d"
          ],
          [
           "mtw8922",
           "ej0c3q"
          ],
          [
           "Nydid",
           "ej0ff6"
          ],
          [
           "DaBadGuy13",
           "ej0fs1"
          ],
          [
           "stoopidfuture",
           "ej0koj"
          ],
          [
           "DownWithAuthority",
           "ej0ohk"
          ],
          [
           "Luxor5299",
           "ej0quk"
          ],
          [
           "SwarthyWalnuts",
           "ej113o"
          ],
          [
           "gewdykhed44",
           "ej137p"
          ],
          [
           "Weddert66",
           "ej1dbt"
          ],
          [
           "TheResWolf",
           "ej1jbb"
          ]
         ],
         "hoverlabel": {
          "namelength": 0
         },
         "hovertemplate": "sentiment=negative<br>Date Posted=%{x}<br>Post Polarity=%{y}<br>num_comments=%{marker.size}<br>author=%{customdata[0]}<br>id=%{customdata[1]}",
         "legendgroup": "sentiment=negative",
         "marker": {
          "color": "lightslategrey",
          "size": [
           1,
           4,
           5,
           4,
           10,
           11,
           7,
           0,
           6,
           8,
           4,
           17,
           17,
           2,
           8,
           9,
           0,
           4,
           3,
           3,
           5,
           2,
           3,
           47,
           72,
           4,
           3,
           0,
           7,
           35,
           3,
           15,
           12,
           7,
           3,
           56,
           14,
           3,
           4,
           2,
           1,
           9,
           4,
           9,
           0,
           8,
           0,
           0,
           19,
           10,
           4,
           12,
           15,
           8,
           4,
           5,
           2,
           3,
           33,
           24,
           8,
           8,
           5,
           2,
           20,
           1,
           22,
           5,
           7,
           9,
           3,
           10,
           13,
           4,
           4,
           0
          ],
          "sizemode": "area",
          "sizeref": 1.675,
          "symbol": "circle"
         },
         "mode": "markers",
         "name": "sentiment=negative",
         "showlegend": true,
         "type": "scatter",
         "x": [
          "2020-01-02T00:58:40",
          "2020-01-02T01:14:23",
          "2020-01-02T01:24:04",
          "2020-01-02T01:24:34",
          "2020-01-02T01:24:51",
          "2020-01-02T01:47:15",
          "2020-01-02T01:49:57",
          "2020-01-02T01:55:47",
          "2020-01-02T02:04:17",
          "2020-01-02T02:07:03",
          "2020-01-02T02:09:48",
          "2020-01-02T02:15:21",
          "2020-01-02T02:29:14",
          "2020-01-02T02:37:24",
          "2020-01-02T02:59:55",
          "2020-01-02T03:52:56",
          "2020-01-02T03:56:59",
          "2020-01-02T03:58:19",
          "2020-01-02T03:58:59",
          "2020-01-02T04:05:55",
          "2020-01-02T04:08:55",
          "2020-01-02T04:10:21",
          "2020-01-02T04:14:50",
          "2020-01-02T04:27:19",
          "2020-01-02T04:47:03",
          "2020-01-02T05:20:13",
          "2020-01-02T06:29:49",
          "2020-01-02T06:30:39",
          "2020-01-02T06:34:57",
          "2020-01-02T06:49:41",
          "2020-01-02T06:51:54",
          "2020-01-02T06:59:17",
          "2020-01-02T07:15:48",
          "2020-01-02T07:21:55",
          "2020-01-02T07:37:48",
          "2020-01-02T07:43:45",
          "2020-01-02T08:14:07",
          "2020-01-02T08:27:31",
          "2020-01-02T08:29:59",
          "2020-01-02T08:34:01",
          "2020-01-02T09:35:55",
          "2020-01-02T10:18:06",
          "2020-01-02T10:37:57",
          "2020-01-02T11:10:22",
          "2020-01-02T11:56:58",
          "2020-01-02T12:02:51",
          "2020-01-02T12:11:49",
          "2020-01-02T12:18:02",
          "2020-01-02T12:37:10",
          "2020-01-02T12:58:55",
          "2020-01-02T13:00:10",
          "2020-01-02T13:12:19",
          "2020-01-02T13:16:16",
          "2020-01-02T14:09:54",
          "2020-01-02T14:27:05",
          "2020-01-02T14:31:25",
          "2020-01-02T14:36:16",
          "2020-01-02T14:59:35",
          "2020-01-02T15:07:11",
          "2020-01-02T15:14:15",
          "2020-01-02T15:39:20",
          "2020-01-02T15:55:15",
          "2020-01-02T16:07:54",
          "2020-01-02T16:11:08",
          "2020-01-02T16:12:32",
          "2020-01-02T16:15:57",
          "2020-01-02T16:26:15",
          "2020-01-02T16:33:24",
          "2020-01-02T16:34:09",
          "2020-01-02T16:44:21",
          "2020-01-02T16:52:17",
          "2020-01-02T16:57:11",
          "2020-01-02T17:17:32",
          "2020-01-02T17:21:49",
          "2020-01-02T17:42:06",
          "2020-01-02T17:53:58"
         ],
         "xaxis": "x",
         "y": [
          -0.275,
          -0.08437499999999998,
          0,
          0,
          -0.325,
          0,
          -0.027281746031746015,
          -0.2111111111111111,
          0,
          0,
          -0.21666666666666667,
          -0.5578125,
          -0.17714285714285719,
          -0.22182539682539684,
          -0.5,
          -0.6041666666666665,
          -0.05,
          -0.10416666666666666,
          0,
          -0.2,
          -0.08,
          -0.10272727272727274,
          0,
          0,
          -0.2333333333333333,
          -0.0690340909090909,
          0,
          0,
          -0.022857142857142864,
          0,
          -0.033333333333333326,
          -0.1,
          -0.017647058823529432,
          -0.14285714285714285,
          -0.13333333333333333,
          0,
          0,
          -0.5,
          -0.004629629629629654,
          -0.13888888888888892,
          0,
          0,
          -0.1,
          -0.08503401360544217,
          -0.2288818359375,
          -0.11085858585858585,
          -0.007177729677729678,
          -0.012678735406008135,
          -0.125,
          -0.03819444444444444,
          -0.047619047619047616,
          -0.45,
          -0.008048552754435117,
          -0.02500000000000001,
          0,
          -0.125,
          -0.07272727272727272,
          0,
          -0.017916666666666664,
          -0.25,
          0,
          -0.25,
          -0.024999999999999994,
          -0.023611111111111114,
          -0.16666666666666666,
          0,
          -0.2,
          -0.3833333333333333,
          -0.15625,
          -0.2,
          -0.16666666666666666,
          -0.0375,
          -0.02467532467532469,
          -0.1,
          -0.28,
          -0.375
         ],
         "yaxis": "y"
        },
        {
         "alignmentgroup": "True",
         "bingroup": "x",
         "hoverlabel": {
          "namelength": 0
         },
         "hovertemplate": "sentiment=negative<br>Date Posted=%{x}<br>count=%{y}",
         "legendgroup": "sentiment=negative",
         "marker": {
          "color": "lightslategrey"
         },
         "name": "sentiment=negative",
         "offsetgroup": "sentiment=negative",
         "opacity": 0.5,
         "showlegend": false,
         "type": "histogram",
         "x": [
          "2020-01-02T00:58:40",
          "2020-01-02T01:14:23",
          "2020-01-02T01:24:04",
          "2020-01-02T01:24:34",
          "2020-01-02T01:24:51",
          "2020-01-02T01:47:15",
          "2020-01-02T01:49:57",
          "2020-01-02T01:55:47",
          "2020-01-02T02:04:17",
          "2020-01-02T02:07:03",
          "2020-01-02T02:09:48",
          "2020-01-02T02:15:21",
          "2020-01-02T02:29:14",
          "2020-01-02T02:37:24",
          "2020-01-02T02:59:55",
          "2020-01-02T03:52:56",
          "2020-01-02T03:56:59",
          "2020-01-02T03:58:19",
          "2020-01-02T03:58:59",
          "2020-01-02T04:05:55",
          "2020-01-02T04:08:55",
          "2020-01-02T04:10:21",
          "2020-01-02T04:14:50",
          "2020-01-02T04:27:19",
          "2020-01-02T04:47:03",
          "2020-01-02T05:20:13",
          "2020-01-02T06:29:49",
          "2020-01-02T06:30:39",
          "2020-01-02T06:34:57",
          "2020-01-02T06:49:41",
          "2020-01-02T06:51:54",
          "2020-01-02T06:59:17",
          "2020-01-02T07:15:48",
          "2020-01-02T07:21:55",
          "2020-01-02T07:37:48",
          "2020-01-02T07:43:45",
          "2020-01-02T08:14:07",
          "2020-01-02T08:27:31",
          "2020-01-02T08:29:59",
          "2020-01-02T08:34:01",
          "2020-01-02T09:35:55",
          "2020-01-02T10:18:06",
          "2020-01-02T10:37:57",
          "2020-01-02T11:10:22",
          "2020-01-02T11:56:58",
          "2020-01-02T12:02:51",
          "2020-01-02T12:11:49",
          "2020-01-02T12:18:02",
          "2020-01-02T12:37:10",
          "2020-01-02T12:58:55",
          "2020-01-02T13:00:10",
          "2020-01-02T13:12:19",
          "2020-01-02T13:16:16",
          "2020-01-02T14:09:54",
          "2020-01-02T14:27:05",
          "2020-01-02T14:31:25",
          "2020-01-02T14:36:16",
          "2020-01-02T14:59:35",
          "2020-01-02T15:07:11",
          "2020-01-02T15:14:15",
          "2020-01-02T15:39:20",
          "2020-01-02T15:55:15",
          "2020-01-02T16:07:54",
          "2020-01-02T16:11:08",
          "2020-01-02T16:12:32",
          "2020-01-02T16:15:57",
          "2020-01-02T16:26:15",
          "2020-01-02T16:33:24",
          "2020-01-02T16:34:09",
          "2020-01-02T16:44:21",
          "2020-01-02T16:52:17",
          "2020-01-02T16:57:11",
          "2020-01-02T17:17:32",
          "2020-01-02T17:21:49",
          "2020-01-02T17:42:06",
          "2020-01-02T17:53:58"
         ],
         "xaxis": "x2",
         "yaxis": "y2"
        }
       ],
       "layout": {
        "barmode": "overlay",
        "legend": {
         "itemsizing": "constant",
         "tracegroupgap": 0
        },
        "template": {
         "data": {
          "bar": [
           {
            "error_x": {
             "color": "#2a3f5f"
            },
            "error_y": {
             "color": "#2a3f5f"
            },
            "marker": {
             "line": {
              "color": "#E5ECF6",
              "width": 0.5
             }
            },
            "type": "bar"
           }
          ],
          "barpolar": [
           {
            "marker": {
             "line": {
              "color": "#E5ECF6",
              "width": 0.5
             }
            },
            "type": "barpolar"
           }
          ],
          "carpet": [
           {
            "aaxis": {
             "endlinecolor": "#2a3f5f",
             "gridcolor": "white",
             "linecolor": "white",
             "minorgridcolor": "white",
             "startlinecolor": "#2a3f5f"
            },
            "baxis": {
             "endlinecolor": "#2a3f5f",
             "gridcolor": "white",
             "linecolor": "white",
             "minorgridcolor": "white",
             "startlinecolor": "#2a3f5f"
            },
            "type": "carpet"
           }
          ],
          "choropleth": [
           {
            "colorbar": {
             "outlinewidth": 0,
             "ticks": ""
            },
            "type": "choropleth"
           }
          ],
          "contour": [
           {
            "colorbar": {
             "outlinewidth": 0,
             "ticks": ""
            },
            "colorscale": [
             [
              0,
              "#0d0887"
             ],
             [
              0.1111111111111111,
              "#46039f"
             ],
             [
              0.2222222222222222,
              "#7201a8"
             ],
             [
              0.3333333333333333,
              "#9c179e"
             ],
             [
              0.4444444444444444,
              "#bd3786"
             ],
             [
              0.5555555555555556,
              "#d8576b"
             ],
             [
              0.6666666666666666,
              "#ed7953"
             ],
             [
              0.7777777777777778,
              "#fb9f3a"
             ],
             [
              0.8888888888888888,
              "#fdca26"
             ],
             [
              1,
              "#f0f921"
             ]
            ],
            "type": "contour"
           }
          ],
          "contourcarpet": [
           {
            "colorbar": {
             "outlinewidth": 0,
             "ticks": ""
            },
            "type": "contourcarpet"
           }
          ],
          "heatmap": [
           {
            "colorbar": {
             "outlinewidth": 0,
             "ticks": ""
            },
            "colorscale": [
             [
              0,
              "#0d0887"
             ],
             [
              0.1111111111111111,
              "#46039f"
             ],
             [
              0.2222222222222222,
              "#7201a8"
             ],
             [
              0.3333333333333333,
              "#9c179e"
             ],
             [
              0.4444444444444444,
              "#bd3786"
             ],
             [
              0.5555555555555556,
              "#d8576b"
             ],
             [
              0.6666666666666666,
              "#ed7953"
             ],
             [
              0.7777777777777778,
              "#fb9f3a"
             ],
             [
              0.8888888888888888,
              "#fdca26"
             ],
             [
              1,
              "#f0f921"
             ]
            ],
            "type": "heatmap"
           }
          ],
          "heatmapgl": [
           {
            "colorbar": {
             "outlinewidth": 0,
             "ticks": ""
            },
            "colorscale": [
             [
              0,
              "#0d0887"
             ],
             [
              0.1111111111111111,
              "#46039f"
             ],
             [
              0.2222222222222222,
              "#7201a8"
             ],
             [
              0.3333333333333333,
              "#9c179e"
             ],
             [
              0.4444444444444444,
              "#bd3786"
             ],
             [
              0.5555555555555556,
              "#d8576b"
             ],
             [
              0.6666666666666666,
              "#ed7953"
             ],
             [
              0.7777777777777778,
              "#fb9f3a"
             ],
             [
              0.8888888888888888,
              "#fdca26"
             ],
             [
              1,
              "#f0f921"
             ]
            ],
            "type": "heatmapgl"
           }
          ],
          "histogram": [
           {
            "marker": {
             "colorbar": {
              "outlinewidth": 0,
              "ticks": ""
             }
            },
            "type": "histogram"
           }
          ],
          "histogram2d": [
           {
            "colorbar": {
             "outlinewidth": 0,
             "ticks": ""
            },
            "colorscale": [
             [
              0,
              "#0d0887"
             ],
             [
              0.1111111111111111,
              "#46039f"
             ],
             [
              0.2222222222222222,
              "#7201a8"
             ],
             [
              0.3333333333333333,
              "#9c179e"
             ],
             [
              0.4444444444444444,
              "#bd3786"
             ],
             [
              0.5555555555555556,
              "#d8576b"
             ],
             [
              0.6666666666666666,
              "#ed7953"
             ],
             [
              0.7777777777777778,
              "#fb9f3a"
             ],
             [
              0.8888888888888888,
              "#fdca26"
             ],
             [
              1,
              "#f0f921"
             ]
            ],
            "type": "histogram2d"
           }
          ],
          "histogram2dcontour": [
           {
            "colorbar": {
             "outlinewidth": 0,
             "ticks": ""
            },
            "colorscale": [
             [
              0,
              "#0d0887"
             ],
             [
              0.1111111111111111,
              "#46039f"
             ],
             [
              0.2222222222222222,
              "#7201a8"
             ],
             [
              0.3333333333333333,
              "#9c179e"
             ],
             [
              0.4444444444444444,
              "#bd3786"
             ],
             [
              0.5555555555555556,
              "#d8576b"
             ],
             [
              0.6666666666666666,
              "#ed7953"
             ],
             [
              0.7777777777777778,
              "#fb9f3a"
             ],
             [
              0.8888888888888888,
              "#fdca26"
             ],
             [
              1,
              "#f0f921"
             ]
            ],
            "type": "histogram2dcontour"
           }
          ],
          "mesh3d": [
           {
            "colorbar": {
             "outlinewidth": 0,
             "ticks": ""
            },
            "type": "mesh3d"
           }
          ],
          "parcoords": [
           {
            "line": {
             "colorbar": {
              "outlinewidth": 0,
              "ticks": ""
             }
            },
            "type": "parcoords"
           }
          ],
          "pie": [
           {
            "automargin": true,
            "type": "pie"
           }
          ],
          "scatter": [
           {
            "marker": {
             "colorbar": {
              "outlinewidth": 0,
              "ticks": ""
             }
            },
            "type": "scatter"
           }
          ],
          "scatter3d": [
           {
            "line": {
             "colorbar": {
              "outlinewidth": 0,
              "ticks": ""
             }
            },
            "marker": {
             "colorbar": {
              "outlinewidth": 0,
              "ticks": ""
             }
            },
            "type": "scatter3d"
           }
          ],
          "scattercarpet": [
           {
            "marker": {
             "colorbar": {
              "outlinewidth": 0,
              "ticks": ""
             }
            },
            "type": "scattercarpet"
           }
          ],
          "scattergeo": [
           {
            "marker": {
             "colorbar": {
              "outlinewidth": 0,
              "ticks": ""
             }
            },
            "type": "scattergeo"
           }
          ],
          "scattergl": [
           {
            "marker": {
             "colorbar": {
              "outlinewidth": 0,
              "ticks": ""
             }
            },
            "type": "scattergl"
           }
          ],
          "scattermapbox": [
           {
            "marker": {
             "colorbar": {
              "outlinewidth": 0,
              "ticks": ""
             }
            },
            "type": "scattermapbox"
           }
          ],
          "scatterpolar": [
           {
            "marker": {
             "colorbar": {
              "outlinewidth": 0,
              "ticks": ""
             }
            },
            "type": "scatterpolar"
           }
          ],
          "scatterpolargl": [
           {
            "marker": {
             "colorbar": {
              "outlinewidth": 0,
              "ticks": ""
             }
            },
            "type": "scatterpolargl"
           }
          ],
          "scatterternary": [
           {
            "marker": {
             "colorbar": {
              "outlinewidth": 0,
              "ticks": ""
             }
            },
            "type": "scatterternary"
           }
          ],
          "surface": [
           {
            "colorbar": {
             "outlinewidth": 0,
             "ticks": ""
            },
            "colorscale": [
             [
              0,
              "#0d0887"
             ],
             [
              0.1111111111111111,
              "#46039f"
             ],
             [
              0.2222222222222222,
              "#7201a8"
             ],
             [
              0.3333333333333333,
              "#9c179e"
             ],
             [
              0.4444444444444444,
              "#bd3786"
             ],
             [
              0.5555555555555556,
              "#d8576b"
             ],
             [
              0.6666666666666666,
              "#ed7953"
             ],
             [
              0.7777777777777778,
              "#fb9f3a"
             ],
             [
              0.8888888888888888,
              "#fdca26"
             ],
             [
              1,
              "#f0f921"
             ]
            ],
            "type": "surface"
           }
          ],
          "table": [
           {
            "cells": {
             "fill": {
              "color": "#EBF0F8"
             },
             "line": {
              "color": "white"
             }
            },
            "header": {
             "fill": {
              "color": "#C8D4E3"
             },
             "line": {
              "color": "white"
             }
            },
            "type": "table"
           }
          ]
         },
         "layout": {
          "annotationdefaults": {
           "arrowcolor": "#2a3f5f",
           "arrowhead": 0,
           "arrowwidth": 1
          },
          "coloraxis": {
           "colorbar": {
            "outlinewidth": 0,
            "ticks": ""
           }
          },
          "colorscale": {
           "diverging": [
            [
             0,
             "#8e0152"
            ],
            [
             0.1,
             "#c51b7d"
            ],
            [
             0.2,
             "#de77ae"
            ],
            [
             0.3,
             "#f1b6da"
            ],
            [
             0.4,
             "#fde0ef"
            ],
            [
             0.5,
             "#f7f7f7"
            ],
            [
             0.6,
             "#e6f5d0"
            ],
            [
             0.7,
             "#b8e186"
            ],
            [
             0.8,
             "#7fbc41"
            ],
            [
             0.9,
             "#4d9221"
            ],
            [
             1,
             "#276419"
            ]
           ],
           "sequential": [
            [
             0,
             "#0d0887"
            ],
            [
             0.1111111111111111,
             "#46039f"
            ],
            [
             0.2222222222222222,
             "#7201a8"
            ],
            [
             0.3333333333333333,
             "#9c179e"
            ],
            [
             0.4444444444444444,
             "#bd3786"
            ],
            [
             0.5555555555555556,
             "#d8576b"
            ],
            [
             0.6666666666666666,
             "#ed7953"
            ],
            [
             0.7777777777777778,
             "#fb9f3a"
            ],
            [
             0.8888888888888888,
             "#fdca26"
            ],
            [
             1,
             "#f0f921"
            ]
           ],
           "sequentialminus": [
            [
             0,
             "#0d0887"
            ],
            [
             0.1111111111111111,
             "#46039f"
            ],
            [
             0.2222222222222222,
             "#7201a8"
            ],
            [
             0.3333333333333333,
             "#9c179e"
            ],
            [
             0.4444444444444444,
             "#bd3786"
            ],
            [
             0.5555555555555556,
             "#d8576b"
            ],
            [
             0.6666666666666666,
             "#ed7953"
            ],
            [
             0.7777777777777778,
             "#fb9f3a"
            ],
            [
             0.8888888888888888,
             "#fdca26"
            ],
            [
             1,
             "#f0f921"
            ]
           ]
          },
          "colorway": [
           "#636efa",
           "#EF553B",
           "#00cc96",
           "#ab63fa",
           "#FFA15A",
           "#19d3f3",
           "#FF6692",
           "#B6E880",
           "#FF97FF",
           "#FECB52"
          ],
          "font": {
           "color": "#2a3f5f"
          },
          "geo": {
           "bgcolor": "white",
           "lakecolor": "white",
           "landcolor": "#E5ECF6",
           "showlakes": true,
           "showland": true,
           "subunitcolor": "white"
          },
          "hoverlabel": {
           "align": "left"
          },
          "hovermode": "closest",
          "mapbox": {
           "style": "light"
          },
          "paper_bgcolor": "white",
          "plot_bgcolor": "#E5ECF6",
          "polar": {
           "angularaxis": {
            "gridcolor": "white",
            "linecolor": "white",
            "ticks": ""
           },
           "bgcolor": "#E5ECF6",
           "radialaxis": {
            "gridcolor": "white",
            "linecolor": "white",
            "ticks": ""
           }
          },
          "scene": {
           "xaxis": {
            "backgroundcolor": "#E5ECF6",
            "gridcolor": "white",
            "gridwidth": 2,
            "linecolor": "white",
            "showbackground": true,
            "ticks": "",
            "zerolinecolor": "white"
           },
           "yaxis": {
            "backgroundcolor": "#E5ECF6",
            "gridcolor": "white",
            "gridwidth": 2,
            "linecolor": "white",
            "showbackground": true,
            "ticks": "",
            "zerolinecolor": "white"
           },
           "zaxis": {
            "backgroundcolor": "#E5ECF6",
            "gridcolor": "white",
            "gridwidth": 2,
            "linecolor": "white",
            "showbackground": true,
            "ticks": "",
            "zerolinecolor": "white"
           }
          },
          "shapedefaults": {
           "line": {
            "color": "#2a3f5f"
           }
          },
          "ternary": {
           "aaxis": {
            "gridcolor": "white",
            "linecolor": "white",
            "ticks": ""
           },
           "baxis": {
            "gridcolor": "white",
            "linecolor": "white",
            "ticks": ""
           },
           "bgcolor": "#E5ECF6",
           "caxis": {
            "gridcolor": "white",
            "linecolor": "white",
            "ticks": ""
           }
          },
          "title": {
           "x": 0.05
          },
          "xaxis": {
           "automargin": true,
           "gridcolor": "white",
           "linecolor": "white",
           "ticks": "",
           "title": {
            "standoff": 15
           },
           "zerolinecolor": "white",
           "zerolinewidth": 2
          },
          "yaxis": {
           "automargin": true,
           "gridcolor": "white",
           "linecolor": "white",
           "ticks": "",
           "title": {
            "standoff": 15
           },
           "zerolinecolor": "white",
           "zerolinewidth": 2
          }
         }
        },
        "title": {
         "text": "Sentiment analysis of r/destinythegame posts from previous 24 hours"
        },
        "xaxis": {
         "anchor": "y",
         "domain": [
          0,
          1
         ],
         "title": {
          "text": "Date Posted"
         }
        },
        "xaxis2": {
         "anchor": "y2",
         "domain": [
          0,
          1
         ],
         "matches": "x",
         "showgrid": true,
         "showticklabels": false
        },
        "yaxis": {
         "anchor": "x",
         "domain": [
          0,
          0.7326
         ],
         "title": {
          "text": "Post Polarity"
         }
        },
        "yaxis2": {
         "anchor": "x2",
         "domain": [
          0.7426,
          1
         ],
         "matches": "y2",
         "showgrid": true,
         "showline": false,
         "showticklabels": false,
         "ticks": ""
        }
       }
      },
      "text/html": [
       "<div>\n",
       "        \n",
       "        \n",
       "            <div id=\"15879435-6c51-4163-bb24-726d3babb71e\" class=\"plotly-graph-div\" style=\"height:525px; width:100%;\"></div>\n",
       "            <script type=\"text/javascript\">\n",
       "                require([\"plotly\"], function(Plotly) {\n",
       "                    window.PLOTLYENV=window.PLOTLYENV || {};\n",
       "                    \n",
       "                if (document.getElementById(\"15879435-6c51-4163-bb24-726d3babb71e\")) {\n",
       "                    Plotly.newPlot(\n",
       "                        '15879435-6c51-4163-bb24-726d3babb71e',\n",
       "                        [{\"customdata\": [[\"Fala_the_Flame\", \"eiqpqk\"], [\"Skifer91290\", \"eiqq6i\"], [\"Skifer91290\", \"eiqqok\"], [\"enaza\", \"eiqrzr\"], [\"Neocyte\", \"eiqwci\"], [\"MichaelJr787\", \"eiqy5n\"], [\"rmbartz\", \"eir1ex\"], [\"ben9d2\", \"eir26s\"], [\"cavemeister\", \"eir6iu\"], [\"HaydiniDaAmazin\", \"eir7f8\"], [\"ghawkguy\", \"eir8xw\"], [\"ManlyMinotaur90\", \"eirag9\"], [\"Fel1xK1NG\", \"eirc93\"], [\"Crecendus\", \"eirfab\"], [\"rmorg0112\", \"eirh0f\"], [\"bysontaco\", \"eirhtw\"], [\"bloodphoenixxiii\", \"eirr56\"], [\"mitrensu\", \"eiry04\"], [\"BadRobot10\", \"eiry5a\"], [\"lordantinoob\", \"eirzg2\"], [\"Sound_mind\", \"eis0hu\"], [\"Soji_Juice\", \"eis4hw\"], [\"PratalMox\", \"eis5p5\"], [\"sawyerxbox1\", \"eis601\"], [\"rezmeihaveghorn\", \"eisfob\"], [\"fuze-the-hostage-\", \"eisg8w\"], [\"Pattonic\", \"eisgvf\"], [\"neck_crow\", \"eisi8f\"], [\"freshizdaword\", \"eisiz9\"], [\"RichTheKid300\", \"eisoua\"], [\"Rod_je\", \"eisp00\"], [\"Stewbeef12\", \"eisq00\"], [\"FR3AKuency\", \"eisscl\"], [\"koyafee\", \"eisw5h\"], [\"TheRageCagePro\", \"eisy9g\"], [\"MovableFormula\", \"eit35t\"], [\"iShredUwU\", \"eit973\"], [\"tjac357\", \"eit9a3\"], [\"DaBadGuy13\", \"eitbe5\"], [\"salty-pretzels\", \"eitdl3\"], [\"Al_the_Renegade\", \"eitf2o\"], [\"bacterialtrailer\", \"eittgf\"], [\"Zeoxhostil\", \"eituxe\"], [\"SmashEffect\", \"eitvxy\"], [\"Darth_Onaga\", \"eitxhf\"], [\"chumly143\", \"eiu4wq\"], [\"GreyS550\", \"eiu6kl\"], [\"IvanthePotato\", \"eiuaof\"], [\"Umbrabyss\", \"eiug4v\"], [\"mythmin24\", \"eiullx\"], [\"GodKingMussolini\", \"eiuvcx\"], [\"Suisyo\", \"eiuwni\"], [\"Iamzeek2000\", \"eiux7b\"], [\"Needlessspace\", \"eiuyhz\"], [\"tracermain12\", \"eiuyva\"], [\"vivereFerrari\", \"eiv143\"], [\"xCrazedRedneckx\", \"eiv1cm\"], [\"YourSaltyTeam\", \"eiv3cf\"], [\"twalsh78\", \"eiv50y\"], [\"OfficialMemeOfficer\", \"eivbp0\"], [\"TheWiltingOrchid\", \"eivjt9\"], [\"Goe_Phaste\", \"eivotj\"], [\"roguegeek\", \"eivwp6\"], [\"vhaztec515054\", \"eiw6xi\"], [\"silveraldi\", \"eiwon2\"], [\"Fusionking69\", \"eiwow1\"], [\"mooseythings\", \"eiwwf0\"], [\"Alexander070305\", \"eiwyc7\"], [\"Splungus343\", \"eiwzpr\"], [\"Alexander070305\", \"eix2nb\"], [\"MoMisteries\", \"eix5ck\"], [\"InevitableCommittee8\", \"eix5o5\"], [\"tonnesofonions\", \"eix7iu\"], [\"heidihoeveryone\", \"eixby7\"], [\"Hansolo240\", \"eixcq8\"], [\"wingsofbehamut\", \"eixi79\"], [\"superking101\", \"eixnc7\"], [\"LosVeneficus\", \"eixneg\"], [\"Chung_bungus\", \"eixu3u\"], [\"DTG_Bot\", \"eixyig\"], [\"DTG_Bot\", \"eixyjy\"], [\"axelemils\", \"eiy2dr\"], [\"axelemils\", \"eiy6cw\"], [\"varlak02\", \"eiy94c\"], [\"Lucavellz\", \"eiycxu\"], [\"Talia_Sendua\", \"eiyg20\"], [\"Viper_yo\", \"eiykcb\"], [\"driveoutthenwahs\", \"eiylmr\"], [\"Azothexe\", \"eiym41\"], [\"axelemils\", \"eiymv6\"], [\"Adranelyne\", \"eiys8q\"], [\"destinyvoidlock\", \"eiyszg\"], [\"r3life\", \"eiyvwg\"], [\"Yuki--San\", \"eiz3wr\"], [\"theparttymer247\", \"eiz82v\"], [\"ThreatLevelNoonday\", \"eiz9dc\"], [\"TizzioCaio\", \"eizdg4\"], [\"FalierTheCat\", \"eizdi6\"], [\"Jason5500\", \"eizeq8\"], [\"Stewbeef12\", \"eizgk2\"], [\"saDD3ath\", \"eizhmr\"], [\"Talia_Sendua\", \"eizibj\"], [\"Soji_Juice\", \"eizikc\"], [\"booyazord\", \"eizjy5\"], [\"iPostYiffAndStuff\", \"eizkwn\"], [\"Mercules904\", \"eizm6l\"], [\"OhHolyCrapNo\", \"eizmia\"], [\"4M_Mark\", \"eizmwu\"], [\"DevastationSarge\", \"eizn1c\"], [\"throwaway_lovely\", \"eizqnv\"], [\"Acethemain777\", \"eiztp3\"], [\"LoboStele\", \"eizvwd\"], [\"Offsprngx\", \"eizxf1\"], [\"weebkeeb\", \"eizy4e\"], [\"carodjah_\", \"eizz3u\"], [\"serhitta\", \"ej0048\"], [\"ebpicgamer\", \"ej02n0\"], [\"LemurreTTV\", \"ej04sz\"], [\"fxbeta\", \"ej064d\"], [\"DukeMonty\", \"ej0748\"], [\"her3sy\", \"ej07vt\"], [\"facetious_guardian\", \"ej0932\"], [\"AutoriiNovici\", \"ej097i\"], [\"QmanFTW\", \"ej09re\"], [\"OneEdBoi\", \"ej0d91\"], [\"Ramikyn\", \"ej0mnl\"], [\"BigOlTittiesOnMyCake\", \"ej0oub\"], [\"MrFluffehkins\", \"ej0ovc\"], [\"ZilorZilhaust\", \"ej0tjy\"], [\"Hypochrisy117\", \"ej0u8g\"], [\"DTG_Bot\", \"ej0uql\"], [\"SmartieX\", \"ej13u4\"], [\"Soundch4ser\", \"ej158d\"], [\"ChocolaceArt\", \"ej16wb\"], [\"Darudeboy\", \"ej174m\"], [\"Nexmel22122212\", \"ej19sz\"], [\"PoddyPod\", \"ej19t6\"], [\"iconorcz\", \"ej1c97\"], [\"ben9d2\", \"ej1cf2\"], [\"gammagulp\", \"ej1j5z\"]], \"hoverlabel\": {\"namelength\": 0}, \"hovertemplate\": \"sentiment=positive<br>Date Posted=%{x}<br>Post Polarity=%{y}<br>num_comments=%{marker.size}<br>author=%{customdata[0]}<br>id=%{customdata[1]}\", \"legendgroup\": \"sentiment=positive\", \"marker\": {\"color\": \"violet\", \"size\": [1, 0, 8, 1, 0, 5, 8, 1, 0, 2, 25, 6, 5, 1, 8, 4, 13, 3, 25, 2, 31, 4, 5, 7, 13, 4, 14, 17, 1, 1, 17, 26, 11, 1, 22, 9, 3, 11, 9, 5, 15, 15, 2, 16, 670, 1, 2, 15, 4, 13, 100, 3, 0, 12, 37, 12, 7, 16, 22, 0, 2, 5, 8, 6, 1, 18, 2, 5, 4, 9, 12, 0, 6, 99, 2, 2, 3, 5, 9, 133, 3, 11, 17, 3, 4, 4, 1, 0, 18, 3, 8, 6, 3, 5, 1, 12, 9, 22, 4, 164, 9, 4, 20, 3, 19, 40, 2, 1, 10, 9, 8, 2, 3, 8, 12, 17, 3, 38, 2, 2, 6, 41, 16, 9, 13, 0, 7, 10, 3, 9, 11, 8, 1, 0, 8, 2, 8, 0, 2, 0], \"sizemode\": \"area\", \"sizeref\": 1.675, \"symbol\": \"circle\"}, \"mode\": \"markers\", \"name\": \"sentiment=positive\", \"showlegend\": true, \"type\": \"scatter\", \"x\": [\"2020-01-02T00:55:46\", \"2020-01-02T00:56:45\", \"2020-01-02T00:57:58\", \"2020-01-02T01:00:58\", \"2020-01-02T01:10:31\", \"2020-01-02T01:14:35\", \"2020-01-02T01:21:58\", \"2020-01-02T01:23:42\", \"2020-01-02T01:33:09\", \"2020-01-02T01:35:11\", \"2020-01-02T01:38:31\", \"2020-01-02T01:41:56\", \"2020-01-02T01:46:00\", \"2020-01-02T01:53:00\", \"2020-01-02T01:56:55\", \"2020-01-02T01:58:52\", \"2020-01-02T02:19:42\", \"2020-01-02T02:35:01\", \"2020-01-02T02:35:20\", \"2020-01-02T02:38:13\", \"2020-01-02T02:40:38\", \"2020-01-02T02:49:39\", \"2020-01-02T02:52:14\", \"2020-01-02T02:52:51\", \"2020-01-02T03:15:08\", \"2020-01-02T03:16:30\", \"2020-01-02T03:18:04\", \"2020-01-02T03:21:11\", \"2020-01-02T03:22:56\", \"2020-01-02T03:36:31\", \"2020-01-02T03:36:53\", \"2020-01-02T03:39:08\", \"2020-01-02T03:44:24\", \"2020-01-02T03:53:20\", \"2020-01-02T03:58:27\", \"2020-01-02T04:10:19\", \"2020-01-02T04:25:38\", \"2020-01-02T04:25:52\", \"2020-01-02T04:31:12\", \"2020-01-02T04:36:30\", \"2020-01-02T04:40:23\", \"2020-01-02T05:15:42\", \"2020-01-02T05:19:32\", \"2020-01-02T05:22:06\", \"2020-01-02T05:25:59\", \"2020-01-02T05:45:06\", \"2020-01-02T05:49:32\", \"2020-01-02T06:00:34\", \"2020-01-02T06:14:50\", \"2020-01-02T06:30:02\", \"2020-01-02T06:58:26\", \"2020-01-02T07:02:24\", \"2020-01-02T07:04:06\", \"2020-01-02T07:07:34\", \"2020-01-02T07:08:35\", \"2020-01-02T07:15:17\", \"2020-01-02T07:16:03\", \"2020-01-02T07:22:16\", \"2020-01-02T07:27:26\", \"2020-01-02T07:48:56\", \"2020-01-02T08:15:39\", \"2020-01-02T08:33:13\", \"2020-01-02T09:00:59\", \"2020-01-02T09:35:56\", \"2020-01-02T10:36:34\", \"2020-01-02T10:37:27\", \"2020-01-02T11:02:47\", \"2020-01-02T11:08:57\", \"2020-01-02T11:13:06\", \"2020-01-02T11:22:43\", \"2020-01-02T11:31:57\", \"2020-01-02T11:32:56\", \"2020-01-02T11:38:55\", \"2020-01-02T11:52:57\", \"2020-01-02T11:55:31\", \"2020-01-02T12:12:47\", \"2020-01-02T12:28:29\", \"2020-01-02T12:28:40\", \"2020-01-02T12:48:33\", \"2020-01-02T13:01:11\", \"2020-01-02T13:01:18\", \"2020-01-02T13:11:42\", \"2020-01-02T13:22:41\", \"2020-01-02T13:30:38\", \"2020-01-02T13:40:56\", \"2020-01-02T13:49:09\", \"2020-01-02T14:00:29\", \"2020-01-02T14:03:57\", \"2020-01-02T14:05:07\", \"2020-01-02T14:06:52\", \"2020-01-02T14:20:13\", \"2020-01-02T14:22:06\", \"2020-01-02T14:29:28\", \"2020-01-02T14:49:04\", \"2020-01-02T14:58:48\", \"2020-01-02T15:01:45\", \"2020-01-02T15:10:46\", \"2020-01-02T15:10:54\", \"2020-01-02T15:13:37\", \"2020-01-02T15:17:47\", \"2020-01-02T15:20:09\", \"2020-01-02T15:21:45\", \"2020-01-02T15:22:14\", \"2020-01-02T15:25:15\", \"2020-01-02T15:27:31\", \"2020-01-02T15:30:26\", \"2020-01-02T15:31:13\", \"2020-01-02T15:32:06\", \"2020-01-02T15:32:21\", \"2020-01-02T15:40:11\", \"2020-01-02T15:46:43\", \"2020-01-02T15:51:31\", \"2020-01-02T15:55:03\", \"2020-01-02T15:56:31\", \"2020-01-02T15:58:34\", \"2020-01-02T16:00:41\", \"2020-01-02T16:06:05\", \"2020-01-02T16:10:48\", \"2020-01-02T16:13:38\", \"2020-01-02T16:15:50\", \"2020-01-02T16:17:29\", \"2020-01-02T16:20:02\", \"2020-01-02T16:20:18\", \"2020-01-02T16:21:31\", \"2020-01-02T16:28:40\", \"2020-01-02T16:48:25\", \"2020-01-02T16:53:03\", \"2020-01-02T16:53:06\", \"2020-01-02T17:02:41\", \"2020-01-02T17:03:55\", \"2020-01-02T17:04:52\", \"2020-01-02T17:23:02\", \"2020-01-02T17:25:50\", \"2020-01-02T17:29:10\", \"2020-01-02T17:29:35\", \"2020-01-02T17:35:01\", \"2020-01-02T17:35:02\", \"2020-01-02T17:39:53\", \"2020-01-02T17:40:16\", \"2020-01-02T17:53:39\"], \"xaxis\": \"x\", \"y\": [0.185, 0.5, 0.5, 0.13541666666666666, 0.2590909090909091, 0.39999999999999997, 0.33888888888888885, 0.16272058823529417, 0.2722222222222222, 0.5399999999999999, 0.22999999999999998, 0.27916666666666673, 0.3, 0.07053571428571428, 0.07904040404040405, 0.24163025210084035, 0.20833333333333334, 0.17500000000000002, 0.08027210884353742, 0.02666666666666666, 0.14750000000000002, 0.31258503401360543, 0.14477272727272728, 0.032575757575757584, 0.03571428571428571, 0.5, 0.052380952380952375, 0.01687147977470559, 0.07863636363636364, 0.2, 0.33166666666666667, 0.17289473684210527, 0.08727272727272727, 0.42857142857142855, 0.5666666666666667, 1.0, 0.3002705627705628, 0.26666666666666666, 0.1465909090909091, 0.04643442143442144, 0.13810575227241895, 0.4510416666666667, 0.07546296296296297, 0.125, 0.17065217391304346, 0.13650793650793652, 0.14188311688311692, 0.07272727272727275, 0.19166666666666665, 0.023611111111111107, 0.4976190476190476, 0.032499999999999994, 0.19772727272727272, 0.13333333333333333, 0.1, 0.375, 0.2, 0.06043956043956042, 0.19641666666666668, 0.20610795454545455, 0.2, 0.05, 0.2183333333333333, 0.1787878787878788, 0.053636363636363635, 0.058191823899371, 0.10584733893557423, 0.06818181818181818, 0.16666666666666666, 0.35, 0.23888888888888887, 0.23393939393939397, 0.2753968253968254, 0.033333333333333326, 0.10416666666666667, 0.10601491101491102, 0.14999999999999997, 0.031746031746031744, 0.08333333333333333, 0.3099897787397787, 0.22413911845730025, 0.3222222222222222, 0.4442857142857143, 0.12088827838827841, 0.35, 0.034375, 0.3088392857142857, 0.12467532467532469, 1.0, 0.525, 0.13102272727272724, 0.21666666666666667, 0.02857142857142862, 0.14964646464646464, 0.031111111111111107, 0.010714285714285713, 0.014285714285714275, 0.3125625676406926, 0.175, 0.19845350052246602, 0.8, 0.45, 0.1926311433664375, 0.25, 0.16948051948051948, 0.20657553101756013, 0.42857142857142855, 0.1791666666666667, 0.20833333333333331, 0.175, 0.509090909090909, 0.08502214839424141, 0.04707792207792208, 0.05714285714285713, 0.06190476190476189, 0.1909090909090909, 0.17192982456140354, 0.1380094748019276, 0.12604166666666666, 0.2848484848484848, 0.03571428571428571, 0.0523809523809524, 0.04907407407407407, 0.0028409090909090884, 0.21103896103896103, 0.13164335664335663, 0.06904761904761905, 0.7, 0.158512987012987, 0.04880952380952381, 0.14733445566778902, 0.3666666666666667, 0.20097402597402594, 0.35714285714285715, 0.48, 0.15501984126984125, 0.011111111111111118, 0.20833333333333334, 0.1730434782608696, 0.029166666666666657], \"yaxis\": \"y\"}, {\"alignmentgroup\": \"True\", \"bingroup\": \"x\", \"hoverlabel\": {\"namelength\": 0}, \"hovertemplate\": \"sentiment=positive<br>Date Posted=%{x}<br>count=%{y}\", \"legendgroup\": \"sentiment=positive\", \"marker\": {\"color\": \"violet\"}, \"name\": \"sentiment=positive\", \"offsetgroup\": \"sentiment=positive\", \"opacity\": 0.5, \"showlegend\": false, \"type\": \"histogram\", \"x\": [\"2020-01-02T00:55:46\", \"2020-01-02T00:56:45\", \"2020-01-02T00:57:58\", \"2020-01-02T01:00:58\", \"2020-01-02T01:10:31\", \"2020-01-02T01:14:35\", \"2020-01-02T01:21:58\", \"2020-01-02T01:23:42\", \"2020-01-02T01:33:09\", \"2020-01-02T01:35:11\", \"2020-01-02T01:38:31\", \"2020-01-02T01:41:56\", \"2020-01-02T01:46:00\", \"2020-01-02T01:53:00\", \"2020-01-02T01:56:55\", \"2020-01-02T01:58:52\", \"2020-01-02T02:19:42\", \"2020-01-02T02:35:01\", \"2020-01-02T02:35:20\", \"2020-01-02T02:38:13\", \"2020-01-02T02:40:38\", \"2020-01-02T02:49:39\", \"2020-01-02T02:52:14\", \"2020-01-02T02:52:51\", \"2020-01-02T03:15:08\", \"2020-01-02T03:16:30\", \"2020-01-02T03:18:04\", \"2020-01-02T03:21:11\", \"2020-01-02T03:22:56\", \"2020-01-02T03:36:31\", \"2020-01-02T03:36:53\", \"2020-01-02T03:39:08\", \"2020-01-02T03:44:24\", \"2020-01-02T03:53:20\", \"2020-01-02T03:58:27\", \"2020-01-02T04:10:19\", \"2020-01-02T04:25:38\", \"2020-01-02T04:25:52\", \"2020-01-02T04:31:12\", \"2020-01-02T04:36:30\", \"2020-01-02T04:40:23\", \"2020-01-02T05:15:42\", \"2020-01-02T05:19:32\", \"2020-01-02T05:22:06\", \"2020-01-02T05:25:59\", \"2020-01-02T05:45:06\", \"2020-01-02T05:49:32\", \"2020-01-02T06:00:34\", \"2020-01-02T06:14:50\", \"2020-01-02T06:30:02\", \"2020-01-02T06:58:26\", \"2020-01-02T07:02:24\", \"2020-01-02T07:04:06\", \"2020-01-02T07:07:34\", \"2020-01-02T07:08:35\", \"2020-01-02T07:15:17\", \"2020-01-02T07:16:03\", \"2020-01-02T07:22:16\", \"2020-01-02T07:27:26\", \"2020-01-02T07:48:56\", \"2020-01-02T08:15:39\", \"2020-01-02T08:33:13\", \"2020-01-02T09:00:59\", \"2020-01-02T09:35:56\", \"2020-01-02T10:36:34\", \"2020-01-02T10:37:27\", \"2020-01-02T11:02:47\", \"2020-01-02T11:08:57\", \"2020-01-02T11:13:06\", \"2020-01-02T11:22:43\", \"2020-01-02T11:31:57\", \"2020-01-02T11:32:56\", \"2020-01-02T11:38:55\", \"2020-01-02T11:52:57\", \"2020-01-02T11:55:31\", \"2020-01-02T12:12:47\", \"2020-01-02T12:28:29\", \"2020-01-02T12:28:40\", \"2020-01-02T12:48:33\", \"2020-01-02T13:01:11\", \"2020-01-02T13:01:18\", \"2020-01-02T13:11:42\", \"2020-01-02T13:22:41\", \"2020-01-02T13:30:38\", \"2020-01-02T13:40:56\", \"2020-01-02T13:49:09\", \"2020-01-02T14:00:29\", \"2020-01-02T14:03:57\", \"2020-01-02T14:05:07\", \"2020-01-02T14:06:52\", \"2020-01-02T14:20:13\", \"2020-01-02T14:22:06\", \"2020-01-02T14:29:28\", \"2020-01-02T14:49:04\", \"2020-01-02T14:58:48\", \"2020-01-02T15:01:45\", \"2020-01-02T15:10:46\", \"2020-01-02T15:10:54\", \"2020-01-02T15:13:37\", \"2020-01-02T15:17:47\", \"2020-01-02T15:20:09\", \"2020-01-02T15:21:45\", \"2020-01-02T15:22:14\", \"2020-01-02T15:25:15\", \"2020-01-02T15:27:31\", \"2020-01-02T15:30:26\", \"2020-01-02T15:31:13\", \"2020-01-02T15:32:06\", \"2020-01-02T15:32:21\", \"2020-01-02T15:40:11\", \"2020-01-02T15:46:43\", \"2020-01-02T15:51:31\", \"2020-01-02T15:55:03\", \"2020-01-02T15:56:31\", \"2020-01-02T15:58:34\", \"2020-01-02T16:00:41\", \"2020-01-02T16:06:05\", \"2020-01-02T16:10:48\", \"2020-01-02T16:13:38\", \"2020-01-02T16:15:50\", \"2020-01-02T16:17:29\", \"2020-01-02T16:20:02\", \"2020-01-02T16:20:18\", \"2020-01-02T16:21:31\", \"2020-01-02T16:28:40\", \"2020-01-02T16:48:25\", \"2020-01-02T16:53:03\", \"2020-01-02T16:53:06\", \"2020-01-02T17:02:41\", \"2020-01-02T17:03:55\", \"2020-01-02T17:04:52\", \"2020-01-02T17:23:02\", \"2020-01-02T17:25:50\", \"2020-01-02T17:29:10\", \"2020-01-02T17:29:35\", \"2020-01-02T17:35:01\", \"2020-01-02T17:35:02\", \"2020-01-02T17:39:53\", \"2020-01-02T17:40:16\", \"2020-01-02T17:53:39\"], \"xaxis\": \"x2\", \"yaxis\": \"y2\"}, {\"customdata\": [[\"Pyuk_Munko\", \"eiqqz3\"], [\"Ser3nity91\", \"eiqy1w\"], [\"frankieluigi\", \"eir2ce\"], [\"VON_TAR\", \"eir2lb\"], [\"Mrpenguin4521\", \"eir2pv\"], [\"gophish92\", \"eircue\"], [\"ToBeFrozen\", \"eirdy5\"], [\"MR-0P\", \"eirgi0\"], [\"mistagitgud\", \"eirk8h\"], [\"Gjallarmoon\", \"eirlhc\"], [\"TheDegenerant\", \"eirmpt\"], [\"BirmingHamtaro\", \"eirp6h\"], [\"JamesYahr\", \"eirvg2\"], [\"13umble\", \"eirz3c\"], [\"downAtheworld\", \"eis90g\"], [\"SkimmedMilkPowder\", \"eisvz1\"], [\"Scrotum_Wravecker\", \"eisxpb\"], [\"linkinzpark88\", \"eisy73\"], [\"pattyice420\", \"eisyh7\"], [\"WoWRLAmazing\", \"eit1cy\"], [\"deforrest53\", \"eit2kp\"], [\"seejay479\", \"eit36b\"], [\"StoryTime5675\", \"eit4wz\"], [\"cleatplays\", \"eit9vs\"], [\"Attention_Bear_Fuckr\", \"eithq1\"], [\"XavierArc37\", \"eitv6s\"], [\"megamanlan10\", \"eiulje\"], [\"DHamlinMusic\", \"eiulty\"], [\"Jackal_Main_0224\", \"eiunaz\"], [\"Recon_Drone_Deployed\", \"eiusdn\"], [\"thebigkahuna128\", \"eiut5p\"], [\"dank_void470\", \"eiuvmw\"], [\"uhhhhwhydoyoucare175\", \"eiv19x\"], [\"AgentOrang_Jpg\", \"eiv381\"], [\"StoryTime5675\", \"eiv8a3\"], [\"BonnieJan21\", \"eiva58\"], [\"jamilDK\", \"eivjc8\"], [\"her3sy\", \"eivn9a\"], [\"OPSweeperMan\", \"eivnz3\"], [\"Shiely\", \"eivp1o\"], [\"avram_\", \"eiw6xb\"], [\"BothSuspect\", \"eiwje6\"], [\"AceCareibour12\", \"eiwp19\"], [\"Revan13\", \"eiwyse\"], [\"ChaoticNootral\", \"eixd5z\"], [\"Havvler\", \"eixf1b\"], [\"Traubentritt\", \"eixhw1\"], [\"Traubentritt\", \"eixjxi\"], [\"Apollo_Sierra\", \"eixq6q\"], [\"Blyrup\", \"eixxor\"], [\"thezl1\", \"eixy56\"], [\"UltraMelek\", \"eiy2m0\"], [\"Hexatorium\", \"eiy42q\"], [\"Sir_Fongo\", \"eiyo2c\"], [\"NandoCa1rissian\", \"eiyux9\"], [\"MwANicky13\", \"eiywnp\"], [\"cloud4u71\", \"eiyykd\"], [\"boljon\", \"eiz8em\"], [\"Lunaretta\", \"eizbrt\"], [\"NomadicDragon\", \"eizf05\"], [\"VSVP_Dead\", \"eizqac\"], [\"sn9691\", \"eizxig\"], [\"gewdykhed44\", \"ej03h6\"], [\"MrSloppyPants\", \"ej04z5\"], [\"DarthGR\", \"ej05n5\"], [\"TheLastRuso\", \"ej076d\"], [\"mtw8922\", \"ej0c3q\"], [\"Nydid\", \"ej0ff6\"], [\"DaBadGuy13\", \"ej0fs1\"], [\"stoopidfuture\", \"ej0koj\"], [\"DownWithAuthority\", \"ej0ohk\"], [\"Luxor5299\", \"ej0quk\"], [\"SwarthyWalnuts\", \"ej113o\"], [\"gewdykhed44\", \"ej137p\"], [\"Weddert66\", \"ej1dbt\"], [\"TheResWolf\", \"ej1jbb\"]], \"hoverlabel\": {\"namelength\": 0}, \"hovertemplate\": \"sentiment=negative<br>Date Posted=%{x}<br>Post Polarity=%{y}<br>num_comments=%{marker.size}<br>author=%{customdata[0]}<br>id=%{customdata[1]}\", \"legendgroup\": \"sentiment=negative\", \"marker\": {\"color\": \"lightslategrey\", \"size\": [1, 4, 5, 4, 10, 11, 7, 0, 6, 8, 4, 17, 17, 2, 8, 9, 0, 4, 3, 3, 5, 2, 3, 47, 72, 4, 3, 0, 7, 35, 3, 15, 12, 7, 3, 56, 14, 3, 4, 2, 1, 9, 4, 9, 0, 8, 0, 0, 19, 10, 4, 12, 15, 8, 4, 5, 2, 3, 33, 24, 8, 8, 5, 2, 20, 1, 22, 5, 7, 9, 3, 10, 13, 4, 4, 0], \"sizemode\": \"area\", \"sizeref\": 1.675, \"symbol\": \"circle\"}, \"mode\": \"markers\", \"name\": \"sentiment=negative\", \"showlegend\": true, \"type\": \"scatter\", \"x\": [\"2020-01-02T00:58:40\", \"2020-01-02T01:14:23\", \"2020-01-02T01:24:04\", \"2020-01-02T01:24:34\", \"2020-01-02T01:24:51\", \"2020-01-02T01:47:15\", \"2020-01-02T01:49:57\", \"2020-01-02T01:55:47\", \"2020-01-02T02:04:17\", \"2020-01-02T02:07:03\", \"2020-01-02T02:09:48\", \"2020-01-02T02:15:21\", \"2020-01-02T02:29:14\", \"2020-01-02T02:37:24\", \"2020-01-02T02:59:55\", \"2020-01-02T03:52:56\", \"2020-01-02T03:56:59\", \"2020-01-02T03:58:19\", \"2020-01-02T03:58:59\", \"2020-01-02T04:05:55\", \"2020-01-02T04:08:55\", \"2020-01-02T04:10:21\", \"2020-01-02T04:14:50\", \"2020-01-02T04:27:19\", \"2020-01-02T04:47:03\", \"2020-01-02T05:20:13\", \"2020-01-02T06:29:49\", \"2020-01-02T06:30:39\", \"2020-01-02T06:34:57\", \"2020-01-02T06:49:41\", \"2020-01-02T06:51:54\", \"2020-01-02T06:59:17\", \"2020-01-02T07:15:48\", \"2020-01-02T07:21:55\", \"2020-01-02T07:37:48\", \"2020-01-02T07:43:45\", \"2020-01-02T08:14:07\", \"2020-01-02T08:27:31\", \"2020-01-02T08:29:59\", \"2020-01-02T08:34:01\", \"2020-01-02T09:35:55\", \"2020-01-02T10:18:06\", \"2020-01-02T10:37:57\", \"2020-01-02T11:10:22\", \"2020-01-02T11:56:58\", \"2020-01-02T12:02:51\", \"2020-01-02T12:11:49\", \"2020-01-02T12:18:02\", \"2020-01-02T12:37:10\", \"2020-01-02T12:58:55\", \"2020-01-02T13:00:10\", \"2020-01-02T13:12:19\", \"2020-01-02T13:16:16\", \"2020-01-02T14:09:54\", \"2020-01-02T14:27:05\", \"2020-01-02T14:31:25\", \"2020-01-02T14:36:16\", \"2020-01-02T14:59:35\", \"2020-01-02T15:07:11\", \"2020-01-02T15:14:15\", \"2020-01-02T15:39:20\", \"2020-01-02T15:55:15\", \"2020-01-02T16:07:54\", \"2020-01-02T16:11:08\", \"2020-01-02T16:12:32\", \"2020-01-02T16:15:57\", \"2020-01-02T16:26:15\", \"2020-01-02T16:33:24\", \"2020-01-02T16:34:09\", \"2020-01-02T16:44:21\", \"2020-01-02T16:52:17\", \"2020-01-02T16:57:11\", \"2020-01-02T17:17:32\", \"2020-01-02T17:21:49\", \"2020-01-02T17:42:06\", \"2020-01-02T17:53:58\"], \"xaxis\": \"x\", \"y\": [-0.275, -0.08437499999999998, 0.0, 0.0, -0.325, 0.0, -0.027281746031746015, -0.2111111111111111, 0.0, 0.0, -0.21666666666666667, -0.5578125, -0.17714285714285719, -0.22182539682539684, -0.5, -0.6041666666666665, -0.05, -0.10416666666666666, 0.0, -0.2, -0.08, -0.10272727272727274, 0.0, 0.0, -0.2333333333333333, -0.0690340909090909, 0.0, 0.0, -0.022857142857142864, 0.0, -0.033333333333333326, -0.1, -0.017647058823529432, -0.14285714285714285, -0.13333333333333333, 0.0, 0.0, -0.5, -0.004629629629629654, -0.13888888888888892, 0.0, 0.0, -0.1, -0.08503401360544217, -0.2288818359375, -0.11085858585858585, -0.007177729677729678, -0.012678735406008135, -0.125, -0.03819444444444444, -0.047619047619047616, -0.45, -0.008048552754435117, -0.02500000000000001, 0.0, -0.125, -0.07272727272727272, 0.0, -0.017916666666666664, -0.25, 0.0, -0.25, -0.024999999999999994, -0.023611111111111114, -0.16666666666666666, 0.0, -0.2, -0.3833333333333333, -0.15625, -0.2, -0.16666666666666666, -0.0375, -0.02467532467532469, -0.1, -0.28, -0.375], \"yaxis\": \"y\"}, {\"alignmentgroup\": \"True\", \"bingroup\": \"x\", \"hoverlabel\": {\"namelength\": 0}, \"hovertemplate\": \"sentiment=negative<br>Date Posted=%{x}<br>count=%{y}\", \"legendgroup\": \"sentiment=negative\", \"marker\": {\"color\": \"lightslategrey\"}, \"name\": \"sentiment=negative\", \"offsetgroup\": \"sentiment=negative\", \"opacity\": 0.5, \"showlegend\": false, \"type\": \"histogram\", \"x\": [\"2020-01-02T00:58:40\", \"2020-01-02T01:14:23\", \"2020-01-02T01:24:04\", \"2020-01-02T01:24:34\", \"2020-01-02T01:24:51\", \"2020-01-02T01:47:15\", \"2020-01-02T01:49:57\", \"2020-01-02T01:55:47\", \"2020-01-02T02:04:17\", \"2020-01-02T02:07:03\", \"2020-01-02T02:09:48\", \"2020-01-02T02:15:21\", \"2020-01-02T02:29:14\", \"2020-01-02T02:37:24\", \"2020-01-02T02:59:55\", \"2020-01-02T03:52:56\", \"2020-01-02T03:56:59\", \"2020-01-02T03:58:19\", \"2020-01-02T03:58:59\", \"2020-01-02T04:05:55\", \"2020-01-02T04:08:55\", \"2020-01-02T04:10:21\", \"2020-01-02T04:14:50\", \"2020-01-02T04:27:19\", \"2020-01-02T04:47:03\", \"2020-01-02T05:20:13\", \"2020-01-02T06:29:49\", \"2020-01-02T06:30:39\", \"2020-01-02T06:34:57\", \"2020-01-02T06:49:41\", \"2020-01-02T06:51:54\", \"2020-01-02T06:59:17\", \"2020-01-02T07:15:48\", \"2020-01-02T07:21:55\", \"2020-01-02T07:37:48\", \"2020-01-02T07:43:45\", \"2020-01-02T08:14:07\", \"2020-01-02T08:27:31\", \"2020-01-02T08:29:59\", \"2020-01-02T08:34:01\", \"2020-01-02T09:35:55\", \"2020-01-02T10:18:06\", \"2020-01-02T10:37:57\", \"2020-01-02T11:10:22\", \"2020-01-02T11:56:58\", \"2020-01-02T12:02:51\", \"2020-01-02T12:11:49\", \"2020-01-02T12:18:02\", \"2020-01-02T12:37:10\", \"2020-01-02T12:58:55\", \"2020-01-02T13:00:10\", \"2020-01-02T13:12:19\", \"2020-01-02T13:16:16\", \"2020-01-02T14:09:54\", \"2020-01-02T14:27:05\", \"2020-01-02T14:31:25\", \"2020-01-02T14:36:16\", \"2020-01-02T14:59:35\", \"2020-01-02T15:07:11\", \"2020-01-02T15:14:15\", \"2020-01-02T15:39:20\", \"2020-01-02T15:55:15\", \"2020-01-02T16:07:54\", \"2020-01-02T16:11:08\", \"2020-01-02T16:12:32\", \"2020-01-02T16:15:57\", \"2020-01-02T16:26:15\", \"2020-01-02T16:33:24\", \"2020-01-02T16:34:09\", \"2020-01-02T16:44:21\", \"2020-01-02T16:52:17\", \"2020-01-02T16:57:11\", \"2020-01-02T17:17:32\", \"2020-01-02T17:21:49\", \"2020-01-02T17:42:06\", \"2020-01-02T17:53:58\"], \"xaxis\": \"x2\", \"yaxis\": \"y2\"}],\n",
       "                        {\"barmode\": \"overlay\", \"legend\": {\"itemsizing\": \"constant\", \"tracegroupgap\": 0}, \"template\": {\"data\": {\"bar\": [{\"error_x\": {\"color\": \"#2a3f5f\"}, \"error_y\": {\"color\": \"#2a3f5f\"}, \"marker\": {\"line\": {\"color\": \"#E5ECF6\", \"width\": 0.5}}, \"type\": \"bar\"}], \"barpolar\": [{\"marker\": {\"line\": {\"color\": \"#E5ECF6\", \"width\": 0.5}}, \"type\": \"barpolar\"}], \"carpet\": [{\"aaxis\": {\"endlinecolor\": \"#2a3f5f\", \"gridcolor\": \"white\", \"linecolor\": \"white\", \"minorgridcolor\": \"white\", \"startlinecolor\": \"#2a3f5f\"}, \"baxis\": {\"endlinecolor\": \"#2a3f5f\", \"gridcolor\": \"white\", \"linecolor\": \"white\", \"minorgridcolor\": \"white\", \"startlinecolor\": \"#2a3f5f\"}, \"type\": \"carpet\"}], \"choropleth\": [{\"colorbar\": {\"outlinewidth\": 0, \"ticks\": \"\"}, \"type\": \"choropleth\"}], \"contour\": [{\"colorbar\": {\"outlinewidth\": 0, \"ticks\": \"\"}, \"colorscale\": [[0.0, \"#0d0887\"], [0.1111111111111111, \"#46039f\"], [0.2222222222222222, \"#7201a8\"], [0.3333333333333333, \"#9c179e\"], [0.4444444444444444, \"#bd3786\"], [0.5555555555555556, \"#d8576b\"], [0.6666666666666666, \"#ed7953\"], [0.7777777777777778, \"#fb9f3a\"], [0.8888888888888888, \"#fdca26\"], [1.0, \"#f0f921\"]], \"type\": \"contour\"}], \"contourcarpet\": [{\"colorbar\": {\"outlinewidth\": 0, \"ticks\": \"\"}, \"type\": \"contourcarpet\"}], \"heatmap\": [{\"colorbar\": {\"outlinewidth\": 0, \"ticks\": \"\"}, \"colorscale\": [[0.0, \"#0d0887\"], [0.1111111111111111, \"#46039f\"], [0.2222222222222222, \"#7201a8\"], [0.3333333333333333, \"#9c179e\"], [0.4444444444444444, \"#bd3786\"], [0.5555555555555556, \"#d8576b\"], [0.6666666666666666, \"#ed7953\"], [0.7777777777777778, \"#fb9f3a\"], [0.8888888888888888, \"#fdca26\"], [1.0, \"#f0f921\"]], \"type\": \"heatmap\"}], \"heatmapgl\": [{\"colorbar\": {\"outlinewidth\": 0, \"ticks\": \"\"}, \"colorscale\": [[0.0, \"#0d0887\"], [0.1111111111111111, \"#46039f\"], [0.2222222222222222, \"#7201a8\"], [0.3333333333333333, \"#9c179e\"], [0.4444444444444444, \"#bd3786\"], [0.5555555555555556, \"#d8576b\"], [0.6666666666666666, \"#ed7953\"], [0.7777777777777778, \"#fb9f3a\"], [0.8888888888888888, \"#fdca26\"], [1.0, \"#f0f921\"]], \"type\": \"heatmapgl\"}], \"histogram\": [{\"marker\": {\"colorbar\": {\"outlinewidth\": 0, \"ticks\": \"\"}}, \"type\": \"histogram\"}], \"histogram2d\": [{\"colorbar\": {\"outlinewidth\": 0, \"ticks\": \"\"}, \"colorscale\": [[0.0, \"#0d0887\"], [0.1111111111111111, \"#46039f\"], [0.2222222222222222, \"#7201a8\"], [0.3333333333333333, \"#9c179e\"], [0.4444444444444444, \"#bd3786\"], [0.5555555555555556, \"#d8576b\"], [0.6666666666666666, \"#ed7953\"], [0.7777777777777778, \"#fb9f3a\"], [0.8888888888888888, \"#fdca26\"], [1.0, \"#f0f921\"]], \"type\": \"histogram2d\"}], \"histogram2dcontour\": [{\"colorbar\": {\"outlinewidth\": 0, \"ticks\": \"\"}, \"colorscale\": [[0.0, \"#0d0887\"], [0.1111111111111111, \"#46039f\"], [0.2222222222222222, \"#7201a8\"], [0.3333333333333333, \"#9c179e\"], [0.4444444444444444, \"#bd3786\"], [0.5555555555555556, \"#d8576b\"], [0.6666666666666666, \"#ed7953\"], [0.7777777777777778, \"#fb9f3a\"], [0.8888888888888888, \"#fdca26\"], [1.0, \"#f0f921\"]], \"type\": \"histogram2dcontour\"}], \"mesh3d\": [{\"colorbar\": {\"outlinewidth\": 0, \"ticks\": \"\"}, \"type\": \"mesh3d\"}], \"parcoords\": [{\"line\": {\"colorbar\": {\"outlinewidth\": 0, \"ticks\": \"\"}}, \"type\": \"parcoords\"}], \"pie\": [{\"automargin\": true, \"type\": \"pie\"}], \"scatter\": [{\"marker\": {\"colorbar\": {\"outlinewidth\": 0, \"ticks\": \"\"}}, \"type\": \"scatter\"}], \"scatter3d\": [{\"line\": {\"colorbar\": {\"outlinewidth\": 0, \"ticks\": \"\"}}, \"marker\": {\"colorbar\": {\"outlinewidth\": 0, \"ticks\": \"\"}}, \"type\": \"scatter3d\"}], \"scattercarpet\": [{\"marker\": {\"colorbar\": {\"outlinewidth\": 0, \"ticks\": \"\"}}, \"type\": \"scattercarpet\"}], \"scattergeo\": [{\"marker\": {\"colorbar\": {\"outlinewidth\": 0, \"ticks\": \"\"}}, \"type\": \"scattergeo\"}], \"scattergl\": [{\"marker\": {\"colorbar\": {\"outlinewidth\": 0, \"ticks\": \"\"}}, \"type\": \"scattergl\"}], \"scattermapbox\": [{\"marker\": {\"colorbar\": {\"outlinewidth\": 0, \"ticks\": \"\"}}, \"type\": \"scattermapbox\"}], \"scatterpolar\": [{\"marker\": {\"colorbar\": {\"outlinewidth\": 0, \"ticks\": \"\"}}, \"type\": \"scatterpolar\"}], \"scatterpolargl\": [{\"marker\": {\"colorbar\": {\"outlinewidth\": 0, \"ticks\": \"\"}}, \"type\": \"scatterpolargl\"}], \"scatterternary\": [{\"marker\": {\"colorbar\": {\"outlinewidth\": 0, \"ticks\": \"\"}}, \"type\": \"scatterternary\"}], \"surface\": [{\"colorbar\": {\"outlinewidth\": 0, \"ticks\": \"\"}, \"colorscale\": [[0.0, \"#0d0887\"], [0.1111111111111111, \"#46039f\"], [0.2222222222222222, \"#7201a8\"], [0.3333333333333333, \"#9c179e\"], [0.4444444444444444, \"#bd3786\"], [0.5555555555555556, \"#d8576b\"], [0.6666666666666666, \"#ed7953\"], [0.7777777777777778, \"#fb9f3a\"], [0.8888888888888888, \"#fdca26\"], [1.0, \"#f0f921\"]], \"type\": \"surface\"}], \"table\": [{\"cells\": {\"fill\": {\"color\": \"#EBF0F8\"}, \"line\": {\"color\": \"white\"}}, \"header\": {\"fill\": {\"color\": \"#C8D4E3\"}, \"line\": {\"color\": \"white\"}}, \"type\": \"table\"}]}, \"layout\": {\"annotationdefaults\": {\"arrowcolor\": \"#2a3f5f\", \"arrowhead\": 0, \"arrowwidth\": 1}, \"coloraxis\": {\"colorbar\": {\"outlinewidth\": 0, \"ticks\": \"\"}}, \"colorscale\": {\"diverging\": [[0, \"#8e0152\"], [0.1, \"#c51b7d\"], [0.2, \"#de77ae\"], [0.3, \"#f1b6da\"], [0.4, \"#fde0ef\"], [0.5, \"#f7f7f7\"], [0.6, \"#e6f5d0\"], [0.7, \"#b8e186\"], [0.8, \"#7fbc41\"], [0.9, \"#4d9221\"], [1, \"#276419\"]], \"sequential\": [[0.0, \"#0d0887\"], [0.1111111111111111, \"#46039f\"], [0.2222222222222222, \"#7201a8\"], [0.3333333333333333, \"#9c179e\"], [0.4444444444444444, \"#bd3786\"], [0.5555555555555556, \"#d8576b\"], [0.6666666666666666, \"#ed7953\"], [0.7777777777777778, \"#fb9f3a\"], [0.8888888888888888, \"#fdca26\"], [1.0, \"#f0f921\"]], \"sequentialminus\": [[0.0, \"#0d0887\"], [0.1111111111111111, \"#46039f\"], [0.2222222222222222, \"#7201a8\"], [0.3333333333333333, \"#9c179e\"], [0.4444444444444444, \"#bd3786\"], [0.5555555555555556, \"#d8576b\"], [0.6666666666666666, \"#ed7953\"], [0.7777777777777778, \"#fb9f3a\"], [0.8888888888888888, \"#fdca26\"], [1.0, \"#f0f921\"]]}, \"colorway\": [\"#636efa\", \"#EF553B\", \"#00cc96\", \"#ab63fa\", \"#FFA15A\", \"#19d3f3\", \"#FF6692\", \"#B6E880\", \"#FF97FF\", \"#FECB52\"], \"font\": {\"color\": \"#2a3f5f\"}, \"geo\": {\"bgcolor\": \"white\", \"lakecolor\": \"white\", \"landcolor\": \"#E5ECF6\", \"showlakes\": true, \"showland\": true, \"subunitcolor\": \"white\"}, \"hoverlabel\": {\"align\": \"left\"}, \"hovermode\": \"closest\", \"mapbox\": {\"style\": \"light\"}, \"paper_bgcolor\": \"white\", \"plot_bgcolor\": \"#E5ECF6\", \"polar\": {\"angularaxis\": {\"gridcolor\": \"white\", \"linecolor\": \"white\", \"ticks\": \"\"}, \"bgcolor\": \"#E5ECF6\", \"radialaxis\": {\"gridcolor\": \"white\", \"linecolor\": \"white\", \"ticks\": \"\"}}, \"scene\": {\"xaxis\": {\"backgroundcolor\": \"#E5ECF6\", \"gridcolor\": \"white\", \"gridwidth\": 2, \"linecolor\": \"white\", \"showbackground\": true, \"ticks\": \"\", \"zerolinecolor\": \"white\"}, \"yaxis\": {\"backgroundcolor\": \"#E5ECF6\", \"gridcolor\": \"white\", \"gridwidth\": 2, \"linecolor\": \"white\", \"showbackground\": true, \"ticks\": \"\", \"zerolinecolor\": \"white\"}, \"zaxis\": {\"backgroundcolor\": \"#E5ECF6\", \"gridcolor\": \"white\", \"gridwidth\": 2, \"linecolor\": \"white\", \"showbackground\": true, \"ticks\": \"\", \"zerolinecolor\": \"white\"}}, \"shapedefaults\": {\"line\": {\"color\": \"#2a3f5f\"}}, \"ternary\": {\"aaxis\": {\"gridcolor\": \"white\", \"linecolor\": \"white\", \"ticks\": \"\"}, \"baxis\": {\"gridcolor\": \"white\", \"linecolor\": \"white\", \"ticks\": \"\"}, \"bgcolor\": \"#E5ECF6\", \"caxis\": {\"gridcolor\": \"white\", \"linecolor\": \"white\", \"ticks\": \"\"}}, \"title\": {\"x\": 0.05}, \"xaxis\": {\"automargin\": true, \"gridcolor\": \"white\", \"linecolor\": \"white\", \"ticks\": \"\", \"title\": {\"standoff\": 15}, \"zerolinecolor\": \"white\", \"zerolinewidth\": 2}, \"yaxis\": {\"automargin\": true, \"gridcolor\": \"white\", \"linecolor\": \"white\", \"ticks\": \"\", \"title\": {\"standoff\": 15}, \"zerolinecolor\": \"white\", \"zerolinewidth\": 2}}}, \"title\": {\"text\": \"Sentiment analysis of r/destinythegame posts from previous 24 hours\"}, \"xaxis\": {\"anchor\": \"y\", \"domain\": [0.0, 1.0], \"title\": {\"text\": \"Date Posted\"}}, \"xaxis2\": {\"anchor\": \"y2\", \"domain\": [0.0, 1.0], \"matches\": \"x\", \"showgrid\": true, \"showticklabels\": false}, \"yaxis\": {\"anchor\": \"x\", \"domain\": [0.0, 0.7326], \"title\": {\"text\": \"Post Polarity\"}}, \"yaxis2\": {\"anchor\": \"x2\", \"domain\": [0.7426, 1.0], \"matches\": \"y2\", \"showgrid\": true, \"showline\": false, \"showticklabels\": false, \"ticks\": \"\"}},\n",
       "                        {\"responsive\": true}\n",
       "                    ).then(function(){\n",
       "                            \n",
       "var gd = document.getElementById('15879435-6c51-4163-bb24-726d3babb71e');\n",
       "var x = new MutationObserver(function (mutations, observer) {{\n",
       "        var display = window.getComputedStyle(gd).display;\n",
       "        if (!display || display === 'none') {{\n",
       "            console.log([gd, 'removed!']);\n",
       "            Plotly.purge(gd);\n",
       "            observer.disconnect();\n",
       "        }}\n",
       "}});\n",
       "\n",
       "// Listen for the removal of the full notebook cells\n",
       "var notebookContainer = gd.closest('#notebook-container');\n",
       "if (notebookContainer) {{\n",
       "    x.observe(notebookContainer, {childList: true});\n",
       "}}\n",
       "\n",
       "// Listen for the clearing of the current output cell\n",
       "var outputEl = gd.closest('.output');\n",
       "if (outputEl) {{\n",
       "    x.observe(outputEl, {childList: true});\n",
       "}}\n",
       "\n",
       "                        })\n",
       "                };\n",
       "                });\n",
       "            </script>\n",
       "        </div>"
      ]
     },
     "metadata": {},
     "output_type": "display_data"
    },
    {
     "data": {
      "application/vnd.plotly.v1+json": {
       "config": {
        "plotlyServerURL": "https://plot.ly"
       },
       "data": [
        {
         "customdata": [
          [
           "xDJCJm",
           "eiqtfn"
          ],
          [
           "lukeyboy040404",
           "eiqti4"
          ],
          [
           "annoventura",
           "eiqw4g"
          ],
          [
           "McNutty45",
           "eir6fr"
          ],
          [
           "iNSTiNCT6",
           "eir6hs"
          ],
          [
           "BrutalBeauty6",
           "eir8pz"
          ],
          [
           "IWantMyChickenWings",
           "eirlbb"
          ],
          [
           "tomahawkESP",
           "eirxay"
          ],
          [
           "PrismaticArc",
           "eisisf"
          ],
          [
           "StoryTime5675",
           "eit0vz"
          ],
          [
           "negativecacti",
           "eitth1"
          ],
          [
           "0111010001100100",
           "eitvr0"
          ],
          [
           "megamanlan10",
           "eitymv"
          ],
          [
           "joppersbops",
           "eiuqjt"
          ],
          [
           "TideInTheSky",
           "eiuvmj"
          ],
          [
           "ThicKermit",
           "eiv8vg"
          ],
          [
           "KoolGuyDags28",
           "eivdhb"
          ],
          [
           "Siplot03",
           "eiw0ff"
          ],
          [
           "yosup7401",
           "eiw0h2"
          ],
          [
           "stonemonkey68",
           "eiw1ff"
          ],
          [
           "Jacob2282",
           "eiw46v"
          ],
          [
           "Jerry218",
           "eiwh9g"
          ],
          [
           "mitch09er",
           "eiwtbr"
          ],
          [
           "hiroshi_ma",
           "eiwypp"
          ],
          [
           "dark5had0w117",
           "eix3sk"
          ],
          [
           "SNOTWAGON",
           "eixmjm"
          ],
          [
           "icutthegrass",
           "eixnr9"
          ],
          [
           "laddestMad",
           "eiy03r"
          ],
          [
           "BOTTLESERVIC3",
           "eiycs4"
          ],
          [
           "Meowsterboi",
           "eiyepl"
          ],
          [
           "Zuboskalik",
           "eiyjez"
          ],
          [
           "Girlsfx",
           "eiz2iy"
          ],
          [
           "Furiousmate",
           "eiz3r5"
          ],
          [
           "NoamEG",
           "eizi5n"
          ],
          [
           "Gamefox42",
           "eizlnw"
          ],
          [
           "_crazychickenchop",
           "eizo5s"
          ],
          [
           "MichaelMeow",
           "ej0c75"
          ],
          [
           "brycejm1991",
           "ej0eq4"
          ],
          [
           "VectorWolf",
           "ej1hll"
          ]
         ],
         "hoverlabel": {
          "namelength": 0
         },
         "hovertemplate": "sentiment=negative<br>Date Posted=%{x}<br>Post Polarity=%{y}<br>num_comments=%{marker.size}<br>author=%{customdata[0]}<br>id=%{customdata[1]}",
         "legendgroup": "sentiment=negative",
         "marker": {
          "color": "violet",
          "size": [
           2,
           56,
           6,
           3,
           7,
           6,
           1,
           2,
           1,
           3,
           7,
           6,
           2,
           7,
           1,
           2,
           12,
           4,
           11,
           0,
           2,
           4,
           3,
           2,
           1,
           2,
           10,
           1,
           5,
           5,
           4,
           3,
           13,
           5,
           15,
           5,
           4,
           9,
           0
          ],
          "sizemode": "area",
          "sizeref": 0.14,
          "symbol": "circle"
         },
         "mode": "markers",
         "name": "sentiment=negative",
         "showlegend": true,
         "type": "scatter",
         "x": [
          "2020-01-02T01:04:10",
          "2020-01-02T01:04:18",
          "2020-01-02T01:10:04",
          "2020-01-02T01:32:58",
          "2020-01-02T01:33:05",
          "2020-01-02T01:38:01",
          "2020-01-02T02:06:40",
          "2020-01-02T02:33:25",
          "2020-01-02T03:22:26",
          "2020-01-02T04:04:50",
          "2020-01-02T05:15:45",
          "2020-01-02T05:21:33",
          "2020-01-02T05:28:49",
          "2020-01-02T06:44:11",
          "2020-01-02T06:59:15",
          "2020-01-02T07:39:46",
          "2020-01-02T07:54:56",
          "2020-01-02T09:13:48",
          "2020-01-02T09:14:00",
          "2020-01-02T09:17:11",
          "2020-01-02T09:26:32",
          "2020-01-02T10:10:53",
          "2020-01-02T10:52:11",
          "2020-01-02T11:10:08",
          "2020-01-02T11:26:30",
          "2020-01-02T12:26:04",
          "2020-01-02T12:29:47",
          "2020-01-02T13:05:36",
          "2020-01-02T13:40:29",
          "2020-01-02T13:45:34",
          "2020-01-02T13:58:07",
          "2020-01-02T14:45:47",
          "2020-01-02T14:48:38",
          "2020-01-02T15:21:22",
          "2020-01-02T15:29:13",
          "2020-01-02T15:34:44",
          "2020-01-02T16:26:24",
          "2020-01-02T16:31:54",
          "2020-01-02T17:50:33"
         ],
         "xaxis": "x",
         "y": [
          -0.103125,
          -0.13366946778711486,
          -0.005555555555555564,
          -0.025,
          0,
          0,
          -0.13333333333333333,
          0,
          -0.07638888888888891,
          0,
          -0.2263888888888889,
          -0.04166666666666668,
          0,
          -0.4857142857142857,
          -0.51875,
          -0.08095238095238096,
          -0.2760714285714286,
          -0.003869047619047619,
          -0.3500000000000001,
          -0.005218855218855216,
          -0.047619047619047616,
          -0.06590909090909092,
          -0.2,
          0,
          -0.3125,
          0,
          -0.25,
          -0.4,
          0,
          0,
          -0.027884615384615386,
          -0.3,
          -0.026704545454545446,
          -0.2520833333333333,
          -0.09999999999999999,
          -0.1413265306122449,
          -0.05714285714285716,
          -0.03148148148148148,
          -0.01979166666666667
         ],
         "yaxis": "y"
        },
        {
         "alignmentgroup": "True",
         "bingroup": "x",
         "hoverlabel": {
          "namelength": 0
         },
         "hovertemplate": "sentiment=negative<br>Date Posted=%{x}<br>count=%{y}",
         "legendgroup": "sentiment=negative",
         "marker": {
          "color": "violet"
         },
         "name": "sentiment=negative",
         "offsetgroup": "sentiment=negative",
         "opacity": 0.5,
         "showlegend": false,
         "type": "histogram",
         "x": [
          "2020-01-02T01:04:10",
          "2020-01-02T01:04:18",
          "2020-01-02T01:10:04",
          "2020-01-02T01:32:58",
          "2020-01-02T01:33:05",
          "2020-01-02T01:38:01",
          "2020-01-02T02:06:40",
          "2020-01-02T02:33:25",
          "2020-01-02T03:22:26",
          "2020-01-02T04:04:50",
          "2020-01-02T05:15:45",
          "2020-01-02T05:21:33",
          "2020-01-02T05:28:49",
          "2020-01-02T06:44:11",
          "2020-01-02T06:59:15",
          "2020-01-02T07:39:46",
          "2020-01-02T07:54:56",
          "2020-01-02T09:13:48",
          "2020-01-02T09:14:00",
          "2020-01-02T09:17:11",
          "2020-01-02T09:26:32",
          "2020-01-02T10:10:53",
          "2020-01-02T10:52:11",
          "2020-01-02T11:10:08",
          "2020-01-02T11:26:30",
          "2020-01-02T12:26:04",
          "2020-01-02T12:29:47",
          "2020-01-02T13:05:36",
          "2020-01-02T13:40:29",
          "2020-01-02T13:45:34",
          "2020-01-02T13:58:07",
          "2020-01-02T14:45:47",
          "2020-01-02T14:48:38",
          "2020-01-02T15:21:22",
          "2020-01-02T15:29:13",
          "2020-01-02T15:34:44",
          "2020-01-02T16:26:24",
          "2020-01-02T16:31:54",
          "2020-01-02T17:50:33"
         ],
         "xaxis": "x2",
         "yaxis": "y2"
        },
        {
         "customdata": [
          [
           "YeAh_BoI-",
           "eir2o5"
          ],
          [
           "zainw97",
           "eir43y"
          ],
          [
           "jord56",
           "eir45k"
          ],
          [
           "el_patron_ramos",
           "eirbg6"
          ],
          [
           "brandyLove75",
           "eirc8e"
          ],
          [
           "Myriagram",
           "eirjwl"
          ],
          [
           "DredgenDisciple",
           "eirsfi"
          ],
          [
           "brandyLove75",
           "eirup3"
          ],
          [
           "TankTheTech",
           "eirut8"
          ],
          [
           "shubhik13",
           "eirx2y"
          ],
          [
           "purewesson",
           "eirxio"
          ],
          [
           "fr4nk1yn",
           "eis274"
          ],
          [
           "Its-Kopec",
           "eis6vb"
          ],
          [
           "serenitypilot15",
           "eiskn3"
          ],
          [
           "Peekchu",
           "eisou0"
          ],
          [
           "Scubawookie",
           "eistpj"
          ],
          [
           "OminoussShrekLore",
           "eisubn"
          ],
          [
           "sawyerxbox1",
           "eisxl7"
          ],
          [
           "FixedFrameNate",
           "eisxv4"
          ],
          [
           "HelloThere11111111",
           "eit3cz"
          ],
          [
           "FazeFrostbyte",
           "eit42n"
          ],
          [
           "SAVG_",
           "eitrv3"
          ],
          [
           "themadbeggar",
           "eiu66d"
          ],
          [
           "SimpleHumanBoi",
           "eiug2s"
          ],
          [
           "TheQuietQuin",
           "eiuhav"
          ],
          [
           "CH3F117",
           "eiuuob"
          ],
          [
           "DA_ROCK3T_MAN",
           "eiv7ou"
          ],
          [
           "Grayln",
           "eivntd"
          ],
          [
           "AKinkyDragon",
           "eivq8n"
          ],
          [
           "tolandxiv",
           "eivrhg"
          ],
          [
           "DaHoha",
           "eiw3u2"
          ],
          [
           "DaHoha",
           "eiwmei"
          ],
          [
           "TTaoGaming",
           "eiwu8u"
          ],
          [
           "OryxTheBurning",
           "eiwv9j"
          ],
          [
           "D4NYU11",
           "eixdfq"
          ],
          [
           "Brainwave1010",
           "eixpr4"
          ],
          [
           "Messi1513",
           "eixxy9"
          ],
          [
           "Phlay",
           "eiy8ol"
          ],
          [
           "SoManySpills",
           "eiy9px"
          ],
          [
           "I_AM_JUGS",
           "eiyodb"
          ],
          [
           "Vollxer",
           "eiyonv"
          ],
          [
           "Afnaan__",
           "eiyprz"
          ],
          [
           "otpTalon",
           "eiyqg0"
          ],
          [
           "midianmlt",
           "eiz3d1"
          ],
          [
           "justayharnamite",
           "eizcig"
          ],
          [
           "alltheseposes",
           "eizon1"
          ],
          [
           "Xx_k4ng4r00_xX",
           "eizqj9"
          ],
          [
           "KillerWartze",
           "eizuv0"
          ],
          [
           "suchwowo",
           "eizyni"
          ],
          [
           "Air_Ford",
           "ej00oe"
          ],
          [
           "bit0101",
           "ej09h4"
          ],
          [
           "reefster2018",
           "ej0jpt"
          ],
          [
           "TurnMeUpWallace",
           "ej0p9s"
          ],
          [
           "vanderzee",
           "ej0zkq"
          ],
          [
           "CookieShepsky",
           "ej0zls"
          ],
          [
           "OyunClash",
           "ej130u"
          ],
          [
           "Sandbox_Hero",
           "ej133k"
          ],
          [
           "Danyeru",
           "ej15bs"
          ],
          [
           "trailmixjesus",
           "ej162i"
          ],
          [
           "deuceman4life",
           "ej1ag4"
          ],
          [
           "Crystalgamer04",
           "ej1c5w"
          ],
          [
           "quack1sback",
           "ej1imn"
          ]
         ],
         "hoverlabel": {
          "namelength": 0
         },
         "hovertemplate": "sentiment=positive<br>Date Posted=%{x}<br>Post Polarity=%{y}<br>num_comments=%{marker.size}<br>author=%{customdata[0]}<br>id=%{customdata[1]}",
         "legendgroup": "sentiment=positive",
         "marker": {
          "color": "lightslategrey",
          "size": [
           1,
           3,
           0,
           0,
           4,
           4,
           2,
           6,
           8,
           8,
           1,
           2,
           0,
           2,
           15,
           1,
           3,
           6,
           4,
           1,
           14,
           8,
           0,
           6,
           10,
           4,
           4,
           3,
           3,
           2,
           27,
           4,
           11,
           2,
           6,
           6,
           6,
           6,
           4,
           0,
           7,
           3,
           2,
           2,
           15,
           1,
           1,
           5,
           3,
           22,
           1,
           4,
           15,
           7,
           5,
           6,
           2,
           0,
           4,
           5,
           4,
           0
          ],
          "sizemode": "area",
          "sizeref": 0.14,
          "symbol": "circle"
         },
         "mode": "markers",
         "name": "sentiment=positive",
         "showlegend": true,
         "type": "scatter",
         "x": [
          "2020-01-02T01:24:43",
          "2020-01-02T01:27:53",
          "2020-01-02T01:27:59",
          "2020-01-02T01:44:04",
          "2020-01-02T01:45:57",
          "2020-01-02T02:03:32",
          "2020-01-02T02:22:33",
          "2020-01-02T02:27:34",
          "2020-01-02T02:27:48",
          "2020-01-02T02:32:54",
          "2020-01-02T02:33:54",
          "2020-01-02T02:44:23",
          "2020-01-02T02:54:53",
          "2020-01-02T03:26:40",
          "2020-01-02T03:36:31",
          "2020-01-02T03:47:39",
          "2020-01-02T03:49:07",
          "2020-01-02T03:56:43",
          "2020-01-02T03:57:24",
          "2020-01-02T04:10:53",
          "2020-01-02T04:12:41",
          "2020-01-02T05:11:44",
          "2020-01-02T05:48:23",
          "2020-01-02T06:14:40",
          "2020-01-02T06:18:04",
          "2020-01-02T06:56:27",
          "2020-01-02T07:36:00",
          "2020-01-02T08:29:31",
          "2020-01-02T08:38:15",
          "2020-01-02T08:42:41",
          "2020-01-02T09:25:20",
          "2020-01-02T10:28:35",
          "2020-01-02T10:55:23",
          "2020-01-02T10:58:53",
          "2020-01-02T11:57:53",
          "2020-01-02T12:35:56",
          "2020-01-02T12:59:41",
          "2020-01-02T13:29:21",
          "2020-01-02T13:32:12",
          "2020-01-02T14:10:40",
          "2020-01-02T14:11:25",
          "2020-01-02T14:14:14",
          "2020-01-02T14:15:45",
          "2020-01-02T14:47:42",
          "2020-01-02T15:08:46",
          "2020-01-02T15:35:49",
          "2020-01-02T15:39:52",
          "2020-01-02T15:49:14",
          "2020-01-02T15:57:39",
          "2020-01-02T16:01:54",
          "2020-01-02T16:20:55",
          "2020-01-02T16:42:22",
          "2020-01-02T16:53:57",
          "2020-01-02T17:14:25",
          "2020-01-02T17:14:28",
          "2020-01-02T17:21:20",
          "2020-01-02T17:21:30",
          "2020-01-02T17:26:00",
          "2020-01-02T17:27:25",
          "2020-01-02T17:36:19",
          "2020-01-02T17:39:42",
          "2020-01-02T17:52:34"
         ],
         "xaxis": "x",
         "y": [
          0.25,
          0.125,
          0.12962962962962962,
          0.45,
          0.3833333333333333,
          0.3,
          0.2333333333333333,
          0.15,
          0.10865384615384616,
          0.35,
          0.08095238095238094,
          0.02285714285714286,
          0.07564157196969695,
          0.18,
          0.25256410256410255,
          0.16,
          0.018750000000000003,
          0.032575757575757584,
          0.3375,
          0.33409090909090905,
          0.2261904761904762,
          0.07992424242424243,
          0.2756060606060606,
          0.05,
          1,
          0.5,
          0.16666666666666669,
          0.2916666666666667,
          0.36,
          0.1,
          0.08833333333333333,
          0.4958333333333333,
          0.137361485474693,
          0.15,
          0.1,
          0.06079545454545454,
          0.36250000000000004,
          0.06666666666666668,
          0.0236111111111111,
          0.1,
          0.13636363636363635,
          0.06468253968253967,
          0.07004662004662005,
          0.13541666666666666,
          0.025000000000000005,
          0.3143518518518519,
          0.3888888888888889,
          0.5,
          0.3361904761904762,
          0.06363636363636363,
          0.125,
          0.0006493506493506456,
          0.675,
          0.2791666666666667,
          0.40909090909090906,
          0.06818181818181818,
          0.11806239737274218,
          0.24930555555555553,
          0.09307359307359309,
          0.17500000000000002,
          0.0992063492063492,
          0.10024812585788197
         ],
         "yaxis": "y"
        },
        {
         "alignmentgroup": "True",
         "bingroup": "x",
         "hoverlabel": {
          "namelength": 0
         },
         "hovertemplate": "sentiment=positive<br>Date Posted=%{x}<br>count=%{y}",
         "legendgroup": "sentiment=positive",
         "marker": {
          "color": "lightslategrey"
         },
         "name": "sentiment=positive",
         "offsetgroup": "sentiment=positive",
         "opacity": 0.5,
         "showlegend": false,
         "type": "histogram",
         "x": [
          "2020-01-02T01:24:43",
          "2020-01-02T01:27:53",
          "2020-01-02T01:27:59",
          "2020-01-02T01:44:04",
          "2020-01-02T01:45:57",
          "2020-01-02T02:03:32",
          "2020-01-02T02:22:33",
          "2020-01-02T02:27:34",
          "2020-01-02T02:27:48",
          "2020-01-02T02:32:54",
          "2020-01-02T02:33:54",
          "2020-01-02T02:44:23",
          "2020-01-02T02:54:53",
          "2020-01-02T03:26:40",
          "2020-01-02T03:36:31",
          "2020-01-02T03:47:39",
          "2020-01-02T03:49:07",
          "2020-01-02T03:56:43",
          "2020-01-02T03:57:24",
          "2020-01-02T04:10:53",
          "2020-01-02T04:12:41",
          "2020-01-02T05:11:44",
          "2020-01-02T05:48:23",
          "2020-01-02T06:14:40",
          "2020-01-02T06:18:04",
          "2020-01-02T06:56:27",
          "2020-01-02T07:36:00",
          "2020-01-02T08:29:31",
          "2020-01-02T08:38:15",
          "2020-01-02T08:42:41",
          "2020-01-02T09:25:20",
          "2020-01-02T10:28:35",
          "2020-01-02T10:55:23",
          "2020-01-02T10:58:53",
          "2020-01-02T11:57:53",
          "2020-01-02T12:35:56",
          "2020-01-02T12:59:41",
          "2020-01-02T13:29:21",
          "2020-01-02T13:32:12",
          "2020-01-02T14:10:40",
          "2020-01-02T14:11:25",
          "2020-01-02T14:14:14",
          "2020-01-02T14:15:45",
          "2020-01-02T14:47:42",
          "2020-01-02T15:08:46",
          "2020-01-02T15:35:49",
          "2020-01-02T15:39:52",
          "2020-01-02T15:49:14",
          "2020-01-02T15:57:39",
          "2020-01-02T16:01:54",
          "2020-01-02T16:20:55",
          "2020-01-02T16:42:22",
          "2020-01-02T16:53:57",
          "2020-01-02T17:14:25",
          "2020-01-02T17:14:28",
          "2020-01-02T17:21:20",
          "2020-01-02T17:21:30",
          "2020-01-02T17:26:00",
          "2020-01-02T17:27:25",
          "2020-01-02T17:36:19",
          "2020-01-02T17:39:42",
          "2020-01-02T17:52:34"
         ],
         "xaxis": "x2",
         "yaxis": "y2"
        }
       ],
       "layout": {
        "barmode": "overlay",
        "legend": {
         "itemsizing": "constant",
         "tracegroupgap": 0
        },
        "template": {
         "data": {
          "bar": [
           {
            "error_x": {
             "color": "#2a3f5f"
            },
            "error_y": {
             "color": "#2a3f5f"
            },
            "marker": {
             "line": {
              "color": "#E5ECF6",
              "width": 0.5
             }
            },
            "type": "bar"
           }
          ],
          "barpolar": [
           {
            "marker": {
             "line": {
              "color": "#E5ECF6",
              "width": 0.5
             }
            },
            "type": "barpolar"
           }
          ],
          "carpet": [
           {
            "aaxis": {
             "endlinecolor": "#2a3f5f",
             "gridcolor": "white",
             "linecolor": "white",
             "minorgridcolor": "white",
             "startlinecolor": "#2a3f5f"
            },
            "baxis": {
             "endlinecolor": "#2a3f5f",
             "gridcolor": "white",
             "linecolor": "white",
             "minorgridcolor": "white",
             "startlinecolor": "#2a3f5f"
            },
            "type": "carpet"
           }
          ],
          "choropleth": [
           {
            "colorbar": {
             "outlinewidth": 0,
             "ticks": ""
            },
            "type": "choropleth"
           }
          ],
          "contour": [
           {
            "colorbar": {
             "outlinewidth": 0,
             "ticks": ""
            },
            "colorscale": [
             [
              0,
              "#0d0887"
             ],
             [
              0.1111111111111111,
              "#46039f"
             ],
             [
              0.2222222222222222,
              "#7201a8"
             ],
             [
              0.3333333333333333,
              "#9c179e"
             ],
             [
              0.4444444444444444,
              "#bd3786"
             ],
             [
              0.5555555555555556,
              "#d8576b"
             ],
             [
              0.6666666666666666,
              "#ed7953"
             ],
             [
              0.7777777777777778,
              "#fb9f3a"
             ],
             [
              0.8888888888888888,
              "#fdca26"
             ],
             [
              1,
              "#f0f921"
             ]
            ],
            "type": "contour"
           }
          ],
          "contourcarpet": [
           {
            "colorbar": {
             "outlinewidth": 0,
             "ticks": ""
            },
            "type": "contourcarpet"
           }
          ],
          "heatmap": [
           {
            "colorbar": {
             "outlinewidth": 0,
             "ticks": ""
            },
            "colorscale": [
             [
              0,
              "#0d0887"
             ],
             [
              0.1111111111111111,
              "#46039f"
             ],
             [
              0.2222222222222222,
              "#7201a8"
             ],
             [
              0.3333333333333333,
              "#9c179e"
             ],
             [
              0.4444444444444444,
              "#bd3786"
             ],
             [
              0.5555555555555556,
              "#d8576b"
             ],
             [
              0.6666666666666666,
              "#ed7953"
             ],
             [
              0.7777777777777778,
              "#fb9f3a"
             ],
             [
              0.8888888888888888,
              "#fdca26"
             ],
             [
              1,
              "#f0f921"
             ]
            ],
            "type": "heatmap"
           }
          ],
          "heatmapgl": [
           {
            "colorbar": {
             "outlinewidth": 0,
             "ticks": ""
            },
            "colorscale": [
             [
              0,
              "#0d0887"
             ],
             [
              0.1111111111111111,
              "#46039f"
             ],
             [
              0.2222222222222222,
              "#7201a8"
             ],
             [
              0.3333333333333333,
              "#9c179e"
             ],
             [
              0.4444444444444444,
              "#bd3786"
             ],
             [
              0.5555555555555556,
              "#d8576b"
             ],
             [
              0.6666666666666666,
              "#ed7953"
             ],
             [
              0.7777777777777778,
              "#fb9f3a"
             ],
             [
              0.8888888888888888,
              "#fdca26"
             ],
             [
              1,
              "#f0f921"
             ]
            ],
            "type": "heatmapgl"
           }
          ],
          "histogram": [
           {
            "marker": {
             "colorbar": {
              "outlinewidth": 0,
              "ticks": ""
             }
            },
            "type": "histogram"
           }
          ],
          "histogram2d": [
           {
            "colorbar": {
             "outlinewidth": 0,
             "ticks": ""
            },
            "colorscale": [
             [
              0,
              "#0d0887"
             ],
             [
              0.1111111111111111,
              "#46039f"
             ],
             [
              0.2222222222222222,
              "#7201a8"
             ],
             [
              0.3333333333333333,
              "#9c179e"
             ],
             [
              0.4444444444444444,
              "#bd3786"
             ],
             [
              0.5555555555555556,
              "#d8576b"
             ],
             [
              0.6666666666666666,
              "#ed7953"
             ],
             [
              0.7777777777777778,
              "#fb9f3a"
             ],
             [
              0.8888888888888888,
              "#fdca26"
             ],
             [
              1,
              "#f0f921"
             ]
            ],
            "type": "histogram2d"
           }
          ],
          "histogram2dcontour": [
           {
            "colorbar": {
             "outlinewidth": 0,
             "ticks": ""
            },
            "colorscale": [
             [
              0,
              "#0d0887"
             ],
             [
              0.1111111111111111,
              "#46039f"
             ],
             [
              0.2222222222222222,
              "#7201a8"
             ],
             [
              0.3333333333333333,
              "#9c179e"
             ],
             [
              0.4444444444444444,
              "#bd3786"
             ],
             [
              0.5555555555555556,
              "#d8576b"
             ],
             [
              0.6666666666666666,
              "#ed7953"
             ],
             [
              0.7777777777777778,
              "#fb9f3a"
             ],
             [
              0.8888888888888888,
              "#fdca26"
             ],
             [
              1,
              "#f0f921"
             ]
            ],
            "type": "histogram2dcontour"
           }
          ],
          "mesh3d": [
           {
            "colorbar": {
             "outlinewidth": 0,
             "ticks": ""
            },
            "type": "mesh3d"
           }
          ],
          "parcoords": [
           {
            "line": {
             "colorbar": {
              "outlinewidth": 0,
              "ticks": ""
             }
            },
            "type": "parcoords"
           }
          ],
          "pie": [
           {
            "automargin": true,
            "type": "pie"
           }
          ],
          "scatter": [
           {
            "marker": {
             "colorbar": {
              "outlinewidth": 0,
              "ticks": ""
             }
            },
            "type": "scatter"
           }
          ],
          "scatter3d": [
           {
            "line": {
             "colorbar": {
              "outlinewidth": 0,
              "ticks": ""
             }
            },
            "marker": {
             "colorbar": {
              "outlinewidth": 0,
              "ticks": ""
             }
            },
            "type": "scatter3d"
           }
          ],
          "scattercarpet": [
           {
            "marker": {
             "colorbar": {
              "outlinewidth": 0,
              "ticks": ""
             }
            },
            "type": "scattercarpet"
           }
          ],
          "scattergeo": [
           {
            "marker": {
             "colorbar": {
              "outlinewidth": 0,
              "ticks": ""
             }
            },
            "type": "scattergeo"
           }
          ],
          "scattergl": [
           {
            "marker": {
             "colorbar": {
              "outlinewidth": 0,
              "ticks": ""
             }
            },
            "type": "scattergl"
           }
          ],
          "scattermapbox": [
           {
            "marker": {
             "colorbar": {
              "outlinewidth": 0,
              "ticks": ""
             }
            },
            "type": "scattermapbox"
           }
          ],
          "scatterpolar": [
           {
            "marker": {
             "colorbar": {
              "outlinewidth": 0,
              "ticks": ""
             }
            },
            "type": "scatterpolar"
           }
          ],
          "scatterpolargl": [
           {
            "marker": {
             "colorbar": {
              "outlinewidth": 0,
              "ticks": ""
             }
            },
            "type": "scatterpolargl"
           }
          ],
          "scatterternary": [
           {
            "marker": {
             "colorbar": {
              "outlinewidth": 0,
              "ticks": ""
             }
            },
            "type": "scatterternary"
           }
          ],
          "surface": [
           {
            "colorbar": {
             "outlinewidth": 0,
             "ticks": ""
            },
            "colorscale": [
             [
              0,
              "#0d0887"
             ],
             [
              0.1111111111111111,
              "#46039f"
             ],
             [
              0.2222222222222222,
              "#7201a8"
             ],
             [
              0.3333333333333333,
              "#9c179e"
             ],
             [
              0.4444444444444444,
              "#bd3786"
             ],
             [
              0.5555555555555556,
              "#d8576b"
             ],
             [
              0.6666666666666666,
              "#ed7953"
             ],
             [
              0.7777777777777778,
              "#fb9f3a"
             ],
             [
              0.8888888888888888,
              "#fdca26"
             ],
             [
              1,
              "#f0f921"
             ]
            ],
            "type": "surface"
           }
          ],
          "table": [
           {
            "cells": {
             "fill": {
              "color": "#EBF0F8"
             },
             "line": {
              "color": "white"
             }
            },
            "header": {
             "fill": {
              "color": "#C8D4E3"
             },
             "line": {
              "color": "white"
             }
            },
            "type": "table"
           }
          ]
         },
         "layout": {
          "annotationdefaults": {
           "arrowcolor": "#2a3f5f",
           "arrowhead": 0,
           "arrowwidth": 1
          },
          "coloraxis": {
           "colorbar": {
            "outlinewidth": 0,
            "ticks": ""
           }
          },
          "colorscale": {
           "diverging": [
            [
             0,
             "#8e0152"
            ],
            [
             0.1,
             "#c51b7d"
            ],
            [
             0.2,
             "#de77ae"
            ],
            [
             0.3,
             "#f1b6da"
            ],
            [
             0.4,
             "#fde0ef"
            ],
            [
             0.5,
             "#f7f7f7"
            ],
            [
             0.6,
             "#e6f5d0"
            ],
            [
             0.7,
             "#b8e186"
            ],
            [
             0.8,
             "#7fbc41"
            ],
            [
             0.9,
             "#4d9221"
            ],
            [
             1,
             "#276419"
            ]
           ],
           "sequential": [
            [
             0,
             "#0d0887"
            ],
            [
             0.1111111111111111,
             "#46039f"
            ],
            [
             0.2222222222222222,
             "#7201a8"
            ],
            [
             0.3333333333333333,
             "#9c179e"
            ],
            [
             0.4444444444444444,
             "#bd3786"
            ],
            [
             0.5555555555555556,
             "#d8576b"
            ],
            [
             0.6666666666666666,
             "#ed7953"
            ],
            [
             0.7777777777777778,
             "#fb9f3a"
            ],
            [
             0.8888888888888888,
             "#fdca26"
            ],
            [
             1,
             "#f0f921"
            ]
           ],
           "sequentialminus": [
            [
             0,
             "#0d0887"
            ],
            [
             0.1111111111111111,
             "#46039f"
            ],
            [
             0.2222222222222222,
             "#7201a8"
            ],
            [
             0.3333333333333333,
             "#9c179e"
            ],
            [
             0.4444444444444444,
             "#bd3786"
            ],
            [
             0.5555555555555556,
             "#d8576b"
            ],
            [
             0.6666666666666666,
             "#ed7953"
            ],
            [
             0.7777777777777778,
             "#fb9f3a"
            ],
            [
             0.8888888888888888,
             "#fdca26"
            ],
            [
             1,
             "#f0f921"
            ]
           ]
          },
          "colorway": [
           "#636efa",
           "#EF553B",
           "#00cc96",
           "#ab63fa",
           "#FFA15A",
           "#19d3f3",
           "#FF6692",
           "#B6E880",
           "#FF97FF",
           "#FECB52"
          ],
          "font": {
           "color": "#2a3f5f"
          },
          "geo": {
           "bgcolor": "white",
           "lakecolor": "white",
           "landcolor": "#E5ECF6",
           "showlakes": true,
           "showland": true,
           "subunitcolor": "white"
          },
          "hoverlabel": {
           "align": "left"
          },
          "hovermode": "closest",
          "mapbox": {
           "style": "light"
          },
          "paper_bgcolor": "white",
          "plot_bgcolor": "#E5ECF6",
          "polar": {
           "angularaxis": {
            "gridcolor": "white",
            "linecolor": "white",
            "ticks": ""
           },
           "bgcolor": "#E5ECF6",
           "radialaxis": {
            "gridcolor": "white",
            "linecolor": "white",
            "ticks": ""
           }
          },
          "scene": {
           "xaxis": {
            "backgroundcolor": "#E5ECF6",
            "gridcolor": "white",
            "gridwidth": 2,
            "linecolor": "white",
            "showbackground": true,
            "ticks": "",
            "zerolinecolor": "white"
           },
           "yaxis": {
            "backgroundcolor": "#E5ECF6",
            "gridcolor": "white",
            "gridwidth": 2,
            "linecolor": "white",
            "showbackground": true,
            "ticks": "",
            "zerolinecolor": "white"
           },
           "zaxis": {
            "backgroundcolor": "#E5ECF6",
            "gridcolor": "white",
            "gridwidth": 2,
            "linecolor": "white",
            "showbackground": true,
            "ticks": "",
            "zerolinecolor": "white"
           }
          },
          "shapedefaults": {
           "line": {
            "color": "#2a3f5f"
           }
          },
          "ternary": {
           "aaxis": {
            "gridcolor": "white",
            "linecolor": "white",
            "ticks": ""
           },
           "baxis": {
            "gridcolor": "white",
            "linecolor": "white",
            "ticks": ""
           },
           "bgcolor": "#E5ECF6",
           "caxis": {
            "gridcolor": "white",
            "linecolor": "white",
            "ticks": ""
           }
          },
          "title": {
           "x": 0.05
          },
          "xaxis": {
           "automargin": true,
           "gridcolor": "white",
           "linecolor": "white",
           "ticks": "",
           "title": {
            "standoff": 15
           },
           "zerolinecolor": "white",
           "zerolinewidth": 2
          },
          "yaxis": {
           "automargin": true,
           "gridcolor": "white",
           "linecolor": "white",
           "ticks": "",
           "title": {
            "standoff": 15
           },
           "zerolinecolor": "white",
           "zerolinewidth": 2
          }
         }
        },
        "title": {
         "text": "Sentiment analysis of r/destiny2 posts from previous 24 hours"
        },
        "xaxis": {
         "anchor": "y",
         "domain": [
          0,
          1
         ],
         "title": {
          "text": "Date Posted"
         }
        },
        "xaxis2": {
         "anchor": "y2",
         "domain": [
          0,
          1
         ],
         "matches": "x",
         "showgrid": true,
         "showticklabels": false
        },
        "yaxis": {
         "anchor": "x",
         "domain": [
          0,
          0.7326
         ],
         "title": {
          "text": "Post Polarity"
         }
        },
        "yaxis2": {
         "anchor": "x2",
         "domain": [
          0.7426,
          1
         ],
         "matches": "y2",
         "showgrid": true,
         "showline": false,
         "showticklabels": false,
         "ticks": ""
        }
       }
      },
      "text/html": [
       "<div>\n",
       "        \n",
       "        \n",
       "            <div id=\"5fb44980-c254-46a8-a4fb-2e0ca3ec9924\" class=\"plotly-graph-div\" style=\"height:525px; width:100%;\"></div>\n",
       "            <script type=\"text/javascript\">\n",
       "                require([\"plotly\"], function(Plotly) {\n",
       "                    window.PLOTLYENV=window.PLOTLYENV || {};\n",
       "                    \n",
       "                if (document.getElementById(\"5fb44980-c254-46a8-a4fb-2e0ca3ec9924\")) {\n",
       "                    Plotly.newPlot(\n",
       "                        '5fb44980-c254-46a8-a4fb-2e0ca3ec9924',\n",
       "                        [{\"customdata\": [[\"xDJCJm\", \"eiqtfn\"], [\"lukeyboy040404\", \"eiqti4\"], [\"annoventura\", \"eiqw4g\"], [\"McNutty45\", \"eir6fr\"], [\"iNSTiNCT6\", \"eir6hs\"], [\"BrutalBeauty6\", \"eir8pz\"], [\"IWantMyChickenWings\", \"eirlbb\"], [\"tomahawkESP\", \"eirxay\"], [\"PrismaticArc\", \"eisisf\"], [\"StoryTime5675\", \"eit0vz\"], [\"negativecacti\", \"eitth1\"], [\"0111010001100100\", \"eitvr0\"], [\"megamanlan10\", \"eitymv\"], [\"joppersbops\", \"eiuqjt\"], [\"TideInTheSky\", \"eiuvmj\"], [\"ThicKermit\", \"eiv8vg\"], [\"KoolGuyDags28\", \"eivdhb\"], [\"Siplot03\", \"eiw0ff\"], [\"yosup7401\", \"eiw0h2\"], [\"stonemonkey68\", \"eiw1ff\"], [\"Jacob2282\", \"eiw46v\"], [\"Jerry218\", \"eiwh9g\"], [\"mitch09er\", \"eiwtbr\"], [\"hiroshi_ma\", \"eiwypp\"], [\"dark5had0w117\", \"eix3sk\"], [\"SNOTWAGON\", \"eixmjm\"], [\"icutthegrass\", \"eixnr9\"], [\"laddestMad\", \"eiy03r\"], [\"BOTTLESERVIC3\", \"eiycs4\"], [\"Meowsterboi\", \"eiyepl\"], [\"Zuboskalik\", \"eiyjez\"], [\"Girlsfx\", \"eiz2iy\"], [\"Furiousmate\", \"eiz3r5\"], [\"NoamEG\", \"eizi5n\"], [\"Gamefox42\", \"eizlnw\"], [\"_crazychickenchop\", \"eizo5s\"], [\"MichaelMeow\", \"ej0c75\"], [\"brycejm1991\", \"ej0eq4\"], [\"VectorWolf\", \"ej1hll\"]], \"hoverlabel\": {\"namelength\": 0}, \"hovertemplate\": \"sentiment=negative<br>Date Posted=%{x}<br>Post Polarity=%{y}<br>num_comments=%{marker.size}<br>author=%{customdata[0]}<br>id=%{customdata[1]}\", \"legendgroup\": \"sentiment=negative\", \"marker\": {\"color\": \"violet\", \"size\": [2, 56, 6, 3, 7, 6, 1, 2, 1, 3, 7, 6, 2, 7, 1, 2, 12, 4, 11, 0, 2, 4, 3, 2, 1, 2, 10, 1, 5, 5, 4, 3, 13, 5, 15, 5, 4, 9, 0], \"sizemode\": \"area\", \"sizeref\": 0.14, \"symbol\": \"circle\"}, \"mode\": \"markers\", \"name\": \"sentiment=negative\", \"showlegend\": true, \"type\": \"scatter\", \"x\": [\"2020-01-02T01:04:10\", \"2020-01-02T01:04:18\", \"2020-01-02T01:10:04\", \"2020-01-02T01:32:58\", \"2020-01-02T01:33:05\", \"2020-01-02T01:38:01\", \"2020-01-02T02:06:40\", \"2020-01-02T02:33:25\", \"2020-01-02T03:22:26\", \"2020-01-02T04:04:50\", \"2020-01-02T05:15:45\", \"2020-01-02T05:21:33\", \"2020-01-02T05:28:49\", \"2020-01-02T06:44:11\", \"2020-01-02T06:59:15\", \"2020-01-02T07:39:46\", \"2020-01-02T07:54:56\", \"2020-01-02T09:13:48\", \"2020-01-02T09:14:00\", \"2020-01-02T09:17:11\", \"2020-01-02T09:26:32\", \"2020-01-02T10:10:53\", \"2020-01-02T10:52:11\", \"2020-01-02T11:10:08\", \"2020-01-02T11:26:30\", \"2020-01-02T12:26:04\", \"2020-01-02T12:29:47\", \"2020-01-02T13:05:36\", \"2020-01-02T13:40:29\", \"2020-01-02T13:45:34\", \"2020-01-02T13:58:07\", \"2020-01-02T14:45:47\", \"2020-01-02T14:48:38\", \"2020-01-02T15:21:22\", \"2020-01-02T15:29:13\", \"2020-01-02T15:34:44\", \"2020-01-02T16:26:24\", \"2020-01-02T16:31:54\", \"2020-01-02T17:50:33\"], \"xaxis\": \"x\", \"y\": [-0.103125, -0.13366946778711486, -0.005555555555555564, -0.025, 0.0, 0.0, -0.13333333333333333, 0.0, -0.07638888888888891, 0.0, -0.2263888888888889, -0.04166666666666668, 0.0, -0.4857142857142857, -0.51875, -0.08095238095238096, -0.2760714285714286, -0.003869047619047619, -0.3500000000000001, -0.005218855218855216, -0.047619047619047616, -0.06590909090909092, -0.2, 0.0, -0.3125, 0.0, -0.25, -0.4, 0.0, 0.0, -0.027884615384615386, -0.3, -0.026704545454545446, -0.2520833333333333, -0.09999999999999999, -0.1413265306122449, -0.05714285714285716, -0.03148148148148148, -0.01979166666666667], \"yaxis\": \"y\"}, {\"alignmentgroup\": \"True\", \"bingroup\": \"x\", \"hoverlabel\": {\"namelength\": 0}, \"hovertemplate\": \"sentiment=negative<br>Date Posted=%{x}<br>count=%{y}\", \"legendgroup\": \"sentiment=negative\", \"marker\": {\"color\": \"violet\"}, \"name\": \"sentiment=negative\", \"offsetgroup\": \"sentiment=negative\", \"opacity\": 0.5, \"showlegend\": false, \"type\": \"histogram\", \"x\": [\"2020-01-02T01:04:10\", \"2020-01-02T01:04:18\", \"2020-01-02T01:10:04\", \"2020-01-02T01:32:58\", \"2020-01-02T01:33:05\", \"2020-01-02T01:38:01\", \"2020-01-02T02:06:40\", \"2020-01-02T02:33:25\", \"2020-01-02T03:22:26\", \"2020-01-02T04:04:50\", \"2020-01-02T05:15:45\", \"2020-01-02T05:21:33\", \"2020-01-02T05:28:49\", \"2020-01-02T06:44:11\", \"2020-01-02T06:59:15\", \"2020-01-02T07:39:46\", \"2020-01-02T07:54:56\", \"2020-01-02T09:13:48\", \"2020-01-02T09:14:00\", \"2020-01-02T09:17:11\", \"2020-01-02T09:26:32\", \"2020-01-02T10:10:53\", \"2020-01-02T10:52:11\", \"2020-01-02T11:10:08\", \"2020-01-02T11:26:30\", \"2020-01-02T12:26:04\", \"2020-01-02T12:29:47\", \"2020-01-02T13:05:36\", \"2020-01-02T13:40:29\", \"2020-01-02T13:45:34\", \"2020-01-02T13:58:07\", \"2020-01-02T14:45:47\", \"2020-01-02T14:48:38\", \"2020-01-02T15:21:22\", \"2020-01-02T15:29:13\", \"2020-01-02T15:34:44\", \"2020-01-02T16:26:24\", \"2020-01-02T16:31:54\", \"2020-01-02T17:50:33\"], \"xaxis\": \"x2\", \"yaxis\": \"y2\"}, {\"customdata\": [[\"YeAh_BoI-\", \"eir2o5\"], [\"zainw97\", \"eir43y\"], [\"jord56\", \"eir45k\"], [\"el_patron_ramos\", \"eirbg6\"], [\"brandyLove75\", \"eirc8e\"], [\"Myriagram\", \"eirjwl\"], [\"DredgenDisciple\", \"eirsfi\"], [\"brandyLove75\", \"eirup3\"], [\"TankTheTech\", \"eirut8\"], [\"shubhik13\", \"eirx2y\"], [\"purewesson\", \"eirxio\"], [\"fr4nk1yn\", \"eis274\"], [\"Its-Kopec\", \"eis6vb\"], [\"serenitypilot15\", \"eiskn3\"], [\"Peekchu\", \"eisou0\"], [\"Scubawookie\", \"eistpj\"], [\"OminoussShrekLore\", \"eisubn\"], [\"sawyerxbox1\", \"eisxl7\"], [\"FixedFrameNate\", \"eisxv4\"], [\"HelloThere11111111\", \"eit3cz\"], [\"FazeFrostbyte\", \"eit42n\"], [\"SAVG_\", \"eitrv3\"], [\"themadbeggar\", \"eiu66d\"], [\"SimpleHumanBoi\", \"eiug2s\"], [\"TheQuietQuin\", \"eiuhav\"], [\"CH3F117\", \"eiuuob\"], [\"DA_ROCK3T_MAN\", \"eiv7ou\"], [\"Grayln\", \"eivntd\"], [\"AKinkyDragon\", \"eivq8n\"], [\"tolandxiv\", \"eivrhg\"], [\"DaHoha\", \"eiw3u2\"], [\"DaHoha\", \"eiwmei\"], [\"TTaoGaming\", \"eiwu8u\"], [\"OryxTheBurning\", \"eiwv9j\"], [\"D4NYU11\", \"eixdfq\"], [\"Brainwave1010\", \"eixpr4\"], [\"Messi1513\", \"eixxy9\"], [\"Phlay\", \"eiy8ol\"], [\"SoManySpills\", \"eiy9px\"], [\"I_AM_JUGS\", \"eiyodb\"], [\"Vollxer\", \"eiyonv\"], [\"Afnaan__\", \"eiyprz\"], [\"otpTalon\", \"eiyqg0\"], [\"midianmlt\", \"eiz3d1\"], [\"justayharnamite\", \"eizcig\"], [\"alltheseposes\", \"eizon1\"], [\"Xx_k4ng4r00_xX\", \"eizqj9\"], [\"KillerWartze\", \"eizuv0\"], [\"suchwowo\", \"eizyni\"], [\"Air_Ford\", \"ej00oe\"], [\"bit0101\", \"ej09h4\"], [\"reefster2018\", \"ej0jpt\"], [\"TurnMeUpWallace\", \"ej0p9s\"], [\"vanderzee\", \"ej0zkq\"], [\"CookieShepsky\", \"ej0zls\"], [\"OyunClash\", \"ej130u\"], [\"Sandbox_Hero\", \"ej133k\"], [\"Danyeru\", \"ej15bs\"], [\"trailmixjesus\", \"ej162i\"], [\"deuceman4life\", \"ej1ag4\"], [\"Crystalgamer04\", \"ej1c5w\"], [\"quack1sback\", \"ej1imn\"]], \"hoverlabel\": {\"namelength\": 0}, \"hovertemplate\": \"sentiment=positive<br>Date Posted=%{x}<br>Post Polarity=%{y}<br>num_comments=%{marker.size}<br>author=%{customdata[0]}<br>id=%{customdata[1]}\", \"legendgroup\": \"sentiment=positive\", \"marker\": {\"color\": \"lightslategrey\", \"size\": [1, 3, 0, 0, 4, 4, 2, 6, 8, 8, 1, 2, 0, 2, 15, 1, 3, 6, 4, 1, 14, 8, 0, 6, 10, 4, 4, 3, 3, 2, 27, 4, 11, 2, 6, 6, 6, 6, 4, 0, 7, 3, 2, 2, 15, 1, 1, 5, 3, 22, 1, 4, 15, 7, 5, 6, 2, 0, 4, 5, 4, 0], \"sizemode\": \"area\", \"sizeref\": 0.14, \"symbol\": \"circle\"}, \"mode\": \"markers\", \"name\": \"sentiment=positive\", \"showlegend\": true, \"type\": \"scatter\", \"x\": [\"2020-01-02T01:24:43\", \"2020-01-02T01:27:53\", \"2020-01-02T01:27:59\", \"2020-01-02T01:44:04\", \"2020-01-02T01:45:57\", \"2020-01-02T02:03:32\", \"2020-01-02T02:22:33\", \"2020-01-02T02:27:34\", \"2020-01-02T02:27:48\", \"2020-01-02T02:32:54\", \"2020-01-02T02:33:54\", \"2020-01-02T02:44:23\", \"2020-01-02T02:54:53\", \"2020-01-02T03:26:40\", \"2020-01-02T03:36:31\", \"2020-01-02T03:47:39\", \"2020-01-02T03:49:07\", \"2020-01-02T03:56:43\", \"2020-01-02T03:57:24\", \"2020-01-02T04:10:53\", \"2020-01-02T04:12:41\", \"2020-01-02T05:11:44\", \"2020-01-02T05:48:23\", \"2020-01-02T06:14:40\", \"2020-01-02T06:18:04\", \"2020-01-02T06:56:27\", \"2020-01-02T07:36:00\", \"2020-01-02T08:29:31\", \"2020-01-02T08:38:15\", \"2020-01-02T08:42:41\", \"2020-01-02T09:25:20\", \"2020-01-02T10:28:35\", \"2020-01-02T10:55:23\", \"2020-01-02T10:58:53\", \"2020-01-02T11:57:53\", \"2020-01-02T12:35:56\", \"2020-01-02T12:59:41\", \"2020-01-02T13:29:21\", \"2020-01-02T13:32:12\", \"2020-01-02T14:10:40\", \"2020-01-02T14:11:25\", \"2020-01-02T14:14:14\", \"2020-01-02T14:15:45\", \"2020-01-02T14:47:42\", \"2020-01-02T15:08:46\", \"2020-01-02T15:35:49\", \"2020-01-02T15:39:52\", \"2020-01-02T15:49:14\", \"2020-01-02T15:57:39\", \"2020-01-02T16:01:54\", \"2020-01-02T16:20:55\", \"2020-01-02T16:42:22\", \"2020-01-02T16:53:57\", \"2020-01-02T17:14:25\", \"2020-01-02T17:14:28\", \"2020-01-02T17:21:20\", \"2020-01-02T17:21:30\", \"2020-01-02T17:26:00\", \"2020-01-02T17:27:25\", \"2020-01-02T17:36:19\", \"2020-01-02T17:39:42\", \"2020-01-02T17:52:34\"], \"xaxis\": \"x\", \"y\": [0.25, 0.125, 0.12962962962962962, 0.45, 0.3833333333333333, 0.3, 0.2333333333333333, 0.15, 0.10865384615384616, 0.35, 0.08095238095238094, 0.02285714285714286, 0.07564157196969695, 0.18, 0.25256410256410255, 0.16, 0.018750000000000003, 0.032575757575757584, 0.3375, 0.33409090909090905, 0.2261904761904762, 0.07992424242424243, 0.2756060606060606, 0.05, 1.0, 0.5, 0.16666666666666669, 0.2916666666666667, 0.36, 0.1, 0.08833333333333333, 0.4958333333333333, 0.137361485474693, 0.15, 0.1, 0.06079545454545454, 0.36250000000000004, 0.06666666666666668, 0.0236111111111111, 0.1, 0.13636363636363635, 0.06468253968253967, 0.07004662004662005, 0.13541666666666666, 0.025000000000000005, 0.3143518518518519, 0.3888888888888889, 0.5, 0.3361904761904762, 0.06363636363636363, 0.125, 0.0006493506493506456, 0.675, 0.2791666666666667, 0.40909090909090906, 0.06818181818181818, 0.11806239737274218, 0.24930555555555553, 0.09307359307359309, 0.17500000000000002, 0.0992063492063492, 0.10024812585788197], \"yaxis\": \"y\"}, {\"alignmentgroup\": \"True\", \"bingroup\": \"x\", \"hoverlabel\": {\"namelength\": 0}, \"hovertemplate\": \"sentiment=positive<br>Date Posted=%{x}<br>count=%{y}\", \"legendgroup\": \"sentiment=positive\", \"marker\": {\"color\": \"lightslategrey\"}, \"name\": \"sentiment=positive\", \"offsetgroup\": \"sentiment=positive\", \"opacity\": 0.5, \"showlegend\": false, \"type\": \"histogram\", \"x\": [\"2020-01-02T01:24:43\", \"2020-01-02T01:27:53\", \"2020-01-02T01:27:59\", \"2020-01-02T01:44:04\", \"2020-01-02T01:45:57\", \"2020-01-02T02:03:32\", \"2020-01-02T02:22:33\", \"2020-01-02T02:27:34\", \"2020-01-02T02:27:48\", \"2020-01-02T02:32:54\", \"2020-01-02T02:33:54\", \"2020-01-02T02:44:23\", \"2020-01-02T02:54:53\", \"2020-01-02T03:26:40\", \"2020-01-02T03:36:31\", \"2020-01-02T03:47:39\", \"2020-01-02T03:49:07\", \"2020-01-02T03:56:43\", \"2020-01-02T03:57:24\", \"2020-01-02T04:10:53\", \"2020-01-02T04:12:41\", \"2020-01-02T05:11:44\", \"2020-01-02T05:48:23\", \"2020-01-02T06:14:40\", \"2020-01-02T06:18:04\", \"2020-01-02T06:56:27\", \"2020-01-02T07:36:00\", \"2020-01-02T08:29:31\", \"2020-01-02T08:38:15\", \"2020-01-02T08:42:41\", \"2020-01-02T09:25:20\", \"2020-01-02T10:28:35\", \"2020-01-02T10:55:23\", \"2020-01-02T10:58:53\", \"2020-01-02T11:57:53\", \"2020-01-02T12:35:56\", \"2020-01-02T12:59:41\", \"2020-01-02T13:29:21\", \"2020-01-02T13:32:12\", \"2020-01-02T14:10:40\", \"2020-01-02T14:11:25\", \"2020-01-02T14:14:14\", \"2020-01-02T14:15:45\", \"2020-01-02T14:47:42\", \"2020-01-02T15:08:46\", \"2020-01-02T15:35:49\", \"2020-01-02T15:39:52\", \"2020-01-02T15:49:14\", \"2020-01-02T15:57:39\", \"2020-01-02T16:01:54\", \"2020-01-02T16:20:55\", \"2020-01-02T16:42:22\", \"2020-01-02T16:53:57\", \"2020-01-02T17:14:25\", \"2020-01-02T17:14:28\", \"2020-01-02T17:21:20\", \"2020-01-02T17:21:30\", \"2020-01-02T17:26:00\", \"2020-01-02T17:27:25\", \"2020-01-02T17:36:19\", \"2020-01-02T17:39:42\", \"2020-01-02T17:52:34\"], \"xaxis\": \"x2\", \"yaxis\": \"y2\"}],\n",
       "                        {\"barmode\": \"overlay\", \"legend\": {\"itemsizing\": \"constant\", \"tracegroupgap\": 0}, \"template\": {\"data\": {\"bar\": [{\"error_x\": {\"color\": \"#2a3f5f\"}, \"error_y\": {\"color\": \"#2a3f5f\"}, \"marker\": {\"line\": {\"color\": \"#E5ECF6\", \"width\": 0.5}}, \"type\": \"bar\"}], \"barpolar\": [{\"marker\": {\"line\": {\"color\": \"#E5ECF6\", \"width\": 0.5}}, \"type\": \"barpolar\"}], \"carpet\": [{\"aaxis\": {\"endlinecolor\": \"#2a3f5f\", \"gridcolor\": \"white\", \"linecolor\": \"white\", \"minorgridcolor\": \"white\", \"startlinecolor\": \"#2a3f5f\"}, \"baxis\": {\"endlinecolor\": \"#2a3f5f\", \"gridcolor\": \"white\", \"linecolor\": \"white\", \"minorgridcolor\": \"white\", \"startlinecolor\": \"#2a3f5f\"}, \"type\": \"carpet\"}], \"choropleth\": [{\"colorbar\": {\"outlinewidth\": 0, \"ticks\": \"\"}, \"type\": \"choropleth\"}], \"contour\": [{\"colorbar\": {\"outlinewidth\": 0, \"ticks\": \"\"}, \"colorscale\": [[0.0, \"#0d0887\"], [0.1111111111111111, \"#46039f\"], [0.2222222222222222, \"#7201a8\"], [0.3333333333333333, \"#9c179e\"], [0.4444444444444444, \"#bd3786\"], [0.5555555555555556, \"#d8576b\"], [0.6666666666666666, \"#ed7953\"], [0.7777777777777778, \"#fb9f3a\"], [0.8888888888888888, \"#fdca26\"], [1.0, \"#f0f921\"]], \"type\": \"contour\"}], \"contourcarpet\": [{\"colorbar\": {\"outlinewidth\": 0, \"ticks\": \"\"}, \"type\": \"contourcarpet\"}], \"heatmap\": [{\"colorbar\": {\"outlinewidth\": 0, \"ticks\": \"\"}, \"colorscale\": [[0.0, \"#0d0887\"], [0.1111111111111111, \"#46039f\"], [0.2222222222222222, \"#7201a8\"], [0.3333333333333333, \"#9c179e\"], [0.4444444444444444, \"#bd3786\"], [0.5555555555555556, \"#d8576b\"], [0.6666666666666666, \"#ed7953\"], [0.7777777777777778, \"#fb9f3a\"], [0.8888888888888888, \"#fdca26\"], [1.0, \"#f0f921\"]], \"type\": \"heatmap\"}], \"heatmapgl\": [{\"colorbar\": {\"outlinewidth\": 0, \"ticks\": \"\"}, \"colorscale\": [[0.0, \"#0d0887\"], [0.1111111111111111, \"#46039f\"], [0.2222222222222222, \"#7201a8\"], [0.3333333333333333, \"#9c179e\"], [0.4444444444444444, \"#bd3786\"], [0.5555555555555556, \"#d8576b\"], [0.6666666666666666, \"#ed7953\"], [0.7777777777777778, \"#fb9f3a\"], [0.8888888888888888, \"#fdca26\"], [1.0, \"#f0f921\"]], \"type\": \"heatmapgl\"}], \"histogram\": [{\"marker\": {\"colorbar\": {\"outlinewidth\": 0, \"ticks\": \"\"}}, \"type\": \"histogram\"}], \"histogram2d\": [{\"colorbar\": {\"outlinewidth\": 0, \"ticks\": \"\"}, \"colorscale\": [[0.0, \"#0d0887\"], [0.1111111111111111, \"#46039f\"], [0.2222222222222222, \"#7201a8\"], [0.3333333333333333, \"#9c179e\"], [0.4444444444444444, \"#bd3786\"], [0.5555555555555556, \"#d8576b\"], [0.6666666666666666, \"#ed7953\"], [0.7777777777777778, \"#fb9f3a\"], [0.8888888888888888, \"#fdca26\"], [1.0, \"#f0f921\"]], \"type\": \"histogram2d\"}], \"histogram2dcontour\": [{\"colorbar\": {\"outlinewidth\": 0, \"ticks\": \"\"}, \"colorscale\": [[0.0, \"#0d0887\"], [0.1111111111111111, \"#46039f\"], [0.2222222222222222, \"#7201a8\"], [0.3333333333333333, \"#9c179e\"], [0.4444444444444444, \"#bd3786\"], [0.5555555555555556, \"#d8576b\"], [0.6666666666666666, \"#ed7953\"], [0.7777777777777778, \"#fb9f3a\"], [0.8888888888888888, \"#fdca26\"], [1.0, \"#f0f921\"]], \"type\": \"histogram2dcontour\"}], \"mesh3d\": [{\"colorbar\": {\"outlinewidth\": 0, \"ticks\": \"\"}, \"type\": \"mesh3d\"}], \"parcoords\": [{\"line\": {\"colorbar\": {\"outlinewidth\": 0, \"ticks\": \"\"}}, \"type\": \"parcoords\"}], \"pie\": [{\"automargin\": true, \"type\": \"pie\"}], \"scatter\": [{\"marker\": {\"colorbar\": {\"outlinewidth\": 0, \"ticks\": \"\"}}, \"type\": \"scatter\"}], \"scatter3d\": [{\"line\": {\"colorbar\": {\"outlinewidth\": 0, \"ticks\": \"\"}}, \"marker\": {\"colorbar\": {\"outlinewidth\": 0, \"ticks\": \"\"}}, \"type\": \"scatter3d\"}], \"scattercarpet\": [{\"marker\": {\"colorbar\": {\"outlinewidth\": 0, \"ticks\": \"\"}}, \"type\": \"scattercarpet\"}], \"scattergeo\": [{\"marker\": {\"colorbar\": {\"outlinewidth\": 0, \"ticks\": \"\"}}, \"type\": \"scattergeo\"}], \"scattergl\": [{\"marker\": {\"colorbar\": {\"outlinewidth\": 0, \"ticks\": \"\"}}, \"type\": \"scattergl\"}], \"scattermapbox\": [{\"marker\": {\"colorbar\": {\"outlinewidth\": 0, \"ticks\": \"\"}}, \"type\": \"scattermapbox\"}], \"scatterpolar\": [{\"marker\": {\"colorbar\": {\"outlinewidth\": 0, \"ticks\": \"\"}}, \"type\": \"scatterpolar\"}], \"scatterpolargl\": [{\"marker\": {\"colorbar\": {\"outlinewidth\": 0, \"ticks\": \"\"}}, \"type\": \"scatterpolargl\"}], \"scatterternary\": [{\"marker\": {\"colorbar\": {\"outlinewidth\": 0, \"ticks\": \"\"}}, \"type\": \"scatterternary\"}], \"surface\": [{\"colorbar\": {\"outlinewidth\": 0, \"ticks\": \"\"}, \"colorscale\": [[0.0, \"#0d0887\"], [0.1111111111111111, \"#46039f\"], [0.2222222222222222, \"#7201a8\"], [0.3333333333333333, \"#9c179e\"], [0.4444444444444444, \"#bd3786\"], [0.5555555555555556, \"#d8576b\"], [0.6666666666666666, \"#ed7953\"], [0.7777777777777778, \"#fb9f3a\"], [0.8888888888888888, \"#fdca26\"], [1.0, \"#f0f921\"]], \"type\": \"surface\"}], \"table\": [{\"cells\": {\"fill\": {\"color\": \"#EBF0F8\"}, \"line\": {\"color\": \"white\"}}, \"header\": {\"fill\": {\"color\": \"#C8D4E3\"}, \"line\": {\"color\": \"white\"}}, \"type\": \"table\"}]}, \"layout\": {\"annotationdefaults\": {\"arrowcolor\": \"#2a3f5f\", \"arrowhead\": 0, \"arrowwidth\": 1}, \"coloraxis\": {\"colorbar\": {\"outlinewidth\": 0, \"ticks\": \"\"}}, \"colorscale\": {\"diverging\": [[0, \"#8e0152\"], [0.1, \"#c51b7d\"], [0.2, \"#de77ae\"], [0.3, \"#f1b6da\"], [0.4, \"#fde0ef\"], [0.5, \"#f7f7f7\"], [0.6, \"#e6f5d0\"], [0.7, \"#b8e186\"], [0.8, \"#7fbc41\"], [0.9, \"#4d9221\"], [1, \"#276419\"]], \"sequential\": [[0.0, \"#0d0887\"], [0.1111111111111111, \"#46039f\"], [0.2222222222222222, \"#7201a8\"], [0.3333333333333333, \"#9c179e\"], [0.4444444444444444, \"#bd3786\"], [0.5555555555555556, \"#d8576b\"], [0.6666666666666666, \"#ed7953\"], [0.7777777777777778, \"#fb9f3a\"], [0.8888888888888888, \"#fdca26\"], [1.0, \"#f0f921\"]], \"sequentialminus\": [[0.0, \"#0d0887\"], [0.1111111111111111, \"#46039f\"], [0.2222222222222222, \"#7201a8\"], [0.3333333333333333, \"#9c179e\"], [0.4444444444444444, \"#bd3786\"], [0.5555555555555556, \"#d8576b\"], [0.6666666666666666, \"#ed7953\"], [0.7777777777777778, \"#fb9f3a\"], [0.8888888888888888, \"#fdca26\"], [1.0, \"#f0f921\"]]}, \"colorway\": [\"#636efa\", \"#EF553B\", \"#00cc96\", \"#ab63fa\", \"#FFA15A\", \"#19d3f3\", \"#FF6692\", \"#B6E880\", \"#FF97FF\", \"#FECB52\"], \"font\": {\"color\": \"#2a3f5f\"}, \"geo\": {\"bgcolor\": \"white\", \"lakecolor\": \"white\", \"landcolor\": \"#E5ECF6\", \"showlakes\": true, \"showland\": true, \"subunitcolor\": \"white\"}, \"hoverlabel\": {\"align\": \"left\"}, \"hovermode\": \"closest\", \"mapbox\": {\"style\": \"light\"}, \"paper_bgcolor\": \"white\", \"plot_bgcolor\": \"#E5ECF6\", \"polar\": {\"angularaxis\": {\"gridcolor\": \"white\", \"linecolor\": \"white\", \"ticks\": \"\"}, \"bgcolor\": \"#E5ECF6\", \"radialaxis\": {\"gridcolor\": \"white\", \"linecolor\": \"white\", \"ticks\": \"\"}}, \"scene\": {\"xaxis\": {\"backgroundcolor\": \"#E5ECF6\", \"gridcolor\": \"white\", \"gridwidth\": 2, \"linecolor\": \"white\", \"showbackground\": true, \"ticks\": \"\", \"zerolinecolor\": \"white\"}, \"yaxis\": {\"backgroundcolor\": \"#E5ECF6\", \"gridcolor\": \"white\", \"gridwidth\": 2, \"linecolor\": \"white\", \"showbackground\": true, \"ticks\": \"\", \"zerolinecolor\": \"white\"}, \"zaxis\": {\"backgroundcolor\": \"#E5ECF6\", \"gridcolor\": \"white\", \"gridwidth\": 2, \"linecolor\": \"white\", \"showbackground\": true, \"ticks\": \"\", \"zerolinecolor\": \"white\"}}, \"shapedefaults\": {\"line\": {\"color\": \"#2a3f5f\"}}, \"ternary\": {\"aaxis\": {\"gridcolor\": \"white\", \"linecolor\": \"white\", \"ticks\": \"\"}, \"baxis\": {\"gridcolor\": \"white\", \"linecolor\": \"white\", \"ticks\": \"\"}, \"bgcolor\": \"#E5ECF6\", \"caxis\": {\"gridcolor\": \"white\", \"linecolor\": \"white\", \"ticks\": \"\"}}, \"title\": {\"x\": 0.05}, \"xaxis\": {\"automargin\": true, \"gridcolor\": \"white\", \"linecolor\": \"white\", \"ticks\": \"\", \"title\": {\"standoff\": 15}, \"zerolinecolor\": \"white\", \"zerolinewidth\": 2}, \"yaxis\": {\"automargin\": true, \"gridcolor\": \"white\", \"linecolor\": \"white\", \"ticks\": \"\", \"title\": {\"standoff\": 15}, \"zerolinecolor\": \"white\", \"zerolinewidth\": 2}}}, \"title\": {\"text\": \"Sentiment analysis of r/destiny2 posts from previous 24 hours\"}, \"xaxis\": {\"anchor\": \"y\", \"domain\": [0.0, 1.0], \"title\": {\"text\": \"Date Posted\"}}, \"xaxis2\": {\"anchor\": \"y2\", \"domain\": [0.0, 1.0], \"matches\": \"x\", \"showgrid\": true, \"showticklabels\": false}, \"yaxis\": {\"anchor\": \"x\", \"domain\": [0.0, 0.7326], \"title\": {\"text\": \"Post Polarity\"}}, \"yaxis2\": {\"anchor\": \"x2\", \"domain\": [0.7426, 1.0], \"matches\": \"y2\", \"showgrid\": true, \"showline\": false, \"showticklabels\": false, \"ticks\": \"\"}},\n",
       "                        {\"responsive\": true}\n",
       "                    ).then(function(){\n",
       "                            \n",
       "var gd = document.getElementById('5fb44980-c254-46a8-a4fb-2e0ca3ec9924');\n",
       "var x = new MutationObserver(function (mutations, observer) {{\n",
       "        var display = window.getComputedStyle(gd).display;\n",
       "        if (!display || display === 'none') {{\n",
       "            console.log([gd, 'removed!']);\n",
       "            Plotly.purge(gd);\n",
       "            observer.disconnect();\n",
       "        }}\n",
       "}});\n",
       "\n",
       "// Listen for the removal of the full notebook cells\n",
       "var notebookContainer = gd.closest('#notebook-container');\n",
       "if (notebookContainer) {{\n",
       "    x.observe(notebookContainer, {childList: true});\n",
       "}}\n",
       "\n",
       "// Listen for the clearing of the current output cell\n",
       "var outputEl = gd.closest('.output');\n",
       "if (outputEl) {{\n",
       "    x.observe(outputEl, {childList: true});\n",
       "}}\n",
       "\n",
       "                        })\n",
       "                };\n",
       "                });\n",
       "            </script>\n",
       "        </div>"
      ]
     },
     "metadata": {},
     "output_type": "display_data"
    },
    {
     "data": {
      "application/vnd.plotly.v1+json": {
       "config": {
        "plotlyServerURL": "https://plot.ly"
       },
       "data": [
        {
         "customdata": [
          [
           "destinythegame",
           "eiqpqk"
          ],
          [
           "destinythegame",
           "eiqq6i"
          ],
          [
           "destinythegame",
           "eiqqok"
          ],
          [
           "destinythegame",
           "eiqqz3"
          ],
          [
           "destinythegame",
           "eiqrzr"
          ],
          [
           "destinythegame",
           "eiqwci"
          ],
          [
           "destinythegame",
           "eiqy1w"
          ],
          [
           "destinythegame",
           "eiqy5n"
          ],
          [
           "destinythegame",
           "eir1ex"
          ],
          [
           "destinythegame",
           "eir26s"
          ],
          [
           "destinythegame",
           "eir2ce"
          ],
          [
           "destinythegame",
           "eir2lb"
          ],
          [
           "destinythegame",
           "eir2pv"
          ],
          [
           "destinythegame",
           "eir6iu"
          ],
          [
           "destinythegame",
           "eir7f8"
          ],
          [
           "destinythegame",
           "eir8xw"
          ],
          [
           "destinythegame",
           "eirag9"
          ],
          [
           "destinythegame",
           "eirc93"
          ],
          [
           "destinythegame",
           "eircue"
          ],
          [
           "destinythegame",
           "eirdy5"
          ],
          [
           "destinythegame",
           "eirfab"
          ],
          [
           "destinythegame",
           "eirgi0"
          ],
          [
           "destinythegame",
           "eirh0f"
          ],
          [
           "destinythegame",
           "eirhtw"
          ],
          [
           "destinythegame",
           "eirk8h"
          ],
          [
           "destinythegame",
           "eirlhc"
          ],
          [
           "destinythegame",
           "eirmpt"
          ],
          [
           "destinythegame",
           "eirp6h"
          ],
          [
           "destinythegame",
           "eirr56"
          ],
          [
           "destinythegame",
           "eirvg2"
          ],
          [
           "destinythegame",
           "eiry04"
          ],
          [
           "destinythegame",
           "eiry5a"
          ],
          [
           "destinythegame",
           "eirz3c"
          ],
          [
           "destinythegame",
           "eirzg2"
          ],
          [
           "destinythegame",
           "eis0hu"
          ],
          [
           "destinythegame",
           "eis4hw"
          ],
          [
           "destinythegame",
           "eis5p5"
          ],
          [
           "destinythegame",
           "eis601"
          ],
          [
           "destinythegame",
           "eis90g"
          ],
          [
           "destinythegame",
           "eisfob"
          ],
          [
           "destinythegame",
           "eisg8w"
          ],
          [
           "destinythegame",
           "eisgvf"
          ],
          [
           "destinythegame",
           "eisi8f"
          ],
          [
           "destinythegame",
           "eisiz9"
          ],
          [
           "destinythegame",
           "eisoua"
          ],
          [
           "destinythegame",
           "eisp00"
          ],
          [
           "destinythegame",
           "eisq00"
          ],
          [
           "destinythegame",
           "eisscl"
          ],
          [
           "destinythegame",
           "eisvz1"
          ],
          [
           "destinythegame",
           "eisw5h"
          ],
          [
           "destinythegame",
           "eisxpb"
          ],
          [
           "destinythegame",
           "eisy73"
          ],
          [
           "destinythegame",
           "eisy9g"
          ],
          [
           "destinythegame",
           "eisyh7"
          ],
          [
           "destinythegame",
           "eit1cy"
          ],
          [
           "destinythegame",
           "eit2kp"
          ],
          [
           "destinythegame",
           "eit35t"
          ],
          [
           "destinythegame",
           "eit36b"
          ],
          [
           "destinythegame",
           "eit4wz"
          ],
          [
           "destinythegame",
           "eit973"
          ],
          [
           "destinythegame",
           "eit9a3"
          ],
          [
           "destinythegame",
           "eit9vs"
          ],
          [
           "destinythegame",
           "eitbe5"
          ],
          [
           "destinythegame",
           "eitdl3"
          ],
          [
           "destinythegame",
           "eitf2o"
          ],
          [
           "destinythegame",
           "eithq1"
          ],
          [
           "destinythegame",
           "eittgf"
          ],
          [
           "destinythegame",
           "eituxe"
          ],
          [
           "destinythegame",
           "eitv6s"
          ],
          [
           "destinythegame",
           "eitvxy"
          ],
          [
           "destinythegame",
           "eitxhf"
          ],
          [
           "destinythegame",
           "eiu4wq"
          ],
          [
           "destinythegame",
           "eiu6kl"
          ],
          [
           "destinythegame",
           "eiuaof"
          ],
          [
           "destinythegame",
           "eiug4v"
          ],
          [
           "destinythegame",
           "eiulje"
          ],
          [
           "destinythegame",
           "eiullx"
          ],
          [
           "destinythegame",
           "eiulty"
          ],
          [
           "destinythegame",
           "eiunaz"
          ],
          [
           "destinythegame",
           "eiusdn"
          ],
          [
           "destinythegame",
           "eiut5p"
          ],
          [
           "destinythegame",
           "eiuvcx"
          ],
          [
           "destinythegame",
           "eiuvmw"
          ],
          [
           "destinythegame",
           "eiuwni"
          ],
          [
           "destinythegame",
           "eiux7b"
          ],
          [
           "destinythegame",
           "eiuyhz"
          ],
          [
           "destinythegame",
           "eiuyva"
          ],
          [
           "destinythegame",
           "eiv143"
          ],
          [
           "destinythegame",
           "eiv19x"
          ],
          [
           "destinythegame",
           "eiv1cm"
          ],
          [
           "destinythegame",
           "eiv381"
          ],
          [
           "destinythegame",
           "eiv3cf"
          ],
          [
           "destinythegame",
           "eiv50y"
          ],
          [
           "destinythegame",
           "eiv8a3"
          ],
          [
           "destinythegame",
           "eiva58"
          ],
          [
           "destinythegame",
           "eivbp0"
          ],
          [
           "destinythegame",
           "eivjc8"
          ],
          [
           "destinythegame",
           "eivjt9"
          ],
          [
           "destinythegame",
           "eivn9a"
          ],
          [
           "destinythegame",
           "eivnz3"
          ],
          [
           "destinythegame",
           "eivotj"
          ],
          [
           "destinythegame",
           "eivp1o"
          ],
          [
           "destinythegame",
           "eivwp6"
          ],
          [
           "destinythegame",
           "eiw6xb"
          ],
          [
           "destinythegame",
           "eiw6xi"
          ],
          [
           "destinythegame",
           "eiwje6"
          ],
          [
           "destinythegame",
           "eiwon2"
          ],
          [
           "destinythegame",
           "eiwow1"
          ],
          [
           "destinythegame",
           "eiwp19"
          ],
          [
           "destinythegame",
           "eiwwf0"
          ],
          [
           "destinythegame",
           "eiwyc7"
          ],
          [
           "destinythegame",
           "eiwyse"
          ],
          [
           "destinythegame",
           "eiwzpr"
          ],
          [
           "destinythegame",
           "eix2nb"
          ],
          [
           "destinythegame",
           "eix5ck"
          ],
          [
           "destinythegame",
           "eix5o5"
          ],
          [
           "destinythegame",
           "eix7iu"
          ],
          [
           "destinythegame",
           "eixby7"
          ],
          [
           "destinythegame",
           "eixcq8"
          ],
          [
           "destinythegame",
           "eixd5z"
          ],
          [
           "destinythegame",
           "eixf1b"
          ],
          [
           "destinythegame",
           "eixhw1"
          ],
          [
           "destinythegame",
           "eixi79"
          ],
          [
           "destinythegame",
           "eixjxi"
          ],
          [
           "destinythegame",
           "eixnc7"
          ],
          [
           "destinythegame",
           "eixneg"
          ],
          [
           "destinythegame",
           "eixq6q"
          ],
          [
           "destinythegame",
           "eixu3u"
          ],
          [
           "destinythegame",
           "eixxor"
          ],
          [
           "destinythegame",
           "eixy56"
          ],
          [
           "destinythegame",
           "eixyig"
          ],
          [
           "destinythegame",
           "eixyjy"
          ],
          [
           "destinythegame",
           "eiy2dr"
          ],
          [
           "destinythegame",
           "eiy2m0"
          ],
          [
           "destinythegame",
           "eiy42q"
          ],
          [
           "destinythegame",
           "eiy6cw"
          ],
          [
           "destinythegame",
           "eiy94c"
          ],
          [
           "destinythegame",
           "eiycxu"
          ],
          [
           "destinythegame",
           "eiyg20"
          ],
          [
           "destinythegame",
           "eiykcb"
          ],
          [
           "destinythegame",
           "eiylmr"
          ],
          [
           "destinythegame",
           "eiym41"
          ],
          [
           "destinythegame",
           "eiymv6"
          ],
          [
           "destinythegame",
           "eiyo2c"
          ],
          [
           "destinythegame",
           "eiys8q"
          ],
          [
           "destinythegame",
           "eiyszg"
          ],
          [
           "destinythegame",
           "eiyux9"
          ],
          [
           "destinythegame",
           "eiyvwg"
          ],
          [
           "destinythegame",
           "eiywnp"
          ],
          [
           "destinythegame",
           "eiyykd"
          ],
          [
           "destinythegame",
           "eiz3wr"
          ],
          [
           "destinythegame",
           "eiz82v"
          ],
          [
           "destinythegame",
           "eiz8em"
          ],
          [
           "destinythegame",
           "eiz9dc"
          ],
          [
           "destinythegame",
           "eizbrt"
          ],
          [
           "destinythegame",
           "eizdg4"
          ],
          [
           "destinythegame",
           "eizdi6"
          ],
          [
           "destinythegame",
           "eizeq8"
          ],
          [
           "destinythegame",
           "eizf05"
          ],
          [
           "destinythegame",
           "eizgk2"
          ],
          [
           "destinythegame",
           "eizhmr"
          ],
          [
           "destinythegame",
           "eizibj"
          ],
          [
           "destinythegame",
           "eizikc"
          ],
          [
           "destinythegame",
           "eizjy5"
          ],
          [
           "destinythegame",
           "eizkwn"
          ],
          [
           "destinythegame",
           "eizm6l"
          ],
          [
           "destinythegame",
           "eizmia"
          ],
          [
           "destinythegame",
           "eizmwu"
          ],
          [
           "destinythegame",
           "eizn1c"
          ],
          [
           "destinythegame",
           "eizqac"
          ],
          [
           "destinythegame",
           "eizqnv"
          ],
          [
           "destinythegame",
           "eiztp3"
          ],
          [
           "destinythegame",
           "eizvwd"
          ],
          [
           "destinythegame",
           "eizxf1"
          ],
          [
           "destinythegame",
           "eizxig"
          ],
          [
           "destinythegame",
           "eizy4e"
          ],
          [
           "destinythegame",
           "eizz3u"
          ],
          [
           "destinythegame",
           "ej0048"
          ],
          [
           "destinythegame",
           "ej02n0"
          ],
          [
           "destinythegame",
           "ej03h6"
          ],
          [
           "destinythegame",
           "ej04sz"
          ],
          [
           "destinythegame",
           "ej04z5"
          ],
          [
           "destinythegame",
           "ej05n5"
          ],
          [
           "destinythegame",
           "ej064d"
          ],
          [
           "destinythegame",
           "ej0748"
          ],
          [
           "destinythegame",
           "ej076d"
          ],
          [
           "destinythegame",
           "ej07vt"
          ],
          [
           "destinythegame",
           "ej0932"
          ],
          [
           "destinythegame",
           "ej097i"
          ],
          [
           "destinythegame",
           "ej09re"
          ],
          [
           "destinythegame",
           "ej0c3q"
          ],
          [
           "destinythegame",
           "ej0d91"
          ],
          [
           "destinythegame",
           "ej0ff6"
          ],
          [
           "destinythegame",
           "ej0fs1"
          ],
          [
           "destinythegame",
           "ej0koj"
          ],
          [
           "destinythegame",
           "ej0mnl"
          ],
          [
           "destinythegame",
           "ej0ohk"
          ],
          [
           "destinythegame",
           "ej0oub"
          ],
          [
           "destinythegame",
           "ej0ovc"
          ],
          [
           "destinythegame",
           "ej0quk"
          ],
          [
           "destinythegame",
           "ej0tjy"
          ],
          [
           "destinythegame",
           "ej0u8g"
          ],
          [
           "destinythegame",
           "ej0uql"
          ],
          [
           "destinythegame",
           "ej113o"
          ],
          [
           "destinythegame",
           "ej137p"
          ],
          [
           "destinythegame",
           "ej13u4"
          ],
          [
           "destinythegame",
           "ej158d"
          ],
          [
           "destinythegame",
           "ej16wb"
          ],
          [
           "destinythegame",
           "ej174m"
          ],
          [
           "destinythegame",
           "ej19sz"
          ],
          [
           "destinythegame",
           "ej19t6"
          ],
          [
           "destinythegame",
           "ej1c97"
          ],
          [
           "destinythegame",
           "ej1cf2"
          ],
          [
           "destinythegame",
           "ej1dbt"
          ],
          [
           "destinythegame",
           "ej1j5z"
          ],
          [
           "destinythegame",
           "ej1jbb"
          ]
         ],
         "hoverlabel": {
          "namelength": 0
         },
         "hovertemplate": "subreddit=%{customdata[0]}<br>Date Posted=%{x}<br>Post Polarity=%{y}<br>id=%{customdata[1]}",
         "legendgroup": "subreddit=destinythegame",
         "marker": {
          "color": "blue",
          "symbol": "circle"
         },
         "mode": "markers",
         "name": "subreddit=destinythegame",
         "showlegend": true,
         "type": "scatter",
         "x": [
          "2020-01-02T00:55:46",
          "2020-01-02T00:56:45",
          "2020-01-02T00:57:58",
          "2020-01-02T00:58:40",
          "2020-01-02T01:00:58",
          "2020-01-02T01:10:31",
          "2020-01-02T01:14:23",
          "2020-01-02T01:14:35",
          "2020-01-02T01:21:58",
          "2020-01-02T01:23:42",
          "2020-01-02T01:24:04",
          "2020-01-02T01:24:34",
          "2020-01-02T01:24:51",
          "2020-01-02T01:33:09",
          "2020-01-02T01:35:11",
          "2020-01-02T01:38:31",
          "2020-01-02T01:41:56",
          "2020-01-02T01:46:00",
          "2020-01-02T01:47:15",
          "2020-01-02T01:49:57",
          "2020-01-02T01:53:00",
          "2020-01-02T01:55:47",
          "2020-01-02T01:56:55",
          "2020-01-02T01:58:52",
          "2020-01-02T02:04:17",
          "2020-01-02T02:07:03",
          "2020-01-02T02:09:48",
          "2020-01-02T02:15:21",
          "2020-01-02T02:19:42",
          "2020-01-02T02:29:14",
          "2020-01-02T02:35:01",
          "2020-01-02T02:35:20",
          "2020-01-02T02:37:24",
          "2020-01-02T02:38:13",
          "2020-01-02T02:40:38",
          "2020-01-02T02:49:39",
          "2020-01-02T02:52:14",
          "2020-01-02T02:52:51",
          "2020-01-02T02:59:55",
          "2020-01-02T03:15:08",
          "2020-01-02T03:16:30",
          "2020-01-02T03:18:04",
          "2020-01-02T03:21:11",
          "2020-01-02T03:22:56",
          "2020-01-02T03:36:31",
          "2020-01-02T03:36:53",
          "2020-01-02T03:39:08",
          "2020-01-02T03:44:24",
          "2020-01-02T03:52:56",
          "2020-01-02T03:53:20",
          "2020-01-02T03:56:59",
          "2020-01-02T03:58:19",
          "2020-01-02T03:58:27",
          "2020-01-02T03:58:59",
          "2020-01-02T04:05:55",
          "2020-01-02T04:08:55",
          "2020-01-02T04:10:19",
          "2020-01-02T04:10:21",
          "2020-01-02T04:14:50",
          "2020-01-02T04:25:38",
          "2020-01-02T04:25:52",
          "2020-01-02T04:27:19",
          "2020-01-02T04:31:12",
          "2020-01-02T04:36:30",
          "2020-01-02T04:40:23",
          "2020-01-02T04:47:03",
          "2020-01-02T05:15:42",
          "2020-01-02T05:19:32",
          "2020-01-02T05:20:13",
          "2020-01-02T05:22:06",
          "2020-01-02T05:25:59",
          "2020-01-02T05:45:06",
          "2020-01-02T05:49:32",
          "2020-01-02T06:00:34",
          "2020-01-02T06:14:50",
          "2020-01-02T06:29:49",
          "2020-01-02T06:30:02",
          "2020-01-02T06:30:39",
          "2020-01-02T06:34:57",
          "2020-01-02T06:49:41",
          "2020-01-02T06:51:54",
          "2020-01-02T06:58:26",
          "2020-01-02T06:59:17",
          "2020-01-02T07:02:24",
          "2020-01-02T07:04:06",
          "2020-01-02T07:07:34",
          "2020-01-02T07:08:35",
          "2020-01-02T07:15:17",
          "2020-01-02T07:15:48",
          "2020-01-02T07:16:03",
          "2020-01-02T07:21:55",
          "2020-01-02T07:22:16",
          "2020-01-02T07:27:26",
          "2020-01-02T07:37:48",
          "2020-01-02T07:43:45",
          "2020-01-02T07:48:56",
          "2020-01-02T08:14:07",
          "2020-01-02T08:15:39",
          "2020-01-02T08:27:31",
          "2020-01-02T08:29:59",
          "2020-01-02T08:33:13",
          "2020-01-02T08:34:01",
          "2020-01-02T09:00:59",
          "2020-01-02T09:35:55",
          "2020-01-02T09:35:56",
          "2020-01-02T10:18:06",
          "2020-01-02T10:36:34",
          "2020-01-02T10:37:27",
          "2020-01-02T10:37:57",
          "2020-01-02T11:02:47",
          "2020-01-02T11:08:57",
          "2020-01-02T11:10:22",
          "2020-01-02T11:13:06",
          "2020-01-02T11:22:43",
          "2020-01-02T11:31:57",
          "2020-01-02T11:32:56",
          "2020-01-02T11:38:55",
          "2020-01-02T11:52:57",
          "2020-01-02T11:55:31",
          "2020-01-02T11:56:58",
          "2020-01-02T12:02:51",
          "2020-01-02T12:11:49",
          "2020-01-02T12:12:47",
          "2020-01-02T12:18:02",
          "2020-01-02T12:28:29",
          "2020-01-02T12:28:40",
          "2020-01-02T12:37:10",
          "2020-01-02T12:48:33",
          "2020-01-02T12:58:55",
          "2020-01-02T13:00:10",
          "2020-01-02T13:01:11",
          "2020-01-02T13:01:18",
          "2020-01-02T13:11:42",
          "2020-01-02T13:12:19",
          "2020-01-02T13:16:16",
          "2020-01-02T13:22:41",
          "2020-01-02T13:30:38",
          "2020-01-02T13:40:56",
          "2020-01-02T13:49:09",
          "2020-01-02T14:00:29",
          "2020-01-02T14:03:57",
          "2020-01-02T14:05:07",
          "2020-01-02T14:06:52",
          "2020-01-02T14:09:54",
          "2020-01-02T14:20:13",
          "2020-01-02T14:22:06",
          "2020-01-02T14:27:05",
          "2020-01-02T14:29:28",
          "2020-01-02T14:31:25",
          "2020-01-02T14:36:16",
          "2020-01-02T14:49:04",
          "2020-01-02T14:58:48",
          "2020-01-02T14:59:35",
          "2020-01-02T15:01:45",
          "2020-01-02T15:07:11",
          "2020-01-02T15:10:46",
          "2020-01-02T15:10:54",
          "2020-01-02T15:13:37",
          "2020-01-02T15:14:15",
          "2020-01-02T15:17:47",
          "2020-01-02T15:20:09",
          "2020-01-02T15:21:45",
          "2020-01-02T15:22:14",
          "2020-01-02T15:25:15",
          "2020-01-02T15:27:31",
          "2020-01-02T15:30:26",
          "2020-01-02T15:31:13",
          "2020-01-02T15:32:06",
          "2020-01-02T15:32:21",
          "2020-01-02T15:39:20",
          "2020-01-02T15:40:11",
          "2020-01-02T15:46:43",
          "2020-01-02T15:51:31",
          "2020-01-02T15:55:03",
          "2020-01-02T15:55:15",
          "2020-01-02T15:56:31",
          "2020-01-02T15:58:34",
          "2020-01-02T16:00:41",
          "2020-01-02T16:06:05",
          "2020-01-02T16:07:54",
          "2020-01-02T16:10:48",
          "2020-01-02T16:11:08",
          "2020-01-02T16:12:32",
          "2020-01-02T16:13:38",
          "2020-01-02T16:15:50",
          "2020-01-02T16:15:57",
          "2020-01-02T16:17:29",
          "2020-01-02T16:20:02",
          "2020-01-02T16:20:18",
          "2020-01-02T16:21:31",
          "2020-01-02T16:26:15",
          "2020-01-02T16:28:40",
          "2020-01-02T16:33:24",
          "2020-01-02T16:34:09",
          "2020-01-02T16:44:21",
          "2020-01-02T16:48:25",
          "2020-01-02T16:52:17",
          "2020-01-02T16:53:03",
          "2020-01-02T16:53:06",
          "2020-01-02T16:57:11",
          "2020-01-02T17:02:41",
          "2020-01-02T17:03:55",
          "2020-01-02T17:04:52",
          "2020-01-02T17:17:32",
          "2020-01-02T17:21:49",
          "2020-01-02T17:23:02",
          "2020-01-02T17:25:50",
          "2020-01-02T17:29:10",
          "2020-01-02T17:29:35",
          "2020-01-02T17:35:01",
          "2020-01-02T17:35:02",
          "2020-01-02T17:39:53",
          "2020-01-02T17:40:16",
          "2020-01-02T17:42:06",
          "2020-01-02T17:53:39",
          "2020-01-02T17:53:58"
         ],
         "xaxis": "x",
         "y": [
          0.185,
          0.5,
          0.5,
          -0.275,
          0.13541666666666666,
          0.2590909090909091,
          -0.08437499999999998,
          0.39999999999999997,
          0.33888888888888885,
          0.16272058823529417,
          0,
          0,
          -0.325,
          0.2722222222222222,
          0.5399999999999999,
          0.22999999999999998,
          0.27916666666666673,
          0.3,
          0,
          -0.027281746031746015,
          0.07053571428571428,
          -0.2111111111111111,
          0.07904040404040405,
          0.24163025210084035,
          0,
          0,
          -0.21666666666666667,
          -0.5578125,
          0.20833333333333334,
          -0.17714285714285719,
          0.17500000000000002,
          0.08027210884353742,
          -0.22182539682539684,
          0.02666666666666666,
          0.14750000000000002,
          0.31258503401360543,
          0.14477272727272728,
          0.032575757575757584,
          -0.5,
          0.03571428571428571,
          0.5,
          0.052380952380952375,
          0.01687147977470559,
          0.07863636363636364,
          0.2,
          0.33166666666666667,
          0.17289473684210527,
          0.08727272727272727,
          -0.6041666666666665,
          0.42857142857142855,
          -0.05,
          -0.10416666666666666,
          0.5666666666666667,
          0,
          -0.2,
          -0.08,
          1,
          -0.10272727272727274,
          0,
          0.3002705627705628,
          0.26666666666666666,
          0,
          0.1465909090909091,
          0.04643442143442144,
          0.13810575227241895,
          -0.2333333333333333,
          0.4510416666666667,
          0.07546296296296297,
          -0.0690340909090909,
          0.125,
          0.17065217391304346,
          0.13650793650793652,
          0.14188311688311692,
          0.07272727272727275,
          0.19166666666666665,
          0,
          0.023611111111111107,
          0,
          -0.022857142857142864,
          0,
          -0.033333333333333326,
          0.4976190476190476,
          -0.1,
          0.032499999999999994,
          0.19772727272727272,
          0.13333333333333333,
          0.1,
          0.375,
          -0.017647058823529432,
          0.2,
          -0.14285714285714285,
          0.06043956043956042,
          0.19641666666666668,
          -0.13333333333333333,
          0,
          0.20610795454545455,
          0,
          0.2,
          -0.5,
          -0.004629629629629654,
          0.05,
          -0.13888888888888892,
          0.2183333333333333,
          0,
          0.1787878787878788,
          0,
          0.053636363636363635,
          0.058191823899371,
          -0.1,
          0.10584733893557423,
          0.06818181818181818,
          -0.08503401360544217,
          0.16666666666666666,
          0.35,
          0.23888888888888887,
          0.23393939393939397,
          0.2753968253968254,
          0.033333333333333326,
          0.10416666666666667,
          -0.2288818359375,
          -0.11085858585858585,
          -0.007177729677729678,
          0.10601491101491102,
          -0.012678735406008135,
          0.14999999999999997,
          0.031746031746031744,
          -0.125,
          0.08333333333333333,
          -0.03819444444444444,
          -0.047619047619047616,
          0.3099897787397787,
          0.22413911845730025,
          0.3222222222222222,
          -0.45,
          -0.008048552754435117,
          0.4442857142857143,
          0.12088827838827841,
          0.35,
          0.034375,
          0.3088392857142857,
          0.12467532467532469,
          1,
          0.525,
          -0.02500000000000001,
          0.13102272727272724,
          0.21666666666666667,
          0,
          0.02857142857142862,
          -0.125,
          -0.07272727272727272,
          0.14964646464646464,
          0.031111111111111107,
          0,
          0.010714285714285713,
          -0.017916666666666664,
          0.014285714285714275,
          0.3125625676406926,
          0.175,
          -0.25,
          0.19845350052246602,
          0.8,
          0.45,
          0.1926311433664375,
          0.25,
          0.16948051948051948,
          0.20657553101756013,
          0.42857142857142855,
          0.1791666666666667,
          0.20833333333333331,
          0,
          0.175,
          0.509090909090909,
          0.08502214839424141,
          0.04707792207792208,
          -0.25,
          0.05714285714285713,
          0.06190476190476189,
          0.1909090909090909,
          0.17192982456140354,
          -0.024999999999999994,
          0.1380094748019276,
          -0.023611111111111114,
          -0.16666666666666666,
          0.12604166666666666,
          0.2848484848484848,
          0,
          0.03571428571428571,
          0.0523809523809524,
          0.04907407407407407,
          0.0028409090909090884,
          -0.2,
          0.21103896103896103,
          -0.3833333333333333,
          -0.15625,
          -0.2,
          0.13164335664335663,
          -0.16666666666666666,
          0.06904761904761905,
          0.7,
          -0.0375,
          0.158512987012987,
          0.04880952380952381,
          0.14733445566778902,
          -0.02467532467532469,
          -0.1,
          0.3666666666666667,
          0.20097402597402594,
          0.35714285714285715,
          0.48,
          0.15501984126984125,
          0.011111111111111118,
          0.20833333333333334,
          0.1730434782608696,
          -0.28,
          0.029166666666666657,
          -0.375
         ],
         "yaxis": "y"
        },
        {
         "alignmentgroup": "True",
         "bingroup": "x",
         "hoverlabel": {
          "namelength": 0
         },
         "hovertemplate": "subreddit=destinythegame<br>Date Posted=%{x}<br>count=%{y}",
         "legendgroup": "subreddit=destinythegame",
         "marker": {
          "color": "blue"
         },
         "name": "subreddit=destinythegame",
         "offsetgroup": "subreddit=destinythegame",
         "opacity": 0.5,
         "showlegend": false,
         "type": "histogram",
         "x": [
          "2020-01-02T00:55:46",
          "2020-01-02T00:56:45",
          "2020-01-02T00:57:58",
          "2020-01-02T00:58:40",
          "2020-01-02T01:00:58",
          "2020-01-02T01:10:31",
          "2020-01-02T01:14:23",
          "2020-01-02T01:14:35",
          "2020-01-02T01:21:58",
          "2020-01-02T01:23:42",
          "2020-01-02T01:24:04",
          "2020-01-02T01:24:34",
          "2020-01-02T01:24:51",
          "2020-01-02T01:33:09",
          "2020-01-02T01:35:11",
          "2020-01-02T01:38:31",
          "2020-01-02T01:41:56",
          "2020-01-02T01:46:00",
          "2020-01-02T01:47:15",
          "2020-01-02T01:49:57",
          "2020-01-02T01:53:00",
          "2020-01-02T01:55:47",
          "2020-01-02T01:56:55",
          "2020-01-02T01:58:52",
          "2020-01-02T02:04:17",
          "2020-01-02T02:07:03",
          "2020-01-02T02:09:48",
          "2020-01-02T02:15:21",
          "2020-01-02T02:19:42",
          "2020-01-02T02:29:14",
          "2020-01-02T02:35:01",
          "2020-01-02T02:35:20",
          "2020-01-02T02:37:24",
          "2020-01-02T02:38:13",
          "2020-01-02T02:40:38",
          "2020-01-02T02:49:39",
          "2020-01-02T02:52:14",
          "2020-01-02T02:52:51",
          "2020-01-02T02:59:55",
          "2020-01-02T03:15:08",
          "2020-01-02T03:16:30",
          "2020-01-02T03:18:04",
          "2020-01-02T03:21:11",
          "2020-01-02T03:22:56",
          "2020-01-02T03:36:31",
          "2020-01-02T03:36:53",
          "2020-01-02T03:39:08",
          "2020-01-02T03:44:24",
          "2020-01-02T03:52:56",
          "2020-01-02T03:53:20",
          "2020-01-02T03:56:59",
          "2020-01-02T03:58:19",
          "2020-01-02T03:58:27",
          "2020-01-02T03:58:59",
          "2020-01-02T04:05:55",
          "2020-01-02T04:08:55",
          "2020-01-02T04:10:19",
          "2020-01-02T04:10:21",
          "2020-01-02T04:14:50",
          "2020-01-02T04:25:38",
          "2020-01-02T04:25:52",
          "2020-01-02T04:27:19",
          "2020-01-02T04:31:12",
          "2020-01-02T04:36:30",
          "2020-01-02T04:40:23",
          "2020-01-02T04:47:03",
          "2020-01-02T05:15:42",
          "2020-01-02T05:19:32",
          "2020-01-02T05:20:13",
          "2020-01-02T05:22:06",
          "2020-01-02T05:25:59",
          "2020-01-02T05:45:06",
          "2020-01-02T05:49:32",
          "2020-01-02T06:00:34",
          "2020-01-02T06:14:50",
          "2020-01-02T06:29:49",
          "2020-01-02T06:30:02",
          "2020-01-02T06:30:39",
          "2020-01-02T06:34:57",
          "2020-01-02T06:49:41",
          "2020-01-02T06:51:54",
          "2020-01-02T06:58:26",
          "2020-01-02T06:59:17",
          "2020-01-02T07:02:24",
          "2020-01-02T07:04:06",
          "2020-01-02T07:07:34",
          "2020-01-02T07:08:35",
          "2020-01-02T07:15:17",
          "2020-01-02T07:15:48",
          "2020-01-02T07:16:03",
          "2020-01-02T07:21:55",
          "2020-01-02T07:22:16",
          "2020-01-02T07:27:26",
          "2020-01-02T07:37:48",
          "2020-01-02T07:43:45",
          "2020-01-02T07:48:56",
          "2020-01-02T08:14:07",
          "2020-01-02T08:15:39",
          "2020-01-02T08:27:31",
          "2020-01-02T08:29:59",
          "2020-01-02T08:33:13",
          "2020-01-02T08:34:01",
          "2020-01-02T09:00:59",
          "2020-01-02T09:35:55",
          "2020-01-02T09:35:56",
          "2020-01-02T10:18:06",
          "2020-01-02T10:36:34",
          "2020-01-02T10:37:27",
          "2020-01-02T10:37:57",
          "2020-01-02T11:02:47",
          "2020-01-02T11:08:57",
          "2020-01-02T11:10:22",
          "2020-01-02T11:13:06",
          "2020-01-02T11:22:43",
          "2020-01-02T11:31:57",
          "2020-01-02T11:32:56",
          "2020-01-02T11:38:55",
          "2020-01-02T11:52:57",
          "2020-01-02T11:55:31",
          "2020-01-02T11:56:58",
          "2020-01-02T12:02:51",
          "2020-01-02T12:11:49",
          "2020-01-02T12:12:47",
          "2020-01-02T12:18:02",
          "2020-01-02T12:28:29",
          "2020-01-02T12:28:40",
          "2020-01-02T12:37:10",
          "2020-01-02T12:48:33",
          "2020-01-02T12:58:55",
          "2020-01-02T13:00:10",
          "2020-01-02T13:01:11",
          "2020-01-02T13:01:18",
          "2020-01-02T13:11:42",
          "2020-01-02T13:12:19",
          "2020-01-02T13:16:16",
          "2020-01-02T13:22:41",
          "2020-01-02T13:30:38",
          "2020-01-02T13:40:56",
          "2020-01-02T13:49:09",
          "2020-01-02T14:00:29",
          "2020-01-02T14:03:57",
          "2020-01-02T14:05:07",
          "2020-01-02T14:06:52",
          "2020-01-02T14:09:54",
          "2020-01-02T14:20:13",
          "2020-01-02T14:22:06",
          "2020-01-02T14:27:05",
          "2020-01-02T14:29:28",
          "2020-01-02T14:31:25",
          "2020-01-02T14:36:16",
          "2020-01-02T14:49:04",
          "2020-01-02T14:58:48",
          "2020-01-02T14:59:35",
          "2020-01-02T15:01:45",
          "2020-01-02T15:07:11",
          "2020-01-02T15:10:46",
          "2020-01-02T15:10:54",
          "2020-01-02T15:13:37",
          "2020-01-02T15:14:15",
          "2020-01-02T15:17:47",
          "2020-01-02T15:20:09",
          "2020-01-02T15:21:45",
          "2020-01-02T15:22:14",
          "2020-01-02T15:25:15",
          "2020-01-02T15:27:31",
          "2020-01-02T15:30:26",
          "2020-01-02T15:31:13",
          "2020-01-02T15:32:06",
          "2020-01-02T15:32:21",
          "2020-01-02T15:39:20",
          "2020-01-02T15:40:11",
          "2020-01-02T15:46:43",
          "2020-01-02T15:51:31",
          "2020-01-02T15:55:03",
          "2020-01-02T15:55:15",
          "2020-01-02T15:56:31",
          "2020-01-02T15:58:34",
          "2020-01-02T16:00:41",
          "2020-01-02T16:06:05",
          "2020-01-02T16:07:54",
          "2020-01-02T16:10:48",
          "2020-01-02T16:11:08",
          "2020-01-02T16:12:32",
          "2020-01-02T16:13:38",
          "2020-01-02T16:15:50",
          "2020-01-02T16:15:57",
          "2020-01-02T16:17:29",
          "2020-01-02T16:20:02",
          "2020-01-02T16:20:18",
          "2020-01-02T16:21:31",
          "2020-01-02T16:26:15",
          "2020-01-02T16:28:40",
          "2020-01-02T16:33:24",
          "2020-01-02T16:34:09",
          "2020-01-02T16:44:21",
          "2020-01-02T16:48:25",
          "2020-01-02T16:52:17",
          "2020-01-02T16:53:03",
          "2020-01-02T16:53:06",
          "2020-01-02T16:57:11",
          "2020-01-02T17:02:41",
          "2020-01-02T17:03:55",
          "2020-01-02T17:04:52",
          "2020-01-02T17:17:32",
          "2020-01-02T17:21:49",
          "2020-01-02T17:23:02",
          "2020-01-02T17:25:50",
          "2020-01-02T17:29:10",
          "2020-01-02T17:29:35",
          "2020-01-02T17:35:01",
          "2020-01-02T17:35:02",
          "2020-01-02T17:39:53",
          "2020-01-02T17:40:16",
          "2020-01-02T17:42:06",
          "2020-01-02T17:53:39",
          "2020-01-02T17:53:58"
         ],
         "xaxis": "x3",
         "yaxis": "y3"
        },
        {
         "customdata": [
          [
           "destiny2",
           "eiqtfn"
          ],
          [
           "destiny2",
           "eiqti4"
          ],
          [
           "destiny2",
           "eiqw4g"
          ],
          [
           "destiny2",
           "eir2o5"
          ],
          [
           "destiny2",
           "eir43y"
          ],
          [
           "destiny2",
           "eir45k"
          ],
          [
           "destiny2",
           "eir6fr"
          ],
          [
           "destiny2",
           "eir6hs"
          ],
          [
           "destiny2",
           "eir8pz"
          ],
          [
           "destiny2",
           "eirbg6"
          ],
          [
           "destiny2",
           "eirc8e"
          ],
          [
           "destiny2",
           "eirjwl"
          ],
          [
           "destiny2",
           "eirlbb"
          ],
          [
           "destiny2",
           "eirsfi"
          ],
          [
           "destiny2",
           "eirup3"
          ],
          [
           "destiny2",
           "eirut8"
          ],
          [
           "destiny2",
           "eirx2y"
          ],
          [
           "destiny2",
           "eirxay"
          ],
          [
           "destiny2",
           "eirxio"
          ],
          [
           "destiny2",
           "eis274"
          ],
          [
           "destiny2",
           "eis6vb"
          ],
          [
           "destiny2",
           "eisisf"
          ],
          [
           "destiny2",
           "eiskn3"
          ],
          [
           "destiny2",
           "eisou0"
          ],
          [
           "destiny2",
           "eistpj"
          ],
          [
           "destiny2",
           "eisubn"
          ],
          [
           "destiny2",
           "eisxl7"
          ],
          [
           "destiny2",
           "eisxv4"
          ],
          [
           "destiny2",
           "eit0vz"
          ],
          [
           "destiny2",
           "eit3cz"
          ],
          [
           "destiny2",
           "eit42n"
          ],
          [
           "destiny2",
           "eitrv3"
          ],
          [
           "destiny2",
           "eitth1"
          ],
          [
           "destiny2",
           "eitvr0"
          ],
          [
           "destiny2",
           "eitymv"
          ],
          [
           "destiny2",
           "eiu66d"
          ],
          [
           "destiny2",
           "eiug2s"
          ],
          [
           "destiny2",
           "eiuhav"
          ],
          [
           "destiny2",
           "eiuqjt"
          ],
          [
           "destiny2",
           "eiuuob"
          ],
          [
           "destiny2",
           "eiuvmj"
          ],
          [
           "destiny2",
           "eiv7ou"
          ],
          [
           "destiny2",
           "eiv8vg"
          ],
          [
           "destiny2",
           "eivdhb"
          ],
          [
           "destiny2",
           "eivntd"
          ],
          [
           "destiny2",
           "eivq8n"
          ],
          [
           "destiny2",
           "eivrhg"
          ],
          [
           "destiny2",
           "eiw0ff"
          ],
          [
           "destiny2",
           "eiw0h2"
          ],
          [
           "destiny2",
           "eiw1ff"
          ],
          [
           "destiny2",
           "eiw3u2"
          ],
          [
           "destiny2",
           "eiw46v"
          ],
          [
           "destiny2",
           "eiwh9g"
          ],
          [
           "destiny2",
           "eiwmei"
          ],
          [
           "destiny2",
           "eiwtbr"
          ],
          [
           "destiny2",
           "eiwu8u"
          ],
          [
           "destiny2",
           "eiwv9j"
          ],
          [
           "destiny2",
           "eiwypp"
          ],
          [
           "destiny2",
           "eix3sk"
          ],
          [
           "destiny2",
           "eixdfq"
          ],
          [
           "destiny2",
           "eixmjm"
          ],
          [
           "destiny2",
           "eixnr9"
          ],
          [
           "destiny2",
           "eixpr4"
          ],
          [
           "destiny2",
           "eixxy9"
          ],
          [
           "destiny2",
           "eiy03r"
          ],
          [
           "destiny2",
           "eiy8ol"
          ],
          [
           "destiny2",
           "eiy9px"
          ],
          [
           "destiny2",
           "eiycs4"
          ],
          [
           "destiny2",
           "eiyepl"
          ],
          [
           "destiny2",
           "eiyjez"
          ],
          [
           "destiny2",
           "eiyodb"
          ],
          [
           "destiny2",
           "eiyonv"
          ],
          [
           "destiny2",
           "eiyprz"
          ],
          [
           "destiny2",
           "eiyqg0"
          ],
          [
           "destiny2",
           "eiz2iy"
          ],
          [
           "destiny2",
           "eiz3d1"
          ],
          [
           "destiny2",
           "eiz3r5"
          ],
          [
           "destiny2",
           "eizcig"
          ],
          [
           "destiny2",
           "eizi5n"
          ],
          [
           "destiny2",
           "eizlnw"
          ],
          [
           "destiny2",
           "eizo5s"
          ],
          [
           "destiny2",
           "eizon1"
          ],
          [
           "destiny2",
           "eizqj9"
          ],
          [
           "destiny2",
           "eizuv0"
          ],
          [
           "destiny2",
           "eizyni"
          ],
          [
           "destiny2",
           "ej00oe"
          ],
          [
           "destiny2",
           "ej09h4"
          ],
          [
           "destiny2",
           "ej0c75"
          ],
          [
           "destiny2",
           "ej0eq4"
          ],
          [
           "destiny2",
           "ej0jpt"
          ],
          [
           "destiny2",
           "ej0p9s"
          ],
          [
           "destiny2",
           "ej0zkq"
          ],
          [
           "destiny2",
           "ej0zls"
          ],
          [
           "destiny2",
           "ej130u"
          ],
          [
           "destiny2",
           "ej133k"
          ],
          [
           "destiny2",
           "ej15bs"
          ],
          [
           "destiny2",
           "ej162i"
          ],
          [
           "destiny2",
           "ej1ag4"
          ],
          [
           "destiny2",
           "ej1c5w"
          ],
          [
           "destiny2",
           "ej1hll"
          ],
          [
           "destiny2",
           "ej1imn"
          ]
         ],
         "hoverlabel": {
          "namelength": 0
         },
         "hovertemplate": "subreddit=%{customdata[0]}<br>Date Posted=%{x}<br>Post Polarity=%{y}<br>id=%{customdata[1]}",
         "legendgroup": "subreddit=destiny2",
         "marker": {
          "color": "green",
          "symbol": "circle"
         },
         "mode": "markers",
         "name": "subreddit=destiny2",
         "showlegend": true,
         "type": "scatter",
         "x": [
          "2020-01-02T01:04:10",
          "2020-01-02T01:04:18",
          "2020-01-02T01:10:04",
          "2020-01-02T01:24:43",
          "2020-01-02T01:27:53",
          "2020-01-02T01:27:59",
          "2020-01-02T01:32:58",
          "2020-01-02T01:33:05",
          "2020-01-02T01:38:01",
          "2020-01-02T01:44:04",
          "2020-01-02T01:45:57",
          "2020-01-02T02:03:32",
          "2020-01-02T02:06:40",
          "2020-01-02T02:22:33",
          "2020-01-02T02:27:34",
          "2020-01-02T02:27:48",
          "2020-01-02T02:32:54",
          "2020-01-02T02:33:25",
          "2020-01-02T02:33:54",
          "2020-01-02T02:44:23",
          "2020-01-02T02:54:53",
          "2020-01-02T03:22:26",
          "2020-01-02T03:26:40",
          "2020-01-02T03:36:31",
          "2020-01-02T03:47:39",
          "2020-01-02T03:49:07",
          "2020-01-02T03:56:43",
          "2020-01-02T03:57:24",
          "2020-01-02T04:04:50",
          "2020-01-02T04:10:53",
          "2020-01-02T04:12:41",
          "2020-01-02T05:11:44",
          "2020-01-02T05:15:45",
          "2020-01-02T05:21:33",
          "2020-01-02T05:28:49",
          "2020-01-02T05:48:23",
          "2020-01-02T06:14:40",
          "2020-01-02T06:18:04",
          "2020-01-02T06:44:11",
          "2020-01-02T06:56:27",
          "2020-01-02T06:59:15",
          "2020-01-02T07:36:00",
          "2020-01-02T07:39:46",
          "2020-01-02T07:54:56",
          "2020-01-02T08:29:31",
          "2020-01-02T08:38:15",
          "2020-01-02T08:42:41",
          "2020-01-02T09:13:48",
          "2020-01-02T09:14:00",
          "2020-01-02T09:17:11",
          "2020-01-02T09:25:20",
          "2020-01-02T09:26:32",
          "2020-01-02T10:10:53",
          "2020-01-02T10:28:35",
          "2020-01-02T10:52:11",
          "2020-01-02T10:55:23",
          "2020-01-02T10:58:53",
          "2020-01-02T11:10:08",
          "2020-01-02T11:26:30",
          "2020-01-02T11:57:53",
          "2020-01-02T12:26:04",
          "2020-01-02T12:29:47",
          "2020-01-02T12:35:56",
          "2020-01-02T12:59:41",
          "2020-01-02T13:05:36",
          "2020-01-02T13:29:21",
          "2020-01-02T13:32:12",
          "2020-01-02T13:40:29",
          "2020-01-02T13:45:34",
          "2020-01-02T13:58:07",
          "2020-01-02T14:10:40",
          "2020-01-02T14:11:25",
          "2020-01-02T14:14:14",
          "2020-01-02T14:15:45",
          "2020-01-02T14:45:47",
          "2020-01-02T14:47:42",
          "2020-01-02T14:48:38",
          "2020-01-02T15:08:46",
          "2020-01-02T15:21:22",
          "2020-01-02T15:29:13",
          "2020-01-02T15:34:44",
          "2020-01-02T15:35:49",
          "2020-01-02T15:39:52",
          "2020-01-02T15:49:14",
          "2020-01-02T15:57:39",
          "2020-01-02T16:01:54",
          "2020-01-02T16:20:55",
          "2020-01-02T16:26:24",
          "2020-01-02T16:31:54",
          "2020-01-02T16:42:22",
          "2020-01-02T16:53:57",
          "2020-01-02T17:14:25",
          "2020-01-02T17:14:28",
          "2020-01-02T17:21:20",
          "2020-01-02T17:21:30",
          "2020-01-02T17:26:00",
          "2020-01-02T17:27:25",
          "2020-01-02T17:36:19",
          "2020-01-02T17:39:42",
          "2020-01-02T17:50:33",
          "2020-01-02T17:52:34"
         ],
         "xaxis": "x2",
         "y": [
          -0.103125,
          -0.13366946778711486,
          -0.005555555555555564,
          0.25,
          0.125,
          0.12962962962962962,
          -0.025,
          0,
          0,
          0.45,
          0.3833333333333333,
          0.3,
          -0.13333333333333333,
          0.2333333333333333,
          0.15,
          0.10865384615384616,
          0.35,
          0,
          0.08095238095238094,
          0.02285714285714286,
          0.07564157196969695,
          -0.07638888888888891,
          0.18,
          0.25256410256410255,
          0.16,
          0.018750000000000003,
          0.032575757575757584,
          0.3375,
          0,
          0.33409090909090905,
          0.2261904761904762,
          0.07992424242424243,
          -0.2263888888888889,
          -0.04166666666666668,
          0,
          0.2756060606060606,
          0.05,
          1,
          -0.4857142857142857,
          0.5,
          -0.51875,
          0.16666666666666669,
          -0.08095238095238096,
          -0.2760714285714286,
          0.2916666666666667,
          0.36,
          0.1,
          -0.003869047619047619,
          -0.3500000000000001,
          -0.005218855218855216,
          0.08833333333333333,
          -0.047619047619047616,
          -0.06590909090909092,
          0.4958333333333333,
          -0.2,
          0.137361485474693,
          0.15,
          0,
          -0.3125,
          0.1,
          0,
          -0.25,
          0.06079545454545454,
          0.36250000000000004,
          -0.4,
          0.06666666666666668,
          0.0236111111111111,
          0,
          0,
          -0.027884615384615386,
          0.1,
          0.13636363636363635,
          0.06468253968253967,
          0.07004662004662005,
          -0.3,
          0.13541666666666666,
          -0.026704545454545446,
          0.025000000000000005,
          -0.2520833333333333,
          -0.09999999999999999,
          -0.1413265306122449,
          0.3143518518518519,
          0.3888888888888889,
          0.5,
          0.3361904761904762,
          0.06363636363636363,
          0.125,
          -0.05714285714285716,
          -0.03148148148148148,
          0.0006493506493506456,
          0.675,
          0.2791666666666667,
          0.40909090909090906,
          0.06818181818181818,
          0.11806239737274218,
          0.24930555555555553,
          0.09307359307359309,
          0.17500000000000002,
          0.0992063492063492,
          -0.01979166666666667,
          0.10024812585788197
         ],
         "yaxis": "y2"
        },
        {
         "alignmentgroup": "True",
         "bingroup": "x",
         "hoverlabel": {
          "namelength": 0
         },
         "hovertemplate": "subreddit=destiny2<br>Date Posted=%{x}<br>count=%{y}",
         "legendgroup": "subreddit=destiny2",
         "marker": {
          "color": "green"
         },
         "name": "subreddit=destiny2",
         "offsetgroup": "subreddit=destiny2",
         "opacity": 0.5,
         "showlegend": false,
         "type": "histogram",
         "x": [
          "2020-01-02T01:04:10",
          "2020-01-02T01:04:18",
          "2020-01-02T01:10:04",
          "2020-01-02T01:24:43",
          "2020-01-02T01:27:53",
          "2020-01-02T01:27:59",
          "2020-01-02T01:32:58",
          "2020-01-02T01:33:05",
          "2020-01-02T01:38:01",
          "2020-01-02T01:44:04",
          "2020-01-02T01:45:57",
          "2020-01-02T02:03:32",
          "2020-01-02T02:06:40",
          "2020-01-02T02:22:33",
          "2020-01-02T02:27:34",
          "2020-01-02T02:27:48",
          "2020-01-02T02:32:54",
          "2020-01-02T02:33:25",
          "2020-01-02T02:33:54",
          "2020-01-02T02:44:23",
          "2020-01-02T02:54:53",
          "2020-01-02T03:22:26",
          "2020-01-02T03:26:40",
          "2020-01-02T03:36:31",
          "2020-01-02T03:47:39",
          "2020-01-02T03:49:07",
          "2020-01-02T03:56:43",
          "2020-01-02T03:57:24",
          "2020-01-02T04:04:50",
          "2020-01-02T04:10:53",
          "2020-01-02T04:12:41",
          "2020-01-02T05:11:44",
          "2020-01-02T05:15:45",
          "2020-01-02T05:21:33",
          "2020-01-02T05:28:49",
          "2020-01-02T05:48:23",
          "2020-01-02T06:14:40",
          "2020-01-02T06:18:04",
          "2020-01-02T06:44:11",
          "2020-01-02T06:56:27",
          "2020-01-02T06:59:15",
          "2020-01-02T07:36:00",
          "2020-01-02T07:39:46",
          "2020-01-02T07:54:56",
          "2020-01-02T08:29:31",
          "2020-01-02T08:38:15",
          "2020-01-02T08:42:41",
          "2020-01-02T09:13:48",
          "2020-01-02T09:14:00",
          "2020-01-02T09:17:11",
          "2020-01-02T09:25:20",
          "2020-01-02T09:26:32",
          "2020-01-02T10:10:53",
          "2020-01-02T10:28:35",
          "2020-01-02T10:52:11",
          "2020-01-02T10:55:23",
          "2020-01-02T10:58:53",
          "2020-01-02T11:10:08",
          "2020-01-02T11:26:30",
          "2020-01-02T11:57:53",
          "2020-01-02T12:26:04",
          "2020-01-02T12:29:47",
          "2020-01-02T12:35:56",
          "2020-01-02T12:59:41",
          "2020-01-02T13:05:36",
          "2020-01-02T13:29:21",
          "2020-01-02T13:32:12",
          "2020-01-02T13:40:29",
          "2020-01-02T13:45:34",
          "2020-01-02T13:58:07",
          "2020-01-02T14:10:40",
          "2020-01-02T14:11:25",
          "2020-01-02T14:14:14",
          "2020-01-02T14:15:45",
          "2020-01-02T14:45:47",
          "2020-01-02T14:47:42",
          "2020-01-02T14:48:38",
          "2020-01-02T15:08:46",
          "2020-01-02T15:21:22",
          "2020-01-02T15:29:13",
          "2020-01-02T15:34:44",
          "2020-01-02T15:35:49",
          "2020-01-02T15:39:52",
          "2020-01-02T15:49:14",
          "2020-01-02T15:57:39",
          "2020-01-02T16:01:54",
          "2020-01-02T16:20:55",
          "2020-01-02T16:26:24",
          "2020-01-02T16:31:54",
          "2020-01-02T16:42:22",
          "2020-01-02T16:53:57",
          "2020-01-02T17:14:25",
          "2020-01-02T17:14:28",
          "2020-01-02T17:21:20",
          "2020-01-02T17:21:30",
          "2020-01-02T17:26:00",
          "2020-01-02T17:27:25",
          "2020-01-02T17:36:19",
          "2020-01-02T17:39:42",
          "2020-01-02T17:50:33",
          "2020-01-02T17:52:34"
         ],
         "xaxis": "x4",
         "yaxis": "y4"
        }
       ],
       "layout": {
        "annotations": [
         {
          "font": {},
          "showarrow": false,
          "text": "subreddit=destinythegame",
          "x": 0.245,
          "xanchor": "center",
          "xref": "paper",
          "y": 1,
          "yanchor": "bottom",
          "yref": "paper"
         },
         {
          "font": {},
          "showarrow": false,
          "text": "subreddit=destiny2",
          "x": 0.755,
          "xanchor": "center",
          "xref": "paper",
          "y": 1,
          "yanchor": "bottom",
          "yref": "paper"
         }
        ],
        "barmode": "overlay",
        "legend": {
         "tracegroupgap": 0
        },
        "template": {
         "data": {
          "bar": [
           {
            "error_x": {
             "color": "#2a3f5f"
            },
            "error_y": {
             "color": "#2a3f5f"
            },
            "marker": {
             "line": {
              "color": "#E5ECF6",
              "width": 0.5
             }
            },
            "type": "bar"
           }
          ],
          "barpolar": [
           {
            "marker": {
             "line": {
              "color": "#E5ECF6",
              "width": 0.5
             }
            },
            "type": "barpolar"
           }
          ],
          "carpet": [
           {
            "aaxis": {
             "endlinecolor": "#2a3f5f",
             "gridcolor": "white",
             "linecolor": "white",
             "minorgridcolor": "white",
             "startlinecolor": "#2a3f5f"
            },
            "baxis": {
             "endlinecolor": "#2a3f5f",
             "gridcolor": "white",
             "linecolor": "white",
             "minorgridcolor": "white",
             "startlinecolor": "#2a3f5f"
            },
            "type": "carpet"
           }
          ],
          "choropleth": [
           {
            "colorbar": {
             "outlinewidth": 0,
             "ticks": ""
            },
            "type": "choropleth"
           }
          ],
          "contour": [
           {
            "colorbar": {
             "outlinewidth": 0,
             "ticks": ""
            },
            "colorscale": [
             [
              0,
              "#0d0887"
             ],
             [
              0.1111111111111111,
              "#46039f"
             ],
             [
              0.2222222222222222,
              "#7201a8"
             ],
             [
              0.3333333333333333,
              "#9c179e"
             ],
             [
              0.4444444444444444,
              "#bd3786"
             ],
             [
              0.5555555555555556,
              "#d8576b"
             ],
             [
              0.6666666666666666,
              "#ed7953"
             ],
             [
              0.7777777777777778,
              "#fb9f3a"
             ],
             [
              0.8888888888888888,
              "#fdca26"
             ],
             [
              1,
              "#f0f921"
             ]
            ],
            "type": "contour"
           }
          ],
          "contourcarpet": [
           {
            "colorbar": {
             "outlinewidth": 0,
             "ticks": ""
            },
            "type": "contourcarpet"
           }
          ],
          "heatmap": [
           {
            "colorbar": {
             "outlinewidth": 0,
             "ticks": ""
            },
            "colorscale": [
             [
              0,
              "#0d0887"
             ],
             [
              0.1111111111111111,
              "#46039f"
             ],
             [
              0.2222222222222222,
              "#7201a8"
             ],
             [
              0.3333333333333333,
              "#9c179e"
             ],
             [
              0.4444444444444444,
              "#bd3786"
             ],
             [
              0.5555555555555556,
              "#d8576b"
             ],
             [
              0.6666666666666666,
              "#ed7953"
             ],
             [
              0.7777777777777778,
              "#fb9f3a"
             ],
             [
              0.8888888888888888,
              "#fdca26"
             ],
             [
              1,
              "#f0f921"
             ]
            ],
            "type": "heatmap"
           }
          ],
          "heatmapgl": [
           {
            "colorbar": {
             "outlinewidth": 0,
             "ticks": ""
            },
            "colorscale": [
             [
              0,
              "#0d0887"
             ],
             [
              0.1111111111111111,
              "#46039f"
             ],
             [
              0.2222222222222222,
              "#7201a8"
             ],
             [
              0.3333333333333333,
              "#9c179e"
             ],
             [
              0.4444444444444444,
              "#bd3786"
             ],
             [
              0.5555555555555556,
              "#d8576b"
             ],
             [
              0.6666666666666666,
              "#ed7953"
             ],
             [
              0.7777777777777778,
              "#fb9f3a"
             ],
             [
              0.8888888888888888,
              "#fdca26"
             ],
             [
              1,
              "#f0f921"
             ]
            ],
            "type": "heatmapgl"
           }
          ],
          "histogram": [
           {
            "marker": {
             "colorbar": {
              "outlinewidth": 0,
              "ticks": ""
             }
            },
            "type": "histogram"
           }
          ],
          "histogram2d": [
           {
            "colorbar": {
             "outlinewidth": 0,
             "ticks": ""
            },
            "colorscale": [
             [
              0,
              "#0d0887"
             ],
             [
              0.1111111111111111,
              "#46039f"
             ],
             [
              0.2222222222222222,
              "#7201a8"
             ],
             [
              0.3333333333333333,
              "#9c179e"
             ],
             [
              0.4444444444444444,
              "#bd3786"
             ],
             [
              0.5555555555555556,
              "#d8576b"
             ],
             [
              0.6666666666666666,
              "#ed7953"
             ],
             [
              0.7777777777777778,
              "#fb9f3a"
             ],
             [
              0.8888888888888888,
              "#fdca26"
             ],
             [
              1,
              "#f0f921"
             ]
            ],
            "type": "histogram2d"
           }
          ],
          "histogram2dcontour": [
           {
            "colorbar": {
             "outlinewidth": 0,
             "ticks": ""
            },
            "colorscale": [
             [
              0,
              "#0d0887"
             ],
             [
              0.1111111111111111,
              "#46039f"
             ],
             [
              0.2222222222222222,
              "#7201a8"
             ],
             [
              0.3333333333333333,
              "#9c179e"
             ],
             [
              0.4444444444444444,
              "#bd3786"
             ],
             [
              0.5555555555555556,
              "#d8576b"
             ],
             [
              0.6666666666666666,
              "#ed7953"
             ],
             [
              0.7777777777777778,
              "#fb9f3a"
             ],
             [
              0.8888888888888888,
              "#fdca26"
             ],
             [
              1,
              "#f0f921"
             ]
            ],
            "type": "histogram2dcontour"
           }
          ],
          "mesh3d": [
           {
            "colorbar": {
             "outlinewidth": 0,
             "ticks": ""
            },
            "type": "mesh3d"
           }
          ],
          "parcoords": [
           {
            "line": {
             "colorbar": {
              "outlinewidth": 0,
              "ticks": ""
             }
            },
            "type": "parcoords"
           }
          ],
          "pie": [
           {
            "automargin": true,
            "type": "pie"
           }
          ],
          "scatter": [
           {
            "marker": {
             "colorbar": {
              "outlinewidth": 0,
              "ticks": ""
             }
            },
            "type": "scatter"
           }
          ],
          "scatter3d": [
           {
            "line": {
             "colorbar": {
              "outlinewidth": 0,
              "ticks": ""
             }
            },
            "marker": {
             "colorbar": {
              "outlinewidth": 0,
              "ticks": ""
             }
            },
            "type": "scatter3d"
           }
          ],
          "scattercarpet": [
           {
            "marker": {
             "colorbar": {
              "outlinewidth": 0,
              "ticks": ""
             }
            },
            "type": "scattercarpet"
           }
          ],
          "scattergeo": [
           {
            "marker": {
             "colorbar": {
              "outlinewidth": 0,
              "ticks": ""
             }
            },
            "type": "scattergeo"
           }
          ],
          "scattergl": [
           {
            "marker": {
             "colorbar": {
              "outlinewidth": 0,
              "ticks": ""
             }
            },
            "type": "scattergl"
           }
          ],
          "scattermapbox": [
           {
            "marker": {
             "colorbar": {
              "outlinewidth": 0,
              "ticks": ""
             }
            },
            "type": "scattermapbox"
           }
          ],
          "scatterpolar": [
           {
            "marker": {
             "colorbar": {
              "outlinewidth": 0,
              "ticks": ""
             }
            },
            "type": "scatterpolar"
           }
          ],
          "scatterpolargl": [
           {
            "marker": {
             "colorbar": {
              "outlinewidth": 0,
              "ticks": ""
             }
            },
            "type": "scatterpolargl"
           }
          ],
          "scatterternary": [
           {
            "marker": {
             "colorbar": {
              "outlinewidth": 0,
              "ticks": ""
             }
            },
            "type": "scatterternary"
           }
          ],
          "surface": [
           {
            "colorbar": {
             "outlinewidth": 0,
             "ticks": ""
            },
            "colorscale": [
             [
              0,
              "#0d0887"
             ],
             [
              0.1111111111111111,
              "#46039f"
             ],
             [
              0.2222222222222222,
              "#7201a8"
             ],
             [
              0.3333333333333333,
              "#9c179e"
             ],
             [
              0.4444444444444444,
              "#bd3786"
             ],
             [
              0.5555555555555556,
              "#d8576b"
             ],
             [
              0.6666666666666666,
              "#ed7953"
             ],
             [
              0.7777777777777778,
              "#fb9f3a"
             ],
             [
              0.8888888888888888,
              "#fdca26"
             ],
             [
              1,
              "#f0f921"
             ]
            ],
            "type": "surface"
           }
          ],
          "table": [
           {
            "cells": {
             "fill": {
              "color": "#EBF0F8"
             },
             "line": {
              "color": "white"
             }
            },
            "header": {
             "fill": {
              "color": "#C8D4E3"
             },
             "line": {
              "color": "white"
             }
            },
            "type": "table"
           }
          ]
         },
         "layout": {
          "annotationdefaults": {
           "arrowcolor": "#2a3f5f",
           "arrowhead": 0,
           "arrowwidth": 1
          },
          "coloraxis": {
           "colorbar": {
            "outlinewidth": 0,
            "ticks": ""
           }
          },
          "colorscale": {
           "diverging": [
            [
             0,
             "#8e0152"
            ],
            [
             0.1,
             "#c51b7d"
            ],
            [
             0.2,
             "#de77ae"
            ],
            [
             0.3,
             "#f1b6da"
            ],
            [
             0.4,
             "#fde0ef"
            ],
            [
             0.5,
             "#f7f7f7"
            ],
            [
             0.6,
             "#e6f5d0"
            ],
            [
             0.7,
             "#b8e186"
            ],
            [
             0.8,
             "#7fbc41"
            ],
            [
             0.9,
             "#4d9221"
            ],
            [
             1,
             "#276419"
            ]
           ],
           "sequential": [
            [
             0,
             "#0d0887"
            ],
            [
             0.1111111111111111,
             "#46039f"
            ],
            [
             0.2222222222222222,
             "#7201a8"
            ],
            [
             0.3333333333333333,
             "#9c179e"
            ],
            [
             0.4444444444444444,
             "#bd3786"
            ],
            [
             0.5555555555555556,
             "#d8576b"
            ],
            [
             0.6666666666666666,
             "#ed7953"
            ],
            [
             0.7777777777777778,
             "#fb9f3a"
            ],
            [
             0.8888888888888888,
             "#fdca26"
            ],
            [
             1,
             "#f0f921"
            ]
           ],
           "sequentialminus": [
            [
             0,
             "#0d0887"
            ],
            [
             0.1111111111111111,
             "#46039f"
            ],
            [
             0.2222222222222222,
             "#7201a8"
            ],
            [
             0.3333333333333333,
             "#9c179e"
            ],
            [
             0.4444444444444444,
             "#bd3786"
            ],
            [
             0.5555555555555556,
             "#d8576b"
            ],
            [
             0.6666666666666666,
             "#ed7953"
            ],
            [
             0.7777777777777778,
             "#fb9f3a"
            ],
            [
             0.8888888888888888,
             "#fdca26"
            ],
            [
             1,
             "#f0f921"
            ]
           ]
          },
          "colorway": [
           "#636efa",
           "#EF553B",
           "#00cc96",
           "#ab63fa",
           "#FFA15A",
           "#19d3f3",
           "#FF6692",
           "#B6E880",
           "#FF97FF",
           "#FECB52"
          ],
          "font": {
           "color": "#2a3f5f"
          },
          "geo": {
           "bgcolor": "white",
           "lakecolor": "white",
           "landcolor": "#E5ECF6",
           "showlakes": true,
           "showland": true,
           "subunitcolor": "white"
          },
          "hoverlabel": {
           "align": "left"
          },
          "hovermode": "closest",
          "mapbox": {
           "style": "light"
          },
          "paper_bgcolor": "white",
          "plot_bgcolor": "#E5ECF6",
          "polar": {
           "angularaxis": {
            "gridcolor": "white",
            "linecolor": "white",
            "ticks": ""
           },
           "bgcolor": "#E5ECF6",
           "radialaxis": {
            "gridcolor": "white",
            "linecolor": "white",
            "ticks": ""
           }
          },
          "scene": {
           "xaxis": {
            "backgroundcolor": "#E5ECF6",
            "gridcolor": "white",
            "gridwidth": 2,
            "linecolor": "white",
            "showbackground": true,
            "ticks": "",
            "zerolinecolor": "white"
           },
           "yaxis": {
            "backgroundcolor": "#E5ECF6",
            "gridcolor": "white",
            "gridwidth": 2,
            "linecolor": "white",
            "showbackground": true,
            "ticks": "",
            "zerolinecolor": "white"
           },
           "zaxis": {
            "backgroundcolor": "#E5ECF6",
            "gridcolor": "white",
            "gridwidth": 2,
            "linecolor": "white",
            "showbackground": true,
            "ticks": "",
            "zerolinecolor": "white"
           }
          },
          "shapedefaults": {
           "line": {
            "color": "#2a3f5f"
           }
          },
          "ternary": {
           "aaxis": {
            "gridcolor": "white",
            "linecolor": "white",
            "ticks": ""
           },
           "baxis": {
            "gridcolor": "white",
            "linecolor": "white",
            "ticks": ""
           },
           "bgcolor": "#E5ECF6",
           "caxis": {
            "gridcolor": "white",
            "linecolor": "white",
            "ticks": ""
           }
          },
          "title": {
           "x": 0.05
          },
          "xaxis": {
           "automargin": true,
           "gridcolor": "white",
           "linecolor": "white",
           "ticks": "",
           "title": {
            "standoff": 15
           },
           "zerolinecolor": "white",
           "zerolinewidth": 2
          },
          "yaxis": {
           "automargin": true,
           "gridcolor": "white",
           "linecolor": "white",
           "ticks": "",
           "title": {
            "standoff": 15
           },
           "zerolinecolor": "white",
           "zerolinewidth": 2
          }
         }
        },
        "title": {
         "text": "r/destinythegame vs r/destiny2 posts from previous 24 hours"
        },
        "xaxis": {
         "anchor": "y",
         "domain": [
          0,
          0.49
         ],
         "title": {
          "text": "Date Posted"
         }
        },
        "xaxis2": {
         "anchor": "y2",
         "domain": [
          0.51,
          1
         ],
         "matches": "x",
         "title": {
          "text": "Date Posted"
         }
        },
        "xaxis3": {
         "anchor": "y3",
         "domain": [
          0,
          0.49
         ],
         "matches": "x",
         "showgrid": true,
         "showticklabels": false
        },
        "xaxis4": {
         "anchor": "y4",
         "domain": [
          0.51,
          1
         ],
         "matches": "x",
         "showgrid": true,
         "showticklabels": false
        },
        "yaxis": {
         "anchor": "x",
         "domain": [
          0,
          0.7326
         ],
         "title": {
          "text": "Post Polarity"
         }
        },
        "yaxis2": {
         "anchor": "x2",
         "domain": [
          0,
          0.7326
         ],
         "matches": "y",
         "showticklabels": false
        },
        "yaxis3": {
         "anchor": "x3",
         "domain": [
          0.7426,
          1
         ],
         "matches": "y3",
         "showgrid": true,
         "showline": false,
         "showticklabels": false,
         "ticks": ""
        },
        "yaxis4": {
         "anchor": "x4",
         "domain": [
          0.7426,
          1
         ],
         "matches": "y3",
         "showgrid": true,
         "showline": false,
         "showticklabels": false,
         "ticks": ""
        }
       }
      },
      "text/html": [
       "<div>\n",
       "        \n",
       "        \n",
       "            <div id=\"d26f621e-2d68-4d23-8340-0cf634d3d520\" class=\"plotly-graph-div\" style=\"height:525px; width:100%;\"></div>\n",
       "            <script type=\"text/javascript\">\n",
       "                require([\"plotly\"], function(Plotly) {\n",
       "                    window.PLOTLYENV=window.PLOTLYENV || {};\n",
       "                    \n",
       "                if (document.getElementById(\"d26f621e-2d68-4d23-8340-0cf634d3d520\")) {\n",
       "                    Plotly.newPlot(\n",
       "                        'd26f621e-2d68-4d23-8340-0cf634d3d520',\n",
       "                        [{\"customdata\": [[\"destinythegame\", \"eiqpqk\"], [\"destinythegame\", \"eiqq6i\"], [\"destinythegame\", \"eiqqok\"], [\"destinythegame\", \"eiqqz3\"], [\"destinythegame\", \"eiqrzr\"], [\"destinythegame\", \"eiqwci\"], [\"destinythegame\", \"eiqy1w\"], [\"destinythegame\", \"eiqy5n\"], [\"destinythegame\", \"eir1ex\"], [\"destinythegame\", \"eir26s\"], [\"destinythegame\", \"eir2ce\"], [\"destinythegame\", \"eir2lb\"], [\"destinythegame\", \"eir2pv\"], [\"destinythegame\", \"eir6iu\"], [\"destinythegame\", \"eir7f8\"], [\"destinythegame\", \"eir8xw\"], [\"destinythegame\", \"eirag9\"], [\"destinythegame\", \"eirc93\"], [\"destinythegame\", \"eircue\"], [\"destinythegame\", \"eirdy5\"], [\"destinythegame\", \"eirfab\"], [\"destinythegame\", \"eirgi0\"], [\"destinythegame\", \"eirh0f\"], [\"destinythegame\", \"eirhtw\"], [\"destinythegame\", \"eirk8h\"], [\"destinythegame\", \"eirlhc\"], [\"destinythegame\", \"eirmpt\"], [\"destinythegame\", \"eirp6h\"], [\"destinythegame\", \"eirr56\"], [\"destinythegame\", \"eirvg2\"], [\"destinythegame\", \"eiry04\"], [\"destinythegame\", \"eiry5a\"], [\"destinythegame\", \"eirz3c\"], [\"destinythegame\", \"eirzg2\"], [\"destinythegame\", \"eis0hu\"], [\"destinythegame\", \"eis4hw\"], [\"destinythegame\", \"eis5p5\"], [\"destinythegame\", \"eis601\"], [\"destinythegame\", \"eis90g\"], [\"destinythegame\", \"eisfob\"], [\"destinythegame\", \"eisg8w\"], [\"destinythegame\", \"eisgvf\"], [\"destinythegame\", \"eisi8f\"], [\"destinythegame\", \"eisiz9\"], [\"destinythegame\", \"eisoua\"], [\"destinythegame\", \"eisp00\"], [\"destinythegame\", \"eisq00\"], [\"destinythegame\", \"eisscl\"], [\"destinythegame\", \"eisvz1\"], [\"destinythegame\", \"eisw5h\"], [\"destinythegame\", \"eisxpb\"], [\"destinythegame\", \"eisy73\"], [\"destinythegame\", \"eisy9g\"], [\"destinythegame\", \"eisyh7\"], [\"destinythegame\", \"eit1cy\"], [\"destinythegame\", \"eit2kp\"], [\"destinythegame\", \"eit35t\"], [\"destinythegame\", \"eit36b\"], [\"destinythegame\", \"eit4wz\"], [\"destinythegame\", \"eit973\"], [\"destinythegame\", \"eit9a3\"], [\"destinythegame\", \"eit9vs\"], [\"destinythegame\", \"eitbe5\"], [\"destinythegame\", \"eitdl3\"], [\"destinythegame\", \"eitf2o\"], [\"destinythegame\", \"eithq1\"], [\"destinythegame\", \"eittgf\"], [\"destinythegame\", \"eituxe\"], [\"destinythegame\", \"eitv6s\"], [\"destinythegame\", \"eitvxy\"], [\"destinythegame\", \"eitxhf\"], [\"destinythegame\", \"eiu4wq\"], [\"destinythegame\", \"eiu6kl\"], [\"destinythegame\", \"eiuaof\"], [\"destinythegame\", \"eiug4v\"], [\"destinythegame\", \"eiulje\"], [\"destinythegame\", \"eiullx\"], [\"destinythegame\", \"eiulty\"], [\"destinythegame\", \"eiunaz\"], [\"destinythegame\", \"eiusdn\"], [\"destinythegame\", \"eiut5p\"], [\"destinythegame\", \"eiuvcx\"], [\"destinythegame\", \"eiuvmw\"], [\"destinythegame\", \"eiuwni\"], [\"destinythegame\", \"eiux7b\"], [\"destinythegame\", \"eiuyhz\"], [\"destinythegame\", \"eiuyva\"], [\"destinythegame\", \"eiv143\"], [\"destinythegame\", \"eiv19x\"], [\"destinythegame\", \"eiv1cm\"], [\"destinythegame\", \"eiv381\"], [\"destinythegame\", \"eiv3cf\"], [\"destinythegame\", \"eiv50y\"], [\"destinythegame\", \"eiv8a3\"], [\"destinythegame\", \"eiva58\"], [\"destinythegame\", \"eivbp0\"], [\"destinythegame\", \"eivjc8\"], [\"destinythegame\", \"eivjt9\"], [\"destinythegame\", \"eivn9a\"], [\"destinythegame\", \"eivnz3\"], [\"destinythegame\", \"eivotj\"], [\"destinythegame\", \"eivp1o\"], [\"destinythegame\", \"eivwp6\"], [\"destinythegame\", \"eiw6xb\"], [\"destinythegame\", \"eiw6xi\"], [\"destinythegame\", \"eiwje6\"], [\"destinythegame\", \"eiwon2\"], [\"destinythegame\", \"eiwow1\"], [\"destinythegame\", \"eiwp19\"], [\"destinythegame\", \"eiwwf0\"], [\"destinythegame\", \"eiwyc7\"], [\"destinythegame\", \"eiwyse\"], [\"destinythegame\", \"eiwzpr\"], [\"destinythegame\", \"eix2nb\"], [\"destinythegame\", \"eix5ck\"], [\"destinythegame\", \"eix5o5\"], [\"destinythegame\", \"eix7iu\"], [\"destinythegame\", \"eixby7\"], [\"destinythegame\", \"eixcq8\"], [\"destinythegame\", \"eixd5z\"], [\"destinythegame\", \"eixf1b\"], [\"destinythegame\", \"eixhw1\"], [\"destinythegame\", \"eixi79\"], [\"destinythegame\", \"eixjxi\"], [\"destinythegame\", \"eixnc7\"], [\"destinythegame\", \"eixneg\"], [\"destinythegame\", \"eixq6q\"], [\"destinythegame\", \"eixu3u\"], [\"destinythegame\", \"eixxor\"], [\"destinythegame\", \"eixy56\"], [\"destinythegame\", \"eixyig\"], [\"destinythegame\", \"eixyjy\"], [\"destinythegame\", \"eiy2dr\"], [\"destinythegame\", \"eiy2m0\"], [\"destinythegame\", \"eiy42q\"], [\"destinythegame\", \"eiy6cw\"], [\"destinythegame\", \"eiy94c\"], [\"destinythegame\", \"eiycxu\"], [\"destinythegame\", \"eiyg20\"], [\"destinythegame\", \"eiykcb\"], [\"destinythegame\", \"eiylmr\"], [\"destinythegame\", \"eiym41\"], [\"destinythegame\", \"eiymv6\"], [\"destinythegame\", \"eiyo2c\"], [\"destinythegame\", \"eiys8q\"], [\"destinythegame\", \"eiyszg\"], [\"destinythegame\", \"eiyux9\"], [\"destinythegame\", \"eiyvwg\"], [\"destinythegame\", \"eiywnp\"], [\"destinythegame\", \"eiyykd\"], [\"destinythegame\", \"eiz3wr\"], [\"destinythegame\", \"eiz82v\"], [\"destinythegame\", \"eiz8em\"], [\"destinythegame\", \"eiz9dc\"], [\"destinythegame\", \"eizbrt\"], [\"destinythegame\", \"eizdg4\"], [\"destinythegame\", \"eizdi6\"], [\"destinythegame\", \"eizeq8\"], [\"destinythegame\", \"eizf05\"], [\"destinythegame\", \"eizgk2\"], [\"destinythegame\", \"eizhmr\"], [\"destinythegame\", \"eizibj\"], [\"destinythegame\", \"eizikc\"], [\"destinythegame\", \"eizjy5\"], [\"destinythegame\", \"eizkwn\"], [\"destinythegame\", \"eizm6l\"], [\"destinythegame\", \"eizmia\"], [\"destinythegame\", \"eizmwu\"], [\"destinythegame\", \"eizn1c\"], [\"destinythegame\", \"eizqac\"], [\"destinythegame\", \"eizqnv\"], [\"destinythegame\", \"eiztp3\"], [\"destinythegame\", \"eizvwd\"], [\"destinythegame\", \"eizxf1\"], [\"destinythegame\", \"eizxig\"], [\"destinythegame\", \"eizy4e\"], [\"destinythegame\", \"eizz3u\"], [\"destinythegame\", \"ej0048\"], [\"destinythegame\", \"ej02n0\"], [\"destinythegame\", \"ej03h6\"], [\"destinythegame\", \"ej04sz\"], [\"destinythegame\", \"ej04z5\"], [\"destinythegame\", \"ej05n5\"], [\"destinythegame\", \"ej064d\"], [\"destinythegame\", \"ej0748\"], [\"destinythegame\", \"ej076d\"], [\"destinythegame\", \"ej07vt\"], [\"destinythegame\", \"ej0932\"], [\"destinythegame\", \"ej097i\"], [\"destinythegame\", \"ej09re\"], [\"destinythegame\", \"ej0c3q\"], [\"destinythegame\", \"ej0d91\"], [\"destinythegame\", \"ej0ff6\"], [\"destinythegame\", \"ej0fs1\"], [\"destinythegame\", \"ej0koj\"], [\"destinythegame\", \"ej0mnl\"], [\"destinythegame\", \"ej0ohk\"], [\"destinythegame\", \"ej0oub\"], [\"destinythegame\", \"ej0ovc\"], [\"destinythegame\", \"ej0quk\"], [\"destinythegame\", \"ej0tjy\"], [\"destinythegame\", \"ej0u8g\"], [\"destinythegame\", \"ej0uql\"], [\"destinythegame\", \"ej113o\"], [\"destinythegame\", \"ej137p\"], [\"destinythegame\", \"ej13u4\"], [\"destinythegame\", \"ej158d\"], [\"destinythegame\", \"ej16wb\"], [\"destinythegame\", \"ej174m\"], [\"destinythegame\", \"ej19sz\"], [\"destinythegame\", \"ej19t6\"], [\"destinythegame\", \"ej1c97\"], [\"destinythegame\", \"ej1cf2\"], [\"destinythegame\", \"ej1dbt\"], [\"destinythegame\", \"ej1j5z\"], [\"destinythegame\", \"ej1jbb\"]], \"hoverlabel\": {\"namelength\": 0}, \"hovertemplate\": \"subreddit=%{customdata[0]}<br>Date Posted=%{x}<br>Post Polarity=%{y}<br>id=%{customdata[1]}\", \"legendgroup\": \"subreddit=destinythegame\", \"marker\": {\"color\": \"blue\", \"symbol\": \"circle\"}, \"mode\": \"markers\", \"name\": \"subreddit=destinythegame\", \"showlegend\": true, \"type\": \"scatter\", \"x\": [\"2020-01-02T00:55:46\", \"2020-01-02T00:56:45\", \"2020-01-02T00:57:58\", \"2020-01-02T00:58:40\", \"2020-01-02T01:00:58\", \"2020-01-02T01:10:31\", \"2020-01-02T01:14:23\", \"2020-01-02T01:14:35\", \"2020-01-02T01:21:58\", \"2020-01-02T01:23:42\", \"2020-01-02T01:24:04\", \"2020-01-02T01:24:34\", \"2020-01-02T01:24:51\", \"2020-01-02T01:33:09\", \"2020-01-02T01:35:11\", \"2020-01-02T01:38:31\", \"2020-01-02T01:41:56\", \"2020-01-02T01:46:00\", \"2020-01-02T01:47:15\", \"2020-01-02T01:49:57\", \"2020-01-02T01:53:00\", \"2020-01-02T01:55:47\", \"2020-01-02T01:56:55\", \"2020-01-02T01:58:52\", \"2020-01-02T02:04:17\", \"2020-01-02T02:07:03\", \"2020-01-02T02:09:48\", \"2020-01-02T02:15:21\", \"2020-01-02T02:19:42\", \"2020-01-02T02:29:14\", \"2020-01-02T02:35:01\", \"2020-01-02T02:35:20\", \"2020-01-02T02:37:24\", \"2020-01-02T02:38:13\", \"2020-01-02T02:40:38\", \"2020-01-02T02:49:39\", \"2020-01-02T02:52:14\", \"2020-01-02T02:52:51\", \"2020-01-02T02:59:55\", \"2020-01-02T03:15:08\", \"2020-01-02T03:16:30\", \"2020-01-02T03:18:04\", \"2020-01-02T03:21:11\", \"2020-01-02T03:22:56\", \"2020-01-02T03:36:31\", \"2020-01-02T03:36:53\", \"2020-01-02T03:39:08\", \"2020-01-02T03:44:24\", \"2020-01-02T03:52:56\", \"2020-01-02T03:53:20\", \"2020-01-02T03:56:59\", \"2020-01-02T03:58:19\", \"2020-01-02T03:58:27\", \"2020-01-02T03:58:59\", \"2020-01-02T04:05:55\", \"2020-01-02T04:08:55\", \"2020-01-02T04:10:19\", \"2020-01-02T04:10:21\", \"2020-01-02T04:14:50\", \"2020-01-02T04:25:38\", \"2020-01-02T04:25:52\", \"2020-01-02T04:27:19\", \"2020-01-02T04:31:12\", \"2020-01-02T04:36:30\", \"2020-01-02T04:40:23\", \"2020-01-02T04:47:03\", \"2020-01-02T05:15:42\", \"2020-01-02T05:19:32\", \"2020-01-02T05:20:13\", \"2020-01-02T05:22:06\", \"2020-01-02T05:25:59\", \"2020-01-02T05:45:06\", \"2020-01-02T05:49:32\", \"2020-01-02T06:00:34\", \"2020-01-02T06:14:50\", \"2020-01-02T06:29:49\", \"2020-01-02T06:30:02\", \"2020-01-02T06:30:39\", \"2020-01-02T06:34:57\", \"2020-01-02T06:49:41\", \"2020-01-02T06:51:54\", \"2020-01-02T06:58:26\", \"2020-01-02T06:59:17\", \"2020-01-02T07:02:24\", \"2020-01-02T07:04:06\", \"2020-01-02T07:07:34\", \"2020-01-02T07:08:35\", \"2020-01-02T07:15:17\", \"2020-01-02T07:15:48\", \"2020-01-02T07:16:03\", \"2020-01-02T07:21:55\", \"2020-01-02T07:22:16\", \"2020-01-02T07:27:26\", \"2020-01-02T07:37:48\", \"2020-01-02T07:43:45\", \"2020-01-02T07:48:56\", \"2020-01-02T08:14:07\", \"2020-01-02T08:15:39\", \"2020-01-02T08:27:31\", \"2020-01-02T08:29:59\", \"2020-01-02T08:33:13\", \"2020-01-02T08:34:01\", \"2020-01-02T09:00:59\", \"2020-01-02T09:35:55\", \"2020-01-02T09:35:56\", \"2020-01-02T10:18:06\", \"2020-01-02T10:36:34\", \"2020-01-02T10:37:27\", \"2020-01-02T10:37:57\", \"2020-01-02T11:02:47\", \"2020-01-02T11:08:57\", \"2020-01-02T11:10:22\", \"2020-01-02T11:13:06\", \"2020-01-02T11:22:43\", \"2020-01-02T11:31:57\", \"2020-01-02T11:32:56\", \"2020-01-02T11:38:55\", \"2020-01-02T11:52:57\", \"2020-01-02T11:55:31\", \"2020-01-02T11:56:58\", \"2020-01-02T12:02:51\", \"2020-01-02T12:11:49\", \"2020-01-02T12:12:47\", \"2020-01-02T12:18:02\", \"2020-01-02T12:28:29\", \"2020-01-02T12:28:40\", \"2020-01-02T12:37:10\", \"2020-01-02T12:48:33\", \"2020-01-02T12:58:55\", \"2020-01-02T13:00:10\", \"2020-01-02T13:01:11\", \"2020-01-02T13:01:18\", \"2020-01-02T13:11:42\", \"2020-01-02T13:12:19\", \"2020-01-02T13:16:16\", \"2020-01-02T13:22:41\", \"2020-01-02T13:30:38\", \"2020-01-02T13:40:56\", \"2020-01-02T13:49:09\", \"2020-01-02T14:00:29\", \"2020-01-02T14:03:57\", \"2020-01-02T14:05:07\", \"2020-01-02T14:06:52\", \"2020-01-02T14:09:54\", \"2020-01-02T14:20:13\", \"2020-01-02T14:22:06\", \"2020-01-02T14:27:05\", \"2020-01-02T14:29:28\", \"2020-01-02T14:31:25\", \"2020-01-02T14:36:16\", \"2020-01-02T14:49:04\", \"2020-01-02T14:58:48\", \"2020-01-02T14:59:35\", \"2020-01-02T15:01:45\", \"2020-01-02T15:07:11\", \"2020-01-02T15:10:46\", \"2020-01-02T15:10:54\", \"2020-01-02T15:13:37\", \"2020-01-02T15:14:15\", \"2020-01-02T15:17:47\", \"2020-01-02T15:20:09\", \"2020-01-02T15:21:45\", \"2020-01-02T15:22:14\", \"2020-01-02T15:25:15\", \"2020-01-02T15:27:31\", \"2020-01-02T15:30:26\", \"2020-01-02T15:31:13\", \"2020-01-02T15:32:06\", \"2020-01-02T15:32:21\", \"2020-01-02T15:39:20\", \"2020-01-02T15:40:11\", \"2020-01-02T15:46:43\", \"2020-01-02T15:51:31\", \"2020-01-02T15:55:03\", \"2020-01-02T15:55:15\", \"2020-01-02T15:56:31\", \"2020-01-02T15:58:34\", \"2020-01-02T16:00:41\", \"2020-01-02T16:06:05\", \"2020-01-02T16:07:54\", \"2020-01-02T16:10:48\", \"2020-01-02T16:11:08\", \"2020-01-02T16:12:32\", \"2020-01-02T16:13:38\", \"2020-01-02T16:15:50\", \"2020-01-02T16:15:57\", \"2020-01-02T16:17:29\", \"2020-01-02T16:20:02\", \"2020-01-02T16:20:18\", \"2020-01-02T16:21:31\", \"2020-01-02T16:26:15\", \"2020-01-02T16:28:40\", \"2020-01-02T16:33:24\", \"2020-01-02T16:34:09\", \"2020-01-02T16:44:21\", \"2020-01-02T16:48:25\", \"2020-01-02T16:52:17\", \"2020-01-02T16:53:03\", \"2020-01-02T16:53:06\", \"2020-01-02T16:57:11\", \"2020-01-02T17:02:41\", \"2020-01-02T17:03:55\", \"2020-01-02T17:04:52\", \"2020-01-02T17:17:32\", \"2020-01-02T17:21:49\", \"2020-01-02T17:23:02\", \"2020-01-02T17:25:50\", \"2020-01-02T17:29:10\", \"2020-01-02T17:29:35\", \"2020-01-02T17:35:01\", \"2020-01-02T17:35:02\", \"2020-01-02T17:39:53\", \"2020-01-02T17:40:16\", \"2020-01-02T17:42:06\", \"2020-01-02T17:53:39\", \"2020-01-02T17:53:58\"], \"xaxis\": \"x\", \"y\": [0.185, 0.5, 0.5, -0.275, 0.13541666666666666, 0.2590909090909091, -0.08437499999999998, 0.39999999999999997, 0.33888888888888885, 0.16272058823529417, 0.0, 0.0, -0.325, 0.2722222222222222, 0.5399999999999999, 0.22999999999999998, 0.27916666666666673, 0.3, 0.0, -0.027281746031746015, 0.07053571428571428, -0.2111111111111111, 0.07904040404040405, 0.24163025210084035, 0.0, 0.0, -0.21666666666666667, -0.5578125, 0.20833333333333334, -0.17714285714285719, 0.17500000000000002, 0.08027210884353742, -0.22182539682539684, 0.02666666666666666, 0.14750000000000002, 0.31258503401360543, 0.14477272727272728, 0.032575757575757584, -0.5, 0.03571428571428571, 0.5, 0.052380952380952375, 0.01687147977470559, 0.07863636363636364, 0.2, 0.33166666666666667, 0.17289473684210527, 0.08727272727272727, -0.6041666666666665, 0.42857142857142855, -0.05, -0.10416666666666666, 0.5666666666666667, 0.0, -0.2, -0.08, 1.0, -0.10272727272727274, 0.0, 0.3002705627705628, 0.26666666666666666, 0.0, 0.1465909090909091, 0.04643442143442144, 0.13810575227241895, -0.2333333333333333, 0.4510416666666667, 0.07546296296296297, -0.0690340909090909, 0.125, 0.17065217391304346, 0.13650793650793652, 0.14188311688311692, 0.07272727272727275, 0.19166666666666665, 0.0, 0.023611111111111107, 0.0, -0.022857142857142864, 0.0, -0.033333333333333326, 0.4976190476190476, -0.1, 0.032499999999999994, 0.19772727272727272, 0.13333333333333333, 0.1, 0.375, -0.017647058823529432, 0.2, -0.14285714285714285, 0.06043956043956042, 0.19641666666666668, -0.13333333333333333, 0.0, 0.20610795454545455, 0.0, 0.2, -0.5, -0.004629629629629654, 0.05, -0.13888888888888892, 0.2183333333333333, 0.0, 0.1787878787878788, 0.0, 0.053636363636363635, 0.058191823899371, -0.1, 0.10584733893557423, 0.06818181818181818, -0.08503401360544217, 0.16666666666666666, 0.35, 0.23888888888888887, 0.23393939393939397, 0.2753968253968254, 0.033333333333333326, 0.10416666666666667, -0.2288818359375, -0.11085858585858585, -0.007177729677729678, 0.10601491101491102, -0.012678735406008135, 0.14999999999999997, 0.031746031746031744, -0.125, 0.08333333333333333, -0.03819444444444444, -0.047619047619047616, 0.3099897787397787, 0.22413911845730025, 0.3222222222222222, -0.45, -0.008048552754435117, 0.4442857142857143, 0.12088827838827841, 0.35, 0.034375, 0.3088392857142857, 0.12467532467532469, 1.0, 0.525, -0.02500000000000001, 0.13102272727272724, 0.21666666666666667, 0.0, 0.02857142857142862, -0.125, -0.07272727272727272, 0.14964646464646464, 0.031111111111111107, 0.0, 0.010714285714285713, -0.017916666666666664, 0.014285714285714275, 0.3125625676406926, 0.175, -0.25, 0.19845350052246602, 0.8, 0.45, 0.1926311433664375, 0.25, 0.16948051948051948, 0.20657553101756013, 0.42857142857142855, 0.1791666666666667, 0.20833333333333331, 0.0, 0.175, 0.509090909090909, 0.08502214839424141, 0.04707792207792208, -0.25, 0.05714285714285713, 0.06190476190476189, 0.1909090909090909, 0.17192982456140354, -0.024999999999999994, 0.1380094748019276, -0.023611111111111114, -0.16666666666666666, 0.12604166666666666, 0.2848484848484848, 0.0, 0.03571428571428571, 0.0523809523809524, 0.04907407407407407, 0.0028409090909090884, -0.2, 0.21103896103896103, -0.3833333333333333, -0.15625, -0.2, 0.13164335664335663, -0.16666666666666666, 0.06904761904761905, 0.7, -0.0375, 0.158512987012987, 0.04880952380952381, 0.14733445566778902, -0.02467532467532469, -0.1, 0.3666666666666667, 0.20097402597402594, 0.35714285714285715, 0.48, 0.15501984126984125, 0.011111111111111118, 0.20833333333333334, 0.1730434782608696, -0.28, 0.029166666666666657, -0.375], \"yaxis\": \"y\"}, {\"alignmentgroup\": \"True\", \"bingroup\": \"x\", \"hoverlabel\": {\"namelength\": 0}, \"hovertemplate\": \"subreddit=destinythegame<br>Date Posted=%{x}<br>count=%{y}\", \"legendgroup\": \"subreddit=destinythegame\", \"marker\": {\"color\": \"blue\"}, \"name\": \"subreddit=destinythegame\", \"offsetgroup\": \"subreddit=destinythegame\", \"opacity\": 0.5, \"showlegend\": false, \"type\": \"histogram\", \"x\": [\"2020-01-02T00:55:46\", \"2020-01-02T00:56:45\", \"2020-01-02T00:57:58\", \"2020-01-02T00:58:40\", \"2020-01-02T01:00:58\", \"2020-01-02T01:10:31\", \"2020-01-02T01:14:23\", \"2020-01-02T01:14:35\", \"2020-01-02T01:21:58\", \"2020-01-02T01:23:42\", \"2020-01-02T01:24:04\", \"2020-01-02T01:24:34\", \"2020-01-02T01:24:51\", \"2020-01-02T01:33:09\", \"2020-01-02T01:35:11\", \"2020-01-02T01:38:31\", \"2020-01-02T01:41:56\", \"2020-01-02T01:46:00\", \"2020-01-02T01:47:15\", \"2020-01-02T01:49:57\", \"2020-01-02T01:53:00\", \"2020-01-02T01:55:47\", \"2020-01-02T01:56:55\", \"2020-01-02T01:58:52\", \"2020-01-02T02:04:17\", \"2020-01-02T02:07:03\", \"2020-01-02T02:09:48\", \"2020-01-02T02:15:21\", \"2020-01-02T02:19:42\", \"2020-01-02T02:29:14\", \"2020-01-02T02:35:01\", \"2020-01-02T02:35:20\", \"2020-01-02T02:37:24\", \"2020-01-02T02:38:13\", \"2020-01-02T02:40:38\", \"2020-01-02T02:49:39\", \"2020-01-02T02:52:14\", \"2020-01-02T02:52:51\", \"2020-01-02T02:59:55\", \"2020-01-02T03:15:08\", \"2020-01-02T03:16:30\", \"2020-01-02T03:18:04\", \"2020-01-02T03:21:11\", \"2020-01-02T03:22:56\", \"2020-01-02T03:36:31\", \"2020-01-02T03:36:53\", \"2020-01-02T03:39:08\", \"2020-01-02T03:44:24\", \"2020-01-02T03:52:56\", \"2020-01-02T03:53:20\", \"2020-01-02T03:56:59\", \"2020-01-02T03:58:19\", \"2020-01-02T03:58:27\", \"2020-01-02T03:58:59\", \"2020-01-02T04:05:55\", \"2020-01-02T04:08:55\", \"2020-01-02T04:10:19\", \"2020-01-02T04:10:21\", \"2020-01-02T04:14:50\", \"2020-01-02T04:25:38\", \"2020-01-02T04:25:52\", \"2020-01-02T04:27:19\", \"2020-01-02T04:31:12\", \"2020-01-02T04:36:30\", \"2020-01-02T04:40:23\", \"2020-01-02T04:47:03\", \"2020-01-02T05:15:42\", \"2020-01-02T05:19:32\", \"2020-01-02T05:20:13\", \"2020-01-02T05:22:06\", \"2020-01-02T05:25:59\", \"2020-01-02T05:45:06\", \"2020-01-02T05:49:32\", \"2020-01-02T06:00:34\", \"2020-01-02T06:14:50\", \"2020-01-02T06:29:49\", \"2020-01-02T06:30:02\", \"2020-01-02T06:30:39\", \"2020-01-02T06:34:57\", \"2020-01-02T06:49:41\", \"2020-01-02T06:51:54\", \"2020-01-02T06:58:26\", \"2020-01-02T06:59:17\", \"2020-01-02T07:02:24\", \"2020-01-02T07:04:06\", \"2020-01-02T07:07:34\", \"2020-01-02T07:08:35\", \"2020-01-02T07:15:17\", \"2020-01-02T07:15:48\", \"2020-01-02T07:16:03\", \"2020-01-02T07:21:55\", \"2020-01-02T07:22:16\", \"2020-01-02T07:27:26\", \"2020-01-02T07:37:48\", \"2020-01-02T07:43:45\", \"2020-01-02T07:48:56\", \"2020-01-02T08:14:07\", \"2020-01-02T08:15:39\", \"2020-01-02T08:27:31\", \"2020-01-02T08:29:59\", \"2020-01-02T08:33:13\", \"2020-01-02T08:34:01\", \"2020-01-02T09:00:59\", \"2020-01-02T09:35:55\", \"2020-01-02T09:35:56\", \"2020-01-02T10:18:06\", \"2020-01-02T10:36:34\", \"2020-01-02T10:37:27\", \"2020-01-02T10:37:57\", \"2020-01-02T11:02:47\", \"2020-01-02T11:08:57\", \"2020-01-02T11:10:22\", \"2020-01-02T11:13:06\", \"2020-01-02T11:22:43\", \"2020-01-02T11:31:57\", \"2020-01-02T11:32:56\", \"2020-01-02T11:38:55\", \"2020-01-02T11:52:57\", \"2020-01-02T11:55:31\", \"2020-01-02T11:56:58\", \"2020-01-02T12:02:51\", \"2020-01-02T12:11:49\", \"2020-01-02T12:12:47\", \"2020-01-02T12:18:02\", \"2020-01-02T12:28:29\", \"2020-01-02T12:28:40\", \"2020-01-02T12:37:10\", \"2020-01-02T12:48:33\", \"2020-01-02T12:58:55\", \"2020-01-02T13:00:10\", \"2020-01-02T13:01:11\", \"2020-01-02T13:01:18\", \"2020-01-02T13:11:42\", \"2020-01-02T13:12:19\", \"2020-01-02T13:16:16\", \"2020-01-02T13:22:41\", \"2020-01-02T13:30:38\", \"2020-01-02T13:40:56\", \"2020-01-02T13:49:09\", \"2020-01-02T14:00:29\", \"2020-01-02T14:03:57\", \"2020-01-02T14:05:07\", \"2020-01-02T14:06:52\", \"2020-01-02T14:09:54\", \"2020-01-02T14:20:13\", \"2020-01-02T14:22:06\", \"2020-01-02T14:27:05\", \"2020-01-02T14:29:28\", \"2020-01-02T14:31:25\", \"2020-01-02T14:36:16\", \"2020-01-02T14:49:04\", \"2020-01-02T14:58:48\", \"2020-01-02T14:59:35\", \"2020-01-02T15:01:45\", \"2020-01-02T15:07:11\", \"2020-01-02T15:10:46\", \"2020-01-02T15:10:54\", \"2020-01-02T15:13:37\", \"2020-01-02T15:14:15\", \"2020-01-02T15:17:47\", \"2020-01-02T15:20:09\", \"2020-01-02T15:21:45\", \"2020-01-02T15:22:14\", \"2020-01-02T15:25:15\", \"2020-01-02T15:27:31\", \"2020-01-02T15:30:26\", \"2020-01-02T15:31:13\", \"2020-01-02T15:32:06\", \"2020-01-02T15:32:21\", \"2020-01-02T15:39:20\", \"2020-01-02T15:40:11\", \"2020-01-02T15:46:43\", \"2020-01-02T15:51:31\", \"2020-01-02T15:55:03\", \"2020-01-02T15:55:15\", \"2020-01-02T15:56:31\", \"2020-01-02T15:58:34\", \"2020-01-02T16:00:41\", \"2020-01-02T16:06:05\", \"2020-01-02T16:07:54\", \"2020-01-02T16:10:48\", \"2020-01-02T16:11:08\", \"2020-01-02T16:12:32\", \"2020-01-02T16:13:38\", \"2020-01-02T16:15:50\", \"2020-01-02T16:15:57\", \"2020-01-02T16:17:29\", \"2020-01-02T16:20:02\", \"2020-01-02T16:20:18\", \"2020-01-02T16:21:31\", \"2020-01-02T16:26:15\", \"2020-01-02T16:28:40\", \"2020-01-02T16:33:24\", \"2020-01-02T16:34:09\", \"2020-01-02T16:44:21\", \"2020-01-02T16:48:25\", \"2020-01-02T16:52:17\", \"2020-01-02T16:53:03\", \"2020-01-02T16:53:06\", \"2020-01-02T16:57:11\", \"2020-01-02T17:02:41\", \"2020-01-02T17:03:55\", \"2020-01-02T17:04:52\", \"2020-01-02T17:17:32\", \"2020-01-02T17:21:49\", \"2020-01-02T17:23:02\", \"2020-01-02T17:25:50\", \"2020-01-02T17:29:10\", \"2020-01-02T17:29:35\", \"2020-01-02T17:35:01\", \"2020-01-02T17:35:02\", \"2020-01-02T17:39:53\", \"2020-01-02T17:40:16\", \"2020-01-02T17:42:06\", \"2020-01-02T17:53:39\", \"2020-01-02T17:53:58\"], \"xaxis\": \"x3\", \"yaxis\": \"y3\"}, {\"customdata\": [[\"destiny2\", \"eiqtfn\"], [\"destiny2\", \"eiqti4\"], [\"destiny2\", \"eiqw4g\"], [\"destiny2\", \"eir2o5\"], [\"destiny2\", \"eir43y\"], [\"destiny2\", \"eir45k\"], [\"destiny2\", \"eir6fr\"], [\"destiny2\", \"eir6hs\"], [\"destiny2\", \"eir8pz\"], [\"destiny2\", \"eirbg6\"], [\"destiny2\", \"eirc8e\"], [\"destiny2\", \"eirjwl\"], [\"destiny2\", \"eirlbb\"], [\"destiny2\", \"eirsfi\"], [\"destiny2\", \"eirup3\"], [\"destiny2\", \"eirut8\"], [\"destiny2\", \"eirx2y\"], [\"destiny2\", \"eirxay\"], [\"destiny2\", \"eirxio\"], [\"destiny2\", \"eis274\"], [\"destiny2\", \"eis6vb\"], [\"destiny2\", \"eisisf\"], [\"destiny2\", \"eiskn3\"], [\"destiny2\", \"eisou0\"], [\"destiny2\", \"eistpj\"], [\"destiny2\", \"eisubn\"], [\"destiny2\", \"eisxl7\"], [\"destiny2\", \"eisxv4\"], [\"destiny2\", \"eit0vz\"], [\"destiny2\", \"eit3cz\"], [\"destiny2\", \"eit42n\"], [\"destiny2\", \"eitrv3\"], [\"destiny2\", \"eitth1\"], [\"destiny2\", \"eitvr0\"], [\"destiny2\", \"eitymv\"], [\"destiny2\", \"eiu66d\"], [\"destiny2\", \"eiug2s\"], [\"destiny2\", \"eiuhav\"], [\"destiny2\", \"eiuqjt\"], [\"destiny2\", \"eiuuob\"], [\"destiny2\", \"eiuvmj\"], [\"destiny2\", \"eiv7ou\"], [\"destiny2\", \"eiv8vg\"], [\"destiny2\", \"eivdhb\"], [\"destiny2\", \"eivntd\"], [\"destiny2\", \"eivq8n\"], [\"destiny2\", \"eivrhg\"], [\"destiny2\", \"eiw0ff\"], [\"destiny2\", \"eiw0h2\"], [\"destiny2\", \"eiw1ff\"], [\"destiny2\", \"eiw3u2\"], [\"destiny2\", \"eiw46v\"], [\"destiny2\", \"eiwh9g\"], [\"destiny2\", \"eiwmei\"], [\"destiny2\", \"eiwtbr\"], [\"destiny2\", \"eiwu8u\"], [\"destiny2\", \"eiwv9j\"], [\"destiny2\", \"eiwypp\"], [\"destiny2\", \"eix3sk\"], [\"destiny2\", \"eixdfq\"], [\"destiny2\", \"eixmjm\"], [\"destiny2\", \"eixnr9\"], [\"destiny2\", \"eixpr4\"], [\"destiny2\", \"eixxy9\"], [\"destiny2\", \"eiy03r\"], [\"destiny2\", \"eiy8ol\"], [\"destiny2\", \"eiy9px\"], [\"destiny2\", \"eiycs4\"], [\"destiny2\", \"eiyepl\"], [\"destiny2\", \"eiyjez\"], [\"destiny2\", \"eiyodb\"], [\"destiny2\", \"eiyonv\"], [\"destiny2\", \"eiyprz\"], [\"destiny2\", \"eiyqg0\"], [\"destiny2\", \"eiz2iy\"], [\"destiny2\", \"eiz3d1\"], [\"destiny2\", \"eiz3r5\"], [\"destiny2\", \"eizcig\"], [\"destiny2\", \"eizi5n\"], [\"destiny2\", \"eizlnw\"], [\"destiny2\", \"eizo5s\"], [\"destiny2\", \"eizon1\"], [\"destiny2\", \"eizqj9\"], [\"destiny2\", \"eizuv0\"], [\"destiny2\", \"eizyni\"], [\"destiny2\", \"ej00oe\"], [\"destiny2\", \"ej09h4\"], [\"destiny2\", \"ej0c75\"], [\"destiny2\", \"ej0eq4\"], [\"destiny2\", \"ej0jpt\"], [\"destiny2\", \"ej0p9s\"], [\"destiny2\", \"ej0zkq\"], [\"destiny2\", \"ej0zls\"], [\"destiny2\", \"ej130u\"], [\"destiny2\", \"ej133k\"], [\"destiny2\", \"ej15bs\"], [\"destiny2\", \"ej162i\"], [\"destiny2\", \"ej1ag4\"], [\"destiny2\", \"ej1c5w\"], [\"destiny2\", \"ej1hll\"], [\"destiny2\", \"ej1imn\"]], \"hoverlabel\": {\"namelength\": 0}, \"hovertemplate\": \"subreddit=%{customdata[0]}<br>Date Posted=%{x}<br>Post Polarity=%{y}<br>id=%{customdata[1]}\", \"legendgroup\": \"subreddit=destiny2\", \"marker\": {\"color\": \"green\", \"symbol\": \"circle\"}, \"mode\": \"markers\", \"name\": \"subreddit=destiny2\", \"showlegend\": true, \"type\": \"scatter\", \"x\": [\"2020-01-02T01:04:10\", \"2020-01-02T01:04:18\", \"2020-01-02T01:10:04\", \"2020-01-02T01:24:43\", \"2020-01-02T01:27:53\", \"2020-01-02T01:27:59\", \"2020-01-02T01:32:58\", \"2020-01-02T01:33:05\", \"2020-01-02T01:38:01\", \"2020-01-02T01:44:04\", \"2020-01-02T01:45:57\", \"2020-01-02T02:03:32\", \"2020-01-02T02:06:40\", \"2020-01-02T02:22:33\", \"2020-01-02T02:27:34\", \"2020-01-02T02:27:48\", \"2020-01-02T02:32:54\", \"2020-01-02T02:33:25\", \"2020-01-02T02:33:54\", \"2020-01-02T02:44:23\", \"2020-01-02T02:54:53\", \"2020-01-02T03:22:26\", \"2020-01-02T03:26:40\", \"2020-01-02T03:36:31\", \"2020-01-02T03:47:39\", \"2020-01-02T03:49:07\", \"2020-01-02T03:56:43\", \"2020-01-02T03:57:24\", \"2020-01-02T04:04:50\", \"2020-01-02T04:10:53\", \"2020-01-02T04:12:41\", \"2020-01-02T05:11:44\", \"2020-01-02T05:15:45\", \"2020-01-02T05:21:33\", \"2020-01-02T05:28:49\", \"2020-01-02T05:48:23\", \"2020-01-02T06:14:40\", \"2020-01-02T06:18:04\", \"2020-01-02T06:44:11\", \"2020-01-02T06:56:27\", \"2020-01-02T06:59:15\", \"2020-01-02T07:36:00\", \"2020-01-02T07:39:46\", \"2020-01-02T07:54:56\", \"2020-01-02T08:29:31\", \"2020-01-02T08:38:15\", \"2020-01-02T08:42:41\", \"2020-01-02T09:13:48\", \"2020-01-02T09:14:00\", \"2020-01-02T09:17:11\", \"2020-01-02T09:25:20\", \"2020-01-02T09:26:32\", \"2020-01-02T10:10:53\", \"2020-01-02T10:28:35\", \"2020-01-02T10:52:11\", \"2020-01-02T10:55:23\", \"2020-01-02T10:58:53\", \"2020-01-02T11:10:08\", \"2020-01-02T11:26:30\", \"2020-01-02T11:57:53\", \"2020-01-02T12:26:04\", \"2020-01-02T12:29:47\", \"2020-01-02T12:35:56\", \"2020-01-02T12:59:41\", \"2020-01-02T13:05:36\", \"2020-01-02T13:29:21\", \"2020-01-02T13:32:12\", \"2020-01-02T13:40:29\", \"2020-01-02T13:45:34\", \"2020-01-02T13:58:07\", \"2020-01-02T14:10:40\", \"2020-01-02T14:11:25\", \"2020-01-02T14:14:14\", \"2020-01-02T14:15:45\", \"2020-01-02T14:45:47\", \"2020-01-02T14:47:42\", \"2020-01-02T14:48:38\", \"2020-01-02T15:08:46\", \"2020-01-02T15:21:22\", \"2020-01-02T15:29:13\", \"2020-01-02T15:34:44\", \"2020-01-02T15:35:49\", \"2020-01-02T15:39:52\", \"2020-01-02T15:49:14\", \"2020-01-02T15:57:39\", \"2020-01-02T16:01:54\", \"2020-01-02T16:20:55\", \"2020-01-02T16:26:24\", \"2020-01-02T16:31:54\", \"2020-01-02T16:42:22\", \"2020-01-02T16:53:57\", \"2020-01-02T17:14:25\", \"2020-01-02T17:14:28\", \"2020-01-02T17:21:20\", \"2020-01-02T17:21:30\", \"2020-01-02T17:26:00\", \"2020-01-02T17:27:25\", \"2020-01-02T17:36:19\", \"2020-01-02T17:39:42\", \"2020-01-02T17:50:33\", \"2020-01-02T17:52:34\"], \"xaxis\": \"x2\", \"y\": [-0.103125, -0.13366946778711486, -0.005555555555555564, 0.25, 0.125, 0.12962962962962962, -0.025, 0.0, 0.0, 0.45, 0.3833333333333333, 0.3, -0.13333333333333333, 0.2333333333333333, 0.15, 0.10865384615384616, 0.35, 0.0, 0.08095238095238094, 0.02285714285714286, 0.07564157196969695, -0.07638888888888891, 0.18, 0.25256410256410255, 0.16, 0.018750000000000003, 0.032575757575757584, 0.3375, 0.0, 0.33409090909090905, 0.2261904761904762, 0.07992424242424243, -0.2263888888888889, -0.04166666666666668, 0.0, 0.2756060606060606, 0.05, 1.0, -0.4857142857142857, 0.5, -0.51875, 0.16666666666666669, -0.08095238095238096, -0.2760714285714286, 0.2916666666666667, 0.36, 0.1, -0.003869047619047619, -0.3500000000000001, -0.005218855218855216, 0.08833333333333333, -0.047619047619047616, -0.06590909090909092, 0.4958333333333333, -0.2, 0.137361485474693, 0.15, 0.0, -0.3125, 0.1, 0.0, -0.25, 0.06079545454545454, 0.36250000000000004, -0.4, 0.06666666666666668, 0.0236111111111111, 0.0, 0.0, -0.027884615384615386, 0.1, 0.13636363636363635, 0.06468253968253967, 0.07004662004662005, -0.3, 0.13541666666666666, -0.026704545454545446, 0.025000000000000005, -0.2520833333333333, -0.09999999999999999, -0.1413265306122449, 0.3143518518518519, 0.3888888888888889, 0.5, 0.3361904761904762, 0.06363636363636363, 0.125, -0.05714285714285716, -0.03148148148148148, 0.0006493506493506456, 0.675, 0.2791666666666667, 0.40909090909090906, 0.06818181818181818, 0.11806239737274218, 0.24930555555555553, 0.09307359307359309, 0.17500000000000002, 0.0992063492063492, -0.01979166666666667, 0.10024812585788197], \"yaxis\": \"y2\"}, {\"alignmentgroup\": \"True\", \"bingroup\": \"x\", \"hoverlabel\": {\"namelength\": 0}, \"hovertemplate\": \"subreddit=destiny2<br>Date Posted=%{x}<br>count=%{y}\", \"legendgroup\": \"subreddit=destiny2\", \"marker\": {\"color\": \"green\"}, \"name\": \"subreddit=destiny2\", \"offsetgroup\": \"subreddit=destiny2\", \"opacity\": 0.5, \"showlegend\": false, \"type\": \"histogram\", \"x\": [\"2020-01-02T01:04:10\", \"2020-01-02T01:04:18\", \"2020-01-02T01:10:04\", \"2020-01-02T01:24:43\", \"2020-01-02T01:27:53\", \"2020-01-02T01:27:59\", \"2020-01-02T01:32:58\", \"2020-01-02T01:33:05\", \"2020-01-02T01:38:01\", \"2020-01-02T01:44:04\", \"2020-01-02T01:45:57\", \"2020-01-02T02:03:32\", \"2020-01-02T02:06:40\", \"2020-01-02T02:22:33\", \"2020-01-02T02:27:34\", \"2020-01-02T02:27:48\", \"2020-01-02T02:32:54\", \"2020-01-02T02:33:25\", \"2020-01-02T02:33:54\", \"2020-01-02T02:44:23\", \"2020-01-02T02:54:53\", \"2020-01-02T03:22:26\", \"2020-01-02T03:26:40\", \"2020-01-02T03:36:31\", \"2020-01-02T03:47:39\", \"2020-01-02T03:49:07\", \"2020-01-02T03:56:43\", \"2020-01-02T03:57:24\", \"2020-01-02T04:04:50\", \"2020-01-02T04:10:53\", \"2020-01-02T04:12:41\", \"2020-01-02T05:11:44\", \"2020-01-02T05:15:45\", \"2020-01-02T05:21:33\", \"2020-01-02T05:28:49\", \"2020-01-02T05:48:23\", \"2020-01-02T06:14:40\", \"2020-01-02T06:18:04\", \"2020-01-02T06:44:11\", \"2020-01-02T06:56:27\", \"2020-01-02T06:59:15\", \"2020-01-02T07:36:00\", \"2020-01-02T07:39:46\", \"2020-01-02T07:54:56\", \"2020-01-02T08:29:31\", \"2020-01-02T08:38:15\", \"2020-01-02T08:42:41\", \"2020-01-02T09:13:48\", \"2020-01-02T09:14:00\", \"2020-01-02T09:17:11\", \"2020-01-02T09:25:20\", \"2020-01-02T09:26:32\", \"2020-01-02T10:10:53\", \"2020-01-02T10:28:35\", \"2020-01-02T10:52:11\", \"2020-01-02T10:55:23\", \"2020-01-02T10:58:53\", \"2020-01-02T11:10:08\", \"2020-01-02T11:26:30\", \"2020-01-02T11:57:53\", \"2020-01-02T12:26:04\", \"2020-01-02T12:29:47\", \"2020-01-02T12:35:56\", \"2020-01-02T12:59:41\", \"2020-01-02T13:05:36\", \"2020-01-02T13:29:21\", \"2020-01-02T13:32:12\", \"2020-01-02T13:40:29\", \"2020-01-02T13:45:34\", \"2020-01-02T13:58:07\", \"2020-01-02T14:10:40\", \"2020-01-02T14:11:25\", \"2020-01-02T14:14:14\", \"2020-01-02T14:15:45\", \"2020-01-02T14:45:47\", \"2020-01-02T14:47:42\", \"2020-01-02T14:48:38\", \"2020-01-02T15:08:46\", \"2020-01-02T15:21:22\", \"2020-01-02T15:29:13\", \"2020-01-02T15:34:44\", \"2020-01-02T15:35:49\", \"2020-01-02T15:39:52\", \"2020-01-02T15:49:14\", \"2020-01-02T15:57:39\", \"2020-01-02T16:01:54\", \"2020-01-02T16:20:55\", \"2020-01-02T16:26:24\", \"2020-01-02T16:31:54\", \"2020-01-02T16:42:22\", \"2020-01-02T16:53:57\", \"2020-01-02T17:14:25\", \"2020-01-02T17:14:28\", \"2020-01-02T17:21:20\", \"2020-01-02T17:21:30\", \"2020-01-02T17:26:00\", \"2020-01-02T17:27:25\", \"2020-01-02T17:36:19\", \"2020-01-02T17:39:42\", \"2020-01-02T17:50:33\", \"2020-01-02T17:52:34\"], \"xaxis\": \"x4\", \"yaxis\": \"y4\"}],\n",
       "                        {\"annotations\": [{\"font\": {}, \"showarrow\": false, \"text\": \"subreddit=destinythegame\", \"x\": 0.245, \"xanchor\": \"center\", \"xref\": \"paper\", \"y\": 1.0, \"yanchor\": \"bottom\", \"yref\": \"paper\"}, {\"font\": {}, \"showarrow\": false, \"text\": \"subreddit=destiny2\", \"x\": 0.755, \"xanchor\": \"center\", \"xref\": \"paper\", \"y\": 1.0, \"yanchor\": \"bottom\", \"yref\": \"paper\"}], \"barmode\": \"overlay\", \"legend\": {\"tracegroupgap\": 0}, \"template\": {\"data\": {\"bar\": [{\"error_x\": {\"color\": \"#2a3f5f\"}, \"error_y\": {\"color\": \"#2a3f5f\"}, \"marker\": {\"line\": {\"color\": \"#E5ECF6\", \"width\": 0.5}}, \"type\": \"bar\"}], \"barpolar\": [{\"marker\": {\"line\": {\"color\": \"#E5ECF6\", \"width\": 0.5}}, \"type\": \"barpolar\"}], \"carpet\": [{\"aaxis\": {\"endlinecolor\": \"#2a3f5f\", \"gridcolor\": \"white\", \"linecolor\": \"white\", \"minorgridcolor\": \"white\", \"startlinecolor\": \"#2a3f5f\"}, \"baxis\": {\"endlinecolor\": \"#2a3f5f\", \"gridcolor\": \"white\", \"linecolor\": \"white\", \"minorgridcolor\": \"white\", \"startlinecolor\": \"#2a3f5f\"}, \"type\": \"carpet\"}], \"choropleth\": [{\"colorbar\": {\"outlinewidth\": 0, \"ticks\": \"\"}, \"type\": \"choropleth\"}], \"contour\": [{\"colorbar\": {\"outlinewidth\": 0, \"ticks\": \"\"}, \"colorscale\": [[0.0, \"#0d0887\"], [0.1111111111111111, \"#46039f\"], [0.2222222222222222, \"#7201a8\"], [0.3333333333333333, \"#9c179e\"], [0.4444444444444444, \"#bd3786\"], [0.5555555555555556, \"#d8576b\"], [0.6666666666666666, \"#ed7953\"], [0.7777777777777778, \"#fb9f3a\"], [0.8888888888888888, \"#fdca26\"], [1.0, \"#f0f921\"]], \"type\": \"contour\"}], \"contourcarpet\": [{\"colorbar\": {\"outlinewidth\": 0, \"ticks\": \"\"}, \"type\": \"contourcarpet\"}], \"heatmap\": [{\"colorbar\": {\"outlinewidth\": 0, \"ticks\": \"\"}, \"colorscale\": [[0.0, \"#0d0887\"], [0.1111111111111111, \"#46039f\"], [0.2222222222222222, \"#7201a8\"], [0.3333333333333333, \"#9c179e\"], [0.4444444444444444, \"#bd3786\"], [0.5555555555555556, \"#d8576b\"], [0.6666666666666666, \"#ed7953\"], [0.7777777777777778, \"#fb9f3a\"], [0.8888888888888888, \"#fdca26\"], [1.0, \"#f0f921\"]], \"type\": \"heatmap\"}], \"heatmapgl\": [{\"colorbar\": {\"outlinewidth\": 0, \"ticks\": \"\"}, \"colorscale\": [[0.0, \"#0d0887\"], [0.1111111111111111, \"#46039f\"], [0.2222222222222222, \"#7201a8\"], [0.3333333333333333, \"#9c179e\"], [0.4444444444444444, \"#bd3786\"], [0.5555555555555556, \"#d8576b\"], [0.6666666666666666, \"#ed7953\"], [0.7777777777777778, \"#fb9f3a\"], [0.8888888888888888, \"#fdca26\"], [1.0, \"#f0f921\"]], \"type\": \"heatmapgl\"}], \"histogram\": [{\"marker\": {\"colorbar\": {\"outlinewidth\": 0, \"ticks\": \"\"}}, \"type\": \"histogram\"}], \"histogram2d\": [{\"colorbar\": {\"outlinewidth\": 0, \"ticks\": \"\"}, \"colorscale\": [[0.0, \"#0d0887\"], [0.1111111111111111, \"#46039f\"], [0.2222222222222222, \"#7201a8\"], [0.3333333333333333, \"#9c179e\"], [0.4444444444444444, \"#bd3786\"], [0.5555555555555556, \"#d8576b\"], [0.6666666666666666, \"#ed7953\"], [0.7777777777777778, \"#fb9f3a\"], [0.8888888888888888, \"#fdca26\"], [1.0, \"#f0f921\"]], \"type\": \"histogram2d\"}], \"histogram2dcontour\": [{\"colorbar\": {\"outlinewidth\": 0, \"ticks\": \"\"}, \"colorscale\": [[0.0, \"#0d0887\"], [0.1111111111111111, \"#46039f\"], [0.2222222222222222, \"#7201a8\"], [0.3333333333333333, \"#9c179e\"], [0.4444444444444444, \"#bd3786\"], [0.5555555555555556, \"#d8576b\"], [0.6666666666666666, \"#ed7953\"], [0.7777777777777778, \"#fb9f3a\"], [0.8888888888888888, \"#fdca26\"], [1.0, \"#f0f921\"]], \"type\": \"histogram2dcontour\"}], \"mesh3d\": [{\"colorbar\": {\"outlinewidth\": 0, \"ticks\": \"\"}, \"type\": \"mesh3d\"}], \"parcoords\": [{\"line\": {\"colorbar\": {\"outlinewidth\": 0, \"ticks\": \"\"}}, \"type\": \"parcoords\"}], \"pie\": [{\"automargin\": true, \"type\": \"pie\"}], \"scatter\": [{\"marker\": {\"colorbar\": {\"outlinewidth\": 0, \"ticks\": \"\"}}, \"type\": \"scatter\"}], \"scatter3d\": [{\"line\": {\"colorbar\": {\"outlinewidth\": 0, \"ticks\": \"\"}}, \"marker\": {\"colorbar\": {\"outlinewidth\": 0, \"ticks\": \"\"}}, \"type\": \"scatter3d\"}], \"scattercarpet\": [{\"marker\": {\"colorbar\": {\"outlinewidth\": 0, \"ticks\": \"\"}}, \"type\": \"scattercarpet\"}], \"scattergeo\": [{\"marker\": {\"colorbar\": {\"outlinewidth\": 0, \"ticks\": \"\"}}, \"type\": \"scattergeo\"}], \"scattergl\": [{\"marker\": {\"colorbar\": {\"outlinewidth\": 0, \"ticks\": \"\"}}, \"type\": \"scattergl\"}], \"scattermapbox\": [{\"marker\": {\"colorbar\": {\"outlinewidth\": 0, \"ticks\": \"\"}}, \"type\": \"scattermapbox\"}], \"scatterpolar\": [{\"marker\": {\"colorbar\": {\"outlinewidth\": 0, \"ticks\": \"\"}}, \"type\": \"scatterpolar\"}], \"scatterpolargl\": [{\"marker\": {\"colorbar\": {\"outlinewidth\": 0, \"ticks\": \"\"}}, \"type\": \"scatterpolargl\"}], \"scatterternary\": [{\"marker\": {\"colorbar\": {\"outlinewidth\": 0, \"ticks\": \"\"}}, \"type\": \"scatterternary\"}], \"surface\": [{\"colorbar\": {\"outlinewidth\": 0, \"ticks\": \"\"}, \"colorscale\": [[0.0, \"#0d0887\"], [0.1111111111111111, \"#46039f\"], [0.2222222222222222, \"#7201a8\"], [0.3333333333333333, \"#9c179e\"], [0.4444444444444444, \"#bd3786\"], [0.5555555555555556, \"#d8576b\"], [0.6666666666666666, \"#ed7953\"], [0.7777777777777778, \"#fb9f3a\"], [0.8888888888888888, \"#fdca26\"], [1.0, \"#f0f921\"]], \"type\": \"surface\"}], \"table\": [{\"cells\": {\"fill\": {\"color\": \"#EBF0F8\"}, \"line\": {\"color\": \"white\"}}, \"header\": {\"fill\": {\"color\": \"#C8D4E3\"}, \"line\": {\"color\": \"white\"}}, \"type\": \"table\"}]}, \"layout\": {\"annotationdefaults\": {\"arrowcolor\": \"#2a3f5f\", \"arrowhead\": 0, \"arrowwidth\": 1}, \"coloraxis\": {\"colorbar\": {\"outlinewidth\": 0, \"ticks\": \"\"}}, \"colorscale\": {\"diverging\": [[0, \"#8e0152\"], [0.1, \"#c51b7d\"], [0.2, \"#de77ae\"], [0.3, \"#f1b6da\"], [0.4, \"#fde0ef\"], [0.5, \"#f7f7f7\"], [0.6, \"#e6f5d0\"], [0.7, \"#b8e186\"], [0.8, \"#7fbc41\"], [0.9, \"#4d9221\"], [1, \"#276419\"]], \"sequential\": [[0.0, \"#0d0887\"], [0.1111111111111111, \"#46039f\"], [0.2222222222222222, \"#7201a8\"], [0.3333333333333333, \"#9c179e\"], [0.4444444444444444, \"#bd3786\"], [0.5555555555555556, \"#d8576b\"], [0.6666666666666666, \"#ed7953\"], [0.7777777777777778, \"#fb9f3a\"], [0.8888888888888888, \"#fdca26\"], [1.0, \"#f0f921\"]], \"sequentialminus\": [[0.0, \"#0d0887\"], [0.1111111111111111, \"#46039f\"], [0.2222222222222222, \"#7201a8\"], [0.3333333333333333, \"#9c179e\"], [0.4444444444444444, \"#bd3786\"], [0.5555555555555556, \"#d8576b\"], [0.6666666666666666, \"#ed7953\"], [0.7777777777777778, \"#fb9f3a\"], [0.8888888888888888, \"#fdca26\"], [1.0, \"#f0f921\"]]}, \"colorway\": [\"#636efa\", \"#EF553B\", \"#00cc96\", \"#ab63fa\", \"#FFA15A\", \"#19d3f3\", \"#FF6692\", \"#B6E880\", \"#FF97FF\", \"#FECB52\"], \"font\": {\"color\": \"#2a3f5f\"}, \"geo\": {\"bgcolor\": \"white\", \"lakecolor\": \"white\", \"landcolor\": \"#E5ECF6\", \"showlakes\": true, \"showland\": true, \"subunitcolor\": \"white\"}, \"hoverlabel\": {\"align\": \"left\"}, \"hovermode\": \"closest\", \"mapbox\": {\"style\": \"light\"}, \"paper_bgcolor\": \"white\", \"plot_bgcolor\": \"#E5ECF6\", \"polar\": {\"angularaxis\": {\"gridcolor\": \"white\", \"linecolor\": \"white\", \"ticks\": \"\"}, \"bgcolor\": \"#E5ECF6\", \"radialaxis\": {\"gridcolor\": \"white\", \"linecolor\": \"white\", \"ticks\": \"\"}}, \"scene\": {\"xaxis\": {\"backgroundcolor\": \"#E5ECF6\", \"gridcolor\": \"white\", \"gridwidth\": 2, \"linecolor\": \"white\", \"showbackground\": true, \"ticks\": \"\", \"zerolinecolor\": \"white\"}, \"yaxis\": {\"backgroundcolor\": \"#E5ECF6\", \"gridcolor\": \"white\", \"gridwidth\": 2, \"linecolor\": \"white\", \"showbackground\": true, \"ticks\": \"\", \"zerolinecolor\": \"white\"}, \"zaxis\": {\"backgroundcolor\": \"#E5ECF6\", \"gridcolor\": \"white\", \"gridwidth\": 2, \"linecolor\": \"white\", \"showbackground\": true, \"ticks\": \"\", \"zerolinecolor\": \"white\"}}, \"shapedefaults\": {\"line\": {\"color\": \"#2a3f5f\"}}, \"ternary\": {\"aaxis\": {\"gridcolor\": \"white\", \"linecolor\": \"white\", \"ticks\": \"\"}, \"baxis\": {\"gridcolor\": \"white\", \"linecolor\": \"white\", \"ticks\": \"\"}, \"bgcolor\": \"#E5ECF6\", \"caxis\": {\"gridcolor\": \"white\", \"linecolor\": \"white\", \"ticks\": \"\"}}, \"title\": {\"x\": 0.05}, \"xaxis\": {\"automargin\": true, \"gridcolor\": \"white\", \"linecolor\": \"white\", \"ticks\": \"\", \"title\": {\"standoff\": 15}, \"zerolinecolor\": \"white\", \"zerolinewidth\": 2}, \"yaxis\": {\"automargin\": true, \"gridcolor\": \"white\", \"linecolor\": \"white\", \"ticks\": \"\", \"title\": {\"standoff\": 15}, \"zerolinecolor\": \"white\", \"zerolinewidth\": 2}}}, \"title\": {\"text\": \"r/destinythegame vs r/destiny2 posts from previous 24 hours\"}, \"xaxis\": {\"anchor\": \"y\", \"domain\": [0.0, 0.49], \"title\": {\"text\": \"Date Posted\"}}, \"xaxis2\": {\"anchor\": \"y2\", \"domain\": [0.51, 1.0], \"matches\": \"x\", \"title\": {\"text\": \"Date Posted\"}}, \"xaxis3\": {\"anchor\": \"y3\", \"domain\": [0.0, 0.49], \"matches\": \"x\", \"showgrid\": true, \"showticklabels\": false}, \"xaxis4\": {\"anchor\": \"y4\", \"domain\": [0.51, 1.0], \"matches\": \"x\", \"showgrid\": true, \"showticklabels\": false}, \"yaxis\": {\"anchor\": \"x\", \"domain\": [0.0, 0.7326], \"title\": {\"text\": \"Post Polarity\"}}, \"yaxis2\": {\"anchor\": \"x2\", \"domain\": [0.0, 0.7326], \"matches\": \"y\", \"showticklabels\": false}, \"yaxis3\": {\"anchor\": \"x3\", \"domain\": [0.7426, 1.0], \"matches\": \"y3\", \"showgrid\": true, \"showline\": false, \"showticklabels\": false, \"ticks\": \"\"}, \"yaxis4\": {\"anchor\": \"x4\", \"domain\": [0.7426, 1.0], \"matches\": \"y3\", \"showgrid\": true, \"showline\": false, \"showticklabels\": false, \"ticks\": \"\"}},\n",
       "                        {\"responsive\": true}\n",
       "                    ).then(function(){\n",
       "                            \n",
       "var gd = document.getElementById('d26f621e-2d68-4d23-8340-0cf634d3d520');\n",
       "var x = new MutationObserver(function (mutations, observer) {{\n",
       "        var display = window.getComputedStyle(gd).display;\n",
       "        if (!display || display === 'none') {{\n",
       "            console.log([gd, 'removed!']);\n",
       "            Plotly.purge(gd);\n",
       "            observer.disconnect();\n",
       "        }}\n",
       "}});\n",
       "\n",
       "// Listen for the removal of the full notebook cells\n",
       "var notebookContainer = gd.closest('#notebook-container');\n",
       "if (notebookContainer) {{\n",
       "    x.observe(notebookContainer, {childList: true});\n",
       "}}\n",
       "\n",
       "// Listen for the clearing of the current output cell\n",
       "var outputEl = gd.closest('.output');\n",
       "if (outputEl) {{\n",
       "    x.observe(outputEl, {childList: true});\n",
       "}}\n",
       "\n",
       "                        })\n",
       "                };\n",
       "                });\n",
       "            </script>\n",
       "        </div>"
      ]
     },
     "metadata": {},
     "output_type": "display_data"
    },
    {
     "data": {
      "application/vnd.plotly.v1+json": {
       "config": {
        "plotlyServerURL": "https://plot.ly"
       },
       "data": [
        {
         "alignmentgroup": "True",
         "hoverlabel": {
          "namelength": 0
         },
         "hovertemplate": "rating=positive polarity<br>subreddit=destinythegame<br>sentiment analysis=%{x}<br>percent of total posts=%{y}",
         "legendgroup": "rating=positive polarity",
         "marker": {
          "color": "#636efa"
         },
         "name": "rating=positive polarity",
         "offsetgroup": "rating=positive polarity",
         "orientation": "v",
         "showlegend": true,
         "textposition": "auto",
         "type": "bar",
         "x": [
          "polarity"
         ],
         "xaxis": "x",
         "y": [
          0.7361111111111112
         ],
         "yaxis": "y"
        },
        {
         "alignmentgroup": "True",
         "hoverlabel": {
          "namelength": 0
         },
         "hovertemplate": "rating=positive polarity<br>subreddit=destiny2<br>sentiment analysis=%{x}<br>percent of total posts=%{y}",
         "legendgroup": "rating=positive polarity",
         "marker": {
          "color": "#636efa"
         },
         "name": "rating=positive polarity",
         "offsetgroup": "rating=positive polarity",
         "orientation": "v",
         "showlegend": false,
         "textposition": "auto",
         "type": "bar",
         "x": [
          "polarity"
         ],
         "xaxis": "x2",
         "y": [
          0.7029702970297029
         ],
         "yaxis": "y2"
        },
        {
         "alignmentgroup": "True",
         "hoverlabel": {
          "namelength": 0
         },
         "hovertemplate": "rating=negative polarity<br>subreddit=destinythegame<br>sentiment analysis=%{x}<br>percent of total posts=%{y}",
         "legendgroup": "rating=negative polarity",
         "marker": {
          "color": "#EF553B"
         },
         "name": "rating=negative polarity",
         "offsetgroup": "rating=negative polarity",
         "orientation": "v",
         "showlegend": true,
         "textposition": "auto",
         "type": "bar",
         "x": [
          "polarity"
         ],
         "xaxis": "x",
         "y": [
          0.2638888888888889
         ],
         "yaxis": "y"
        },
        {
         "alignmentgroup": "True",
         "hoverlabel": {
          "namelength": 0
         },
         "hovertemplate": "rating=negative polarity<br>subreddit=destiny2<br>sentiment analysis=%{x}<br>percent of total posts=%{y}",
         "legendgroup": "rating=negative polarity",
         "marker": {
          "color": "#EF553B"
         },
         "name": "rating=negative polarity",
         "offsetgroup": "rating=negative polarity",
         "orientation": "v",
         "showlegend": false,
         "textposition": "auto",
         "type": "bar",
         "x": [
          "polarity"
         ],
         "xaxis": "x2",
         "y": [
          0.297029702970297
         ],
         "yaxis": "y2"
        },
        {
         "alignmentgroup": "True",
         "hoverlabel": {
          "namelength": 0
         },
         "hovertemplate": "rating=subjective<br>subreddit=destinythegame<br>sentiment analysis=%{x}<br>percent of total posts=%{y}",
         "legendgroup": "rating=subjective",
         "marker": {
          "color": "#00cc96"
         },
         "name": "rating=subjective",
         "offsetgroup": "rating=subjective",
         "orientation": "v",
         "showlegend": true,
         "textposition": "auto",
         "type": "bar",
         "x": [
          "subjectivity"
         ],
         "xaxis": "x",
         "y": [
          0.5046296296296297
         ],
         "yaxis": "y"
        },
        {
         "alignmentgroup": "True",
         "hoverlabel": {
          "namelength": 0
         },
         "hovertemplate": "rating=subjective<br>subreddit=destiny2<br>sentiment analysis=%{x}<br>percent of total posts=%{y}",
         "legendgroup": "rating=subjective",
         "marker": {
          "color": "#00cc96"
         },
         "name": "rating=subjective",
         "offsetgroup": "rating=subjective",
         "orientation": "v",
         "showlegend": false,
         "textposition": "auto",
         "type": "bar",
         "x": [
          "subjectivity"
         ],
         "xaxis": "x2",
         "y": [
          0.48514851485148514
         ],
         "yaxis": "y2"
        },
        {
         "alignmentgroup": "True",
         "hoverlabel": {
          "namelength": 0
         },
         "hovertemplate": "rating=objective<br>subreddit=destinythegame<br>sentiment analysis=%{x}<br>percent of total posts=%{y}",
         "legendgroup": "rating=objective",
         "marker": {
          "color": "#ab63fa"
         },
         "name": "rating=objective",
         "offsetgroup": "rating=objective",
         "orientation": "v",
         "showlegend": true,
         "textposition": "auto",
         "type": "bar",
         "x": [
          "subjectivity"
         ],
         "xaxis": "x",
         "y": [
          0.49537037037037035
         ],
         "yaxis": "y"
        },
        {
         "alignmentgroup": "True",
         "hoverlabel": {
          "namelength": 0
         },
         "hovertemplate": "rating=objective<br>subreddit=destiny2<br>sentiment analysis=%{x}<br>percent of total posts=%{y}",
         "legendgroup": "rating=objective",
         "marker": {
          "color": "#ab63fa"
         },
         "name": "rating=objective",
         "offsetgroup": "rating=objective",
         "orientation": "v",
         "showlegend": false,
         "textposition": "auto",
         "type": "bar",
         "x": [
          "subjectivity"
         ],
         "xaxis": "x2",
         "y": [
          0.5148514851485149
         ],
         "yaxis": "y2"
        }
       ],
       "layout": {
        "annotations": [
         {
          "font": {},
          "showarrow": false,
          "text": "subreddit=destinythegame",
          "x": 0.245,
          "xanchor": "center",
          "xref": "paper",
          "y": 1,
          "yanchor": "bottom",
          "yref": "paper"
         },
         {
          "font": {},
          "showarrow": false,
          "text": "subreddit=destiny2",
          "x": 0.755,
          "xanchor": "center",
          "xref": "paper",
          "y": 1,
          "yanchor": "bottom",
          "yref": "paper"
         }
        ],
        "barmode": "group",
        "legend": {
         "tracegroupgap": 0
        },
        "template": {
         "data": {
          "bar": [
           {
            "error_x": {
             "color": "#2a3f5f"
            },
            "error_y": {
             "color": "#2a3f5f"
            },
            "marker": {
             "line": {
              "color": "#E5ECF6",
              "width": 0.5
             }
            },
            "type": "bar"
           }
          ],
          "barpolar": [
           {
            "marker": {
             "line": {
              "color": "#E5ECF6",
              "width": 0.5
             }
            },
            "type": "barpolar"
           }
          ],
          "carpet": [
           {
            "aaxis": {
             "endlinecolor": "#2a3f5f",
             "gridcolor": "white",
             "linecolor": "white",
             "minorgridcolor": "white",
             "startlinecolor": "#2a3f5f"
            },
            "baxis": {
             "endlinecolor": "#2a3f5f",
             "gridcolor": "white",
             "linecolor": "white",
             "minorgridcolor": "white",
             "startlinecolor": "#2a3f5f"
            },
            "type": "carpet"
           }
          ],
          "choropleth": [
           {
            "colorbar": {
             "outlinewidth": 0,
             "ticks": ""
            },
            "type": "choropleth"
           }
          ],
          "contour": [
           {
            "colorbar": {
             "outlinewidth": 0,
             "ticks": ""
            },
            "colorscale": [
             [
              0,
              "#0d0887"
             ],
             [
              0.1111111111111111,
              "#46039f"
             ],
             [
              0.2222222222222222,
              "#7201a8"
             ],
             [
              0.3333333333333333,
              "#9c179e"
             ],
             [
              0.4444444444444444,
              "#bd3786"
             ],
             [
              0.5555555555555556,
              "#d8576b"
             ],
             [
              0.6666666666666666,
              "#ed7953"
             ],
             [
              0.7777777777777778,
              "#fb9f3a"
             ],
             [
              0.8888888888888888,
              "#fdca26"
             ],
             [
              1,
              "#f0f921"
             ]
            ],
            "type": "contour"
           }
          ],
          "contourcarpet": [
           {
            "colorbar": {
             "outlinewidth": 0,
             "ticks": ""
            },
            "type": "contourcarpet"
           }
          ],
          "heatmap": [
           {
            "colorbar": {
             "outlinewidth": 0,
             "ticks": ""
            },
            "colorscale": [
             [
              0,
              "#0d0887"
             ],
             [
              0.1111111111111111,
              "#46039f"
             ],
             [
              0.2222222222222222,
              "#7201a8"
             ],
             [
              0.3333333333333333,
              "#9c179e"
             ],
             [
              0.4444444444444444,
              "#bd3786"
             ],
             [
              0.5555555555555556,
              "#d8576b"
             ],
             [
              0.6666666666666666,
              "#ed7953"
             ],
             [
              0.7777777777777778,
              "#fb9f3a"
             ],
             [
              0.8888888888888888,
              "#fdca26"
             ],
             [
              1,
              "#f0f921"
             ]
            ],
            "type": "heatmap"
           }
          ],
          "heatmapgl": [
           {
            "colorbar": {
             "outlinewidth": 0,
             "ticks": ""
            },
            "colorscale": [
             [
              0,
              "#0d0887"
             ],
             [
              0.1111111111111111,
              "#46039f"
             ],
             [
              0.2222222222222222,
              "#7201a8"
             ],
             [
              0.3333333333333333,
              "#9c179e"
             ],
             [
              0.4444444444444444,
              "#bd3786"
             ],
             [
              0.5555555555555556,
              "#d8576b"
             ],
             [
              0.6666666666666666,
              "#ed7953"
             ],
             [
              0.7777777777777778,
              "#fb9f3a"
             ],
             [
              0.8888888888888888,
              "#fdca26"
             ],
             [
              1,
              "#f0f921"
             ]
            ],
            "type": "heatmapgl"
           }
          ],
          "histogram": [
           {
            "marker": {
             "colorbar": {
              "outlinewidth": 0,
              "ticks": ""
             }
            },
            "type": "histogram"
           }
          ],
          "histogram2d": [
           {
            "colorbar": {
             "outlinewidth": 0,
             "ticks": ""
            },
            "colorscale": [
             [
              0,
              "#0d0887"
             ],
             [
              0.1111111111111111,
              "#46039f"
             ],
             [
              0.2222222222222222,
              "#7201a8"
             ],
             [
              0.3333333333333333,
              "#9c179e"
             ],
             [
              0.4444444444444444,
              "#bd3786"
             ],
             [
              0.5555555555555556,
              "#d8576b"
             ],
             [
              0.6666666666666666,
              "#ed7953"
             ],
             [
              0.7777777777777778,
              "#fb9f3a"
             ],
             [
              0.8888888888888888,
              "#fdca26"
             ],
             [
              1,
              "#f0f921"
             ]
            ],
            "type": "histogram2d"
           }
          ],
          "histogram2dcontour": [
           {
            "colorbar": {
             "outlinewidth": 0,
             "ticks": ""
            },
            "colorscale": [
             [
              0,
              "#0d0887"
             ],
             [
              0.1111111111111111,
              "#46039f"
             ],
             [
              0.2222222222222222,
              "#7201a8"
             ],
             [
              0.3333333333333333,
              "#9c179e"
             ],
             [
              0.4444444444444444,
              "#bd3786"
             ],
             [
              0.5555555555555556,
              "#d8576b"
             ],
             [
              0.6666666666666666,
              "#ed7953"
             ],
             [
              0.7777777777777778,
              "#fb9f3a"
             ],
             [
              0.8888888888888888,
              "#fdca26"
             ],
             [
              1,
              "#f0f921"
             ]
            ],
            "type": "histogram2dcontour"
           }
          ],
          "mesh3d": [
           {
            "colorbar": {
             "outlinewidth": 0,
             "ticks": ""
            },
            "type": "mesh3d"
           }
          ],
          "parcoords": [
           {
            "line": {
             "colorbar": {
              "outlinewidth": 0,
              "ticks": ""
             }
            },
            "type": "parcoords"
           }
          ],
          "pie": [
           {
            "automargin": true,
            "type": "pie"
           }
          ],
          "scatter": [
           {
            "marker": {
             "colorbar": {
              "outlinewidth": 0,
              "ticks": ""
             }
            },
            "type": "scatter"
           }
          ],
          "scatter3d": [
           {
            "line": {
             "colorbar": {
              "outlinewidth": 0,
              "ticks": ""
             }
            },
            "marker": {
             "colorbar": {
              "outlinewidth": 0,
              "ticks": ""
             }
            },
            "type": "scatter3d"
           }
          ],
          "scattercarpet": [
           {
            "marker": {
             "colorbar": {
              "outlinewidth": 0,
              "ticks": ""
             }
            },
            "type": "scattercarpet"
           }
          ],
          "scattergeo": [
           {
            "marker": {
             "colorbar": {
              "outlinewidth": 0,
              "ticks": ""
             }
            },
            "type": "scattergeo"
           }
          ],
          "scattergl": [
           {
            "marker": {
             "colorbar": {
              "outlinewidth": 0,
              "ticks": ""
             }
            },
            "type": "scattergl"
           }
          ],
          "scattermapbox": [
           {
            "marker": {
             "colorbar": {
              "outlinewidth": 0,
              "ticks": ""
             }
            },
            "type": "scattermapbox"
           }
          ],
          "scatterpolar": [
           {
            "marker": {
             "colorbar": {
              "outlinewidth": 0,
              "ticks": ""
             }
            },
            "type": "scatterpolar"
           }
          ],
          "scatterpolargl": [
           {
            "marker": {
             "colorbar": {
              "outlinewidth": 0,
              "ticks": ""
             }
            },
            "type": "scatterpolargl"
           }
          ],
          "scatterternary": [
           {
            "marker": {
             "colorbar": {
              "outlinewidth": 0,
              "ticks": ""
             }
            },
            "type": "scatterternary"
           }
          ],
          "surface": [
           {
            "colorbar": {
             "outlinewidth": 0,
             "ticks": ""
            },
            "colorscale": [
             [
              0,
              "#0d0887"
             ],
             [
              0.1111111111111111,
              "#46039f"
             ],
             [
              0.2222222222222222,
              "#7201a8"
             ],
             [
              0.3333333333333333,
              "#9c179e"
             ],
             [
              0.4444444444444444,
              "#bd3786"
             ],
             [
              0.5555555555555556,
              "#d8576b"
             ],
             [
              0.6666666666666666,
              "#ed7953"
             ],
             [
              0.7777777777777778,
              "#fb9f3a"
             ],
             [
              0.8888888888888888,
              "#fdca26"
             ],
             [
              1,
              "#f0f921"
             ]
            ],
            "type": "surface"
           }
          ],
          "table": [
           {
            "cells": {
             "fill": {
              "color": "#EBF0F8"
             },
             "line": {
              "color": "white"
             }
            },
            "header": {
             "fill": {
              "color": "#C8D4E3"
             },
             "line": {
              "color": "white"
             }
            },
            "type": "table"
           }
          ]
         },
         "layout": {
          "annotationdefaults": {
           "arrowcolor": "#2a3f5f",
           "arrowhead": 0,
           "arrowwidth": 1
          },
          "coloraxis": {
           "colorbar": {
            "outlinewidth": 0,
            "ticks": ""
           }
          },
          "colorscale": {
           "diverging": [
            [
             0,
             "#8e0152"
            ],
            [
             0.1,
             "#c51b7d"
            ],
            [
             0.2,
             "#de77ae"
            ],
            [
             0.3,
             "#f1b6da"
            ],
            [
             0.4,
             "#fde0ef"
            ],
            [
             0.5,
             "#f7f7f7"
            ],
            [
             0.6,
             "#e6f5d0"
            ],
            [
             0.7,
             "#b8e186"
            ],
            [
             0.8,
             "#7fbc41"
            ],
            [
             0.9,
             "#4d9221"
            ],
            [
             1,
             "#276419"
            ]
           ],
           "sequential": [
            [
             0,
             "#0d0887"
            ],
            [
             0.1111111111111111,
             "#46039f"
            ],
            [
             0.2222222222222222,
             "#7201a8"
            ],
            [
             0.3333333333333333,
             "#9c179e"
            ],
            [
             0.4444444444444444,
             "#bd3786"
            ],
            [
             0.5555555555555556,
             "#d8576b"
            ],
            [
             0.6666666666666666,
             "#ed7953"
            ],
            [
             0.7777777777777778,
             "#fb9f3a"
            ],
            [
             0.8888888888888888,
             "#fdca26"
            ],
            [
             1,
             "#f0f921"
            ]
           ],
           "sequentialminus": [
            [
             0,
             "#0d0887"
            ],
            [
             0.1111111111111111,
             "#46039f"
            ],
            [
             0.2222222222222222,
             "#7201a8"
            ],
            [
             0.3333333333333333,
             "#9c179e"
            ],
            [
             0.4444444444444444,
             "#bd3786"
            ],
            [
             0.5555555555555556,
             "#d8576b"
            ],
            [
             0.6666666666666666,
             "#ed7953"
            ],
            [
             0.7777777777777778,
             "#fb9f3a"
            ],
            [
             0.8888888888888888,
             "#fdca26"
            ],
            [
             1,
             "#f0f921"
            ]
           ]
          },
          "colorway": [
           "#636efa",
           "#EF553B",
           "#00cc96",
           "#ab63fa",
           "#FFA15A",
           "#19d3f3",
           "#FF6692",
           "#B6E880",
           "#FF97FF",
           "#FECB52"
          ],
          "font": {
           "color": "#2a3f5f"
          },
          "geo": {
           "bgcolor": "white",
           "lakecolor": "white",
           "landcolor": "#E5ECF6",
           "showlakes": true,
           "showland": true,
           "subunitcolor": "white"
          },
          "hoverlabel": {
           "align": "left"
          },
          "hovermode": "closest",
          "mapbox": {
           "style": "light"
          },
          "paper_bgcolor": "white",
          "plot_bgcolor": "#E5ECF6",
          "polar": {
           "angularaxis": {
            "gridcolor": "white",
            "linecolor": "white",
            "ticks": ""
           },
           "bgcolor": "#E5ECF6",
           "radialaxis": {
            "gridcolor": "white",
            "linecolor": "white",
            "ticks": ""
           }
          },
          "scene": {
           "xaxis": {
            "backgroundcolor": "#E5ECF6",
            "gridcolor": "white",
            "gridwidth": 2,
            "linecolor": "white",
            "showbackground": true,
            "ticks": "",
            "zerolinecolor": "white"
           },
           "yaxis": {
            "backgroundcolor": "#E5ECF6",
            "gridcolor": "white",
            "gridwidth": 2,
            "linecolor": "white",
            "showbackground": true,
            "ticks": "",
            "zerolinecolor": "white"
           },
           "zaxis": {
            "backgroundcolor": "#E5ECF6",
            "gridcolor": "white",
            "gridwidth": 2,
            "linecolor": "white",
            "showbackground": true,
            "ticks": "",
            "zerolinecolor": "white"
           }
          },
          "shapedefaults": {
           "line": {
            "color": "#2a3f5f"
           }
          },
          "ternary": {
           "aaxis": {
            "gridcolor": "white",
            "linecolor": "white",
            "ticks": ""
           },
           "baxis": {
            "gridcolor": "white",
            "linecolor": "white",
            "ticks": ""
           },
           "bgcolor": "#E5ECF6",
           "caxis": {
            "gridcolor": "white",
            "linecolor": "white",
            "ticks": ""
           }
          },
          "title": {
           "x": 0.05
          },
          "xaxis": {
           "automargin": true,
           "gridcolor": "white",
           "linecolor": "white",
           "ticks": "",
           "title": {
            "standoff": 15
           },
           "zerolinecolor": "white",
           "zerolinewidth": 2
          },
          "yaxis": {
           "automargin": true,
           "gridcolor": "white",
           "linecolor": "white",
           "ticks": "",
           "title": {
            "standoff": 15
           },
           "zerolinecolor": "white",
           "zerolinewidth": 2
          }
         }
        },
        "title": {
         "text": "Comparison of post sentiment and subjectivity over last 24 hours for r/destinythegame vs r/destiny2"
        },
        "xaxis": {
         "anchor": "y",
         "domain": [
          0,
          0.49
         ],
         "title": {
          "text": "sentiment analysis"
         }
        },
        "xaxis2": {
         "anchor": "y2",
         "domain": [
          0.51,
          1
         ],
         "matches": "x",
         "title": {
          "text": "sentiment analysis"
         }
        },
        "yaxis": {
         "anchor": "x",
         "domain": [
          0,
          1
         ],
         "title": {
          "text": "percent of total posts"
         }
        },
        "yaxis2": {
         "anchor": "x2",
         "domain": [
          0,
          1
         ],
         "matches": "y",
         "showticklabels": false
        }
       }
      },
      "text/html": [
       "<div>\n",
       "        \n",
       "        \n",
       "            <div id=\"aa895dbb-5142-49b7-8539-e646315bae0f\" class=\"plotly-graph-div\" style=\"height:525px; width:100%;\"></div>\n",
       "            <script type=\"text/javascript\">\n",
       "                require([\"plotly\"], function(Plotly) {\n",
       "                    window.PLOTLYENV=window.PLOTLYENV || {};\n",
       "                    \n",
       "                if (document.getElementById(\"aa895dbb-5142-49b7-8539-e646315bae0f\")) {\n",
       "                    Plotly.newPlot(\n",
       "                        'aa895dbb-5142-49b7-8539-e646315bae0f',\n",
       "                        [{\"alignmentgroup\": \"True\", \"hoverlabel\": {\"namelength\": 0}, \"hovertemplate\": \"rating=positive polarity<br>subreddit=destinythegame<br>sentiment analysis=%{x}<br>percent of total posts=%{y}\", \"legendgroup\": \"rating=positive polarity\", \"marker\": {\"color\": \"#636efa\"}, \"name\": \"rating=positive polarity\", \"offsetgroup\": \"rating=positive polarity\", \"orientation\": \"v\", \"showlegend\": true, \"textposition\": \"auto\", \"type\": \"bar\", \"x\": [\"polarity\"], \"xaxis\": \"x\", \"y\": [0.7361111111111112], \"yaxis\": \"y\"}, {\"alignmentgroup\": \"True\", \"hoverlabel\": {\"namelength\": 0}, \"hovertemplate\": \"rating=positive polarity<br>subreddit=destiny2<br>sentiment analysis=%{x}<br>percent of total posts=%{y}\", \"legendgroup\": \"rating=positive polarity\", \"marker\": {\"color\": \"#636efa\"}, \"name\": \"rating=positive polarity\", \"offsetgroup\": \"rating=positive polarity\", \"orientation\": \"v\", \"showlegend\": false, \"textposition\": \"auto\", \"type\": \"bar\", \"x\": [\"polarity\"], \"xaxis\": \"x2\", \"y\": [0.7029702970297029], \"yaxis\": \"y2\"}, {\"alignmentgroup\": \"True\", \"hoverlabel\": {\"namelength\": 0}, \"hovertemplate\": \"rating=negative polarity<br>subreddit=destinythegame<br>sentiment analysis=%{x}<br>percent of total posts=%{y}\", \"legendgroup\": \"rating=negative polarity\", \"marker\": {\"color\": \"#EF553B\"}, \"name\": \"rating=negative polarity\", \"offsetgroup\": \"rating=negative polarity\", \"orientation\": \"v\", \"showlegend\": true, \"textposition\": \"auto\", \"type\": \"bar\", \"x\": [\"polarity\"], \"xaxis\": \"x\", \"y\": [0.2638888888888889], \"yaxis\": \"y\"}, {\"alignmentgroup\": \"True\", \"hoverlabel\": {\"namelength\": 0}, \"hovertemplate\": \"rating=negative polarity<br>subreddit=destiny2<br>sentiment analysis=%{x}<br>percent of total posts=%{y}\", \"legendgroup\": \"rating=negative polarity\", \"marker\": {\"color\": \"#EF553B\"}, \"name\": \"rating=negative polarity\", \"offsetgroup\": \"rating=negative polarity\", \"orientation\": \"v\", \"showlegend\": false, \"textposition\": \"auto\", \"type\": \"bar\", \"x\": [\"polarity\"], \"xaxis\": \"x2\", \"y\": [0.297029702970297], \"yaxis\": \"y2\"}, {\"alignmentgroup\": \"True\", \"hoverlabel\": {\"namelength\": 0}, \"hovertemplate\": \"rating=subjective<br>subreddit=destinythegame<br>sentiment analysis=%{x}<br>percent of total posts=%{y}\", \"legendgroup\": \"rating=subjective\", \"marker\": {\"color\": \"#00cc96\"}, \"name\": \"rating=subjective\", \"offsetgroup\": \"rating=subjective\", \"orientation\": \"v\", \"showlegend\": true, \"textposition\": \"auto\", \"type\": \"bar\", \"x\": [\"subjectivity\"], \"xaxis\": \"x\", \"y\": [0.5046296296296297], \"yaxis\": \"y\"}, {\"alignmentgroup\": \"True\", \"hoverlabel\": {\"namelength\": 0}, \"hovertemplate\": \"rating=subjective<br>subreddit=destiny2<br>sentiment analysis=%{x}<br>percent of total posts=%{y}\", \"legendgroup\": \"rating=subjective\", \"marker\": {\"color\": \"#00cc96\"}, \"name\": \"rating=subjective\", \"offsetgroup\": \"rating=subjective\", \"orientation\": \"v\", \"showlegend\": false, \"textposition\": \"auto\", \"type\": \"bar\", \"x\": [\"subjectivity\"], \"xaxis\": \"x2\", \"y\": [0.48514851485148514], \"yaxis\": \"y2\"}, {\"alignmentgroup\": \"True\", \"hoverlabel\": {\"namelength\": 0}, \"hovertemplate\": \"rating=objective<br>subreddit=destinythegame<br>sentiment analysis=%{x}<br>percent of total posts=%{y}\", \"legendgroup\": \"rating=objective\", \"marker\": {\"color\": \"#ab63fa\"}, \"name\": \"rating=objective\", \"offsetgroup\": \"rating=objective\", \"orientation\": \"v\", \"showlegend\": true, \"textposition\": \"auto\", \"type\": \"bar\", \"x\": [\"subjectivity\"], \"xaxis\": \"x\", \"y\": [0.49537037037037035], \"yaxis\": \"y\"}, {\"alignmentgroup\": \"True\", \"hoverlabel\": {\"namelength\": 0}, \"hovertemplate\": \"rating=objective<br>subreddit=destiny2<br>sentiment analysis=%{x}<br>percent of total posts=%{y}\", \"legendgroup\": \"rating=objective\", \"marker\": {\"color\": \"#ab63fa\"}, \"name\": \"rating=objective\", \"offsetgroup\": \"rating=objective\", \"orientation\": \"v\", \"showlegend\": false, \"textposition\": \"auto\", \"type\": \"bar\", \"x\": [\"subjectivity\"], \"xaxis\": \"x2\", \"y\": [0.5148514851485149], \"yaxis\": \"y2\"}],\n",
       "                        {\"annotations\": [{\"font\": {}, \"showarrow\": false, \"text\": \"subreddit=destinythegame\", \"x\": 0.245, \"xanchor\": \"center\", \"xref\": \"paper\", \"y\": 1.0, \"yanchor\": \"bottom\", \"yref\": \"paper\"}, {\"font\": {}, \"showarrow\": false, \"text\": \"subreddit=destiny2\", \"x\": 0.755, \"xanchor\": \"center\", \"xref\": \"paper\", \"y\": 1.0, \"yanchor\": \"bottom\", \"yref\": \"paper\"}], \"barmode\": \"group\", \"legend\": {\"tracegroupgap\": 0}, \"template\": {\"data\": {\"bar\": [{\"error_x\": {\"color\": \"#2a3f5f\"}, \"error_y\": {\"color\": \"#2a3f5f\"}, \"marker\": {\"line\": {\"color\": \"#E5ECF6\", \"width\": 0.5}}, \"type\": \"bar\"}], \"barpolar\": [{\"marker\": {\"line\": {\"color\": \"#E5ECF6\", \"width\": 0.5}}, \"type\": \"barpolar\"}], \"carpet\": [{\"aaxis\": {\"endlinecolor\": \"#2a3f5f\", \"gridcolor\": \"white\", \"linecolor\": \"white\", \"minorgridcolor\": \"white\", \"startlinecolor\": \"#2a3f5f\"}, \"baxis\": {\"endlinecolor\": \"#2a3f5f\", \"gridcolor\": \"white\", \"linecolor\": \"white\", \"minorgridcolor\": \"white\", \"startlinecolor\": \"#2a3f5f\"}, \"type\": \"carpet\"}], \"choropleth\": [{\"colorbar\": {\"outlinewidth\": 0, \"ticks\": \"\"}, \"type\": \"choropleth\"}], \"contour\": [{\"colorbar\": {\"outlinewidth\": 0, \"ticks\": \"\"}, \"colorscale\": [[0.0, \"#0d0887\"], [0.1111111111111111, \"#46039f\"], [0.2222222222222222, \"#7201a8\"], [0.3333333333333333, \"#9c179e\"], [0.4444444444444444, \"#bd3786\"], [0.5555555555555556, \"#d8576b\"], [0.6666666666666666, \"#ed7953\"], [0.7777777777777778, \"#fb9f3a\"], [0.8888888888888888, \"#fdca26\"], [1.0, \"#f0f921\"]], \"type\": \"contour\"}], \"contourcarpet\": [{\"colorbar\": {\"outlinewidth\": 0, \"ticks\": \"\"}, \"type\": \"contourcarpet\"}], \"heatmap\": [{\"colorbar\": {\"outlinewidth\": 0, \"ticks\": \"\"}, \"colorscale\": [[0.0, \"#0d0887\"], [0.1111111111111111, \"#46039f\"], [0.2222222222222222, \"#7201a8\"], [0.3333333333333333, \"#9c179e\"], [0.4444444444444444, \"#bd3786\"], [0.5555555555555556, \"#d8576b\"], [0.6666666666666666, \"#ed7953\"], [0.7777777777777778, \"#fb9f3a\"], [0.8888888888888888, \"#fdca26\"], [1.0, \"#f0f921\"]], \"type\": \"heatmap\"}], \"heatmapgl\": [{\"colorbar\": {\"outlinewidth\": 0, \"ticks\": \"\"}, \"colorscale\": [[0.0, \"#0d0887\"], [0.1111111111111111, \"#46039f\"], [0.2222222222222222, \"#7201a8\"], [0.3333333333333333, \"#9c179e\"], [0.4444444444444444, \"#bd3786\"], [0.5555555555555556, \"#d8576b\"], [0.6666666666666666, \"#ed7953\"], [0.7777777777777778, \"#fb9f3a\"], [0.8888888888888888, \"#fdca26\"], [1.0, \"#f0f921\"]], \"type\": \"heatmapgl\"}], \"histogram\": [{\"marker\": {\"colorbar\": {\"outlinewidth\": 0, \"ticks\": \"\"}}, \"type\": \"histogram\"}], \"histogram2d\": [{\"colorbar\": {\"outlinewidth\": 0, \"ticks\": \"\"}, \"colorscale\": [[0.0, \"#0d0887\"], [0.1111111111111111, \"#46039f\"], [0.2222222222222222, \"#7201a8\"], [0.3333333333333333, \"#9c179e\"], [0.4444444444444444, \"#bd3786\"], [0.5555555555555556, \"#d8576b\"], [0.6666666666666666, \"#ed7953\"], [0.7777777777777778, \"#fb9f3a\"], [0.8888888888888888, \"#fdca26\"], [1.0, \"#f0f921\"]], \"type\": \"histogram2d\"}], \"histogram2dcontour\": [{\"colorbar\": {\"outlinewidth\": 0, \"ticks\": \"\"}, \"colorscale\": [[0.0, \"#0d0887\"], [0.1111111111111111, \"#46039f\"], [0.2222222222222222, \"#7201a8\"], [0.3333333333333333, \"#9c179e\"], [0.4444444444444444, \"#bd3786\"], [0.5555555555555556, \"#d8576b\"], [0.6666666666666666, \"#ed7953\"], [0.7777777777777778, \"#fb9f3a\"], [0.8888888888888888, \"#fdca26\"], [1.0, \"#f0f921\"]], \"type\": \"histogram2dcontour\"}], \"mesh3d\": [{\"colorbar\": {\"outlinewidth\": 0, \"ticks\": \"\"}, \"type\": \"mesh3d\"}], \"parcoords\": [{\"line\": {\"colorbar\": {\"outlinewidth\": 0, \"ticks\": \"\"}}, \"type\": \"parcoords\"}], \"pie\": [{\"automargin\": true, \"type\": \"pie\"}], \"scatter\": [{\"marker\": {\"colorbar\": {\"outlinewidth\": 0, \"ticks\": \"\"}}, \"type\": \"scatter\"}], \"scatter3d\": [{\"line\": {\"colorbar\": {\"outlinewidth\": 0, \"ticks\": \"\"}}, \"marker\": {\"colorbar\": {\"outlinewidth\": 0, \"ticks\": \"\"}}, \"type\": \"scatter3d\"}], \"scattercarpet\": [{\"marker\": {\"colorbar\": {\"outlinewidth\": 0, \"ticks\": \"\"}}, \"type\": \"scattercarpet\"}], \"scattergeo\": [{\"marker\": {\"colorbar\": {\"outlinewidth\": 0, \"ticks\": \"\"}}, \"type\": \"scattergeo\"}], \"scattergl\": [{\"marker\": {\"colorbar\": {\"outlinewidth\": 0, \"ticks\": \"\"}}, \"type\": \"scattergl\"}], \"scattermapbox\": [{\"marker\": {\"colorbar\": {\"outlinewidth\": 0, \"ticks\": \"\"}}, \"type\": \"scattermapbox\"}], \"scatterpolar\": [{\"marker\": {\"colorbar\": {\"outlinewidth\": 0, \"ticks\": \"\"}}, \"type\": \"scatterpolar\"}], \"scatterpolargl\": [{\"marker\": {\"colorbar\": {\"outlinewidth\": 0, \"ticks\": \"\"}}, \"type\": \"scatterpolargl\"}], \"scatterternary\": [{\"marker\": {\"colorbar\": {\"outlinewidth\": 0, \"ticks\": \"\"}}, \"type\": \"scatterternary\"}], \"surface\": [{\"colorbar\": {\"outlinewidth\": 0, \"ticks\": \"\"}, \"colorscale\": [[0.0, \"#0d0887\"], [0.1111111111111111, \"#46039f\"], [0.2222222222222222, \"#7201a8\"], [0.3333333333333333, \"#9c179e\"], [0.4444444444444444, \"#bd3786\"], [0.5555555555555556, \"#d8576b\"], [0.6666666666666666, \"#ed7953\"], [0.7777777777777778, \"#fb9f3a\"], [0.8888888888888888, \"#fdca26\"], [1.0, \"#f0f921\"]], \"type\": \"surface\"}], \"table\": [{\"cells\": {\"fill\": {\"color\": \"#EBF0F8\"}, \"line\": {\"color\": \"white\"}}, \"header\": {\"fill\": {\"color\": \"#C8D4E3\"}, \"line\": {\"color\": \"white\"}}, \"type\": \"table\"}]}, \"layout\": {\"annotationdefaults\": {\"arrowcolor\": \"#2a3f5f\", \"arrowhead\": 0, \"arrowwidth\": 1}, \"coloraxis\": {\"colorbar\": {\"outlinewidth\": 0, \"ticks\": \"\"}}, \"colorscale\": {\"diverging\": [[0, \"#8e0152\"], [0.1, \"#c51b7d\"], [0.2, \"#de77ae\"], [0.3, \"#f1b6da\"], [0.4, \"#fde0ef\"], [0.5, \"#f7f7f7\"], [0.6, \"#e6f5d0\"], [0.7, \"#b8e186\"], [0.8, \"#7fbc41\"], [0.9, \"#4d9221\"], [1, \"#276419\"]], \"sequential\": [[0.0, \"#0d0887\"], [0.1111111111111111, \"#46039f\"], [0.2222222222222222, \"#7201a8\"], [0.3333333333333333, \"#9c179e\"], [0.4444444444444444, \"#bd3786\"], [0.5555555555555556, \"#d8576b\"], [0.6666666666666666, \"#ed7953\"], [0.7777777777777778, \"#fb9f3a\"], [0.8888888888888888, \"#fdca26\"], [1.0, \"#f0f921\"]], \"sequentialminus\": [[0.0, \"#0d0887\"], [0.1111111111111111, \"#46039f\"], [0.2222222222222222, \"#7201a8\"], [0.3333333333333333, \"#9c179e\"], [0.4444444444444444, \"#bd3786\"], [0.5555555555555556, \"#d8576b\"], [0.6666666666666666, \"#ed7953\"], [0.7777777777777778, \"#fb9f3a\"], [0.8888888888888888, \"#fdca26\"], [1.0, \"#f0f921\"]]}, \"colorway\": [\"#636efa\", \"#EF553B\", \"#00cc96\", \"#ab63fa\", \"#FFA15A\", \"#19d3f3\", \"#FF6692\", \"#B6E880\", \"#FF97FF\", \"#FECB52\"], \"font\": {\"color\": \"#2a3f5f\"}, \"geo\": {\"bgcolor\": \"white\", \"lakecolor\": \"white\", \"landcolor\": \"#E5ECF6\", \"showlakes\": true, \"showland\": true, \"subunitcolor\": \"white\"}, \"hoverlabel\": {\"align\": \"left\"}, \"hovermode\": \"closest\", \"mapbox\": {\"style\": \"light\"}, \"paper_bgcolor\": \"white\", \"plot_bgcolor\": \"#E5ECF6\", \"polar\": {\"angularaxis\": {\"gridcolor\": \"white\", \"linecolor\": \"white\", \"ticks\": \"\"}, \"bgcolor\": \"#E5ECF6\", \"radialaxis\": {\"gridcolor\": \"white\", \"linecolor\": \"white\", \"ticks\": \"\"}}, \"scene\": {\"xaxis\": {\"backgroundcolor\": \"#E5ECF6\", \"gridcolor\": \"white\", \"gridwidth\": 2, \"linecolor\": \"white\", \"showbackground\": true, \"ticks\": \"\", \"zerolinecolor\": \"white\"}, \"yaxis\": {\"backgroundcolor\": \"#E5ECF6\", \"gridcolor\": \"white\", \"gridwidth\": 2, \"linecolor\": \"white\", \"showbackground\": true, \"ticks\": \"\", \"zerolinecolor\": \"white\"}, \"zaxis\": {\"backgroundcolor\": \"#E5ECF6\", \"gridcolor\": \"white\", \"gridwidth\": 2, \"linecolor\": \"white\", \"showbackground\": true, \"ticks\": \"\", \"zerolinecolor\": \"white\"}}, \"shapedefaults\": {\"line\": {\"color\": \"#2a3f5f\"}}, \"ternary\": {\"aaxis\": {\"gridcolor\": \"white\", \"linecolor\": \"white\", \"ticks\": \"\"}, \"baxis\": {\"gridcolor\": \"white\", \"linecolor\": \"white\", \"ticks\": \"\"}, \"bgcolor\": \"#E5ECF6\", \"caxis\": {\"gridcolor\": \"white\", \"linecolor\": \"white\", \"ticks\": \"\"}}, \"title\": {\"x\": 0.05}, \"xaxis\": {\"automargin\": true, \"gridcolor\": \"white\", \"linecolor\": \"white\", \"ticks\": \"\", \"title\": {\"standoff\": 15}, \"zerolinecolor\": \"white\", \"zerolinewidth\": 2}, \"yaxis\": {\"automargin\": true, \"gridcolor\": \"white\", \"linecolor\": \"white\", \"ticks\": \"\", \"title\": {\"standoff\": 15}, \"zerolinecolor\": \"white\", \"zerolinewidth\": 2}}}, \"title\": {\"text\": \"Comparison of post sentiment and subjectivity over last 24 hours for r/destinythegame vs r/destiny2\"}, \"xaxis\": {\"anchor\": \"y\", \"domain\": [0.0, 0.49], \"title\": {\"text\": \"sentiment analysis\"}}, \"xaxis2\": {\"anchor\": \"y2\", \"domain\": [0.51, 1.0], \"matches\": \"x\", \"title\": {\"text\": \"sentiment analysis\"}}, \"yaxis\": {\"anchor\": \"x\", \"domain\": [0.0, 1.0], \"title\": {\"text\": \"percent of total posts\"}}, \"yaxis2\": {\"anchor\": \"x2\", \"domain\": [0.0, 1.0], \"matches\": \"y\", \"showticklabels\": false}},\n",
       "                        {\"responsive\": true}\n",
       "                    ).then(function(){\n",
       "                            \n",
       "var gd = document.getElementById('aa895dbb-5142-49b7-8539-e646315bae0f');\n",
       "var x = new MutationObserver(function (mutations, observer) {{\n",
       "        var display = window.getComputedStyle(gd).display;\n",
       "        if (!display || display === 'none') {{\n",
       "            console.log([gd, 'removed!']);\n",
       "            Plotly.purge(gd);\n",
       "            observer.disconnect();\n",
       "        }}\n",
       "}});\n",
       "\n",
       "// Listen for the removal of the full notebook cells\n",
       "var notebookContainer = gd.closest('#notebook-container');\n",
       "if (notebookContainer) {{\n",
       "    x.observe(notebookContainer, {childList: true});\n",
       "}}\n",
       "\n",
       "// Listen for the clearing of the current output cell\n",
       "var outputEl = gd.closest('.output');\n",
       "if (outputEl) {{\n",
       "    x.observe(outputEl, {childList: true});\n",
       "}}\n",
       "\n",
       "                        })\n",
       "                };\n",
       "                });\n",
       "            </script>\n",
       "        </div>"
      ]
     },
     "metadata": {},
     "output_type": "display_data"
    }
   ],
   "source": [
    "df = get_submissions_df(\"destinythegame\", after = \"1d\", size = 500)\n",
    "df2 = get_submissions_df(\"destiny2\", after = \"1d\", size = 500)\n",
    "#dfraid = get_submissions_df(\"raidsecrets\", after = \"1d\", size = 500)\n",
    "#dfcrucible = get_submissions_df(\"crucibleplaybook\", after = \"1d\", size = 500)\n",
    "\n",
    "df3 = df.append(df2)\n",
    "\n",
    "fig1 = px.scatter(df, \n",
    "                  x='date',\n",
    "                  y='polarity',\n",
    "                 hover_data=[\"author\", \"id\"],\n",
    "                marginal_x='histogram',\n",
    "               color_discrete_sequence=[\"violet\", \"lightslategrey\"], # colors to use\n",
    "               color=\"sentiment\", # what should the color depend on?\n",
    "               size=\"num_comments\", # the more votes, the bigger the circle\n",
    "               #size_max=10, # not too big\n",
    "               labels={\"polarity\": \"Post Polarity\", \"date\": \"Date Posted\"}, # axis names\n",
    "               title=f\"Sentiment analysis of r/destinythegame posts from previous 24 hours\", # title of figure\n",
    " )\n",
    "\n",
    "fig2 = px.scatter(df2, \n",
    "                  x='date',\n",
    "                  y='polarity',\n",
    "                 hover_data=[\"author\", \"id\"],\n",
    "                marginal_x='histogram',\n",
    "               color_discrete_sequence=[\"violet\", \"lightslategrey\"], # colors to use\n",
    "               color=\"sentiment\", # what should the color depend on?\n",
    "               size=\"num_comments\", # the more votes, the bigger the circle\n",
    "               #size_max=10, # not too big\n",
    "               labels={\"polarity\": \"Post Polarity\", \"date\": \"Date Posted\"}, # axis names\n",
    "               title=f\"Sentiment analysis of r/destiny2 posts from previous 24 hours\", # title of figure\n",
    " )\n",
    "\n",
    "\n",
    "\n",
    "\n",
    "fig3 = px.scatter(df3, \n",
    "                  x='date',\n",
    "                  y='polarity',\n",
    "                 hover_data=['subreddit', \"id\"],\n",
    "                marginal_x='histogram',\n",
    "               color_discrete_sequence=[\"blue\", \"green\"], # colors to use\n",
    "               color=\"subreddit\", # what should the color depend on?\n",
    "               #size=\"num_comments\", # the more votes, the bigger the circle\n",
    "               #size_max=10, # not too big\n",
    "               labels={\"polarity\": \"Post Polarity\", \"date\": \"Date Posted\"},\n",
    "                  category_orders = {'subreddit': ['DestinyTheGame', 'Destiny2']},\n",
    "                  facet_col = 'subreddit',\n",
    "               title=f\"r/destinythegame vs r/destiny2 posts from previous 24 hours\", # title of figure\n",
    " )\n",
    "\n",
    "\n",
    "# bargraph showing percentage of posts postive and negative, objective and subjective, for dtg and destiny2\n",
    "labels = ['+polarity %', '-polarity %', 'subjective %', 'objective %']\n",
    "dtg0 = [len(df[df.polarity >= 0]) / len(df), len(df[df.polarity < 0])/len(df), len(df[df.subjectivity >= .5])/len(df),\n",
    "      len(df[df.subjectivity < .5])/len(df)]\n",
    "d20 = [len(df2[df2.polarity >= 0]) / len(df2), len(df2[df2.polarity < 0])/len(df2), len(df2[df2.subjectivity >= .5])/len(df2),\n",
    "      len(df2[df2.subjectivity < .5])/len(df2)]\n",
    "dtg = dict(zip(labels, dtg0))\n",
    "d2 = dict(zip(labels,d20))\n",
    "\n",
    "labels2 = ['subreddit', 'rating', 'polarity/subjectvity', 'percent']\n",
    "df4list = [dict(zip(labels2,['destinythegame', 'positive polarity', 'polarity', dtg0[0]])),\n",
    "           dict(zip(labels2,['destinythegame', 'negative polarity', 'polarity', dtg0[1]])),\n",
    "           dict(zip(labels2,['destinythegame', 'subjective', 'subjectivity', dtg0[2]])),\n",
    "           dict(zip(labels2,['destinythegame', 'objective', 'subjectivity', dtg0[3]])),\n",
    "           dict(zip(labels2,['destiny2', 'positive polarity', 'polarity', d20[0]])),\n",
    "           dict(zip(labels2,['destiny2', 'negative polarity', 'polarity', d20[1]])),\n",
    "           dict(zip(labels2,['destiny2', 'subjective', 'subjectivity', d20[2]])),\n",
    "           dict(zip(labels2,['destiny2', 'objective', 'subjectivity', d20[3]]))\n",
    "        ]\n",
    "\n",
    "\n",
    "df4 = pd.DataFrame(df4list)\n",
    "fig4 = px.bar(df4, x='polarity/subjectvity',\n",
    "              y ='percent',\n",
    "              color='rating',\n",
    "              barmode='group',\n",
    "              category_orders = {'subreddit': ['DestinyTheGame', 'Destiny2']},\n",
    "              labels={'percent':'percent of total posts', 'polarity/subjectvity': 'sentiment analysis'},\n",
    "              facet_col = 'subreddit',\n",
    "             title='Comparison of post sentiment and subjectivity over last 24 hours for r/destinythegame vs r/destiny2')\n",
    "\n",
    "fig1.show()\n",
    "fig2.show()\n",
    "fig3.show()\n",
    "fig4.show()"
   ]
  },
  {
   "cell_type": "markdown",
   "metadata": {},
   "source": [
    "## Sentiment Analysis of Posts for Last 30 Days of Selected Subreddit\n",
    "**WARNING: THIS CHART TAKES A LONG TIME TO LOAD FOR CERTAIN SUBREDDITS**\n",
    "\n",
    "This shows all the posts from the last 30 days of a selected subreddit, and plots the\n",
    "posts by their polarity. The size of the dots represents the number of comments on each post.\n",
    "This way you can see how well postive and negative posts do at attracting commentors.\n",
    "\n",
    "The bar chart looking thing on top is a histogram. It shows total number of positive posts versus total\n",
    "number of negative posts for the section of time represented by the area directly under each bar."
   ]
  },
  {
   "cell_type": "code",
   "execution_count": 35,
   "metadata": {},
   "outputs": [
    {
     "data": {
      "application/vnd.jupyter.widget-view+json": {
       "model_id": "e9a23245c2ab4efcb4a4c2681ca04652",
       "version_major": 2,
       "version_minor": 0
      },
      "text/plain": [
       "interactive(children=(ToggleButtons(button_style='success', description='Load Chart?', options=(('Off', False)…"
      ]
     },
     "metadata": {},
     "output_type": "display_data"
    },
    {
     "data": {
      "application/vnd.jupyter.widget-view+json": {
       "model_id": "e594597ca1074387b95472e8aad0e171",
       "version_major": 2,
       "version_minor": 0
      },
      "text/plain": [
       "Output(layout=Layout(border='4px solid black'))"
      ]
     },
     "metadata": {},
     "output_type": "display_data"
    }
   ],
   "source": [
    "#####OUTPUT 1#####\n",
    "#functions---------------------\n",
    "def sub_data(subreddit, days=30):\n",
    "    bar = progbar(range(0,31), desc='progress')\n",
    "    i = 2\n",
    "    j = 1\n",
    "    df = get_submissions_df(subreddit, after = '1d', size = 500)\n",
    "    bar.update(1)\n",
    "    while i <= days:\n",
    "        temp = get_submissions_df(subreddit, after = ''+str(i)+'d',before=''+str(j)+'d', size = 500)\n",
    "        if temp is None:\n",
    "            continue\n",
    "        df = df.append(temp)\n",
    "        i += 1\n",
    "        j += 1\n",
    "        bar.update(1)\n",
    "    fig = px.scatter(df, \n",
    "                  x='date',\n",
    "                  y='polarity',\n",
    "                 hover_data=[\"author\", \"id\"],\n",
    "                marginal_x='histogram',\n",
    "               color_discrete_sequence=[\"violet\", \"lightslategrey\"], # colors to use\n",
    "               color=\"sentiment\", # what should the color depend on?\n",
    "               size=\"num_comments\", # the more votes, the bigger the circle\n",
    "               #size_max=10, # not too big\n",
    "               labels={\"polarity\": \"Post Polarity\", \"date\": \"Date Posted\"}, # axis names\n",
    "               title=f\"Sentiment analysis of r/\"+subreddit+\" \"+\"last \" + str(days) + \" days\", # title of figure\n",
    "                 )\n",
    "    bar.update(1)\n",
    "    return fig.show()\n",
    "\n",
    "\n",
    "\n",
    "def display_out1(x=False):\n",
    "    if x:\n",
    "        with out1:\n",
    "            o = widgets.interactive(sub_data, subreddit=subreddit_select_widget, days=widgets.fixed(30))\n",
    "            display(o)\n",
    "    else:\n",
    "        out1.clear_output()\n",
    "        \n",
    "#widgets------------------------\n",
    "subreddit_select_widget = widgets.RadioButtons(\n",
    "    options=['destinythegame', 'destiny2', 'lowsodiumdestiny', 'raidsecrets', 'crucibleplaybook'],\n",
    "    value = 'destinythegame',\n",
    "    description='subreddit',\n",
    "    disabled=False)\n",
    "\n",
    "out1 = widgets.Output(layout={'border': '4px solid black'})\n",
    "\n",
    "wout1 = widgets.ToggleButtons( options=[('Off', False),('On',True)],\n",
    "                          description='Load Chart?',\n",
    "                          disabled=False,\n",
    "                          button_style='success')\n",
    "\n",
    "\n",
    "#display-------------------------\n",
    "widgets.interact(display_out1, x=wout1)\n",
    "display(out1)"
   ]
  },
  {
   "cell_type": "markdown",
   "metadata": {},
   "source": [
    "## Compare last 500 post from selected subreddits\n",
    "Hit \"On\" to load the widget and select a different subreddit from either one of the\n",
    "selection boxs to cause the chart to display."
   ]
  },
  {
   "cell_type": "code",
   "execution_count": 29,
   "metadata": {},
   "outputs": [
    {
     "data": {
      "application/vnd.jupyter.widget-view+json": {
       "model_id": "afd31fe9643e4be39bd4aa9f107ac941",
       "version_major": 2,
       "version_minor": 0
      },
      "text/plain": [
       "interactive(children=(ToggleButtons(button_style='success', description='Load Chart?', options=(('Off', False)…"
      ]
     },
     "metadata": {},
     "output_type": "display_data"
    },
    {
     "data": {
      "application/vnd.jupyter.widget-view+json": {
       "model_id": "c3e0251cb62642aaa78bce290843b23d",
       "version_major": 2,
       "version_minor": 0
      },
      "text/plain": [
       "Output(layout=Layout(border='4px solid blue'))"
      ]
     },
     "metadata": {},
     "output_type": "display_data"
    }
   ],
   "source": [
    "#####Output 2#####\n",
    "\n",
    "#functions---------------------\n",
    "    \n",
    "def compare_subreddit_last_500_sidebyside(one,two):\n",
    "    bar = progbar(range(0,5), desc='progress')\n",
    "    count = 10\n",
    "    dflist = []\n",
    "    subs = [one,two]\n",
    "    #get posts for subs\n",
    "    for sub in subs:\n",
    "        i = 1\n",
    "        j = 0\n",
    "        x = 0\n",
    "        df = get_submissions_df(sub, after = '1d', size = 500)\n",
    "        while df is None:\n",
    "            i+=1\n",
    "            j+=1\n",
    "            df = get_submissions_df(sub, after = str(i)+'d', before=str(j)+'d', size = 500)\n",
    "            print('df was none ' + str(sub) +' ' + 'i= '+ str(i) + ' j = '+str(j))\n",
    "        x = len(df)\n",
    "        \n",
    "        if x > count:\n",
    "            df = df[:500]\n",
    "        else:\n",
    "            while x < count and i < count:\n",
    "                if i == count-1:\n",
    "                    print(\"i got to count\")\n",
    "                    return None\n",
    "                i+=1\n",
    "                j+=1\n",
    "                temp = get_submissions_df(sub, after = str(i)+'d', before=str(j)+'d', size = 500)\n",
    "                while temp is None:\n",
    "                    i+=1\n",
    "                    j+=1\n",
    "                    temp = get_submissions_df(sub, after = str(i)+'d', before=str(j)+'d', size = 500)\n",
    "                size = len(temp)\n",
    "                if (x + size) < count:\n",
    "                    df.append(temp)\n",
    "                    x += size\n",
    "                else:\n",
    "                    rest = count - x\n",
    "                    df.append(temp[:rest])\n",
    "                    x = 1000\n",
    "        #get polarity for sub:\n",
    "        bar.update(1)\n",
    "        measures = [len(df[df.polarity >= 0]) / len(df), len(df[df.polarity < 0])/len(df),\n",
    "                    len(df[df.subjectivity >= .5])/len(df),\n",
    "                    len(df[df.subjectivity < .5])/len(df)]\n",
    "        labels = ['subreddit', 'rating', 'polarity/subjectvity', 'percent']\n",
    "        templist = [dict(zip(labels,[sub, 'positive polarity', 'polarity', measures[0]])),\n",
    "               dict(zip(labels,[sub, 'negative polarity', 'polarity', measures[1]])),\n",
    "               dict(zip(labels,[sub, 'subjective', 'subjectivity', measures[2]])),\n",
    "               dict(zip(labels,[sub, 'objective', 'subjectivity', measures[3]]))]\n",
    "        for thing in templist:\n",
    "            dflist.append(thing)\n",
    "        bar.update(1)\n",
    "    #convert dataframe\n",
    "    df = pd.DataFrame(dflist)\n",
    "    fig = px.bar(df, x='polarity/subjectvity',\n",
    "              y ='percent',\n",
    "              color='rating',\n",
    "              barmode='group',\n",
    "              category_orders = {'subreddit': ['destinythegame','destiny2', 'lowsodiumdestiny',\n",
    "                                               'raidsecrets', 'crucibleplaybook']},\n",
    "              labels = {'percent':'percent of total posts', 'polarity/subjectvity': 'sentiment analysis'},\n",
    "              facet_col = 'subreddit',\n",
    "             title='Comparison of post sentiment and subjectivity over last 500 posts for various destiny subreddits')\n",
    "    bar.update(1)\n",
    "    fig.show()\n",
    "    \n",
    "\n",
    "def display_out2(x=False):\n",
    "    if x:\n",
    "        with out2:\n",
    "            o = widgets.interactive(compare_subreddit_last_500_sidebyside,\n",
    "                                           one=toggle_subs1, two=toggle_subs2)\n",
    "            display(o)\n",
    "    else:\n",
    "        out2.clear_output()\n",
    "\n",
    "#widgets---------------------------------------------------\n",
    "out2 = widgets.Output(layout={'border': '4px solid blue'})\n",
    "\n",
    "\n",
    "toggle_subs1 = widgets.Dropdown( options=[('DestinyTheGame', 'destinythegame'),\n",
    "                                               ('Destiny2', 'destiny2'),\n",
    "                                               ('LowSodiumDestiny', 'lowsodiumdestiny'),\n",
    "                                              ('RaidSecrets', 'raidsecrets'),\n",
    "                                              ('CruciblePlaybook', 'crucibleplaybook')],\n",
    "                                value='destinythegame',\n",
    "                          description='Subreddit 1',\n",
    "                          disabled=False)\n",
    "\n",
    "toggle_subs2 = widgets.Dropdown( options=[('DestinyTheGame', 'destinythegame'),\n",
    "                                               ('Destiny2', 'destiny2'),\n",
    "                                               ('LowSodiumDestiny', 'lowsodiumdestiny'),\n",
    "                                              ('RaidSecrets', 'raidsecrets'),\n",
    "                                              ('CruciblePlaybook', 'crucibleplaybook')],\n",
    "                          description='Subreddit 2',\n",
    "                            value = 'destiny2',\n",
    "                          disabled=False)\n",
    "\n",
    "\n",
    "\n",
    "wout2 = widgets.ToggleButtons( options=[('Off', False),('On',True)],\n",
    "                          description='Load Chart?',\n",
    "                          disabled=False,\n",
    "                          button_style='success')\n",
    "\n",
    "\n",
    "\n",
    "#output-------------------------------------\n",
    "widgets.interact(display_out2, x=wout2)\n",
    "\n",
    "display(out2)\n"
   ]
  },
  {
   "cell_type": "code",
   "execution_count": 10,
   "metadata": {},
   "outputs": [
    {
     "data": {
      "application/vnd.jupyter.widget-view+json": {
       "model_id": "e5f8b20793ae4b4098f434fb40e5639a",
       "version_major": 2,
       "version_minor": 0
      },
      "text/plain": [
       "Output(layout=Layout(border='4px solid blue'))"
      ]
     },
     "metadata": {},
     "output_type": "display_data"
    }
   ],
   "source": [
    "out2 = widgets.Output(layout={'border': '4px solid blue'})\n",
    "out2\n"
   ]
  },
  {
   "cell_type": "code",
   "execution_count": 20,
   "metadata": {},
   "outputs": [
    {
     "data": {
      "application/vnd.jupyter.widget-view+json": {
       "model_id": "58d59f56dc3a488b8775476dc9f56b73",
       "version_major": 2,
       "version_minor": 0
      },
      "text/plain": [
       "HBox(children=(FloatProgress(value=0.0, description='test', max=10.0, style=ProgressStyle(description_width='i…"
      ]
     },
     "metadata": {},
     "output_type": "display_data"
    }
   ],
   "source": [
    "a = progbar(range(0,10), desc='test')\n",
    "for x in range(0,10):\n",
    "    a.update(1)\n",
    "    time.sleep(.5)"
   ]
  },
  {
   "cell_type": "markdown",
   "metadata": {},
   "source": [
    "# About\n",
    "\n",
    "## Why?\n",
    "Well I noticed we have all kinds of nice tools to analyze in-game stats, but I didn't know of any tools to analyze\n",
    "the destiny community itself outside of the game. So I figured I'd play around with what I know and build up a set of\n",
    "tools that can be used to examine different aspects of the community starting with the destiny subreddits. \n",
    "\n",
    "This is currently just a quick demo to get it up and running,  but I hope to soon (before the end of January) have features that allow for customized search and data analysis of different aspects of the subreddit. This will be my first time creating something like this so any feedback or feature requests would be appreciated.\n",
    "\n",
    "## Things I'd like to add soon\n",
    "\n",
    "- Charts showing # pvp-focused posts vs # pve focused posts over time\n",
    "- User search to see stats about a users various posting habits, overall attitute (pos or negative), favorite curse words, favorite day to post, posts / comments per subreddit,  and whatever else people can think of that they might want\n",
    "- Post features most likely to get a bungie response (pvp or pve focused, specific words, time of post, etc)\n",
    "- Whatever else I can think up or is suggested to me\n",
    "\n",
    "## How it works\n",
    "\n",
    "This is all done using python and jupyter notebooks with Viola to create a dashboard from the notebook and\n",
    "Binder to deploy it to the web using github.\n",
    "\n",
    "### Libraries and Packages\n",
    "\n",
    "- **numpy** - matrix creation\n",
    "- **pandas** - data manipulation and cleaning\n",
    "- **requests** - accessing apis\n",
    "- **plotly** - creation of interactive plots\n",
    "- **textblob** - sentiment analysis of posts and comments\n",
    "- **voila** - creation of standalone web apps from jupyter notebooks [link](https://github.com/voila-dashboards/voila)\n",
    "- **ipywidgets** - widget creation\n",
    "\n",
    "### APIs\n",
    "**pushshift** - accesing reddit data [link](https://github.com/pushshift/api)\n",
    "\n",
    "### Servives\n",
    "**binder** - turn github repo into interactive notebook environment [link](https://mybinder.org/)\n",
    "\n",
    "\n",
    "## Contact Me\n",
    "\n",
    "Send complaints and suggestions to destiny_sub_analyzer@gmx.com"
   ]
  },
  {
   "cell_type": "code",
   "execution_count": null,
   "metadata": {},
   "outputs": [],
   "source": [
    "#to-do : create a widget for each graph so that you can enter an id number and get the full text of the post or comment"
   ]
  }
 ],
 "metadata": {
  "kernelspec": {
   "display_name": "Python 3",
   "language": "python",
   "name": "python3"
  },
  "language_info": {
   "codemirror_mode": {
    "name": "ipython",
    "version": 3
   },
   "file_extension": ".py",
   "mimetype": "text/x-python",
   "name": "python",
   "nbconvert_exporter": "python",
   "pygments_lexer": "ipython3",
   "version": "3.7.5"
  }
 },
 "nbformat": 4,
 "nbformat_minor": 2
}
