{
 "cells": [
  {
   "cell_type": "markdown",
   "metadata": {},
   "source": [
    "[banner]: b1.png\n",
    "![banner]"
   ]
  },
  {
   "cell_type": "markdown",
   "metadata": {},
   "source": [
    "# Welcome to Destiny Subreddit Analyzer\n",
    "\n",
    "## How it works\n",
    "Below you will find a few a few charts already displayed, with the rest hidden behind switches that allow you to toggle the informational charts on and off. This is done because some charts take a minute or longer to load, and its easier to load the ones you want to look at one at a time rather than all at once. Some of these charts will allow you to adjust their input using widgets; these widgets will display after you select to turn a chart \"On\".\n",
    "\n",
    "For charts which allow you to change the input parameters, please be patient with it as the charts have to load again with the new parameters. It'll keep displaying the old chart until the new one is finished loading, at which point it will switch the chart to the new one. "
   ]
  },
  {
   "cell_type": "code",
   "execution_count": 1,
   "metadata": {},
   "outputs": [],
   "source": [
    "#imports\n",
    "import json\n",
    "import requests\n",
    "import pandas as pd\n",
    "from textblob import TextBlob\n",
    "from textblob.sentiments import NaiveBayesAnalyzer\n",
    "import numpy as np\n",
    "import plotly.express as px\n",
    "import ipywidgets as widgets"
   ]
  },
  {
   "cell_type": "code",
   "execution_count": 180,
   "metadata": {},
   "outputs": [],
   "source": [
    "#functions\n",
    "\n",
    "def jprint(obj):\n",
    "    # create a formatted string of the Python JSON object\n",
    "    text = json.dumps(obj, sort_keys=True, indent=4)\n",
    "    print(text)\n",
    "    \n",
    "def format_comment(text):\n",
    "    l = text.split()\n",
    "    n = len(l)\n",
    "    i=1\n",
    "    result = l[0]\n",
    "    while i < n:\n",
    "        result = result + ' ' + l[i]\n",
    "        if (n % 20) == 0:\n",
    "            result = result + '\\n'\n",
    "        i += 1\n",
    "    return result\n",
    "\n",
    "def get_top_5_submissions():\n",
    "    #returns a list of dictionaries each reresenting 1 of the top 5 submissions from dtg from last day\n",
    "    submission_url = \"https://api.pushshift.io/reddit/search/submission/\"\n",
    "    paramdict = {'after': \"1d\", \"sort_type\":\"num_comments\",\"subreddit\":\"destinythegame\",\"size\":5, \"sort\":\"desc\"}\n",
    "    response = requests.get(url=submission_url, params= paramdict).json()\n",
    "    response_data = response[\"data\"]\n",
    "    results = []\n",
    "    for x in response_data:\n",
    "        temp = {}\n",
    "        temp[\"title\"]=x[\"title\"]\n",
    "        temp[\"author\"]=x[\"author\"]\n",
    "        temp[\"url\"] = x[\"url\"]\n",
    "        temp[\"num_comments\"]=x[\"num_comments\"]\n",
    "        temp[\"id\"]=x[\"id\"]\n",
    "        comment_json = requests.get('https://api.pushshift.io/reddit/submission/comment_ids/{}'.format(x[\"id\"])).json()\n",
    "        comment_array = comment_json['data']\n",
    "        temp['comment_ids']=comment_array\n",
    "        results.append(temp)\n",
    "    return results\n",
    "\n",
    "def get_submissions(**kwrgs):\n",
    "    #returns a list of dictionaries each reresenting 1 of the top 5 submissions from dtg from last day\n",
    "    submission_url = \"https://api.pushshift.io/reddit/search/submission/\"\n",
    "    response = requests.get(url=submission_url, params=kwargs).json()\n",
    "    response_data = response[\"data\"]\n",
    "    return response_data\n",
    "\n",
    "def get_comments(**kwrgs):\n",
    "    #returns a list of dictionaries each reresenting 1 of the top 5 submissions from dtg from last day\n",
    "    submission_url = \"https://api.pushshift.io/reddit/search/comment/\"\n",
    "    response = requests.get(url=submission_url, params=kwargs).json()\n",
    "    response_data = response[\"data\"]\n",
    "    return response_data\n",
    "\n",
    "\n",
    "def get_comments_from_ids(comment_id_array):\n",
    "    #returns a list of comments in string form seperated by \",\" for a set of comment ids\n",
    "    comment_url = \"https://api.pushshift.io/reddit/search/comment/\"\n",
    "    params_dict = {\"ids\": \", \".join(str(x) for x in comment_id_array), \"fields\":\"body\"}\n",
    "    result = requests.get(url=comment_url, params=params_dict).json()\n",
    "    data = result['data']\n",
    "    final_result  = []\n",
    "    for x in data:\n",
    "        final_result.append(x[\"body\"])\n",
    "    return final_result\n",
    "\n",
    "def analyze_comment(comment):\n",
    "    #returns a list containing a comment, its polarity, and subjectvity\n",
    "    blob = TextBlob(comment)\n",
    "    polarity, subjectivity = blob.sentiment\n",
    "    return polarity, subjectivity\n",
    "\n",
    "def daily_submissions():\n",
    "    #returns a list of dictionaries each reresenting 1 of the top 5 submissions from dtg from last day\n",
    "    submission_url = \"https://api.pushshift.io/reddit/search/submission/\"\n",
    "    paramdict = {'after': \"1d\",\"subreddit\":\"destinythegame\"}\n",
    "    response = requests.get(url=submission_url, params= paramdict).json()\n",
    "    response_data = response[\"data\"]\n",
    "    results = []\n",
    "    for x in response_data:\n",
    "        temp = {}\n",
    "        temp[\"title\"]=x[\"title\"].strip()\n",
    "        temp[\"author\"]=x[\"author\"].strip()\n",
    "        temp[\"url\"] = x[\"url\"].strip()\n",
    "        temp[\"num_comments\"]=x[\"num_comments\"]\n",
    "        temp[\"id\"]=x[\"id\"].strip()\n",
    "        temp['text'] = x['selftext'].strip()\n",
    "        results.append(temp)\n",
    "    return results\n",
    "\n",
    "def text_splitter(text):\n",
    "    l = text.split()\n",
    "    n = len(l)\n",
    "    i = 0\n",
    "    x = 1\n",
    "    results = {'results1':'', 'results2':'', 'results3':'', 'results4':''}\n",
    "    while i < n:\n",
    "        if (n- i) >= 20:\n",
    "            r = 'results'+str(x)\n",
    "            results[r]=' '.join(l[i:i+20])\n",
    "            i = i+20\n",
    "            x += 1\n",
    "        else:\n",
    "            r = 'results'+str(x)\n",
    "            results[r]= ' '.join(l[i:i+(n-i)])\n",
    "            break\n",
    "    return results['results1'], results['results2'], results['results3'], results['results4']\n",
    "         \n",
    "\n",
    "def get_submissions_df(subreddit, **kwargs):\n",
    "    #returns a list of dictionaries each reresenting 1 of the top 5 submissions from dtg from last day\n",
    "    submission_url = \"https://api.pushshift.io/reddit/search/submission/\"\n",
    "    kwargs['subreddit']=subreddit\n",
    "    response = requests.get(url=submission_url, params=kwargs).json()\n",
    "    response_data = response[\"data\"]\n",
    "    results = []\n",
    "    for x in response_data:\n",
    "        try:\n",
    "            if isinstance(x['selftext'], str):\n",
    "                temp = {}\n",
    "                temp[\"title\"]=x[\"title\"].strip()\n",
    "                temp[\"author\"]=x[\"author\"].strip()\n",
    "                temp[\"url\"] = x[\"url\"].strip()\n",
    "                temp[\"num_comments\"]=x[\"num_comments\"]\n",
    "                temp[\"id\"]=x[\"id\"].strip()\n",
    "                temp['text'] = x['selftext'].strip()\n",
    "                temp['post_length'] = len(x['selftext'].split())\n",
    "                temp['date'] = pd.to_datetime(x['created_utc'], unit='s')\n",
    "                results.append(temp)\n",
    "        except:\n",
    "            pass\n",
    "    df = pd.DataFrame.from_dict(results)\n",
    "    df = df[df.text != '[removed]']\n",
    "    df = df[df.post_length > 10]\n",
    "    df['polarity'], df['subjectivity'] = zip(*df['text'].map(analyze_comment))\n",
    "    df['sentiment'] = df.apply(lambda x: 'positive' if x['polarity'] > 0 else 'negative', axis=1)\n",
    "    df['subreddit'] = subreddit\n",
    "    return df\n",
    "\n",
    "def get_submissions_df_handles_none(subreddit, **kwargs):\n",
    "    #returns a list of dictionaries each reresenting 1 of the top 5 submissions from dtg from last day\n",
    "    submission_url = \"https://api.pushshift.io/reddit/search/submission/\"\n",
    "    kwargs['subreddit']=subreddit\n",
    "    response = requests.get(url=submission_url, params=kwargs).json()\n",
    "    response_data = response[\"data\"]\n",
    "    if len(response_data) < 1:\n",
    "        print(response_data)\n",
    "        return None\n",
    "    results = []\n",
    "    for x in response_data:\n",
    "        try:\n",
    "            if isinstance(x['selftext'], str):\n",
    "                temp = {}\n",
    "                temp[\"title\"]=x[\"title\"].strip()\n",
    "                temp[\"author\"]=x[\"author\"].strip()\n",
    "                temp[\"url\"] = x[\"url\"].strip()\n",
    "                temp[\"num_comments\"]=x[\"num_comments\"]\n",
    "                temp[\"id\"]=x[\"id\"].strip()\n",
    "                temp['text'] = x['selftext'].strip()\n",
    "                temp['post_length'] = len(x['selftext'].split())\n",
    "                temp['date'] = pd.to_datetime(x['created_utc'], unit='s')\n",
    "                results.append(temp)\n",
    "        except:\n",
    "            pass\n",
    "    df = pd.DataFrame.from_dict(results)\n",
    "    df = df[df.text != '[removed]']\n",
    "    df = df[df.post_length > 10]\n",
    "    df['polarity'], df['subjectivity'] = zip(*df['text'].map(analyze_comment))\n",
    "    df['sentiment'] = df.apply(lambda x: 'positive' if x['polarity'] > 0 else 'negative', axis=1)\n",
    "    df['subreddit'] = subreddit\n",
    "    return df\n",
    "\n",
    "def wipe_then_display_out(fig):\n",
    "    #requires a figure input\n",
    "    out.clear_output()\n",
    "    with out:\n",
    "        fig.show()"
   ]
  },
  {
   "cell_type": "code",
   "execution_count": 182,
   "metadata": {
    "scrolled": false
   },
   "outputs": [
    {
     "data": {
      "application/vnd.plotly.v1+json": {
       "config": {
        "plotlyServerURL": "https://plot.ly"
       },
       "data": [
        {
         "customdata": [
          [
           "nightskiesdark",
           "ei5czv"
          ],
          [
           "DHamlinMusic",
           "ei5jt0"
          ],
          [
           "WyattGquiet",
           "ei5k11"
          ],
          [
           "Onedrid",
           "ei5koe"
          ],
          [
           "LRJiren",
           "ei5ozk"
          ],
          [
           "cakeyyz",
           "ei5qjj"
          ],
          [
           "drewbud33",
           "ei5vex"
          ],
          [
           "FewerColt369",
           "ei647m"
          ],
          [
           "ThrobbingDish",
           "ei68vi"
          ],
          [
           "Nukesnipe",
           "ei6bth"
          ],
          [
           "Brandocks",
           "ei6eke"
          ],
          [
           "Titans_are_superior",
           "ei6gve"
          ],
          [
           "Outstandingcucumber",
           "ei6hfh"
          ],
          [
           "jkfuzzy",
           "ei6ht2"
          ],
          [
           "xSilverBruh9x",
           "ei6j49"
          ],
          [
           "TTVMoses",
           "ei6l2g"
          ],
          [
           "Corvo4133",
           "ei6nrj"
          ],
          [
           "destinyvoidlock",
           "ei6nyw"
          ],
          [
           "ryvenkael",
           "ei6q89"
          ],
          [
           "Lokil",
           "ei6sad"
          ],
          [
           "teach49",
           "ei6vzc"
          ],
          [
           "UKnowPoo",
           "ei6ymf"
          ],
          [
           "Struchdestroyer",
           "ei71ns"
          ],
          [
           "TTVMoses",
           "ei7398"
          ],
          [
           "RedDeath299_",
           "ei742e"
          ],
          [
           "PerilousMax",
           "ei750i"
          ],
          [
           "Prob_Pooping",
           "ei78jh"
          ],
          [
           "Max_Tin",
           "ei7f2n"
          ],
          [
           "skyman5150",
           "ei7mlt"
          ],
          [
           "Elwalther21",
           "ei7p7q"
          ],
          [
           "Arman276",
           "ei7u82"
          ],
          [
           "Zanex123",
           "ei7wdu"
          ],
          [
           "kdebones",
           "ei7xe6"
          ],
          [
           "HellChicken949",
           "ei7y71"
          ],
          [
           "NegZ68",
           "ei7ys5"
          ],
          [
           "SpessMareen",
           "ei8272"
          ],
          [
           "RevanTheDragon",
           "ei84mj"
          ],
          [
           "Joshhaslam",
           "ei854b"
          ],
          [
           "Xunto",
           "ei8in4"
          ],
          [
           "saiyan_boy",
           "ei8mb9"
          ],
          [
           "saminsocks",
           "ei8mvr"
          ],
          [
           "Yung_Seamless",
           "ei92a3"
          ],
          [
           "Griffintowers101",
           "ei931y"
          ],
          [
           "chowdahead03",
           "ei94dq"
          ],
          [
           "FearlessZephyr",
           "ei97yb"
          ],
          [
           "fir5t1nline",
           "ei99er"
          ],
          [
           "kinntaki",
           "ei9dak"
          ],
          [
           "Hazmat616",
           "ei9ej7"
          ],
          [
           "rkelez",
           "ei9eue"
          ],
          [
           "vejolly",
           "ei9g8q"
          ],
          [
           "Jerk48",
           "ei9isd"
          ],
          [
           "Titans_are_superior",
           "ei9lha"
          ],
          [
           "mirshe",
           "ei9pyi"
          ],
          [
           "xenosidezero",
           "ei9rqf"
          ],
          [
           "Sandman15235",
           "ei9zhk"
          ],
          [
           "MGPythagoras",
           "eia0ps"
          ],
          [
           "emubilly",
           "eiaazr"
          ],
          [
           "Onyx_Ninja",
           "eiahj8"
          ],
          [
           "RussianBearFight",
           "eiap7r"
          ],
          [
           "TervoDoesGamesYT",
           "eiaqn5"
          ],
          [
           "LeNooFa",
           "eibd63"
          ],
          [
           "Padrin95",
           "eibfr8"
          ],
          [
           "xKybow",
           "eibhvy"
          ],
          [
           "TheCuccubus",
           "eibkfv"
          ],
          [
           "OldNorseBoy",
           "eibnpr"
          ],
          [
           "tracermain12",
           "eiboz1"
          ],
          [
           "TheMaestroNoob",
           "eibt9i"
          ],
          [
           "InactivePixels",
           "eibvoi"
          ],
          [
           "ske7chpls",
           "eibvrc"
          ],
          [
           "DesertJaguar",
           "eibx6k"
          ],
          [
           "SqueegeeMe",
           "eic1pu"
          ],
          [
           "Torombol0",
           "eice3t"
          ],
          [
           "Thunderbridge",
           "eicgz8"
          ],
          [
           "Radips",
           "eichij"
          ],
          [
           "MachoPanda71",
           "eicifr"
          ],
          [
           "Cryptarch44",
           "eicxra"
          ],
          [
           "Ascalion",
           "eid53l"
          ],
          [
           "Draconic_Void",
           "eid76t"
          ],
          [
           "Cooper604",
           "eid81q"
          ],
          [
           "Dmen1478",
           "eid88r"
          ],
          [
           "Xur_Is_Not_TheNine",
           "eid9zq"
          ],
          [
           "Q2Qool",
           "eidbka"
          ],
          [
           "YaBoiLycaDaPeluca",
           "eidbrv"
          ],
          [
           "RipstefanKarlsteffan",
           "eiddny"
          ],
          [
           "meowcubed",
           "eidj6v"
          ],
          [
           "Noobcombos",
           "eidjda"
          ],
          [
           "raptors592",
           "eidnpp"
          ],
          [
           "sabreclaw000",
           "eidnrv"
          ],
          [
           "AvxyPlays",
           "eidoo4"
          ],
          [
           "AtomicDog602",
           "eie1id"
          ],
          [
           "kxviniscool",
           "eie3ds"
          ],
          [
           "pro3001",
           "eie3vb"
          ],
          [
           "Jazzer995",
           "eie6ia"
          ],
          [
           "Your_Uncle_Gubsy",
           "eieerg"
          ],
          [
           "marcelopegacaneta",
           "eievm0"
          ],
          [
           "vivereFerrari",
           "eiezfu"
          ],
          [
           "Kevins_Auskaps",
           "eif4yz"
          ],
          [
           "OthinusShmothinus",
           "eif9hu"
          ],
          [
           "khazixian",
           "eifh6m"
          ],
          [
           "elsexyboygian",
           "eig3py"
          ],
          [
           "gor8884",
           "eigemk"
          ],
          [
           "OPgamerlife",
           "eigg3r"
          ],
          [
           "ivorybloodsh3d",
           "eigmvp"
          ],
          [
           "Xerriim",
           "eigrmv"
          ],
          [
           "SmurfStop",
           "eigygn"
          ],
          [
           "devjj",
           "eih3v5"
          ],
          [
           "vanderzee",
           "eih95d"
          ],
          [
           "Cynaren",
           "eihdkx"
          ],
          [
           "TheRealTTN",
           "eihhow"
          ],
          [
           "BlackTides",
           "eihkqk"
          ],
          [
           "segaselsky",
           "eihvo0"
          ],
          [
           "Narot2342",
           "eiiwi9"
          ],
          [
           "6519719Mm",
           "eiiwk0"
          ],
          [
           "AntoReakk",
           "eijd4k"
          ],
          [
           "337soft",
           "eijfp3"
          ],
          [
           "Slimschutte8",
           "eijg58"
          ],
          [
           "x_pac13",
           "eijgug"
          ],
          [
           "Ginsor",
           "eijqdu"
          ],
          [
           "nufrancis",
           "eijrdg"
          ],
          [
           "Wess-L",
           "eijxaw"
          ],
          [
           "DrTaylorB",
           "eik5o1"
          ],
          [
           "Boohma",
           "eik68e"
          ],
          [
           "Skifer91290",
           "eik874"
          ]
         ],
         "hoverlabel": {
          "namelength": 0
         },
         "hovertemplate": "sentiment=negative<br>Date Posted=%{x}<br>Post Polarity=%{y}<br>num_comments=%{marker.size}<br>author=%{customdata[0]}<br>id=%{customdata[1]}",
         "legendgroup": "sentiment=negative",
         "marker": {
          "color": "violet",
          "size": [
           3,
           6,
           1,
           6,
           10,
           16,
           6,
           3,
           5,
           22,
           4,
           16,
           10,
           2,
           11,
           15,
           2,
           203,
           1,
           3,
           39,
           9,
           15,
           51,
           2,
           64,
           7,
           21,
           11,
           6,
           7,
           7,
           7,
           9,
           3,
           0,
           4,
           2,
           7,
           6,
           4,
           4,
           19,
           6,
           2,
           3,
           86,
           28,
           10,
           2,
           1,
           0,
           2,
           8,
           7,
           1,
           23,
           1,
           8,
           9,
           6,
           4,
           4,
           5,
           4,
           10,
           429,
           0,
           10,
           15,
           3,
           12,
           3,
           3,
           5,
           4,
           3,
           4,
           3,
           2,
           8,
           13,
           0,
           10,
           8,
           1,
           14,
           8,
           8,
           9,
           72,
           6,
           9,
           4,
           3,
           3,
           2,
           1,
           3,
           17,
           2,
           0,
           7,
           16,
           5,
           1,
           15,
           30,
           4,
           7,
           12,
           5,
           4,
           9,
           2,
           1,
           6,
           6,
           8,
           4,
           4,
           9,
           1
          ],
          "sizemode": "area",
          "sizeref": 1.0725,
          "symbol": "circle"
         },
         "mode": "markers",
         "name": "sentiment=negative",
         "showlegend": true,
         "type": "scatter",
         "x": [
          "2019-12-31T16:51:27",
          "2019-12-31T17:04:49",
          "2019-12-31T17:05:14",
          "2019-12-31T17:06:28",
          "2019-12-31T17:14:47",
          "2019-12-31T17:17:56",
          "2019-12-31T17:27:15",
          "2019-12-31T17:44:35",
          "2019-12-31T17:54:00",
          "2019-12-31T17:59:47",
          "2019-12-31T18:05:07",
          "2019-12-31T18:09:42",
          "2019-12-31T18:10:47",
          "2019-12-31T18:11:30",
          "2019-12-31T18:14:10",
          "2019-12-31T18:18:02",
          "2019-12-31T18:23:22",
          "2019-12-31T18:23:46",
          "2019-12-31T18:28:27",
          "2019-12-31T18:32:33",
          "2019-12-31T18:39:54",
          "2019-12-31T18:45:16",
          "2019-12-31T18:51:31",
          "2019-12-31T18:54:47",
          "2019-12-31T18:56:23",
          "2019-12-31T18:58:17",
          "2019-12-31T19:05:07",
          "2019-12-31T19:17:52",
          "2019-12-31T19:32:58",
          "2019-12-31T19:38:11",
          "2019-12-31T19:48:43",
          "2019-12-31T19:53:15",
          "2019-12-31T19:55:21",
          "2019-12-31T19:57:05",
          "2019-12-31T19:58:18",
          "2019-12-31T20:05:27",
          "2019-12-31T20:10:36",
          "2019-12-31T20:11:39",
          "2019-12-31T20:40:33",
          "2019-12-31T20:48:40",
          "2019-12-31T20:49:52",
          "2019-12-31T21:23:52",
          "2019-12-31T21:25:36",
          "2019-12-31T21:28:32",
          "2019-12-31T21:36:31",
          "2019-12-31T21:39:43",
          "2019-12-31T21:48:23",
          "2019-12-31T21:51:19",
          "2019-12-31T21:52:00",
          "2019-12-31T21:55:14",
          "2019-12-31T22:01:06",
          "2019-12-31T22:06:59",
          "2019-12-31T22:16:56",
          "2019-12-31T22:21:05",
          "2019-12-31T22:38:16",
          "2019-12-31T22:40:54",
          "2019-12-31T23:04:14",
          "2019-12-31T23:18:44",
          "2019-12-31T23:35:50",
          "2019-12-31T23:38:53",
          "2020-01-01T00:28:44",
          "2020-01-01T00:34:26",
          "2020-01-01T00:38:53",
          "2020-01-01T00:44:36",
          "2020-01-01T00:52:37",
          "2020-01-01T00:55:40",
          "2020-01-01T01:05:53",
          "2020-01-01T01:11:46",
          "2020-01-01T01:11:57",
          "2020-01-01T01:15:22",
          "2020-01-01T01:26:31",
          "2020-01-01T01:58:04",
          "2020-01-01T02:05:18",
          "2020-01-01T02:06:34",
          "2020-01-01T02:08:56",
          "2020-01-01T02:49:08",
          "2020-01-01T03:09:20",
          "2020-01-01T03:14:58",
          "2020-01-01T03:17:29",
          "2020-01-01T03:18:02",
          "2020-01-01T03:22:35",
          "2020-01-01T03:26:54",
          "2020-01-01T03:27:30",
          "2020-01-01T03:32:54",
          "2020-01-01T03:47:59",
          "2020-01-01T03:48:31",
          "2020-01-01T04:00:52",
          "2020-01-01T04:01:00",
          "2020-01-01T04:03:15",
          "2020-01-01T04:40:31",
          "2020-01-01T04:46:17",
          "2020-01-01T04:47:36",
          "2020-01-01T04:55:14",
          "2020-01-01T05:14:49",
          "2020-01-01T06:02:53",
          "2020-01-01T06:12:59",
          "2020-01-01T06:29:41",
          "2020-01-01T06:43:49",
          "2020-01-01T07:08:01",
          "2020-01-01T08:25:03",
          "2020-01-01T09:06:17",
          "2020-01-01T09:11:58",
          "2020-01-01T09:38:10",
          "2020-01-01T09:56:31",
          "2020-01-01T10:21:45",
          "2020-01-01T10:43:10",
          "2020-01-01T11:04:01",
          "2020-01-01T11:20:23",
          "2020-01-01T11:36:32",
          "2020-01-01T11:48:33",
          "2020-01-01T12:30:08",
          "2020-01-01T14:33:02",
          "2020-01-01T14:33:11",
          "2020-01-01T15:19:09",
          "2020-01-01T15:26:02",
          "2020-01-01T15:27:12",
          "2020-01-01T15:28:58",
          "2020-01-01T15:53:51",
          "2020-01-01T15:56:07",
          "2020-01-01T16:10:27",
          "2020-01-01T16:30:09",
          "2020-01-01T16:31:23",
          "2020-01-01T16:36:01"
         ],
         "xaxis": "x",
         "y": [
          -0.37500000000000006,
          -0.05,
          0,
          -0.14593253968253966,
          0,
          -0.09720238095238094,
          -0.06778198653198654,
          -0.050000000000000044,
          -0.050000000000000044,
          -0.08863636363636364,
          -0.024999999999999984,
          0,
          -0.12,
          -0.15000000000000002,
          -0.14583333333333334,
          -0.16666666666666666,
          -0.25,
          -0.06041666666666666,
          -0.09285714285714286,
          -0.03333333333333333,
          -0.11111111111111112,
          -0.13125,
          0,
          -0.0747159090909091,
          -0.090625,
          -0.07037037037037033,
          -0.11632653061224489,
          -0.055555555555555504,
          -0.03234551396316103,
          -0.171875,
          -0.25,
          0,
          -0.12301587301587302,
          0,
          -0.8,
          -0.21666666666666667,
          -0.15,
          0,
          0,
          -0.2,
          0,
          0,
          -0.17499999999999996,
          -0.06845238095238096,
          0,
          0,
          -0.1,
          -0.11666666666666665,
          -0.05,
          0,
          -0.1,
          0,
          -0.07638888888888888,
          -0.13333333333333333,
          -0.13999999999999999,
          -0.075,
          -0.25,
          -0.08611111111111114,
          0,
          0,
          -0.5,
          0,
          -0.050000000000000044,
          -0.013888888888888902,
          -0.2333333333333333,
          -0.22083333333333333,
          0,
          -0.021428571428571436,
          0,
          -0.0069444444444444475,
          -0.25,
          0,
          -0.05965909090909091,
          -0.07891156462585035,
          -0.01957813428401664,
          -0.18333333333333335,
          -0.06785714285714287,
          0,
          0,
          -0.03621794871794872,
          -0.045312500000000006,
          -0.016666666666666677,
          0,
          0,
          -0.0020833333333333294,
          0,
          0,
          -0.004341491841491843,
          -0.30000000000000004,
          0,
          -0.15791666666666668,
          -0.017407407407407406,
          -0.0888888888888889,
          -0.21785714285714286,
          -0.016666666666666653,
          0,
          -0.014583333333333351,
          -0.008333333333333337,
          -0.025,
          -0.022380952380952397,
          0,
          0,
          -0.10755208333333335,
          -0.0062500000000000056,
          0,
          -0.009285714285714286,
          -0.07229437229437229,
          -0.15,
          0,
          -0.08888888888888889,
          -0.15000000000000002,
          -0.00833333333333334,
          0,
          -0.34074074074074073,
          -0.14375,
          0,
          -0.025818452380952393,
          -0.04897186147186148,
          0,
          -0.019642857142857146,
          -0.07777777777777778,
          0,
          0
         ],
         "yaxis": "y"
        },
        {
         "alignmentgroup": "True",
         "bingroup": "x",
         "hoverlabel": {
          "namelength": 0
         },
         "hovertemplate": "sentiment=negative<br>Date Posted=%{x}<br>count=%{y}",
         "legendgroup": "sentiment=negative",
         "marker": {
          "color": "violet"
         },
         "name": "sentiment=negative",
         "offsetgroup": "sentiment=negative",
         "opacity": 0.5,
         "showlegend": false,
         "type": "histogram",
         "x": [
          "2019-12-31T16:51:27",
          "2019-12-31T17:04:49",
          "2019-12-31T17:05:14",
          "2019-12-31T17:06:28",
          "2019-12-31T17:14:47",
          "2019-12-31T17:17:56",
          "2019-12-31T17:27:15",
          "2019-12-31T17:44:35",
          "2019-12-31T17:54:00",
          "2019-12-31T17:59:47",
          "2019-12-31T18:05:07",
          "2019-12-31T18:09:42",
          "2019-12-31T18:10:47",
          "2019-12-31T18:11:30",
          "2019-12-31T18:14:10",
          "2019-12-31T18:18:02",
          "2019-12-31T18:23:22",
          "2019-12-31T18:23:46",
          "2019-12-31T18:28:27",
          "2019-12-31T18:32:33",
          "2019-12-31T18:39:54",
          "2019-12-31T18:45:16",
          "2019-12-31T18:51:31",
          "2019-12-31T18:54:47",
          "2019-12-31T18:56:23",
          "2019-12-31T18:58:17",
          "2019-12-31T19:05:07",
          "2019-12-31T19:17:52",
          "2019-12-31T19:32:58",
          "2019-12-31T19:38:11",
          "2019-12-31T19:48:43",
          "2019-12-31T19:53:15",
          "2019-12-31T19:55:21",
          "2019-12-31T19:57:05",
          "2019-12-31T19:58:18",
          "2019-12-31T20:05:27",
          "2019-12-31T20:10:36",
          "2019-12-31T20:11:39",
          "2019-12-31T20:40:33",
          "2019-12-31T20:48:40",
          "2019-12-31T20:49:52",
          "2019-12-31T21:23:52",
          "2019-12-31T21:25:36",
          "2019-12-31T21:28:32",
          "2019-12-31T21:36:31",
          "2019-12-31T21:39:43",
          "2019-12-31T21:48:23",
          "2019-12-31T21:51:19",
          "2019-12-31T21:52:00",
          "2019-12-31T21:55:14",
          "2019-12-31T22:01:06",
          "2019-12-31T22:06:59",
          "2019-12-31T22:16:56",
          "2019-12-31T22:21:05",
          "2019-12-31T22:38:16",
          "2019-12-31T22:40:54",
          "2019-12-31T23:04:14",
          "2019-12-31T23:18:44",
          "2019-12-31T23:35:50",
          "2019-12-31T23:38:53",
          "2020-01-01T00:28:44",
          "2020-01-01T00:34:26",
          "2020-01-01T00:38:53",
          "2020-01-01T00:44:36",
          "2020-01-01T00:52:37",
          "2020-01-01T00:55:40",
          "2020-01-01T01:05:53",
          "2020-01-01T01:11:46",
          "2020-01-01T01:11:57",
          "2020-01-01T01:15:22",
          "2020-01-01T01:26:31",
          "2020-01-01T01:58:04",
          "2020-01-01T02:05:18",
          "2020-01-01T02:06:34",
          "2020-01-01T02:08:56",
          "2020-01-01T02:49:08",
          "2020-01-01T03:09:20",
          "2020-01-01T03:14:58",
          "2020-01-01T03:17:29",
          "2020-01-01T03:18:02",
          "2020-01-01T03:22:35",
          "2020-01-01T03:26:54",
          "2020-01-01T03:27:30",
          "2020-01-01T03:32:54",
          "2020-01-01T03:47:59",
          "2020-01-01T03:48:31",
          "2020-01-01T04:00:52",
          "2020-01-01T04:01:00",
          "2020-01-01T04:03:15",
          "2020-01-01T04:40:31",
          "2020-01-01T04:46:17",
          "2020-01-01T04:47:36",
          "2020-01-01T04:55:14",
          "2020-01-01T05:14:49",
          "2020-01-01T06:02:53",
          "2020-01-01T06:12:59",
          "2020-01-01T06:29:41",
          "2020-01-01T06:43:49",
          "2020-01-01T07:08:01",
          "2020-01-01T08:25:03",
          "2020-01-01T09:06:17",
          "2020-01-01T09:11:58",
          "2020-01-01T09:38:10",
          "2020-01-01T09:56:31",
          "2020-01-01T10:21:45",
          "2020-01-01T10:43:10",
          "2020-01-01T11:04:01",
          "2020-01-01T11:20:23",
          "2020-01-01T11:36:32",
          "2020-01-01T11:48:33",
          "2020-01-01T12:30:08",
          "2020-01-01T14:33:02",
          "2020-01-01T14:33:11",
          "2020-01-01T15:19:09",
          "2020-01-01T15:26:02",
          "2020-01-01T15:27:12",
          "2020-01-01T15:28:58",
          "2020-01-01T15:53:51",
          "2020-01-01T15:56:07",
          "2020-01-01T16:10:27",
          "2020-01-01T16:30:09",
          "2020-01-01T16:31:23",
          "2020-01-01T16:36:01"
         ],
         "xaxis": "x2",
         "yaxis": "y2"
        },
        {
         "customdata": [
          [
           "rezmeihaveghorn",
           "ei5e4p"
          ],
          [
           "DTG_Bot",
           "ei5j8j"
          ],
          [
           "MariosFireball",
           "ei5k07"
          ],
          [
           "Jet_Nice_Guy",
           "ei5lpn"
          ],
          [
           "ghawkguy",
           "ei5ls9"
          ],
          [
           "DTG_Bot",
           "ei5m5y"
          ],
          [
           "king5six1",
           "ei5m74"
          ],
          [
           "DavidNexus7",
           "ei5o3i"
          ],
          [
           "zuggiz",
           "ei5q3o"
          ],
          [
           "PraiseBasedDonut",
           "ei5rzw"
          ],
          [
           "RogueTGZ",
           "ei5sp1"
          ],
          [
           "whiskyTango7734",
           "ei5t4p"
          ],
          [
           "BlaqkJak",
           "ei5tc7"
          ],
          [
           "Bunnyezzz",
           "ei5v24"
          ],
          [
           "NeonAttak",
           "ei5vky"
          ],
          [
           "wacawaka",
           "ei5y0k"
          ],
          [
           "ASickG0at",
           "ei64oc"
          ],
          [
           "Throwaway37474839291",
           "ei650z"
          ],
          [
           "Vahro",
           "ei6758"
          ],
          [
           "Cookie_LP0",
           "ei67hh"
          ],
          [
           "Lucavellz",
           "ei69ed"
          ],
          [
           "-MANGA-",
           "ei6a71"
          ],
          [
           "Desaxs",
           "ei6ers"
          ],
          [
           "PhazePyre",
           "ei6ffv"
          ],
          [
           "Chung_bungus",
           "ei6fsj"
          ],
          [
           "king-jubba",
           "ei6i8e"
          ],
          [
           "Dragamaroon",
           "ei6ib2"
          ],
          [
           "Onyx_Ninja",
           "ei6jsl"
          ],
          [
           "MichaelTL",
           "ei6rh5"
          ],
          [
           "VegitoEnigma",
           "ei6t2g"
          ],
          [
           "Marcianoox",
           "ei6w1a"
          ],
          [
           "WaavyDaavy",
           "ei6wr4"
          ],
          [
           "jcspoon",
           "ei70z7"
          ],
          [
           "HumanDemise",
           "ei72u7"
          ],
          [
           "cryptic-fox",
           "ei7519"
          ],
          [
           "wo4h_my_dud3",
           "ei76cy"
          ],
          [
           "mooseythings",
           "ei76d4"
          ],
          [
           "SkylarxMcCool",
           "ei77ud"
          ],
          [
           "phantom13927",
           "ei7dh9"
          ],
          [
           "MothEmperor07",
           "ei7es2"
          ],
          [
           "HiddnAce",
           "ei7rp6"
          ],
          [
           "MookieV",
           "ei7sc0"
          ],
          [
           "immortaldon",
           "ei7t0h"
          ],
          [
           "jens-adams",
           "ei7v56"
          ],
          [
           "ANTORICO2THELEGEND",
           "ei7wpr"
          ],
          [
           "draco5105",
           "ei7xcc"
          ],
          [
           "Skifer91290",
           "ei80b5"
          ],
          [
           "Dethproof814",
           "ei80m4"
          ],
          [
           "dmg1920",
           "ei8332"
          ],
          [
           "Megajoshuaw",
           "ei857z"
          ],
          [
           "babey_time",
           "ei86fs"
          ],
          [
           "bLargwastaken",
           "ei8826"
          ],
          [
           "G-Nod",
           "ei8asa"
          ],
          [
           "the-Jummy",
           "ei8c5g"
          ],
          [
           "Faeluchu",
           "ei8cj1"
          ],
          [
           "Ask4Damien",
           "ei8dvl"
          ],
          [
           "ehixson",
           "ei8fu2"
          ],
          [
           "Tharja13",
           "ei8i2p"
          ],
          [
           "Chillager124",
           "ei8j4j"
          ],
          [
           "MM487",
           "ei8jrk"
          ],
          [
           "FInnH93",
           "ei8n2s"
          ],
          [
           "WaavyDaavy",
           "ei8o15"
          ],
          [
           "yaoivampire",
           "ei8o4r"
          ],
          [
           "mylifemyworld17",
           "ei8qv0"
          ],
          [
           "CraigStewy",
           "ei8r2m"
          ],
          [
           "Nukesnipe",
           "ei8r6i"
          ],
          [
           "Codrates",
           "ei8txd"
          ],
          [
           "TylerB0ne_",
           "ei8vfi"
          ],
          [
           "Kyronius-",
           "ei8wsh"
          ],
          [
           "Ovogotti",
           "ei8y60"
          ],
          [
           "MRlll",
           "ei8ynh"
          ],
          [
           "VoicedN",
           "ei95ea"
          ],
          [
           "Bauzakeruga",
           "ei95kn"
          ],
          [
           "CLOROX_CONFIRMED",
           "ei961b"
          ],
          [
           "Srsasquatch",
           "ei96i6"
          ],
          [
           "HawksWill",
           "ei97gw"
          ],
          [
           "Bauzakeruga",
           "ei9a72"
          ],
          [
           "Mushroom_Surprise",
           "ei9bel"
          ],
          [
           "macho-dong",
           "ei9e2z"
          ],
          [
           "ChiIIerr",
           "ei9f7o"
          ],
          [
           "Leviathan3333",
           "ei9gfi"
          ],
          [
           "OldAngryShrek",
           "ei9hdu"
          ],
          [
           "5-Second-Ruul",
           "ei9i1w"
          ],
          [
           "Vandalbot",
           "ei9iw6"
          ],
          [
           "KitsuneKamiSama",
           "ei9j4k"
          ],
          [
           "megawhiz1769",
           "ei9ksc"
          ],
          [
           "frankieluigi",
           "ei9lfj"
          ],
          [
           "The_Better_Devil",
           "ei9lsc"
          ],
          [
           "FewerColt369",
           "ei9oxo"
          ],
          [
           "CF0311",
           "ei9tke"
          ],
          [
           "Caffete",
           "ei9u3i"
          ],
          [
           "Raito103",
           "ei9v51"
          ],
          [
           "Cryhunter059",
           "ei9vbm"
          ],
          [
           "Oryxhasnonuts",
           "ei9w4o"
          ],
          [
           "ClouttMyster",
           "ei9wq7"
          ],
          [
           "Anderty",
           "eia0dq"
          ],
          [
           "Storm-Shadow98",
           "eia0mi"
          ],
          [
           "Kdubsmoking2",
           "eia2si"
          ],
          [
           "The_Better_Devil",
           "eia3kg"
          ],
          [
           "vivereFerrari",
           "eia41y"
          ],
          [
           "stevie242",
           "eia6se"
          ],
          [
           "blacktip102",
           "eia6vf"
          ],
          [
           "onlyyoshi97",
           "eia8pd"
          ],
          [
           "GlobalPhreak",
           "eia9g5"
          ],
          [
           "InvisiKid",
           "eia9ts"
          ],
          [
           "Bugs5567",
           "eiaaa9"
          ],
          [
           "PyjamaLlamaParty",
           "eiab89"
          ],
          [
           "gwserfon",
           "eiacoc"
          ],
          [
           "exhaustedoctopus",
           "eiad8d"
          ],
          [
           "taskmaster51",
           "eiae94"
          ],
          [
           "agitatedandroid",
           "eiaeje"
          ],
          [
           "saga_712",
           "eiahts"
          ],
          [
           "ShaneBazTe",
           "eialy0"
          ],
          [
           "lizardking796",
           "eiamu4"
          ],
          [
           "Montregloe",
           "eiamul"
          ],
          [
           "ToN7No",
           "eianux"
          ],
          [
           "brohemianmoment",
           "eiaqi8"
          ],
          [
           "Vips_The_Imbecile",
           "eiaqt5"
          ],
          [
           "AgentZeroHour",
           "eiatmu"
          ],
          [
           "CosChrome",
           "eiawue"
          ],
          [
           "skoomable",
           "eib5vz"
          ],
          [
           "ShadeofCayde6",
           "eib6g4"
          ],
          [
           "Iccotak",
           "eib6va"
          ],
          [
           "VanpyroGaming",
           "eib7nu"
          ],
          [
           "ShadeofCayde6",
           "eibc8v"
          ],
          [
           "CrimsonProletariat",
           "eibdf6"
          ],
          [
           "StarkSparks",
           "eibe3j"
          ],
          [
           "RickV6",
           "eibfwo"
          ],
          [
           "SVrider26",
           "eibne6"
          ],
          [
           "cancercureall",
           "eibnzy"
          ],
          [
           "bartonie",
           "eibonw"
          ],
          [
           "Lavatis",
           "eibp7h"
          ],
          [
           "skeletorodp",
           "eibpnq"
          ],
          [
           "dMNY307",
           "eibwg7"
          ],
          [
           "DefinitelyNotThatJoe",
           "eibxst"
          ],
          [
           "Kyronius-",
           "eic1lr"
          ],
          [
           "tarynrenae",
           "eic2uu"
          ],
          [
           "canadiangirl_eh",
           "eic6qj"
          ],
          [
           "Superluis97045",
           "eiccp3"
          ],
          [
           "jamilDK",
           "eicf31"
          ],
          [
           "Multimarkboy",
           "eicfna"
          ],
          [
           "MegaRann",
           "eichb8"
          ],
          [
           "dazealex",
           "eiciio"
          ],
          [
           "markarenas_",
           "eicn7j"
          ],
          [
           "RebootSequence",
           "eicpbm"
          ],
          [
           "EtotheD4200",
           "eics2g"
          ],
          [
           "Fire-fight-Magi",
           "eics72"
          ],
          [
           "MrFurious1000",
           "eicuxj"
          ],
          [
           "bacterialtrailer",
           "eicwcc"
          ],
          [
           "Raiden4321234",
           "eicy5y"
          ],
          [
           "stephen_1975",
           "eiczb9"
          ],
          [
           "ShaneCatlett",
           "eiczhr"
          ],
          [
           "deadly_nightshaade",
           "eiczot"
          ],
          [
           "Ninjhetto",
           "eid23p"
          ],
          [
           "solprimeval",
           "eid327"
          ],
          [
           "lafosso1",
           "eid3kx"
          ],
          [
           "ArmlessGuy12",
           "eid75h"
          ],
          [
           "bladedancer661",
           "eidcbr"
          ],
          [
           "SlendyA8",
           "eidi29"
          ],
          [
           "Android5ooo",
           "eidkxm"
          ],
          [
           "EmbodimentOfBruh",
           "eido3w"
          ],
          [
           "WittyUnwittingly",
           "eidprn"
          ],
          [
           "Ltmajorbones",
           "eidq4e"
          ],
          [
           "Ceraldus",
           "eidqk0"
          ],
          [
           "Joelioioio",
           "eie172"
          ],
          [
           "Golet234",
           "eie1fh"
          ],
          [
           "LadyMlstress",
           "eie47n"
          ],
          [
           "Nukesnipe",
           "eie5ni"
          ],
          [
           "TitanAnarchy",
           "eie66t"
          ],
          [
           "Pupfrolic",
           "eie93p"
          ],
          [
           "PixelFool99",
           "eiea1i"
          ],
          [
           "al-Malok",
           "eieage"
          ],
          [
           "rattlesnakemtn2",
           "eieaub"
          ],
          [
           "al-Malok",
           "eiefcy"
          ],
          [
           "C-I-Rome",
           "eieh0t"
          ],
          [
           "NAmElEss_NErd",
           "eiei6z"
          ],
          [
           "0Sharky",
           "eielsh"
          ],
          [
           "BoxGamer713",
           "eieno1"
          ],
          [
           "TheCoderAndAvatar",
           "eieoaq"
          ],
          [
           "MetaphorTR",
           "eieoq4"
          ],
          [
           "YaBoiLycaDaPeluca",
           "eietkd"
          ],
          [
           "AmbidextrousWaffle",
           "eieyjd"
          ],
          [
           "MB22283",
           "eif2k6"
          ],
          [
           "firstheir",
           "eif2ld"
          ],
          [
           "HungerReaper",
           "eif6po"
          ],
          [
           "lighting828",
           "eif8hk"
          ],
          [
           "RoffronSherien",
           "eifewv"
          ],
          [
           "DaBadGuy13",
           "eifljk"
          ],
          [
           "Caxu",
           "eifney"
          ],
          [
           "AmbidextrousWaffle",
           "eifoca"
          ],
          [
           "TheAlcaeus",
           "eifp39"
          ],
          [
           "berndguggi",
           "eifraf"
          ],
          [
           "death2rum",
           "eifv6t"
          ],
          [
           "AgentOrang_Jpg",
           "eifygd"
          ],
          [
           "kashaan_lucifer",
           "eifzan"
          ],
          [
           "Kierok3",
           "eig0ga"
          ],
          [
           "thebutinator",
           "eig8ph"
          ],
          [
           "SurrealLogic",
           "eigbsc"
          ],
          [
           "GuardianDestinyGuide",
           "eigioa"
          ],
          [
           "Ultra_Unusual",
           "eigki7"
          ],
          [
           "DarkPulseHD",
           "eigkk4"
          ],
          [
           "Saeya_Gaming",
           "eigl29"
          ],
          [
           "ChristmasBacon1001",
           "eigncw"
          ],
          [
           "bacterialtrailer",
           "eigqjy"
          ],
          [
           "Sarge184",
           "eigv87"
          ],
          [
           "Frostyhobo47",
           "eigxl3"
          ],
          [
           "Dreid2025",
           "eigzmo"
          ],
          [
           "harishcs",
           "eih1l4"
          ],
          [
           "Leny1000",
           "eih1su"
          ],
          [
           "IronicIrony8",
           "eih2rv"
          ],
          [
           "Hechtm11",
           "eih7ec"
          ],
          [
           "sephoud",
           "eih92l"
          ],
          [
           "anuslikker99",
           "eihk6n"
          ],
          [
           "Ariatexas",
           "eihl3j"
          ],
          [
           "BrimbornSteelWorks",
           "eihl42"
          ],
          [
           "itskiser",
           "eihm2m"
          ],
          [
           "Cwirmon",
           "eihn7y"
          ],
          [
           "Vegeta_SB13",
           "eihnic"
          ],
          [
           "Bane_of_Ruby",
           "eiho6t"
          ],
          [
           "Lalakoola",
           "eihz55"
          ],
          [
           "Osiris-Reflection",
           "eihzc6"
          ],
          [
           "DTG_Bot",
           "eii443"
          ],
          [
           "DTG_Bot",
           "eii45k"
          ],
          [
           "Gidedin",
           "eiibot"
          ],
          [
           "KISSMYTAIL",
           "eiifuj"
          ],
          [
           "Paradox_VII",
           "eiimiw"
          ],
          [
           "Ultra1101",
           "eiinfk"
          ],
          [
           "Cwirmon",
           "eiinow"
          ],
          [
           "TheBastidiousBomber",
           "eiinwp"
          ],
          [
           "curdburglar",
           "eiior9"
          ],
          [
           "liamsnorthstar",
           "eiirbi"
          ],
          [
           "jayman1216",
           "eiit4n"
          ],
          [
           "coles_man_mcjones",
           "eiiwhu"
          ],
          [
           "gusluke",
           "eiiwwe"
          ],
          [
           "Syixice",
           "eij0b4"
          ],
          [
           "johnsolomon",
           "eij1l5"
          ],
          [
           "Awoken-Queen",
           "eij1p5"
          ],
          [
           "Unearthedrin",
           "eij5m0"
          ],
          [
           "Goldenfang08",
           "eij6lf"
          ],
          [
           "subtlecalamity",
           "eijavm"
          ],
          [
           "i4viator",
           "eijer3"
          ],
          [
           "UldrensVibrator",
           "eijghu"
          ],
          [
           "FourPharaohs",
           "eijiom"
          ],
          [
           "AresBloodwrath",
           "eijp82"
          ],
          [
           "Skifer91290",
           "eijq0s"
          ],
          [
           "TeneKay",
           "eijr9n"
          ],
          [
           "ARBITERUMBRA",
           "eijv9j"
          ],
          [
           "TylerFortierPhoto",
           "eik3ec"
          ],
          [
           "X_C-GAMES-G_X",
           "eik3v0"
          ],
          [
           "Not_An_Ahamkara",
           "eik5ym"
          ],
          [
           "Kobraguy90",
           "eik79k"
          ],
          [
           "HydraX_Slayer",
           "eik8rq"
          ],
          [
           "canondocre",
           "eikd0n"
          ],
          [
           "Ret0x",
           "eike78"
          ]
         ],
         "hoverlabel": {
          "namelength": 0
         },
         "hovertemplate": "sentiment=positive<br>Date Posted=%{x}<br>Post Polarity=%{y}<br>num_comments=%{marker.size}<br>author=%{customdata[0]}<br>id=%{customdata[1]}",
         "legendgroup": "sentiment=positive",
         "marker": {
          "color": "lightslategrey",
          "size": [
           13,
           378,
           8,
           0,
           37,
           12,
           0,
           6,
           5,
           0,
           30,
           11,
           5,
           10,
           7,
           15,
           3,
           3,
           4,
           11,
           12,
           3,
           18,
           23,
           11,
           3,
           2,
           15,
           4,
           4,
           3,
           10,
           6,
           10,
           25,
           9,
           16,
           4,
           4,
           18,
           4,
           8,
           22,
           6,
           85,
           0,
           2,
           11,
           16,
           12,
           3,
           4,
           2,
           7,
           53,
           10,
           9,
           0,
           6,
           5,
           4,
           3,
           5,
           20,
           6,
           69,
           1,
           6,
           11,
           0,
           11,
           3,
           0,
           8,
           7,
           6,
           0,
           6,
           4,
           17,
           1,
           7,
           0,
           4,
           5,
           7,
           2,
           9,
           3,
           18,
           14,
           10,
           7,
           1,
           2,
           1,
           1,
           2,
           1,
           6,
           0,
           6,
           7,
           9,
           14,
           4,
           2,
           8,
           79,
           1,
           3,
           9,
           7,
           11,
           3,
           1,
           7,
           0,
           8,
           7,
           1,
           3,
           3,
           14,
           39,
           9,
           53,
           6,
           4,
           4,
           6,
           5,
           5,
           2,
           21,
           24,
           22,
           10,
           5,
           12,
           0,
           1,
           4,
           6,
           8,
           0,
           9,
           9,
           17,
           7,
           6,
           14,
           37,
           7,
           3,
           4,
           6,
           7,
           5,
           2,
           3,
           1,
           3,
           6,
           1,
           9,
           8,
           27,
           1,
           8,
           9,
           38,
           1,
           13,
           1,
           12,
           7,
           2,
           9,
           5,
           2,
           14,
           16,
           11,
           0,
           15,
           6,
           1,
           1,
           15,
           7,
           6,
           5,
           16,
           17,
           11,
           17,
           9,
           18,
           0,
           10,
           2,
           12,
           17,
           4,
           15,
           5,
           16,
           13,
           0,
           9,
           0,
           10,
           9,
           5,
           89,
           21,
           11,
           1,
           18,
           15,
           49,
           11,
           112,
           8,
           5,
           8,
           4,
           2,
           0,
           8,
           3,
           8,
           7,
           1,
           7,
           3,
           23,
           4,
           7,
           3,
           15,
           3,
           4,
           4,
           1,
           0,
           1,
           1,
           5,
           8,
           2,
           0,
           0
          ],
          "sizemode": "area",
          "sizeref": 1.0725,
          "symbol": "circle"
         },
         "mode": "markers",
         "name": "sentiment=positive",
         "showlegend": true,
         "type": "scatter",
         "x": [
          "2019-12-31T16:53:42",
          "2019-12-31T17:03:49",
          "2019-12-31T17:05:11",
          "2019-12-31T17:08:27",
          "2019-12-31T17:08:35",
          "2019-12-31T17:09:21",
          "2019-12-31T17:09:26",
          "2019-12-31T17:13:06",
          "2019-12-31T17:17:01",
          "2019-12-31T17:20:55",
          "2019-12-31T17:22:17",
          "2019-12-31T17:23:06",
          "2019-12-31T17:23:28",
          "2019-12-31T17:26:34",
          "2019-12-31T17:27:32",
          "2019-12-31T17:32:27",
          "2019-12-31T17:45:32",
          "2019-12-31T17:46:13",
          "2019-12-31T17:50:29",
          "2019-12-31T17:51:09",
          "2019-12-31T17:55:02",
          "2019-12-31T17:56:37",
          "2019-12-31T18:05:30",
          "2019-12-31T18:06:51",
          "2019-12-31T18:07:30",
          "2019-12-31T18:12:20",
          "2019-12-31T18:12:28",
          "2019-12-31T18:15:31",
          "2019-12-31T18:31:00",
          "2019-12-31T18:34:03",
          "2019-12-31T18:39:59",
          "2019-12-31T18:41:20",
          "2019-12-31T18:50:03",
          "2019-12-31T18:53:54",
          "2019-12-31T18:58:19",
          "2019-12-31T19:00:59",
          "2019-12-31T19:00:59",
          "2019-12-31T19:03:50",
          "2019-12-31T19:14:36",
          "2019-12-31T19:17:13",
          "2019-12-31T19:43:22",
          "2019-12-31T19:44:36",
          "2019-12-31T19:46:12",
          "2019-12-31T19:50:45",
          "2019-12-31T19:53:51",
          "2019-12-31T19:55:15",
          "2019-12-31T20:01:34",
          "2019-12-31T20:02:14",
          "2019-12-31T20:07:16",
          "2019-12-31T20:11:51",
          "2019-12-31T20:14:27",
          "2019-12-31T20:18:07",
          "2019-12-31T20:23:51",
          "2019-12-31T20:26:41",
          "2019-12-31T20:27:33",
          "2019-12-31T20:30:27",
          "2019-12-31T20:34:37",
          "2019-12-31T20:39:20",
          "2019-12-31T20:41:28",
          "2019-12-31T20:42:52",
          "2019-12-31T20:50:19",
          "2019-12-31T20:52:22",
          "2019-12-31T20:52:36",
          "2019-12-31T20:58:37",
          "2019-12-31T20:59:08",
          "2019-12-31T20:59:23",
          "2019-12-31T21:05:26",
          "2019-12-31T21:08:40",
          "2019-12-31T21:11:44",
          "2019-12-31T21:14:41",
          "2019-12-31T21:15:43",
          "2019-12-31T21:30:54",
          "2019-12-31T21:31:18",
          "2019-12-31T21:32:17",
          "2019-12-31T21:33:20",
          "2019-12-31T21:35:30",
          "2019-12-31T21:41:27",
          "2019-12-31T21:44:10",
          "2019-12-31T21:50:18",
          "2019-12-31T21:52:53",
          "2019-12-31T21:55:44",
          "2019-12-31T21:57:53",
          "2019-12-31T21:59:26",
          "2019-12-31T22:01:18",
          "2019-12-31T22:01:48",
          "2019-12-31T22:05:20",
          "2019-12-31T22:06:50",
          "2019-12-31T22:07:41",
          "2019-12-31T22:14:39",
          "2019-12-31T22:25:14",
          "2019-12-31T22:26:24",
          "2019-12-31T22:28:37",
          "2019-12-31T22:29:04",
          "2019-12-31T22:30:55",
          "2019-12-31T22:32:17",
          "2019-12-31T22:40:18",
          "2019-12-31T22:40:44",
          "2019-12-31T22:45:47",
          "2019-12-31T22:47:28",
          "2019-12-31T22:48:32",
          "2019-12-31T22:54:45",
          "2019-12-31T22:54:57",
          "2019-12-31T22:59:12",
          "2019-12-31T23:00:48",
          "2019-12-31T23:01:35",
          "2019-12-31T23:02:39",
          "2019-12-31T23:04:46",
          "2019-12-31T23:07:46",
          "2019-12-31T23:09:04",
          "2019-12-31T23:11:25",
          "2019-12-31T23:11:58",
          "2019-12-31T23:19:29",
          "2019-12-31T23:28:30",
          "2019-12-31T23:30:32",
          "2019-12-31T23:30:33",
          "2019-12-31T23:32:48",
          "2019-12-31T23:38:35",
          "2019-12-31T23:39:17",
          "2019-12-31T23:45:47",
          "2019-12-31T23:52:54",
          "2020-01-01T00:12:42",
          "2020-01-01T00:13:57",
          "2020-01-01T00:14:58",
          "2020-01-01T00:16:38",
          "2020-01-01T00:26:51",
          "2020-01-01T00:29:16",
          "2020-01-01T00:30:47",
          "2020-01-01T00:34:41",
          "2020-01-01T00:51:50",
          "2020-01-01T00:53:20",
          "2020-01-01T00:54:54",
          "2020-01-01T00:56:14",
          "2020-01-01T00:57:13",
          "2020-01-01T01:13:35",
          "2020-01-01T01:17:02",
          "2020-01-01T01:26:18",
          "2020-01-01T01:29:18",
          "2020-01-01T01:38:51",
          "2020-01-01T01:54:11",
          "2020-01-01T02:00:37",
          "2020-01-01T02:01:55",
          "2020-01-01T02:06:04",
          "2020-01-01T02:09:09",
          "2020-01-01T02:21:19",
          "2020-01-01T02:26:44",
          "2020-01-01T02:34:05",
          "2020-01-01T02:34:23",
          "2020-01-01T02:41:38",
          "2020-01-01T02:45:21",
          "2020-01-01T02:50:16",
          "2020-01-01T02:53:20",
          "2020-01-01T02:53:52",
          "2020-01-01T02:54:23",
          "2020-01-01T03:01:12",
          "2020-01-01T03:03:47",
          "2020-01-01T03:05:04",
          "2020-01-01T03:14:52",
          "2020-01-01T03:29:00",
          "2020-01-01T03:44:45",
          "2020-01-01T03:52:42",
          "2020-01-01T04:01:54",
          "2020-01-01T04:06:13",
          "2020-01-01T04:07:17",
          "2020-01-01T04:08:28",
          "2020-01-01T04:39:32",
          "2020-01-01T04:40:15",
          "2020-01-01T04:48:41",
          "2020-01-01T04:52:40",
          "2020-01-01T04:54:19",
          "2020-01-01T05:01:46",
          "2020-01-01T05:03:48",
          "2020-01-01T05:04:39",
          "2020-01-01T05:05:30",
          "2020-01-01T05:16:25",
          "2020-01-01T05:20:58",
          "2020-01-01T05:24:07",
          "2020-01-01T05:33:58",
          "2020-01-01T05:39:03",
          "2020-01-01T05:40:55",
          "2020-01-01T05:42:09",
          "2020-01-01T05:57:07",
          "2020-01-01T06:10:24",
          "2020-01-01T06:22:05",
          "2020-01-01T06:22:11",
          "2020-01-01T06:35:19",
          "2020-01-01T06:40:56",
          "2020-01-01T07:01:11",
          "2020-01-01T07:22:57",
          "2020-01-01T07:29:45",
          "2020-01-01T07:32:54",
          "2020-01-01T07:35:28",
          "2020-01-01T07:43:05",
          "2020-01-01T07:56:13",
          "2020-01-01T08:07:04",
          "2020-01-01T08:09:37",
          "2020-01-01T08:13:27",
          "2020-01-01T08:43:41",
          "2020-01-01T08:55:32",
          "2020-01-01T09:21:37",
          "2020-01-01T09:29:17",
          "2020-01-01T09:29:32",
          "2020-01-01T09:31:35",
          "2020-01-01T09:39:47",
          "2020-01-01T09:52:13",
          "2020-01-01T10:09:49",
          "2020-01-01T10:18:18",
          "2020-01-01T10:26:19",
          "2020-01-01T10:34:15",
          "2020-01-01T10:35:08",
          "2020-01-01T10:38:58",
          "2020-01-01T10:57:21",
          "2020-01-01T11:03:41",
          "2020-01-01T11:46:18",
          "2020-01-01T11:49:55",
          "2020-01-01T11:49:58",
          "2020-01-01T11:53:38",
          "2020-01-01T11:58:16",
          "2020-01-01T11:59:24",
          "2020-01-01T12:01:49",
          "2020-01-01T12:42:55",
          "2020-01-01T12:43:36",
          "2020-01-01T13:01:01",
          "2020-01-01T13:01:09",
          "2020-01-01T13:27:10",
          "2020-01-01T13:41:27",
          "2020-01-01T14:03:07",
          "2020-01-01T14:05:51",
          "2020-01-01T14:06:40",
          "2020-01-01T14:07:19",
          "2020-01-01T14:10:03",
          "2020-01-01T14:17:48",
          "2020-01-01T14:23:04",
          "2020-01-01T14:33:00",
          "2020-01-01T14:34:18",
          "2020-01-01T14:44:20",
          "2020-01-01T14:47:52",
          "2020-01-01T14:48:13",
          "2020-01-01T14:59:17",
          "2020-01-01T15:01:58",
          "2020-01-01T15:13:02",
          "2020-01-01T15:23:28",
          "2020-01-01T15:28:07",
          "2020-01-01T15:34:02",
          "2020-01-01T15:50:54",
          "2020-01-01T15:52:54",
          "2020-01-01T15:55:52",
          "2020-01-01T16:05:25",
          "2020-01-01T16:24:52",
          "2020-01-01T16:25:58",
          "2020-01-01T16:30:51",
          "2020-01-01T16:33:51",
          "2020-01-01T16:37:27",
          "2020-01-01T16:47:17",
          "2020-01-01T16:49:50"
         ],
         "xaxis": "x",
         "y": [
          0.20554108796296297,
          0.1481290849673203,
          0.10625,
          0.1272727272727273,
          0.16499999999999998,
          0.06158062234794907,
          0.1255980861244019,
          0.0964285714285714,
          0.07483766233766234,
          0.012121212121212116,
          0.29500000000000004,
          0.28730158730158734,
          0.06666666666666667,
          0.5,
          0.16666666666666669,
          0.16666666666666666,
          0.31,
          0.2,
          0.22828282828282828,
          0.049999999999999996,
          0.1568181818181818,
          0.22555555555555554,
          0.003737373737373745,
          0.3578125,
          0.04531746031746031,
          0.17240852181328364,
          0.06145833333333334,
          0.1375,
          0.008333333333333331,
          0.1,
          0.095,
          0.35,
          0.17857142857142855,
          0.375,
          0.087106357694593,
          0.125,
          0.1929814233385662,
          0.425,
          0.06864095500459137,
          0.20113636363636364,
          0.023333333333333338,
          0.5,
          0.2,
          0.45,
          0.09166666666666667,
          0.4,
          0.3400865800865801,
          0.13950216450216452,
          0.3477272727272727,
          0.23611111111111113,
          0.25,
          0.03690476190476189,
          0.1625,
          0.13506493506493508,
          0.15833333333333333,
          0.04847060833902941,
          0.029173292693700864,
          0.4373015873015873,
          0.2526515151515152,
          0.11111111111111112,
          0.2562388591800357,
          0.03666666666666666,
          0.061805555555555544,
          0.22551020408163264,
          0.16666666666666666,
          0.1602891156462585,
          0.2337403337403338,
          0.20777777777777778,
          0.056842918985776106,
          0.17670454545454548,
          0.14285714285714285,
          0.3,
          0.1393960895616525,
          0.15,
          0.04791666666666665,
          0.05,
          0.1429920634920635,
          0.03566666666666666,
          0.19444444444444445,
          0.5060606060606061,
          0.1,
          0.12916666666666665,
          0.2,
          0.10714285714285714,
          0.107009657009657,
          0.14615384615384616,
          0.06666666666666665,
          0.20069444444444445,
          0.47999999999999987,
          0.19999999999999998,
          1,
          0.2,
          0.8,
          0.4454545454545455,
          0.12878787878787878,
          0.18125,
          0.16666666666666666,
          0.45,
          0.12857142857142856,
          0.5,
          0.05059523809523809,
          0.25,
          0.12227272727272727,
          0.15959595959595962,
          0.12000000000000002,
          0.35,
          0.5,
          0.09999999999999998,
          0.5166666666666667,
          0.25,
          0.2128787878787879,
          0.2,
          0.03333333333333333,
          0.08650793650793652,
          0.25999999999999995,
          0.11716212121212123,
          0.009999999999999998,
          0.03474025974025974,
          0.31338095238095237,
          0.09983766233766234,
          0.16249999999999998,
          0.15892857142857142,
          0.04285714285714286,
          0.10944444444444443,
          0.15892857142857142,
          0.5290909090909091,
          0.39015151515151514,
          0.04545454545454545,
          0.3666666666666667,
          0.11818181818181818,
          0.4666666666666668,
          0.125,
          0.0964285714285714,
          0.1361111111111111,
          0.06818181818181818,
          0.06326979472140762,
          0.5234848484848484,
          0.10666666666666666,
          0.21727272727272728,
          1,
          0.0625,
          0.19318181818181818,
          0.5578282828282828,
          0.29,
          0.29545454545454547,
          0.3,
          0.2016666666666666,
          0.019999999999999997,
          0.03521205357142857,
          0.20833333333333334,
          0.3125,
          0.18727272727272729,
          0.14770267328456982,
          0.0012626262626262614,
          0.1880952380952381,
          0.04930555555555555,
          0.19004132231404958,
          0.24166666666666667,
          0.33712121212121215,
          0.18409090909090908,
          0.175,
          0.3594444444444444,
          0.24997745310245312,
          0.04274452618202618,
          0.07857142857142858,
          0.06882284382284382,
          0.13794656358279114,
          0.19571406024531024,
          0.1568181818181818,
          0.12272727272727273,
          0.35,
          0.17402597402597406,
          0.75,
          0.047632575757575756,
          0.15,
          0.09999999999999998,
          0.25,
          0.04162037037037036,
          0.09999999999999999,
          0.35,
          0.10129870129870129,
          0.15763888888888888,
          0.09003759398496242,
          0.11943722943722941,
          0.05454545454545454,
          0.11111111111111113,
          0.19659090909090912,
          0.021212121212121213,
          0.1160909090909091,
          0.08005632360471067,
          0.03333333333333333,
          0.011111111111111136,
          0.06166666666666667,
          0.25,
          0.35871212121212126,
          0.25,
          0.6720833333333334,
          0.0672979797979798,
          0.33011363636363633,
          0.07393939393939394,
          0.25,
          0.16774891774891773,
          0.16666666666666666,
          0.37777777777777777,
          0.24833333333333335,
          0.07739714933592486,
          0.06060606060606062,
          0.026851851851851856,
          0.175,
          0.25999999999999995,
          0.2160774410774411,
          0.125,
          0.033333333333333326,
          0.016666666666666663,
          0.06547619047619047,
          0.009243697478991595,
          0.33720779220779223,
          0.14545454545454542,
          0.0628509117145481,
          0.10919642857142857,
          0.10685185185185185,
          0.3099897787397787,
          0.24583333333333335,
          0.2579188107489994,
          0.16388564777236653,
          0.21666666666666665,
          0.0029761904761904747,
          0.07142857142857142,
          0.5,
          0.014583333333333337,
          0.34375,
          0.08333333333333333,
          0.1,
          0.25013061650992685,
          0.13613636363636367,
          0.11764069264069264,
          0.04999999999999999,
          0.04499999999999999,
          0.25,
          0.15083333333333332,
          0.13714285714285715,
          0.06756004489337823,
          0.17082999305221533,
          0.018928571428571427,
          0.024999999999999994,
          0.11666666666666668,
          0.21880952380952381,
          0.07924107142857142,
          0.1,
          0.22499999999999998,
          0.12272727272727273,
          0.19999999999999998,
          0.175,
          0.6
         ],
         "yaxis": "y"
        },
        {
         "alignmentgroup": "True",
         "bingroup": "x",
         "hoverlabel": {
          "namelength": 0
         },
         "hovertemplate": "sentiment=positive<br>Date Posted=%{x}<br>count=%{y}",
         "legendgroup": "sentiment=positive",
         "marker": {
          "color": "lightslategrey"
         },
         "name": "sentiment=positive",
         "offsetgroup": "sentiment=positive",
         "opacity": 0.5,
         "showlegend": false,
         "type": "histogram",
         "x": [
          "2019-12-31T16:53:42",
          "2019-12-31T17:03:49",
          "2019-12-31T17:05:11",
          "2019-12-31T17:08:27",
          "2019-12-31T17:08:35",
          "2019-12-31T17:09:21",
          "2019-12-31T17:09:26",
          "2019-12-31T17:13:06",
          "2019-12-31T17:17:01",
          "2019-12-31T17:20:55",
          "2019-12-31T17:22:17",
          "2019-12-31T17:23:06",
          "2019-12-31T17:23:28",
          "2019-12-31T17:26:34",
          "2019-12-31T17:27:32",
          "2019-12-31T17:32:27",
          "2019-12-31T17:45:32",
          "2019-12-31T17:46:13",
          "2019-12-31T17:50:29",
          "2019-12-31T17:51:09",
          "2019-12-31T17:55:02",
          "2019-12-31T17:56:37",
          "2019-12-31T18:05:30",
          "2019-12-31T18:06:51",
          "2019-12-31T18:07:30",
          "2019-12-31T18:12:20",
          "2019-12-31T18:12:28",
          "2019-12-31T18:15:31",
          "2019-12-31T18:31:00",
          "2019-12-31T18:34:03",
          "2019-12-31T18:39:59",
          "2019-12-31T18:41:20",
          "2019-12-31T18:50:03",
          "2019-12-31T18:53:54",
          "2019-12-31T18:58:19",
          "2019-12-31T19:00:59",
          "2019-12-31T19:00:59",
          "2019-12-31T19:03:50",
          "2019-12-31T19:14:36",
          "2019-12-31T19:17:13",
          "2019-12-31T19:43:22",
          "2019-12-31T19:44:36",
          "2019-12-31T19:46:12",
          "2019-12-31T19:50:45",
          "2019-12-31T19:53:51",
          "2019-12-31T19:55:15",
          "2019-12-31T20:01:34",
          "2019-12-31T20:02:14",
          "2019-12-31T20:07:16",
          "2019-12-31T20:11:51",
          "2019-12-31T20:14:27",
          "2019-12-31T20:18:07",
          "2019-12-31T20:23:51",
          "2019-12-31T20:26:41",
          "2019-12-31T20:27:33",
          "2019-12-31T20:30:27",
          "2019-12-31T20:34:37",
          "2019-12-31T20:39:20",
          "2019-12-31T20:41:28",
          "2019-12-31T20:42:52",
          "2019-12-31T20:50:19",
          "2019-12-31T20:52:22",
          "2019-12-31T20:52:36",
          "2019-12-31T20:58:37",
          "2019-12-31T20:59:08",
          "2019-12-31T20:59:23",
          "2019-12-31T21:05:26",
          "2019-12-31T21:08:40",
          "2019-12-31T21:11:44",
          "2019-12-31T21:14:41",
          "2019-12-31T21:15:43",
          "2019-12-31T21:30:54",
          "2019-12-31T21:31:18",
          "2019-12-31T21:32:17",
          "2019-12-31T21:33:20",
          "2019-12-31T21:35:30",
          "2019-12-31T21:41:27",
          "2019-12-31T21:44:10",
          "2019-12-31T21:50:18",
          "2019-12-31T21:52:53",
          "2019-12-31T21:55:44",
          "2019-12-31T21:57:53",
          "2019-12-31T21:59:26",
          "2019-12-31T22:01:18",
          "2019-12-31T22:01:48",
          "2019-12-31T22:05:20",
          "2019-12-31T22:06:50",
          "2019-12-31T22:07:41",
          "2019-12-31T22:14:39",
          "2019-12-31T22:25:14",
          "2019-12-31T22:26:24",
          "2019-12-31T22:28:37",
          "2019-12-31T22:29:04",
          "2019-12-31T22:30:55",
          "2019-12-31T22:32:17",
          "2019-12-31T22:40:18",
          "2019-12-31T22:40:44",
          "2019-12-31T22:45:47",
          "2019-12-31T22:47:28",
          "2019-12-31T22:48:32",
          "2019-12-31T22:54:45",
          "2019-12-31T22:54:57",
          "2019-12-31T22:59:12",
          "2019-12-31T23:00:48",
          "2019-12-31T23:01:35",
          "2019-12-31T23:02:39",
          "2019-12-31T23:04:46",
          "2019-12-31T23:07:46",
          "2019-12-31T23:09:04",
          "2019-12-31T23:11:25",
          "2019-12-31T23:11:58",
          "2019-12-31T23:19:29",
          "2019-12-31T23:28:30",
          "2019-12-31T23:30:32",
          "2019-12-31T23:30:33",
          "2019-12-31T23:32:48",
          "2019-12-31T23:38:35",
          "2019-12-31T23:39:17",
          "2019-12-31T23:45:47",
          "2019-12-31T23:52:54",
          "2020-01-01T00:12:42",
          "2020-01-01T00:13:57",
          "2020-01-01T00:14:58",
          "2020-01-01T00:16:38",
          "2020-01-01T00:26:51",
          "2020-01-01T00:29:16",
          "2020-01-01T00:30:47",
          "2020-01-01T00:34:41",
          "2020-01-01T00:51:50",
          "2020-01-01T00:53:20",
          "2020-01-01T00:54:54",
          "2020-01-01T00:56:14",
          "2020-01-01T00:57:13",
          "2020-01-01T01:13:35",
          "2020-01-01T01:17:02",
          "2020-01-01T01:26:18",
          "2020-01-01T01:29:18",
          "2020-01-01T01:38:51",
          "2020-01-01T01:54:11",
          "2020-01-01T02:00:37",
          "2020-01-01T02:01:55",
          "2020-01-01T02:06:04",
          "2020-01-01T02:09:09",
          "2020-01-01T02:21:19",
          "2020-01-01T02:26:44",
          "2020-01-01T02:34:05",
          "2020-01-01T02:34:23",
          "2020-01-01T02:41:38",
          "2020-01-01T02:45:21",
          "2020-01-01T02:50:16",
          "2020-01-01T02:53:20",
          "2020-01-01T02:53:52",
          "2020-01-01T02:54:23",
          "2020-01-01T03:01:12",
          "2020-01-01T03:03:47",
          "2020-01-01T03:05:04",
          "2020-01-01T03:14:52",
          "2020-01-01T03:29:00",
          "2020-01-01T03:44:45",
          "2020-01-01T03:52:42",
          "2020-01-01T04:01:54",
          "2020-01-01T04:06:13",
          "2020-01-01T04:07:17",
          "2020-01-01T04:08:28",
          "2020-01-01T04:39:32",
          "2020-01-01T04:40:15",
          "2020-01-01T04:48:41",
          "2020-01-01T04:52:40",
          "2020-01-01T04:54:19",
          "2020-01-01T05:01:46",
          "2020-01-01T05:03:48",
          "2020-01-01T05:04:39",
          "2020-01-01T05:05:30",
          "2020-01-01T05:16:25",
          "2020-01-01T05:20:58",
          "2020-01-01T05:24:07",
          "2020-01-01T05:33:58",
          "2020-01-01T05:39:03",
          "2020-01-01T05:40:55",
          "2020-01-01T05:42:09",
          "2020-01-01T05:57:07",
          "2020-01-01T06:10:24",
          "2020-01-01T06:22:05",
          "2020-01-01T06:22:11",
          "2020-01-01T06:35:19",
          "2020-01-01T06:40:56",
          "2020-01-01T07:01:11",
          "2020-01-01T07:22:57",
          "2020-01-01T07:29:45",
          "2020-01-01T07:32:54",
          "2020-01-01T07:35:28",
          "2020-01-01T07:43:05",
          "2020-01-01T07:56:13",
          "2020-01-01T08:07:04",
          "2020-01-01T08:09:37",
          "2020-01-01T08:13:27",
          "2020-01-01T08:43:41",
          "2020-01-01T08:55:32",
          "2020-01-01T09:21:37",
          "2020-01-01T09:29:17",
          "2020-01-01T09:29:32",
          "2020-01-01T09:31:35",
          "2020-01-01T09:39:47",
          "2020-01-01T09:52:13",
          "2020-01-01T10:09:49",
          "2020-01-01T10:18:18",
          "2020-01-01T10:26:19",
          "2020-01-01T10:34:15",
          "2020-01-01T10:35:08",
          "2020-01-01T10:38:58",
          "2020-01-01T10:57:21",
          "2020-01-01T11:03:41",
          "2020-01-01T11:46:18",
          "2020-01-01T11:49:55",
          "2020-01-01T11:49:58",
          "2020-01-01T11:53:38",
          "2020-01-01T11:58:16",
          "2020-01-01T11:59:24",
          "2020-01-01T12:01:49",
          "2020-01-01T12:42:55",
          "2020-01-01T12:43:36",
          "2020-01-01T13:01:01",
          "2020-01-01T13:01:09",
          "2020-01-01T13:27:10",
          "2020-01-01T13:41:27",
          "2020-01-01T14:03:07",
          "2020-01-01T14:05:51",
          "2020-01-01T14:06:40",
          "2020-01-01T14:07:19",
          "2020-01-01T14:10:03",
          "2020-01-01T14:17:48",
          "2020-01-01T14:23:04",
          "2020-01-01T14:33:00",
          "2020-01-01T14:34:18",
          "2020-01-01T14:44:20",
          "2020-01-01T14:47:52",
          "2020-01-01T14:48:13",
          "2020-01-01T14:59:17",
          "2020-01-01T15:01:58",
          "2020-01-01T15:13:02",
          "2020-01-01T15:23:28",
          "2020-01-01T15:28:07",
          "2020-01-01T15:34:02",
          "2020-01-01T15:50:54",
          "2020-01-01T15:52:54",
          "2020-01-01T15:55:52",
          "2020-01-01T16:05:25",
          "2020-01-01T16:24:52",
          "2020-01-01T16:25:58",
          "2020-01-01T16:30:51",
          "2020-01-01T16:33:51",
          "2020-01-01T16:37:27",
          "2020-01-01T16:47:17",
          "2020-01-01T16:49:50"
         ],
         "xaxis": "x2",
         "yaxis": "y2"
        }
       ],
       "layout": {
        "barmode": "overlay",
        "legend": {
         "itemsizing": "constant",
         "tracegroupgap": 0
        },
        "template": {
         "data": {
          "bar": [
           {
            "error_x": {
             "color": "#2a3f5f"
            },
            "error_y": {
             "color": "#2a3f5f"
            },
            "marker": {
             "line": {
              "color": "#E5ECF6",
              "width": 0.5
             }
            },
            "type": "bar"
           }
          ],
          "barpolar": [
           {
            "marker": {
             "line": {
              "color": "#E5ECF6",
              "width": 0.5
             }
            },
            "type": "barpolar"
           }
          ],
          "carpet": [
           {
            "aaxis": {
             "endlinecolor": "#2a3f5f",
             "gridcolor": "white",
             "linecolor": "white",
             "minorgridcolor": "white",
             "startlinecolor": "#2a3f5f"
            },
            "baxis": {
             "endlinecolor": "#2a3f5f",
             "gridcolor": "white",
             "linecolor": "white",
             "minorgridcolor": "white",
             "startlinecolor": "#2a3f5f"
            },
            "type": "carpet"
           }
          ],
          "choropleth": [
           {
            "colorbar": {
             "outlinewidth": 0,
             "ticks": ""
            },
            "type": "choropleth"
           }
          ],
          "contour": [
           {
            "colorbar": {
             "outlinewidth": 0,
             "ticks": ""
            },
            "colorscale": [
             [
              0,
              "#0d0887"
             ],
             [
              0.1111111111111111,
              "#46039f"
             ],
             [
              0.2222222222222222,
              "#7201a8"
             ],
             [
              0.3333333333333333,
              "#9c179e"
             ],
             [
              0.4444444444444444,
              "#bd3786"
             ],
             [
              0.5555555555555556,
              "#d8576b"
             ],
             [
              0.6666666666666666,
              "#ed7953"
             ],
             [
              0.7777777777777778,
              "#fb9f3a"
             ],
             [
              0.8888888888888888,
              "#fdca26"
             ],
             [
              1,
              "#f0f921"
             ]
            ],
            "type": "contour"
           }
          ],
          "contourcarpet": [
           {
            "colorbar": {
             "outlinewidth": 0,
             "ticks": ""
            },
            "type": "contourcarpet"
           }
          ],
          "heatmap": [
           {
            "colorbar": {
             "outlinewidth": 0,
             "ticks": ""
            },
            "colorscale": [
             [
              0,
              "#0d0887"
             ],
             [
              0.1111111111111111,
              "#46039f"
             ],
             [
              0.2222222222222222,
              "#7201a8"
             ],
             [
              0.3333333333333333,
              "#9c179e"
             ],
             [
              0.4444444444444444,
              "#bd3786"
             ],
             [
              0.5555555555555556,
              "#d8576b"
             ],
             [
              0.6666666666666666,
              "#ed7953"
             ],
             [
              0.7777777777777778,
              "#fb9f3a"
             ],
             [
              0.8888888888888888,
              "#fdca26"
             ],
             [
              1,
              "#f0f921"
             ]
            ],
            "type": "heatmap"
           }
          ],
          "heatmapgl": [
           {
            "colorbar": {
             "outlinewidth": 0,
             "ticks": ""
            },
            "colorscale": [
             [
              0,
              "#0d0887"
             ],
             [
              0.1111111111111111,
              "#46039f"
             ],
             [
              0.2222222222222222,
              "#7201a8"
             ],
             [
              0.3333333333333333,
              "#9c179e"
             ],
             [
              0.4444444444444444,
              "#bd3786"
             ],
             [
              0.5555555555555556,
              "#d8576b"
             ],
             [
              0.6666666666666666,
              "#ed7953"
             ],
             [
              0.7777777777777778,
              "#fb9f3a"
             ],
             [
              0.8888888888888888,
              "#fdca26"
             ],
             [
              1,
              "#f0f921"
             ]
            ],
            "type": "heatmapgl"
           }
          ],
          "histogram": [
           {
            "marker": {
             "colorbar": {
              "outlinewidth": 0,
              "ticks": ""
             }
            },
            "type": "histogram"
           }
          ],
          "histogram2d": [
           {
            "colorbar": {
             "outlinewidth": 0,
             "ticks": ""
            },
            "colorscale": [
             [
              0,
              "#0d0887"
             ],
             [
              0.1111111111111111,
              "#46039f"
             ],
             [
              0.2222222222222222,
              "#7201a8"
             ],
             [
              0.3333333333333333,
              "#9c179e"
             ],
             [
              0.4444444444444444,
              "#bd3786"
             ],
             [
              0.5555555555555556,
              "#d8576b"
             ],
             [
              0.6666666666666666,
              "#ed7953"
             ],
             [
              0.7777777777777778,
              "#fb9f3a"
             ],
             [
              0.8888888888888888,
              "#fdca26"
             ],
             [
              1,
              "#f0f921"
             ]
            ],
            "type": "histogram2d"
           }
          ],
          "histogram2dcontour": [
           {
            "colorbar": {
             "outlinewidth": 0,
             "ticks": ""
            },
            "colorscale": [
             [
              0,
              "#0d0887"
             ],
             [
              0.1111111111111111,
              "#46039f"
             ],
             [
              0.2222222222222222,
              "#7201a8"
             ],
             [
              0.3333333333333333,
              "#9c179e"
             ],
             [
              0.4444444444444444,
              "#bd3786"
             ],
             [
              0.5555555555555556,
              "#d8576b"
             ],
             [
              0.6666666666666666,
              "#ed7953"
             ],
             [
              0.7777777777777778,
              "#fb9f3a"
             ],
             [
              0.8888888888888888,
              "#fdca26"
             ],
             [
              1,
              "#f0f921"
             ]
            ],
            "type": "histogram2dcontour"
           }
          ],
          "mesh3d": [
           {
            "colorbar": {
             "outlinewidth": 0,
             "ticks": ""
            },
            "type": "mesh3d"
           }
          ],
          "parcoords": [
           {
            "line": {
             "colorbar": {
              "outlinewidth": 0,
              "ticks": ""
             }
            },
            "type": "parcoords"
           }
          ],
          "pie": [
           {
            "automargin": true,
            "type": "pie"
           }
          ],
          "scatter": [
           {
            "marker": {
             "colorbar": {
              "outlinewidth": 0,
              "ticks": ""
             }
            },
            "type": "scatter"
           }
          ],
          "scatter3d": [
           {
            "line": {
             "colorbar": {
              "outlinewidth": 0,
              "ticks": ""
             }
            },
            "marker": {
             "colorbar": {
              "outlinewidth": 0,
              "ticks": ""
             }
            },
            "type": "scatter3d"
           }
          ],
          "scattercarpet": [
           {
            "marker": {
             "colorbar": {
              "outlinewidth": 0,
              "ticks": ""
             }
            },
            "type": "scattercarpet"
           }
          ],
          "scattergeo": [
           {
            "marker": {
             "colorbar": {
              "outlinewidth": 0,
              "ticks": ""
             }
            },
            "type": "scattergeo"
           }
          ],
          "scattergl": [
           {
            "marker": {
             "colorbar": {
              "outlinewidth": 0,
              "ticks": ""
             }
            },
            "type": "scattergl"
           }
          ],
          "scattermapbox": [
           {
            "marker": {
             "colorbar": {
              "outlinewidth": 0,
              "ticks": ""
             }
            },
            "type": "scattermapbox"
           }
          ],
          "scatterpolar": [
           {
            "marker": {
             "colorbar": {
              "outlinewidth": 0,
              "ticks": ""
             }
            },
            "type": "scatterpolar"
           }
          ],
          "scatterpolargl": [
           {
            "marker": {
             "colorbar": {
              "outlinewidth": 0,
              "ticks": ""
             }
            },
            "type": "scatterpolargl"
           }
          ],
          "scatterternary": [
           {
            "marker": {
             "colorbar": {
              "outlinewidth": 0,
              "ticks": ""
             }
            },
            "type": "scatterternary"
           }
          ],
          "surface": [
           {
            "colorbar": {
             "outlinewidth": 0,
             "ticks": ""
            },
            "colorscale": [
             [
              0,
              "#0d0887"
             ],
             [
              0.1111111111111111,
              "#46039f"
             ],
             [
              0.2222222222222222,
              "#7201a8"
             ],
             [
              0.3333333333333333,
              "#9c179e"
             ],
             [
              0.4444444444444444,
              "#bd3786"
             ],
             [
              0.5555555555555556,
              "#d8576b"
             ],
             [
              0.6666666666666666,
              "#ed7953"
             ],
             [
              0.7777777777777778,
              "#fb9f3a"
             ],
             [
              0.8888888888888888,
              "#fdca26"
             ],
             [
              1,
              "#f0f921"
             ]
            ],
            "type": "surface"
           }
          ],
          "table": [
           {
            "cells": {
             "fill": {
              "color": "#EBF0F8"
             },
             "line": {
              "color": "white"
             }
            },
            "header": {
             "fill": {
              "color": "#C8D4E3"
             },
             "line": {
              "color": "white"
             }
            },
            "type": "table"
           }
          ]
         },
         "layout": {
          "annotationdefaults": {
           "arrowcolor": "#2a3f5f",
           "arrowhead": 0,
           "arrowwidth": 1
          },
          "coloraxis": {
           "colorbar": {
            "outlinewidth": 0,
            "ticks": ""
           }
          },
          "colorscale": {
           "diverging": [
            [
             0,
             "#8e0152"
            ],
            [
             0.1,
             "#c51b7d"
            ],
            [
             0.2,
             "#de77ae"
            ],
            [
             0.3,
             "#f1b6da"
            ],
            [
             0.4,
             "#fde0ef"
            ],
            [
             0.5,
             "#f7f7f7"
            ],
            [
             0.6,
             "#e6f5d0"
            ],
            [
             0.7,
             "#b8e186"
            ],
            [
             0.8,
             "#7fbc41"
            ],
            [
             0.9,
             "#4d9221"
            ],
            [
             1,
             "#276419"
            ]
           ],
           "sequential": [
            [
             0,
             "#0d0887"
            ],
            [
             0.1111111111111111,
             "#46039f"
            ],
            [
             0.2222222222222222,
             "#7201a8"
            ],
            [
             0.3333333333333333,
             "#9c179e"
            ],
            [
             0.4444444444444444,
             "#bd3786"
            ],
            [
             0.5555555555555556,
             "#d8576b"
            ],
            [
             0.6666666666666666,
             "#ed7953"
            ],
            [
             0.7777777777777778,
             "#fb9f3a"
            ],
            [
             0.8888888888888888,
             "#fdca26"
            ],
            [
             1,
             "#f0f921"
            ]
           ],
           "sequentialminus": [
            [
             0,
             "#0d0887"
            ],
            [
             0.1111111111111111,
             "#46039f"
            ],
            [
             0.2222222222222222,
             "#7201a8"
            ],
            [
             0.3333333333333333,
             "#9c179e"
            ],
            [
             0.4444444444444444,
             "#bd3786"
            ],
            [
             0.5555555555555556,
             "#d8576b"
            ],
            [
             0.6666666666666666,
             "#ed7953"
            ],
            [
             0.7777777777777778,
             "#fb9f3a"
            ],
            [
             0.8888888888888888,
             "#fdca26"
            ],
            [
             1,
             "#f0f921"
            ]
           ]
          },
          "colorway": [
           "#636efa",
           "#EF553B",
           "#00cc96",
           "#ab63fa",
           "#FFA15A",
           "#19d3f3",
           "#FF6692",
           "#B6E880",
           "#FF97FF",
           "#FECB52"
          ],
          "font": {
           "color": "#2a3f5f"
          },
          "geo": {
           "bgcolor": "white",
           "lakecolor": "white",
           "landcolor": "#E5ECF6",
           "showlakes": true,
           "showland": true,
           "subunitcolor": "white"
          },
          "hoverlabel": {
           "align": "left"
          },
          "hovermode": "closest",
          "mapbox": {
           "style": "light"
          },
          "paper_bgcolor": "white",
          "plot_bgcolor": "#E5ECF6",
          "polar": {
           "angularaxis": {
            "gridcolor": "white",
            "linecolor": "white",
            "ticks": ""
           },
           "bgcolor": "#E5ECF6",
           "radialaxis": {
            "gridcolor": "white",
            "linecolor": "white",
            "ticks": ""
           }
          },
          "scene": {
           "xaxis": {
            "backgroundcolor": "#E5ECF6",
            "gridcolor": "white",
            "gridwidth": 2,
            "linecolor": "white",
            "showbackground": true,
            "ticks": "",
            "zerolinecolor": "white"
           },
           "yaxis": {
            "backgroundcolor": "#E5ECF6",
            "gridcolor": "white",
            "gridwidth": 2,
            "linecolor": "white",
            "showbackground": true,
            "ticks": "",
            "zerolinecolor": "white"
           },
           "zaxis": {
            "backgroundcolor": "#E5ECF6",
            "gridcolor": "white",
            "gridwidth": 2,
            "linecolor": "white",
            "showbackground": true,
            "ticks": "",
            "zerolinecolor": "white"
           }
          },
          "shapedefaults": {
           "line": {
            "color": "#2a3f5f"
           }
          },
          "ternary": {
           "aaxis": {
            "gridcolor": "white",
            "linecolor": "white",
            "ticks": ""
           },
           "baxis": {
            "gridcolor": "white",
            "linecolor": "white",
            "ticks": ""
           },
           "bgcolor": "#E5ECF6",
           "caxis": {
            "gridcolor": "white",
            "linecolor": "white",
            "ticks": ""
           }
          },
          "title": {
           "x": 0.05
          },
          "xaxis": {
           "automargin": true,
           "gridcolor": "white",
           "linecolor": "white",
           "ticks": "",
           "title": {
            "standoff": 15
           },
           "zerolinecolor": "white",
           "zerolinewidth": 2
          },
          "yaxis": {
           "automargin": true,
           "gridcolor": "white",
           "linecolor": "white",
           "ticks": "",
           "title": {
            "standoff": 15
           },
           "zerolinecolor": "white",
           "zerolinewidth": 2
          }
         }
        },
        "title": {
         "text": "Sentiment analysis of r/destinythegame posts from previous 24 hours"
        },
        "xaxis": {
         "anchor": "y",
         "domain": [
          0,
          1
         ],
         "title": {
          "text": "Date Posted"
         }
        },
        "xaxis2": {
         "anchor": "y2",
         "domain": [
          0,
          1
         ],
         "matches": "x",
         "showgrid": true,
         "showticklabels": false
        },
        "yaxis": {
         "anchor": "x",
         "domain": [
          0,
          0.7326
         ],
         "title": {
          "text": "Post Polarity"
         }
        },
        "yaxis2": {
         "anchor": "x2",
         "domain": [
          0.7426,
          1
         ],
         "matches": "y2",
         "showgrid": true,
         "showline": false,
         "showticklabels": false,
         "ticks": ""
        }
       }
      },
      "text/html": [
       "<div>\n",
       "        \n",
       "        \n",
       "            <div id=\"82d17573-c9b0-4c1f-8a57-59fb1cb69fc8\" class=\"plotly-graph-div\" style=\"height:525px; width:100%;\"></div>\n",
       "            <script type=\"text/javascript\">\n",
       "                require([\"plotly\"], function(Plotly) {\n",
       "                    window.PLOTLYENV=window.PLOTLYENV || {};\n",
       "                    \n",
       "                if (document.getElementById(\"82d17573-c9b0-4c1f-8a57-59fb1cb69fc8\")) {\n",
       "                    Plotly.newPlot(\n",
       "                        '82d17573-c9b0-4c1f-8a57-59fb1cb69fc8',\n",
       "                        [{\"customdata\": [[\"nightskiesdark\", \"ei5czv\"], [\"DHamlinMusic\", \"ei5jt0\"], [\"WyattGquiet\", \"ei5k11\"], [\"Onedrid\", \"ei5koe\"], [\"LRJiren\", \"ei5ozk\"], [\"cakeyyz\", \"ei5qjj\"], [\"drewbud33\", \"ei5vex\"], [\"FewerColt369\", \"ei647m\"], [\"ThrobbingDish\", \"ei68vi\"], [\"Nukesnipe\", \"ei6bth\"], [\"Brandocks\", \"ei6eke\"], [\"Titans_are_superior\", \"ei6gve\"], [\"Outstandingcucumber\", \"ei6hfh\"], [\"jkfuzzy\", \"ei6ht2\"], [\"xSilverBruh9x\", \"ei6j49\"], [\"TTVMoses\", \"ei6l2g\"], [\"Corvo4133\", \"ei6nrj\"], [\"destinyvoidlock\", \"ei6nyw\"], [\"ryvenkael\", \"ei6q89\"], [\"Lokil\", \"ei6sad\"], [\"teach49\", \"ei6vzc\"], [\"UKnowPoo\", \"ei6ymf\"], [\"Struchdestroyer\", \"ei71ns\"], [\"TTVMoses\", \"ei7398\"], [\"RedDeath299_\", \"ei742e\"], [\"PerilousMax\", \"ei750i\"], [\"Prob_Pooping\", \"ei78jh\"], [\"Max_Tin\", \"ei7f2n\"], [\"skyman5150\", \"ei7mlt\"], [\"Elwalther21\", \"ei7p7q\"], [\"Arman276\", \"ei7u82\"], [\"Zanex123\", \"ei7wdu\"], [\"kdebones\", \"ei7xe6\"], [\"HellChicken949\", \"ei7y71\"], [\"NegZ68\", \"ei7ys5\"], [\"SpessMareen\", \"ei8272\"], [\"RevanTheDragon\", \"ei84mj\"], [\"Joshhaslam\", \"ei854b\"], [\"Xunto\", \"ei8in4\"], [\"saiyan_boy\", \"ei8mb9\"], [\"saminsocks\", \"ei8mvr\"], [\"Yung_Seamless\", \"ei92a3\"], [\"Griffintowers101\", \"ei931y\"], [\"chowdahead03\", \"ei94dq\"], [\"FearlessZephyr\", \"ei97yb\"], [\"fir5t1nline\", \"ei99er\"], [\"kinntaki\", \"ei9dak\"], [\"Hazmat616\", \"ei9ej7\"], [\"rkelez\", \"ei9eue\"], [\"vejolly\", \"ei9g8q\"], [\"Jerk48\", \"ei9isd\"], [\"Titans_are_superior\", \"ei9lha\"], [\"mirshe\", \"ei9pyi\"], [\"xenosidezero\", \"ei9rqf\"], [\"Sandman15235\", \"ei9zhk\"], [\"MGPythagoras\", \"eia0ps\"], [\"emubilly\", \"eiaazr\"], [\"Onyx_Ninja\", \"eiahj8\"], [\"RussianBearFight\", \"eiap7r\"], [\"TervoDoesGamesYT\", \"eiaqn5\"], [\"LeNooFa\", \"eibd63\"], [\"Padrin95\", \"eibfr8\"], [\"xKybow\", \"eibhvy\"], [\"TheCuccubus\", \"eibkfv\"], [\"OldNorseBoy\", \"eibnpr\"], [\"tracermain12\", \"eiboz1\"], [\"TheMaestroNoob\", \"eibt9i\"], [\"InactivePixels\", \"eibvoi\"], [\"ske7chpls\", \"eibvrc\"], [\"DesertJaguar\", \"eibx6k\"], [\"SqueegeeMe\", \"eic1pu\"], [\"Torombol0\", \"eice3t\"], [\"Thunderbridge\", \"eicgz8\"], [\"Radips\", \"eichij\"], [\"MachoPanda71\", \"eicifr\"], [\"Cryptarch44\", \"eicxra\"], [\"Ascalion\", \"eid53l\"], [\"Draconic_Void\", \"eid76t\"], [\"Cooper604\", \"eid81q\"], [\"Dmen1478\", \"eid88r\"], [\"Xur_Is_Not_TheNine\", \"eid9zq\"], [\"Q2Qool\", \"eidbka\"], [\"YaBoiLycaDaPeluca\", \"eidbrv\"], [\"RipstefanKarlsteffan\", \"eiddny\"], [\"meowcubed\", \"eidj6v\"], [\"Noobcombos\", \"eidjda\"], [\"raptors592\", \"eidnpp\"], [\"sabreclaw000\", \"eidnrv\"], [\"AvxyPlays\", \"eidoo4\"], [\"AtomicDog602\", \"eie1id\"], [\"kxviniscool\", \"eie3ds\"], [\"pro3001\", \"eie3vb\"], [\"Jazzer995\", \"eie6ia\"], [\"Your_Uncle_Gubsy\", \"eieerg\"], [\"marcelopegacaneta\", \"eievm0\"], [\"vivereFerrari\", \"eiezfu\"], [\"Kevins_Auskaps\", \"eif4yz\"], [\"OthinusShmothinus\", \"eif9hu\"], [\"khazixian\", \"eifh6m\"], [\"elsexyboygian\", \"eig3py\"], [\"gor8884\", \"eigemk\"], [\"OPgamerlife\", \"eigg3r\"], [\"ivorybloodsh3d\", \"eigmvp\"], [\"Xerriim\", \"eigrmv\"], [\"SmurfStop\", \"eigygn\"], [\"devjj\", \"eih3v5\"], [\"vanderzee\", \"eih95d\"], [\"Cynaren\", \"eihdkx\"], [\"TheRealTTN\", \"eihhow\"], [\"BlackTides\", \"eihkqk\"], [\"segaselsky\", \"eihvo0\"], [\"Narot2342\", \"eiiwi9\"], [\"6519719Mm\", \"eiiwk0\"], [\"AntoReakk\", \"eijd4k\"], [\"337soft\", \"eijfp3\"], [\"Slimschutte8\", \"eijg58\"], [\"x_pac13\", \"eijgug\"], [\"Ginsor\", \"eijqdu\"], [\"nufrancis\", \"eijrdg\"], [\"Wess-L\", \"eijxaw\"], [\"DrTaylorB\", \"eik5o1\"], [\"Boohma\", \"eik68e\"], [\"Skifer91290\", \"eik874\"]], \"hoverlabel\": {\"namelength\": 0}, \"hovertemplate\": \"sentiment=negative<br>Date Posted=%{x}<br>Post Polarity=%{y}<br>num_comments=%{marker.size}<br>author=%{customdata[0]}<br>id=%{customdata[1]}\", \"legendgroup\": \"sentiment=negative\", \"marker\": {\"color\": \"violet\", \"size\": [3, 6, 1, 6, 10, 16, 6, 3, 5, 22, 4, 16, 10, 2, 11, 15, 2, 203, 1, 3, 39, 9, 15, 51, 2, 64, 7, 21, 11, 6, 7, 7, 7, 9, 3, 0, 4, 2, 7, 6, 4, 4, 19, 6, 2, 3, 86, 28, 10, 2, 1, 0, 2, 8, 7, 1, 23, 1, 8, 9, 6, 4, 4, 5, 4, 10, 429, 0, 10, 15, 3, 12, 3, 3, 5, 4, 3, 4, 3, 2, 8, 13, 0, 10, 8, 1, 14, 8, 8, 9, 72, 6, 9, 4, 3, 3, 2, 1, 3, 17, 2, 0, 7, 16, 5, 1, 15, 30, 4, 7, 12, 5, 4, 9, 2, 1, 6, 6, 8, 4, 4, 9, 1], \"sizemode\": \"area\", \"sizeref\": 1.0725, \"symbol\": \"circle\"}, \"mode\": \"markers\", \"name\": \"sentiment=negative\", \"showlegend\": true, \"type\": \"scatter\", \"x\": [\"2019-12-31T16:51:27\", \"2019-12-31T17:04:49\", \"2019-12-31T17:05:14\", \"2019-12-31T17:06:28\", \"2019-12-31T17:14:47\", \"2019-12-31T17:17:56\", \"2019-12-31T17:27:15\", \"2019-12-31T17:44:35\", \"2019-12-31T17:54:00\", \"2019-12-31T17:59:47\", \"2019-12-31T18:05:07\", \"2019-12-31T18:09:42\", \"2019-12-31T18:10:47\", \"2019-12-31T18:11:30\", \"2019-12-31T18:14:10\", \"2019-12-31T18:18:02\", \"2019-12-31T18:23:22\", \"2019-12-31T18:23:46\", \"2019-12-31T18:28:27\", \"2019-12-31T18:32:33\", \"2019-12-31T18:39:54\", \"2019-12-31T18:45:16\", \"2019-12-31T18:51:31\", \"2019-12-31T18:54:47\", \"2019-12-31T18:56:23\", \"2019-12-31T18:58:17\", \"2019-12-31T19:05:07\", \"2019-12-31T19:17:52\", \"2019-12-31T19:32:58\", \"2019-12-31T19:38:11\", \"2019-12-31T19:48:43\", \"2019-12-31T19:53:15\", \"2019-12-31T19:55:21\", \"2019-12-31T19:57:05\", \"2019-12-31T19:58:18\", \"2019-12-31T20:05:27\", \"2019-12-31T20:10:36\", \"2019-12-31T20:11:39\", \"2019-12-31T20:40:33\", \"2019-12-31T20:48:40\", \"2019-12-31T20:49:52\", \"2019-12-31T21:23:52\", \"2019-12-31T21:25:36\", \"2019-12-31T21:28:32\", \"2019-12-31T21:36:31\", \"2019-12-31T21:39:43\", \"2019-12-31T21:48:23\", \"2019-12-31T21:51:19\", \"2019-12-31T21:52:00\", \"2019-12-31T21:55:14\", \"2019-12-31T22:01:06\", \"2019-12-31T22:06:59\", \"2019-12-31T22:16:56\", \"2019-12-31T22:21:05\", \"2019-12-31T22:38:16\", \"2019-12-31T22:40:54\", \"2019-12-31T23:04:14\", \"2019-12-31T23:18:44\", \"2019-12-31T23:35:50\", \"2019-12-31T23:38:53\", \"2020-01-01T00:28:44\", \"2020-01-01T00:34:26\", \"2020-01-01T00:38:53\", \"2020-01-01T00:44:36\", \"2020-01-01T00:52:37\", \"2020-01-01T00:55:40\", \"2020-01-01T01:05:53\", \"2020-01-01T01:11:46\", \"2020-01-01T01:11:57\", \"2020-01-01T01:15:22\", \"2020-01-01T01:26:31\", \"2020-01-01T01:58:04\", \"2020-01-01T02:05:18\", \"2020-01-01T02:06:34\", \"2020-01-01T02:08:56\", \"2020-01-01T02:49:08\", \"2020-01-01T03:09:20\", \"2020-01-01T03:14:58\", \"2020-01-01T03:17:29\", \"2020-01-01T03:18:02\", \"2020-01-01T03:22:35\", \"2020-01-01T03:26:54\", \"2020-01-01T03:27:30\", \"2020-01-01T03:32:54\", \"2020-01-01T03:47:59\", \"2020-01-01T03:48:31\", \"2020-01-01T04:00:52\", \"2020-01-01T04:01:00\", \"2020-01-01T04:03:15\", \"2020-01-01T04:40:31\", \"2020-01-01T04:46:17\", \"2020-01-01T04:47:36\", \"2020-01-01T04:55:14\", \"2020-01-01T05:14:49\", \"2020-01-01T06:02:53\", \"2020-01-01T06:12:59\", \"2020-01-01T06:29:41\", \"2020-01-01T06:43:49\", \"2020-01-01T07:08:01\", \"2020-01-01T08:25:03\", \"2020-01-01T09:06:17\", \"2020-01-01T09:11:58\", \"2020-01-01T09:38:10\", \"2020-01-01T09:56:31\", \"2020-01-01T10:21:45\", \"2020-01-01T10:43:10\", \"2020-01-01T11:04:01\", \"2020-01-01T11:20:23\", \"2020-01-01T11:36:32\", \"2020-01-01T11:48:33\", \"2020-01-01T12:30:08\", \"2020-01-01T14:33:02\", \"2020-01-01T14:33:11\", \"2020-01-01T15:19:09\", \"2020-01-01T15:26:02\", \"2020-01-01T15:27:12\", \"2020-01-01T15:28:58\", \"2020-01-01T15:53:51\", \"2020-01-01T15:56:07\", \"2020-01-01T16:10:27\", \"2020-01-01T16:30:09\", \"2020-01-01T16:31:23\", \"2020-01-01T16:36:01\"], \"xaxis\": \"x\", \"y\": [-0.37500000000000006, -0.05, 0.0, -0.14593253968253966, 0.0, -0.09720238095238094, -0.06778198653198654, -0.050000000000000044, -0.050000000000000044, -0.08863636363636364, -0.024999999999999984, 0.0, -0.12, -0.15000000000000002, -0.14583333333333334, -0.16666666666666666, -0.25, -0.06041666666666666, -0.09285714285714286, -0.03333333333333333, -0.11111111111111112, -0.13125, 0.0, -0.0747159090909091, -0.090625, -0.07037037037037033, -0.11632653061224489, -0.055555555555555504, -0.03234551396316103, -0.171875, -0.25, 0.0, -0.12301587301587302, 0.0, -0.8, -0.21666666666666667, -0.15, 0.0, 0.0, -0.2, 0.0, 0.0, -0.17499999999999996, -0.06845238095238096, 0.0, 0.0, -0.1, -0.11666666666666665, -0.05, 0.0, -0.1, 0.0, -0.07638888888888888, -0.13333333333333333, -0.13999999999999999, -0.075, -0.25, -0.08611111111111114, 0.0, 0.0, -0.5, 0.0, -0.050000000000000044, -0.013888888888888902, -0.2333333333333333, -0.22083333333333333, 0.0, -0.021428571428571436, 0.0, -0.0069444444444444475, -0.25, 0.0, -0.05965909090909091, -0.07891156462585035, -0.01957813428401664, -0.18333333333333335, -0.06785714285714287, 0.0, 0.0, -0.03621794871794872, -0.045312500000000006, -0.016666666666666677, 0.0, 0.0, -0.0020833333333333294, 0.0, 0.0, -0.004341491841491843, -0.30000000000000004, 0.0, -0.15791666666666668, -0.017407407407407406, -0.0888888888888889, -0.21785714285714286, -0.016666666666666653, 0.0, -0.014583333333333351, -0.008333333333333337, -0.025, -0.022380952380952397, 0.0, 0.0, -0.10755208333333335, -0.0062500000000000056, 0.0, -0.009285714285714286, -0.07229437229437229, -0.15, 0.0, -0.08888888888888889, -0.15000000000000002, -0.00833333333333334, 0.0, -0.34074074074074073, -0.14375, 0.0, -0.025818452380952393, -0.04897186147186148, 0.0, -0.019642857142857146, -0.07777777777777778, 0.0, 0.0], \"yaxis\": \"y\"}, {\"alignmentgroup\": \"True\", \"bingroup\": \"x\", \"hoverlabel\": {\"namelength\": 0}, \"hovertemplate\": \"sentiment=negative<br>Date Posted=%{x}<br>count=%{y}\", \"legendgroup\": \"sentiment=negative\", \"marker\": {\"color\": \"violet\"}, \"name\": \"sentiment=negative\", \"offsetgroup\": \"sentiment=negative\", \"opacity\": 0.5, \"showlegend\": false, \"type\": \"histogram\", \"x\": [\"2019-12-31T16:51:27\", \"2019-12-31T17:04:49\", \"2019-12-31T17:05:14\", \"2019-12-31T17:06:28\", \"2019-12-31T17:14:47\", \"2019-12-31T17:17:56\", \"2019-12-31T17:27:15\", \"2019-12-31T17:44:35\", \"2019-12-31T17:54:00\", \"2019-12-31T17:59:47\", \"2019-12-31T18:05:07\", \"2019-12-31T18:09:42\", \"2019-12-31T18:10:47\", \"2019-12-31T18:11:30\", \"2019-12-31T18:14:10\", \"2019-12-31T18:18:02\", \"2019-12-31T18:23:22\", \"2019-12-31T18:23:46\", \"2019-12-31T18:28:27\", \"2019-12-31T18:32:33\", \"2019-12-31T18:39:54\", \"2019-12-31T18:45:16\", \"2019-12-31T18:51:31\", \"2019-12-31T18:54:47\", \"2019-12-31T18:56:23\", \"2019-12-31T18:58:17\", \"2019-12-31T19:05:07\", \"2019-12-31T19:17:52\", \"2019-12-31T19:32:58\", \"2019-12-31T19:38:11\", \"2019-12-31T19:48:43\", \"2019-12-31T19:53:15\", \"2019-12-31T19:55:21\", \"2019-12-31T19:57:05\", \"2019-12-31T19:58:18\", \"2019-12-31T20:05:27\", \"2019-12-31T20:10:36\", \"2019-12-31T20:11:39\", \"2019-12-31T20:40:33\", \"2019-12-31T20:48:40\", \"2019-12-31T20:49:52\", \"2019-12-31T21:23:52\", \"2019-12-31T21:25:36\", \"2019-12-31T21:28:32\", \"2019-12-31T21:36:31\", \"2019-12-31T21:39:43\", \"2019-12-31T21:48:23\", \"2019-12-31T21:51:19\", \"2019-12-31T21:52:00\", \"2019-12-31T21:55:14\", \"2019-12-31T22:01:06\", \"2019-12-31T22:06:59\", \"2019-12-31T22:16:56\", \"2019-12-31T22:21:05\", \"2019-12-31T22:38:16\", \"2019-12-31T22:40:54\", \"2019-12-31T23:04:14\", \"2019-12-31T23:18:44\", \"2019-12-31T23:35:50\", \"2019-12-31T23:38:53\", \"2020-01-01T00:28:44\", \"2020-01-01T00:34:26\", \"2020-01-01T00:38:53\", \"2020-01-01T00:44:36\", \"2020-01-01T00:52:37\", \"2020-01-01T00:55:40\", \"2020-01-01T01:05:53\", \"2020-01-01T01:11:46\", \"2020-01-01T01:11:57\", \"2020-01-01T01:15:22\", \"2020-01-01T01:26:31\", \"2020-01-01T01:58:04\", \"2020-01-01T02:05:18\", \"2020-01-01T02:06:34\", \"2020-01-01T02:08:56\", \"2020-01-01T02:49:08\", \"2020-01-01T03:09:20\", \"2020-01-01T03:14:58\", \"2020-01-01T03:17:29\", \"2020-01-01T03:18:02\", \"2020-01-01T03:22:35\", \"2020-01-01T03:26:54\", \"2020-01-01T03:27:30\", \"2020-01-01T03:32:54\", \"2020-01-01T03:47:59\", \"2020-01-01T03:48:31\", \"2020-01-01T04:00:52\", \"2020-01-01T04:01:00\", \"2020-01-01T04:03:15\", \"2020-01-01T04:40:31\", \"2020-01-01T04:46:17\", \"2020-01-01T04:47:36\", \"2020-01-01T04:55:14\", \"2020-01-01T05:14:49\", \"2020-01-01T06:02:53\", \"2020-01-01T06:12:59\", \"2020-01-01T06:29:41\", \"2020-01-01T06:43:49\", \"2020-01-01T07:08:01\", \"2020-01-01T08:25:03\", \"2020-01-01T09:06:17\", \"2020-01-01T09:11:58\", \"2020-01-01T09:38:10\", \"2020-01-01T09:56:31\", \"2020-01-01T10:21:45\", \"2020-01-01T10:43:10\", \"2020-01-01T11:04:01\", \"2020-01-01T11:20:23\", \"2020-01-01T11:36:32\", \"2020-01-01T11:48:33\", \"2020-01-01T12:30:08\", \"2020-01-01T14:33:02\", \"2020-01-01T14:33:11\", \"2020-01-01T15:19:09\", \"2020-01-01T15:26:02\", \"2020-01-01T15:27:12\", \"2020-01-01T15:28:58\", \"2020-01-01T15:53:51\", \"2020-01-01T15:56:07\", \"2020-01-01T16:10:27\", \"2020-01-01T16:30:09\", \"2020-01-01T16:31:23\", \"2020-01-01T16:36:01\"], \"xaxis\": \"x2\", \"yaxis\": \"y2\"}, {\"customdata\": [[\"rezmeihaveghorn\", \"ei5e4p\"], [\"DTG_Bot\", \"ei5j8j\"], [\"MariosFireball\", \"ei5k07\"], [\"Jet_Nice_Guy\", \"ei5lpn\"], [\"ghawkguy\", \"ei5ls9\"], [\"DTG_Bot\", \"ei5m5y\"], [\"king5six1\", \"ei5m74\"], [\"DavidNexus7\", \"ei5o3i\"], [\"zuggiz\", \"ei5q3o\"], [\"PraiseBasedDonut\", \"ei5rzw\"], [\"RogueTGZ\", \"ei5sp1\"], [\"whiskyTango7734\", \"ei5t4p\"], [\"BlaqkJak\", \"ei5tc7\"], [\"Bunnyezzz\", \"ei5v24\"], [\"NeonAttak\", \"ei5vky\"], [\"wacawaka\", \"ei5y0k\"], [\"ASickG0at\", \"ei64oc\"], [\"Throwaway37474839291\", \"ei650z\"], [\"Vahro\", \"ei6758\"], [\"Cookie_LP0\", \"ei67hh\"], [\"Lucavellz\", \"ei69ed\"], [\"-MANGA-\", \"ei6a71\"], [\"Desaxs\", \"ei6ers\"], [\"PhazePyre\", \"ei6ffv\"], [\"Chung_bungus\", \"ei6fsj\"], [\"king-jubba\", \"ei6i8e\"], [\"Dragamaroon\", \"ei6ib2\"], [\"Onyx_Ninja\", \"ei6jsl\"], [\"MichaelTL\", \"ei6rh5\"], [\"VegitoEnigma\", \"ei6t2g\"], [\"Marcianoox\", \"ei6w1a\"], [\"WaavyDaavy\", \"ei6wr4\"], [\"jcspoon\", \"ei70z7\"], [\"HumanDemise\", \"ei72u7\"], [\"cryptic-fox\", \"ei7519\"], [\"wo4h_my_dud3\", \"ei76cy\"], [\"mooseythings\", \"ei76d4\"], [\"SkylarxMcCool\", \"ei77ud\"], [\"phantom13927\", \"ei7dh9\"], [\"MothEmperor07\", \"ei7es2\"], [\"HiddnAce\", \"ei7rp6\"], [\"MookieV\", \"ei7sc0\"], [\"immortaldon\", \"ei7t0h\"], [\"jens-adams\", \"ei7v56\"], [\"ANTORICO2THELEGEND\", \"ei7wpr\"], [\"draco5105\", \"ei7xcc\"], [\"Skifer91290\", \"ei80b5\"], [\"Dethproof814\", \"ei80m4\"], [\"dmg1920\", \"ei8332\"], [\"Megajoshuaw\", \"ei857z\"], [\"babey_time\", \"ei86fs\"], [\"bLargwastaken\", \"ei8826\"], [\"G-Nod\", \"ei8asa\"], [\"the-Jummy\", \"ei8c5g\"], [\"Faeluchu\", \"ei8cj1\"], [\"Ask4Damien\", \"ei8dvl\"], [\"ehixson\", \"ei8fu2\"], [\"Tharja13\", \"ei8i2p\"], [\"Chillager124\", \"ei8j4j\"], [\"MM487\", \"ei8jrk\"], [\"FInnH93\", \"ei8n2s\"], [\"WaavyDaavy\", \"ei8o15\"], [\"yaoivampire\", \"ei8o4r\"], [\"mylifemyworld17\", \"ei8qv0\"], [\"CraigStewy\", \"ei8r2m\"], [\"Nukesnipe\", \"ei8r6i\"], [\"Codrates\", \"ei8txd\"], [\"TylerB0ne_\", \"ei8vfi\"], [\"Kyronius-\", \"ei8wsh\"], [\"Ovogotti\", \"ei8y60\"], [\"MRlll\", \"ei8ynh\"], [\"VoicedN\", \"ei95ea\"], [\"Bauzakeruga\", \"ei95kn\"], [\"CLOROX_CONFIRMED\", \"ei961b\"], [\"Srsasquatch\", \"ei96i6\"], [\"HawksWill\", \"ei97gw\"], [\"Bauzakeruga\", \"ei9a72\"], [\"Mushroom_Surprise\", \"ei9bel\"], [\"macho-dong\", \"ei9e2z\"], [\"ChiIIerr\", \"ei9f7o\"], [\"Leviathan3333\", \"ei9gfi\"], [\"OldAngryShrek\", \"ei9hdu\"], [\"5-Second-Ruul\", \"ei9i1w\"], [\"Vandalbot\", \"ei9iw6\"], [\"KitsuneKamiSama\", \"ei9j4k\"], [\"megawhiz1769\", \"ei9ksc\"], [\"frankieluigi\", \"ei9lfj\"], [\"The_Better_Devil\", \"ei9lsc\"], [\"FewerColt369\", \"ei9oxo\"], [\"CF0311\", \"ei9tke\"], [\"Caffete\", \"ei9u3i\"], [\"Raito103\", \"ei9v51\"], [\"Cryhunter059\", \"ei9vbm\"], [\"Oryxhasnonuts\", \"ei9w4o\"], [\"ClouttMyster\", \"ei9wq7\"], [\"Anderty\", \"eia0dq\"], [\"Storm-Shadow98\", \"eia0mi\"], [\"Kdubsmoking2\", \"eia2si\"], [\"The_Better_Devil\", \"eia3kg\"], [\"vivereFerrari\", \"eia41y\"], [\"stevie242\", \"eia6se\"], [\"blacktip102\", \"eia6vf\"], [\"onlyyoshi97\", \"eia8pd\"], [\"GlobalPhreak\", \"eia9g5\"], [\"InvisiKid\", \"eia9ts\"], [\"Bugs5567\", \"eiaaa9\"], [\"PyjamaLlamaParty\", \"eiab89\"], [\"gwserfon\", \"eiacoc\"], [\"exhaustedoctopus\", \"eiad8d\"], [\"taskmaster51\", \"eiae94\"], [\"agitatedandroid\", \"eiaeje\"], [\"saga_712\", \"eiahts\"], [\"ShaneBazTe\", \"eialy0\"], [\"lizardking796\", \"eiamu4\"], [\"Montregloe\", \"eiamul\"], [\"ToN7No\", \"eianux\"], [\"brohemianmoment\", \"eiaqi8\"], [\"Vips_The_Imbecile\", \"eiaqt5\"], [\"AgentZeroHour\", \"eiatmu\"], [\"CosChrome\", \"eiawue\"], [\"skoomable\", \"eib5vz\"], [\"ShadeofCayde6\", \"eib6g4\"], [\"Iccotak\", \"eib6va\"], [\"VanpyroGaming\", \"eib7nu\"], [\"ShadeofCayde6\", \"eibc8v\"], [\"CrimsonProletariat\", \"eibdf6\"], [\"StarkSparks\", \"eibe3j\"], [\"RickV6\", \"eibfwo\"], [\"SVrider26\", \"eibne6\"], [\"cancercureall\", \"eibnzy\"], [\"bartonie\", \"eibonw\"], [\"Lavatis\", \"eibp7h\"], [\"skeletorodp\", \"eibpnq\"], [\"dMNY307\", \"eibwg7\"], [\"DefinitelyNotThatJoe\", \"eibxst\"], [\"Kyronius-\", \"eic1lr\"], [\"tarynrenae\", \"eic2uu\"], [\"canadiangirl_eh\", \"eic6qj\"], [\"Superluis97045\", \"eiccp3\"], [\"jamilDK\", \"eicf31\"], [\"Multimarkboy\", \"eicfna\"], [\"MegaRann\", \"eichb8\"], [\"dazealex\", \"eiciio\"], [\"markarenas_\", \"eicn7j\"], [\"RebootSequence\", \"eicpbm\"], [\"EtotheD4200\", \"eics2g\"], [\"Fire-fight-Magi\", \"eics72\"], [\"MrFurious1000\", \"eicuxj\"], [\"bacterialtrailer\", \"eicwcc\"], [\"Raiden4321234\", \"eicy5y\"], [\"stephen_1975\", \"eiczb9\"], [\"ShaneCatlett\", \"eiczhr\"], [\"deadly_nightshaade\", \"eiczot\"], [\"Ninjhetto\", \"eid23p\"], [\"solprimeval\", \"eid327\"], [\"lafosso1\", \"eid3kx\"], [\"ArmlessGuy12\", \"eid75h\"], [\"bladedancer661\", \"eidcbr\"], [\"SlendyA8\", \"eidi29\"], [\"Android5ooo\", \"eidkxm\"], [\"EmbodimentOfBruh\", \"eido3w\"], [\"WittyUnwittingly\", \"eidprn\"], [\"Ltmajorbones\", \"eidq4e\"], [\"Ceraldus\", \"eidqk0\"], [\"Joelioioio\", \"eie172\"], [\"Golet234\", \"eie1fh\"], [\"LadyMlstress\", \"eie47n\"], [\"Nukesnipe\", \"eie5ni\"], [\"TitanAnarchy\", \"eie66t\"], [\"Pupfrolic\", \"eie93p\"], [\"PixelFool99\", \"eiea1i\"], [\"al-Malok\", \"eieage\"], [\"rattlesnakemtn2\", \"eieaub\"], [\"al-Malok\", \"eiefcy\"], [\"C-I-Rome\", \"eieh0t\"], [\"NAmElEss_NErd\", \"eiei6z\"], [\"0Sharky\", \"eielsh\"], [\"BoxGamer713\", \"eieno1\"], [\"TheCoderAndAvatar\", \"eieoaq\"], [\"MetaphorTR\", \"eieoq4\"], [\"YaBoiLycaDaPeluca\", \"eietkd\"], [\"AmbidextrousWaffle\", \"eieyjd\"], [\"MB22283\", \"eif2k6\"], [\"firstheir\", \"eif2ld\"], [\"HungerReaper\", \"eif6po\"], [\"lighting828\", \"eif8hk\"], [\"RoffronSherien\", \"eifewv\"], [\"DaBadGuy13\", \"eifljk\"], [\"Caxu\", \"eifney\"], [\"AmbidextrousWaffle\", \"eifoca\"], [\"TheAlcaeus\", \"eifp39\"], [\"berndguggi\", \"eifraf\"], [\"death2rum\", \"eifv6t\"], [\"AgentOrang_Jpg\", \"eifygd\"], [\"kashaan_lucifer\", \"eifzan\"], [\"Kierok3\", \"eig0ga\"], [\"thebutinator\", \"eig8ph\"], [\"SurrealLogic\", \"eigbsc\"], [\"GuardianDestinyGuide\", \"eigioa\"], [\"Ultra_Unusual\", \"eigki7\"], [\"DarkPulseHD\", \"eigkk4\"], [\"Saeya_Gaming\", \"eigl29\"], [\"ChristmasBacon1001\", \"eigncw\"], [\"bacterialtrailer\", \"eigqjy\"], [\"Sarge184\", \"eigv87\"], [\"Frostyhobo47\", \"eigxl3\"], [\"Dreid2025\", \"eigzmo\"], [\"harishcs\", \"eih1l4\"], [\"Leny1000\", \"eih1su\"], [\"IronicIrony8\", \"eih2rv\"], [\"Hechtm11\", \"eih7ec\"], [\"sephoud\", \"eih92l\"], [\"anuslikker99\", \"eihk6n\"], [\"Ariatexas\", \"eihl3j\"], [\"BrimbornSteelWorks\", \"eihl42\"], [\"itskiser\", \"eihm2m\"], [\"Cwirmon\", \"eihn7y\"], [\"Vegeta_SB13\", \"eihnic\"], [\"Bane_of_Ruby\", \"eiho6t\"], [\"Lalakoola\", \"eihz55\"], [\"Osiris-Reflection\", \"eihzc6\"], [\"DTG_Bot\", \"eii443\"], [\"DTG_Bot\", \"eii45k\"], [\"Gidedin\", \"eiibot\"], [\"KISSMYTAIL\", \"eiifuj\"], [\"Paradox_VII\", \"eiimiw\"], [\"Ultra1101\", \"eiinfk\"], [\"Cwirmon\", \"eiinow\"], [\"TheBastidiousBomber\", \"eiinwp\"], [\"curdburglar\", \"eiior9\"], [\"liamsnorthstar\", \"eiirbi\"], [\"jayman1216\", \"eiit4n\"], [\"coles_man_mcjones\", \"eiiwhu\"], [\"gusluke\", \"eiiwwe\"], [\"Syixice\", \"eij0b4\"], [\"johnsolomon\", \"eij1l5\"], [\"Awoken-Queen\", \"eij1p5\"], [\"Unearthedrin\", \"eij5m0\"], [\"Goldenfang08\", \"eij6lf\"], [\"subtlecalamity\", \"eijavm\"], [\"i4viator\", \"eijer3\"], [\"UldrensVibrator\", \"eijghu\"], [\"FourPharaohs\", \"eijiom\"], [\"AresBloodwrath\", \"eijp82\"], [\"Skifer91290\", \"eijq0s\"], [\"TeneKay\", \"eijr9n\"], [\"ARBITERUMBRA\", \"eijv9j\"], [\"TylerFortierPhoto\", \"eik3ec\"], [\"X_C-GAMES-G_X\", \"eik3v0\"], [\"Not_An_Ahamkara\", \"eik5ym\"], [\"Kobraguy90\", \"eik79k\"], [\"HydraX_Slayer\", \"eik8rq\"], [\"canondocre\", \"eikd0n\"], [\"Ret0x\", \"eike78\"]], \"hoverlabel\": {\"namelength\": 0}, \"hovertemplate\": \"sentiment=positive<br>Date Posted=%{x}<br>Post Polarity=%{y}<br>num_comments=%{marker.size}<br>author=%{customdata[0]}<br>id=%{customdata[1]}\", \"legendgroup\": \"sentiment=positive\", \"marker\": {\"color\": \"lightslategrey\", \"size\": [13, 378, 8, 0, 37, 12, 0, 6, 5, 0, 30, 11, 5, 10, 7, 15, 3, 3, 4, 11, 12, 3, 18, 23, 11, 3, 2, 15, 4, 4, 3, 10, 6, 10, 25, 9, 16, 4, 4, 18, 4, 8, 22, 6, 85, 0, 2, 11, 16, 12, 3, 4, 2, 7, 53, 10, 9, 0, 6, 5, 4, 3, 5, 20, 6, 69, 1, 6, 11, 0, 11, 3, 0, 8, 7, 6, 0, 6, 4, 17, 1, 7, 0, 4, 5, 7, 2, 9, 3, 18, 14, 10, 7, 1, 2, 1, 1, 2, 1, 6, 0, 6, 7, 9, 14, 4, 2, 8, 79, 1, 3, 9, 7, 11, 3, 1, 7, 0, 8, 7, 1, 3, 3, 14, 39, 9, 53, 6, 4, 4, 6, 5, 5, 2, 21, 24, 22, 10, 5, 12, 0, 1, 4, 6, 8, 0, 9, 9, 17, 7, 6, 14, 37, 7, 3, 4, 6, 7, 5, 2, 3, 1, 3, 6, 1, 9, 8, 27, 1, 8, 9, 38, 1, 13, 1, 12, 7, 2, 9, 5, 2, 14, 16, 11, 0, 15, 6, 1, 1, 15, 7, 6, 5, 16, 17, 11, 17, 9, 18, 0, 10, 2, 12, 17, 4, 15, 5, 16, 13, 0, 9, 0, 10, 9, 5, 89, 21, 11, 1, 18, 15, 49, 11, 112, 8, 5, 8, 4, 2, 0, 8, 3, 8, 7, 1, 7, 3, 23, 4, 7, 3, 15, 3, 4, 4, 1, 0, 1, 1, 5, 8, 2, 0, 0], \"sizemode\": \"area\", \"sizeref\": 1.0725, \"symbol\": \"circle\"}, \"mode\": \"markers\", \"name\": \"sentiment=positive\", \"showlegend\": true, \"type\": \"scatter\", \"x\": [\"2019-12-31T16:53:42\", \"2019-12-31T17:03:49\", \"2019-12-31T17:05:11\", \"2019-12-31T17:08:27\", \"2019-12-31T17:08:35\", \"2019-12-31T17:09:21\", \"2019-12-31T17:09:26\", \"2019-12-31T17:13:06\", \"2019-12-31T17:17:01\", \"2019-12-31T17:20:55\", \"2019-12-31T17:22:17\", \"2019-12-31T17:23:06\", \"2019-12-31T17:23:28\", \"2019-12-31T17:26:34\", \"2019-12-31T17:27:32\", \"2019-12-31T17:32:27\", \"2019-12-31T17:45:32\", \"2019-12-31T17:46:13\", \"2019-12-31T17:50:29\", \"2019-12-31T17:51:09\", \"2019-12-31T17:55:02\", \"2019-12-31T17:56:37\", \"2019-12-31T18:05:30\", \"2019-12-31T18:06:51\", \"2019-12-31T18:07:30\", \"2019-12-31T18:12:20\", \"2019-12-31T18:12:28\", \"2019-12-31T18:15:31\", \"2019-12-31T18:31:00\", \"2019-12-31T18:34:03\", \"2019-12-31T18:39:59\", \"2019-12-31T18:41:20\", \"2019-12-31T18:50:03\", \"2019-12-31T18:53:54\", \"2019-12-31T18:58:19\", \"2019-12-31T19:00:59\", \"2019-12-31T19:00:59\", \"2019-12-31T19:03:50\", \"2019-12-31T19:14:36\", \"2019-12-31T19:17:13\", \"2019-12-31T19:43:22\", \"2019-12-31T19:44:36\", \"2019-12-31T19:46:12\", \"2019-12-31T19:50:45\", \"2019-12-31T19:53:51\", \"2019-12-31T19:55:15\", \"2019-12-31T20:01:34\", \"2019-12-31T20:02:14\", \"2019-12-31T20:07:16\", \"2019-12-31T20:11:51\", \"2019-12-31T20:14:27\", \"2019-12-31T20:18:07\", \"2019-12-31T20:23:51\", \"2019-12-31T20:26:41\", \"2019-12-31T20:27:33\", \"2019-12-31T20:30:27\", \"2019-12-31T20:34:37\", \"2019-12-31T20:39:20\", \"2019-12-31T20:41:28\", \"2019-12-31T20:42:52\", \"2019-12-31T20:50:19\", \"2019-12-31T20:52:22\", \"2019-12-31T20:52:36\", \"2019-12-31T20:58:37\", \"2019-12-31T20:59:08\", \"2019-12-31T20:59:23\", \"2019-12-31T21:05:26\", \"2019-12-31T21:08:40\", \"2019-12-31T21:11:44\", \"2019-12-31T21:14:41\", \"2019-12-31T21:15:43\", \"2019-12-31T21:30:54\", \"2019-12-31T21:31:18\", \"2019-12-31T21:32:17\", \"2019-12-31T21:33:20\", \"2019-12-31T21:35:30\", \"2019-12-31T21:41:27\", \"2019-12-31T21:44:10\", \"2019-12-31T21:50:18\", \"2019-12-31T21:52:53\", \"2019-12-31T21:55:44\", \"2019-12-31T21:57:53\", \"2019-12-31T21:59:26\", \"2019-12-31T22:01:18\", \"2019-12-31T22:01:48\", \"2019-12-31T22:05:20\", \"2019-12-31T22:06:50\", \"2019-12-31T22:07:41\", \"2019-12-31T22:14:39\", \"2019-12-31T22:25:14\", \"2019-12-31T22:26:24\", \"2019-12-31T22:28:37\", \"2019-12-31T22:29:04\", \"2019-12-31T22:30:55\", \"2019-12-31T22:32:17\", \"2019-12-31T22:40:18\", \"2019-12-31T22:40:44\", \"2019-12-31T22:45:47\", \"2019-12-31T22:47:28\", \"2019-12-31T22:48:32\", \"2019-12-31T22:54:45\", \"2019-12-31T22:54:57\", \"2019-12-31T22:59:12\", \"2019-12-31T23:00:48\", \"2019-12-31T23:01:35\", \"2019-12-31T23:02:39\", \"2019-12-31T23:04:46\", \"2019-12-31T23:07:46\", \"2019-12-31T23:09:04\", \"2019-12-31T23:11:25\", \"2019-12-31T23:11:58\", \"2019-12-31T23:19:29\", \"2019-12-31T23:28:30\", \"2019-12-31T23:30:32\", \"2019-12-31T23:30:33\", \"2019-12-31T23:32:48\", \"2019-12-31T23:38:35\", \"2019-12-31T23:39:17\", \"2019-12-31T23:45:47\", \"2019-12-31T23:52:54\", \"2020-01-01T00:12:42\", \"2020-01-01T00:13:57\", \"2020-01-01T00:14:58\", \"2020-01-01T00:16:38\", \"2020-01-01T00:26:51\", \"2020-01-01T00:29:16\", \"2020-01-01T00:30:47\", \"2020-01-01T00:34:41\", \"2020-01-01T00:51:50\", \"2020-01-01T00:53:20\", \"2020-01-01T00:54:54\", \"2020-01-01T00:56:14\", \"2020-01-01T00:57:13\", \"2020-01-01T01:13:35\", \"2020-01-01T01:17:02\", \"2020-01-01T01:26:18\", \"2020-01-01T01:29:18\", \"2020-01-01T01:38:51\", \"2020-01-01T01:54:11\", \"2020-01-01T02:00:37\", \"2020-01-01T02:01:55\", \"2020-01-01T02:06:04\", \"2020-01-01T02:09:09\", \"2020-01-01T02:21:19\", \"2020-01-01T02:26:44\", \"2020-01-01T02:34:05\", \"2020-01-01T02:34:23\", \"2020-01-01T02:41:38\", \"2020-01-01T02:45:21\", \"2020-01-01T02:50:16\", \"2020-01-01T02:53:20\", \"2020-01-01T02:53:52\", \"2020-01-01T02:54:23\", \"2020-01-01T03:01:12\", \"2020-01-01T03:03:47\", \"2020-01-01T03:05:04\", \"2020-01-01T03:14:52\", \"2020-01-01T03:29:00\", \"2020-01-01T03:44:45\", \"2020-01-01T03:52:42\", \"2020-01-01T04:01:54\", \"2020-01-01T04:06:13\", \"2020-01-01T04:07:17\", \"2020-01-01T04:08:28\", \"2020-01-01T04:39:32\", \"2020-01-01T04:40:15\", \"2020-01-01T04:48:41\", \"2020-01-01T04:52:40\", \"2020-01-01T04:54:19\", \"2020-01-01T05:01:46\", \"2020-01-01T05:03:48\", \"2020-01-01T05:04:39\", \"2020-01-01T05:05:30\", \"2020-01-01T05:16:25\", \"2020-01-01T05:20:58\", \"2020-01-01T05:24:07\", \"2020-01-01T05:33:58\", \"2020-01-01T05:39:03\", \"2020-01-01T05:40:55\", \"2020-01-01T05:42:09\", \"2020-01-01T05:57:07\", \"2020-01-01T06:10:24\", \"2020-01-01T06:22:05\", \"2020-01-01T06:22:11\", \"2020-01-01T06:35:19\", \"2020-01-01T06:40:56\", \"2020-01-01T07:01:11\", \"2020-01-01T07:22:57\", \"2020-01-01T07:29:45\", \"2020-01-01T07:32:54\", \"2020-01-01T07:35:28\", \"2020-01-01T07:43:05\", \"2020-01-01T07:56:13\", \"2020-01-01T08:07:04\", \"2020-01-01T08:09:37\", \"2020-01-01T08:13:27\", \"2020-01-01T08:43:41\", \"2020-01-01T08:55:32\", \"2020-01-01T09:21:37\", \"2020-01-01T09:29:17\", \"2020-01-01T09:29:32\", \"2020-01-01T09:31:35\", \"2020-01-01T09:39:47\", \"2020-01-01T09:52:13\", \"2020-01-01T10:09:49\", \"2020-01-01T10:18:18\", \"2020-01-01T10:26:19\", \"2020-01-01T10:34:15\", \"2020-01-01T10:35:08\", \"2020-01-01T10:38:58\", \"2020-01-01T10:57:21\", \"2020-01-01T11:03:41\", \"2020-01-01T11:46:18\", \"2020-01-01T11:49:55\", \"2020-01-01T11:49:58\", \"2020-01-01T11:53:38\", \"2020-01-01T11:58:16\", \"2020-01-01T11:59:24\", \"2020-01-01T12:01:49\", \"2020-01-01T12:42:55\", \"2020-01-01T12:43:36\", \"2020-01-01T13:01:01\", \"2020-01-01T13:01:09\", \"2020-01-01T13:27:10\", \"2020-01-01T13:41:27\", \"2020-01-01T14:03:07\", \"2020-01-01T14:05:51\", \"2020-01-01T14:06:40\", \"2020-01-01T14:07:19\", \"2020-01-01T14:10:03\", \"2020-01-01T14:17:48\", \"2020-01-01T14:23:04\", \"2020-01-01T14:33:00\", \"2020-01-01T14:34:18\", \"2020-01-01T14:44:20\", \"2020-01-01T14:47:52\", \"2020-01-01T14:48:13\", \"2020-01-01T14:59:17\", \"2020-01-01T15:01:58\", \"2020-01-01T15:13:02\", \"2020-01-01T15:23:28\", \"2020-01-01T15:28:07\", \"2020-01-01T15:34:02\", \"2020-01-01T15:50:54\", \"2020-01-01T15:52:54\", \"2020-01-01T15:55:52\", \"2020-01-01T16:05:25\", \"2020-01-01T16:24:52\", \"2020-01-01T16:25:58\", \"2020-01-01T16:30:51\", \"2020-01-01T16:33:51\", \"2020-01-01T16:37:27\", \"2020-01-01T16:47:17\", \"2020-01-01T16:49:50\"], \"xaxis\": \"x\", \"y\": [0.20554108796296297, 0.1481290849673203, 0.10625, 0.1272727272727273, 0.16499999999999998, 0.06158062234794907, 0.1255980861244019, 0.0964285714285714, 0.07483766233766234, 0.012121212121212116, 0.29500000000000004, 0.28730158730158734, 0.06666666666666667, 0.5, 0.16666666666666669, 0.16666666666666666, 0.31, 0.2, 0.22828282828282828, 0.049999999999999996, 0.1568181818181818, 0.22555555555555554, 0.003737373737373745, 0.3578125, 0.04531746031746031, 0.17240852181328364, 0.06145833333333334, 0.1375, 0.008333333333333331, 0.1, 0.095, 0.35, 0.17857142857142855, 0.375, 0.087106357694593, 0.125, 0.1929814233385662, 0.425, 0.06864095500459137, 0.20113636363636364, 0.023333333333333338, 0.5, 0.2, 0.45, 0.09166666666666667, 0.4, 0.3400865800865801, 0.13950216450216452, 0.3477272727272727, 0.23611111111111113, 0.25, 0.03690476190476189, 0.1625, 0.13506493506493508, 0.15833333333333333, 0.04847060833902941, 0.029173292693700864, 0.4373015873015873, 0.2526515151515152, 0.11111111111111112, 0.2562388591800357, 0.03666666666666666, 0.061805555555555544, 0.22551020408163264, 0.16666666666666666, 0.1602891156462585, 0.2337403337403338, 0.20777777777777778, 0.056842918985776106, 0.17670454545454548, 0.14285714285714285, 0.3, 0.1393960895616525, 0.15, 0.04791666666666665, 0.05, 0.1429920634920635, 0.03566666666666666, 0.19444444444444445, 0.5060606060606061, 0.1, 0.12916666666666665, 0.2, 0.10714285714285714, 0.107009657009657, 0.14615384615384616, 0.06666666666666665, 0.20069444444444445, 0.47999999999999987, 0.19999999999999998, 1.0, 0.2, 0.8, 0.4454545454545455, 0.12878787878787878, 0.18125, 0.16666666666666666, 0.45, 0.12857142857142856, 0.5, 0.05059523809523809, 0.25, 0.12227272727272727, 0.15959595959595962, 0.12000000000000002, 0.35, 0.5, 0.09999999999999998, 0.5166666666666667, 0.25, 0.2128787878787879, 0.2, 0.03333333333333333, 0.08650793650793652, 0.25999999999999995, 0.11716212121212123, 0.009999999999999998, 0.03474025974025974, 0.31338095238095237, 0.09983766233766234, 0.16249999999999998, 0.15892857142857142, 0.04285714285714286, 0.10944444444444443, 0.15892857142857142, 0.5290909090909091, 0.39015151515151514, 0.04545454545454545, 0.3666666666666667, 0.11818181818181818, 0.4666666666666668, 0.125, 0.0964285714285714, 0.1361111111111111, 0.06818181818181818, 0.06326979472140762, 0.5234848484848484, 0.10666666666666666, 0.21727272727272728, 1.0, 0.0625, 0.19318181818181818, 0.5578282828282828, 0.29, 0.29545454545454547, 0.3, 0.2016666666666666, 0.019999999999999997, 0.03521205357142857, 0.20833333333333334, 0.3125, 0.18727272727272729, 0.14770267328456982, 0.0012626262626262614, 0.1880952380952381, 0.04930555555555555, 0.19004132231404958, 0.24166666666666667, 0.33712121212121215, 0.18409090909090908, 0.175, 0.3594444444444444, 0.24997745310245312, 0.04274452618202618, 0.07857142857142858, 0.06882284382284382, 0.13794656358279114, 0.19571406024531024, 0.1568181818181818, 0.12272727272727273, 0.35, 0.17402597402597406, 0.75, 0.047632575757575756, 0.15, 0.09999999999999998, 0.25, 0.04162037037037036, 0.09999999999999999, 0.35, 0.10129870129870129, 0.15763888888888888, 0.09003759398496242, 0.11943722943722941, 0.05454545454545454, 0.11111111111111113, 0.19659090909090912, 0.021212121212121213, 0.1160909090909091, 0.08005632360471067, 0.03333333333333333, 0.011111111111111136, 0.06166666666666667, 0.25, 0.35871212121212126, 0.25, 0.6720833333333334, 0.0672979797979798, 0.33011363636363633, 0.07393939393939394, 0.25, 0.16774891774891773, 0.16666666666666666, 0.37777777777777777, 0.24833333333333335, 0.07739714933592486, 0.06060606060606062, 0.026851851851851856, 0.175, 0.25999999999999995, 0.2160774410774411, 0.125, 0.033333333333333326, 0.016666666666666663, 0.06547619047619047, 0.009243697478991595, 0.33720779220779223, 0.14545454545454542, 0.0628509117145481, 0.10919642857142857, 0.10685185185185185, 0.3099897787397787, 0.24583333333333335, 0.2579188107489994, 0.16388564777236653, 0.21666666666666665, 0.0029761904761904747, 0.07142857142857142, 0.5, 0.014583333333333337, 0.34375, 0.08333333333333333, 0.1, 0.25013061650992685, 0.13613636363636367, 0.11764069264069264, 0.04999999999999999, 0.04499999999999999, 0.25, 0.15083333333333332, 0.13714285714285715, 0.06756004489337823, 0.17082999305221533, 0.018928571428571427, 0.024999999999999994, 0.11666666666666668, 0.21880952380952381, 0.07924107142857142, 0.1, 0.22499999999999998, 0.12272727272727273, 0.19999999999999998, 0.175, 0.6], \"yaxis\": \"y\"}, {\"alignmentgroup\": \"True\", \"bingroup\": \"x\", \"hoverlabel\": {\"namelength\": 0}, \"hovertemplate\": \"sentiment=positive<br>Date Posted=%{x}<br>count=%{y}\", \"legendgroup\": \"sentiment=positive\", \"marker\": {\"color\": \"lightslategrey\"}, \"name\": \"sentiment=positive\", \"offsetgroup\": \"sentiment=positive\", \"opacity\": 0.5, \"showlegend\": false, \"type\": \"histogram\", \"x\": [\"2019-12-31T16:53:42\", \"2019-12-31T17:03:49\", \"2019-12-31T17:05:11\", \"2019-12-31T17:08:27\", \"2019-12-31T17:08:35\", \"2019-12-31T17:09:21\", \"2019-12-31T17:09:26\", \"2019-12-31T17:13:06\", \"2019-12-31T17:17:01\", \"2019-12-31T17:20:55\", \"2019-12-31T17:22:17\", \"2019-12-31T17:23:06\", \"2019-12-31T17:23:28\", \"2019-12-31T17:26:34\", \"2019-12-31T17:27:32\", \"2019-12-31T17:32:27\", \"2019-12-31T17:45:32\", \"2019-12-31T17:46:13\", \"2019-12-31T17:50:29\", \"2019-12-31T17:51:09\", \"2019-12-31T17:55:02\", \"2019-12-31T17:56:37\", \"2019-12-31T18:05:30\", \"2019-12-31T18:06:51\", \"2019-12-31T18:07:30\", \"2019-12-31T18:12:20\", \"2019-12-31T18:12:28\", \"2019-12-31T18:15:31\", \"2019-12-31T18:31:00\", \"2019-12-31T18:34:03\", \"2019-12-31T18:39:59\", \"2019-12-31T18:41:20\", \"2019-12-31T18:50:03\", \"2019-12-31T18:53:54\", \"2019-12-31T18:58:19\", \"2019-12-31T19:00:59\", \"2019-12-31T19:00:59\", \"2019-12-31T19:03:50\", \"2019-12-31T19:14:36\", \"2019-12-31T19:17:13\", \"2019-12-31T19:43:22\", \"2019-12-31T19:44:36\", \"2019-12-31T19:46:12\", \"2019-12-31T19:50:45\", \"2019-12-31T19:53:51\", \"2019-12-31T19:55:15\", \"2019-12-31T20:01:34\", \"2019-12-31T20:02:14\", \"2019-12-31T20:07:16\", \"2019-12-31T20:11:51\", \"2019-12-31T20:14:27\", \"2019-12-31T20:18:07\", \"2019-12-31T20:23:51\", \"2019-12-31T20:26:41\", \"2019-12-31T20:27:33\", \"2019-12-31T20:30:27\", \"2019-12-31T20:34:37\", \"2019-12-31T20:39:20\", \"2019-12-31T20:41:28\", \"2019-12-31T20:42:52\", \"2019-12-31T20:50:19\", \"2019-12-31T20:52:22\", \"2019-12-31T20:52:36\", \"2019-12-31T20:58:37\", \"2019-12-31T20:59:08\", \"2019-12-31T20:59:23\", \"2019-12-31T21:05:26\", \"2019-12-31T21:08:40\", \"2019-12-31T21:11:44\", \"2019-12-31T21:14:41\", \"2019-12-31T21:15:43\", \"2019-12-31T21:30:54\", \"2019-12-31T21:31:18\", \"2019-12-31T21:32:17\", \"2019-12-31T21:33:20\", \"2019-12-31T21:35:30\", \"2019-12-31T21:41:27\", \"2019-12-31T21:44:10\", \"2019-12-31T21:50:18\", \"2019-12-31T21:52:53\", \"2019-12-31T21:55:44\", \"2019-12-31T21:57:53\", \"2019-12-31T21:59:26\", \"2019-12-31T22:01:18\", \"2019-12-31T22:01:48\", \"2019-12-31T22:05:20\", \"2019-12-31T22:06:50\", \"2019-12-31T22:07:41\", \"2019-12-31T22:14:39\", \"2019-12-31T22:25:14\", \"2019-12-31T22:26:24\", \"2019-12-31T22:28:37\", \"2019-12-31T22:29:04\", \"2019-12-31T22:30:55\", \"2019-12-31T22:32:17\", \"2019-12-31T22:40:18\", \"2019-12-31T22:40:44\", \"2019-12-31T22:45:47\", \"2019-12-31T22:47:28\", \"2019-12-31T22:48:32\", \"2019-12-31T22:54:45\", \"2019-12-31T22:54:57\", \"2019-12-31T22:59:12\", \"2019-12-31T23:00:48\", \"2019-12-31T23:01:35\", \"2019-12-31T23:02:39\", \"2019-12-31T23:04:46\", \"2019-12-31T23:07:46\", \"2019-12-31T23:09:04\", \"2019-12-31T23:11:25\", \"2019-12-31T23:11:58\", \"2019-12-31T23:19:29\", \"2019-12-31T23:28:30\", \"2019-12-31T23:30:32\", \"2019-12-31T23:30:33\", \"2019-12-31T23:32:48\", \"2019-12-31T23:38:35\", \"2019-12-31T23:39:17\", \"2019-12-31T23:45:47\", \"2019-12-31T23:52:54\", \"2020-01-01T00:12:42\", \"2020-01-01T00:13:57\", \"2020-01-01T00:14:58\", \"2020-01-01T00:16:38\", \"2020-01-01T00:26:51\", \"2020-01-01T00:29:16\", \"2020-01-01T00:30:47\", \"2020-01-01T00:34:41\", \"2020-01-01T00:51:50\", \"2020-01-01T00:53:20\", \"2020-01-01T00:54:54\", \"2020-01-01T00:56:14\", \"2020-01-01T00:57:13\", \"2020-01-01T01:13:35\", \"2020-01-01T01:17:02\", \"2020-01-01T01:26:18\", \"2020-01-01T01:29:18\", \"2020-01-01T01:38:51\", \"2020-01-01T01:54:11\", \"2020-01-01T02:00:37\", \"2020-01-01T02:01:55\", \"2020-01-01T02:06:04\", \"2020-01-01T02:09:09\", \"2020-01-01T02:21:19\", \"2020-01-01T02:26:44\", \"2020-01-01T02:34:05\", \"2020-01-01T02:34:23\", \"2020-01-01T02:41:38\", \"2020-01-01T02:45:21\", \"2020-01-01T02:50:16\", \"2020-01-01T02:53:20\", \"2020-01-01T02:53:52\", \"2020-01-01T02:54:23\", \"2020-01-01T03:01:12\", \"2020-01-01T03:03:47\", \"2020-01-01T03:05:04\", \"2020-01-01T03:14:52\", \"2020-01-01T03:29:00\", \"2020-01-01T03:44:45\", \"2020-01-01T03:52:42\", \"2020-01-01T04:01:54\", \"2020-01-01T04:06:13\", \"2020-01-01T04:07:17\", \"2020-01-01T04:08:28\", \"2020-01-01T04:39:32\", \"2020-01-01T04:40:15\", \"2020-01-01T04:48:41\", \"2020-01-01T04:52:40\", \"2020-01-01T04:54:19\", \"2020-01-01T05:01:46\", \"2020-01-01T05:03:48\", \"2020-01-01T05:04:39\", \"2020-01-01T05:05:30\", \"2020-01-01T05:16:25\", \"2020-01-01T05:20:58\", \"2020-01-01T05:24:07\", \"2020-01-01T05:33:58\", \"2020-01-01T05:39:03\", \"2020-01-01T05:40:55\", \"2020-01-01T05:42:09\", \"2020-01-01T05:57:07\", \"2020-01-01T06:10:24\", \"2020-01-01T06:22:05\", \"2020-01-01T06:22:11\", \"2020-01-01T06:35:19\", \"2020-01-01T06:40:56\", \"2020-01-01T07:01:11\", \"2020-01-01T07:22:57\", \"2020-01-01T07:29:45\", \"2020-01-01T07:32:54\", \"2020-01-01T07:35:28\", \"2020-01-01T07:43:05\", \"2020-01-01T07:56:13\", \"2020-01-01T08:07:04\", \"2020-01-01T08:09:37\", \"2020-01-01T08:13:27\", \"2020-01-01T08:43:41\", \"2020-01-01T08:55:32\", \"2020-01-01T09:21:37\", \"2020-01-01T09:29:17\", \"2020-01-01T09:29:32\", \"2020-01-01T09:31:35\", \"2020-01-01T09:39:47\", \"2020-01-01T09:52:13\", \"2020-01-01T10:09:49\", \"2020-01-01T10:18:18\", \"2020-01-01T10:26:19\", \"2020-01-01T10:34:15\", \"2020-01-01T10:35:08\", \"2020-01-01T10:38:58\", \"2020-01-01T10:57:21\", \"2020-01-01T11:03:41\", \"2020-01-01T11:46:18\", \"2020-01-01T11:49:55\", \"2020-01-01T11:49:58\", \"2020-01-01T11:53:38\", \"2020-01-01T11:58:16\", \"2020-01-01T11:59:24\", \"2020-01-01T12:01:49\", \"2020-01-01T12:42:55\", \"2020-01-01T12:43:36\", \"2020-01-01T13:01:01\", \"2020-01-01T13:01:09\", \"2020-01-01T13:27:10\", \"2020-01-01T13:41:27\", \"2020-01-01T14:03:07\", \"2020-01-01T14:05:51\", \"2020-01-01T14:06:40\", \"2020-01-01T14:07:19\", \"2020-01-01T14:10:03\", \"2020-01-01T14:17:48\", \"2020-01-01T14:23:04\", \"2020-01-01T14:33:00\", \"2020-01-01T14:34:18\", \"2020-01-01T14:44:20\", \"2020-01-01T14:47:52\", \"2020-01-01T14:48:13\", \"2020-01-01T14:59:17\", \"2020-01-01T15:01:58\", \"2020-01-01T15:13:02\", \"2020-01-01T15:23:28\", \"2020-01-01T15:28:07\", \"2020-01-01T15:34:02\", \"2020-01-01T15:50:54\", \"2020-01-01T15:52:54\", \"2020-01-01T15:55:52\", \"2020-01-01T16:05:25\", \"2020-01-01T16:24:52\", \"2020-01-01T16:25:58\", \"2020-01-01T16:30:51\", \"2020-01-01T16:33:51\", \"2020-01-01T16:37:27\", \"2020-01-01T16:47:17\", \"2020-01-01T16:49:50\"], \"xaxis\": \"x2\", \"yaxis\": \"y2\"}],\n",
       "                        {\"barmode\": \"overlay\", \"legend\": {\"itemsizing\": \"constant\", \"tracegroupgap\": 0}, \"template\": {\"data\": {\"bar\": [{\"error_x\": {\"color\": \"#2a3f5f\"}, \"error_y\": {\"color\": \"#2a3f5f\"}, \"marker\": {\"line\": {\"color\": \"#E5ECF6\", \"width\": 0.5}}, \"type\": \"bar\"}], \"barpolar\": [{\"marker\": {\"line\": {\"color\": \"#E5ECF6\", \"width\": 0.5}}, \"type\": \"barpolar\"}], \"carpet\": [{\"aaxis\": {\"endlinecolor\": \"#2a3f5f\", \"gridcolor\": \"white\", \"linecolor\": \"white\", \"minorgridcolor\": \"white\", \"startlinecolor\": \"#2a3f5f\"}, \"baxis\": {\"endlinecolor\": \"#2a3f5f\", \"gridcolor\": \"white\", \"linecolor\": \"white\", \"minorgridcolor\": \"white\", \"startlinecolor\": \"#2a3f5f\"}, \"type\": \"carpet\"}], \"choropleth\": [{\"colorbar\": {\"outlinewidth\": 0, \"ticks\": \"\"}, \"type\": \"choropleth\"}], \"contour\": [{\"colorbar\": {\"outlinewidth\": 0, \"ticks\": \"\"}, \"colorscale\": [[0.0, \"#0d0887\"], [0.1111111111111111, \"#46039f\"], [0.2222222222222222, \"#7201a8\"], [0.3333333333333333, \"#9c179e\"], [0.4444444444444444, \"#bd3786\"], [0.5555555555555556, \"#d8576b\"], [0.6666666666666666, \"#ed7953\"], [0.7777777777777778, \"#fb9f3a\"], [0.8888888888888888, \"#fdca26\"], [1.0, \"#f0f921\"]], \"type\": \"contour\"}], \"contourcarpet\": [{\"colorbar\": {\"outlinewidth\": 0, \"ticks\": \"\"}, \"type\": \"contourcarpet\"}], \"heatmap\": [{\"colorbar\": {\"outlinewidth\": 0, \"ticks\": \"\"}, \"colorscale\": [[0.0, \"#0d0887\"], [0.1111111111111111, \"#46039f\"], [0.2222222222222222, \"#7201a8\"], [0.3333333333333333, \"#9c179e\"], [0.4444444444444444, \"#bd3786\"], [0.5555555555555556, \"#d8576b\"], [0.6666666666666666, \"#ed7953\"], [0.7777777777777778, \"#fb9f3a\"], [0.8888888888888888, \"#fdca26\"], [1.0, \"#f0f921\"]], \"type\": \"heatmap\"}], \"heatmapgl\": [{\"colorbar\": {\"outlinewidth\": 0, \"ticks\": \"\"}, \"colorscale\": [[0.0, \"#0d0887\"], [0.1111111111111111, \"#46039f\"], [0.2222222222222222, \"#7201a8\"], [0.3333333333333333, \"#9c179e\"], [0.4444444444444444, \"#bd3786\"], [0.5555555555555556, \"#d8576b\"], [0.6666666666666666, \"#ed7953\"], [0.7777777777777778, \"#fb9f3a\"], [0.8888888888888888, \"#fdca26\"], [1.0, \"#f0f921\"]], \"type\": \"heatmapgl\"}], \"histogram\": [{\"marker\": {\"colorbar\": {\"outlinewidth\": 0, \"ticks\": \"\"}}, \"type\": \"histogram\"}], \"histogram2d\": [{\"colorbar\": {\"outlinewidth\": 0, \"ticks\": \"\"}, \"colorscale\": [[0.0, \"#0d0887\"], [0.1111111111111111, \"#46039f\"], [0.2222222222222222, \"#7201a8\"], [0.3333333333333333, \"#9c179e\"], [0.4444444444444444, \"#bd3786\"], [0.5555555555555556, \"#d8576b\"], [0.6666666666666666, \"#ed7953\"], [0.7777777777777778, \"#fb9f3a\"], [0.8888888888888888, \"#fdca26\"], [1.0, \"#f0f921\"]], \"type\": \"histogram2d\"}], \"histogram2dcontour\": [{\"colorbar\": {\"outlinewidth\": 0, \"ticks\": \"\"}, \"colorscale\": [[0.0, \"#0d0887\"], [0.1111111111111111, \"#46039f\"], [0.2222222222222222, \"#7201a8\"], [0.3333333333333333, \"#9c179e\"], [0.4444444444444444, \"#bd3786\"], [0.5555555555555556, \"#d8576b\"], [0.6666666666666666, \"#ed7953\"], [0.7777777777777778, \"#fb9f3a\"], [0.8888888888888888, \"#fdca26\"], [1.0, \"#f0f921\"]], \"type\": \"histogram2dcontour\"}], \"mesh3d\": [{\"colorbar\": {\"outlinewidth\": 0, \"ticks\": \"\"}, \"type\": \"mesh3d\"}], \"parcoords\": [{\"line\": {\"colorbar\": {\"outlinewidth\": 0, \"ticks\": \"\"}}, \"type\": \"parcoords\"}], \"pie\": [{\"automargin\": true, \"type\": \"pie\"}], \"scatter\": [{\"marker\": {\"colorbar\": {\"outlinewidth\": 0, \"ticks\": \"\"}}, \"type\": \"scatter\"}], \"scatter3d\": [{\"line\": {\"colorbar\": {\"outlinewidth\": 0, \"ticks\": \"\"}}, \"marker\": {\"colorbar\": {\"outlinewidth\": 0, \"ticks\": \"\"}}, \"type\": \"scatter3d\"}], \"scattercarpet\": [{\"marker\": {\"colorbar\": {\"outlinewidth\": 0, \"ticks\": \"\"}}, \"type\": \"scattercarpet\"}], \"scattergeo\": [{\"marker\": {\"colorbar\": {\"outlinewidth\": 0, \"ticks\": \"\"}}, \"type\": \"scattergeo\"}], \"scattergl\": [{\"marker\": {\"colorbar\": {\"outlinewidth\": 0, \"ticks\": \"\"}}, \"type\": \"scattergl\"}], \"scattermapbox\": [{\"marker\": {\"colorbar\": {\"outlinewidth\": 0, \"ticks\": \"\"}}, \"type\": \"scattermapbox\"}], \"scatterpolar\": [{\"marker\": {\"colorbar\": {\"outlinewidth\": 0, \"ticks\": \"\"}}, \"type\": \"scatterpolar\"}], \"scatterpolargl\": [{\"marker\": {\"colorbar\": {\"outlinewidth\": 0, \"ticks\": \"\"}}, \"type\": \"scatterpolargl\"}], \"scatterternary\": [{\"marker\": {\"colorbar\": {\"outlinewidth\": 0, \"ticks\": \"\"}}, \"type\": \"scatterternary\"}], \"surface\": [{\"colorbar\": {\"outlinewidth\": 0, \"ticks\": \"\"}, \"colorscale\": [[0.0, \"#0d0887\"], [0.1111111111111111, \"#46039f\"], [0.2222222222222222, \"#7201a8\"], [0.3333333333333333, \"#9c179e\"], [0.4444444444444444, \"#bd3786\"], [0.5555555555555556, \"#d8576b\"], [0.6666666666666666, \"#ed7953\"], [0.7777777777777778, \"#fb9f3a\"], [0.8888888888888888, \"#fdca26\"], [1.0, \"#f0f921\"]], \"type\": \"surface\"}], \"table\": [{\"cells\": {\"fill\": {\"color\": \"#EBF0F8\"}, \"line\": {\"color\": \"white\"}}, \"header\": {\"fill\": {\"color\": \"#C8D4E3\"}, \"line\": {\"color\": \"white\"}}, \"type\": \"table\"}]}, \"layout\": {\"annotationdefaults\": {\"arrowcolor\": \"#2a3f5f\", \"arrowhead\": 0, \"arrowwidth\": 1}, \"coloraxis\": {\"colorbar\": {\"outlinewidth\": 0, \"ticks\": \"\"}}, \"colorscale\": {\"diverging\": [[0, \"#8e0152\"], [0.1, \"#c51b7d\"], [0.2, \"#de77ae\"], [0.3, \"#f1b6da\"], [0.4, \"#fde0ef\"], [0.5, \"#f7f7f7\"], [0.6, \"#e6f5d0\"], [0.7, \"#b8e186\"], [0.8, \"#7fbc41\"], [0.9, \"#4d9221\"], [1, \"#276419\"]], \"sequential\": [[0.0, \"#0d0887\"], [0.1111111111111111, \"#46039f\"], [0.2222222222222222, \"#7201a8\"], [0.3333333333333333, \"#9c179e\"], [0.4444444444444444, \"#bd3786\"], [0.5555555555555556, \"#d8576b\"], [0.6666666666666666, \"#ed7953\"], [0.7777777777777778, \"#fb9f3a\"], [0.8888888888888888, \"#fdca26\"], [1.0, \"#f0f921\"]], \"sequentialminus\": [[0.0, \"#0d0887\"], [0.1111111111111111, \"#46039f\"], [0.2222222222222222, \"#7201a8\"], [0.3333333333333333, \"#9c179e\"], [0.4444444444444444, \"#bd3786\"], [0.5555555555555556, \"#d8576b\"], [0.6666666666666666, \"#ed7953\"], [0.7777777777777778, \"#fb9f3a\"], [0.8888888888888888, \"#fdca26\"], [1.0, \"#f0f921\"]]}, \"colorway\": [\"#636efa\", \"#EF553B\", \"#00cc96\", \"#ab63fa\", \"#FFA15A\", \"#19d3f3\", \"#FF6692\", \"#B6E880\", \"#FF97FF\", \"#FECB52\"], \"font\": {\"color\": \"#2a3f5f\"}, \"geo\": {\"bgcolor\": \"white\", \"lakecolor\": \"white\", \"landcolor\": \"#E5ECF6\", \"showlakes\": true, \"showland\": true, \"subunitcolor\": \"white\"}, \"hoverlabel\": {\"align\": \"left\"}, \"hovermode\": \"closest\", \"mapbox\": {\"style\": \"light\"}, \"paper_bgcolor\": \"white\", \"plot_bgcolor\": \"#E5ECF6\", \"polar\": {\"angularaxis\": {\"gridcolor\": \"white\", \"linecolor\": \"white\", \"ticks\": \"\"}, \"bgcolor\": \"#E5ECF6\", \"radialaxis\": {\"gridcolor\": \"white\", \"linecolor\": \"white\", \"ticks\": \"\"}}, \"scene\": {\"xaxis\": {\"backgroundcolor\": \"#E5ECF6\", \"gridcolor\": \"white\", \"gridwidth\": 2, \"linecolor\": \"white\", \"showbackground\": true, \"ticks\": \"\", \"zerolinecolor\": \"white\"}, \"yaxis\": {\"backgroundcolor\": \"#E5ECF6\", \"gridcolor\": \"white\", \"gridwidth\": 2, \"linecolor\": \"white\", \"showbackground\": true, \"ticks\": \"\", \"zerolinecolor\": \"white\"}, \"zaxis\": {\"backgroundcolor\": \"#E5ECF6\", \"gridcolor\": \"white\", \"gridwidth\": 2, \"linecolor\": \"white\", \"showbackground\": true, \"ticks\": \"\", \"zerolinecolor\": \"white\"}}, \"shapedefaults\": {\"line\": {\"color\": \"#2a3f5f\"}}, \"ternary\": {\"aaxis\": {\"gridcolor\": \"white\", \"linecolor\": \"white\", \"ticks\": \"\"}, \"baxis\": {\"gridcolor\": \"white\", \"linecolor\": \"white\", \"ticks\": \"\"}, \"bgcolor\": \"#E5ECF6\", \"caxis\": {\"gridcolor\": \"white\", \"linecolor\": \"white\", \"ticks\": \"\"}}, \"title\": {\"x\": 0.05}, \"xaxis\": {\"automargin\": true, \"gridcolor\": \"white\", \"linecolor\": \"white\", \"ticks\": \"\", \"title\": {\"standoff\": 15}, \"zerolinecolor\": \"white\", \"zerolinewidth\": 2}, \"yaxis\": {\"automargin\": true, \"gridcolor\": \"white\", \"linecolor\": \"white\", \"ticks\": \"\", \"title\": {\"standoff\": 15}, \"zerolinecolor\": \"white\", \"zerolinewidth\": 2}}}, \"title\": {\"text\": \"Sentiment analysis of r/destinythegame posts from previous 24 hours\"}, \"xaxis\": {\"anchor\": \"y\", \"domain\": [0.0, 1.0], \"title\": {\"text\": \"Date Posted\"}}, \"xaxis2\": {\"anchor\": \"y2\", \"domain\": [0.0, 1.0], \"matches\": \"x\", \"showgrid\": true, \"showticklabels\": false}, \"yaxis\": {\"anchor\": \"x\", \"domain\": [0.0, 0.7326], \"title\": {\"text\": \"Post Polarity\"}}, \"yaxis2\": {\"anchor\": \"x2\", \"domain\": [0.7426, 1.0], \"matches\": \"y2\", \"showgrid\": true, \"showline\": false, \"showticklabels\": false, \"ticks\": \"\"}},\n",
       "                        {\"responsive\": true}\n",
       "                    ).then(function(){\n",
       "                            \n",
       "var gd = document.getElementById('82d17573-c9b0-4c1f-8a57-59fb1cb69fc8');\n",
       "var x = new MutationObserver(function (mutations, observer) {{\n",
       "        var display = window.getComputedStyle(gd).display;\n",
       "        if (!display || display === 'none') {{\n",
       "            console.log([gd, 'removed!']);\n",
       "            Plotly.purge(gd);\n",
       "            observer.disconnect();\n",
       "        }}\n",
       "}});\n",
       "\n",
       "// Listen for the removal of the full notebook cells\n",
       "var notebookContainer = gd.closest('#notebook-container');\n",
       "if (notebookContainer) {{\n",
       "    x.observe(notebookContainer, {childList: true});\n",
       "}}\n",
       "\n",
       "// Listen for the clearing of the current output cell\n",
       "var outputEl = gd.closest('.output');\n",
       "if (outputEl) {{\n",
       "    x.observe(outputEl, {childList: true});\n",
       "}}\n",
       "\n",
       "                        })\n",
       "                };\n",
       "                });\n",
       "            </script>\n",
       "        </div>"
      ]
     },
     "metadata": {},
     "output_type": "display_data"
    },
    {
     "data": {
      "application/vnd.plotly.v1+json": {
       "config": {
        "plotlyServerURL": "https://plot.ly"
       },
       "data": [
        {
         "customdata": [
          [
           "_SeparateEagle_",
           "ei5edh"
          ],
          [
           "Ruraraid",
           "ei5p86"
          ],
          [
           "Vigil32",
           "ei5rw0"
          ],
          [
           "J8NSYY",
           "ei5tjg"
          ],
          [
           "LoLx1",
           "ei5v4p"
          ],
          [
           "timetogoVroom",
           "ei67a4"
          ],
          [
           "smellypuddin",
           "ei6c98"
          ],
          [
           "pazanate",
           "ei6jsw"
          ],
          [
           "MrMyxzplk",
           "ei6w1b"
          ],
          [
           "Noman_Blaze",
           "ei7bzp"
          ],
          [
           "BGSPARK500",
           "ei8fdc"
          ],
          [
           "SapphireSammi",
           "ei8hi3"
          ],
          [
           "chrismarinoccio",
           "ei8mc2"
          ],
          [
           "JDuijne",
           "ei8q4q"
          ],
          [
           "Ryderdawg",
           "ei8tal"
          ],
          [
           "onexyzero",
           "ei8twd"
          ],
          [
           "Sketep",
           "ei9d39"
          ],
          [
           "ThornierSpider7",
           "ei9nrm"
          ],
          [
           "Toast-that-is-burnt",
           "eia7k6"
          ],
          [
           "WabbitCZEN",
           "eiajub"
          ],
          [
           "Gustalavalav",
           "eiax5v"
          ],
          [
           "dragonoid05",
           "eib02o"
          ],
          [
           "xCovertSniperx",
           "eib0ii"
          ],
          [
           "patton3",
           "eib24f"
          ],
          [
           "incrassa",
           "eib7v1"
          ],
          [
           "Mirkblood",
           "eibusv"
          ],
          [
           "MyAzzOwnzYou",
           "eibwc8"
          ],
          [
           "yoyo4444773728",
           "eibxhv"
          ],
          [
           "dj-kaled",
           "eibyv4"
          ],
          [
           "melo23hd",
           "eic1tn"
          ],
          [
           "MachoPanda71",
           "eichg9"
          ],
          [
           "ghsvgreweb",
           "eicpwk"
          ],
          [
           "cocoaboy123",
           "eicr2s"
          ],
          [
           "Kailey_ra",
           "eid867"
          ],
          [
           "DrBamMan",
           "eideu8"
          ],
          [
           "Xander142001",
           "eidj2h"
          ],
          [
           "VexOffender69420",
           "eidj74"
          ],
          [
           "ParalyzedBeauty",
           "eidveb"
          ],
          [
           "jackman48L",
           "eidxmv"
          ],
          [
           "TUr805L4Y3R",
           "eie7dm"
          ],
          [
           "wiithewalrus",
           "eieohb"
          ],
          [
           "NeoDivergent",
           "eifc1w"
          ],
          [
           "elsexyboygian",
           "eiffnd"
          ],
          [
           "taquitoxz86",
           "eifled"
          ],
          [
           "lukedamemester",
           "eifs0g"
          ],
          [
           "yoless28",
           "eig6t0"
          ],
          [
           "Raxdamighty",
           "eiggj2"
          ],
          [
           "Moldbourne",
           "eigw36"
          ],
          [
           "yehaw23",
           "eih6yy"
          ],
          [
           "PuppyDudeLol",
           "eihekx"
          ],
          [
           "TheRealTTN",
           "eihfdw"
          ],
          [
           "VMini91",
           "eihhzo"
          ],
          [
           "Kmack_00",
           "eii2zm"
          ],
          [
           "Vigil32",
           "eiis25"
          ],
          [
           "J8NSYY",
           "eiivak"
          ],
          [
           "ThatBluesBS",
           "eiizrv"
          ],
          [
           "the-confused-gamer",
           "eijmp1"
          ],
          [
           "BT-3025",
           "eijpsq"
          ]
         ],
         "hoverlabel": {
          "namelength": 0
         },
         "hovertemplate": "sentiment=negative<br>Date Posted=%{x}<br>Post Polarity=%{y}<br>num_comments=%{marker.size}<br>author=%{customdata[0]}<br>id=%{customdata[1]}",
         "legendgroup": "sentiment=negative",
         "marker": {
          "color": "violet",
          "size": [
           5,
           2,
           4,
           8,
           4,
           1,
           6,
           5,
           16,
           3,
           1,
           4,
           3,
           7,
           8,
           2,
           6,
           5,
           4,
           9,
           8,
           4,
           2,
           4,
           6,
           4,
           4,
           5,
           3,
           11,
           1,
           4,
           1,
           3,
           8,
           7,
           2,
           6,
           3,
           3,
           5,
           14,
           6,
           3,
           12,
           8,
           0,
           1,
           2,
           2,
           0,
           0,
           10,
           1,
           7,
           0,
           4,
           4
          ],
          "sizemode": "area",
          "sizeref": 0.0575,
          "symbol": "circle"
         },
         "mode": "markers",
         "name": "sentiment=negative",
         "showlegend": true,
         "type": "scatter",
         "x": [
          "2019-12-31T16:54:13",
          "2019-12-31T17:15:15",
          "2019-12-31T17:20:42",
          "2019-12-31T17:23:54",
          "2019-12-31T17:26:41",
          "2019-12-31T17:50:46",
          "2019-12-31T18:00:36",
          "2019-12-31T18:15:31",
          "2019-12-31T18:39:59",
          "2019-12-31T19:11:46",
          "2019-12-31T20:33:36",
          "2019-12-31T20:38:08",
          "2019-12-31T20:48:42",
          "2019-12-31T20:57:01",
          "2019-12-31T21:04:11",
          "2019-12-31T21:05:23",
          "2019-12-31T21:47:58",
          "2019-12-31T22:12:10",
          "2019-12-31T22:56:27",
          "2019-12-31T23:24:04",
          "2019-12-31T23:53:38",
          "2020-01-01T00:00:17",
          "2020-01-01T00:01:14",
          "2020-01-01T00:04:40",
          "2020-01-01T00:17:04",
          "2020-01-01T01:09:29",
          "2020-01-01T01:13:19",
          "2020-01-01T01:16:12",
          "2020-01-01T01:19:38",
          "2020-01-01T01:26:47",
          "2020-01-01T02:06:25",
          "2020-01-01T02:28:20",
          "2020-01-01T02:31:33",
          "2020-01-01T03:17:49",
          "2020-01-01T03:35:59",
          "2020-01-01T03:47:36",
          "2020-01-01T03:48:00",
          "2020-01-01T04:22:17",
          "2020-01-01T04:29:03",
          "2020-01-01T04:57:39",
          "2020-01-01T05:41:24",
          "2020-01-01T06:51:58",
          "2020-01-01T07:03:11",
          "2020-01-01T07:22:27",
          "2020-01-01T07:45:26",
          "2020-01-01T08:36:46",
          "2020-01-01T09:13:21",
          "2020-01-01T10:12:19",
          "2020-01-01T10:55:41",
          "2020-01-01T11:24:16",
          "2020-01-01T11:27:30",
          "2020-01-01T11:37:41",
          "2020-01-01T12:57:00",
          "2020-01-01T14:19:56",
          "2020-01-01T14:29:28",
          "2020-01-01T14:42:37",
          "2020-01-01T15:44:25",
          "2020-01-01T15:52:22"
         ],
         "xaxis": "x",
         "y": [
          -0.14285714285714285,
          0,
          0,
          -0.08333333333333333,
          0,
          -0.3499999999999999,
          0,
          0,
          -0.06979166666666668,
          0,
          -0.011111111111111108,
          -0.2,
          -0.4291666666666667,
          0,
          -0.07500000000000001,
          0,
          -0.04,
          0,
          -0.016326530612244903,
          0,
          -0.05833333333333335,
          0,
          -0.024999999999999994,
          -0.6666666666666666,
          -0.65,
          0,
          0,
          0,
          0,
          0,
          -0.01957813428401664,
          -0.07045454545454546,
          -0.075,
          0,
          -0.125,
          -0.15,
          0,
          0,
          -0.2916666666666667,
          -0.2722222222222222,
          -0.10351239669421487,
          0,
          -0.022380952380952397,
          -0.125,
          -0.025139146567718016,
          -0.4125,
          -0.011904761904761904,
          -0.16666666666666666,
          -0.10000000000000003,
          -0.1,
          0,
          0,
          -0.16666666666666666,
          0,
          0,
          -0.025000000000000022,
          -0.55,
          0
         ],
         "yaxis": "y"
        },
        {
         "alignmentgroup": "True",
         "bingroup": "x",
         "hoverlabel": {
          "namelength": 0
         },
         "hovertemplate": "sentiment=negative<br>Date Posted=%{x}<br>count=%{y}",
         "legendgroup": "sentiment=negative",
         "marker": {
          "color": "violet"
         },
         "name": "sentiment=negative",
         "offsetgroup": "sentiment=negative",
         "opacity": 0.5,
         "showlegend": false,
         "type": "histogram",
         "x": [
          "2019-12-31T16:54:13",
          "2019-12-31T17:15:15",
          "2019-12-31T17:20:42",
          "2019-12-31T17:23:54",
          "2019-12-31T17:26:41",
          "2019-12-31T17:50:46",
          "2019-12-31T18:00:36",
          "2019-12-31T18:15:31",
          "2019-12-31T18:39:59",
          "2019-12-31T19:11:46",
          "2019-12-31T20:33:36",
          "2019-12-31T20:38:08",
          "2019-12-31T20:48:42",
          "2019-12-31T20:57:01",
          "2019-12-31T21:04:11",
          "2019-12-31T21:05:23",
          "2019-12-31T21:47:58",
          "2019-12-31T22:12:10",
          "2019-12-31T22:56:27",
          "2019-12-31T23:24:04",
          "2019-12-31T23:53:38",
          "2020-01-01T00:00:17",
          "2020-01-01T00:01:14",
          "2020-01-01T00:04:40",
          "2020-01-01T00:17:04",
          "2020-01-01T01:09:29",
          "2020-01-01T01:13:19",
          "2020-01-01T01:16:12",
          "2020-01-01T01:19:38",
          "2020-01-01T01:26:47",
          "2020-01-01T02:06:25",
          "2020-01-01T02:28:20",
          "2020-01-01T02:31:33",
          "2020-01-01T03:17:49",
          "2020-01-01T03:35:59",
          "2020-01-01T03:47:36",
          "2020-01-01T03:48:00",
          "2020-01-01T04:22:17",
          "2020-01-01T04:29:03",
          "2020-01-01T04:57:39",
          "2020-01-01T05:41:24",
          "2020-01-01T06:51:58",
          "2020-01-01T07:03:11",
          "2020-01-01T07:22:27",
          "2020-01-01T07:45:26",
          "2020-01-01T08:36:46",
          "2020-01-01T09:13:21",
          "2020-01-01T10:12:19",
          "2020-01-01T10:55:41",
          "2020-01-01T11:24:16",
          "2020-01-01T11:27:30",
          "2020-01-01T11:37:41",
          "2020-01-01T12:57:00",
          "2020-01-01T14:19:56",
          "2020-01-01T14:29:28",
          "2020-01-01T14:42:37",
          "2020-01-01T15:44:25",
          "2020-01-01T15:52:22"
         ],
         "xaxis": "x2",
         "yaxis": "y2"
        },
        {
         "customdata": [
          [
           "J2xACE",
           "ei5fwd"
          ],
          [
           "NegaChrome",
           "ei5jl8"
          ],
          [
           "newaccount6969420",
           "ei5t6w"
          ],
          [
           "graspee",
           "ei5ymc"
          ],
          [
           "Howard_Goldstien",
           "ei5zdo"
          ],
          [
           "GrantFireType",
           "ei612f"
          ],
          [
           "MochiBakaa",
           "ei6m7a"
          ],
          [
           "Strong_Mode",
           "ei6mtb"
          ],
          [
           "EGG_LOAF",
           "ei6o37"
          ],
          [
           "KrisDahl116",
           "ei6uts"
          ],
          [
           "J8NSYY",
           "ei6vqs"
          ],
          [
           "FungusAmongus007",
           "ei7fr8"
          ],
          [
           "SoyboySauce",
           "ei7id2"
          ],
          [
           "Donrage8",
           "ei7key"
          ],
          [
           "Wahmanz3",
           "ei7nnz"
          ],
          [
           "Dlucks83",
           "ei8buj"
          ],
          [
           "Falkr__th",
           "ei8io8"
          ],
          [
           "JTyler2468",
           "ei8jk5"
          ],
          [
           "xsummertime77",
           "ei8nj0"
          ],
          [
           "Animalesco",
           "ei8rdv"
          ],
          [
           "Cornerbog",
           "ei92yv"
          ],
          [
           "TheMany-FacedGod",
           "ei94ii"
          ],
          [
           "deathwatcher21",
           "ei965g"
          ],
          [
           "Vailix750",
           "ei96v2"
          ],
          [
           "veryhiddentalent",
           "ei9o7i"
          ],
          [
           "deathwatcher21",
           "ei9psy"
          ],
          [
           "PCgamer7777",
           "ei9r22"
          ],
          [
           "NAMEANNONYMOUS",
           "eia4ok"
          ],
          [
           "robertnk05",
           "eia84r"
          ],
          [
           "Jacksonhoward0",
           "eia8y8"
          ],
          [
           "SheWantsPingu",
           "eiaa9k"
          ],
          [
           "reddittidder1234321",
           "eiahmm"
          ],
          [
           "WabbitCZEN",
           "eiaigl"
          ],
          [
           "Stayfrosty157",
           "eianls"
          ],
          [
           "J2xACE",
           "eianwy"
          ],
          [
           "dstary",
           "eib0oi"
          ],
          [
           "RickV6",
           "eibb1k"
          ],
          [
           "Uncreative_name1385",
           "eibyqg"
          ],
          [
           "chrisasian45",
           "eic4d6"
          ],
          [
           "deathwatcher21",
           "eic51v"
          ],
          [
           "techmatrixusa",
           "eicjb0"
          ],
          [
           "Graves_Cigar_",
           "eiclf0"
          ],
          [
           "Frenchonion546",
           "eicoqw"
          ],
          [
           "brandyLove75",
           "eicqh4"
          ],
          [
           "Luriction",
           "eicqlm"
          ],
          [
           "Xx_k4ng4r00_xX",
           "eid683"
          ],
          [
           "Cheetos4You",
           "eid7f8"
          ],
          [
           "ErcDoogles",
           "eidab2"
          ],
          [
           "BigIndo95",
           "eidh6t"
          ],
          [
           "teezway",
           "eidnoy"
          ],
          [
           "wasteland_superhero",
           "eidp2g"
          ],
          [
           "DredgenDisciple",
           "eidw61"
          ],
          [
           "SkyGuyMcFly",
           "eieiwg"
          ],
          [
           "Leonatius",
           "eielai"
          ],
          [
           "xburningwaterx0",
           "eielr2"
          ],
          [
           "Critdentials",
           "eif7jp"
          ],
          [
           "ScottiScoot",
           "eifah3"
          ],
          [
           "onexyzero",
           "eifb49"
          ],
          [
           "MickelDaMango",
           "eifbr3"
          ],
          [
           "Zeoxhostil",
           "eifcpb"
          ],
          [
           "TruBanana",
           "eiffua"
          ],
          [
           "BurntPopcorn_OW",
           "eifg1c"
          ],
          [
           "el_cartos",
           "eifj7q"
          ],
          [
           "voDox17",
           "eifmdh"
          ],
          [
           "Memeaholic825",
           "eifw95"
          ],
          [
           "el_cartos",
           "eifx0q"
          ],
          [
           "InfiniteBiohazards",
           "eigtjl"
          ],
          [
           "TheHungWolf",
           "eigtyk"
          ],
          [
           "-Setro-",
           "eigyxq"
          ],
          [
           "JustWil5",
           "eih4r9"
          ],
          [
           "lesgedit",
           "eihgob"
          ],
          [
           "Patrick_DSouza1",
           "eihp1r"
          ],
          [
           "Naver789",
           "eihp83"
          ],
          [
           "KeyanReid",
           "eihqip"
          ],
          [
           "thingsandstuffsguy",
           "eihtok"
          ],
          [
           "Brainhole87",
           "eihyim"
          ],
          [
           "Wolf_Ironic",
           "eiiau7"
          ],
          [
           "k4rbine",
           "eiicbd"
          ],
          [
           "Fear_Oryx",
           "eiiqf9"
          ],
          [
           "coles_man_mcjones",
           "eiisiu"
          ],
          [
           "RealExuberantRaptor",
           "eijsn2"
          ],
          [
           "xXDaZealousXx",
           "eik3ug"
          ],
          [
           "UrgentQuestionMan",
           "eik7va"
          ],
          [
           "CLAPPYBIRD1950",
           "eik8zn"
          ]
         ],
         "hoverlabel": {
          "namelength": 0
         },
         "hovertemplate": "sentiment=positive<br>Date Posted=%{x}<br>Post Polarity=%{y}<br>num_comments=%{marker.size}<br>author=%{customdata[0]}<br>id=%{customdata[1]}",
         "legendgroup": "sentiment=positive",
         "marker": {
          "color": "lightslategrey",
          "size": [
           3,
           3,
           5,
           6,
           5,
           1,
           7,
           2,
           0,
           2,
           4,
           9,
           6,
           2,
           22,
           3,
           1,
           1,
           6,
           2,
           5,
           3,
           4,
           7,
           23,
           10,
           3,
           15,
           7,
           12,
           2,
           2,
           8,
           3,
           9,
           3,
           13,
           5,
           5,
           5,
           0,
           0,
           5,
           12,
           4,
           1,
           16,
           7,
           1,
           2,
           16,
           5,
           5,
           12,
           7,
           4,
           7,
           2,
           0,
           6,
           3,
           1,
           4,
           8,
           11,
           5,
           7,
           3,
           20,
           2,
           4,
           8,
           1,
           6,
           0,
           6,
           4,
           2,
           9,
           14,
           3,
           4,
           2,
           1
          ],
          "sizemode": "area",
          "sizeref": 0.0575,
          "symbol": "circle"
         },
         "mode": "markers",
         "name": "sentiment=positive",
         "showlegend": true,
         "type": "scatter",
         "x": [
          "2019-12-31T16:57:15",
          "2019-12-31T17:04:24",
          "2019-12-31T17:23:12",
          "2019-12-31T17:33:35",
          "2019-12-31T17:35:06",
          "2019-12-31T17:38:24",
          "2019-12-31T18:20:24",
          "2019-12-31T18:21:37",
          "2019-12-31T18:24:02",
          "2019-12-31T18:37:29",
          "2019-12-31T18:39:27",
          "2019-12-31T19:19:12",
          "2019-12-31T19:24:16",
          "2019-12-31T19:28:31",
          "2019-12-31T19:35:03",
          "2019-12-31T20:26:05",
          "2019-12-31T20:40:37",
          "2019-12-31T20:42:25",
          "2019-12-31T20:51:16",
          "2019-12-31T20:59:51",
          "2019-12-31T21:25:24",
          "2019-12-31T21:28:51",
          "2019-12-31T21:32:32",
          "2019-12-31T21:34:11",
          "2019-12-31T22:13:08",
          "2019-12-31T22:16:33",
          "2019-12-31T22:19:27",
          "2019-12-31T22:49:53",
          "2019-12-31T22:57:49",
          "2019-12-31T22:59:47",
          "2019-12-31T23:02:36",
          "2019-12-31T23:18:59",
          "2019-12-31T23:21:01",
          "2019-12-31T23:32:13",
          "2019-12-31T23:32:56",
          "2020-01-01T00:01:35",
          "2020-01-01T00:24:08",
          "2020-01-01T01:19:18",
          "2020-01-01T01:32:57",
          "2020-01-01T01:34:41",
          "2020-01-01T02:11:13",
          "2020-01-01T02:16:43",
          "2020-01-01T02:25:17",
          "2020-01-01T02:29:52",
          "2020-01-01T02:30:13",
          "2020-01-01T03:12:18",
          "2020-01-01T03:15:43",
          "2020-01-01T03:23:29",
          "2020-01-01T03:42:20",
          "2020-01-01T04:00:48",
          "2020-01-01T04:04:22",
          "2020-01-01T04:24:36",
          "2020-01-01T05:25:50",
          "2020-01-01T05:32:26",
          "2020-01-01T05:33:50",
          "2020-01-01T06:37:56",
          "2020-01-01T06:47:00",
          "2020-01-01T06:49:08",
          "2020-01-01T06:51:09",
          "2020-01-01T06:53:58",
          "2020-01-01T07:03:52",
          "2020-01-01T07:04:22",
          "2020-01-01T07:14:48",
          "2020-01-01T07:25:53",
          "2020-01-01T08:00:09",
          "2020-01-01T08:02:27",
          "2020-01-01T10:03:31",
          "2020-01-01T10:04:46",
          "2020-01-01T10:23:36",
          "2020-01-01T10:46:39",
          "2020-01-01T11:32:30",
          "2020-01-01T12:04:44",
          "2020-01-01T12:05:33",
          "2020-01-01T12:10:18",
          "2020-01-01T12:22:08",
          "2020-01-01T12:40:46",
          "2020-01-01T13:24:11",
          "2020-01-01T13:29:23",
          "2020-01-01T14:14:50",
          "2020-01-01T14:21:19",
          "2020-01-01T15:59:14",
          "2020-01-01T16:25:55",
          "2020-01-01T16:35:18",
          "2020-01-01T16:37:57"
         ],
         "xaxis": "x",
         "y": [
          0.12499999999999999,
          0.1642857142857143,
          0.1732142857142857,
          0.03912337662337661,
          0.04285714285714285,
          0.03125,
          0.36666666666666664,
          0.18293650793650795,
          0.4840909090909091,
          0.10495129870129871,
          1,
          0.19999999999999998,
          0.012499999999999997,
          0.3,
          0.2,
          0.23958333333333334,
          0.075,
          0.1199284511784512,
          0.09722222222222222,
          0.08367346938775509,
          0.3625,
          0.030555555555555555,
          0.7,
          0.41818181818181815,
          0.59375,
          0.21428571428571427,
          1,
          0.2545454545454545,
          0.4,
          0.020000000000000018,
          0.5,
          0.3215277777777778,
          0.03333333333333333,
          0.5,
          0.19090909090909094,
          0.2,
          0.04545454545454545,
          0.5555555555555555,
          0.022222222222222216,
          0.39298701298701294,
          0.2909090909090909,
          1,
          0.35,
          0.26666666666666666,
          0.4166666666666667,
          0.027499999999999997,
          0.012351190476190488,
          0.02619047619047619,
          0.05666666666666664,
          0.38,
          0.19545454545454544,
          0.25,
          0.18333333333333332,
          0.1166666666666667,
          0.09545454545454546,
          0.19,
          0.009407096171802052,
          0.3,
          0.033333333333333326,
          0.3,
          0.040624999999999994,
          0.28954545454545455,
          0.28939393939393937,
          0.11253656253656251,
          0.2672727272727272,
          0.3466666666666666,
          0.08472222222222221,
          0.05842464826839827,
          0.010049019607843143,
          0.061136363636363635,
          0.22857142857142856,
          0.75,
          0.3125,
          0.11249999999999999,
          0.07050092764378478,
          0.28787878787878785,
          0.18293650793650792,
          0.15204545454545454,
          0.2278409090909091,
          0.1,
          0.3333333333333333,
          0.3625,
          0.22500000000000003,
          0.16818181818181818
         ],
         "yaxis": "y"
        },
        {
         "alignmentgroup": "True",
         "bingroup": "x",
         "hoverlabel": {
          "namelength": 0
         },
         "hovertemplate": "sentiment=positive<br>Date Posted=%{x}<br>count=%{y}",
         "legendgroup": "sentiment=positive",
         "marker": {
          "color": "lightslategrey"
         },
         "name": "sentiment=positive",
         "offsetgroup": "sentiment=positive",
         "opacity": 0.5,
         "showlegend": false,
         "type": "histogram",
         "x": [
          "2019-12-31T16:57:15",
          "2019-12-31T17:04:24",
          "2019-12-31T17:23:12",
          "2019-12-31T17:33:35",
          "2019-12-31T17:35:06",
          "2019-12-31T17:38:24",
          "2019-12-31T18:20:24",
          "2019-12-31T18:21:37",
          "2019-12-31T18:24:02",
          "2019-12-31T18:37:29",
          "2019-12-31T18:39:27",
          "2019-12-31T19:19:12",
          "2019-12-31T19:24:16",
          "2019-12-31T19:28:31",
          "2019-12-31T19:35:03",
          "2019-12-31T20:26:05",
          "2019-12-31T20:40:37",
          "2019-12-31T20:42:25",
          "2019-12-31T20:51:16",
          "2019-12-31T20:59:51",
          "2019-12-31T21:25:24",
          "2019-12-31T21:28:51",
          "2019-12-31T21:32:32",
          "2019-12-31T21:34:11",
          "2019-12-31T22:13:08",
          "2019-12-31T22:16:33",
          "2019-12-31T22:19:27",
          "2019-12-31T22:49:53",
          "2019-12-31T22:57:49",
          "2019-12-31T22:59:47",
          "2019-12-31T23:02:36",
          "2019-12-31T23:18:59",
          "2019-12-31T23:21:01",
          "2019-12-31T23:32:13",
          "2019-12-31T23:32:56",
          "2020-01-01T00:01:35",
          "2020-01-01T00:24:08",
          "2020-01-01T01:19:18",
          "2020-01-01T01:32:57",
          "2020-01-01T01:34:41",
          "2020-01-01T02:11:13",
          "2020-01-01T02:16:43",
          "2020-01-01T02:25:17",
          "2020-01-01T02:29:52",
          "2020-01-01T02:30:13",
          "2020-01-01T03:12:18",
          "2020-01-01T03:15:43",
          "2020-01-01T03:23:29",
          "2020-01-01T03:42:20",
          "2020-01-01T04:00:48",
          "2020-01-01T04:04:22",
          "2020-01-01T04:24:36",
          "2020-01-01T05:25:50",
          "2020-01-01T05:32:26",
          "2020-01-01T05:33:50",
          "2020-01-01T06:37:56",
          "2020-01-01T06:47:00",
          "2020-01-01T06:49:08",
          "2020-01-01T06:51:09",
          "2020-01-01T06:53:58",
          "2020-01-01T07:03:52",
          "2020-01-01T07:04:22",
          "2020-01-01T07:14:48",
          "2020-01-01T07:25:53",
          "2020-01-01T08:00:09",
          "2020-01-01T08:02:27",
          "2020-01-01T10:03:31",
          "2020-01-01T10:04:46",
          "2020-01-01T10:23:36",
          "2020-01-01T10:46:39",
          "2020-01-01T11:32:30",
          "2020-01-01T12:04:44",
          "2020-01-01T12:05:33",
          "2020-01-01T12:10:18",
          "2020-01-01T12:22:08",
          "2020-01-01T12:40:46",
          "2020-01-01T13:24:11",
          "2020-01-01T13:29:23",
          "2020-01-01T14:14:50",
          "2020-01-01T14:21:19",
          "2020-01-01T15:59:14",
          "2020-01-01T16:25:55",
          "2020-01-01T16:35:18",
          "2020-01-01T16:37:57"
         ],
         "xaxis": "x2",
         "yaxis": "y2"
        }
       ],
       "layout": {
        "barmode": "overlay",
        "legend": {
         "itemsizing": "constant",
         "tracegroupgap": 0
        },
        "template": {
         "data": {
          "bar": [
           {
            "error_x": {
             "color": "#2a3f5f"
            },
            "error_y": {
             "color": "#2a3f5f"
            },
            "marker": {
             "line": {
              "color": "#E5ECF6",
              "width": 0.5
             }
            },
            "type": "bar"
           }
          ],
          "barpolar": [
           {
            "marker": {
             "line": {
              "color": "#E5ECF6",
              "width": 0.5
             }
            },
            "type": "barpolar"
           }
          ],
          "carpet": [
           {
            "aaxis": {
             "endlinecolor": "#2a3f5f",
             "gridcolor": "white",
             "linecolor": "white",
             "minorgridcolor": "white",
             "startlinecolor": "#2a3f5f"
            },
            "baxis": {
             "endlinecolor": "#2a3f5f",
             "gridcolor": "white",
             "linecolor": "white",
             "minorgridcolor": "white",
             "startlinecolor": "#2a3f5f"
            },
            "type": "carpet"
           }
          ],
          "choropleth": [
           {
            "colorbar": {
             "outlinewidth": 0,
             "ticks": ""
            },
            "type": "choropleth"
           }
          ],
          "contour": [
           {
            "colorbar": {
             "outlinewidth": 0,
             "ticks": ""
            },
            "colorscale": [
             [
              0,
              "#0d0887"
             ],
             [
              0.1111111111111111,
              "#46039f"
             ],
             [
              0.2222222222222222,
              "#7201a8"
             ],
             [
              0.3333333333333333,
              "#9c179e"
             ],
             [
              0.4444444444444444,
              "#bd3786"
             ],
             [
              0.5555555555555556,
              "#d8576b"
             ],
             [
              0.6666666666666666,
              "#ed7953"
             ],
             [
              0.7777777777777778,
              "#fb9f3a"
             ],
             [
              0.8888888888888888,
              "#fdca26"
             ],
             [
              1,
              "#f0f921"
             ]
            ],
            "type": "contour"
           }
          ],
          "contourcarpet": [
           {
            "colorbar": {
             "outlinewidth": 0,
             "ticks": ""
            },
            "type": "contourcarpet"
           }
          ],
          "heatmap": [
           {
            "colorbar": {
             "outlinewidth": 0,
             "ticks": ""
            },
            "colorscale": [
             [
              0,
              "#0d0887"
             ],
             [
              0.1111111111111111,
              "#46039f"
             ],
             [
              0.2222222222222222,
              "#7201a8"
             ],
             [
              0.3333333333333333,
              "#9c179e"
             ],
             [
              0.4444444444444444,
              "#bd3786"
             ],
             [
              0.5555555555555556,
              "#d8576b"
             ],
             [
              0.6666666666666666,
              "#ed7953"
             ],
             [
              0.7777777777777778,
              "#fb9f3a"
             ],
             [
              0.8888888888888888,
              "#fdca26"
             ],
             [
              1,
              "#f0f921"
             ]
            ],
            "type": "heatmap"
           }
          ],
          "heatmapgl": [
           {
            "colorbar": {
             "outlinewidth": 0,
             "ticks": ""
            },
            "colorscale": [
             [
              0,
              "#0d0887"
             ],
             [
              0.1111111111111111,
              "#46039f"
             ],
             [
              0.2222222222222222,
              "#7201a8"
             ],
             [
              0.3333333333333333,
              "#9c179e"
             ],
             [
              0.4444444444444444,
              "#bd3786"
             ],
             [
              0.5555555555555556,
              "#d8576b"
             ],
             [
              0.6666666666666666,
              "#ed7953"
             ],
             [
              0.7777777777777778,
              "#fb9f3a"
             ],
             [
              0.8888888888888888,
              "#fdca26"
             ],
             [
              1,
              "#f0f921"
             ]
            ],
            "type": "heatmapgl"
           }
          ],
          "histogram": [
           {
            "marker": {
             "colorbar": {
              "outlinewidth": 0,
              "ticks": ""
             }
            },
            "type": "histogram"
           }
          ],
          "histogram2d": [
           {
            "colorbar": {
             "outlinewidth": 0,
             "ticks": ""
            },
            "colorscale": [
             [
              0,
              "#0d0887"
             ],
             [
              0.1111111111111111,
              "#46039f"
             ],
             [
              0.2222222222222222,
              "#7201a8"
             ],
             [
              0.3333333333333333,
              "#9c179e"
             ],
             [
              0.4444444444444444,
              "#bd3786"
             ],
             [
              0.5555555555555556,
              "#d8576b"
             ],
             [
              0.6666666666666666,
              "#ed7953"
             ],
             [
              0.7777777777777778,
              "#fb9f3a"
             ],
             [
              0.8888888888888888,
              "#fdca26"
             ],
             [
              1,
              "#f0f921"
             ]
            ],
            "type": "histogram2d"
           }
          ],
          "histogram2dcontour": [
           {
            "colorbar": {
             "outlinewidth": 0,
             "ticks": ""
            },
            "colorscale": [
             [
              0,
              "#0d0887"
             ],
             [
              0.1111111111111111,
              "#46039f"
             ],
             [
              0.2222222222222222,
              "#7201a8"
             ],
             [
              0.3333333333333333,
              "#9c179e"
             ],
             [
              0.4444444444444444,
              "#bd3786"
             ],
             [
              0.5555555555555556,
              "#d8576b"
             ],
             [
              0.6666666666666666,
              "#ed7953"
             ],
             [
              0.7777777777777778,
              "#fb9f3a"
             ],
             [
              0.8888888888888888,
              "#fdca26"
             ],
             [
              1,
              "#f0f921"
             ]
            ],
            "type": "histogram2dcontour"
           }
          ],
          "mesh3d": [
           {
            "colorbar": {
             "outlinewidth": 0,
             "ticks": ""
            },
            "type": "mesh3d"
           }
          ],
          "parcoords": [
           {
            "line": {
             "colorbar": {
              "outlinewidth": 0,
              "ticks": ""
             }
            },
            "type": "parcoords"
           }
          ],
          "pie": [
           {
            "automargin": true,
            "type": "pie"
           }
          ],
          "scatter": [
           {
            "marker": {
             "colorbar": {
              "outlinewidth": 0,
              "ticks": ""
             }
            },
            "type": "scatter"
           }
          ],
          "scatter3d": [
           {
            "line": {
             "colorbar": {
              "outlinewidth": 0,
              "ticks": ""
             }
            },
            "marker": {
             "colorbar": {
              "outlinewidth": 0,
              "ticks": ""
             }
            },
            "type": "scatter3d"
           }
          ],
          "scattercarpet": [
           {
            "marker": {
             "colorbar": {
              "outlinewidth": 0,
              "ticks": ""
             }
            },
            "type": "scattercarpet"
           }
          ],
          "scattergeo": [
           {
            "marker": {
             "colorbar": {
              "outlinewidth": 0,
              "ticks": ""
             }
            },
            "type": "scattergeo"
           }
          ],
          "scattergl": [
           {
            "marker": {
             "colorbar": {
              "outlinewidth": 0,
              "ticks": ""
             }
            },
            "type": "scattergl"
           }
          ],
          "scattermapbox": [
           {
            "marker": {
             "colorbar": {
              "outlinewidth": 0,
              "ticks": ""
             }
            },
            "type": "scattermapbox"
           }
          ],
          "scatterpolar": [
           {
            "marker": {
             "colorbar": {
              "outlinewidth": 0,
              "ticks": ""
             }
            },
            "type": "scatterpolar"
           }
          ],
          "scatterpolargl": [
           {
            "marker": {
             "colorbar": {
              "outlinewidth": 0,
              "ticks": ""
             }
            },
            "type": "scatterpolargl"
           }
          ],
          "scatterternary": [
           {
            "marker": {
             "colorbar": {
              "outlinewidth": 0,
              "ticks": ""
             }
            },
            "type": "scatterternary"
           }
          ],
          "surface": [
           {
            "colorbar": {
             "outlinewidth": 0,
             "ticks": ""
            },
            "colorscale": [
             [
              0,
              "#0d0887"
             ],
             [
              0.1111111111111111,
              "#46039f"
             ],
             [
              0.2222222222222222,
              "#7201a8"
             ],
             [
              0.3333333333333333,
              "#9c179e"
             ],
             [
              0.4444444444444444,
              "#bd3786"
             ],
             [
              0.5555555555555556,
              "#d8576b"
             ],
             [
              0.6666666666666666,
              "#ed7953"
             ],
             [
              0.7777777777777778,
              "#fb9f3a"
             ],
             [
              0.8888888888888888,
              "#fdca26"
             ],
             [
              1,
              "#f0f921"
             ]
            ],
            "type": "surface"
           }
          ],
          "table": [
           {
            "cells": {
             "fill": {
              "color": "#EBF0F8"
             },
             "line": {
              "color": "white"
             }
            },
            "header": {
             "fill": {
              "color": "#C8D4E3"
             },
             "line": {
              "color": "white"
             }
            },
            "type": "table"
           }
          ]
         },
         "layout": {
          "annotationdefaults": {
           "arrowcolor": "#2a3f5f",
           "arrowhead": 0,
           "arrowwidth": 1
          },
          "coloraxis": {
           "colorbar": {
            "outlinewidth": 0,
            "ticks": ""
           }
          },
          "colorscale": {
           "diverging": [
            [
             0,
             "#8e0152"
            ],
            [
             0.1,
             "#c51b7d"
            ],
            [
             0.2,
             "#de77ae"
            ],
            [
             0.3,
             "#f1b6da"
            ],
            [
             0.4,
             "#fde0ef"
            ],
            [
             0.5,
             "#f7f7f7"
            ],
            [
             0.6,
             "#e6f5d0"
            ],
            [
             0.7,
             "#b8e186"
            ],
            [
             0.8,
             "#7fbc41"
            ],
            [
             0.9,
             "#4d9221"
            ],
            [
             1,
             "#276419"
            ]
           ],
           "sequential": [
            [
             0,
             "#0d0887"
            ],
            [
             0.1111111111111111,
             "#46039f"
            ],
            [
             0.2222222222222222,
             "#7201a8"
            ],
            [
             0.3333333333333333,
             "#9c179e"
            ],
            [
             0.4444444444444444,
             "#bd3786"
            ],
            [
             0.5555555555555556,
             "#d8576b"
            ],
            [
             0.6666666666666666,
             "#ed7953"
            ],
            [
             0.7777777777777778,
             "#fb9f3a"
            ],
            [
             0.8888888888888888,
             "#fdca26"
            ],
            [
             1,
             "#f0f921"
            ]
           ],
           "sequentialminus": [
            [
             0,
             "#0d0887"
            ],
            [
             0.1111111111111111,
             "#46039f"
            ],
            [
             0.2222222222222222,
             "#7201a8"
            ],
            [
             0.3333333333333333,
             "#9c179e"
            ],
            [
             0.4444444444444444,
             "#bd3786"
            ],
            [
             0.5555555555555556,
             "#d8576b"
            ],
            [
             0.6666666666666666,
             "#ed7953"
            ],
            [
             0.7777777777777778,
             "#fb9f3a"
            ],
            [
             0.8888888888888888,
             "#fdca26"
            ],
            [
             1,
             "#f0f921"
            ]
           ]
          },
          "colorway": [
           "#636efa",
           "#EF553B",
           "#00cc96",
           "#ab63fa",
           "#FFA15A",
           "#19d3f3",
           "#FF6692",
           "#B6E880",
           "#FF97FF",
           "#FECB52"
          ],
          "font": {
           "color": "#2a3f5f"
          },
          "geo": {
           "bgcolor": "white",
           "lakecolor": "white",
           "landcolor": "#E5ECF6",
           "showlakes": true,
           "showland": true,
           "subunitcolor": "white"
          },
          "hoverlabel": {
           "align": "left"
          },
          "hovermode": "closest",
          "mapbox": {
           "style": "light"
          },
          "paper_bgcolor": "white",
          "plot_bgcolor": "#E5ECF6",
          "polar": {
           "angularaxis": {
            "gridcolor": "white",
            "linecolor": "white",
            "ticks": ""
           },
           "bgcolor": "#E5ECF6",
           "radialaxis": {
            "gridcolor": "white",
            "linecolor": "white",
            "ticks": ""
           }
          },
          "scene": {
           "xaxis": {
            "backgroundcolor": "#E5ECF6",
            "gridcolor": "white",
            "gridwidth": 2,
            "linecolor": "white",
            "showbackground": true,
            "ticks": "",
            "zerolinecolor": "white"
           },
           "yaxis": {
            "backgroundcolor": "#E5ECF6",
            "gridcolor": "white",
            "gridwidth": 2,
            "linecolor": "white",
            "showbackground": true,
            "ticks": "",
            "zerolinecolor": "white"
           },
           "zaxis": {
            "backgroundcolor": "#E5ECF6",
            "gridcolor": "white",
            "gridwidth": 2,
            "linecolor": "white",
            "showbackground": true,
            "ticks": "",
            "zerolinecolor": "white"
           }
          },
          "shapedefaults": {
           "line": {
            "color": "#2a3f5f"
           }
          },
          "ternary": {
           "aaxis": {
            "gridcolor": "white",
            "linecolor": "white",
            "ticks": ""
           },
           "baxis": {
            "gridcolor": "white",
            "linecolor": "white",
            "ticks": ""
           },
           "bgcolor": "#E5ECF6",
           "caxis": {
            "gridcolor": "white",
            "linecolor": "white",
            "ticks": ""
           }
          },
          "title": {
           "x": 0.05
          },
          "xaxis": {
           "automargin": true,
           "gridcolor": "white",
           "linecolor": "white",
           "ticks": "",
           "title": {
            "standoff": 15
           },
           "zerolinecolor": "white",
           "zerolinewidth": 2
          },
          "yaxis": {
           "automargin": true,
           "gridcolor": "white",
           "linecolor": "white",
           "ticks": "",
           "title": {
            "standoff": 15
           },
           "zerolinecolor": "white",
           "zerolinewidth": 2
          }
         }
        },
        "title": {
         "text": "Sentiment analysis of r/destiny2 posts from previous 24 hours"
        },
        "xaxis": {
         "anchor": "y",
         "domain": [
          0,
          1
         ],
         "title": {
          "text": "Date Posted"
         }
        },
        "xaxis2": {
         "anchor": "y2",
         "domain": [
          0,
          1
         ],
         "matches": "x",
         "showgrid": true,
         "showticklabels": false
        },
        "yaxis": {
         "anchor": "x",
         "domain": [
          0,
          0.7326
         ],
         "title": {
          "text": "Post Polarity"
         }
        },
        "yaxis2": {
         "anchor": "x2",
         "domain": [
          0.7426,
          1
         ],
         "matches": "y2",
         "showgrid": true,
         "showline": false,
         "showticklabels": false,
         "ticks": ""
        }
       }
      },
      "text/html": [
       "<div>\n",
       "        \n",
       "        \n",
       "            <div id=\"20b3b961-36e6-4358-ba65-fcd0e9b73e48\" class=\"plotly-graph-div\" style=\"height:525px; width:100%;\"></div>\n",
       "            <script type=\"text/javascript\">\n",
       "                require([\"plotly\"], function(Plotly) {\n",
       "                    window.PLOTLYENV=window.PLOTLYENV || {};\n",
       "                    \n",
       "                if (document.getElementById(\"20b3b961-36e6-4358-ba65-fcd0e9b73e48\")) {\n",
       "                    Plotly.newPlot(\n",
       "                        '20b3b961-36e6-4358-ba65-fcd0e9b73e48',\n",
       "                        [{\"customdata\": [[\"_SeparateEagle_\", \"ei5edh\"], [\"Ruraraid\", \"ei5p86\"], [\"Vigil32\", \"ei5rw0\"], [\"J8NSYY\", \"ei5tjg\"], [\"LoLx1\", \"ei5v4p\"], [\"timetogoVroom\", \"ei67a4\"], [\"smellypuddin\", \"ei6c98\"], [\"pazanate\", \"ei6jsw\"], [\"MrMyxzplk\", \"ei6w1b\"], [\"Noman_Blaze\", \"ei7bzp\"], [\"BGSPARK500\", \"ei8fdc\"], [\"SapphireSammi\", \"ei8hi3\"], [\"chrismarinoccio\", \"ei8mc2\"], [\"JDuijne\", \"ei8q4q\"], [\"Ryderdawg\", \"ei8tal\"], [\"onexyzero\", \"ei8twd\"], [\"Sketep\", \"ei9d39\"], [\"ThornierSpider7\", \"ei9nrm\"], [\"Toast-that-is-burnt\", \"eia7k6\"], [\"WabbitCZEN\", \"eiajub\"], [\"Gustalavalav\", \"eiax5v\"], [\"dragonoid05\", \"eib02o\"], [\"xCovertSniperx\", \"eib0ii\"], [\"patton3\", \"eib24f\"], [\"incrassa\", \"eib7v1\"], [\"Mirkblood\", \"eibusv\"], [\"MyAzzOwnzYou\", \"eibwc8\"], [\"yoyo4444773728\", \"eibxhv\"], [\"dj-kaled\", \"eibyv4\"], [\"melo23hd\", \"eic1tn\"], [\"MachoPanda71\", \"eichg9\"], [\"ghsvgreweb\", \"eicpwk\"], [\"cocoaboy123\", \"eicr2s\"], [\"Kailey_ra\", \"eid867\"], [\"DrBamMan\", \"eideu8\"], [\"Xander142001\", \"eidj2h\"], [\"VexOffender69420\", \"eidj74\"], [\"ParalyzedBeauty\", \"eidveb\"], [\"jackman48L\", \"eidxmv\"], [\"TUr805L4Y3R\", \"eie7dm\"], [\"wiithewalrus\", \"eieohb\"], [\"NeoDivergent\", \"eifc1w\"], [\"elsexyboygian\", \"eiffnd\"], [\"taquitoxz86\", \"eifled\"], [\"lukedamemester\", \"eifs0g\"], [\"yoless28\", \"eig6t0\"], [\"Raxdamighty\", \"eiggj2\"], [\"Moldbourne\", \"eigw36\"], [\"yehaw23\", \"eih6yy\"], [\"PuppyDudeLol\", \"eihekx\"], [\"TheRealTTN\", \"eihfdw\"], [\"VMini91\", \"eihhzo\"], [\"Kmack_00\", \"eii2zm\"], [\"Vigil32\", \"eiis25\"], [\"J8NSYY\", \"eiivak\"], [\"ThatBluesBS\", \"eiizrv\"], [\"the-confused-gamer\", \"eijmp1\"], [\"BT-3025\", \"eijpsq\"]], \"hoverlabel\": {\"namelength\": 0}, \"hovertemplate\": \"sentiment=negative<br>Date Posted=%{x}<br>Post Polarity=%{y}<br>num_comments=%{marker.size}<br>author=%{customdata[0]}<br>id=%{customdata[1]}\", \"legendgroup\": \"sentiment=negative\", \"marker\": {\"color\": \"violet\", \"size\": [5, 2, 4, 8, 4, 1, 6, 5, 16, 3, 1, 4, 3, 7, 8, 2, 6, 5, 4, 9, 8, 4, 2, 4, 6, 4, 4, 5, 3, 11, 1, 4, 1, 3, 8, 7, 2, 6, 3, 3, 5, 14, 6, 3, 12, 8, 0, 1, 2, 2, 0, 0, 10, 1, 7, 0, 4, 4], \"sizemode\": \"area\", \"sizeref\": 0.0575, \"symbol\": \"circle\"}, \"mode\": \"markers\", \"name\": \"sentiment=negative\", \"showlegend\": true, \"type\": \"scatter\", \"x\": [\"2019-12-31T16:54:13\", \"2019-12-31T17:15:15\", \"2019-12-31T17:20:42\", \"2019-12-31T17:23:54\", \"2019-12-31T17:26:41\", \"2019-12-31T17:50:46\", \"2019-12-31T18:00:36\", \"2019-12-31T18:15:31\", \"2019-12-31T18:39:59\", \"2019-12-31T19:11:46\", \"2019-12-31T20:33:36\", \"2019-12-31T20:38:08\", \"2019-12-31T20:48:42\", \"2019-12-31T20:57:01\", \"2019-12-31T21:04:11\", \"2019-12-31T21:05:23\", \"2019-12-31T21:47:58\", \"2019-12-31T22:12:10\", \"2019-12-31T22:56:27\", \"2019-12-31T23:24:04\", \"2019-12-31T23:53:38\", \"2020-01-01T00:00:17\", \"2020-01-01T00:01:14\", \"2020-01-01T00:04:40\", \"2020-01-01T00:17:04\", \"2020-01-01T01:09:29\", \"2020-01-01T01:13:19\", \"2020-01-01T01:16:12\", \"2020-01-01T01:19:38\", \"2020-01-01T01:26:47\", \"2020-01-01T02:06:25\", \"2020-01-01T02:28:20\", \"2020-01-01T02:31:33\", \"2020-01-01T03:17:49\", \"2020-01-01T03:35:59\", \"2020-01-01T03:47:36\", \"2020-01-01T03:48:00\", \"2020-01-01T04:22:17\", \"2020-01-01T04:29:03\", \"2020-01-01T04:57:39\", \"2020-01-01T05:41:24\", \"2020-01-01T06:51:58\", \"2020-01-01T07:03:11\", \"2020-01-01T07:22:27\", \"2020-01-01T07:45:26\", \"2020-01-01T08:36:46\", \"2020-01-01T09:13:21\", \"2020-01-01T10:12:19\", \"2020-01-01T10:55:41\", \"2020-01-01T11:24:16\", \"2020-01-01T11:27:30\", \"2020-01-01T11:37:41\", \"2020-01-01T12:57:00\", \"2020-01-01T14:19:56\", \"2020-01-01T14:29:28\", \"2020-01-01T14:42:37\", \"2020-01-01T15:44:25\", \"2020-01-01T15:52:22\"], \"xaxis\": \"x\", \"y\": [-0.14285714285714285, 0.0, 0.0, -0.08333333333333333, 0.0, -0.3499999999999999, 0.0, 0.0, -0.06979166666666668, 0.0, -0.011111111111111108, -0.2, -0.4291666666666667, 0.0, -0.07500000000000001, 0.0, -0.04, 0.0, -0.016326530612244903, 0.0, -0.05833333333333335, 0.0, -0.024999999999999994, -0.6666666666666666, -0.65, 0.0, 0.0, 0.0, 0.0, 0.0, -0.01957813428401664, -0.07045454545454546, -0.075, 0.0, -0.125, -0.15, 0.0, 0.0, -0.2916666666666667, -0.2722222222222222, -0.10351239669421487, 0.0, -0.022380952380952397, -0.125, -0.025139146567718016, -0.4125, -0.011904761904761904, -0.16666666666666666, -0.10000000000000003, -0.1, 0.0, 0.0, -0.16666666666666666, 0.0, 0.0, -0.025000000000000022, -0.55, 0.0], \"yaxis\": \"y\"}, {\"alignmentgroup\": \"True\", \"bingroup\": \"x\", \"hoverlabel\": {\"namelength\": 0}, \"hovertemplate\": \"sentiment=negative<br>Date Posted=%{x}<br>count=%{y}\", \"legendgroup\": \"sentiment=negative\", \"marker\": {\"color\": \"violet\"}, \"name\": \"sentiment=negative\", \"offsetgroup\": \"sentiment=negative\", \"opacity\": 0.5, \"showlegend\": false, \"type\": \"histogram\", \"x\": [\"2019-12-31T16:54:13\", \"2019-12-31T17:15:15\", \"2019-12-31T17:20:42\", \"2019-12-31T17:23:54\", \"2019-12-31T17:26:41\", \"2019-12-31T17:50:46\", \"2019-12-31T18:00:36\", \"2019-12-31T18:15:31\", \"2019-12-31T18:39:59\", \"2019-12-31T19:11:46\", \"2019-12-31T20:33:36\", \"2019-12-31T20:38:08\", \"2019-12-31T20:48:42\", \"2019-12-31T20:57:01\", \"2019-12-31T21:04:11\", \"2019-12-31T21:05:23\", \"2019-12-31T21:47:58\", \"2019-12-31T22:12:10\", \"2019-12-31T22:56:27\", \"2019-12-31T23:24:04\", \"2019-12-31T23:53:38\", \"2020-01-01T00:00:17\", \"2020-01-01T00:01:14\", \"2020-01-01T00:04:40\", \"2020-01-01T00:17:04\", \"2020-01-01T01:09:29\", \"2020-01-01T01:13:19\", \"2020-01-01T01:16:12\", \"2020-01-01T01:19:38\", \"2020-01-01T01:26:47\", \"2020-01-01T02:06:25\", \"2020-01-01T02:28:20\", \"2020-01-01T02:31:33\", \"2020-01-01T03:17:49\", \"2020-01-01T03:35:59\", \"2020-01-01T03:47:36\", \"2020-01-01T03:48:00\", \"2020-01-01T04:22:17\", \"2020-01-01T04:29:03\", \"2020-01-01T04:57:39\", \"2020-01-01T05:41:24\", \"2020-01-01T06:51:58\", \"2020-01-01T07:03:11\", \"2020-01-01T07:22:27\", \"2020-01-01T07:45:26\", \"2020-01-01T08:36:46\", \"2020-01-01T09:13:21\", \"2020-01-01T10:12:19\", \"2020-01-01T10:55:41\", \"2020-01-01T11:24:16\", \"2020-01-01T11:27:30\", \"2020-01-01T11:37:41\", \"2020-01-01T12:57:00\", \"2020-01-01T14:19:56\", \"2020-01-01T14:29:28\", \"2020-01-01T14:42:37\", \"2020-01-01T15:44:25\", \"2020-01-01T15:52:22\"], \"xaxis\": \"x2\", \"yaxis\": \"y2\"}, {\"customdata\": [[\"J2xACE\", \"ei5fwd\"], [\"NegaChrome\", \"ei5jl8\"], [\"newaccount6969420\", \"ei5t6w\"], [\"graspee\", \"ei5ymc\"], [\"Howard_Goldstien\", \"ei5zdo\"], [\"GrantFireType\", \"ei612f\"], [\"MochiBakaa\", \"ei6m7a\"], [\"Strong_Mode\", \"ei6mtb\"], [\"EGG_LOAF\", \"ei6o37\"], [\"KrisDahl116\", \"ei6uts\"], [\"J8NSYY\", \"ei6vqs\"], [\"FungusAmongus007\", \"ei7fr8\"], [\"SoyboySauce\", \"ei7id2\"], [\"Donrage8\", \"ei7key\"], [\"Wahmanz3\", \"ei7nnz\"], [\"Dlucks83\", \"ei8buj\"], [\"Falkr__th\", \"ei8io8\"], [\"JTyler2468\", \"ei8jk5\"], [\"xsummertime77\", \"ei8nj0\"], [\"Animalesco\", \"ei8rdv\"], [\"Cornerbog\", \"ei92yv\"], [\"TheMany-FacedGod\", \"ei94ii\"], [\"deathwatcher21\", \"ei965g\"], [\"Vailix750\", \"ei96v2\"], [\"veryhiddentalent\", \"ei9o7i\"], [\"deathwatcher21\", \"ei9psy\"], [\"PCgamer7777\", \"ei9r22\"], [\"NAMEANNONYMOUS\", \"eia4ok\"], [\"robertnk05\", \"eia84r\"], [\"Jacksonhoward0\", \"eia8y8\"], [\"SheWantsPingu\", \"eiaa9k\"], [\"reddittidder1234321\", \"eiahmm\"], [\"WabbitCZEN\", \"eiaigl\"], [\"Stayfrosty157\", \"eianls\"], [\"J2xACE\", \"eianwy\"], [\"dstary\", \"eib0oi\"], [\"RickV6\", \"eibb1k\"], [\"Uncreative_name1385\", \"eibyqg\"], [\"chrisasian45\", \"eic4d6\"], [\"deathwatcher21\", \"eic51v\"], [\"techmatrixusa\", \"eicjb0\"], [\"Graves_Cigar_\", \"eiclf0\"], [\"Frenchonion546\", \"eicoqw\"], [\"brandyLove75\", \"eicqh4\"], [\"Luriction\", \"eicqlm\"], [\"Xx_k4ng4r00_xX\", \"eid683\"], [\"Cheetos4You\", \"eid7f8\"], [\"ErcDoogles\", \"eidab2\"], [\"BigIndo95\", \"eidh6t\"], [\"teezway\", \"eidnoy\"], [\"wasteland_superhero\", \"eidp2g\"], [\"DredgenDisciple\", \"eidw61\"], [\"SkyGuyMcFly\", \"eieiwg\"], [\"Leonatius\", \"eielai\"], [\"xburningwaterx0\", \"eielr2\"], [\"Critdentials\", \"eif7jp\"], [\"ScottiScoot\", \"eifah3\"], [\"onexyzero\", \"eifb49\"], [\"MickelDaMango\", \"eifbr3\"], [\"Zeoxhostil\", \"eifcpb\"], [\"TruBanana\", \"eiffua\"], [\"BurntPopcorn_OW\", \"eifg1c\"], [\"el_cartos\", \"eifj7q\"], [\"voDox17\", \"eifmdh\"], [\"Memeaholic825\", \"eifw95\"], [\"el_cartos\", \"eifx0q\"], [\"InfiniteBiohazards\", \"eigtjl\"], [\"TheHungWolf\", \"eigtyk\"], [\"-Setro-\", \"eigyxq\"], [\"JustWil5\", \"eih4r9\"], [\"lesgedit\", \"eihgob\"], [\"Patrick_DSouza1\", \"eihp1r\"], [\"Naver789\", \"eihp83\"], [\"KeyanReid\", \"eihqip\"], [\"thingsandstuffsguy\", \"eihtok\"], [\"Brainhole87\", \"eihyim\"], [\"Wolf_Ironic\", \"eiiau7\"], [\"k4rbine\", \"eiicbd\"], [\"Fear_Oryx\", \"eiiqf9\"], [\"coles_man_mcjones\", \"eiisiu\"], [\"RealExuberantRaptor\", \"eijsn2\"], [\"xXDaZealousXx\", \"eik3ug\"], [\"UrgentQuestionMan\", \"eik7va\"], [\"CLAPPYBIRD1950\", \"eik8zn\"]], \"hoverlabel\": {\"namelength\": 0}, \"hovertemplate\": \"sentiment=positive<br>Date Posted=%{x}<br>Post Polarity=%{y}<br>num_comments=%{marker.size}<br>author=%{customdata[0]}<br>id=%{customdata[1]}\", \"legendgroup\": \"sentiment=positive\", \"marker\": {\"color\": \"lightslategrey\", \"size\": [3, 3, 5, 6, 5, 1, 7, 2, 0, 2, 4, 9, 6, 2, 22, 3, 1, 1, 6, 2, 5, 3, 4, 7, 23, 10, 3, 15, 7, 12, 2, 2, 8, 3, 9, 3, 13, 5, 5, 5, 0, 0, 5, 12, 4, 1, 16, 7, 1, 2, 16, 5, 5, 12, 7, 4, 7, 2, 0, 6, 3, 1, 4, 8, 11, 5, 7, 3, 20, 2, 4, 8, 1, 6, 0, 6, 4, 2, 9, 14, 3, 4, 2, 1], \"sizemode\": \"area\", \"sizeref\": 0.0575, \"symbol\": \"circle\"}, \"mode\": \"markers\", \"name\": \"sentiment=positive\", \"showlegend\": true, \"type\": \"scatter\", \"x\": [\"2019-12-31T16:57:15\", \"2019-12-31T17:04:24\", \"2019-12-31T17:23:12\", \"2019-12-31T17:33:35\", \"2019-12-31T17:35:06\", \"2019-12-31T17:38:24\", \"2019-12-31T18:20:24\", \"2019-12-31T18:21:37\", \"2019-12-31T18:24:02\", \"2019-12-31T18:37:29\", \"2019-12-31T18:39:27\", \"2019-12-31T19:19:12\", \"2019-12-31T19:24:16\", \"2019-12-31T19:28:31\", \"2019-12-31T19:35:03\", \"2019-12-31T20:26:05\", \"2019-12-31T20:40:37\", \"2019-12-31T20:42:25\", \"2019-12-31T20:51:16\", \"2019-12-31T20:59:51\", \"2019-12-31T21:25:24\", \"2019-12-31T21:28:51\", \"2019-12-31T21:32:32\", \"2019-12-31T21:34:11\", \"2019-12-31T22:13:08\", \"2019-12-31T22:16:33\", \"2019-12-31T22:19:27\", \"2019-12-31T22:49:53\", \"2019-12-31T22:57:49\", \"2019-12-31T22:59:47\", \"2019-12-31T23:02:36\", \"2019-12-31T23:18:59\", \"2019-12-31T23:21:01\", \"2019-12-31T23:32:13\", \"2019-12-31T23:32:56\", \"2020-01-01T00:01:35\", \"2020-01-01T00:24:08\", \"2020-01-01T01:19:18\", \"2020-01-01T01:32:57\", \"2020-01-01T01:34:41\", \"2020-01-01T02:11:13\", \"2020-01-01T02:16:43\", \"2020-01-01T02:25:17\", \"2020-01-01T02:29:52\", \"2020-01-01T02:30:13\", \"2020-01-01T03:12:18\", \"2020-01-01T03:15:43\", \"2020-01-01T03:23:29\", \"2020-01-01T03:42:20\", \"2020-01-01T04:00:48\", \"2020-01-01T04:04:22\", \"2020-01-01T04:24:36\", \"2020-01-01T05:25:50\", \"2020-01-01T05:32:26\", \"2020-01-01T05:33:50\", \"2020-01-01T06:37:56\", \"2020-01-01T06:47:00\", \"2020-01-01T06:49:08\", \"2020-01-01T06:51:09\", \"2020-01-01T06:53:58\", \"2020-01-01T07:03:52\", \"2020-01-01T07:04:22\", \"2020-01-01T07:14:48\", \"2020-01-01T07:25:53\", \"2020-01-01T08:00:09\", \"2020-01-01T08:02:27\", \"2020-01-01T10:03:31\", \"2020-01-01T10:04:46\", \"2020-01-01T10:23:36\", \"2020-01-01T10:46:39\", \"2020-01-01T11:32:30\", \"2020-01-01T12:04:44\", \"2020-01-01T12:05:33\", \"2020-01-01T12:10:18\", \"2020-01-01T12:22:08\", \"2020-01-01T12:40:46\", \"2020-01-01T13:24:11\", \"2020-01-01T13:29:23\", \"2020-01-01T14:14:50\", \"2020-01-01T14:21:19\", \"2020-01-01T15:59:14\", \"2020-01-01T16:25:55\", \"2020-01-01T16:35:18\", \"2020-01-01T16:37:57\"], \"xaxis\": \"x\", \"y\": [0.12499999999999999, 0.1642857142857143, 0.1732142857142857, 0.03912337662337661, 0.04285714285714285, 0.03125, 0.36666666666666664, 0.18293650793650795, 0.4840909090909091, 0.10495129870129871, 1.0, 0.19999999999999998, 0.012499999999999997, 0.3, 0.2, 0.23958333333333334, 0.075, 0.1199284511784512, 0.09722222222222222, 0.08367346938775509, 0.3625, 0.030555555555555555, 0.7, 0.41818181818181815, 0.59375, 0.21428571428571427, 1.0, 0.2545454545454545, 0.4, 0.020000000000000018, 0.5, 0.3215277777777778, 0.03333333333333333, 0.5, 0.19090909090909094, 0.2, 0.04545454545454545, 0.5555555555555555, 0.022222222222222216, 0.39298701298701294, 0.2909090909090909, 1.0, 0.35, 0.26666666666666666, 0.4166666666666667, 0.027499999999999997, 0.012351190476190488, 0.02619047619047619, 0.05666666666666664, 0.38, 0.19545454545454544, 0.25, 0.18333333333333332, 0.1166666666666667, 0.09545454545454546, 0.19, 0.009407096171802052, 0.3, 0.033333333333333326, 0.3, 0.040624999999999994, 0.28954545454545455, 0.28939393939393937, 0.11253656253656251, 0.2672727272727272, 0.3466666666666666, 0.08472222222222221, 0.05842464826839827, 0.010049019607843143, 0.061136363636363635, 0.22857142857142856, 0.75, 0.3125, 0.11249999999999999, 0.07050092764378478, 0.28787878787878785, 0.18293650793650792, 0.15204545454545454, 0.2278409090909091, 0.1, 0.3333333333333333, 0.3625, 0.22500000000000003, 0.16818181818181818], \"yaxis\": \"y\"}, {\"alignmentgroup\": \"True\", \"bingroup\": \"x\", \"hoverlabel\": {\"namelength\": 0}, \"hovertemplate\": \"sentiment=positive<br>Date Posted=%{x}<br>count=%{y}\", \"legendgroup\": \"sentiment=positive\", \"marker\": {\"color\": \"lightslategrey\"}, \"name\": \"sentiment=positive\", \"offsetgroup\": \"sentiment=positive\", \"opacity\": 0.5, \"showlegend\": false, \"type\": \"histogram\", \"x\": [\"2019-12-31T16:57:15\", \"2019-12-31T17:04:24\", \"2019-12-31T17:23:12\", \"2019-12-31T17:33:35\", \"2019-12-31T17:35:06\", \"2019-12-31T17:38:24\", \"2019-12-31T18:20:24\", \"2019-12-31T18:21:37\", \"2019-12-31T18:24:02\", \"2019-12-31T18:37:29\", \"2019-12-31T18:39:27\", \"2019-12-31T19:19:12\", \"2019-12-31T19:24:16\", \"2019-12-31T19:28:31\", \"2019-12-31T19:35:03\", \"2019-12-31T20:26:05\", \"2019-12-31T20:40:37\", \"2019-12-31T20:42:25\", \"2019-12-31T20:51:16\", \"2019-12-31T20:59:51\", \"2019-12-31T21:25:24\", \"2019-12-31T21:28:51\", \"2019-12-31T21:32:32\", \"2019-12-31T21:34:11\", \"2019-12-31T22:13:08\", \"2019-12-31T22:16:33\", \"2019-12-31T22:19:27\", \"2019-12-31T22:49:53\", \"2019-12-31T22:57:49\", \"2019-12-31T22:59:47\", \"2019-12-31T23:02:36\", \"2019-12-31T23:18:59\", \"2019-12-31T23:21:01\", \"2019-12-31T23:32:13\", \"2019-12-31T23:32:56\", \"2020-01-01T00:01:35\", \"2020-01-01T00:24:08\", \"2020-01-01T01:19:18\", \"2020-01-01T01:32:57\", \"2020-01-01T01:34:41\", \"2020-01-01T02:11:13\", \"2020-01-01T02:16:43\", \"2020-01-01T02:25:17\", \"2020-01-01T02:29:52\", \"2020-01-01T02:30:13\", \"2020-01-01T03:12:18\", \"2020-01-01T03:15:43\", \"2020-01-01T03:23:29\", \"2020-01-01T03:42:20\", \"2020-01-01T04:00:48\", \"2020-01-01T04:04:22\", \"2020-01-01T04:24:36\", \"2020-01-01T05:25:50\", \"2020-01-01T05:32:26\", \"2020-01-01T05:33:50\", \"2020-01-01T06:37:56\", \"2020-01-01T06:47:00\", \"2020-01-01T06:49:08\", \"2020-01-01T06:51:09\", \"2020-01-01T06:53:58\", \"2020-01-01T07:03:52\", \"2020-01-01T07:04:22\", \"2020-01-01T07:14:48\", \"2020-01-01T07:25:53\", \"2020-01-01T08:00:09\", \"2020-01-01T08:02:27\", \"2020-01-01T10:03:31\", \"2020-01-01T10:04:46\", \"2020-01-01T10:23:36\", \"2020-01-01T10:46:39\", \"2020-01-01T11:32:30\", \"2020-01-01T12:04:44\", \"2020-01-01T12:05:33\", \"2020-01-01T12:10:18\", \"2020-01-01T12:22:08\", \"2020-01-01T12:40:46\", \"2020-01-01T13:24:11\", \"2020-01-01T13:29:23\", \"2020-01-01T14:14:50\", \"2020-01-01T14:21:19\", \"2020-01-01T15:59:14\", \"2020-01-01T16:25:55\", \"2020-01-01T16:35:18\", \"2020-01-01T16:37:57\"], \"xaxis\": \"x2\", \"yaxis\": \"y2\"}],\n",
       "                        {\"barmode\": \"overlay\", \"legend\": {\"itemsizing\": \"constant\", \"tracegroupgap\": 0}, \"template\": {\"data\": {\"bar\": [{\"error_x\": {\"color\": \"#2a3f5f\"}, \"error_y\": {\"color\": \"#2a3f5f\"}, \"marker\": {\"line\": {\"color\": \"#E5ECF6\", \"width\": 0.5}}, \"type\": \"bar\"}], \"barpolar\": [{\"marker\": {\"line\": {\"color\": \"#E5ECF6\", \"width\": 0.5}}, \"type\": \"barpolar\"}], \"carpet\": [{\"aaxis\": {\"endlinecolor\": \"#2a3f5f\", \"gridcolor\": \"white\", \"linecolor\": \"white\", \"minorgridcolor\": \"white\", \"startlinecolor\": \"#2a3f5f\"}, \"baxis\": {\"endlinecolor\": \"#2a3f5f\", \"gridcolor\": \"white\", \"linecolor\": \"white\", \"minorgridcolor\": \"white\", \"startlinecolor\": \"#2a3f5f\"}, \"type\": \"carpet\"}], \"choropleth\": [{\"colorbar\": {\"outlinewidth\": 0, \"ticks\": \"\"}, \"type\": \"choropleth\"}], \"contour\": [{\"colorbar\": {\"outlinewidth\": 0, \"ticks\": \"\"}, \"colorscale\": [[0.0, \"#0d0887\"], [0.1111111111111111, \"#46039f\"], [0.2222222222222222, \"#7201a8\"], [0.3333333333333333, \"#9c179e\"], [0.4444444444444444, \"#bd3786\"], [0.5555555555555556, \"#d8576b\"], [0.6666666666666666, \"#ed7953\"], [0.7777777777777778, \"#fb9f3a\"], [0.8888888888888888, \"#fdca26\"], [1.0, \"#f0f921\"]], \"type\": \"contour\"}], \"contourcarpet\": [{\"colorbar\": {\"outlinewidth\": 0, \"ticks\": \"\"}, \"type\": \"contourcarpet\"}], \"heatmap\": [{\"colorbar\": {\"outlinewidth\": 0, \"ticks\": \"\"}, \"colorscale\": [[0.0, \"#0d0887\"], [0.1111111111111111, \"#46039f\"], [0.2222222222222222, \"#7201a8\"], [0.3333333333333333, \"#9c179e\"], [0.4444444444444444, \"#bd3786\"], [0.5555555555555556, \"#d8576b\"], [0.6666666666666666, \"#ed7953\"], [0.7777777777777778, \"#fb9f3a\"], [0.8888888888888888, \"#fdca26\"], [1.0, \"#f0f921\"]], \"type\": \"heatmap\"}], \"heatmapgl\": [{\"colorbar\": {\"outlinewidth\": 0, \"ticks\": \"\"}, \"colorscale\": [[0.0, \"#0d0887\"], [0.1111111111111111, \"#46039f\"], [0.2222222222222222, \"#7201a8\"], [0.3333333333333333, \"#9c179e\"], [0.4444444444444444, \"#bd3786\"], [0.5555555555555556, \"#d8576b\"], [0.6666666666666666, \"#ed7953\"], [0.7777777777777778, \"#fb9f3a\"], [0.8888888888888888, \"#fdca26\"], [1.0, \"#f0f921\"]], \"type\": \"heatmapgl\"}], \"histogram\": [{\"marker\": {\"colorbar\": {\"outlinewidth\": 0, \"ticks\": \"\"}}, \"type\": \"histogram\"}], \"histogram2d\": [{\"colorbar\": {\"outlinewidth\": 0, \"ticks\": \"\"}, \"colorscale\": [[0.0, \"#0d0887\"], [0.1111111111111111, \"#46039f\"], [0.2222222222222222, \"#7201a8\"], [0.3333333333333333, \"#9c179e\"], [0.4444444444444444, \"#bd3786\"], [0.5555555555555556, \"#d8576b\"], [0.6666666666666666, \"#ed7953\"], [0.7777777777777778, \"#fb9f3a\"], [0.8888888888888888, \"#fdca26\"], [1.0, \"#f0f921\"]], \"type\": \"histogram2d\"}], \"histogram2dcontour\": [{\"colorbar\": {\"outlinewidth\": 0, \"ticks\": \"\"}, \"colorscale\": [[0.0, \"#0d0887\"], [0.1111111111111111, \"#46039f\"], [0.2222222222222222, \"#7201a8\"], [0.3333333333333333, \"#9c179e\"], [0.4444444444444444, \"#bd3786\"], [0.5555555555555556, \"#d8576b\"], [0.6666666666666666, \"#ed7953\"], [0.7777777777777778, \"#fb9f3a\"], [0.8888888888888888, \"#fdca26\"], [1.0, \"#f0f921\"]], \"type\": \"histogram2dcontour\"}], \"mesh3d\": [{\"colorbar\": {\"outlinewidth\": 0, \"ticks\": \"\"}, \"type\": \"mesh3d\"}], \"parcoords\": [{\"line\": {\"colorbar\": {\"outlinewidth\": 0, \"ticks\": \"\"}}, \"type\": \"parcoords\"}], \"pie\": [{\"automargin\": true, \"type\": \"pie\"}], \"scatter\": [{\"marker\": {\"colorbar\": {\"outlinewidth\": 0, \"ticks\": \"\"}}, \"type\": \"scatter\"}], \"scatter3d\": [{\"line\": {\"colorbar\": {\"outlinewidth\": 0, \"ticks\": \"\"}}, \"marker\": {\"colorbar\": {\"outlinewidth\": 0, \"ticks\": \"\"}}, \"type\": \"scatter3d\"}], \"scattercarpet\": [{\"marker\": {\"colorbar\": {\"outlinewidth\": 0, \"ticks\": \"\"}}, \"type\": \"scattercarpet\"}], \"scattergeo\": [{\"marker\": {\"colorbar\": {\"outlinewidth\": 0, \"ticks\": \"\"}}, \"type\": \"scattergeo\"}], \"scattergl\": [{\"marker\": {\"colorbar\": {\"outlinewidth\": 0, \"ticks\": \"\"}}, \"type\": \"scattergl\"}], \"scattermapbox\": [{\"marker\": {\"colorbar\": {\"outlinewidth\": 0, \"ticks\": \"\"}}, \"type\": \"scattermapbox\"}], \"scatterpolar\": [{\"marker\": {\"colorbar\": {\"outlinewidth\": 0, \"ticks\": \"\"}}, \"type\": \"scatterpolar\"}], \"scatterpolargl\": [{\"marker\": {\"colorbar\": {\"outlinewidth\": 0, \"ticks\": \"\"}}, \"type\": \"scatterpolargl\"}], \"scatterternary\": [{\"marker\": {\"colorbar\": {\"outlinewidth\": 0, \"ticks\": \"\"}}, \"type\": \"scatterternary\"}], \"surface\": [{\"colorbar\": {\"outlinewidth\": 0, \"ticks\": \"\"}, \"colorscale\": [[0.0, \"#0d0887\"], [0.1111111111111111, \"#46039f\"], [0.2222222222222222, \"#7201a8\"], [0.3333333333333333, \"#9c179e\"], [0.4444444444444444, \"#bd3786\"], [0.5555555555555556, \"#d8576b\"], [0.6666666666666666, \"#ed7953\"], [0.7777777777777778, \"#fb9f3a\"], [0.8888888888888888, \"#fdca26\"], [1.0, \"#f0f921\"]], \"type\": \"surface\"}], \"table\": [{\"cells\": {\"fill\": {\"color\": \"#EBF0F8\"}, \"line\": {\"color\": \"white\"}}, \"header\": {\"fill\": {\"color\": \"#C8D4E3\"}, \"line\": {\"color\": \"white\"}}, \"type\": \"table\"}]}, \"layout\": {\"annotationdefaults\": {\"arrowcolor\": \"#2a3f5f\", \"arrowhead\": 0, \"arrowwidth\": 1}, \"coloraxis\": {\"colorbar\": {\"outlinewidth\": 0, \"ticks\": \"\"}}, \"colorscale\": {\"diverging\": [[0, \"#8e0152\"], [0.1, \"#c51b7d\"], [0.2, \"#de77ae\"], [0.3, \"#f1b6da\"], [0.4, \"#fde0ef\"], [0.5, \"#f7f7f7\"], [0.6, \"#e6f5d0\"], [0.7, \"#b8e186\"], [0.8, \"#7fbc41\"], [0.9, \"#4d9221\"], [1, \"#276419\"]], \"sequential\": [[0.0, \"#0d0887\"], [0.1111111111111111, \"#46039f\"], [0.2222222222222222, \"#7201a8\"], [0.3333333333333333, \"#9c179e\"], [0.4444444444444444, \"#bd3786\"], [0.5555555555555556, \"#d8576b\"], [0.6666666666666666, \"#ed7953\"], [0.7777777777777778, \"#fb9f3a\"], [0.8888888888888888, \"#fdca26\"], [1.0, \"#f0f921\"]], \"sequentialminus\": [[0.0, \"#0d0887\"], [0.1111111111111111, \"#46039f\"], [0.2222222222222222, \"#7201a8\"], [0.3333333333333333, \"#9c179e\"], [0.4444444444444444, \"#bd3786\"], [0.5555555555555556, \"#d8576b\"], [0.6666666666666666, \"#ed7953\"], [0.7777777777777778, \"#fb9f3a\"], [0.8888888888888888, \"#fdca26\"], [1.0, \"#f0f921\"]]}, \"colorway\": [\"#636efa\", \"#EF553B\", \"#00cc96\", \"#ab63fa\", \"#FFA15A\", \"#19d3f3\", \"#FF6692\", \"#B6E880\", \"#FF97FF\", \"#FECB52\"], \"font\": {\"color\": \"#2a3f5f\"}, \"geo\": {\"bgcolor\": \"white\", \"lakecolor\": \"white\", \"landcolor\": \"#E5ECF6\", \"showlakes\": true, \"showland\": true, \"subunitcolor\": \"white\"}, \"hoverlabel\": {\"align\": \"left\"}, \"hovermode\": \"closest\", \"mapbox\": {\"style\": \"light\"}, \"paper_bgcolor\": \"white\", \"plot_bgcolor\": \"#E5ECF6\", \"polar\": {\"angularaxis\": {\"gridcolor\": \"white\", \"linecolor\": \"white\", \"ticks\": \"\"}, \"bgcolor\": \"#E5ECF6\", \"radialaxis\": {\"gridcolor\": \"white\", \"linecolor\": \"white\", \"ticks\": \"\"}}, \"scene\": {\"xaxis\": {\"backgroundcolor\": \"#E5ECF6\", \"gridcolor\": \"white\", \"gridwidth\": 2, \"linecolor\": \"white\", \"showbackground\": true, \"ticks\": \"\", \"zerolinecolor\": \"white\"}, \"yaxis\": {\"backgroundcolor\": \"#E5ECF6\", \"gridcolor\": \"white\", \"gridwidth\": 2, \"linecolor\": \"white\", \"showbackground\": true, \"ticks\": \"\", \"zerolinecolor\": \"white\"}, \"zaxis\": {\"backgroundcolor\": \"#E5ECF6\", \"gridcolor\": \"white\", \"gridwidth\": 2, \"linecolor\": \"white\", \"showbackground\": true, \"ticks\": \"\", \"zerolinecolor\": \"white\"}}, \"shapedefaults\": {\"line\": {\"color\": \"#2a3f5f\"}}, \"ternary\": {\"aaxis\": {\"gridcolor\": \"white\", \"linecolor\": \"white\", \"ticks\": \"\"}, \"baxis\": {\"gridcolor\": \"white\", \"linecolor\": \"white\", \"ticks\": \"\"}, \"bgcolor\": \"#E5ECF6\", \"caxis\": {\"gridcolor\": \"white\", \"linecolor\": \"white\", \"ticks\": \"\"}}, \"title\": {\"x\": 0.05}, \"xaxis\": {\"automargin\": true, \"gridcolor\": \"white\", \"linecolor\": \"white\", \"ticks\": \"\", \"title\": {\"standoff\": 15}, \"zerolinecolor\": \"white\", \"zerolinewidth\": 2}, \"yaxis\": {\"automargin\": true, \"gridcolor\": \"white\", \"linecolor\": \"white\", \"ticks\": \"\", \"title\": {\"standoff\": 15}, \"zerolinecolor\": \"white\", \"zerolinewidth\": 2}}}, \"title\": {\"text\": \"Sentiment analysis of r/destiny2 posts from previous 24 hours\"}, \"xaxis\": {\"anchor\": \"y\", \"domain\": [0.0, 1.0], \"title\": {\"text\": \"Date Posted\"}}, \"xaxis2\": {\"anchor\": \"y2\", \"domain\": [0.0, 1.0], \"matches\": \"x\", \"showgrid\": true, \"showticklabels\": false}, \"yaxis\": {\"anchor\": \"x\", \"domain\": [0.0, 0.7326], \"title\": {\"text\": \"Post Polarity\"}}, \"yaxis2\": {\"anchor\": \"x2\", \"domain\": [0.7426, 1.0], \"matches\": \"y2\", \"showgrid\": true, \"showline\": false, \"showticklabels\": false, \"ticks\": \"\"}},\n",
       "                        {\"responsive\": true}\n",
       "                    ).then(function(){\n",
       "                            \n",
       "var gd = document.getElementById('20b3b961-36e6-4358-ba65-fcd0e9b73e48');\n",
       "var x = new MutationObserver(function (mutations, observer) {{\n",
       "        var display = window.getComputedStyle(gd).display;\n",
       "        if (!display || display === 'none') {{\n",
       "            console.log([gd, 'removed!']);\n",
       "            Plotly.purge(gd);\n",
       "            observer.disconnect();\n",
       "        }}\n",
       "}});\n",
       "\n",
       "// Listen for the removal of the full notebook cells\n",
       "var notebookContainer = gd.closest('#notebook-container');\n",
       "if (notebookContainer) {{\n",
       "    x.observe(notebookContainer, {childList: true});\n",
       "}}\n",
       "\n",
       "// Listen for the clearing of the current output cell\n",
       "var outputEl = gd.closest('.output');\n",
       "if (outputEl) {{\n",
       "    x.observe(outputEl, {childList: true});\n",
       "}}\n",
       "\n",
       "                        })\n",
       "                };\n",
       "                });\n",
       "            </script>\n",
       "        </div>"
      ]
     },
     "metadata": {},
     "output_type": "display_data"
    },
    {
     "data": {
      "application/vnd.plotly.v1+json": {
       "config": {
        "plotlyServerURL": "https://plot.ly"
       },
       "data": [
        {
         "customdata": [
          [
           "destinythegame",
           "nightskiesdark",
           "https://www.reddit.com/r/DestinyTheGame/comments/ei5czv/erianas_vow_catalyst_quest_bug/",
           "ei5czv"
          ],
          [
           "destinythegame",
           "rezmeihaveghorn",
           "https://www.reddit.com/r/DestinyTheGame/comments/ei5e4p/linking_class_ability_cool_down_to_mobility/",
           "ei5e4p"
          ],
          [
           "destinythegame",
           "DTG_Bot",
           "https://www.reddit.com/r/DestinyTheGame/comments/ei5j8j/d2_weekly_reset_thread_20191231/",
           "ei5j8j"
          ],
          [
           "destinythegame",
           "DHamlinMusic",
           "https://www.reddit.com/r/DestinyTheGame/comments/ei5jt0/trostland_as_a_crucible_map/",
           "ei5jt0"
          ],
          [
           "destinythegame",
           "MariosFireball",
           "https://www.reddit.com/r/DestinyTheGame/comments/ei5k07/master_nightmare_hunt_light_level/",
           "ei5k07"
          ],
          [
           "destinythegame",
           "WyattGquiet",
           "https://www.reddit.com/r/DestinyTheGame/comments/ei5k11/lunas_quest/",
           "ei5k11"
          ],
          [
           "destinythegame",
           "Onedrid",
           "https://www.reddit.com/r/DestinyTheGame/comments/ei5koe/what_is_up_with_the_insane_tracking_on_supers_and/",
           "ei5koe"
          ],
          [
           "destinythegame",
           "Jet_Nice_Guy",
           "https://www.reddit.com/r/DestinyTheGame/comments/ei5lpn/whether_you_wanted_it_or_not/",
           "ei5lpn"
          ],
          [
           "destinythegame",
           "ghawkguy",
           "https://www.reddit.com/r/DestinyTheGame/comments/ei5ls9/i_cant_believe_itbut_i_think_its_time_for_a_break/",
           "ei5ls9"
          ],
          [
           "destinythegame",
           "DTG_Bot",
           "https://www.reddit.com/r/DestinyTheGame/comments/ei5m5y/d2_daily_reset_thread_20191231/",
           "ei5m5y"
          ],
          [
           "destinythegame",
           "king5six1",
           "https://www.reddit.com/r/DestinyTheGame/comments/ei5m74/a_few_qol_changes_that_would_go_a_long_way/",
           "ei5m74"
          ],
          [
           "destinythegame",
           "DavidNexus7",
           "https://www.reddit.com/r/DestinyTheGame/comments/ei5o3i/bounties_glitch/",
           "ei5o3i"
          ],
          [
           "destinythegame",
           "LRJiren",
           "https://www.reddit.com/r/DestinyTheGame/comments/ei5ozk/can_you_still_get_leviathans_breath/",
           "ei5ozk"
          ],
          [
           "destinythegame",
           "zuggiz",
           "https://www.reddit.com/r/DestinyTheGame/comments/ei5q3o/year_one_ornaments/",
           "ei5q3o"
          ],
          [
           "destinythegame",
           "cakeyyz",
           "https://www.reddit.com/r/DestinyTheGame/comments/ei5qjj/what_if_completing_weekly_activities_increases/",
           "ei5qjj"
          ],
          [
           "destinythegame",
           "PraiseBasedDonut",
           "https://www.reddit.com/r/DestinyTheGame/comments/ei5rzw/cabagge_error_strikes_back/",
           "ei5rzw"
          ],
          [
           "destinythegame",
           "RogueTGZ",
           "https://www.reddit.com/r/DestinyTheGame/comments/ei5sp1/i_3dprinted_and_hand_painted_the_ace_of_spades/",
           "ei5sp1"
          ],
          [
           "destinythegame",
           "whiskyTango7734",
           "https://www.reddit.com/r/DestinyTheGame/comments/ei5t4p/bungie_we_need_a_few_more_glory_earnings_crucible/",
           "ei5t4p"
          ],
          [
           "destinythegame",
           "BlaqkJak",
           "https://www.reddit.com/r/DestinyTheGame/comments/ei5tc7/is_exotic_armor_locked_into_a_element_type/",
           "ei5tc7"
          ],
          [
           "destinythegame",
           "Bunnyezzz",
           "https://www.reddit.com/r/DestinyTheGame/comments/ei5v24/question_about_lord_of_wolves/",
           "ei5v24"
          ],
          [
           "destinythegame",
           "drewbud33",
           "https://www.reddit.com/r/DestinyTheGame/comments/ei5vex/future_season_theory/",
           "ei5vex"
          ],
          [
           "destinythegame",
           "NeonAttak",
           "https://www.reddit.com/r/DestinyTheGame/comments/ei5vky/let_us_buy_old_dawning_ornaments_for_bright_dust/",
           "ei5vky"
          ],
          [
           "destinythegame",
           "wacawaka",
           "https://www.reddit.com/r/DestinyTheGame/comments/ei5y0k/would_you_prefer_new_rooms_runes_and_drops_for/",
           "ei5y0k"
          ],
          [
           "destinythegame",
           "FewerColt369",
           "https://www.reddit.com/r/DestinyTheGame/comments/ei647m/recluse/",
           "ei647m"
          ],
          [
           "destinythegame",
           "ASickG0at",
           "https://www.reddit.com/r/DestinyTheGame/comments/ei64oc/just_did_the_save_saint_14_mission/",
           "ei64oc"
          ],
          [
           "destinythegame",
           "Throwaway37474839291",
           "https://www.reddit.com/r/DestinyTheGame/comments/ei650z/why_isnt_there_a_sawedoff_shotgun_exotic/",
           "ei650z"
          ],
          [
           "destinythegame",
           "Vahro",
           "https://www.reddit.com/r/DestinyTheGame/comments/ei6758/if_you_purchase_any_silver_you_cannot_unlink_your/",
           "ei6758"
          ],
          [
           "destinythegame",
           "Cookie_LP0",
           "https://www.reddit.com/r/DestinyTheGame/comments/ei67hh/bring_back_icebreaker_2020/",
           "ei67hh"
          ],
          [
           "destinythegame",
           "ThrobbingDish",
           "https://www.reddit.com/r/DestinyTheGame/comments/ei68vi/yet_another_green_with_envy_post/",
           "ei68vi"
          ],
          [
           "destinythegame",
           "Lucavellz",
           "https://www.reddit.com/r/DestinyTheGame/comments/ei69ed/rest_in_pieces/",
           "ei69ed"
          ],
          [
           "destinythegame",
           "-MANGA-",
           "https://www.reddit.com/r/DestinyTheGame/comments/ei6a71/new_guy_to_d2_so_i_was_very_surprised_i_got/",
           "ei6a71"
          ],
          [
           "destinythegame",
           "Nukesnipe",
           "https://www.reddit.com/r/DestinyTheGame/comments/ei6bth/to_that_hunter_last_night_that_threw_my_comp_match/",
           "ei6bth"
          ],
          [
           "destinythegame",
           "Brandocks",
           "https://www.reddit.com/r/DestinyTheGame/comments/ei6eke/exotic_class_items/",
           "ei6eke"
          ],
          [
           "destinythegame",
           "Desaxs",
           "https://www.reddit.com/r/DestinyTheGame/comments/ei6ers/future_dlc_with_golden_age_heavy_lore/",
           "ei6ers"
          ],
          [
           "destinythegame",
           "PhazePyre",
           "https://www.reddit.com/r/DestinyTheGame/comments/ei6ffv/i_finally_finished_my_3d_printed_thorn/",
           "ei6ffv"
          ],
          [
           "destinythegame",
           "Chung_bungus",
           "https://www.reddit.com/r/DestinyTheGame/comments/ei6fsj/the_unintended_results_from_the_changes_in/",
           "ei6fsj"
          ],
          [
           "destinythegame",
           "Titans_are_superior",
           "https://www.reddit.com/r/DestinyTheGame/comments/ei6gve/fastest_way_to_complete_obliesk_bounties/",
           "ei6gve"
          ],
          [
           "destinythegame",
           "Outstandingcucumber",
           "https://www.reddit.com/r/DestinyTheGame/comments/ei6hfh/green_with_envy_quest_still_bugged/",
           "ei6hfh"
          ],
          [
           "destinythegame",
           "jkfuzzy",
           "https://www.reddit.com/r/DestinyTheGame/comments/ei6ht2/1000_hours_in_and_still_getting_surprised/",
           "ei6ht2"
          ],
          [
           "destinythegame",
           "king-jubba",
           "https://www.reddit.com/r/DestinyTheGame/comments/ei6i8e/fantastic_destiny_guns_and_where_to_find_them/",
           "ei6i8e"
          ],
          [
           "destinythegame",
           "Dragamaroon",
           "https://www.reddit.com/r/DestinyTheGame/comments/ei6ib2/i_wish_there_was_a_button_i_could_press_to_save/",
           "ei6ib2"
          ],
          [
           "destinythegame",
           "xSilverBruh9x",
           "https://www.reddit.com/r/DestinyTheGame/comments/ei6j49/980_savathuns_difficulty/",
           "ei6j49"
          ],
          [
           "destinythegame",
           "Onyx_Ninja",
           "https://www.reddit.com/r/DestinyTheGame/comments/ei6jsl/please_let_us_have_our_character_give_our_ghost_a/",
           "ei6jsl"
          ],
          [
           "destinythegame",
           "TTVMoses",
           "https://www.reddit.com/r/DestinyTheGame/comments/ei6l2g/destiny_2_needs_more_game_modes/",
           "ei6l2g"
          ],
          [
           "destinythegame",
           "Corvo4133",
           "https://www.reddit.com/r/DestinyTheGame/comments/ei6nrj/something_is_going_on_with_the_dreaming_city/",
           "ei6nrj"
          ],
          [
           "destinythegame",
           "destinyvoidlock",
           "https://www.reddit.com/r/DestinyTheGame/comments/ei6nyw/in_year_3_it_sucks_that_small_clans_are_still/",
           "ei6nyw"
          ],
          [
           "destinythegame",
           "ryvenkael",
           "https://www.reddit.com/r/DestinyTheGame/comments/ei6q89/why_are_some_seemingly_small_settings_platform/",
           "ei6q89"
          ],
          [
           "destinythegame",
           "MichaelTL",
           "https://www.reddit.com/r/DestinyTheGame/comments/ei6rh5/is_the_nightfall_the_corutped_ever_coming_back/",
           "ei6rh5"
          ],
          [
           "destinythegame",
           "Lokil",
           "https://www.reddit.com/r/DestinyTheGame/comments/ei6sad/travelers_judgment_5_does_not_receive_a_second/",
           "ei6sad"
          ],
          [
           "destinythegame",
           "VegitoEnigma",
           "https://www.reddit.com/r/DestinyTheGame/comments/ei6t2g/what_happened_to_doubles/",
           "ei6t2g"
          ],
          [
           "destinythegame",
           "teach49",
           "https://www.reddit.com/r/DestinyTheGame/comments/ei6vzc/all_buffs_should_have_timers_andor_be_displayed/",
           "ei6vzc"
          ],
          [
           "destinythegame",
           "Marcianoox",
           "https://www.reddit.com/r/DestinyTheGame/comments/ei6w1a/farming_imperials_to_upgrade_chalice/",
           "ei6w1a"
          ],
          [
           "destinythegame",
           "WaavyDaavy",
           "https://www.reddit.com/r/DestinyTheGame/comments/ei6wr4/how_do_you_get_more_than_1_reward_from_the_sundial/",
           "ei6wr4"
          ],
          [
           "destinythegame",
           "UKnowPoo",
           "https://www.reddit.com/r/DestinyTheGame/comments/ei6ymf/season_pass_post100lvl_glitch/",
           "ei6ymf"
          ],
          [
           "destinythegame",
           "jcspoon",
           "https://www.reddit.com/r/DestinyTheGame/comments/ei70z7/automatic_redemption_of_season_passes/",
           "ei70z7"
          ],
          [
           "destinythegame",
           "Struchdestroyer",
           "https://www.reddit.com/r/DestinyTheGame/comments/ei71ns/bungo_timelost_bountys_dont_work/",
           "ei71ns"
          ],
          [
           "destinythegame",
           "HumanDemise",
           "https://www.reddit.com/r/DestinyTheGame/comments/ei72u7/love_and_death/",
           "ei72u7"
          ],
          [
           "destinythegame",
           "TTVMoses",
           "https://www.reddit.com/r/DestinyTheGame/comments/ei7398/destiny_2_pvp_needs_endgame_content_and_loot_to/",
           "ei7398"
          ],
          [
           "destinythegame",
           "RedDeath299_",
           "https://www.reddit.com/r/DestinyTheGame/comments/ei742e/incomplete_gambit_teams/",
           "ei742e"
          ],
          [
           "destinythegame",
           "PerilousMax",
           "https://www.reddit.com/r/DestinyTheGame/comments/ei750i/armor_issues_that_need_to_be_looked_at/",
           "ei750i"
          ],
          [
           "destinythegame",
           "cryptic-fox",
           "https://www.reddit.com/r/DestinyTheGame/comments/ei7519/can_i_forget_about_the_pvp_portion_of_the_game/",
           "ei7519"
          ],
          [
           "destinythegame",
           "wo4h_my_dud3",
           "https://www.reddit.com/r/DestinyTheGame/comments/ei76cy/question_about_sundial_mods/",
           "ei76cy"
          ],
          [
           "destinythegame",
           "mooseythings",
           "https://www.reddit.com/r/DestinyTheGame/comments/ei76d4/which_quests_can_i_abandon/",
           "ei76d4"
          ],
          [
           "destinythegame",
           "SkylarxMcCool",
           "https://www.reddit.com/r/DestinyTheGame/comments/ei77ud/finishers/",
           "ei77ud"
          ],
          [
           "destinythegame",
           "Prob_Pooping",
           "https://www.reddit.com/r/DestinyTheGame/comments/ei78jh/quest_nonfunctional_a_matter_of_time/",
           "ei78jh"
          ],
          [
           "destinythegame",
           "phantom13927",
           "https://www.reddit.com/r/DestinyTheGame/comments/ei7dh9/concept_for_weekly_pinnacle_targeting/",
           "ei7dh9"
          ],
          [
           "destinythegame",
           "MothEmperor07",
           "https://www.reddit.com/r/DestinyTheGame/comments/ei7es2/osiris_event_expiring_at_season_end/",
           "ei7es2"
          ],
          [
           "destinythegame",
           "Max_Tin",
           "https://www.reddit.com/r/DestinyTheGame/comments/ei7f2n/bad_juju_quest/",
           "ei7f2n"
          ],
          [
           "destinythegame",
           "skyman5150",
           "https://www.reddit.com/r/DestinyTheGame/comments/ei7mlt/shaxx_raid/",
           "ei7mlt"
          ],
          [
           "destinythegame",
           "Elwalther21",
           "https://www.reddit.com/r/DestinyTheGame/comments/ei7p7q/is_izenagis_still_bugged/",
           "ei7p7q"
          ],
          [
           "destinythegame",
           "HiddnAce",
           "https://www.reddit.com/r/DestinyTheGame/comments/ei7rp6/exotic_catalyst_and_ornament_idea_for_le_monarque/",
           "ei7rp6"
          ],
          [
           "destinythegame",
           "MookieV",
           "https://www.reddit.com/r/DestinyTheGame/comments/ei7sc0/found_this_article_about_d1_armor_during_my/",
           "ei7sc0"
          ],
          [
           "destinythegame",
           "immortaldon",
           "https://www.reddit.com/r/DestinyTheGame/comments/ei7t0h/how_do_people_feel_about_class_balancing/",
           "ei7t0h"
          ],
          [
           "destinythegame",
           "Arman276",
           "https://www.reddit.com/r/DestinyTheGame/comments/ei7u82/can_we_actually_change_the_ordeal/",
           "ei7u82"
          ],
          [
           "destinythegame",
           "jens-adams",
           "https://www.reddit.com/r/DestinyTheGame/comments/ei7v56/exotic_class_armor/",
           "ei7v56"
          ],
          [
           "destinythegame",
           "Zanex123",
           "https://www.reddit.com/r/DestinyTheGame/comments/ei7wdu/how_to_get_lord_of_wolves/",
           "ei7wdu"
          ],
          [
           "destinythegame",
           "ANTORICO2THELEGEND",
           "https://www.reddit.com/r/DestinyTheGame/comments/ei7wpr/make_reckoning_t3_guarantee_a_drop/",
           "ei7wpr"
          ],
          [
           "destinythegame",
           "draco5105",
           "https://www.reddit.com/r/DestinyTheGame/comments/ei7xcc/restoring_my_faith_in_the_community/",
           "ei7xcc"
          ],
          [
           "destinythegame",
           "kdebones",
           "https://www.reddit.com/r/DestinyTheGame/comments/ei7xe6/easy_150_solar_kills/",
           "ei7xe6"
          ],
          [
           "destinythegame",
           "HellChicken949",
           "https://www.reddit.com/r/DestinyTheGame/comments/ei7y71/where_can_i_get_a_bow/",
           "ei7y71"
          ],
          [
           "destinythegame",
           "NegZ68",
           "https://www.reddit.com/r/DestinyTheGame/comments/ei7ys5/has_bungie_ever_said_why_we_have_to_rank_up/",
           "ei7ys5"
          ],
          [
           "destinythegame",
           "Skifer91290",
           "https://www.reddit.com/r/DestinyTheGame/comments/ei80b5/a_3_tiered_fix_to_the_ghost_system/",
           "ei80b5"
          ],
          [
           "destinythegame",
           "Dethproof814",
           "https://www.reddit.com/r/DestinyTheGame/comments/ei80m4/bungie_can_we_please_get_a_vault_space_increase/",
           "ei80m4"
          ],
          [
           "destinythegame",
           "SpessMareen",
           "https://www.reddit.com/r/DestinyTheGame/comments/ei8272/vanguard_weekly_bounties_are_bugged_they_have/",
           "ei8272"
          ],
          [
           "destinythegame",
           "dmg1920",
           "https://www.reddit.com/r/DestinyTheGame/comments/ei8332/what_is_the_actual_god_roll_for_breachlight/",
           "ei8332"
          ],
          [
           "destinythegame",
           "RevanTheDragon",
           "https://www.reddit.com/r/DestinyTheGame/comments/ei84mj/is_the_bust_a_move_emote_a_reference_to_the_dance/",
           "ei84mj"
          ],
          [
           "destinythegame",
           "Joshhaslam",
           "https://www.reddit.com/r/DestinyTheGame/comments/ei854b/master_nightmare_hunt_time_trials/",
           "ei854b"
          ],
          [
           "destinythegame",
           "Megajoshuaw",
           "https://www.reddit.com/r/DestinyTheGame/comments/ei857z/how_to_stop_the_glare/",
           "ei857z"
          ],
          [
           "destinythegame",
           "babey_time",
           "https://www.reddit.com/r/DestinyTheGame/comments/ei86fs/question_about_the_microsoft_store_sale_on_the/",
           "ei86fs"
          ],
          [
           "destinythegame",
           "bLargwastaken",
           "https://www.reddit.com/r/DestinyTheGame/comments/ei8826/bug_or_intentional/",
           "ei8826"
          ],
          [
           "destinythegame",
           "G-Nod",
           "https://www.reddit.com/r/DestinyTheGame/comments/ei8asa/that_european_dead_zone_problem/",
           "ei8asa"
          ],
          [
           "destinythegame",
           "the-Jummy",
           "https://www.reddit.com/r/DestinyTheGame/comments/ei8c5g/the_thrill_of_denying_rocket_kills/",
           "ei8c5g"
          ],
          [
           "destinythegame",
           "Faeluchu",
           "https://www.reddit.com/r/DestinyTheGame/comments/ei8cj1/theres_an_invisible_arrow_nocked_to_the_stowed/",
           "ei8cj1"
          ],
          [
           "destinythegame",
           "Ask4Damien",
           "https://www.reddit.com/r/DestinyTheGame/comments/ei8dvl/what_causes_telesto_to_be_such_a_pain_for_bungie/",
           "ei8dvl"
          ],
          [
           "destinythegame",
           "ehixson",
           "https://www.reddit.com/r/DestinyTheGame/comments/ei8fu2/battle_pass_the_bounty_grind_and_lack_of/",
           "ei8fu2"
          ],
          [
           "destinythegame",
           "Tharja13",
           "https://www.reddit.com/r/DestinyTheGame/comments/ei8i2p/how_to_make_wish_ender_feel_more_exotic_but_keep/",
           "ei8i2p"
          ],
          [
           "destinythegame",
           "Xunto",
           "https://www.reddit.com/r/DestinyTheGame/comments/ei8in4/obelisk_max_level/",
           "ei8in4"
          ],
          [
           "destinythegame",
           "Chillager124",
           "https://www.reddit.com/r/DestinyTheGame/comments/ei8j4j/there_should_be_more_exotic_quests_for_armor/",
           "ei8j4j"
          ],
          [
           "destinythegame",
           "MM487",
           "https://www.reddit.com/r/DestinyTheGame/comments/ei8jrk/how_do_i_get_the_an_impossible_task_quest/",
           "ei8jrk"
          ],
          [
           "destinythegame",
           "saiyan_boy",
           "https://www.reddit.com/r/DestinyTheGame/comments/ei8mb9/d1_nostalgia/",
           "ei8mb9"
          ],
          [
           "destinythegame",
           "saminsocks",
           "https://www.reddit.com/r/DestinyTheGame/comments/ei8mvr/symmetry_should_not_lose_dynamic_charge_when/",
           "ei8mvr"
          ],
          [
           "destinythegame",
           "FInnH93",
           "https://www.reddit.com/r/DestinyTheGame/comments/ei8n2s/for_all_the_ups_and_downs_this_season_seems_to/",
           "ei8n2s"
          ],
          [
           "destinythegame",
           "WaavyDaavy",
           "https://www.reddit.com/r/DestinyTheGame/comments/ei8o15/the_crayon_economy_is_really_bad_and_it_needs_a/",
           "ei8o15"
          ],
          [
           "destinythegame",
           "yaoivampire",
           "https://www.reddit.com/r/DestinyTheGame/comments/ei8o4r/please_give_us_an_option_to_autoshard_blues/",
           "ei8o4r"
          ],
          [
           "destinythegame",
           "mylifemyworld17",
           "https://www.reddit.com/r/DestinyTheGame/comments/ei8qv0/survival_freelance_matchmaking_is_completely/",
           "ei8qv0"
          ],
          [
           "destinythegame",
           "CraigStewy",
           "https://www.reddit.com/r/DestinyTheGame/comments/ei8r2m/need_advice/",
           "ei8r2m"
          ],
          [
           "destinythegame",
           "Nukesnipe",
           "https://www.reddit.com/r/DestinyTheGame/comments/ei8r6i/my_biggest_hope_is_that_we_get_a_taken_king_style/",
           "ei8r6i"
          ],
          [
           "destinythegame",
           "Codrates",
           "https://www.reddit.com/r/DestinyTheGame/comments/ei8txd/psa_solo_players/",
           "ei8txd"
          ],
          [
           "destinythegame",
           "TylerB0ne_",
           "https://www.reddit.com/r/DestinyTheGame/comments/ei8vfi/i_want_a_theater_mode_for_destiny_2/",
           "ei8vfi"
          ],
          [
           "destinythegame",
           "Kyronius-",
           "https://www.reddit.com/r/DestinyTheGame/comments/ei8wsh/ship_space_battles_amanda_holiday_srl_solar/",
           "ei8wsh"
          ],
          [
           "destinythegame",
           "Ovogotti",
           "https://www.reddit.com/r/DestinyTheGame/comments/ei8y60/a_decade_to_look_back_on_with_joy/",
           "ei8y60"
          ],
          [
           "destinythegame",
           "MRlll",
           "https://www.reddit.com/r/DestinyTheGame/comments/ei8ynh/garden_challenges/",
           "ei8ynh"
          ],
          [
           "destinythegame",
           "Yung_Seamless",
           "https://www.reddit.com/r/DestinyTheGame/comments/ei92a3/eververse_ornament_glitch/",
           "ei92a3"
          ],
          [
           "destinythegame",
           "Griffintowers101",
           "https://www.reddit.com/r/DestinyTheGame/comments/ei931y/this_is_ridiculous/",
           "ei931y"
          ],
          [
           "destinythegame",
           "chowdahead03",
           "https://www.reddit.com/r/DestinyTheGame/comments/ei94dq/so_hammer_titans_using_solar_plexus_are/",
           "ei94dq"
          ],
          [
           "destinythegame",
           "VoicedN",
           "https://www.reddit.com/r/DestinyTheGame/comments/ei95ea/exotics_from_weeklies/",
           "ei95ea"
          ],
          [
           "destinythegame",
           "Bauzakeruga",
           "https://www.reddit.com/r/DestinyTheGame/comments/ei95kn/perks_diversity_in_destiny2_is_sad_and_not_for/",
           "ei95kn"
          ],
          [
           "destinythegame",
           "CLOROX_CONFIRMED",
           "https://www.reddit.com/r/DestinyTheGame/comments/ei961b/polarized_fractaline_use/",
           "ei961b"
          ],
          [
           "destinythegame",
           "Srsasquatch",
           "https://www.reddit.com/r/DestinyTheGame/comments/ei96i6/crossing_the_bridge_in_d1_crotas_end/",
           "ei96i6"
          ],
          [
           "destinythegame",
           "HawksWill",
           "https://www.reddit.com/r/DestinyTheGame/comments/ei97gw/champion_mobs_pay_attention/",
           "ei97gw"
          ],
          [
           "destinythegame",
           "FearlessZephyr",
           "https://www.reddit.com/r/DestinyTheGame/comments/ei97yb/you_speedrunners_sound_like_you_need_another/",
           "ei97yb"
          ],
          [
           "destinythegame",
           "fir5t1nline",
           "https://www.reddit.com/r/DestinyTheGame/comments/ei99er/fov_slider_on_stadia/",
           "ei99er"
          ],
          [
           "destinythegame",
           "Bauzakeruga",
           "https://www.reddit.com/r/DestinyTheGame/comments/ei9a72/destiny_2_perk_diversity_is_sad_and_its_cause_of/",
           "ei9a72"
          ],
          [
           "destinythegame",
           "Mushroom_Surprise",
           "https://www.reddit.com/r/DestinyTheGame/comments/ei9bel/some_numbers_on_ability_cooldowns_with_nezarecs/",
           "ei9bel"
          ],
          [
           "destinythegame",
           "kinntaki",
           "https://www.reddit.com/r/DestinyTheGame/comments/ei9dak/bungie_this_is_my_47thday_doing_black_armory/",
           "ei9dak"
          ],
          [
           "destinythegame",
           "macho-dong",
           "https://www.reddit.com/r/DestinyTheGame/comments/ei9e2z/tarrabah_catalyst_idea/",
           "ei9e2z"
          ],
          [
           "destinythegame",
           "Hazmat616",
           "https://www.reddit.com/r/DestinyTheGame/comments/ei9ej7/the_cosmodrome_should_be_added_as_a_destination/",
           "ei9ej7"
          ],
          [
           "destinythegame",
           "rkelez",
           "https://www.reddit.com/r/DestinyTheGame/comments/ei9eue/no_comp_weekly_reward/",
           "ei9eue"
          ],
          [
           "destinythegame",
           "ChiIIerr",
           "https://www.reddit.com/r/DestinyTheGame/comments/ei9f7o/for_2020_can_we_not_get_fan_favorite_weapons_like/",
           "ei9f7o"
          ],
          [
           "destinythegame",
           "vejolly",
           "https://www.reddit.com/r/DestinyTheGame/comments/ei9g8q/fractaline_skimmer_weekly_reset/",
           "ei9g8q"
          ],
          [
           "destinythegame",
           "Leviathan3333",
           "https://www.reddit.com/r/DestinyTheGame/comments/ei9gfi/just_got_suspended_from_competitive/",
           "ei9gfi"
          ],
          [
           "destinythegame",
           "OldAngryShrek",
           "https://www.reddit.com/r/DestinyTheGame/comments/ei9hdu/contacting_bungie_for_support/",
           "ei9hdu"
          ],
          [
           "destinythegame",
           "5-Second-Ruul",
           "https://www.reddit.com/r/DestinyTheGame/comments/ei9i1w/saladin_forgot_to_pack_his_bags/",
           "ei9i1w"
          ],
          [
           "destinythegame",
           "Jerk48",
           "https://www.reddit.com/r/DestinyTheGame/comments/ei9isd/ghost_slotted_consumables/",
           "ei9isd"
          ],
          [
           "destinythegame",
           "Vandalbot",
           "https://www.reddit.com/r/DestinyTheGame/comments/ei9iw6/why_are_comp_games_starting_3_v_2_a_thing/",
           "ei9iw6"
          ],
          [
           "destinythegame",
           "KitsuneKamiSama",
           "https://www.reddit.com/r/DestinyTheGame/comments/ei9j4k/can_we_get_like_an_actual_event_for_the_next/",
           "ei9j4k"
          ],
          [
           "destinythegame",
           "megawhiz1769",
           "https://www.reddit.com/r/DestinyTheGame/comments/ei9ksc/with_the_mindbenders_ambition_farm_being_back/",
           "ei9ksc"
          ],
          [
           "destinythegame",
           "frankieluigi",
           "https://www.reddit.com/r/DestinyTheGame/comments/ei9lfj/how_does_the_recluse_triumph_work/",
           "ei9lfj"
          ],
          [
           "destinythegame",
           "Titans_are_superior",
           "https://www.reddit.com/r/DestinyTheGame/comments/ei9lha/honor_bound_bosses_arent_working_for_me_help/",
           "ei9lha"
          ],
          [
           "destinythegame",
           "The_Better_Devil",
           "https://www.reddit.com/r/DestinyTheGame/comments/ei9lsc/what_are_some_of_the_greatest/",
           "ei9lsc"
          ],
          [
           "destinythegame",
           "FewerColt369",
           "https://www.reddit.com/r/DestinyTheGame/comments/ei9oxo/recluse_journey/",
           "ei9oxo"
          ],
          [
           "destinythegame",
           "mirshe",
           "https://www.reddit.com/r/DestinyTheGame/comments/ei9pyi/death_loop_in_zero_hour/",
           "ei9pyi"
          ],
          [
           "destinythegame",
           "xenosidezero",
           "https://www.reddit.com/r/DestinyTheGame/comments/ei9rqf/uh_saladin_you_forgot_your_stuff/",
           "ei9rqf"
          ],
          [
           "destinythegame",
           "CF0311",
           "https://www.reddit.com/r/DestinyTheGame/comments/ei9tke/officially_in_the_triple_digit_last_wish_chests/",
           "ei9tke"
          ],
          [
           "destinythegame",
           "Caffete",
           "https://www.reddit.com/r/DestinyTheGame/comments/ei9u3i/it_has_been_scientifically_proven_that_punching/",
           "ei9u3i"
          ],
          [
           "destinythegame",
           "Raito103",
           "https://www.reddit.com/r/DestinyTheGame/comments/ei9v51/why_does_wendigo_have_max_base_ammo_of_17_while/",
           "ei9v51"
          ],
          [
           "destinythegame",
           "Cryhunter059",
           "https://www.reddit.com/r/DestinyTheGame/comments/ei9vbm/question_about_mida_catalyst/",
           "ei9vbm"
          ],
          [
           "destinythegame",
           "Oryxhasnonuts",
           "https://www.reddit.com/r/DestinyTheGame/comments/ei9w4o/new_years_idea_lets_all_come_together/",
           "ei9w4o"
          ],
          [
           "destinythegame",
           "ClouttMyster",
           "https://www.reddit.com/r/DestinyTheGame/comments/ei9wq7/parade_armor_sets/",
           "ei9wq7"
          ],
          [
           "destinythegame",
           "Sandman15235",
           "https://www.reddit.com/r/DestinyTheGame/comments/ei9zhk/getting_kicked_from_strikes_all_day_everyday/",
           "ei9zhk"
          ],
          [
           "destinythegame",
           "Anderty",
           "https://www.reddit.com/r/DestinyTheGame/comments/eia0dq/banshee_precision_weekly_bounty_is_bugged_and_its/",
           "eia0dq"
          ],
          [
           "destinythegame",
           "Storm-Shadow98",
           "https://www.reddit.com/r/DestinyTheGame/comments/eia0mi/are_gunsmith_weekly_bounties_bugged/",
           "eia0mi"
          ],
          [
           "destinythegame",
           "MGPythagoras",
           "https://www.reddit.com/r/DestinyTheGame/comments/eia0ps/i_completed_all_the_alpine_quests_but_my_sparrow/",
           "eia0ps"
          ],
          [
           "destinythegame",
           "Kdubsmoking2",
           "https://www.reddit.com/r/DestinyTheGame/comments/eia2si/start_your_new_year_off_right/",
           "eia2si"
          ],
          [
           "destinythegame",
           "The_Better_Devil",
           "https://www.reddit.com/r/DestinyTheGame/comments/eia3kg/tower_thoughtthe_whether_we_wanted_it_or_not_meme/",
           "eia3kg"
          ],
          [
           "destinythegame",
           "vivereFerrari",
           "https://www.reddit.com/r/DestinyTheGame/comments/eia41y/a_choice_for_using_your_charged_or_uncharged/",
           "eia41y"
          ],
          [
           "destinythegame",
           "stevie242",
           "https://www.reddit.com/r/DestinyTheGame/comments/eia6se/weasel_errors_in_the_dreaming_city/",
           "eia6se"
          ],
          [
           "destinythegame",
           "blacktip102",
           "https://www.reddit.com/r/DestinyTheGame/comments/eia6vf/anybody_know_a_fast_way_to_get_god_roll_trust/",
           "eia6vf"
          ],
          [
           "destinythegame",
           "onlyyoshi97",
           "https://www.reddit.com/r/DestinyTheGame/comments/eia8pd/so_did_we_just_abandon_the_dreaming_city/",
           "eia8pd"
          ],
          [
           "destinythegame",
           "GlobalPhreak",
           "https://www.reddit.com/r/DestinyTheGame/comments/eia9g5/dont_play_pvp_completing_an_impossible_task_25/",
           "eia9g5"
          ],
          [
           "destinythegame",
           "InvisiKid",
           "https://www.reddit.com/r/DestinyTheGame/comments/eia9ts/bad_juju_miniature_replica_code/",
           "eia9ts"
          ],
          [
           "destinythegame",
           "Bugs5567",
           "https://www.reddit.com/r/DestinyTheGame/comments/eiaaa9/bungie_for_travelers_sake_we_are_5_years_in_and/",
           "eiaaa9"
          ],
          [
           "destinythegame",
           "emubilly",
           "https://www.reddit.com/r/DestinyTheGame/comments/eiaazr/does_a_higher_nightfall_score_increase_your/",
           "eiaazr"
          ],
          [
           "destinythegame",
           "PyjamaLlamaParty",
           "https://www.reddit.com/r/DestinyTheGame/comments/eiab89/fastest_way_to_farm_mindbenders_from_this_weeks/",
           "eiab89"
          ],
          [
           "destinythegame",
           "gwserfon",
           "https://www.reddit.com/r/DestinyTheGame/comments/eiacoc/i_upgraded_consoles_and_it_feels_like_im_playing/",
           "eiacoc"
          ],
          [
           "destinythegame",
           "exhaustedoctopus",
           "https://www.reddit.com/r/DestinyTheGame/comments/eiad8d/i_made_my_husband_a_mini_quilt_for_christmas/",
           "eiad8d"
          ],
          [
           "destinythegame",
           "taskmaster51",
           "https://www.reddit.com/r/DestinyTheGame/comments/eiae94/had_thunderlord_drop_last_night/",
           "eiae94"
          ],
          [
           "destinythegame",
           "agitatedandroid",
           "https://www.reddit.com/r/DestinyTheGame/comments/eiaeje/shadowkeep_or_season/",
           "eiaeje"
          ],
          [
           "destinythegame",
           "Onyx_Ninja",
           "https://www.reddit.com/r/DestinyTheGame/comments/eiahj8/idea_for_rift_20/",
           "eiahj8"
          ],
          [
           "destinythegame",
           "saga_712",
           "https://www.reddit.com/r/DestinyTheGame/comments/eiahts/stop_pushing_if_you_have_life_advantage_in_a_23/",
           "eiahts"
          ],
          [
           "destinythegame",
           "ShaneBazTe",
           "https://www.reddit.com/r/DestinyTheGame/comments/eialy0/green_with_envy_is_even_more_messed_up/",
           "eialy0"
          ],
          [
           "destinythegame",
           "lizardking796",
           "https://www.reddit.com/r/DestinyTheGame/comments/eiamu4/i_think_there_should_be_a_way_to_play_the_strike/",
           "eiamu4"
          ],
          [
           "destinythegame",
           "Montregloe",
           "https://www.reddit.com/r/DestinyTheGame/comments/eiamul/the_surrounded_perk_is_cool/",
           "eiamul"
          ],
          [
           "destinythegame",
           "ToN7No",
           "https://www.reddit.com/r/DestinyTheGame/comments/eianux/help_someone_for_a_year_get_no_recognition_long/",
           "eianux"
          ],
          [
           "destinythegame",
           "RussianBearFight",
           "https://www.reddit.com/r/DestinyTheGame/comments/eiap7r/banshee_weekly_bounty_not_resetting_properly/",
           "eiap7r"
          ],
          [
           "destinythegame",
           "brohemianmoment",
           "https://www.reddit.com/r/DestinyTheGame/comments/eiaqi8/weird_boss_i_found_in_pit_of_heresy/",
           "eiaqi8"
          ],
          [
           "destinythegame",
           "TervoDoesGamesYT",
           "https://www.reddit.com/r/DestinyTheGame/comments/eiaqn5/_/",
           "eiaqn5"
          ],
          [
           "destinythegame",
           "Vips_The_Imbecile",
           "https://www.reddit.com/r/DestinyTheGame/comments/eiaqt5/is_it_intentional_for_the_mod_heavy_handed_to_not/",
           "eiaqt5"
          ],
          [
           "destinythegame",
           "AgentZeroHour",
           "https://www.reddit.com/r/DestinyTheGame/comments/eiatmu/trying_to_figure_out_if_there_is_a_way_to_farm/",
           "eiatmu"
          ],
          [
           "destinythegame",
           "CosChrome",
           "https://www.reddit.com/r/DestinyTheGame/comments/eiawue/were_new_voice_lines_implemented_to_lord_shaxx/",
           "eiawue"
          ],
          [
           "destinythegame",
           "skoomable",
           "https://www.reddit.com/r/DestinyTheGame/comments/eib5vz/can_we_please_get_some_way_to_sync_pursuit/",
           "eib5vz"
          ],
          [
           "destinythegame",
           "ShadeofCayde6",
           "https://www.reddit.com/r/DestinyTheGame/comments/eib6g4/season_pass_hunter_cloak_is_busted_and_this_makes/",
           "eib6g4"
          ],
          [
           "destinythegame",
           "Iccotak",
           "https://www.reddit.com/r/DestinyTheGame/comments/eib6va/expanding_on_character_creation/",
           "eib6va"
          ],
          [
           "destinythegame",
           "VanpyroGaming",
           "https://www.reddit.com/r/DestinyTheGame/comments/eib7nu/after_a_4_day_grind_reckoner_is_mine/",
           "eib7nu"
          ],
          [
           "destinythegame",
           "ShadeofCayde6",
           "https://www.reddit.com/r/DestinyTheGame/comments/eibc8v/the_season_pass_cloak_is_so_badly_broken_and_it/",
           "eibc8v"
          ],
          [
           "destinythegame",
           "LeNooFa",
           "https://www.reddit.com/r/DestinyTheGame/comments/eibd63/destiny_companion_app/",
           "eibd63"
          ],
          [
           "destinythegame",
           "CrimsonProletariat",
           "https://www.reddit.com/r/DestinyTheGame/comments/eibdf6/dont_be_dumb_tonight_guardians_have_someone_fly/",
           "eibdf6"
          ],
          [
           "destinythegame",
           "StarkSparks",
           "https://www.reddit.com/r/DestinyTheGame/comments/eibe3j/what_is_considered_to_be_the_best_pulse_rifle_in/",
           "eibe3j"
          ],
          [
           "destinythegame",
           "Padrin95",
           "https://www.reddit.com/r/DestinyTheGame/comments/eibfr8/tangled_shore_resource_detector_as_a_buff/",
           "eibfr8"
          ],
          [
           "destinythegame",
           "RickV6",
           "https://www.reddit.com/r/DestinyTheGame/comments/eibfwo/i_just_have_one_simple_question_for_bungie_will/",
           "eibfwo"
          ],
          [
           "destinythegame",
           "xKybow",
           "https://www.reddit.com/r/DestinyTheGame/comments/eibhvy/randys_throwing_knife/",
           "eibhvy"
          ],
          [
           "destinythegame",
           "TheCuccubus",
           "https://www.reddit.com/r/DestinyTheGame/comments/eibkfv/might_i_make_a_suggestion/",
           "eibkfv"
          ],
          [
           "destinythegame",
           "SVrider26",
           "https://www.reddit.com/r/DestinyTheGame/comments/eibne6/experiencing_old_content_with_new_players/",
           "eibne6"
          ],
          [
           "destinythegame",
           "OldNorseBoy",
           "https://www.reddit.com/r/DestinyTheGame/comments/eibnpr/sup_with_the_symmetry_quote/",
           "eibnpr"
          ],
          [
           "destinythegame",
           "cancercureall",
           "https://www.reddit.com/r/DestinyTheGame/comments/eibnzy/new_privacy_policy/",
           "eibnzy"
          ],
          [
           "destinythegame",
           "bartonie",
           "https://www.reddit.com/r/DestinyTheGame/comments/eibonw/eververse_question/",
           "eibonw"
          ],
          [
           "destinythegame",
           "tracermain12",
           "https://www.reddit.com/r/DestinyTheGame/comments/eiboz1/will_there_be_anything_really_hard_coming_for_the/",
           "eiboz1"
          ],
          [
           "destinythegame",
           "Lavatis",
           "https://www.reddit.com/r/DestinyTheGame/comments/eibp7h/glory_would_be_a_lot_more_fun_to_earn_if_i_wasnt/",
           "eibp7h"
          ],
          [
           "destinythegame",
           "skeletorodp",
           "https://www.reddit.com/r/DestinyTheGame/comments/eibpnq/met_saint_14_before_getting_perfect_paradox/",
           "eibpnq"
          ],
          [
           "destinythegame",
           "TheMaestroNoob",
           "https://www.reddit.com/r/DestinyTheGame/comments/eibt9i/fan_art_sexy_the_last_word/",
           "eibt9i"
          ],
          [
           "destinythegame",
           "InactivePixels",
           "https://www.reddit.com/r/DestinyTheGame/comments/eibvoi/how_many_people_have_gotten_their_raid_jackets/",
           "eibvoi"
          ],
          [
           "destinythegame",
           "ske7chpls",
           "https://www.reddit.com/r/DestinyTheGame/comments/eibvrc/arms_dealer_strike_needs_season_8_pass_in_season_9/",
           "eibvrc"
          ],
          [
           "destinythegame",
           "dMNY307",
           "https://www.reddit.com/r/DestinyTheGame/comments/eibwg7/is_whisper_of_the_worm_still_good/",
           "eibwg7"
          ],
          [
           "destinythegame",
           "DesertJaguar",
           "https://www.reddit.com/r/DestinyTheGame/comments/eibx6k/trolling_essence_afk_farmers_is_fun/",
           "eibx6k"
          ],
          [
           "destinythegame",
           "DefinitelyNotThatJoe",
           "https://www.reddit.com/r/DestinyTheGame/comments/eibxst/bounties_should_show_up_in_our_logs_automatically/",
           "eibxst"
          ],
          [
           "destinythegame",
           "Kyronius-",
           "https://www.reddit.com/r/DestinyTheGame/comments/eic1lr/our_character_dialogue_and_voice_is_far_too_rare/",
           "eic1lr"
          ],
          [
           "destinythegame",
           "SqueegeeMe",
           "https://www.reddit.com/r/DestinyTheGame/comments/eic1pu/if_anyones_curious_what_happened_to_uldren_have_a/",
           "eic1pu"
          ],
          [
           "destinythegame",
           "tarynrenae",
           "https://www.reddit.com/r/DestinyTheGame/comments/eic2uu/honey_i_shrunk_ada1/",
           "eic2uu"
          ],
          [
           "destinythegame",
           "canadiangirl_eh",
           "https://www.reddit.com/r/DestinyTheGame/comments/eic6qj/black_armor_forge_help/",
           "eic6qj"
          ],
          [
           "destinythegame",
           "Superluis97045",
           "https://www.reddit.com/r/DestinyTheGame/comments/eiccp3/discord_group/",
           "eiccp3"
          ],
          [
           "destinythegame",
           "Torombol0",
           "https://www.reddit.com/r/DestinyTheGame/comments/eice3t/hush_unstoppable_arrows/",
           "eice3t"
          ],
          [
           "destinythegame",
           "jamilDK",
           "https://www.reddit.com/r/DestinyTheGame/comments/eicf31/whats_the_best_way_to_farm_spare_rations_this_week/",
           "eicf31"
          ],
          [
           "destinythegame",
           "Multimarkboy",
           "https://www.reddit.com/r/DestinyTheGame/comments/eicfna/looking_for_3_previews_of_titan_leg_ornaments/",
           "eicfna"
          ],
          [
           "destinythegame",
           "Thunderbridge",
           "https://www.reddit.com/r/DestinyTheGame/comments/eicgz8/new_weekly_bounties_already_completed/",
           "eicgz8"
          ],
          [
           "destinythegame",
           "MegaRann",
           "https://www.reddit.com/r/DestinyTheGame/comments/eichb8/raid_runs/",
           "eichb8"
          ],
          [
           "destinythegame",
           "Radips",
           "https://www.reddit.com/r/DestinyTheGame/comments/eichij/next_time_corrupted_nightfall_will_be_available/",
           "eichij"
          ],
          [
           "destinythegame",
           "MachoPanda71",
           "https://www.reddit.com/r/DestinyTheGame/comments/eicifr/end_of_season_event_new_emblem/",
           "eicifr"
          ],
          [
           "destinythegame",
           "dazealex",
           "https://www.reddit.com/r/DestinyTheGame/comments/eiciio/best_new_years_eve_ever_thanks_to_a_guardian/",
           "eiciio"
          ],
          [
           "destinythegame",
           "markarenas_",
           "https://www.reddit.com/r/DestinyTheGame/comments/eicn7j/what_are_some_good_modifiers_for_regular/",
           "eicn7j"
          ],
          [
           "destinythegame",
           "RebootSequence",
           "https://www.reddit.com/r/DestinyTheGame/comments/eicpbm/i_think_they_finally_updated_hawthornes_lines/",
           "eicpbm"
          ],
          [
           "destinythegame",
           "EtotheD4200",
           "https://www.reddit.com/r/DestinyTheGame/comments/eics2g/a_question_regarding_melee_induced_damage_buffs/",
           "eics2g"
          ],
          [
           "destinythegame",
           "Fire-fight-Magi",
           "https://www.reddit.com/r/DestinyTheGame/comments/eics72/pvp_mission_rant_and_fix_suggestion/",
           "eics72"
          ],
          [
           "destinythegame",
           "MrFurious1000",
           "https://www.reddit.com/r/DestinyTheGame/comments/eicuxj/what_happened_to_the_reckoning/",
           "eicuxj"
          ],
          [
           "destinythegame",
           "bacterialtrailer",
           "https://www.reddit.com/r/DestinyTheGame/comments/eicwcc/bungie_has_did_an_awful_job_representing_warlocks/",
           "eicwcc"
          ],
          [
           "destinythegame",
           "Cryptarch44",
           "https://www.reddit.com/r/DestinyTheGame/comments/eicxra/do_we_know_anything_about_the_hidden_triumphs_for/",
           "eicxra"
          ],
          [
           "destinythegame",
           "Raiden4321234",
           "https://www.reddit.com/r/DestinyTheGame/comments/eicy5y/bergusia_forge/",
           "eicy5y"
          ],
          [
           "destinythegame",
           "stephen_1975",
           "https://www.reddit.com/r/DestinyTheGame/comments/eiczb9/question_am_i_imagining_this_or_are_the_hive_or/",
           "eiczb9"
          ],
          [
           "destinythegame",
           "ShaneCatlett",
           "https://www.reddit.com/r/DestinyTheGame/comments/eiczhr/empyrean_restoration_theory/",
           "eiczhr"
          ],
          [
           "destinythegame",
           "deadly_nightshaade",
           "https://www.reddit.com/r/DestinyTheGame/comments/eiczot/i_buckled_down_and_defeated_a_total_of_3214/",
           "eiczot"
          ],
          [
           "destinythegame",
           "Ninjhetto",
           "https://www.reddit.com/r/DestinyTheGame/comments/eid23p/are_the_weekly_vanguard_bounties_always_hive_and/",
           "eid23p"
          ],
          [
           "destinythegame",
           "solprimeval",
           "https://www.reddit.com/r/DestinyTheGame/comments/eid327/heres_my_idea_to_reorganise_crucible_gambit_and/",
           "eid327"
          ],
          [
           "destinythegame",
           "lafosso1",
           "https://www.reddit.com/r/DestinyTheGame/comments/eid3kx/why_cant_i_run_raids_as_many_times_as_i_want_for/",
           "eid3kx"
          ],
          [
           "destinythegame",
           "Ascalion",
           "https://www.reddit.com/r/DestinyTheGame/comments/eid53l/gift_in_return_disappeared_after_weekly_reset/",
           "eid53l"
          ],
          [
           "destinythegame",
           "ArmlessGuy12",
           "https://www.reddit.com/r/DestinyTheGame/comments/eid75h/i_think_theres_a_serious_problem_with_destiny_2s/",
           "eid75h"
          ],
          [
           "destinythegame",
           "Draconic_Void",
           "https://www.reddit.com/r/DestinyTheGame/comments/eid76t/how_can_you_tell_what_ascendant_challenge_week_it/",
           "eid76t"
          ],
          [
           "destinythegame",
           "Cooper604",
           "https://www.reddit.com/r/DestinyTheGame/comments/eid81q/destiny_2_api_potential_weapon_perk_question/",
           "eid81q"
          ],
          [
           "destinythegame",
           "Dmen1478",
           "https://www.reddit.com/r/DestinyTheGame/comments/eid88r/a_returning_player_looking_for_help/",
           "eid88r"
          ],
          [
           "destinythegame",
           "Xur_Is_Not_TheNine",
           "https://www.reddit.com/r/DestinyTheGame/comments/eid9zq/i_am_usually_not_one_to_complain_but_come_on/",
           "eid9zq"
          ],
          [
           "destinythegame",
           "Q2Qool",
           "https://www.reddit.com/r/DestinyTheGame/comments/eidbka/how_do_you_out_play_an_arc_soul/",
           "eidbka"
          ],
          [
           "destinythegame",
           "YaBoiLycaDaPeluca",
           "https://www.reddit.com/r/DestinyTheGame/comments/eidbrv/is_this_possible/",
           "eidbrv"
          ],
          [
           "destinythegame",
           "bladedancer661",
           "https://www.reddit.com/r/DestinyTheGame/comments/eidcbr/finally_got_divinity_and_it_felt_great/",
           "eidcbr"
          ],
          [
           "destinythegame",
           "RipstefanKarlsteffan",
           "https://www.reddit.com/r/DestinyTheGame/comments/eiddny/huckleberry_catalyst_postshadowkeep/",
           "eiddny"
          ],
          [
           "destinythegame",
           "SlendyA8",
           "https://www.reddit.com/r/DestinyTheGame/comments/eidi29/with_the_new_year_i_have_only_one_request/",
           "eidi29"
          ],
          [
           "destinythegame",
           "meowcubed",
           "https://www.reddit.com/r/DestinyTheGame/comments/eidj6v/void_battery_does_not_work/",
           "eidj6v"
          ],
          [
           "destinythegame",
           "Noobcombos",
           "https://www.reddit.com/r/DestinyTheGame/comments/eidjda/upgrading_synthesizer/",
           "eidjda"
          ],
          [
           "destinythegame",
           "Android5ooo",
           "https://www.reddit.com/r/DestinyTheGame/comments/eidkxm/quest_activity_spam_how_to_stop_it_is_it_a_bug/",
           "eidkxm"
          ],
          [
           "destinythegame",
           "raptors592",
           "https://www.reddit.com/r/DestinyTheGame/comments/eidnpp/insults_for_classes/",
           "eidnpp"
          ],
          [
           "destinythegame",
           "sabreclaw000",
           "https://www.reddit.com/r/DestinyTheGame/comments/eidnrv/how_does_bungie_handle_development_for_this_game/",
           "eidnrv"
          ],
          [
           "destinythegame",
           "EmbodimentOfBruh",
           "https://www.reddit.com/r/DestinyTheGame/comments/eido3w/my_luck_is_sometimes_frightening/",
           "eido3w"
          ],
          [
           "destinythegame",
           "AvxyPlays",
           "https://www.reddit.com/r/DestinyTheGame/comments/eidoo4/quest_bugged/",
           "eidoo4"
          ],
          [
           "destinythegame",
           "WittyUnwittingly",
           "https://www.reddit.com/r/DestinyTheGame/comments/eidprn/protective_light_damage_reduction_in_pvp/",
           "eidprn"
          ],
          [
           "destinythegame",
           "Ltmajorbones",
           "https://www.reddit.com/r/DestinyTheGame/comments/eidq4e/bring_leaderboards_and_meaningful_rewards_to/",
           "eidq4e"
          ],
          [
           "destinythegame",
           "Ceraldus",
           "https://www.reddit.com/r/DestinyTheGame/comments/eidqk0/three_hunters_a_short_story/",
           "eidqk0"
          ],
          [
           "destinythegame",
           "Joelioioio",
           "https://www.reddit.com/r/DestinyTheGame/comments/eie172/postmaster_prioritization/",
           "eie172"
          ],
          [
           "destinythegame",
           "Golet234",
           "https://www.reddit.com/r/DestinyTheGame/comments/eie1fh/d1_why_in_the_world_i_cant_infuse_on_y1_gear/",
           "eie1fh"
          ],
          [
           "destinythegame",
           "AtomicDog602",
           "https://www.reddit.com/r/DestinyTheGame/comments/eie1id/reset_day_you_have_already_completed_this/",
           "eie1id"
          ],
          [
           "destinythegame",
           "kxviniscool",
           "https://www.reddit.com/r/DestinyTheGame/comments/eie3ds/why_do_i_play_against_4000_glory_players_when_i/",
           "eie3ds"
          ],
          [
           "destinythegame",
           "pro3001",
           "https://www.reddit.com/r/DestinyTheGame/comments/eie3vb/sensitivity_needs_a_chang_on_console/",
           "eie3vb"
          ],
          [
           "destinythegame",
           "LadyMlstress",
           "https://www.reddit.com/r/DestinyTheGame/comments/eie47n/there_is_no_future_here_guardian/",
           "eie47n"
          ],
          [
           "destinythegame",
           "Nukesnipe",
           "https://www.reddit.com/r/DestinyTheGame/comments/eie5ni/with_the_proliferation_of_very_powerful_invader/",
           "eie5ni"
          ],
          [
           "destinythegame",
           "TitanAnarchy",
           "https://www.reddit.com/r/DestinyTheGame/comments/eie66t/a_new_years_gift_from_one_guardian_to_others/",
           "eie66t"
          ],
          [
           "destinythegame",
           "Jazzer995",
           "https://www.reddit.com/r/DestinyTheGame/comments/eie6ia/highest_total_base_value_on_armor/",
           "eie6ia"
          ],
          [
           "destinythegame",
           "Pupfrolic",
           "https://www.reddit.com/r/DestinyTheGame/comments/eie93p/out_of_ideas/",
           "eie93p"
          ],
          [
           "destinythegame",
           "PixelFool99",
           "https://www.reddit.com/r/DestinyTheGame/comments/eiea1i/perfect_paradox_trench_barrel_or_swashbuckler/",
           "eiea1i"
          ],
          [
           "destinythegame",
           "al-Malok",
           "https://www.reddit.com/r/DestinyTheGame/comments/eieage/season_of_dawn_is_superior_to_coo_in_activities/",
           "eieage"
          ],
          [
           "destinythegame",
           "rattlesnakemtn2",
           "https://www.reddit.com/r/DestinyTheGame/comments/eieaub/happy_new_year_guardians/",
           "eieaub"
          ],
          [
           "destinythegame",
           "Your_Uncle_Gubsy",
           "https://www.reddit.com/r/DestinyTheGame/comments/eieerg/void_affinity_on_season_nine_armor/",
           "eieerg"
          ],
          [
           "destinythegame",
           "al-Malok",
           "https://www.reddit.com/r/DestinyTheGame/comments/eiefcy/please_bring_nightfall_rewards_forward_to_year_3/",
           "eiefcy"
          ],
          [
           "destinythegame",
           "C-I-Rome",
           "https://www.reddit.com/r/DestinyTheGame/comments/eieh0t/happy_new_year_2020_guardians/",
           "eieh0t"
          ],
          [
           "destinythegame",
           "NAmElEss_NErd",
           "https://www.reddit.com/r/DestinyTheGame/comments/eiei6z/about_d1_crucible/",
           "eiei6z"
          ],
          [
           "destinythegame",
           "0Sharky",
           "https://www.reddit.com/r/DestinyTheGame/comments/eielsh/hey_fart_heads_i_got_something_to_say/",
           "eielsh"
          ],
          [
           "destinythegame",
           "BoxGamer713",
           "https://www.reddit.com/r/DestinyTheGame/comments/eieno1/the_new_dark_age_part_1_a_destiny_fan_story/",
           "eieno1"
          ],
          [
           "destinythegame",
           "TheCoderAndAvatar",
           "https://www.reddit.com/r/DestinyTheGame/comments/eieoaq/is_it_worth_it_to_transfer_current_items_to_the/",
           "eieoaq"
          ],
          [
           "destinythegame",
           "MetaphorTR",
           "https://www.reddit.com/r/DestinyTheGame/comments/eieoq4/help_with_barrel_choices_on_mindbenders/",
           "eieoq4"
          ],
          [
           "destinythegame",
           "YaBoiLycaDaPeluca",
           "https://www.reddit.com/r/DestinyTheGame/comments/eietkd/hot_take_maybe_it_wouldnt_be_a_great_thing_for/",
           "eietkd"
          ],
          [
           "destinythegame",
           "marcelopegacaneta",
           "https://www.reddit.com/r/DestinyTheGame/comments/eievm0/how_do_you_guys_feel_about_this/",
           "eievm0"
          ],
          [
           "destinythegame",
           "AmbidextrousWaffle",
           "https://www.reddit.com/r/DestinyTheGame/comments/eieyjd/for_normal_crucible_can_we_please_go_back_to/",
           "eieyjd"
          ],
          [
           "destinythegame",
           "vivereFerrari",
           "https://www.reddit.com/r/DestinyTheGame/comments/eiezfu/how_much_of_an_xp_boost_is_shared_wisdom_does_the/",
           "eiezfu"
          ],
          [
           "destinythegame",
           "MB22283",
           "https://www.reddit.com/r/DestinyTheGame/comments/eif2k6/when_you_have_limited_time_to_play_9_patrols/",
           "eif2k6"
          ],
          [
           "destinythegame",
           "firstheir",
           "https://www.reddit.com/r/DestinyTheGame/comments/eif2ld/third_week_of_all_pinnacle_drops_being_weapons/",
           "eif2ld"
          ],
          [
           "destinythegame",
           "Kevins_Auskaps",
           "https://www.reddit.com/r/DestinyTheGame/comments/eif4yz/truth_quest_not_working/",
           "eif4yz"
          ],
          [
           "destinythegame",
           "HungerReaper",
           "https://www.reddit.com/r/DestinyTheGame/comments/eif6po/guys_i_just_figured_out_how_we_can_get_the_magic/",
           "eif6po"
          ],
          [
           "destinythegame",
           "lighting828",
           "https://www.reddit.com/r/DestinyTheGame/comments/eif8hk/sorry_to_those_poor_souls_of_the_game_i_joined/",
           "eif8hk"
          ],
          [
           "destinythegame",
           "OthinusShmothinus",
           "https://www.reddit.com/r/DestinyTheGame/comments/eif9hu/bungie_please_fix_the_edz_obelisk/",
           "eif9hu"
          ],
          [
           "destinythegame",
           "RoffronSherien",
           "https://www.reddit.com/r/DestinyTheGame/comments/eifewv/eververse_frostveil_on_sale/",
           "eifewv"
          ],
          [
           "destinythegame",
           "khazixian",
           "https://www.reddit.com/r/DestinyTheGame/comments/eifh6m/resetting_infamy_rank_undos_quest_progress_for/",
           "eifh6m"
          ],
          [
           "destinythegame",
           "DaBadGuy13",
           "https://www.reddit.com/r/DestinyTheGame/comments/eifljk/buff_tarrabah/",
           "eifljk"
          ],
          [
           "destinythegame",
           "Caxu",
           "https://www.reddit.com/r/DestinyTheGame/comments/eifney/the_blade_barrage_ballerinas_have_to_the_tower_to/",
           "eifney"
          ],
          [
           "destinythegame",
           "AmbidextrousWaffle",
           "https://www.reddit.com/r/DestinyTheGame/comments/eifoca/the_crucible_is_in_the_worst_state_it_has_ever/",
           "eifoca"
          ],
          [
           "destinythegame",
           "TheAlcaeus",
           "https://www.reddit.com/r/DestinyTheGame/comments/eifp39/exotic_titan_gauntlet_idea/",
           "eifp39"
          ],
          [
           "destinythegame",
           "berndguggi",
           "https://www.reddit.com/r/DestinyTheGame/comments/eifraf/the_hunt_for_anarchy_12_runs_since_update_only/",
           "eifraf"
          ],
          [
           "destinythegame",
           "death2rum",
           "https://www.reddit.com/r/DestinyTheGame/comments/eifv6t/instant_supers_in_any_activity/",
           "eifv6t"
          ],
          [
           "destinythegame",
           "AgentOrang_Jpg",
           "https://www.reddit.com/r/DestinyTheGame/comments/eifygd/grenade_launchers_with_spike_grenades/",
           "eifygd"
          ],
          [
           "destinythegame",
           "kashaan_lucifer",
           "https://www.reddit.com/r/DestinyTheGame/comments/eifzan/easiest_exotic_hand_cannon_to_obtain/",
           "eifzan"
          ],
          [
           "destinythegame",
           "Kierok3",
           "https://www.reddit.com/r/DestinyTheGame/comments/eig0ga/a_champion_has_appeared_has_disappeared/",
           "eig0ga"
          ],
          [
           "destinythegame",
           "elsexyboygian",
           "https://www.reddit.com/r/DestinyTheGame/comments/eig3py/destiny_2_we_need_to_talk_about_text_to_chat_and/",
           "eig3py"
          ],
          [
           "destinythegame",
           "thebutinator",
           "https://www.reddit.com/r/DestinyTheGame/comments/eig8ph/tlw_change/",
           "eig8ph"
          ],
          [
           "destinythegame",
           "SurrealLogic",
           "https://www.reddit.com/r/DestinyTheGame/comments/eigbsc/casual_player_endgame/",
           "eigbsc"
          ],
          [
           "destinythegame",
           "gor8884",
           "https://www.reddit.com/r/DestinyTheGame/comments/eigemk/new_years_resolutions/",
           "eigemk"
          ],
          [
           "destinythegame",
           "OPgamerlife",
           "https://www.reddit.com/r/DestinyTheGame/comments/eigg3r/size_of_shadowkeep_and_forsaken_on_ps4/",
           "eigg3r"
          ],
          [
           "destinythegame",
           "GuardianDestinyGuide",
           "https://www.reddit.com/r/DestinyTheGame/comments/eigioa/it_will_amazing_if_wearing_a_complete_armor_set/",
           "eigioa"
          ],
          [
           "destinythegame",
           "Ultra_Unusual",
           "https://www.reddit.com/r/DestinyTheGame/comments/eigki7/i_would_gladly_give_up_my_grenade_and_melee/",
           "eigki7"
          ],
          [
           "destinythegame",
           "DarkPulseHD",
           "https://www.reddit.com/r/DestinyTheGame/comments/eigkk4/riven_sword_cheese/",
           "eigkk4"
          ],
          [
           "destinythegame",
           "Saeya_Gaming",
           "https://www.reddit.com/r/DestinyTheGame/comments/eigl29/despite_constant_development_and_new_updates_and/",
           "eigl29"
          ],
          [
           "destinythegame",
           "ivorybloodsh3d",
           "https://www.reddit.com/r/DestinyTheGame/comments/eigmvp/where_was_our_update_to_ward_of_dawn/",
           "eigmvp"
          ],
          [
           "destinythegame",
           "ChristmasBacon1001",
           "https://www.reddit.com/r/DestinyTheGame/comments/eigncw/which_tether_is_better/",
           "eigncw"
          ],
          [
           "destinythegame",
           "bacterialtrailer",
           "https://www.reddit.com/r/DestinyTheGame/comments/eigqjy/warlock_the_afro_haired_step_child_of_bungie/",
           "eigqjy"
          ],
          [
           "destinythegame",
           "Xerriim",
           "https://www.reddit.com/r/DestinyTheGame/comments/eigrmv/feeling_overwhelmed/",
           "eigrmv"
          ],
          [
           "destinythegame",
           "Sarge184",
           "https://www.reddit.com/r/DestinyTheGame/comments/eigv87/huckleberry_catalyst/",
           "eigv87"
          ],
          [
           "destinythegame",
           "Frostyhobo47",
           "https://www.reddit.com/r/DestinyTheGame/comments/eigxl3/ive_never_talked_to_a_d1_vet_that_honestly/",
           "eigxl3"
          ],
          [
           "destinythegame",
           "SmurfStop",
           "https://www.reddit.com/r/DestinyTheGame/comments/eigygn/do_i_need_to_finish_all_encounter_for_a_chance_at/",
           "eigygn"
          ],
          [
           "destinythegame",
           "Dreid2025",
           "https://www.reddit.com/r/DestinyTheGame/comments/eigzmo/do_you_guys_have_any_clue_if_you_can_get_the/",
           "eigzmo"
          ],
          [
           "destinythegame",
           "harishcs",
           "https://www.reddit.com/r/DestinyTheGame/comments/eih1l4/cant_pick_up_banshee44s_precision_kills_weekly/",
           "eih1l4"
          ],
          [
           "destinythegame",
           "Leny1000",
           "https://www.reddit.com/r/DestinyTheGame/comments/eih1su/help_with_the_ascent/",
           "eih1su"
          ],
          [
           "destinythegame",
           "IronicIrony8",
           "https://www.reddit.com/r/DestinyTheGame/comments/eih2rv/issues_with_quests_heart_of_the_dragon_season_9/",
           "eih2rv"
          ],
          [
           "destinythegame",
           "devjj",
           "https://www.reddit.com/r/DestinyTheGame/comments/eih3v5/guitar_errors_in_gambit/",
           "eih3v5"
          ],
          [
           "destinythegame",
           "Hechtm11",
           "https://www.reddit.com/r/DestinyTheGame/comments/eih7ec/new_exotic_weapon_ideas/",
           "eih7ec"
          ],
          [
           "destinythegame",
           "sephoud",
           "https://www.reddit.com/r/DestinyTheGame/comments/eih92l/building_off_of_the_sparrow_20_idea/",
           "eih92l"
          ],
          [
           "destinythegame",
           "vanderzee",
           "https://www.reddit.com/r/DestinyTheGame/comments/eih95d/rose_quest_kill_invader_bugged/",
           "eih95d"
          ],
          [
           "destinythegame",
           "Cynaren",
           "https://www.reddit.com/r/DestinyTheGame/comments/eihdkx/shards_of_galanor_is_broken_in_mayhem_and_yes_it/",
           "eihdkx"
          ],
          [
           "destinythegame",
           "TheRealTTN",
           "https://www.reddit.com/r/DestinyTheGame/comments/eihhow/is_there_a_200k_threshold_for_nightfalls/",
           "eihhow"
          ],
          [
           "destinythegame",
           "anuslikker99",
           "https://www.reddit.com/r/DestinyTheGame/comments/eihk6n/the_thing_i_miss_the_most_in_this_mmo/",
           "eihk6n"
          ],
          [
           "destinythegame",
           "BlackTides",
           "https://www.reddit.com/r/DestinyTheGame/comments/eihkqk/how_much_range_to_the_ohk_range_of_a_mindbenders/",
           "eihkqk"
          ],
          [
           "destinythegame",
           "Ariatexas",
           "https://www.reddit.com/r/DestinyTheGame/comments/eihl3j/do_you_get_points_on_reset_after_you_hit_5000/",
           "eihl3j"
          ],
          [
           "destinythegame",
           "BrimbornSteelWorks",
           "https://www.reddit.com/r/DestinyTheGame/comments/eihl42/which_one_do_i_buy/",
           "eihl42"
          ],
          [
           "destinythegame",
           "itskiser",
           "https://www.reddit.com/r/DestinyTheGame/comments/eihm2m/competitive_matchmaking_is_a_rageinducing/",
           "eihm2m"
          ],
          [
           "destinythegame",
           "Cwirmon",
           "https://www.reddit.com/r/DestinyTheGame/comments/eihn7y/what_is_your_op_nightfall_loadout/",
           "eihn7y"
          ],
          [
           "destinythegame",
           "Vegeta_SB13",
           "https://www.reddit.com/r/DestinyTheGame/comments/eihnic/what_is_better_spare_rations_or_lunas_howl/",
           "eihnic"
          ],
          [
           "destinythegame",
           "Bane_of_Ruby",
           "https://www.reddit.com/r/DestinyTheGame/comments/eiho6t/why_are_we_still_getting_recycled_cosmetics_in/",
           "eiho6t"
          ],
          [
           "destinythegame",
           "segaselsky",
           "https://www.reddit.com/r/DestinyTheGame/comments/eihvo0/symmetry_masterwork_should_re_introduce_spray_and/",
           "eihvo0"
          ],
          [
           "destinythegame",
           "Lalakoola",
           "https://www.reddit.com/r/DestinyTheGame/comments/eihz55/can_we_finally_buff_sleeper_and_maybe_move/",
           "eihz55"
          ],
          [
           "destinythegame",
           "Osiris-Reflection",
           "https://www.reddit.com/r/DestinyTheGame/comments/eihzc6/blink_deserves_a_rework_or_buff/",
           "eihzc6"
          ],
          [
           "destinythegame",
           "DTG_Bot",
           "https://www.reddit.com/r/DestinyTheGame/comments/eii443/daily_questions_20200101/",
           "eii443"
          ],
          [
           "destinythegame",
           "DTG_Bot",
           "https://www.reddit.com/r/DestinyTheGame/comments/eii45k/daily_thread_rant_wednesday/",
           "eii45k"
          ],
          [
           "destinythegame",
           "Gidedin",
           "https://www.reddit.com/r/DestinyTheGame/comments/eiibot/i_opened_84_bright_engrams_so_far_in_this_season/",
           "eiibot"
          ],
          [
           "destinythegame",
           "KISSMYTAIL",
           "https://www.reddit.com/r/DestinyTheGame/comments/eiifuj/i_wouldnt_mind_power_creep_if_im_having_fun/",
           "eiifuj"
          ],
          [
           "destinythegame",
           "Paradox_VII",
           "https://www.reddit.com/r/DestinyTheGame/comments/eiimiw/best_place_to_kill_any_known_farms_for_vex_on_the/",
           "eiimiw"
          ],
          [
           "destinythegame",
           "Ultra1101",
           "https://www.reddit.com/r/DestinyTheGame/comments/eiinfk/after_playing_destiny_2_on_an_ultrabook_on_a_trip/",
           "eiinfk"
          ],
          [
           "destinythegame",
           "Cwirmon",
           "https://www.reddit.com/r/DestinyTheGame/comments/eiinow/gunsmith_weekly_bounties_are_bugged/",
           "eiinow"
          ],
          [
           "destinythegame",
           "TheBastidiousBomber",
           "https://www.reddit.com/r/DestinyTheGame/comments/eiinwp/holiday_oven_masterwork/",
           "eiinwp"
          ],
          [
           "destinythegame",
           "curdburglar",
           "https://www.reddit.com/r/DestinyTheGame/comments/eiior9/its_a_new_year_lets_all_come_together_and_make/",
           "eiior9"
          ],
          [
           "destinythegame",
           "liamsnorthstar",
           "https://www.reddit.com/r/DestinyTheGame/comments/eiirbi/happy_new_year_guardians_silly_question_but_do/",
           "eiirbi"
          ],
          [
           "destinythegame",
           "jayman1216",
           "https://www.reddit.com/r/DestinyTheGame/comments/eiit4n/seasonal_content/",
           "eiit4n"
          ],
          [
           "destinythegame",
           "coles_man_mcjones",
           "https://www.reddit.com/r/DestinyTheGame/comments/eiiwhu/just_got_banned_for_no_reason/",
           "eiiwhu"
          ],
          [
           "destinythegame",
           "Narot2342",
           "https://www.reddit.com/r/DestinyTheGame/comments/eiiwi9/helpful_tip_antialiasing_improved_nvidia/",
           "eiiwi9"
          ],
          [
           "destinythegame",
           "6519719Mm",
           "https://www.reddit.com/r/DestinyTheGame/comments/eiiwk0/sundial_obelisk_rewards/",
           "eiiwk0"
          ],
          [
           "destinythegame",
           "gusluke",
           "https://www.reddit.com/r/DestinyTheGame/comments/eiiwwe/proposal_to_the_community_about_trials/",
           "eiiwwe"
          ],
          [
           "destinythegame",
           "Syixice",
           "https://www.reddit.com/r/DestinyTheGame/comments/eij0b4/season_8_strike_exotic_bow_quest/",
           "eij0b4"
          ],
          [
           "destinythegame",
           "johnsolomon",
           "https://www.reddit.com/r/DestinyTheGame/comments/eij1l5/should_comp_introduce_a_progression_system_like/",
           "eij1l5"
          ],
          [
           "destinythegame",
           "Awoken-Queen",
           "https://www.reddit.com/r/DestinyTheGame/comments/eij1p5/looks_like_i_will_become_a_permanent_fireteam/",
           "eij1p5"
          ],
          [
           "destinythegame",
           "Unearthedrin",
           "https://www.reddit.com/r/DestinyTheGame/comments/eij5m0/titan_shield_throwing/",
           "eij5m0"
          ],
          [
           "destinythegame",
           "Goldenfang08",
           "https://www.reddit.com/r/DestinyTheGame/comments/eij6lf/warlock_melee_ability_kills/",
           "eij6lf"
          ],
          [
           "destinythegame",
           "subtlecalamity",
           "https://www.reddit.com/r/DestinyTheGame/comments/eijavm/so_why_werent_previous_dawning_sets_made/",
           "eijavm"
          ],
          [
           "destinythegame",
           "AntoReakk",
           "https://www.reddit.com/r/DestinyTheGame/comments/eijd4k/two_shriekers_one_warlock/",
           "eijd4k"
          ],
          [
           "destinythegame",
           "i4viator",
           "https://www.reddit.com/r/DestinyTheGame/comments/eijer3/we_need_an_option_to_see_the_map_while_on_our/",
           "eijer3"
          ],
          [
           "destinythegame",
           "337soft",
           "https://www.reddit.com/r/DestinyTheGame/comments/eijfp3/leviathan_faceplant/",
           "eijfp3"
          ],
          [
           "destinythegame",
           "Slimschutte8",
           "https://www.reddit.com/r/DestinyTheGame/comments/eijg58/legacy_campaigns/",
           "eijg58"
          ],
          [
           "destinythegame",
           "UldrensVibrator",
           "https://www.reddit.com/r/DestinyTheGame/comments/eijghu/lord_saladin_redesign_picsinfographic/",
           "eijghu"
          ],
          [
           "destinythegame",
           "x_pac13",
           "https://www.reddit.com/r/DestinyTheGame/comments/eijgug/have_glory_carry_over_between_seasons/",
           "eijgug"
          ],
          [
           "destinythegame",
           "FourPharaohs",
           "https://www.reddit.com/r/DestinyTheGame/comments/eijiom/the_tower_trials_weekly_faction_warbased_pvp_event/",
           "eijiom"
          ],
          [
           "destinythegame",
           "AresBloodwrath",
           "https://www.reddit.com/r/DestinyTheGame/comments/eijp82/trials_of_the_nine_idea/",
           "eijp82"
          ],
          [
           "destinythegame",
           "Skifer91290",
           "https://www.reddit.com/r/DestinyTheGame/comments/eijq0s/hey_bungie_can_you_give_us_some_gambit_events/",
           "eijq0s"
          ],
          [
           "destinythegame",
           "Ginsor",
           "https://www.reddit.com/r/DestinyTheGame/comments/eijqdu/ginsor_destiny_2_audiotool_ii/",
           "eijqdu"
          ],
          [
           "destinythegame",
           "TeneKay",
           "https://www.reddit.com/r/DestinyTheGame/comments/eijr9n/dawning_hope_shader/",
           "eijr9n"
          ],
          [
           "destinythegame",
           "nufrancis",
           "https://www.reddit.com/r/DestinyTheGame/comments/eijrdg/dawning_sparrow_quest_disappeared/",
           "eijrdg"
          ],
          [
           "destinythegame",
           "ARBITERUMBRA",
           "https://www.reddit.com/r/DestinyTheGame/comments/eijv9j/hybrid_frame/",
           "eijv9j"
          ],
          [
           "destinythegame",
           "Wess-L",
           "https://www.reddit.com/r/DestinyTheGame/comments/eijxaw/bungie_how_come_in_d1_you_could_farm_the_best_pvp/",
           "eijxaw"
          ],
          [
           "destinythegame",
           "TylerFortierPhoto",
           "https://www.reddit.com/r/DestinyTheGame/comments/eik3ec/if_you_want_to_be_lazy_reacquiring_the_forsaken/",
           "eik3ec"
          ],
          [
           "destinythegame",
           "X_C-GAMES-G_X",
           "https://www.reddit.com/r/DestinyTheGame/comments/eik3v0/volundr_forge/",
           "eik3v0"
          ],
          [
           "destinythegame",
           "DrTaylorB",
           "https://www.reddit.com/r/DestinyTheGame/comments/eik5o1/how_to_give_riven_her_damn_cookies/",
           "eik5o1"
          ],
          [
           "destinythegame",
           "Not_An_Ahamkara",
           "https://www.reddit.com/r/DestinyTheGame/comments/eik5ym/what_is_the_best_roll_for_gf/",
           "eik5ym"
          ],
          [
           "destinythegame",
           "Boohma",
           "https://www.reddit.com/r/DestinyTheGame/comments/eik68e/völundr_key_bug/",
           "eik68e"
          ],
          [
           "destinythegame",
           "Kobraguy90",
           "https://www.reddit.com/r/DestinyTheGame/comments/eik79k/destiny_2_no_longer_working_in_the_year_2020/",
           "eik79k"
          ],
          [
           "destinythegame",
           "Skifer91290",
           "https://www.reddit.com/r/DestinyTheGame/comments/eik874/there_are_3_strikes_with_no_rewards_fix_this/",
           "eik874"
          ],
          [
           "destinythegame",
           "HydraX_Slayer",
           "https://www.reddit.com/r/DestinyTheGame/comments/eik8rq/black_armoury_bugged/",
           "eik8rq"
          ],
          [
           "destinythegame",
           "canondocre",
           "https://www.reddit.com/r/DestinyTheGame/comments/eikd0n/can_someone_explain_the_best_way_to_approach/",
           "eikd0n"
          ],
          [
           "destinythegame",
           "Ret0x",
           "https://www.reddit.com/r/DestinyTheGame/comments/eike78/ships_in_orbit_with_shiny_shaders_always_look/",
           "eike78"
          ]
         ],
         "hoverlabel": {
          "namelength": 0
         },
         "hovertemplate": "subreddit=%{customdata[0]}<br>Date Posted=%{x}<br>Post Polarity=%{y}<br>author=%{customdata[1]}<br>url=%{customdata[2]}<br>id=%{customdata[3]}",
         "legendgroup": "subreddit=destinythegame",
         "marker": {
          "color": "blue",
          "symbol": "circle"
         },
         "mode": "markers",
         "name": "subreddit=destinythegame",
         "showlegend": true,
         "type": "scatter",
         "x": [
          "2019-12-31T16:51:27",
          "2019-12-31T16:53:42",
          "2019-12-31T17:03:49",
          "2019-12-31T17:04:49",
          "2019-12-31T17:05:11",
          "2019-12-31T17:05:14",
          "2019-12-31T17:06:28",
          "2019-12-31T17:08:27",
          "2019-12-31T17:08:35",
          "2019-12-31T17:09:21",
          "2019-12-31T17:09:26",
          "2019-12-31T17:13:06",
          "2019-12-31T17:14:47",
          "2019-12-31T17:17:01",
          "2019-12-31T17:17:56",
          "2019-12-31T17:20:55",
          "2019-12-31T17:22:17",
          "2019-12-31T17:23:06",
          "2019-12-31T17:23:28",
          "2019-12-31T17:26:34",
          "2019-12-31T17:27:15",
          "2019-12-31T17:27:32",
          "2019-12-31T17:32:27",
          "2019-12-31T17:44:35",
          "2019-12-31T17:45:32",
          "2019-12-31T17:46:13",
          "2019-12-31T17:50:29",
          "2019-12-31T17:51:09",
          "2019-12-31T17:54:00",
          "2019-12-31T17:55:02",
          "2019-12-31T17:56:37",
          "2019-12-31T17:59:47",
          "2019-12-31T18:05:07",
          "2019-12-31T18:05:30",
          "2019-12-31T18:06:51",
          "2019-12-31T18:07:30",
          "2019-12-31T18:09:42",
          "2019-12-31T18:10:47",
          "2019-12-31T18:11:30",
          "2019-12-31T18:12:20",
          "2019-12-31T18:12:28",
          "2019-12-31T18:14:10",
          "2019-12-31T18:15:31",
          "2019-12-31T18:18:02",
          "2019-12-31T18:23:22",
          "2019-12-31T18:23:46",
          "2019-12-31T18:28:27",
          "2019-12-31T18:31:00",
          "2019-12-31T18:32:33",
          "2019-12-31T18:34:03",
          "2019-12-31T18:39:54",
          "2019-12-31T18:39:59",
          "2019-12-31T18:41:20",
          "2019-12-31T18:45:16",
          "2019-12-31T18:50:03",
          "2019-12-31T18:51:31",
          "2019-12-31T18:53:54",
          "2019-12-31T18:54:47",
          "2019-12-31T18:56:23",
          "2019-12-31T18:58:17",
          "2019-12-31T18:58:19",
          "2019-12-31T19:00:59",
          "2019-12-31T19:00:59",
          "2019-12-31T19:03:50",
          "2019-12-31T19:05:07",
          "2019-12-31T19:14:36",
          "2019-12-31T19:17:13",
          "2019-12-31T19:17:52",
          "2019-12-31T19:32:58",
          "2019-12-31T19:38:11",
          "2019-12-31T19:43:22",
          "2019-12-31T19:44:36",
          "2019-12-31T19:46:12",
          "2019-12-31T19:48:43",
          "2019-12-31T19:50:45",
          "2019-12-31T19:53:15",
          "2019-12-31T19:53:51",
          "2019-12-31T19:55:15",
          "2019-12-31T19:55:21",
          "2019-12-31T19:57:05",
          "2019-12-31T19:58:18",
          "2019-12-31T20:01:34",
          "2019-12-31T20:02:14",
          "2019-12-31T20:05:27",
          "2019-12-31T20:07:16",
          "2019-12-31T20:10:36",
          "2019-12-31T20:11:39",
          "2019-12-31T20:11:51",
          "2019-12-31T20:14:27",
          "2019-12-31T20:18:07",
          "2019-12-31T20:23:51",
          "2019-12-31T20:26:41",
          "2019-12-31T20:27:33",
          "2019-12-31T20:30:27",
          "2019-12-31T20:34:37",
          "2019-12-31T20:39:20",
          "2019-12-31T20:40:33",
          "2019-12-31T20:41:28",
          "2019-12-31T20:42:52",
          "2019-12-31T20:48:40",
          "2019-12-31T20:49:52",
          "2019-12-31T20:50:19",
          "2019-12-31T20:52:22",
          "2019-12-31T20:52:36",
          "2019-12-31T20:58:37",
          "2019-12-31T20:59:08",
          "2019-12-31T20:59:23",
          "2019-12-31T21:05:26",
          "2019-12-31T21:08:40",
          "2019-12-31T21:11:44",
          "2019-12-31T21:14:41",
          "2019-12-31T21:15:43",
          "2019-12-31T21:23:52",
          "2019-12-31T21:25:36",
          "2019-12-31T21:28:32",
          "2019-12-31T21:30:54",
          "2019-12-31T21:31:18",
          "2019-12-31T21:32:17",
          "2019-12-31T21:33:20",
          "2019-12-31T21:35:30",
          "2019-12-31T21:36:31",
          "2019-12-31T21:39:43",
          "2019-12-31T21:41:27",
          "2019-12-31T21:44:10",
          "2019-12-31T21:48:23",
          "2019-12-31T21:50:18",
          "2019-12-31T21:51:19",
          "2019-12-31T21:52:00",
          "2019-12-31T21:52:53",
          "2019-12-31T21:55:14",
          "2019-12-31T21:55:44",
          "2019-12-31T21:57:53",
          "2019-12-31T21:59:26",
          "2019-12-31T22:01:06",
          "2019-12-31T22:01:18",
          "2019-12-31T22:01:48",
          "2019-12-31T22:05:20",
          "2019-12-31T22:06:50",
          "2019-12-31T22:06:59",
          "2019-12-31T22:07:41",
          "2019-12-31T22:14:39",
          "2019-12-31T22:16:56",
          "2019-12-31T22:21:05",
          "2019-12-31T22:25:14",
          "2019-12-31T22:26:24",
          "2019-12-31T22:28:37",
          "2019-12-31T22:29:04",
          "2019-12-31T22:30:55",
          "2019-12-31T22:32:17",
          "2019-12-31T22:38:16",
          "2019-12-31T22:40:18",
          "2019-12-31T22:40:44",
          "2019-12-31T22:40:54",
          "2019-12-31T22:45:47",
          "2019-12-31T22:47:28",
          "2019-12-31T22:48:32",
          "2019-12-31T22:54:45",
          "2019-12-31T22:54:57",
          "2019-12-31T22:59:12",
          "2019-12-31T23:00:48",
          "2019-12-31T23:01:35",
          "2019-12-31T23:02:39",
          "2019-12-31T23:04:14",
          "2019-12-31T23:04:46",
          "2019-12-31T23:07:46",
          "2019-12-31T23:09:04",
          "2019-12-31T23:11:25",
          "2019-12-31T23:11:58",
          "2019-12-31T23:18:44",
          "2019-12-31T23:19:29",
          "2019-12-31T23:28:30",
          "2019-12-31T23:30:32",
          "2019-12-31T23:30:33",
          "2019-12-31T23:32:48",
          "2019-12-31T23:35:50",
          "2019-12-31T23:38:35",
          "2019-12-31T23:38:53",
          "2019-12-31T23:39:17",
          "2019-12-31T23:45:47",
          "2019-12-31T23:52:54",
          "2020-01-01T00:12:42",
          "2020-01-01T00:13:57",
          "2020-01-01T00:14:58",
          "2020-01-01T00:16:38",
          "2020-01-01T00:26:51",
          "2020-01-01T00:28:44",
          "2020-01-01T00:29:16",
          "2020-01-01T00:30:47",
          "2020-01-01T00:34:26",
          "2020-01-01T00:34:41",
          "2020-01-01T00:38:53",
          "2020-01-01T00:44:36",
          "2020-01-01T00:51:50",
          "2020-01-01T00:52:37",
          "2020-01-01T00:53:20",
          "2020-01-01T00:54:54",
          "2020-01-01T00:55:40",
          "2020-01-01T00:56:14",
          "2020-01-01T00:57:13",
          "2020-01-01T01:05:53",
          "2020-01-01T01:11:46",
          "2020-01-01T01:11:57",
          "2020-01-01T01:13:35",
          "2020-01-01T01:15:22",
          "2020-01-01T01:17:02",
          "2020-01-01T01:26:18",
          "2020-01-01T01:26:31",
          "2020-01-01T01:29:18",
          "2020-01-01T01:38:51",
          "2020-01-01T01:54:11",
          "2020-01-01T01:58:04",
          "2020-01-01T02:00:37",
          "2020-01-01T02:01:55",
          "2020-01-01T02:05:18",
          "2020-01-01T02:06:04",
          "2020-01-01T02:06:34",
          "2020-01-01T02:08:56",
          "2020-01-01T02:09:09",
          "2020-01-01T02:21:19",
          "2020-01-01T02:26:44",
          "2020-01-01T02:34:05",
          "2020-01-01T02:34:23",
          "2020-01-01T02:41:38",
          "2020-01-01T02:45:21",
          "2020-01-01T02:49:08",
          "2020-01-01T02:50:16",
          "2020-01-01T02:53:20",
          "2020-01-01T02:53:52",
          "2020-01-01T02:54:23",
          "2020-01-01T03:01:12",
          "2020-01-01T03:03:47",
          "2020-01-01T03:05:04",
          "2020-01-01T03:09:20",
          "2020-01-01T03:14:52",
          "2020-01-01T03:14:58",
          "2020-01-01T03:17:29",
          "2020-01-01T03:18:02",
          "2020-01-01T03:22:35",
          "2020-01-01T03:26:54",
          "2020-01-01T03:27:30",
          "2020-01-01T03:29:00",
          "2020-01-01T03:32:54",
          "2020-01-01T03:44:45",
          "2020-01-01T03:47:59",
          "2020-01-01T03:48:31",
          "2020-01-01T03:52:42",
          "2020-01-01T04:00:52",
          "2020-01-01T04:01:00",
          "2020-01-01T04:01:54",
          "2020-01-01T04:03:15",
          "2020-01-01T04:06:13",
          "2020-01-01T04:07:17",
          "2020-01-01T04:08:28",
          "2020-01-01T04:39:32",
          "2020-01-01T04:40:15",
          "2020-01-01T04:40:31",
          "2020-01-01T04:46:17",
          "2020-01-01T04:47:36",
          "2020-01-01T04:48:41",
          "2020-01-01T04:52:40",
          "2020-01-01T04:54:19",
          "2020-01-01T04:55:14",
          "2020-01-01T05:01:46",
          "2020-01-01T05:03:48",
          "2020-01-01T05:04:39",
          "2020-01-01T05:05:30",
          "2020-01-01T05:14:49",
          "2020-01-01T05:16:25",
          "2020-01-01T05:20:58",
          "2020-01-01T05:24:07",
          "2020-01-01T05:33:58",
          "2020-01-01T05:39:03",
          "2020-01-01T05:40:55",
          "2020-01-01T05:42:09",
          "2020-01-01T05:57:07",
          "2020-01-01T06:02:53",
          "2020-01-01T06:10:24",
          "2020-01-01T06:12:59",
          "2020-01-01T06:22:05",
          "2020-01-01T06:22:11",
          "2020-01-01T06:29:41",
          "2020-01-01T06:35:19",
          "2020-01-01T06:40:56",
          "2020-01-01T06:43:49",
          "2020-01-01T07:01:11",
          "2020-01-01T07:08:01",
          "2020-01-01T07:22:57",
          "2020-01-01T07:29:45",
          "2020-01-01T07:32:54",
          "2020-01-01T07:35:28",
          "2020-01-01T07:43:05",
          "2020-01-01T07:56:13",
          "2020-01-01T08:07:04",
          "2020-01-01T08:09:37",
          "2020-01-01T08:13:27",
          "2020-01-01T08:25:03",
          "2020-01-01T08:43:41",
          "2020-01-01T08:55:32",
          "2020-01-01T09:06:17",
          "2020-01-01T09:11:58",
          "2020-01-01T09:21:37",
          "2020-01-01T09:29:17",
          "2020-01-01T09:29:32",
          "2020-01-01T09:31:35",
          "2020-01-01T09:38:10",
          "2020-01-01T09:39:47",
          "2020-01-01T09:52:13",
          "2020-01-01T09:56:31",
          "2020-01-01T10:09:49",
          "2020-01-01T10:18:18",
          "2020-01-01T10:21:45",
          "2020-01-01T10:26:19",
          "2020-01-01T10:34:15",
          "2020-01-01T10:35:08",
          "2020-01-01T10:38:58",
          "2020-01-01T10:43:10",
          "2020-01-01T10:57:21",
          "2020-01-01T11:03:41",
          "2020-01-01T11:04:01",
          "2020-01-01T11:20:23",
          "2020-01-01T11:36:32",
          "2020-01-01T11:46:18",
          "2020-01-01T11:48:33",
          "2020-01-01T11:49:55",
          "2020-01-01T11:49:58",
          "2020-01-01T11:53:38",
          "2020-01-01T11:58:16",
          "2020-01-01T11:59:24",
          "2020-01-01T12:01:49",
          "2020-01-01T12:30:08",
          "2020-01-01T12:42:55",
          "2020-01-01T12:43:36",
          "2020-01-01T13:01:01",
          "2020-01-01T13:01:09",
          "2020-01-01T13:27:10",
          "2020-01-01T13:41:27",
          "2020-01-01T14:03:07",
          "2020-01-01T14:05:51",
          "2020-01-01T14:06:40",
          "2020-01-01T14:07:19",
          "2020-01-01T14:10:03",
          "2020-01-01T14:17:48",
          "2020-01-01T14:23:04",
          "2020-01-01T14:33:00",
          "2020-01-01T14:33:02",
          "2020-01-01T14:33:11",
          "2020-01-01T14:34:18",
          "2020-01-01T14:44:20",
          "2020-01-01T14:47:52",
          "2020-01-01T14:48:13",
          "2020-01-01T14:59:17",
          "2020-01-01T15:01:58",
          "2020-01-01T15:13:02",
          "2020-01-01T15:19:09",
          "2020-01-01T15:23:28",
          "2020-01-01T15:26:02",
          "2020-01-01T15:27:12",
          "2020-01-01T15:28:07",
          "2020-01-01T15:28:58",
          "2020-01-01T15:34:02",
          "2020-01-01T15:50:54",
          "2020-01-01T15:52:54",
          "2020-01-01T15:53:51",
          "2020-01-01T15:55:52",
          "2020-01-01T15:56:07",
          "2020-01-01T16:05:25",
          "2020-01-01T16:10:27",
          "2020-01-01T16:24:52",
          "2020-01-01T16:25:58",
          "2020-01-01T16:30:09",
          "2020-01-01T16:30:51",
          "2020-01-01T16:31:23",
          "2020-01-01T16:33:51",
          "2020-01-01T16:36:01",
          "2020-01-01T16:37:27",
          "2020-01-01T16:47:17",
          "2020-01-01T16:49:50"
         ],
         "xaxis": "x",
         "y": [
          -0.37500000000000006,
          0.20554108796296297,
          0.1481290849673203,
          -0.05,
          0.10625,
          0,
          -0.14593253968253966,
          0.1272727272727273,
          0.16499999999999998,
          0.06158062234794907,
          0.1255980861244019,
          0.0964285714285714,
          0,
          0.07483766233766234,
          -0.09720238095238094,
          0.012121212121212116,
          0.29500000000000004,
          0.28730158730158734,
          0.06666666666666667,
          0.5,
          -0.06778198653198654,
          0.16666666666666669,
          0.16666666666666666,
          -0.050000000000000044,
          0.31,
          0.2,
          0.22828282828282828,
          0.049999999999999996,
          -0.050000000000000044,
          0.1568181818181818,
          0.22555555555555554,
          -0.08863636363636364,
          -0.024999999999999984,
          0.003737373737373745,
          0.3578125,
          0.04531746031746031,
          0,
          -0.12,
          -0.15000000000000002,
          0.17240852181328364,
          0.06145833333333334,
          -0.14583333333333334,
          0.1375,
          -0.16666666666666666,
          -0.25,
          -0.06041666666666666,
          -0.09285714285714286,
          0.008333333333333331,
          -0.03333333333333333,
          0.1,
          -0.11111111111111112,
          0.095,
          0.35,
          -0.13125,
          0.17857142857142855,
          0,
          0.375,
          -0.0747159090909091,
          -0.090625,
          -0.07037037037037033,
          0.087106357694593,
          0.125,
          0.1929814233385662,
          0.425,
          -0.11632653061224489,
          0.06864095500459137,
          0.20113636363636364,
          -0.055555555555555504,
          -0.03234551396316103,
          -0.171875,
          0.023333333333333338,
          0.5,
          0.2,
          -0.25,
          0.45,
          0,
          0.09166666666666667,
          0.4,
          -0.12301587301587302,
          0,
          -0.8,
          0.3400865800865801,
          0.13950216450216452,
          -0.21666666666666667,
          0.3477272727272727,
          -0.15,
          0,
          0.23611111111111113,
          0.25,
          0.03690476190476189,
          0.1625,
          0.13506493506493508,
          0.15833333333333333,
          0.04847060833902941,
          0.029173292693700864,
          0.4373015873015873,
          0,
          0.2526515151515152,
          0.11111111111111112,
          -0.2,
          0,
          0.2562388591800357,
          0.03666666666666666,
          0.061805555555555544,
          0.22551020408163264,
          0.16666666666666666,
          0.1602891156462585,
          0.2337403337403338,
          0.20777777777777778,
          0.056842918985776106,
          0.17670454545454548,
          0.14285714285714285,
          0,
          -0.17499999999999996,
          -0.06845238095238096,
          0.3,
          0.1393960895616525,
          0.15,
          0.04791666666666665,
          0.05,
          0,
          0,
          0.1429920634920635,
          0.03566666666666666,
          -0.1,
          0.19444444444444445,
          -0.11666666666666665,
          -0.05,
          0.5060606060606061,
          0,
          0.1,
          0.12916666666666665,
          0.2,
          -0.1,
          0.10714285714285714,
          0.107009657009657,
          0.14615384615384616,
          0.06666666666666665,
          0,
          0.20069444444444445,
          0.47999999999999987,
          -0.07638888888888888,
          -0.13333333333333333,
          0.19999999999999998,
          1,
          0.2,
          0.8,
          0.4454545454545455,
          0.12878787878787878,
          -0.13999999999999999,
          0.18125,
          0.16666666666666666,
          -0.075,
          0.45,
          0.12857142857142856,
          0.5,
          0.05059523809523809,
          0.25,
          0.12227272727272727,
          0.15959595959595962,
          0.12000000000000002,
          0.35,
          -0.25,
          0.5,
          0.09999999999999998,
          0.5166666666666667,
          0.25,
          0.2128787878787879,
          -0.08611111111111114,
          0.2,
          0.03333333333333333,
          0.08650793650793652,
          0.25999999999999995,
          0.11716212121212123,
          0,
          0.009999999999999998,
          0,
          0.03474025974025974,
          0.31338095238095237,
          0.09983766233766234,
          0.16249999999999998,
          0.15892857142857142,
          0.04285714285714286,
          0.10944444444444443,
          0.15892857142857142,
          -0.5,
          0.5290909090909091,
          0.39015151515151514,
          0,
          0.04545454545454545,
          -0.050000000000000044,
          -0.013888888888888902,
          0.3666666666666667,
          -0.2333333333333333,
          0.11818181818181818,
          0.4666666666666668,
          -0.22083333333333333,
          0.125,
          0.0964285714285714,
          0,
          -0.021428571428571436,
          0,
          0.1361111111111111,
          -0.0069444444444444475,
          0.06818181818181818,
          0.06326979472140762,
          -0.25,
          0.5234848484848484,
          0.10666666666666666,
          0.21727272727272728,
          0,
          1,
          0.0625,
          -0.05965909090909091,
          0.19318181818181818,
          -0.07891156462585035,
          -0.01957813428401664,
          0.5578282828282828,
          0.29,
          0.29545454545454547,
          0.3,
          0.2016666666666666,
          0.019999999999999997,
          0.03521205357142857,
          -0.18333333333333335,
          0.20833333333333334,
          0.3125,
          0.18727272727272729,
          0.14770267328456982,
          0.0012626262626262614,
          0.1880952380952381,
          0.04930555555555555,
          -0.06785714285714287,
          0.19004132231404958,
          0,
          0,
          -0.03621794871794872,
          -0.045312500000000006,
          -0.016666666666666677,
          0,
          0.24166666666666667,
          0,
          0.33712121212121215,
          -0.0020833333333333294,
          0,
          0.18409090909090908,
          0,
          -0.004341491841491843,
          0.175,
          -0.30000000000000004,
          0.3594444444444444,
          0.24997745310245312,
          0.04274452618202618,
          0.07857142857142858,
          0.06882284382284382,
          0,
          -0.15791666666666668,
          -0.017407407407407406,
          0.13794656358279114,
          0.19571406024531024,
          0.1568181818181818,
          -0.0888888888888889,
          0.12272727272727273,
          0.35,
          0.17402597402597406,
          0.75,
          -0.21785714285714286,
          0.047632575757575756,
          0.15,
          0.09999999999999998,
          0.25,
          0.04162037037037036,
          0.09999999999999999,
          0.35,
          0.10129870129870129,
          -0.016666666666666653,
          0.15763888888888888,
          0,
          0.09003759398496242,
          0.11943722943722941,
          -0.014583333333333351,
          0.05454545454545454,
          0.11111111111111113,
          -0.008333333333333337,
          0.19659090909090912,
          -0.025,
          0.021212121212121213,
          0.1160909090909091,
          0.08005632360471067,
          0.03333333333333333,
          0.011111111111111136,
          0.06166666666666667,
          0.25,
          0.35871212121212126,
          0.25,
          -0.022380952380952397,
          0.6720833333333334,
          0.0672979797979798,
          0,
          0,
          0.33011363636363633,
          0.07393939393939394,
          0.25,
          0.16774891774891773,
          -0.10755208333333335,
          0.16666666666666666,
          0.37777777777777777,
          -0.0062500000000000056,
          0.24833333333333335,
          0.07739714933592486,
          0,
          0.06060606060606062,
          0.026851851851851856,
          0.175,
          0.25999999999999995,
          -0.009285714285714286,
          0.2160774410774411,
          0.125,
          -0.07229437229437229,
          -0.15,
          0,
          0.033333333333333326,
          -0.08888888888888889,
          0.016666666666666663,
          0.06547619047619047,
          0.009243697478991595,
          0.33720779220779223,
          0.14545454545454542,
          0.0628509117145481,
          -0.15000000000000002,
          0.10919642857142857,
          0.10685185185185185,
          0.3099897787397787,
          0.24583333333333335,
          0.2579188107489994,
          0.16388564777236653,
          0.21666666666666665,
          0.0029761904761904747,
          0.07142857142857142,
          0.5,
          0.014583333333333337,
          0.34375,
          0.08333333333333333,
          0.1,
          -0.00833333333333334,
          0,
          0.25013061650992685,
          0.13613636363636367,
          0.11764069264069264,
          0.04999999999999999,
          0.04499999999999999,
          0.25,
          0.15083333333333332,
          -0.34074074074074073,
          0.13714285714285715,
          -0.14375,
          0,
          0.06756004489337823,
          -0.025818452380952393,
          0.17082999305221533,
          0.018928571428571427,
          0.024999999999999994,
          -0.04897186147186148,
          0.11666666666666668,
          0,
          0.21880952380952381,
          -0.019642857142857146,
          0.07924107142857142,
          0.1,
          -0.07777777777777778,
          0.22499999999999998,
          0,
          0.12272727272727273,
          0,
          0.19999999999999998,
          0.175,
          0.6
         ],
         "yaxis": "y"
        },
        {
         "alignmentgroup": "True",
         "bingroup": "x",
         "hoverlabel": {
          "namelength": 0
         },
         "hovertemplate": "subreddit=destinythegame<br>Date Posted=%{x}<br>count=%{y}",
         "legendgroup": "subreddit=destinythegame",
         "marker": {
          "color": "blue"
         },
         "name": "subreddit=destinythegame",
         "offsetgroup": "subreddit=destinythegame",
         "opacity": 0.5,
         "showlegend": false,
         "type": "histogram",
         "x": [
          "2019-12-31T16:51:27",
          "2019-12-31T16:53:42",
          "2019-12-31T17:03:49",
          "2019-12-31T17:04:49",
          "2019-12-31T17:05:11",
          "2019-12-31T17:05:14",
          "2019-12-31T17:06:28",
          "2019-12-31T17:08:27",
          "2019-12-31T17:08:35",
          "2019-12-31T17:09:21",
          "2019-12-31T17:09:26",
          "2019-12-31T17:13:06",
          "2019-12-31T17:14:47",
          "2019-12-31T17:17:01",
          "2019-12-31T17:17:56",
          "2019-12-31T17:20:55",
          "2019-12-31T17:22:17",
          "2019-12-31T17:23:06",
          "2019-12-31T17:23:28",
          "2019-12-31T17:26:34",
          "2019-12-31T17:27:15",
          "2019-12-31T17:27:32",
          "2019-12-31T17:32:27",
          "2019-12-31T17:44:35",
          "2019-12-31T17:45:32",
          "2019-12-31T17:46:13",
          "2019-12-31T17:50:29",
          "2019-12-31T17:51:09",
          "2019-12-31T17:54:00",
          "2019-12-31T17:55:02",
          "2019-12-31T17:56:37",
          "2019-12-31T17:59:47",
          "2019-12-31T18:05:07",
          "2019-12-31T18:05:30",
          "2019-12-31T18:06:51",
          "2019-12-31T18:07:30",
          "2019-12-31T18:09:42",
          "2019-12-31T18:10:47",
          "2019-12-31T18:11:30",
          "2019-12-31T18:12:20",
          "2019-12-31T18:12:28",
          "2019-12-31T18:14:10",
          "2019-12-31T18:15:31",
          "2019-12-31T18:18:02",
          "2019-12-31T18:23:22",
          "2019-12-31T18:23:46",
          "2019-12-31T18:28:27",
          "2019-12-31T18:31:00",
          "2019-12-31T18:32:33",
          "2019-12-31T18:34:03",
          "2019-12-31T18:39:54",
          "2019-12-31T18:39:59",
          "2019-12-31T18:41:20",
          "2019-12-31T18:45:16",
          "2019-12-31T18:50:03",
          "2019-12-31T18:51:31",
          "2019-12-31T18:53:54",
          "2019-12-31T18:54:47",
          "2019-12-31T18:56:23",
          "2019-12-31T18:58:17",
          "2019-12-31T18:58:19",
          "2019-12-31T19:00:59",
          "2019-12-31T19:00:59",
          "2019-12-31T19:03:50",
          "2019-12-31T19:05:07",
          "2019-12-31T19:14:36",
          "2019-12-31T19:17:13",
          "2019-12-31T19:17:52",
          "2019-12-31T19:32:58",
          "2019-12-31T19:38:11",
          "2019-12-31T19:43:22",
          "2019-12-31T19:44:36",
          "2019-12-31T19:46:12",
          "2019-12-31T19:48:43",
          "2019-12-31T19:50:45",
          "2019-12-31T19:53:15",
          "2019-12-31T19:53:51",
          "2019-12-31T19:55:15",
          "2019-12-31T19:55:21",
          "2019-12-31T19:57:05",
          "2019-12-31T19:58:18",
          "2019-12-31T20:01:34",
          "2019-12-31T20:02:14",
          "2019-12-31T20:05:27",
          "2019-12-31T20:07:16",
          "2019-12-31T20:10:36",
          "2019-12-31T20:11:39",
          "2019-12-31T20:11:51",
          "2019-12-31T20:14:27",
          "2019-12-31T20:18:07",
          "2019-12-31T20:23:51",
          "2019-12-31T20:26:41",
          "2019-12-31T20:27:33",
          "2019-12-31T20:30:27",
          "2019-12-31T20:34:37",
          "2019-12-31T20:39:20",
          "2019-12-31T20:40:33",
          "2019-12-31T20:41:28",
          "2019-12-31T20:42:52",
          "2019-12-31T20:48:40",
          "2019-12-31T20:49:52",
          "2019-12-31T20:50:19",
          "2019-12-31T20:52:22",
          "2019-12-31T20:52:36",
          "2019-12-31T20:58:37",
          "2019-12-31T20:59:08",
          "2019-12-31T20:59:23",
          "2019-12-31T21:05:26",
          "2019-12-31T21:08:40",
          "2019-12-31T21:11:44",
          "2019-12-31T21:14:41",
          "2019-12-31T21:15:43",
          "2019-12-31T21:23:52",
          "2019-12-31T21:25:36",
          "2019-12-31T21:28:32",
          "2019-12-31T21:30:54",
          "2019-12-31T21:31:18",
          "2019-12-31T21:32:17",
          "2019-12-31T21:33:20",
          "2019-12-31T21:35:30",
          "2019-12-31T21:36:31",
          "2019-12-31T21:39:43",
          "2019-12-31T21:41:27",
          "2019-12-31T21:44:10",
          "2019-12-31T21:48:23",
          "2019-12-31T21:50:18",
          "2019-12-31T21:51:19",
          "2019-12-31T21:52:00",
          "2019-12-31T21:52:53",
          "2019-12-31T21:55:14",
          "2019-12-31T21:55:44",
          "2019-12-31T21:57:53",
          "2019-12-31T21:59:26",
          "2019-12-31T22:01:06",
          "2019-12-31T22:01:18",
          "2019-12-31T22:01:48",
          "2019-12-31T22:05:20",
          "2019-12-31T22:06:50",
          "2019-12-31T22:06:59",
          "2019-12-31T22:07:41",
          "2019-12-31T22:14:39",
          "2019-12-31T22:16:56",
          "2019-12-31T22:21:05",
          "2019-12-31T22:25:14",
          "2019-12-31T22:26:24",
          "2019-12-31T22:28:37",
          "2019-12-31T22:29:04",
          "2019-12-31T22:30:55",
          "2019-12-31T22:32:17",
          "2019-12-31T22:38:16",
          "2019-12-31T22:40:18",
          "2019-12-31T22:40:44",
          "2019-12-31T22:40:54",
          "2019-12-31T22:45:47",
          "2019-12-31T22:47:28",
          "2019-12-31T22:48:32",
          "2019-12-31T22:54:45",
          "2019-12-31T22:54:57",
          "2019-12-31T22:59:12",
          "2019-12-31T23:00:48",
          "2019-12-31T23:01:35",
          "2019-12-31T23:02:39",
          "2019-12-31T23:04:14",
          "2019-12-31T23:04:46",
          "2019-12-31T23:07:46",
          "2019-12-31T23:09:04",
          "2019-12-31T23:11:25",
          "2019-12-31T23:11:58",
          "2019-12-31T23:18:44",
          "2019-12-31T23:19:29",
          "2019-12-31T23:28:30",
          "2019-12-31T23:30:32",
          "2019-12-31T23:30:33",
          "2019-12-31T23:32:48",
          "2019-12-31T23:35:50",
          "2019-12-31T23:38:35",
          "2019-12-31T23:38:53",
          "2019-12-31T23:39:17",
          "2019-12-31T23:45:47",
          "2019-12-31T23:52:54",
          "2020-01-01T00:12:42",
          "2020-01-01T00:13:57",
          "2020-01-01T00:14:58",
          "2020-01-01T00:16:38",
          "2020-01-01T00:26:51",
          "2020-01-01T00:28:44",
          "2020-01-01T00:29:16",
          "2020-01-01T00:30:47",
          "2020-01-01T00:34:26",
          "2020-01-01T00:34:41",
          "2020-01-01T00:38:53",
          "2020-01-01T00:44:36",
          "2020-01-01T00:51:50",
          "2020-01-01T00:52:37",
          "2020-01-01T00:53:20",
          "2020-01-01T00:54:54",
          "2020-01-01T00:55:40",
          "2020-01-01T00:56:14",
          "2020-01-01T00:57:13",
          "2020-01-01T01:05:53",
          "2020-01-01T01:11:46",
          "2020-01-01T01:11:57",
          "2020-01-01T01:13:35",
          "2020-01-01T01:15:22",
          "2020-01-01T01:17:02",
          "2020-01-01T01:26:18",
          "2020-01-01T01:26:31",
          "2020-01-01T01:29:18",
          "2020-01-01T01:38:51",
          "2020-01-01T01:54:11",
          "2020-01-01T01:58:04",
          "2020-01-01T02:00:37",
          "2020-01-01T02:01:55",
          "2020-01-01T02:05:18",
          "2020-01-01T02:06:04",
          "2020-01-01T02:06:34",
          "2020-01-01T02:08:56",
          "2020-01-01T02:09:09",
          "2020-01-01T02:21:19",
          "2020-01-01T02:26:44",
          "2020-01-01T02:34:05",
          "2020-01-01T02:34:23",
          "2020-01-01T02:41:38",
          "2020-01-01T02:45:21",
          "2020-01-01T02:49:08",
          "2020-01-01T02:50:16",
          "2020-01-01T02:53:20",
          "2020-01-01T02:53:52",
          "2020-01-01T02:54:23",
          "2020-01-01T03:01:12",
          "2020-01-01T03:03:47",
          "2020-01-01T03:05:04",
          "2020-01-01T03:09:20",
          "2020-01-01T03:14:52",
          "2020-01-01T03:14:58",
          "2020-01-01T03:17:29",
          "2020-01-01T03:18:02",
          "2020-01-01T03:22:35",
          "2020-01-01T03:26:54",
          "2020-01-01T03:27:30",
          "2020-01-01T03:29:00",
          "2020-01-01T03:32:54",
          "2020-01-01T03:44:45",
          "2020-01-01T03:47:59",
          "2020-01-01T03:48:31",
          "2020-01-01T03:52:42",
          "2020-01-01T04:00:52",
          "2020-01-01T04:01:00",
          "2020-01-01T04:01:54",
          "2020-01-01T04:03:15",
          "2020-01-01T04:06:13",
          "2020-01-01T04:07:17",
          "2020-01-01T04:08:28",
          "2020-01-01T04:39:32",
          "2020-01-01T04:40:15",
          "2020-01-01T04:40:31",
          "2020-01-01T04:46:17",
          "2020-01-01T04:47:36",
          "2020-01-01T04:48:41",
          "2020-01-01T04:52:40",
          "2020-01-01T04:54:19",
          "2020-01-01T04:55:14",
          "2020-01-01T05:01:46",
          "2020-01-01T05:03:48",
          "2020-01-01T05:04:39",
          "2020-01-01T05:05:30",
          "2020-01-01T05:14:49",
          "2020-01-01T05:16:25",
          "2020-01-01T05:20:58",
          "2020-01-01T05:24:07",
          "2020-01-01T05:33:58",
          "2020-01-01T05:39:03",
          "2020-01-01T05:40:55",
          "2020-01-01T05:42:09",
          "2020-01-01T05:57:07",
          "2020-01-01T06:02:53",
          "2020-01-01T06:10:24",
          "2020-01-01T06:12:59",
          "2020-01-01T06:22:05",
          "2020-01-01T06:22:11",
          "2020-01-01T06:29:41",
          "2020-01-01T06:35:19",
          "2020-01-01T06:40:56",
          "2020-01-01T06:43:49",
          "2020-01-01T07:01:11",
          "2020-01-01T07:08:01",
          "2020-01-01T07:22:57",
          "2020-01-01T07:29:45",
          "2020-01-01T07:32:54",
          "2020-01-01T07:35:28",
          "2020-01-01T07:43:05",
          "2020-01-01T07:56:13",
          "2020-01-01T08:07:04",
          "2020-01-01T08:09:37",
          "2020-01-01T08:13:27",
          "2020-01-01T08:25:03",
          "2020-01-01T08:43:41",
          "2020-01-01T08:55:32",
          "2020-01-01T09:06:17",
          "2020-01-01T09:11:58",
          "2020-01-01T09:21:37",
          "2020-01-01T09:29:17",
          "2020-01-01T09:29:32",
          "2020-01-01T09:31:35",
          "2020-01-01T09:38:10",
          "2020-01-01T09:39:47",
          "2020-01-01T09:52:13",
          "2020-01-01T09:56:31",
          "2020-01-01T10:09:49",
          "2020-01-01T10:18:18",
          "2020-01-01T10:21:45",
          "2020-01-01T10:26:19",
          "2020-01-01T10:34:15",
          "2020-01-01T10:35:08",
          "2020-01-01T10:38:58",
          "2020-01-01T10:43:10",
          "2020-01-01T10:57:21",
          "2020-01-01T11:03:41",
          "2020-01-01T11:04:01",
          "2020-01-01T11:20:23",
          "2020-01-01T11:36:32",
          "2020-01-01T11:46:18",
          "2020-01-01T11:48:33",
          "2020-01-01T11:49:55",
          "2020-01-01T11:49:58",
          "2020-01-01T11:53:38",
          "2020-01-01T11:58:16",
          "2020-01-01T11:59:24",
          "2020-01-01T12:01:49",
          "2020-01-01T12:30:08",
          "2020-01-01T12:42:55",
          "2020-01-01T12:43:36",
          "2020-01-01T13:01:01",
          "2020-01-01T13:01:09",
          "2020-01-01T13:27:10",
          "2020-01-01T13:41:27",
          "2020-01-01T14:03:07",
          "2020-01-01T14:05:51",
          "2020-01-01T14:06:40",
          "2020-01-01T14:07:19",
          "2020-01-01T14:10:03",
          "2020-01-01T14:17:48",
          "2020-01-01T14:23:04",
          "2020-01-01T14:33:00",
          "2020-01-01T14:33:02",
          "2020-01-01T14:33:11",
          "2020-01-01T14:34:18",
          "2020-01-01T14:44:20",
          "2020-01-01T14:47:52",
          "2020-01-01T14:48:13",
          "2020-01-01T14:59:17",
          "2020-01-01T15:01:58",
          "2020-01-01T15:13:02",
          "2020-01-01T15:19:09",
          "2020-01-01T15:23:28",
          "2020-01-01T15:26:02",
          "2020-01-01T15:27:12",
          "2020-01-01T15:28:07",
          "2020-01-01T15:28:58",
          "2020-01-01T15:34:02",
          "2020-01-01T15:50:54",
          "2020-01-01T15:52:54",
          "2020-01-01T15:53:51",
          "2020-01-01T15:55:52",
          "2020-01-01T15:56:07",
          "2020-01-01T16:05:25",
          "2020-01-01T16:10:27",
          "2020-01-01T16:24:52",
          "2020-01-01T16:25:58",
          "2020-01-01T16:30:09",
          "2020-01-01T16:30:51",
          "2020-01-01T16:31:23",
          "2020-01-01T16:33:51",
          "2020-01-01T16:36:01",
          "2020-01-01T16:37:27",
          "2020-01-01T16:47:17",
          "2020-01-01T16:49:50"
         ],
         "xaxis": "x3",
         "yaxis": "y3"
        },
        {
         "customdata": [
          [
           "destiny2",
           "_SeparateEagle_",
           "https://www.reddit.com/r/destiny2/comments/ei5edh/the_destinythegame_subreddit_is_a_joke/",
           "ei5edh"
          ],
          [
           "destiny2",
           "J2xACE",
           "https://www.reddit.com/r/destiny2/comments/ei5fwd/traction_mod/",
           "ei5fwd"
          ],
          [
           "destiny2",
           "NegaChrome",
           "https://www.reddit.com/r/destiny2/comments/ei5jl8/question_on_weapon_mods/",
           "ei5jl8"
          ],
          [
           "destiny2",
           "Ruraraid",
           "https://www.reddit.com/r/destiny2/comments/ei5p86/anyone_else_get_some_bonus_glory_points_today/",
           "ei5p86"
          ],
          [
           "destiny2",
           "Vigil32",
           "https://www.reddit.com/r/destiny2/comments/ei5rw0/weekly_powerful_engrams/",
           "ei5rw0"
          ],
          [
           "destiny2",
           "newaccount6969420",
           "https://www.reddit.com/r/destiny2/comments/ei5t6w/can_you_adjust_the_safe_area_on_pc/",
           "ei5t6w"
          ],
          [
           "destiny2",
           "J8NSYY",
           "https://www.reddit.com/r/destiny2/comments/ei5tjg/iron_banner/",
           "ei5tjg"
          ],
          [
           "destiny2",
           "LoLx1",
           "https://www.reddit.com/r/destiny2/comments/ei5v4p/thrown_strike/",
           "ei5v4p"
          ],
          [
           "destiny2",
           "graspee",
           "https://www.reddit.com/r/destiny2/comments/ei5ymc/no_ib_banner_body_for_this_pangolin/",
           "ei5ymc"
          ],
          [
           "destiny2",
           "Howard_Goldstien",
           "https://www.reddit.com/r/destiny2/comments/ei5zdo/how_to_get_a_quest_back/",
           "ei5zdo"
          ],
          [
           "destiny2",
           "GrantFireType",
           "https://www.reddit.com/r/destiny2/comments/ei612f/any_idea_how_to_help/",
           "ei612f"
          ],
          [
           "destiny2",
           "timetogoVroom",
           "https://www.reddit.com/r/destiny2/comments/ei67a4/would_like_some_guidance_regarding_the_obelisks/",
           "ei67a4"
          ],
          [
           "destiny2",
           "smellypuddin",
           "https://www.reddit.com/r/destiny2/comments/ei6c98/cant_interact_with_obelisk_in_edz/",
           "ei6c98"
          ],
          [
           "destiny2",
           "pazanate",
           "https://www.reddit.com/r/destiny2/comments/ei6jsw/best_way_to_farm_imperials_postshadowkeep/",
           "ei6jsw"
          ],
          [
           "destiny2",
           "MochiBakaa",
           "https://www.reddit.com/r/destiny2/comments/ei6m7a/best_primary_smg_for_pvp/",
           "ei6m7a"
          ],
          [
           "destiny2",
           "Strong_Mode",
           "https://www.reddit.com/r/destiny2/comments/ei6mtb/whats_wrong_with_the_fanatic/",
           "ei6mtb"
          ],
          [
           "destiny2",
           "EGG_LOAF",
           "https://www.reddit.com/r/destiny2/comments/ei6o37/happy_new_years/",
           "ei6o37"
          ],
          [
           "destiny2",
           "KrisDahl116",
           "https://www.reddit.com/r/destiny2/comments/ei6uts/the_current_state_of_the_game/",
           "ei6uts"
          ],
          [
           "destiny2",
           "J8NSYY",
           "https://www.reddit.com/r/destiny2/comments/ei6vqs/legendary_kinetic_sniper_rifles/",
           "ei6vqs"
          ],
          [
           "destiny2",
           "MrMyxzplk",
           "https://www.reddit.com/r/destiny2/comments/ei6w1b/malfeasence/",
           "ei6w1b"
          ],
          [
           "destiny2",
           "Noman_Blaze",
           "https://www.reddit.com/r/destiny2/comments/ei7bzp/eris_is_not_giving_the_last_piece_of_unveiling/",
           "ei7bzp"
          ],
          [
           "destiny2",
           "FungusAmongus007",
           "https://www.reddit.com/r/destiny2/comments/ei7fr8/i_aint_missin_you_at_all/",
           "ei7fr8"
          ],
          [
           "destiny2",
           "SoyboySauce",
           "https://www.reddit.com/r/destiny2/comments/ei7id2/wayfarer_help/",
           "ei7id2"
          ],
          [
           "destiny2",
           "Donrage8",
           "https://www.reddit.com/r/destiny2/comments/ei7key/new_player/",
           "ei7key"
          ],
          [
           "destiny2",
           "Wahmanz3",
           "https://www.reddit.com/r/destiny2/comments/ei7nnz/which_destiny_gameexpansion_has_the_best/",
           "ei7nnz"
          ],
          [
           "destiny2",
           "Dlucks83",
           "https://www.reddit.com/r/destiny2/comments/ei8buj/uh_where_to_start/",
           "ei8buj"
          ],
          [
           "destiny2",
           "BGSPARK500",
           "https://www.reddit.com/r/destiny2/comments/ei8fdc/looking_for_clan/",
           "ei8fdc"
          ],
          [
           "destiny2",
           "SapphireSammi",
           "https://www.reddit.com/r/destiny2/comments/ei8hi3/help_with_lumina_quest_please/",
           "ei8hi3"
          ],
          [
           "destiny2",
           "Falkr__th",
           "https://www.reddit.com/r/destiny2/comments/ei8io8/i_cant_play_the_arms_dealer_assault/",
           "ei8io8"
          ],
          [
           "destiny2",
           "JTyler2468",
           "https://www.reddit.com/r/destiny2/comments/ei8jk5/concerning_the_amount_of_crying_i_hear_about_d2/",
           "ei8jk5"
          ],
          [
           "destiny2",
           "chrismarinoccio",
           "https://www.reddit.com/r/destiny2/comments/ei8mc2/how_come_the_season_pass_works_with_cross_save/",
           "ei8mc2"
          ],
          [
           "destiny2",
           "xsummertime77",
           "https://www.reddit.com/r/destiny2/comments/ei8nj0/farming_mindbender_tips/",
           "ei8nj0"
          ],
          [
           "destiny2",
           "JDuijne",
           "https://www.reddit.com/r/destiny2/comments/ei8q4q/xur/",
           "ei8q4q"
          ],
          [
           "destiny2",
           "Animalesco",
           "https://www.reddit.com/r/destiny2/comments/ei8rdv/all_quests_account_bound/",
           "ei8rdv"
          ],
          [
           "destiny2",
           "Ryderdawg",
           "https://www.reddit.com/r/destiny2/comments/ei8tal/menagerie/",
           "ei8tal"
          ],
          [
           "destiny2",
           "onexyzero",
           "https://www.reddit.com/r/destiny2/comments/ei8twd/inconsistent_lost_glory_points_any_ideas/",
           "ei8twd"
          ],
          [
           "destiny2",
           "Cornerbog",
           "https://www.reddit.com/r/destiny2/comments/ei92yv/any_fellow_aussieenglish_speaking_guardians_on/",
           "ei92yv"
          ],
          [
           "destiny2",
           "TheMany-FacedGod",
           "https://www.reddit.com/r/destiny2/comments/ei94ii/mk_snipers_what_ads_sensitivity_to_you_use/",
           "ei94ii"
          ],
          [
           "destiny2",
           "deathwatcher21",
           "https://www.reddit.com/r/destiny2/comments/ei965g/are_hunters_good_for_new_players/",
           "ei965g"
          ],
          [
           "destiny2",
           "Vailix750",
           "https://www.reddit.com/r/destiny2/comments/ei96v2/how_to_start_a_raid/",
           "ei96v2"
          ],
          [
           "destiny2",
           "Sketep",
           "https://www.reddit.com/r/destiny2/comments/ei9d39/whats_up_with_the_memory_of_cayde_class_item/",
           "ei9d39"
          ],
          [
           "destiny2",
           "ThornierSpider7",
           "https://www.reddit.com/r/destiny2/comments/ei9nrm/see_ornaments_after_unlock/",
           "ei9nrm"
          ],
          [
           "destiny2",
           "veryhiddentalent",
           "https://www.reddit.com/r/destiny2/comments/ei9o7i/think_well_ever_get_to_edit_our_guardians_faces/",
           "ei9o7i"
          ],
          [
           "destiny2",
           "deathwatcher21",
           "https://www.reddit.com/r/destiny2/comments/ei9psy/warlock/",
           "ei9psy"
          ],
          [
           "destiny2",
           "PCgamer7777",
           "https://www.reddit.com/r/destiny2/comments/ei9r22/arc_seasonal_armor/",
           "ei9r22"
          ],
          [
           "destiny2",
           "NAMEANNONYMOUS",
           "https://www.reddit.com/r/destiny2/comments/eia4ok/swords/",
           "eia4ok"
          ],
          [
           "destiny2",
           "Toast-that-is-burnt",
           "https://www.reddit.com/r/destiny2/comments/eia7k6/saviour_title_guide/",
           "eia7k6"
          ],
          [
           "destiny2",
           "robertnk05",
           "https://www.reddit.com/r/destiny2/comments/eia84r/red_war_has_such_a_great_start_up_spoiler_obv/",
           "eia84r"
          ],
          [
           "destiny2",
           "Jacksonhoward0",
           "https://www.reddit.com/r/destiny2/comments/eia8y8/why_is_this_subreddit_so_superior_to/",
           "eia8y8"
          ],
          [
           "destiny2",
           "SheWantsPingu",
           "https://www.reddit.com/r/destiny2/comments/eiaa9k/how_to_get_tranquility_quest_essence_of_vanity/",
           "eiaa9k"
          ],
          [
           "destiny2",
           "reddittidder1234321",
           "https://www.reddit.com/r/destiny2/comments/eiahmm/would_like_to_not_be_limited_to_only_4_emotes/",
           "eiahmm"
          ],
          [
           "destiny2",
           "WabbitCZEN",
           "https://www.reddit.com/r/destiny2/comments/eiaigl/we_need_more_than_one_way_to_earn_glory/",
           "eiaigl"
          ],
          [
           "destiny2",
           "WabbitCZEN",
           "https://www.reddit.com/r/destiny2/comments/eiajub/heart_of_the_dragon_requires_linear_fusion_rifle/",
           "eiajub"
          ],
          [
           "destiny2",
           "Stayfrosty157",
           "https://www.reddit.com/r/destiny2/comments/eianls/happy_new_years_guardians/",
           "eianls"
          ],
          [
           "destiny2",
           "J2xACE",
           "https://www.reddit.com/r/destiny2/comments/eianwy/what_is_your_rating_of_crucible_out_of_10_and_why/",
           "eianwy"
          ],
          [
           "destiny2",
           "Gustalavalav",
           "https://www.reddit.com/r/destiny2/comments/eiax5v/hive_bring_a_sword/",
           "eiax5v"
          ],
          [
           "destiny2",
           "dragonoid05",
           "https://www.reddit.com/r/destiny2/comments/eib02o/ascendant_challenge/",
           "eib02o"
          ],
          [
           "destiny2",
           "xCovertSniperx",
           "https://www.reddit.com/r/destiny2/comments/eib0ii/new_titan_player_here_looking_for_a_team_to/",
           "eib0ii"
          ],
          [
           "destiny2",
           "dstary",
           "https://www.reddit.com/r/destiny2/comments/eib0oi/real_quick_what_is_the_fastest_way_to_move_around/",
           "eib0oi"
          ],
          [
           "destiny2",
           "patton3",
           "https://www.reddit.com/r/destiny2/comments/eib24f/so_is_leviathans_breath_just_impossible_to_get_if/",
           "eib24f"
          ],
          [
           "destiny2",
           "incrassa",
           "https://www.reddit.com/r/destiny2/comments/eib7v1/just_a_thought/",
           "eib7v1"
          ],
          [
           "destiny2",
           "RickV6",
           "https://www.reddit.com/r/destiny2/comments/eibb1k/i_just_have_one_simple_question_for_bungie_will/",
           "eibb1k"
          ],
          [
           "destiny2",
           "Mirkblood",
           "https://www.reddit.com/r/destiny2/comments/eibusv/help_dawning_and_xur/",
           "eibusv"
          ],
          [
           "destiny2",
           "MyAzzOwnzYou",
           "https://www.reddit.com/r/destiny2/comments/eibwc8/saint/",
           "eibwc8"
          ],
          [
           "destiny2",
           "yoyo4444773728",
           "https://www.reddit.com/r/destiny2/comments/eibxhv/just_a_thought/",
           "eibxhv"
          ],
          [
           "destiny2",
           "Uncreative_name1385",
           "https://www.reddit.com/r/destiny2/comments/eibyqg/exotics/",
           "eibyqg"
          ],
          [
           "destiny2",
           "dj-kaled",
           "https://www.reddit.com/r/destiny2/comments/eibyv4/question_about_green_with_envy_bug/",
           "eibyv4"
          ],
          [
           "destiny2",
           "melo23hd",
           "https://www.reddit.com/r/destiny2/comments/eic1tn/why_am_i_dying_so_quickly_in_the_crucible/",
           "eic1tn"
          ],
          [
           "destiny2",
           "chrisasian45",
           "https://www.reddit.com/r/destiny2/comments/eic4d6/pls_play_mayhem_the_best_quotes_i_have_ever_heard/",
           "eic4d6"
          ],
          [
           "destiny2",
           "deathwatcher21",
           "https://www.reddit.com/r/destiny2/comments/eic51v/titans/",
           "eic51v"
          ],
          [
           "destiny2",
           "MachoPanda71",
           "https://www.reddit.com/r/destiny2/comments/eichg9/end_of_season_event/",
           "eichg9"
          ],
          [
           "destiny2",
           "techmatrixusa",
           "https://www.reddit.com/r/destiny2/comments/eicjb0/devils_ruin_exotic_sidearm_preview_destiny_2_the/",
           "eicjb0"
          ],
          [
           "destiny2",
           "Graves_Cigar_",
           "https://www.reddit.com/r/destiny2/comments/eiclf0/happy_new_year_guardians/",
           "eiclf0"
          ],
          [
           "destiny2",
           "Frenchonion546",
           "https://www.reddit.com/r/destiny2/comments/eicoqw/dlc/",
           "eicoqw"
          ],
          [
           "destiny2",
           "ghsvgreweb",
           "https://www.reddit.com/r/destiny2/comments/eicpwk/black_armory_forges/",
           "eicpwk"
          ],
          [
           "destiny2",
           "brandyLove75",
           "https://www.reddit.com/r/destiny2/comments/eicqh4/most_powerful_gun_in_d2/",
           "eicqh4"
          ],
          [
           "destiny2",
           "Luriction",
           "https://www.reddit.com/r/destiny2/comments/eicqlm/quest_to_make_our_own_ghost_shell/",
           "eicqlm"
          ],
          [
           "destiny2",
           "cocoaboy123",
           "https://www.reddit.com/r/destiny2/comments/eicr2s/is_not_forgotten_doodoo/",
           "eicr2s"
          ],
          [
           "destiny2",
           "Xx_k4ng4r00_xX",
           "https://www.reddit.com/r/destiny2/comments/eid683/unpopular_opinion_gambit_is_a_fun_and_creative/",
           "eid683"
          ],
          [
           "destiny2",
           "Cheetos4You",
           "https://www.reddit.com/r/destiny2/comments/eid7f8/why_are_warlocks_so_bad_in_pvp/",
           "eid7f8"
          ],
          [
           "destiny2",
           "Kailey_ra",
           "https://www.reddit.com/r/destiny2/comments/eid867/xür/",
           "eid867"
          ],
          [
           "destiny2",
           "ErcDoogles",
           "https://www.reddit.com/r/destiny2/comments/eidab2/mindbenders_drops/",
           "eidab2"
          ],
          [
           "destiny2",
           "DrBamMan",
           "https://www.reddit.com/r/destiny2/comments/eideu8/im_trying_to_do_the_make_bows_not_war_quest_but/",
           "eideu8"
          ],
          [
           "destiny2",
           "BigIndo95",
           "https://www.reddit.com/r/destiny2/comments/eidh6t/looking_for_a_fireteam_to_start_raids_and_grind/",
           "eidh6t"
          ],
          [
           "destiny2",
           "Xander142001",
           "https://www.reddit.com/r/destiny2/comments/eidj2h/im_having_problems_with_the_game/",
           "eidj2h"
          ],
          [
           "destiny2",
           "VexOffender69420",
           "https://www.reddit.com/r/destiny2/comments/eidj74/mindbenders_ambition_farm/",
           "eidj74"
          ],
          [
           "destiny2",
           "teezway",
           "https://www.reddit.com/r/destiny2/comments/eidnoy/option_to_re_roll_masterworks_and_gear_plz/",
           "eidnoy"
          ],
          [
           "destiny2",
           "wasteland_superhero",
           "https://www.reddit.com/r/destiny2/comments/eidp2g/drifter_or_vanguard/",
           "eidp2g"
          ],
          [
           "destiny2",
           "ParalyzedBeauty",
           "https://www.reddit.com/r/destiny2/comments/eidveb/needing_help_possibly/",
           "eidveb"
          ],
          [
           "destiny2",
           "DredgenDisciple",
           "https://www.reddit.com/r/destiny2/comments/eidw61/ttk_questions/",
           "eidw61"
          ],
          [
           "destiny2",
           "jackman48L",
           "https://www.reddit.com/r/destiny2/comments/eidxmv/whats_wrong_with_obelisk/",
           "eidxmv"
          ],
          [
           "destiny2",
           "TUr805L4Y3R",
           "https://www.reddit.com/r/destiny2/comments/eie7dm/comp_matchmaking/",
           "eie7dm"
          ],
          [
           "destiny2",
           "SkyGuyMcFly",
           "https://www.reddit.com/r/destiny2/comments/eieiwg/bungie_it_cant_be_that_hard/",
           "eieiwg"
          ],
          [
           "destiny2",
           "Leonatius",
           "https://www.reddit.com/r/destiny2/comments/eielai/bungie_there_is_absolutely_no_reason_i_should_be/",
           "eielai"
          ],
          [
           "destiny2",
           "xburningwaterx0",
           "https://www.reddit.com/r/destiny2/comments/eielr2/light_level_cap/",
           "eielr2"
          ],
          [
           "destiny2",
           "wiithewalrus",
           "https://www.reddit.com/r/destiny2/comments/eieohb/40_hours_in_i_finally_realize_that_light_isnt_the/",
           "eieohb"
          ],
          [
           "destiny2",
           "Critdentials",
           "https://www.reddit.com/r/destiny2/comments/eif7jp/just_got_anarchy_but_what_do_i_do_with_it/",
           "eif7jp"
          ],
          [
           "destiny2",
           "ScottiScoot",
           "https://www.reddit.com/r/destiny2/comments/eifah3/destiny_2_heavy_weapon_farm/",
           "eifah3"
          ],
          [
           "destiny2",
           "onexyzero",
           "https://www.reddit.com/r/destiny2/comments/eifb49/cant_apply_mods_purchased_from_obelisk/",
           "eifb49"
          ],
          [
           "destiny2",
           "MickelDaMango",
           "https://www.reddit.com/r/destiny2/comments/eifbr3/season_of_dawn_riven_cheese_in_a_petras_run/",
           "eifbr3"
          ],
          [
           "destiny2",
           "NeoDivergent",
           "https://www.reddit.com/r/destiny2/comments/eifc1w/nothing_spawning_in_the_whisper/",
           "eifc1w"
          ],
          [
           "destiny2",
           "Zeoxhostil",
           "https://www.reddit.com/r/destiny2/comments/eifcpb/mayhem_fun/",
           "eifcpb"
          ],
          [
           "destiny2",
           "elsexyboygian",
           "https://www.reddit.com/r/destiny2/comments/eiffnd/destiny_2_we_need_to_talk_about_text_to_chat_and/",
           "eiffnd"
          ],
          [
           "destiny2",
           "TruBanana",
           "https://www.reddit.com/r/destiny2/comments/eiffua/daily_reset/",
           "eiffua"
          ],
          [
           "destiny2",
           "BurntPopcorn_OW",
           "https://www.reddit.com/r/destiny2/comments/eifg1c/happy_dawning/",
           "eifg1c"
          ],
          [
           "destiny2",
           "el_cartos",
           "https://www.reddit.com/r/destiny2/comments/eifj7q/twilight_oath_question/",
           "eifj7q"
          ],
          [
           "destiny2",
           "taquitoxz86",
           "https://www.reddit.com/r/destiny2/comments/eifled/how_do_you_unlock_reckoning_tier_2_and_3/",
           "eifled"
          ],
          [
           "destiny2",
           "voDox17",
           "https://www.reddit.com/r/destiny2/comments/eifmdh/raid_help_for_a_first_time_player/",
           "eifmdh"
          ],
          [
           "destiny2",
           "lukedamemester",
           "https://www.reddit.com/r/destiny2/comments/eifs0g/what_the_fuck_am_i_supposed_to_do/",
           "eifs0g"
          ],
          [
           "destiny2",
           "Memeaholic825",
           "https://www.reddit.com/r/destiny2/comments/eifw95/destiny_2_recoveries/",
           "eifw95"
          ],
          [
           "destiny2",
           "el_cartos",
           "https://www.reddit.com/r/destiny2/comments/eifx0q/perkmod_help/",
           "eifx0q"
          ],
          [
           "destiny2",
           "yoless28",
           "https://www.reddit.com/r/destiny2/comments/eig6t0/edz_obelisk_still_bugged/",
           "eig6t0"
          ],
          [
           "destiny2",
           "Raxdamighty",
           "https://www.reddit.com/r/destiny2/comments/eiggj2/bug_on_black_talon_pvp/",
           "eiggj2"
          ],
          [
           "destiny2",
           "InfiniteBiohazards",
           "https://www.reddit.com/r/destiny2/comments/eigtjl/izanagi_question/",
           "eigtjl"
          ],
          [
           "destiny2",
           "TheHungWolf",
           "https://www.reddit.com/r/destiny2/comments/eigtyk/intentional_skip_found_in_mission/",
           "eigtyk"
          ],
          [
           "destiny2",
           "Moldbourne",
           "https://www.reddit.com/r/destiny2/comments/eigw36/why_does_the_art_team_hate_warlocjs/",
           "eigw36"
          ],
          [
           "destiny2",
           "-Setro-",
           "https://www.reddit.com/r/destiny2/comments/eigyxq/99_sure_i_was_banned_for_using_razer_synapse/",
           "eigyxq"
          ],
          [
           "destiny2",
           "JustWil5",
           "https://www.reddit.com/r/destiny2/comments/eih4r9/game_keeps_crashing_unexpectedly/",
           "eih4r9"
          ],
          [
           "destiny2",
           "yehaw23",
           "https://www.reddit.com/r/destiny2/comments/eih6yy/is_the_green_with_envy_quest_bugged/",
           "eih6yy"
          ],
          [
           "destiny2",
           "PuppyDudeLol",
           "https://www.reddit.com/r/destiny2/comments/eihekx/why_do_i_get_oneshotted_in_og_nightfall/",
           "eihekx"
          ],
          [
           "destiny2",
           "TheRealTTN",
           "https://www.reddit.com/r/destiny2/comments/eihfdw/nightfall_threshold_my_emblem_still_at_100k/",
           "eihfdw"
          ],
          [
           "destiny2",
           "lesgedit",
           "https://www.reddit.com/r/destiny2/comments/eihgob/everything_will_eventually_nerfed_not_epic/",
           "eihgob"
          ],
          [
           "destiny2",
           "VMini91",
           "https://www.reddit.com/r/destiny2/comments/eihhzo/saw_an_mpc_starimg/",
           "eihhzo"
          ],
          [
           "destiny2",
           "Patrick_DSouza1",
           "https://www.reddit.com/r/destiny2/comments/eihp1r/mindbender_roll/",
           "eihp1r"
          ],
          [
           "destiny2",
           "Naver789",
           "https://www.reddit.com/r/destiny2/comments/eihp83/divinity_in_gos/",
           "eihp83"
          ],
          [
           "destiny2",
           "KeyanReid",
           "https://www.reddit.com/r/destiny2/comments/eihqip/escalation_protocol_broken_season_of_dawn/",
           "eihqip"
          ],
          [
           "destiny2",
           "thingsandstuffsguy",
           "https://www.reddit.com/r/destiny2/comments/eihtok/happy_new_year_guardians/",
           "eihtok"
          ],
          [
           "destiny2",
           "Brainhole87",
           "https://www.reddit.com/r/destiny2/comments/eihyim/what_do_you_solo_players_do_when_you_log_on/",
           "eihyim"
          ],
          [
           "destiny2",
           "Kmack_00",
           "https://www.reddit.com/r/destiny2/comments/eii2zm/im_stuck_in_a_no_bow_loop/",
           "eii2zm"
          ],
          [
           "destiny2",
           "Wolf_Ironic",
           "https://www.reddit.com/r/destiny2/comments/eiiau7/bungie_please_make_the_old_random_roll_armor/",
           "eiiau7"
          ],
          [
           "destiny2",
           "k4rbine",
           "https://www.reddit.com/r/destiny2/comments/eiicbd/raid_loot_question/",
           "eiicbd"
          ],
          [
           "destiny2",
           "Fear_Oryx",
           "https://www.reddit.com/r/destiny2/comments/eiiqf9/new_light_player_need_help/",
           "eiiqf9"
          ],
          [
           "destiny2",
           "Vigil32",
           "https://www.reddit.com/r/destiny2/comments/eiis25/liars_handshake/",
           "eiis25"
          ],
          [
           "destiny2",
           "coles_man_mcjones",
           "https://www.reddit.com/r/destiny2/comments/eiisiu/just_got_banned_for_no_reason/",
           "eiisiu"
          ],
          [
           "destiny2",
           "J8NSYY",
           "https://www.reddit.com/r/destiny2/comments/eiivak/tranquility/",
           "eiivak"
          ],
          [
           "destiny2",
           "ThatBluesBS",
           "https://www.reddit.com/r/destiny2/comments/eiizrv/of_all_the_hacking_in_this_game_i_have_to_say_its/",
           "eiizrv"
          ],
          [
           "destiny2",
           "the-confused-gamer",
           "https://www.reddit.com/r/destiny2/comments/eijmp1/anyone_heard_anything_about_this_shader/",
           "eijmp1"
          ],
          [
           "destiny2",
           "BT-3025",
           "https://www.reddit.com/r/destiny2/comments/eijpsq/ok_where_is_this_weeks_twab_and_last_weeks/",
           "eijpsq"
          ],
          [
           "destiny2",
           "RealExuberantRaptor",
           "https://www.reddit.com/r/destiny2/comments/eijsn2/assistance_plz/",
           "eijsn2"
          ],
          [
           "destiny2",
           "xXDaZealousXx",
           "https://www.reddit.com/r/destiny2/comments/eik3ug/drop_rate_of_mindbender_vs_nightfall_score/",
           "eik3ug"
          ],
          [
           "destiny2",
           "UrgentQuestionMan",
           "https://www.reddit.com/r/destiny2/comments/eik7va/winterhart_warlock_bundle_bright_dust/",
           "eik7va"
          ],
          [
           "destiny2",
           "CLAPPYBIRD1950",
           "https://www.reddit.com/r/destiny2/comments/eik8zn/when_i_load_destiny_it_says_shadow_keep_but_i/",
           "eik8zn"
          ]
         ],
         "hoverlabel": {
          "namelength": 0
         },
         "hovertemplate": "subreddit=%{customdata[0]}<br>Date Posted=%{x}<br>Post Polarity=%{y}<br>author=%{customdata[1]}<br>url=%{customdata[2]}<br>id=%{customdata[3]}",
         "legendgroup": "subreddit=destiny2",
         "marker": {
          "color": "green",
          "symbol": "circle"
         },
         "mode": "markers",
         "name": "subreddit=destiny2",
         "showlegend": true,
         "type": "scatter",
         "x": [
          "2019-12-31T16:54:13",
          "2019-12-31T16:57:15",
          "2019-12-31T17:04:24",
          "2019-12-31T17:15:15",
          "2019-12-31T17:20:42",
          "2019-12-31T17:23:12",
          "2019-12-31T17:23:54",
          "2019-12-31T17:26:41",
          "2019-12-31T17:33:35",
          "2019-12-31T17:35:06",
          "2019-12-31T17:38:24",
          "2019-12-31T17:50:46",
          "2019-12-31T18:00:36",
          "2019-12-31T18:15:31",
          "2019-12-31T18:20:24",
          "2019-12-31T18:21:37",
          "2019-12-31T18:24:02",
          "2019-12-31T18:37:29",
          "2019-12-31T18:39:27",
          "2019-12-31T18:39:59",
          "2019-12-31T19:11:46",
          "2019-12-31T19:19:12",
          "2019-12-31T19:24:16",
          "2019-12-31T19:28:31",
          "2019-12-31T19:35:03",
          "2019-12-31T20:26:05",
          "2019-12-31T20:33:36",
          "2019-12-31T20:38:08",
          "2019-12-31T20:40:37",
          "2019-12-31T20:42:25",
          "2019-12-31T20:48:42",
          "2019-12-31T20:51:16",
          "2019-12-31T20:57:01",
          "2019-12-31T20:59:51",
          "2019-12-31T21:04:11",
          "2019-12-31T21:05:23",
          "2019-12-31T21:25:24",
          "2019-12-31T21:28:51",
          "2019-12-31T21:32:32",
          "2019-12-31T21:34:11",
          "2019-12-31T21:47:58",
          "2019-12-31T22:12:10",
          "2019-12-31T22:13:08",
          "2019-12-31T22:16:33",
          "2019-12-31T22:19:27",
          "2019-12-31T22:49:53",
          "2019-12-31T22:56:27",
          "2019-12-31T22:57:49",
          "2019-12-31T22:59:47",
          "2019-12-31T23:02:36",
          "2019-12-31T23:18:59",
          "2019-12-31T23:21:01",
          "2019-12-31T23:24:04",
          "2019-12-31T23:32:13",
          "2019-12-31T23:32:56",
          "2019-12-31T23:53:38",
          "2020-01-01T00:00:17",
          "2020-01-01T00:01:14",
          "2020-01-01T00:01:35",
          "2020-01-01T00:04:40",
          "2020-01-01T00:17:04",
          "2020-01-01T00:24:08",
          "2020-01-01T01:09:29",
          "2020-01-01T01:13:19",
          "2020-01-01T01:16:12",
          "2020-01-01T01:19:18",
          "2020-01-01T01:19:38",
          "2020-01-01T01:26:47",
          "2020-01-01T01:32:57",
          "2020-01-01T01:34:41",
          "2020-01-01T02:06:25",
          "2020-01-01T02:11:13",
          "2020-01-01T02:16:43",
          "2020-01-01T02:25:17",
          "2020-01-01T02:28:20",
          "2020-01-01T02:29:52",
          "2020-01-01T02:30:13",
          "2020-01-01T02:31:33",
          "2020-01-01T03:12:18",
          "2020-01-01T03:15:43",
          "2020-01-01T03:17:49",
          "2020-01-01T03:23:29",
          "2020-01-01T03:35:59",
          "2020-01-01T03:42:20",
          "2020-01-01T03:47:36",
          "2020-01-01T03:48:00",
          "2020-01-01T04:00:48",
          "2020-01-01T04:04:22",
          "2020-01-01T04:22:17",
          "2020-01-01T04:24:36",
          "2020-01-01T04:29:03",
          "2020-01-01T04:57:39",
          "2020-01-01T05:25:50",
          "2020-01-01T05:32:26",
          "2020-01-01T05:33:50",
          "2020-01-01T05:41:24",
          "2020-01-01T06:37:56",
          "2020-01-01T06:47:00",
          "2020-01-01T06:49:08",
          "2020-01-01T06:51:09",
          "2020-01-01T06:51:58",
          "2020-01-01T06:53:58",
          "2020-01-01T07:03:11",
          "2020-01-01T07:03:52",
          "2020-01-01T07:04:22",
          "2020-01-01T07:14:48",
          "2020-01-01T07:22:27",
          "2020-01-01T07:25:53",
          "2020-01-01T07:45:26",
          "2020-01-01T08:00:09",
          "2020-01-01T08:02:27",
          "2020-01-01T08:36:46",
          "2020-01-01T09:13:21",
          "2020-01-01T10:03:31",
          "2020-01-01T10:04:46",
          "2020-01-01T10:12:19",
          "2020-01-01T10:23:36",
          "2020-01-01T10:46:39",
          "2020-01-01T10:55:41",
          "2020-01-01T11:24:16",
          "2020-01-01T11:27:30",
          "2020-01-01T11:32:30",
          "2020-01-01T11:37:41",
          "2020-01-01T12:04:44",
          "2020-01-01T12:05:33",
          "2020-01-01T12:10:18",
          "2020-01-01T12:22:08",
          "2020-01-01T12:40:46",
          "2020-01-01T12:57:00",
          "2020-01-01T13:24:11",
          "2020-01-01T13:29:23",
          "2020-01-01T14:14:50",
          "2020-01-01T14:19:56",
          "2020-01-01T14:21:19",
          "2020-01-01T14:29:28",
          "2020-01-01T14:42:37",
          "2020-01-01T15:44:25",
          "2020-01-01T15:52:22",
          "2020-01-01T15:59:14",
          "2020-01-01T16:25:55",
          "2020-01-01T16:35:18",
          "2020-01-01T16:37:57"
         ],
         "xaxis": "x2",
         "y": [
          -0.14285714285714285,
          0.12499999999999999,
          0.1642857142857143,
          0,
          0,
          0.1732142857142857,
          -0.08333333333333333,
          0,
          0.03912337662337661,
          0.04285714285714285,
          0.03125,
          -0.3499999999999999,
          0,
          0,
          0.36666666666666664,
          0.18293650793650795,
          0.4840909090909091,
          0.10495129870129871,
          1,
          -0.06979166666666668,
          0,
          0.19999999999999998,
          0.012499999999999997,
          0.3,
          0.2,
          0.23958333333333334,
          -0.011111111111111108,
          -0.2,
          0.075,
          0.1199284511784512,
          -0.4291666666666667,
          0.09722222222222222,
          0,
          0.08367346938775509,
          -0.07500000000000001,
          0,
          0.3625,
          0.030555555555555555,
          0.7,
          0.41818181818181815,
          -0.04,
          0,
          0.59375,
          0.21428571428571427,
          1,
          0.2545454545454545,
          -0.016326530612244903,
          0.4,
          0.020000000000000018,
          0.5,
          0.3215277777777778,
          0.03333333333333333,
          0,
          0.5,
          0.19090909090909094,
          -0.05833333333333335,
          0,
          -0.024999999999999994,
          0.2,
          -0.6666666666666666,
          -0.65,
          0.04545454545454545,
          0,
          0,
          0,
          0.5555555555555555,
          0,
          0,
          0.022222222222222216,
          0.39298701298701294,
          -0.01957813428401664,
          0.2909090909090909,
          1,
          0.35,
          -0.07045454545454546,
          0.26666666666666666,
          0.4166666666666667,
          -0.075,
          0.027499999999999997,
          0.012351190476190488,
          0,
          0.02619047619047619,
          -0.125,
          0.05666666666666664,
          -0.15,
          0,
          0.38,
          0.19545454545454544,
          0,
          0.25,
          -0.2916666666666667,
          -0.2722222222222222,
          0.18333333333333332,
          0.1166666666666667,
          0.09545454545454546,
          -0.10351239669421487,
          0.19,
          0.009407096171802052,
          0.3,
          0.033333333333333326,
          0,
          0.3,
          -0.022380952380952397,
          0.040624999999999994,
          0.28954545454545455,
          0.28939393939393937,
          -0.125,
          0.11253656253656251,
          -0.025139146567718016,
          0.2672727272727272,
          0.3466666666666666,
          -0.4125,
          -0.011904761904761904,
          0.08472222222222221,
          0.05842464826839827,
          -0.16666666666666666,
          0.010049019607843143,
          0.061136363636363635,
          -0.10000000000000003,
          -0.1,
          0,
          0.22857142857142856,
          0,
          0.75,
          0.3125,
          0.11249999999999999,
          0.07050092764378478,
          0.28787878787878785,
          -0.16666666666666666,
          0.18293650793650792,
          0.15204545454545454,
          0.2278409090909091,
          0,
          0.1,
          0,
          -0.025000000000000022,
          -0.55,
          0,
          0.3333333333333333,
          0.3625,
          0.22500000000000003,
          0.16818181818181818
         ],
         "yaxis": "y2"
        },
        {
         "alignmentgroup": "True",
         "bingroup": "x",
         "hoverlabel": {
          "namelength": 0
         },
         "hovertemplate": "subreddit=destiny2<br>Date Posted=%{x}<br>count=%{y}",
         "legendgroup": "subreddit=destiny2",
         "marker": {
          "color": "green"
         },
         "name": "subreddit=destiny2",
         "offsetgroup": "subreddit=destiny2",
         "opacity": 0.5,
         "showlegend": false,
         "type": "histogram",
         "x": [
          "2019-12-31T16:54:13",
          "2019-12-31T16:57:15",
          "2019-12-31T17:04:24",
          "2019-12-31T17:15:15",
          "2019-12-31T17:20:42",
          "2019-12-31T17:23:12",
          "2019-12-31T17:23:54",
          "2019-12-31T17:26:41",
          "2019-12-31T17:33:35",
          "2019-12-31T17:35:06",
          "2019-12-31T17:38:24",
          "2019-12-31T17:50:46",
          "2019-12-31T18:00:36",
          "2019-12-31T18:15:31",
          "2019-12-31T18:20:24",
          "2019-12-31T18:21:37",
          "2019-12-31T18:24:02",
          "2019-12-31T18:37:29",
          "2019-12-31T18:39:27",
          "2019-12-31T18:39:59",
          "2019-12-31T19:11:46",
          "2019-12-31T19:19:12",
          "2019-12-31T19:24:16",
          "2019-12-31T19:28:31",
          "2019-12-31T19:35:03",
          "2019-12-31T20:26:05",
          "2019-12-31T20:33:36",
          "2019-12-31T20:38:08",
          "2019-12-31T20:40:37",
          "2019-12-31T20:42:25",
          "2019-12-31T20:48:42",
          "2019-12-31T20:51:16",
          "2019-12-31T20:57:01",
          "2019-12-31T20:59:51",
          "2019-12-31T21:04:11",
          "2019-12-31T21:05:23",
          "2019-12-31T21:25:24",
          "2019-12-31T21:28:51",
          "2019-12-31T21:32:32",
          "2019-12-31T21:34:11",
          "2019-12-31T21:47:58",
          "2019-12-31T22:12:10",
          "2019-12-31T22:13:08",
          "2019-12-31T22:16:33",
          "2019-12-31T22:19:27",
          "2019-12-31T22:49:53",
          "2019-12-31T22:56:27",
          "2019-12-31T22:57:49",
          "2019-12-31T22:59:47",
          "2019-12-31T23:02:36",
          "2019-12-31T23:18:59",
          "2019-12-31T23:21:01",
          "2019-12-31T23:24:04",
          "2019-12-31T23:32:13",
          "2019-12-31T23:32:56",
          "2019-12-31T23:53:38",
          "2020-01-01T00:00:17",
          "2020-01-01T00:01:14",
          "2020-01-01T00:01:35",
          "2020-01-01T00:04:40",
          "2020-01-01T00:17:04",
          "2020-01-01T00:24:08",
          "2020-01-01T01:09:29",
          "2020-01-01T01:13:19",
          "2020-01-01T01:16:12",
          "2020-01-01T01:19:18",
          "2020-01-01T01:19:38",
          "2020-01-01T01:26:47",
          "2020-01-01T01:32:57",
          "2020-01-01T01:34:41",
          "2020-01-01T02:06:25",
          "2020-01-01T02:11:13",
          "2020-01-01T02:16:43",
          "2020-01-01T02:25:17",
          "2020-01-01T02:28:20",
          "2020-01-01T02:29:52",
          "2020-01-01T02:30:13",
          "2020-01-01T02:31:33",
          "2020-01-01T03:12:18",
          "2020-01-01T03:15:43",
          "2020-01-01T03:17:49",
          "2020-01-01T03:23:29",
          "2020-01-01T03:35:59",
          "2020-01-01T03:42:20",
          "2020-01-01T03:47:36",
          "2020-01-01T03:48:00",
          "2020-01-01T04:00:48",
          "2020-01-01T04:04:22",
          "2020-01-01T04:22:17",
          "2020-01-01T04:24:36",
          "2020-01-01T04:29:03",
          "2020-01-01T04:57:39",
          "2020-01-01T05:25:50",
          "2020-01-01T05:32:26",
          "2020-01-01T05:33:50",
          "2020-01-01T05:41:24",
          "2020-01-01T06:37:56",
          "2020-01-01T06:47:00",
          "2020-01-01T06:49:08",
          "2020-01-01T06:51:09",
          "2020-01-01T06:51:58",
          "2020-01-01T06:53:58",
          "2020-01-01T07:03:11",
          "2020-01-01T07:03:52",
          "2020-01-01T07:04:22",
          "2020-01-01T07:14:48",
          "2020-01-01T07:22:27",
          "2020-01-01T07:25:53",
          "2020-01-01T07:45:26",
          "2020-01-01T08:00:09",
          "2020-01-01T08:02:27",
          "2020-01-01T08:36:46",
          "2020-01-01T09:13:21",
          "2020-01-01T10:03:31",
          "2020-01-01T10:04:46",
          "2020-01-01T10:12:19",
          "2020-01-01T10:23:36",
          "2020-01-01T10:46:39",
          "2020-01-01T10:55:41",
          "2020-01-01T11:24:16",
          "2020-01-01T11:27:30",
          "2020-01-01T11:32:30",
          "2020-01-01T11:37:41",
          "2020-01-01T12:04:44",
          "2020-01-01T12:05:33",
          "2020-01-01T12:10:18",
          "2020-01-01T12:22:08",
          "2020-01-01T12:40:46",
          "2020-01-01T12:57:00",
          "2020-01-01T13:24:11",
          "2020-01-01T13:29:23",
          "2020-01-01T14:14:50",
          "2020-01-01T14:19:56",
          "2020-01-01T14:21:19",
          "2020-01-01T14:29:28",
          "2020-01-01T14:42:37",
          "2020-01-01T15:44:25",
          "2020-01-01T15:52:22",
          "2020-01-01T15:59:14",
          "2020-01-01T16:25:55",
          "2020-01-01T16:35:18",
          "2020-01-01T16:37:57"
         ],
         "xaxis": "x4",
         "yaxis": "y4"
        }
       ],
       "layout": {
        "annotations": [
         {
          "font": {},
          "showarrow": false,
          "text": "subreddit=destinythegame",
          "x": 0.245,
          "xanchor": "center",
          "xref": "paper",
          "y": 1,
          "yanchor": "bottom",
          "yref": "paper"
         },
         {
          "font": {},
          "showarrow": false,
          "text": "subreddit=destiny2",
          "x": 0.755,
          "xanchor": "center",
          "xref": "paper",
          "y": 1,
          "yanchor": "bottom",
          "yref": "paper"
         }
        ],
        "barmode": "overlay",
        "legend": {
         "tracegroupgap": 0
        },
        "template": {
         "data": {
          "bar": [
           {
            "error_x": {
             "color": "#2a3f5f"
            },
            "error_y": {
             "color": "#2a3f5f"
            },
            "marker": {
             "line": {
              "color": "#E5ECF6",
              "width": 0.5
             }
            },
            "type": "bar"
           }
          ],
          "barpolar": [
           {
            "marker": {
             "line": {
              "color": "#E5ECF6",
              "width": 0.5
             }
            },
            "type": "barpolar"
           }
          ],
          "carpet": [
           {
            "aaxis": {
             "endlinecolor": "#2a3f5f",
             "gridcolor": "white",
             "linecolor": "white",
             "minorgridcolor": "white",
             "startlinecolor": "#2a3f5f"
            },
            "baxis": {
             "endlinecolor": "#2a3f5f",
             "gridcolor": "white",
             "linecolor": "white",
             "minorgridcolor": "white",
             "startlinecolor": "#2a3f5f"
            },
            "type": "carpet"
           }
          ],
          "choropleth": [
           {
            "colorbar": {
             "outlinewidth": 0,
             "ticks": ""
            },
            "type": "choropleth"
           }
          ],
          "contour": [
           {
            "colorbar": {
             "outlinewidth": 0,
             "ticks": ""
            },
            "colorscale": [
             [
              0,
              "#0d0887"
             ],
             [
              0.1111111111111111,
              "#46039f"
             ],
             [
              0.2222222222222222,
              "#7201a8"
             ],
             [
              0.3333333333333333,
              "#9c179e"
             ],
             [
              0.4444444444444444,
              "#bd3786"
             ],
             [
              0.5555555555555556,
              "#d8576b"
             ],
             [
              0.6666666666666666,
              "#ed7953"
             ],
             [
              0.7777777777777778,
              "#fb9f3a"
             ],
             [
              0.8888888888888888,
              "#fdca26"
             ],
             [
              1,
              "#f0f921"
             ]
            ],
            "type": "contour"
           }
          ],
          "contourcarpet": [
           {
            "colorbar": {
             "outlinewidth": 0,
             "ticks": ""
            },
            "type": "contourcarpet"
           }
          ],
          "heatmap": [
           {
            "colorbar": {
             "outlinewidth": 0,
             "ticks": ""
            },
            "colorscale": [
             [
              0,
              "#0d0887"
             ],
             [
              0.1111111111111111,
              "#46039f"
             ],
             [
              0.2222222222222222,
              "#7201a8"
             ],
             [
              0.3333333333333333,
              "#9c179e"
             ],
             [
              0.4444444444444444,
              "#bd3786"
             ],
             [
              0.5555555555555556,
              "#d8576b"
             ],
             [
              0.6666666666666666,
              "#ed7953"
             ],
             [
              0.7777777777777778,
              "#fb9f3a"
             ],
             [
              0.8888888888888888,
              "#fdca26"
             ],
             [
              1,
              "#f0f921"
             ]
            ],
            "type": "heatmap"
           }
          ],
          "heatmapgl": [
           {
            "colorbar": {
             "outlinewidth": 0,
             "ticks": ""
            },
            "colorscale": [
             [
              0,
              "#0d0887"
             ],
             [
              0.1111111111111111,
              "#46039f"
             ],
             [
              0.2222222222222222,
              "#7201a8"
             ],
             [
              0.3333333333333333,
              "#9c179e"
             ],
             [
              0.4444444444444444,
              "#bd3786"
             ],
             [
              0.5555555555555556,
              "#d8576b"
             ],
             [
              0.6666666666666666,
              "#ed7953"
             ],
             [
              0.7777777777777778,
              "#fb9f3a"
             ],
             [
              0.8888888888888888,
              "#fdca26"
             ],
             [
              1,
              "#f0f921"
             ]
            ],
            "type": "heatmapgl"
           }
          ],
          "histogram": [
           {
            "marker": {
             "colorbar": {
              "outlinewidth": 0,
              "ticks": ""
             }
            },
            "type": "histogram"
           }
          ],
          "histogram2d": [
           {
            "colorbar": {
             "outlinewidth": 0,
             "ticks": ""
            },
            "colorscale": [
             [
              0,
              "#0d0887"
             ],
             [
              0.1111111111111111,
              "#46039f"
             ],
             [
              0.2222222222222222,
              "#7201a8"
             ],
             [
              0.3333333333333333,
              "#9c179e"
             ],
             [
              0.4444444444444444,
              "#bd3786"
             ],
             [
              0.5555555555555556,
              "#d8576b"
             ],
             [
              0.6666666666666666,
              "#ed7953"
             ],
             [
              0.7777777777777778,
              "#fb9f3a"
             ],
             [
              0.8888888888888888,
              "#fdca26"
             ],
             [
              1,
              "#f0f921"
             ]
            ],
            "type": "histogram2d"
           }
          ],
          "histogram2dcontour": [
           {
            "colorbar": {
             "outlinewidth": 0,
             "ticks": ""
            },
            "colorscale": [
             [
              0,
              "#0d0887"
             ],
             [
              0.1111111111111111,
              "#46039f"
             ],
             [
              0.2222222222222222,
              "#7201a8"
             ],
             [
              0.3333333333333333,
              "#9c179e"
             ],
             [
              0.4444444444444444,
              "#bd3786"
             ],
             [
              0.5555555555555556,
              "#d8576b"
             ],
             [
              0.6666666666666666,
              "#ed7953"
             ],
             [
              0.7777777777777778,
              "#fb9f3a"
             ],
             [
              0.8888888888888888,
              "#fdca26"
             ],
             [
              1,
              "#f0f921"
             ]
            ],
            "type": "histogram2dcontour"
           }
          ],
          "mesh3d": [
           {
            "colorbar": {
             "outlinewidth": 0,
             "ticks": ""
            },
            "type": "mesh3d"
           }
          ],
          "parcoords": [
           {
            "line": {
             "colorbar": {
              "outlinewidth": 0,
              "ticks": ""
             }
            },
            "type": "parcoords"
           }
          ],
          "pie": [
           {
            "automargin": true,
            "type": "pie"
           }
          ],
          "scatter": [
           {
            "marker": {
             "colorbar": {
              "outlinewidth": 0,
              "ticks": ""
             }
            },
            "type": "scatter"
           }
          ],
          "scatter3d": [
           {
            "line": {
             "colorbar": {
              "outlinewidth": 0,
              "ticks": ""
             }
            },
            "marker": {
             "colorbar": {
              "outlinewidth": 0,
              "ticks": ""
             }
            },
            "type": "scatter3d"
           }
          ],
          "scattercarpet": [
           {
            "marker": {
             "colorbar": {
              "outlinewidth": 0,
              "ticks": ""
             }
            },
            "type": "scattercarpet"
           }
          ],
          "scattergeo": [
           {
            "marker": {
             "colorbar": {
              "outlinewidth": 0,
              "ticks": ""
             }
            },
            "type": "scattergeo"
           }
          ],
          "scattergl": [
           {
            "marker": {
             "colorbar": {
              "outlinewidth": 0,
              "ticks": ""
             }
            },
            "type": "scattergl"
           }
          ],
          "scattermapbox": [
           {
            "marker": {
             "colorbar": {
              "outlinewidth": 0,
              "ticks": ""
             }
            },
            "type": "scattermapbox"
           }
          ],
          "scatterpolar": [
           {
            "marker": {
             "colorbar": {
              "outlinewidth": 0,
              "ticks": ""
             }
            },
            "type": "scatterpolar"
           }
          ],
          "scatterpolargl": [
           {
            "marker": {
             "colorbar": {
              "outlinewidth": 0,
              "ticks": ""
             }
            },
            "type": "scatterpolargl"
           }
          ],
          "scatterternary": [
           {
            "marker": {
             "colorbar": {
              "outlinewidth": 0,
              "ticks": ""
             }
            },
            "type": "scatterternary"
           }
          ],
          "surface": [
           {
            "colorbar": {
             "outlinewidth": 0,
             "ticks": ""
            },
            "colorscale": [
             [
              0,
              "#0d0887"
             ],
             [
              0.1111111111111111,
              "#46039f"
             ],
             [
              0.2222222222222222,
              "#7201a8"
             ],
             [
              0.3333333333333333,
              "#9c179e"
             ],
             [
              0.4444444444444444,
              "#bd3786"
             ],
             [
              0.5555555555555556,
              "#d8576b"
             ],
             [
              0.6666666666666666,
              "#ed7953"
             ],
             [
              0.7777777777777778,
              "#fb9f3a"
             ],
             [
              0.8888888888888888,
              "#fdca26"
             ],
             [
              1,
              "#f0f921"
             ]
            ],
            "type": "surface"
           }
          ],
          "table": [
           {
            "cells": {
             "fill": {
              "color": "#EBF0F8"
             },
             "line": {
              "color": "white"
             }
            },
            "header": {
             "fill": {
              "color": "#C8D4E3"
             },
             "line": {
              "color": "white"
             }
            },
            "type": "table"
           }
          ]
         },
         "layout": {
          "annotationdefaults": {
           "arrowcolor": "#2a3f5f",
           "arrowhead": 0,
           "arrowwidth": 1
          },
          "coloraxis": {
           "colorbar": {
            "outlinewidth": 0,
            "ticks": ""
           }
          },
          "colorscale": {
           "diverging": [
            [
             0,
             "#8e0152"
            ],
            [
             0.1,
             "#c51b7d"
            ],
            [
             0.2,
             "#de77ae"
            ],
            [
             0.3,
             "#f1b6da"
            ],
            [
             0.4,
             "#fde0ef"
            ],
            [
             0.5,
             "#f7f7f7"
            ],
            [
             0.6,
             "#e6f5d0"
            ],
            [
             0.7,
             "#b8e186"
            ],
            [
             0.8,
             "#7fbc41"
            ],
            [
             0.9,
             "#4d9221"
            ],
            [
             1,
             "#276419"
            ]
           ],
           "sequential": [
            [
             0,
             "#0d0887"
            ],
            [
             0.1111111111111111,
             "#46039f"
            ],
            [
             0.2222222222222222,
             "#7201a8"
            ],
            [
             0.3333333333333333,
             "#9c179e"
            ],
            [
             0.4444444444444444,
             "#bd3786"
            ],
            [
             0.5555555555555556,
             "#d8576b"
            ],
            [
             0.6666666666666666,
             "#ed7953"
            ],
            [
             0.7777777777777778,
             "#fb9f3a"
            ],
            [
             0.8888888888888888,
             "#fdca26"
            ],
            [
             1,
             "#f0f921"
            ]
           ],
           "sequentialminus": [
            [
             0,
             "#0d0887"
            ],
            [
             0.1111111111111111,
             "#46039f"
            ],
            [
             0.2222222222222222,
             "#7201a8"
            ],
            [
             0.3333333333333333,
             "#9c179e"
            ],
            [
             0.4444444444444444,
             "#bd3786"
            ],
            [
             0.5555555555555556,
             "#d8576b"
            ],
            [
             0.6666666666666666,
             "#ed7953"
            ],
            [
             0.7777777777777778,
             "#fb9f3a"
            ],
            [
             0.8888888888888888,
             "#fdca26"
            ],
            [
             1,
             "#f0f921"
            ]
           ]
          },
          "colorway": [
           "#636efa",
           "#EF553B",
           "#00cc96",
           "#ab63fa",
           "#FFA15A",
           "#19d3f3",
           "#FF6692",
           "#B6E880",
           "#FF97FF",
           "#FECB52"
          ],
          "font": {
           "color": "#2a3f5f"
          },
          "geo": {
           "bgcolor": "white",
           "lakecolor": "white",
           "landcolor": "#E5ECF6",
           "showlakes": true,
           "showland": true,
           "subunitcolor": "white"
          },
          "hoverlabel": {
           "align": "left"
          },
          "hovermode": "closest",
          "mapbox": {
           "style": "light"
          },
          "paper_bgcolor": "white",
          "plot_bgcolor": "#E5ECF6",
          "polar": {
           "angularaxis": {
            "gridcolor": "white",
            "linecolor": "white",
            "ticks": ""
           },
           "bgcolor": "#E5ECF6",
           "radialaxis": {
            "gridcolor": "white",
            "linecolor": "white",
            "ticks": ""
           }
          },
          "scene": {
           "xaxis": {
            "backgroundcolor": "#E5ECF6",
            "gridcolor": "white",
            "gridwidth": 2,
            "linecolor": "white",
            "showbackground": true,
            "ticks": "",
            "zerolinecolor": "white"
           },
           "yaxis": {
            "backgroundcolor": "#E5ECF6",
            "gridcolor": "white",
            "gridwidth": 2,
            "linecolor": "white",
            "showbackground": true,
            "ticks": "",
            "zerolinecolor": "white"
           },
           "zaxis": {
            "backgroundcolor": "#E5ECF6",
            "gridcolor": "white",
            "gridwidth": 2,
            "linecolor": "white",
            "showbackground": true,
            "ticks": "",
            "zerolinecolor": "white"
           }
          },
          "shapedefaults": {
           "line": {
            "color": "#2a3f5f"
           }
          },
          "ternary": {
           "aaxis": {
            "gridcolor": "white",
            "linecolor": "white",
            "ticks": ""
           },
           "baxis": {
            "gridcolor": "white",
            "linecolor": "white",
            "ticks": ""
           },
           "bgcolor": "#E5ECF6",
           "caxis": {
            "gridcolor": "white",
            "linecolor": "white",
            "ticks": ""
           }
          },
          "title": {
           "x": 0.05
          },
          "xaxis": {
           "automargin": true,
           "gridcolor": "white",
           "linecolor": "white",
           "ticks": "",
           "title": {
            "standoff": 15
           },
           "zerolinecolor": "white",
           "zerolinewidth": 2
          },
          "yaxis": {
           "automargin": true,
           "gridcolor": "white",
           "linecolor": "white",
           "ticks": "",
           "title": {
            "standoff": 15
           },
           "zerolinecolor": "white",
           "zerolinewidth": 2
          }
         }
        },
        "title": {
         "text": "r/destinythegame vs r/destiny2 posts from previous 24 hours"
        },
        "xaxis": {
         "anchor": "y",
         "domain": [
          0,
          0.49
         ],
         "title": {
          "text": "Date Posted"
         }
        },
        "xaxis2": {
         "anchor": "y2",
         "domain": [
          0.51,
          1
         ],
         "matches": "x",
         "title": {
          "text": "Date Posted"
         }
        },
        "xaxis3": {
         "anchor": "y3",
         "domain": [
          0,
          0.49
         ],
         "matches": "x",
         "showgrid": true,
         "showticklabels": false
        },
        "xaxis4": {
         "anchor": "y4",
         "domain": [
          0.51,
          1
         ],
         "matches": "x",
         "showgrid": true,
         "showticklabels": false
        },
        "yaxis": {
         "anchor": "x",
         "domain": [
          0,
          0.7326
         ],
         "title": {
          "text": "Post Polarity"
         }
        },
        "yaxis2": {
         "anchor": "x2",
         "domain": [
          0,
          0.7326
         ],
         "matches": "y",
         "showticklabels": false
        },
        "yaxis3": {
         "anchor": "x3",
         "domain": [
          0.7426,
          1
         ],
         "matches": "y3",
         "showgrid": true,
         "showline": false,
         "showticklabels": false,
         "ticks": ""
        },
        "yaxis4": {
         "anchor": "x4",
         "domain": [
          0.7426,
          1
         ],
         "matches": "y3",
         "showgrid": true,
         "showline": false,
         "showticklabels": false,
         "ticks": ""
        }
       }
      },
      "text/html": [
       "<div>\n",
       "        \n",
       "        \n",
       "            <div id=\"ba7a2168-efd0-447f-b152-1962c9b82d42\" class=\"plotly-graph-div\" style=\"height:525px; width:100%;\"></div>\n",
       "            <script type=\"text/javascript\">\n",
       "                require([\"plotly\"], function(Plotly) {\n",
       "                    window.PLOTLYENV=window.PLOTLYENV || {};\n",
       "                    \n",
       "                if (document.getElementById(\"ba7a2168-efd0-447f-b152-1962c9b82d42\")) {\n",
       "                    Plotly.newPlot(\n",
       "                        'ba7a2168-efd0-447f-b152-1962c9b82d42',\n",
       "                        [{\"customdata\": [[\"destinythegame\", \"nightskiesdark\", \"https://www.reddit.com/r/DestinyTheGame/comments/ei5czv/erianas_vow_catalyst_quest_bug/\", \"ei5czv\"], [\"destinythegame\", \"rezmeihaveghorn\", \"https://www.reddit.com/r/DestinyTheGame/comments/ei5e4p/linking_class_ability_cool_down_to_mobility/\", \"ei5e4p\"], [\"destinythegame\", \"DTG_Bot\", \"https://www.reddit.com/r/DestinyTheGame/comments/ei5j8j/d2_weekly_reset_thread_20191231/\", \"ei5j8j\"], [\"destinythegame\", \"DHamlinMusic\", \"https://www.reddit.com/r/DestinyTheGame/comments/ei5jt0/trostland_as_a_crucible_map/\", \"ei5jt0\"], [\"destinythegame\", \"MariosFireball\", \"https://www.reddit.com/r/DestinyTheGame/comments/ei5k07/master_nightmare_hunt_light_level/\", \"ei5k07\"], [\"destinythegame\", \"WyattGquiet\", \"https://www.reddit.com/r/DestinyTheGame/comments/ei5k11/lunas_quest/\", \"ei5k11\"], [\"destinythegame\", \"Onedrid\", \"https://www.reddit.com/r/DestinyTheGame/comments/ei5koe/what_is_up_with_the_insane_tracking_on_supers_and/\", \"ei5koe\"], [\"destinythegame\", \"Jet_Nice_Guy\", \"https://www.reddit.com/r/DestinyTheGame/comments/ei5lpn/whether_you_wanted_it_or_not/\", \"ei5lpn\"], [\"destinythegame\", \"ghawkguy\", \"https://www.reddit.com/r/DestinyTheGame/comments/ei5ls9/i_cant_believe_itbut_i_think_its_time_for_a_break/\", \"ei5ls9\"], [\"destinythegame\", \"DTG_Bot\", \"https://www.reddit.com/r/DestinyTheGame/comments/ei5m5y/d2_daily_reset_thread_20191231/\", \"ei5m5y\"], [\"destinythegame\", \"king5six1\", \"https://www.reddit.com/r/DestinyTheGame/comments/ei5m74/a_few_qol_changes_that_would_go_a_long_way/\", \"ei5m74\"], [\"destinythegame\", \"DavidNexus7\", \"https://www.reddit.com/r/DestinyTheGame/comments/ei5o3i/bounties_glitch/\", \"ei5o3i\"], [\"destinythegame\", \"LRJiren\", \"https://www.reddit.com/r/DestinyTheGame/comments/ei5ozk/can_you_still_get_leviathans_breath/\", \"ei5ozk\"], [\"destinythegame\", \"zuggiz\", \"https://www.reddit.com/r/DestinyTheGame/comments/ei5q3o/year_one_ornaments/\", \"ei5q3o\"], [\"destinythegame\", \"cakeyyz\", \"https://www.reddit.com/r/DestinyTheGame/comments/ei5qjj/what_if_completing_weekly_activities_increases/\", \"ei5qjj\"], [\"destinythegame\", \"PraiseBasedDonut\", \"https://www.reddit.com/r/DestinyTheGame/comments/ei5rzw/cabagge_error_strikes_back/\", \"ei5rzw\"], [\"destinythegame\", \"RogueTGZ\", \"https://www.reddit.com/r/DestinyTheGame/comments/ei5sp1/i_3dprinted_and_hand_painted_the_ace_of_spades/\", \"ei5sp1\"], [\"destinythegame\", \"whiskyTango7734\", \"https://www.reddit.com/r/DestinyTheGame/comments/ei5t4p/bungie_we_need_a_few_more_glory_earnings_crucible/\", \"ei5t4p\"], [\"destinythegame\", \"BlaqkJak\", \"https://www.reddit.com/r/DestinyTheGame/comments/ei5tc7/is_exotic_armor_locked_into_a_element_type/\", \"ei5tc7\"], [\"destinythegame\", \"Bunnyezzz\", \"https://www.reddit.com/r/DestinyTheGame/comments/ei5v24/question_about_lord_of_wolves/\", \"ei5v24\"], [\"destinythegame\", \"drewbud33\", \"https://www.reddit.com/r/DestinyTheGame/comments/ei5vex/future_season_theory/\", \"ei5vex\"], [\"destinythegame\", \"NeonAttak\", \"https://www.reddit.com/r/DestinyTheGame/comments/ei5vky/let_us_buy_old_dawning_ornaments_for_bright_dust/\", \"ei5vky\"], [\"destinythegame\", \"wacawaka\", \"https://www.reddit.com/r/DestinyTheGame/comments/ei5y0k/would_you_prefer_new_rooms_runes_and_drops_for/\", \"ei5y0k\"], [\"destinythegame\", \"FewerColt369\", \"https://www.reddit.com/r/DestinyTheGame/comments/ei647m/recluse/\", \"ei647m\"], [\"destinythegame\", \"ASickG0at\", \"https://www.reddit.com/r/DestinyTheGame/comments/ei64oc/just_did_the_save_saint_14_mission/\", \"ei64oc\"], [\"destinythegame\", \"Throwaway37474839291\", \"https://www.reddit.com/r/DestinyTheGame/comments/ei650z/why_isnt_there_a_sawedoff_shotgun_exotic/\", \"ei650z\"], [\"destinythegame\", \"Vahro\", \"https://www.reddit.com/r/DestinyTheGame/comments/ei6758/if_you_purchase_any_silver_you_cannot_unlink_your/\", \"ei6758\"], [\"destinythegame\", \"Cookie_LP0\", \"https://www.reddit.com/r/DestinyTheGame/comments/ei67hh/bring_back_icebreaker_2020/\", \"ei67hh\"], [\"destinythegame\", \"ThrobbingDish\", \"https://www.reddit.com/r/DestinyTheGame/comments/ei68vi/yet_another_green_with_envy_post/\", \"ei68vi\"], [\"destinythegame\", \"Lucavellz\", \"https://www.reddit.com/r/DestinyTheGame/comments/ei69ed/rest_in_pieces/\", \"ei69ed\"], [\"destinythegame\", \"-MANGA-\", \"https://www.reddit.com/r/DestinyTheGame/comments/ei6a71/new_guy_to_d2_so_i_was_very_surprised_i_got/\", \"ei6a71\"], [\"destinythegame\", \"Nukesnipe\", \"https://www.reddit.com/r/DestinyTheGame/comments/ei6bth/to_that_hunter_last_night_that_threw_my_comp_match/\", \"ei6bth\"], [\"destinythegame\", \"Brandocks\", \"https://www.reddit.com/r/DestinyTheGame/comments/ei6eke/exotic_class_items/\", \"ei6eke\"], [\"destinythegame\", \"Desaxs\", \"https://www.reddit.com/r/DestinyTheGame/comments/ei6ers/future_dlc_with_golden_age_heavy_lore/\", \"ei6ers\"], [\"destinythegame\", \"PhazePyre\", \"https://www.reddit.com/r/DestinyTheGame/comments/ei6ffv/i_finally_finished_my_3d_printed_thorn/\", \"ei6ffv\"], [\"destinythegame\", \"Chung_bungus\", \"https://www.reddit.com/r/DestinyTheGame/comments/ei6fsj/the_unintended_results_from_the_changes_in/\", \"ei6fsj\"], [\"destinythegame\", \"Titans_are_superior\", \"https://www.reddit.com/r/DestinyTheGame/comments/ei6gve/fastest_way_to_complete_obliesk_bounties/\", \"ei6gve\"], [\"destinythegame\", \"Outstandingcucumber\", \"https://www.reddit.com/r/DestinyTheGame/comments/ei6hfh/green_with_envy_quest_still_bugged/\", \"ei6hfh\"], [\"destinythegame\", \"jkfuzzy\", \"https://www.reddit.com/r/DestinyTheGame/comments/ei6ht2/1000_hours_in_and_still_getting_surprised/\", \"ei6ht2\"], [\"destinythegame\", \"king-jubba\", \"https://www.reddit.com/r/DestinyTheGame/comments/ei6i8e/fantastic_destiny_guns_and_where_to_find_them/\", \"ei6i8e\"], [\"destinythegame\", \"Dragamaroon\", \"https://www.reddit.com/r/DestinyTheGame/comments/ei6ib2/i_wish_there_was_a_button_i_could_press_to_save/\", \"ei6ib2\"], [\"destinythegame\", \"xSilverBruh9x\", \"https://www.reddit.com/r/DestinyTheGame/comments/ei6j49/980_savathuns_difficulty/\", \"ei6j49\"], [\"destinythegame\", \"Onyx_Ninja\", \"https://www.reddit.com/r/DestinyTheGame/comments/ei6jsl/please_let_us_have_our_character_give_our_ghost_a/\", \"ei6jsl\"], [\"destinythegame\", \"TTVMoses\", \"https://www.reddit.com/r/DestinyTheGame/comments/ei6l2g/destiny_2_needs_more_game_modes/\", \"ei6l2g\"], [\"destinythegame\", \"Corvo4133\", \"https://www.reddit.com/r/DestinyTheGame/comments/ei6nrj/something_is_going_on_with_the_dreaming_city/\", \"ei6nrj\"], [\"destinythegame\", \"destinyvoidlock\", \"https://www.reddit.com/r/DestinyTheGame/comments/ei6nyw/in_year_3_it_sucks_that_small_clans_are_still/\", \"ei6nyw\"], [\"destinythegame\", \"ryvenkael\", \"https://www.reddit.com/r/DestinyTheGame/comments/ei6q89/why_are_some_seemingly_small_settings_platform/\", \"ei6q89\"], [\"destinythegame\", \"MichaelTL\", \"https://www.reddit.com/r/DestinyTheGame/comments/ei6rh5/is_the_nightfall_the_corutped_ever_coming_back/\", \"ei6rh5\"], [\"destinythegame\", \"Lokil\", \"https://www.reddit.com/r/DestinyTheGame/comments/ei6sad/travelers_judgment_5_does_not_receive_a_second/\", \"ei6sad\"], [\"destinythegame\", \"VegitoEnigma\", \"https://www.reddit.com/r/DestinyTheGame/comments/ei6t2g/what_happened_to_doubles/\", \"ei6t2g\"], [\"destinythegame\", \"teach49\", \"https://www.reddit.com/r/DestinyTheGame/comments/ei6vzc/all_buffs_should_have_timers_andor_be_displayed/\", \"ei6vzc\"], [\"destinythegame\", \"Marcianoox\", \"https://www.reddit.com/r/DestinyTheGame/comments/ei6w1a/farming_imperials_to_upgrade_chalice/\", \"ei6w1a\"], [\"destinythegame\", \"WaavyDaavy\", \"https://www.reddit.com/r/DestinyTheGame/comments/ei6wr4/how_do_you_get_more_than_1_reward_from_the_sundial/\", \"ei6wr4\"], [\"destinythegame\", \"UKnowPoo\", \"https://www.reddit.com/r/DestinyTheGame/comments/ei6ymf/season_pass_post100lvl_glitch/\", \"ei6ymf\"], [\"destinythegame\", \"jcspoon\", \"https://www.reddit.com/r/DestinyTheGame/comments/ei70z7/automatic_redemption_of_season_passes/\", \"ei70z7\"], [\"destinythegame\", \"Struchdestroyer\", \"https://www.reddit.com/r/DestinyTheGame/comments/ei71ns/bungo_timelost_bountys_dont_work/\", \"ei71ns\"], [\"destinythegame\", \"HumanDemise\", \"https://www.reddit.com/r/DestinyTheGame/comments/ei72u7/love_and_death/\", \"ei72u7\"], [\"destinythegame\", \"TTVMoses\", \"https://www.reddit.com/r/DestinyTheGame/comments/ei7398/destiny_2_pvp_needs_endgame_content_and_loot_to/\", \"ei7398\"], [\"destinythegame\", \"RedDeath299_\", \"https://www.reddit.com/r/DestinyTheGame/comments/ei742e/incomplete_gambit_teams/\", \"ei742e\"], [\"destinythegame\", \"PerilousMax\", \"https://www.reddit.com/r/DestinyTheGame/comments/ei750i/armor_issues_that_need_to_be_looked_at/\", \"ei750i\"], [\"destinythegame\", \"cryptic-fox\", \"https://www.reddit.com/r/DestinyTheGame/comments/ei7519/can_i_forget_about_the_pvp_portion_of_the_game/\", \"ei7519\"], [\"destinythegame\", \"wo4h_my_dud3\", \"https://www.reddit.com/r/DestinyTheGame/comments/ei76cy/question_about_sundial_mods/\", \"ei76cy\"], [\"destinythegame\", \"mooseythings\", \"https://www.reddit.com/r/DestinyTheGame/comments/ei76d4/which_quests_can_i_abandon/\", \"ei76d4\"], [\"destinythegame\", \"SkylarxMcCool\", \"https://www.reddit.com/r/DestinyTheGame/comments/ei77ud/finishers/\", \"ei77ud\"], [\"destinythegame\", \"Prob_Pooping\", \"https://www.reddit.com/r/DestinyTheGame/comments/ei78jh/quest_nonfunctional_a_matter_of_time/\", \"ei78jh\"], [\"destinythegame\", \"phantom13927\", \"https://www.reddit.com/r/DestinyTheGame/comments/ei7dh9/concept_for_weekly_pinnacle_targeting/\", \"ei7dh9\"], [\"destinythegame\", \"MothEmperor07\", \"https://www.reddit.com/r/DestinyTheGame/comments/ei7es2/osiris_event_expiring_at_season_end/\", \"ei7es2\"], [\"destinythegame\", \"Max_Tin\", \"https://www.reddit.com/r/DestinyTheGame/comments/ei7f2n/bad_juju_quest/\", \"ei7f2n\"], [\"destinythegame\", \"skyman5150\", \"https://www.reddit.com/r/DestinyTheGame/comments/ei7mlt/shaxx_raid/\", \"ei7mlt\"], [\"destinythegame\", \"Elwalther21\", \"https://www.reddit.com/r/DestinyTheGame/comments/ei7p7q/is_izenagis_still_bugged/\", \"ei7p7q\"], [\"destinythegame\", \"HiddnAce\", \"https://www.reddit.com/r/DestinyTheGame/comments/ei7rp6/exotic_catalyst_and_ornament_idea_for_le_monarque/\", \"ei7rp6\"], [\"destinythegame\", \"MookieV\", \"https://www.reddit.com/r/DestinyTheGame/comments/ei7sc0/found_this_article_about_d1_armor_during_my/\", \"ei7sc0\"], [\"destinythegame\", \"immortaldon\", \"https://www.reddit.com/r/DestinyTheGame/comments/ei7t0h/how_do_people_feel_about_class_balancing/\", \"ei7t0h\"], [\"destinythegame\", \"Arman276\", \"https://www.reddit.com/r/DestinyTheGame/comments/ei7u82/can_we_actually_change_the_ordeal/\", \"ei7u82\"], [\"destinythegame\", \"jens-adams\", \"https://www.reddit.com/r/DestinyTheGame/comments/ei7v56/exotic_class_armor/\", \"ei7v56\"], [\"destinythegame\", \"Zanex123\", \"https://www.reddit.com/r/DestinyTheGame/comments/ei7wdu/how_to_get_lord_of_wolves/\", \"ei7wdu\"], [\"destinythegame\", \"ANTORICO2THELEGEND\", \"https://www.reddit.com/r/DestinyTheGame/comments/ei7wpr/make_reckoning_t3_guarantee_a_drop/\", \"ei7wpr\"], [\"destinythegame\", \"draco5105\", \"https://www.reddit.com/r/DestinyTheGame/comments/ei7xcc/restoring_my_faith_in_the_community/\", \"ei7xcc\"], [\"destinythegame\", \"kdebones\", \"https://www.reddit.com/r/DestinyTheGame/comments/ei7xe6/easy_150_solar_kills/\", \"ei7xe6\"], [\"destinythegame\", \"HellChicken949\", \"https://www.reddit.com/r/DestinyTheGame/comments/ei7y71/where_can_i_get_a_bow/\", \"ei7y71\"], [\"destinythegame\", \"NegZ68\", \"https://www.reddit.com/r/DestinyTheGame/comments/ei7ys5/has_bungie_ever_said_why_we_have_to_rank_up/\", \"ei7ys5\"], [\"destinythegame\", \"Skifer91290\", \"https://www.reddit.com/r/DestinyTheGame/comments/ei80b5/a_3_tiered_fix_to_the_ghost_system/\", \"ei80b5\"], [\"destinythegame\", \"Dethproof814\", \"https://www.reddit.com/r/DestinyTheGame/comments/ei80m4/bungie_can_we_please_get_a_vault_space_increase/\", \"ei80m4\"], [\"destinythegame\", \"SpessMareen\", \"https://www.reddit.com/r/DestinyTheGame/comments/ei8272/vanguard_weekly_bounties_are_bugged_they_have/\", \"ei8272\"], [\"destinythegame\", \"dmg1920\", \"https://www.reddit.com/r/DestinyTheGame/comments/ei8332/what_is_the_actual_god_roll_for_breachlight/\", \"ei8332\"], [\"destinythegame\", \"RevanTheDragon\", \"https://www.reddit.com/r/DestinyTheGame/comments/ei84mj/is_the_bust_a_move_emote_a_reference_to_the_dance/\", \"ei84mj\"], [\"destinythegame\", \"Joshhaslam\", \"https://www.reddit.com/r/DestinyTheGame/comments/ei854b/master_nightmare_hunt_time_trials/\", \"ei854b\"], [\"destinythegame\", \"Megajoshuaw\", \"https://www.reddit.com/r/DestinyTheGame/comments/ei857z/how_to_stop_the_glare/\", \"ei857z\"], [\"destinythegame\", \"babey_time\", \"https://www.reddit.com/r/DestinyTheGame/comments/ei86fs/question_about_the_microsoft_store_sale_on_the/\", \"ei86fs\"], [\"destinythegame\", \"bLargwastaken\", \"https://www.reddit.com/r/DestinyTheGame/comments/ei8826/bug_or_intentional/\", \"ei8826\"], [\"destinythegame\", \"G-Nod\", \"https://www.reddit.com/r/DestinyTheGame/comments/ei8asa/that_european_dead_zone_problem/\", \"ei8asa\"], [\"destinythegame\", \"the-Jummy\", \"https://www.reddit.com/r/DestinyTheGame/comments/ei8c5g/the_thrill_of_denying_rocket_kills/\", \"ei8c5g\"], [\"destinythegame\", \"Faeluchu\", \"https://www.reddit.com/r/DestinyTheGame/comments/ei8cj1/theres_an_invisible_arrow_nocked_to_the_stowed/\", \"ei8cj1\"], [\"destinythegame\", \"Ask4Damien\", \"https://www.reddit.com/r/DestinyTheGame/comments/ei8dvl/what_causes_telesto_to_be_such_a_pain_for_bungie/\", \"ei8dvl\"], [\"destinythegame\", \"ehixson\", \"https://www.reddit.com/r/DestinyTheGame/comments/ei8fu2/battle_pass_the_bounty_grind_and_lack_of/\", \"ei8fu2\"], [\"destinythegame\", \"Tharja13\", \"https://www.reddit.com/r/DestinyTheGame/comments/ei8i2p/how_to_make_wish_ender_feel_more_exotic_but_keep/\", \"ei8i2p\"], [\"destinythegame\", \"Xunto\", \"https://www.reddit.com/r/DestinyTheGame/comments/ei8in4/obelisk_max_level/\", \"ei8in4\"], [\"destinythegame\", \"Chillager124\", \"https://www.reddit.com/r/DestinyTheGame/comments/ei8j4j/there_should_be_more_exotic_quests_for_armor/\", \"ei8j4j\"], [\"destinythegame\", \"MM487\", \"https://www.reddit.com/r/DestinyTheGame/comments/ei8jrk/how_do_i_get_the_an_impossible_task_quest/\", \"ei8jrk\"], [\"destinythegame\", \"saiyan_boy\", \"https://www.reddit.com/r/DestinyTheGame/comments/ei8mb9/d1_nostalgia/\", \"ei8mb9\"], [\"destinythegame\", \"saminsocks\", \"https://www.reddit.com/r/DestinyTheGame/comments/ei8mvr/symmetry_should_not_lose_dynamic_charge_when/\", \"ei8mvr\"], [\"destinythegame\", \"FInnH93\", \"https://www.reddit.com/r/DestinyTheGame/comments/ei8n2s/for_all_the_ups_and_downs_this_season_seems_to/\", \"ei8n2s\"], [\"destinythegame\", \"WaavyDaavy\", \"https://www.reddit.com/r/DestinyTheGame/comments/ei8o15/the_crayon_economy_is_really_bad_and_it_needs_a/\", \"ei8o15\"], [\"destinythegame\", \"yaoivampire\", \"https://www.reddit.com/r/DestinyTheGame/comments/ei8o4r/please_give_us_an_option_to_autoshard_blues/\", \"ei8o4r\"], [\"destinythegame\", \"mylifemyworld17\", \"https://www.reddit.com/r/DestinyTheGame/comments/ei8qv0/survival_freelance_matchmaking_is_completely/\", \"ei8qv0\"], [\"destinythegame\", \"CraigStewy\", \"https://www.reddit.com/r/DestinyTheGame/comments/ei8r2m/need_advice/\", \"ei8r2m\"], [\"destinythegame\", \"Nukesnipe\", \"https://www.reddit.com/r/DestinyTheGame/comments/ei8r6i/my_biggest_hope_is_that_we_get_a_taken_king_style/\", \"ei8r6i\"], [\"destinythegame\", \"Codrates\", \"https://www.reddit.com/r/DestinyTheGame/comments/ei8txd/psa_solo_players/\", \"ei8txd\"], [\"destinythegame\", \"TylerB0ne_\", \"https://www.reddit.com/r/DestinyTheGame/comments/ei8vfi/i_want_a_theater_mode_for_destiny_2/\", \"ei8vfi\"], [\"destinythegame\", \"Kyronius-\", \"https://www.reddit.com/r/DestinyTheGame/comments/ei8wsh/ship_space_battles_amanda_holiday_srl_solar/\", \"ei8wsh\"], [\"destinythegame\", \"Ovogotti\", \"https://www.reddit.com/r/DestinyTheGame/comments/ei8y60/a_decade_to_look_back_on_with_joy/\", \"ei8y60\"], [\"destinythegame\", \"MRlll\", \"https://www.reddit.com/r/DestinyTheGame/comments/ei8ynh/garden_challenges/\", \"ei8ynh\"], [\"destinythegame\", \"Yung_Seamless\", \"https://www.reddit.com/r/DestinyTheGame/comments/ei92a3/eververse_ornament_glitch/\", \"ei92a3\"], [\"destinythegame\", \"Griffintowers101\", \"https://www.reddit.com/r/DestinyTheGame/comments/ei931y/this_is_ridiculous/\", \"ei931y\"], [\"destinythegame\", \"chowdahead03\", \"https://www.reddit.com/r/DestinyTheGame/comments/ei94dq/so_hammer_titans_using_solar_plexus_are/\", \"ei94dq\"], [\"destinythegame\", \"VoicedN\", \"https://www.reddit.com/r/DestinyTheGame/comments/ei95ea/exotics_from_weeklies/\", \"ei95ea\"], [\"destinythegame\", \"Bauzakeruga\", \"https://www.reddit.com/r/DestinyTheGame/comments/ei95kn/perks_diversity_in_destiny2_is_sad_and_not_for/\", \"ei95kn\"], [\"destinythegame\", \"CLOROX_CONFIRMED\", \"https://www.reddit.com/r/DestinyTheGame/comments/ei961b/polarized_fractaline_use/\", \"ei961b\"], [\"destinythegame\", \"Srsasquatch\", \"https://www.reddit.com/r/DestinyTheGame/comments/ei96i6/crossing_the_bridge_in_d1_crotas_end/\", \"ei96i6\"], [\"destinythegame\", \"HawksWill\", \"https://www.reddit.com/r/DestinyTheGame/comments/ei97gw/champion_mobs_pay_attention/\", \"ei97gw\"], [\"destinythegame\", \"FearlessZephyr\", \"https://www.reddit.com/r/DestinyTheGame/comments/ei97yb/you_speedrunners_sound_like_you_need_another/\", \"ei97yb\"], [\"destinythegame\", \"fir5t1nline\", \"https://www.reddit.com/r/DestinyTheGame/comments/ei99er/fov_slider_on_stadia/\", \"ei99er\"], [\"destinythegame\", \"Bauzakeruga\", \"https://www.reddit.com/r/DestinyTheGame/comments/ei9a72/destiny_2_perk_diversity_is_sad_and_its_cause_of/\", \"ei9a72\"], [\"destinythegame\", \"Mushroom_Surprise\", \"https://www.reddit.com/r/DestinyTheGame/comments/ei9bel/some_numbers_on_ability_cooldowns_with_nezarecs/\", \"ei9bel\"], [\"destinythegame\", \"kinntaki\", \"https://www.reddit.com/r/DestinyTheGame/comments/ei9dak/bungie_this_is_my_47thday_doing_black_armory/\", \"ei9dak\"], [\"destinythegame\", \"macho-dong\", \"https://www.reddit.com/r/DestinyTheGame/comments/ei9e2z/tarrabah_catalyst_idea/\", \"ei9e2z\"], [\"destinythegame\", \"Hazmat616\", \"https://www.reddit.com/r/DestinyTheGame/comments/ei9ej7/the_cosmodrome_should_be_added_as_a_destination/\", \"ei9ej7\"], [\"destinythegame\", \"rkelez\", \"https://www.reddit.com/r/DestinyTheGame/comments/ei9eue/no_comp_weekly_reward/\", \"ei9eue\"], [\"destinythegame\", \"ChiIIerr\", \"https://www.reddit.com/r/DestinyTheGame/comments/ei9f7o/for_2020_can_we_not_get_fan_favorite_weapons_like/\", \"ei9f7o\"], [\"destinythegame\", \"vejolly\", \"https://www.reddit.com/r/DestinyTheGame/comments/ei9g8q/fractaline_skimmer_weekly_reset/\", \"ei9g8q\"], [\"destinythegame\", \"Leviathan3333\", \"https://www.reddit.com/r/DestinyTheGame/comments/ei9gfi/just_got_suspended_from_competitive/\", \"ei9gfi\"], [\"destinythegame\", \"OldAngryShrek\", \"https://www.reddit.com/r/DestinyTheGame/comments/ei9hdu/contacting_bungie_for_support/\", \"ei9hdu\"], [\"destinythegame\", \"5-Second-Ruul\", \"https://www.reddit.com/r/DestinyTheGame/comments/ei9i1w/saladin_forgot_to_pack_his_bags/\", \"ei9i1w\"], [\"destinythegame\", \"Jerk48\", \"https://www.reddit.com/r/DestinyTheGame/comments/ei9isd/ghost_slotted_consumables/\", \"ei9isd\"], [\"destinythegame\", \"Vandalbot\", \"https://www.reddit.com/r/DestinyTheGame/comments/ei9iw6/why_are_comp_games_starting_3_v_2_a_thing/\", \"ei9iw6\"], [\"destinythegame\", \"KitsuneKamiSama\", \"https://www.reddit.com/r/DestinyTheGame/comments/ei9j4k/can_we_get_like_an_actual_event_for_the_next/\", \"ei9j4k\"], [\"destinythegame\", \"megawhiz1769\", \"https://www.reddit.com/r/DestinyTheGame/comments/ei9ksc/with_the_mindbenders_ambition_farm_being_back/\", \"ei9ksc\"], [\"destinythegame\", \"frankieluigi\", \"https://www.reddit.com/r/DestinyTheGame/comments/ei9lfj/how_does_the_recluse_triumph_work/\", \"ei9lfj\"], [\"destinythegame\", \"Titans_are_superior\", \"https://www.reddit.com/r/DestinyTheGame/comments/ei9lha/honor_bound_bosses_arent_working_for_me_help/\", \"ei9lha\"], [\"destinythegame\", \"The_Better_Devil\", \"https://www.reddit.com/r/DestinyTheGame/comments/ei9lsc/what_are_some_of_the_greatest/\", \"ei9lsc\"], [\"destinythegame\", \"FewerColt369\", \"https://www.reddit.com/r/DestinyTheGame/comments/ei9oxo/recluse_journey/\", \"ei9oxo\"], [\"destinythegame\", \"mirshe\", \"https://www.reddit.com/r/DestinyTheGame/comments/ei9pyi/death_loop_in_zero_hour/\", \"ei9pyi\"], [\"destinythegame\", \"xenosidezero\", \"https://www.reddit.com/r/DestinyTheGame/comments/ei9rqf/uh_saladin_you_forgot_your_stuff/\", \"ei9rqf\"], [\"destinythegame\", \"CF0311\", \"https://www.reddit.com/r/DestinyTheGame/comments/ei9tke/officially_in_the_triple_digit_last_wish_chests/\", \"ei9tke\"], [\"destinythegame\", \"Caffete\", \"https://www.reddit.com/r/DestinyTheGame/comments/ei9u3i/it_has_been_scientifically_proven_that_punching/\", \"ei9u3i\"], [\"destinythegame\", \"Raito103\", \"https://www.reddit.com/r/DestinyTheGame/comments/ei9v51/why_does_wendigo_have_max_base_ammo_of_17_while/\", \"ei9v51\"], [\"destinythegame\", \"Cryhunter059\", \"https://www.reddit.com/r/DestinyTheGame/comments/ei9vbm/question_about_mida_catalyst/\", \"ei9vbm\"], [\"destinythegame\", \"Oryxhasnonuts\", \"https://www.reddit.com/r/DestinyTheGame/comments/ei9w4o/new_years_idea_lets_all_come_together/\", \"ei9w4o\"], [\"destinythegame\", \"ClouttMyster\", \"https://www.reddit.com/r/DestinyTheGame/comments/ei9wq7/parade_armor_sets/\", \"ei9wq7\"], [\"destinythegame\", \"Sandman15235\", \"https://www.reddit.com/r/DestinyTheGame/comments/ei9zhk/getting_kicked_from_strikes_all_day_everyday/\", \"ei9zhk\"], [\"destinythegame\", \"Anderty\", \"https://www.reddit.com/r/DestinyTheGame/comments/eia0dq/banshee_precision_weekly_bounty_is_bugged_and_its/\", \"eia0dq\"], [\"destinythegame\", \"Storm-Shadow98\", \"https://www.reddit.com/r/DestinyTheGame/comments/eia0mi/are_gunsmith_weekly_bounties_bugged/\", \"eia0mi\"], [\"destinythegame\", \"MGPythagoras\", \"https://www.reddit.com/r/DestinyTheGame/comments/eia0ps/i_completed_all_the_alpine_quests_but_my_sparrow/\", \"eia0ps\"], [\"destinythegame\", \"Kdubsmoking2\", \"https://www.reddit.com/r/DestinyTheGame/comments/eia2si/start_your_new_year_off_right/\", \"eia2si\"], [\"destinythegame\", \"The_Better_Devil\", \"https://www.reddit.com/r/DestinyTheGame/comments/eia3kg/tower_thoughtthe_whether_we_wanted_it_or_not_meme/\", \"eia3kg\"], [\"destinythegame\", \"vivereFerrari\", \"https://www.reddit.com/r/DestinyTheGame/comments/eia41y/a_choice_for_using_your_charged_or_uncharged/\", \"eia41y\"], [\"destinythegame\", \"stevie242\", \"https://www.reddit.com/r/DestinyTheGame/comments/eia6se/weasel_errors_in_the_dreaming_city/\", \"eia6se\"], [\"destinythegame\", \"blacktip102\", \"https://www.reddit.com/r/DestinyTheGame/comments/eia6vf/anybody_know_a_fast_way_to_get_god_roll_trust/\", \"eia6vf\"], [\"destinythegame\", \"onlyyoshi97\", \"https://www.reddit.com/r/DestinyTheGame/comments/eia8pd/so_did_we_just_abandon_the_dreaming_city/\", \"eia8pd\"], [\"destinythegame\", \"GlobalPhreak\", \"https://www.reddit.com/r/DestinyTheGame/comments/eia9g5/dont_play_pvp_completing_an_impossible_task_25/\", \"eia9g5\"], [\"destinythegame\", \"InvisiKid\", \"https://www.reddit.com/r/DestinyTheGame/comments/eia9ts/bad_juju_miniature_replica_code/\", \"eia9ts\"], [\"destinythegame\", \"Bugs5567\", \"https://www.reddit.com/r/DestinyTheGame/comments/eiaaa9/bungie_for_travelers_sake_we_are_5_years_in_and/\", \"eiaaa9\"], [\"destinythegame\", \"emubilly\", \"https://www.reddit.com/r/DestinyTheGame/comments/eiaazr/does_a_higher_nightfall_score_increase_your/\", \"eiaazr\"], [\"destinythegame\", \"PyjamaLlamaParty\", \"https://www.reddit.com/r/DestinyTheGame/comments/eiab89/fastest_way_to_farm_mindbenders_from_this_weeks/\", \"eiab89\"], [\"destinythegame\", \"gwserfon\", \"https://www.reddit.com/r/DestinyTheGame/comments/eiacoc/i_upgraded_consoles_and_it_feels_like_im_playing/\", \"eiacoc\"], [\"destinythegame\", \"exhaustedoctopus\", \"https://www.reddit.com/r/DestinyTheGame/comments/eiad8d/i_made_my_husband_a_mini_quilt_for_christmas/\", \"eiad8d\"], [\"destinythegame\", \"taskmaster51\", \"https://www.reddit.com/r/DestinyTheGame/comments/eiae94/had_thunderlord_drop_last_night/\", \"eiae94\"], [\"destinythegame\", \"agitatedandroid\", \"https://www.reddit.com/r/DestinyTheGame/comments/eiaeje/shadowkeep_or_season/\", \"eiaeje\"], [\"destinythegame\", \"Onyx_Ninja\", \"https://www.reddit.com/r/DestinyTheGame/comments/eiahj8/idea_for_rift_20/\", \"eiahj8\"], [\"destinythegame\", \"saga_712\", \"https://www.reddit.com/r/DestinyTheGame/comments/eiahts/stop_pushing_if_you_have_life_advantage_in_a_23/\", \"eiahts\"], [\"destinythegame\", \"ShaneBazTe\", \"https://www.reddit.com/r/DestinyTheGame/comments/eialy0/green_with_envy_is_even_more_messed_up/\", \"eialy0\"], [\"destinythegame\", \"lizardking796\", \"https://www.reddit.com/r/DestinyTheGame/comments/eiamu4/i_think_there_should_be_a_way_to_play_the_strike/\", \"eiamu4\"], [\"destinythegame\", \"Montregloe\", \"https://www.reddit.com/r/DestinyTheGame/comments/eiamul/the_surrounded_perk_is_cool/\", \"eiamul\"], [\"destinythegame\", \"ToN7No\", \"https://www.reddit.com/r/DestinyTheGame/comments/eianux/help_someone_for_a_year_get_no_recognition_long/\", \"eianux\"], [\"destinythegame\", \"RussianBearFight\", \"https://www.reddit.com/r/DestinyTheGame/comments/eiap7r/banshee_weekly_bounty_not_resetting_properly/\", \"eiap7r\"], [\"destinythegame\", \"brohemianmoment\", \"https://www.reddit.com/r/DestinyTheGame/comments/eiaqi8/weird_boss_i_found_in_pit_of_heresy/\", \"eiaqi8\"], [\"destinythegame\", \"TervoDoesGamesYT\", \"https://www.reddit.com/r/DestinyTheGame/comments/eiaqn5/_/\", \"eiaqn5\"], [\"destinythegame\", \"Vips_The_Imbecile\", \"https://www.reddit.com/r/DestinyTheGame/comments/eiaqt5/is_it_intentional_for_the_mod_heavy_handed_to_not/\", \"eiaqt5\"], [\"destinythegame\", \"AgentZeroHour\", \"https://www.reddit.com/r/DestinyTheGame/comments/eiatmu/trying_to_figure_out_if_there_is_a_way_to_farm/\", \"eiatmu\"], [\"destinythegame\", \"CosChrome\", \"https://www.reddit.com/r/DestinyTheGame/comments/eiawue/were_new_voice_lines_implemented_to_lord_shaxx/\", \"eiawue\"], [\"destinythegame\", \"skoomable\", \"https://www.reddit.com/r/DestinyTheGame/comments/eib5vz/can_we_please_get_some_way_to_sync_pursuit/\", \"eib5vz\"], [\"destinythegame\", \"ShadeofCayde6\", \"https://www.reddit.com/r/DestinyTheGame/comments/eib6g4/season_pass_hunter_cloak_is_busted_and_this_makes/\", \"eib6g4\"], [\"destinythegame\", \"Iccotak\", \"https://www.reddit.com/r/DestinyTheGame/comments/eib6va/expanding_on_character_creation/\", \"eib6va\"], [\"destinythegame\", \"VanpyroGaming\", \"https://www.reddit.com/r/DestinyTheGame/comments/eib7nu/after_a_4_day_grind_reckoner_is_mine/\", \"eib7nu\"], [\"destinythegame\", \"ShadeofCayde6\", \"https://www.reddit.com/r/DestinyTheGame/comments/eibc8v/the_season_pass_cloak_is_so_badly_broken_and_it/\", \"eibc8v\"], [\"destinythegame\", \"LeNooFa\", \"https://www.reddit.com/r/DestinyTheGame/comments/eibd63/destiny_companion_app/\", \"eibd63\"], [\"destinythegame\", \"CrimsonProletariat\", \"https://www.reddit.com/r/DestinyTheGame/comments/eibdf6/dont_be_dumb_tonight_guardians_have_someone_fly/\", \"eibdf6\"], [\"destinythegame\", \"StarkSparks\", \"https://www.reddit.com/r/DestinyTheGame/comments/eibe3j/what_is_considered_to_be_the_best_pulse_rifle_in/\", \"eibe3j\"], [\"destinythegame\", \"Padrin95\", \"https://www.reddit.com/r/DestinyTheGame/comments/eibfr8/tangled_shore_resource_detector_as_a_buff/\", \"eibfr8\"], [\"destinythegame\", \"RickV6\", \"https://www.reddit.com/r/DestinyTheGame/comments/eibfwo/i_just_have_one_simple_question_for_bungie_will/\", \"eibfwo\"], [\"destinythegame\", \"xKybow\", \"https://www.reddit.com/r/DestinyTheGame/comments/eibhvy/randys_throwing_knife/\", \"eibhvy\"], [\"destinythegame\", \"TheCuccubus\", \"https://www.reddit.com/r/DestinyTheGame/comments/eibkfv/might_i_make_a_suggestion/\", \"eibkfv\"], [\"destinythegame\", \"SVrider26\", \"https://www.reddit.com/r/DestinyTheGame/comments/eibne6/experiencing_old_content_with_new_players/\", \"eibne6\"], [\"destinythegame\", \"OldNorseBoy\", \"https://www.reddit.com/r/DestinyTheGame/comments/eibnpr/sup_with_the_symmetry_quote/\", \"eibnpr\"], [\"destinythegame\", \"cancercureall\", \"https://www.reddit.com/r/DestinyTheGame/comments/eibnzy/new_privacy_policy/\", \"eibnzy\"], [\"destinythegame\", \"bartonie\", \"https://www.reddit.com/r/DestinyTheGame/comments/eibonw/eververse_question/\", \"eibonw\"], [\"destinythegame\", \"tracermain12\", \"https://www.reddit.com/r/DestinyTheGame/comments/eiboz1/will_there_be_anything_really_hard_coming_for_the/\", \"eiboz1\"], [\"destinythegame\", \"Lavatis\", \"https://www.reddit.com/r/DestinyTheGame/comments/eibp7h/glory_would_be_a_lot_more_fun_to_earn_if_i_wasnt/\", \"eibp7h\"], [\"destinythegame\", \"skeletorodp\", \"https://www.reddit.com/r/DestinyTheGame/comments/eibpnq/met_saint_14_before_getting_perfect_paradox/\", \"eibpnq\"], [\"destinythegame\", \"TheMaestroNoob\", \"https://www.reddit.com/r/DestinyTheGame/comments/eibt9i/fan_art_sexy_the_last_word/\", \"eibt9i\"], [\"destinythegame\", \"InactivePixels\", \"https://www.reddit.com/r/DestinyTheGame/comments/eibvoi/how_many_people_have_gotten_their_raid_jackets/\", \"eibvoi\"], [\"destinythegame\", \"ske7chpls\", \"https://www.reddit.com/r/DestinyTheGame/comments/eibvrc/arms_dealer_strike_needs_season_8_pass_in_season_9/\", \"eibvrc\"], [\"destinythegame\", \"dMNY307\", \"https://www.reddit.com/r/DestinyTheGame/comments/eibwg7/is_whisper_of_the_worm_still_good/\", \"eibwg7\"], [\"destinythegame\", \"DesertJaguar\", \"https://www.reddit.com/r/DestinyTheGame/comments/eibx6k/trolling_essence_afk_farmers_is_fun/\", \"eibx6k\"], [\"destinythegame\", \"DefinitelyNotThatJoe\", \"https://www.reddit.com/r/DestinyTheGame/comments/eibxst/bounties_should_show_up_in_our_logs_automatically/\", \"eibxst\"], [\"destinythegame\", \"Kyronius-\", \"https://www.reddit.com/r/DestinyTheGame/comments/eic1lr/our_character_dialogue_and_voice_is_far_too_rare/\", \"eic1lr\"], [\"destinythegame\", \"SqueegeeMe\", \"https://www.reddit.com/r/DestinyTheGame/comments/eic1pu/if_anyones_curious_what_happened_to_uldren_have_a/\", \"eic1pu\"], [\"destinythegame\", \"tarynrenae\", \"https://www.reddit.com/r/DestinyTheGame/comments/eic2uu/honey_i_shrunk_ada1/\", \"eic2uu\"], [\"destinythegame\", \"canadiangirl_eh\", \"https://www.reddit.com/r/DestinyTheGame/comments/eic6qj/black_armor_forge_help/\", \"eic6qj\"], [\"destinythegame\", \"Superluis97045\", \"https://www.reddit.com/r/DestinyTheGame/comments/eiccp3/discord_group/\", \"eiccp3\"], [\"destinythegame\", \"Torombol0\", \"https://www.reddit.com/r/DestinyTheGame/comments/eice3t/hush_unstoppable_arrows/\", \"eice3t\"], [\"destinythegame\", \"jamilDK\", \"https://www.reddit.com/r/DestinyTheGame/comments/eicf31/whats_the_best_way_to_farm_spare_rations_this_week/\", \"eicf31\"], [\"destinythegame\", \"Multimarkboy\", \"https://www.reddit.com/r/DestinyTheGame/comments/eicfna/looking_for_3_previews_of_titan_leg_ornaments/\", \"eicfna\"], [\"destinythegame\", \"Thunderbridge\", \"https://www.reddit.com/r/DestinyTheGame/comments/eicgz8/new_weekly_bounties_already_completed/\", \"eicgz8\"], [\"destinythegame\", \"MegaRann\", \"https://www.reddit.com/r/DestinyTheGame/comments/eichb8/raid_runs/\", \"eichb8\"], [\"destinythegame\", \"Radips\", \"https://www.reddit.com/r/DestinyTheGame/comments/eichij/next_time_corrupted_nightfall_will_be_available/\", \"eichij\"], [\"destinythegame\", \"MachoPanda71\", \"https://www.reddit.com/r/DestinyTheGame/comments/eicifr/end_of_season_event_new_emblem/\", \"eicifr\"], [\"destinythegame\", \"dazealex\", \"https://www.reddit.com/r/DestinyTheGame/comments/eiciio/best_new_years_eve_ever_thanks_to_a_guardian/\", \"eiciio\"], [\"destinythegame\", \"markarenas_\", \"https://www.reddit.com/r/DestinyTheGame/comments/eicn7j/what_are_some_good_modifiers_for_regular/\", \"eicn7j\"], [\"destinythegame\", \"RebootSequence\", \"https://www.reddit.com/r/DestinyTheGame/comments/eicpbm/i_think_they_finally_updated_hawthornes_lines/\", \"eicpbm\"], [\"destinythegame\", \"EtotheD4200\", \"https://www.reddit.com/r/DestinyTheGame/comments/eics2g/a_question_regarding_melee_induced_damage_buffs/\", \"eics2g\"], [\"destinythegame\", \"Fire-fight-Magi\", \"https://www.reddit.com/r/DestinyTheGame/comments/eics72/pvp_mission_rant_and_fix_suggestion/\", \"eics72\"], [\"destinythegame\", \"MrFurious1000\", \"https://www.reddit.com/r/DestinyTheGame/comments/eicuxj/what_happened_to_the_reckoning/\", \"eicuxj\"], [\"destinythegame\", \"bacterialtrailer\", \"https://www.reddit.com/r/DestinyTheGame/comments/eicwcc/bungie_has_did_an_awful_job_representing_warlocks/\", \"eicwcc\"], [\"destinythegame\", \"Cryptarch44\", \"https://www.reddit.com/r/DestinyTheGame/comments/eicxra/do_we_know_anything_about_the_hidden_triumphs_for/\", \"eicxra\"], [\"destinythegame\", \"Raiden4321234\", \"https://www.reddit.com/r/DestinyTheGame/comments/eicy5y/bergusia_forge/\", \"eicy5y\"], [\"destinythegame\", \"stephen_1975\", \"https://www.reddit.com/r/DestinyTheGame/comments/eiczb9/question_am_i_imagining_this_or_are_the_hive_or/\", \"eiczb9\"], [\"destinythegame\", \"ShaneCatlett\", \"https://www.reddit.com/r/DestinyTheGame/comments/eiczhr/empyrean_restoration_theory/\", \"eiczhr\"], [\"destinythegame\", \"deadly_nightshaade\", \"https://www.reddit.com/r/DestinyTheGame/comments/eiczot/i_buckled_down_and_defeated_a_total_of_3214/\", \"eiczot\"], [\"destinythegame\", \"Ninjhetto\", \"https://www.reddit.com/r/DestinyTheGame/comments/eid23p/are_the_weekly_vanguard_bounties_always_hive_and/\", \"eid23p\"], [\"destinythegame\", \"solprimeval\", \"https://www.reddit.com/r/DestinyTheGame/comments/eid327/heres_my_idea_to_reorganise_crucible_gambit_and/\", \"eid327\"], [\"destinythegame\", \"lafosso1\", \"https://www.reddit.com/r/DestinyTheGame/comments/eid3kx/why_cant_i_run_raids_as_many_times_as_i_want_for/\", \"eid3kx\"], [\"destinythegame\", \"Ascalion\", \"https://www.reddit.com/r/DestinyTheGame/comments/eid53l/gift_in_return_disappeared_after_weekly_reset/\", \"eid53l\"], [\"destinythegame\", \"ArmlessGuy12\", \"https://www.reddit.com/r/DestinyTheGame/comments/eid75h/i_think_theres_a_serious_problem_with_destiny_2s/\", \"eid75h\"], [\"destinythegame\", \"Draconic_Void\", \"https://www.reddit.com/r/DestinyTheGame/comments/eid76t/how_can_you_tell_what_ascendant_challenge_week_it/\", \"eid76t\"], [\"destinythegame\", \"Cooper604\", \"https://www.reddit.com/r/DestinyTheGame/comments/eid81q/destiny_2_api_potential_weapon_perk_question/\", \"eid81q\"], [\"destinythegame\", \"Dmen1478\", \"https://www.reddit.com/r/DestinyTheGame/comments/eid88r/a_returning_player_looking_for_help/\", \"eid88r\"], [\"destinythegame\", \"Xur_Is_Not_TheNine\", \"https://www.reddit.com/r/DestinyTheGame/comments/eid9zq/i_am_usually_not_one_to_complain_but_come_on/\", \"eid9zq\"], [\"destinythegame\", \"Q2Qool\", \"https://www.reddit.com/r/DestinyTheGame/comments/eidbka/how_do_you_out_play_an_arc_soul/\", \"eidbka\"], [\"destinythegame\", \"YaBoiLycaDaPeluca\", \"https://www.reddit.com/r/DestinyTheGame/comments/eidbrv/is_this_possible/\", \"eidbrv\"], [\"destinythegame\", \"bladedancer661\", \"https://www.reddit.com/r/DestinyTheGame/comments/eidcbr/finally_got_divinity_and_it_felt_great/\", \"eidcbr\"], [\"destinythegame\", \"RipstefanKarlsteffan\", \"https://www.reddit.com/r/DestinyTheGame/comments/eiddny/huckleberry_catalyst_postshadowkeep/\", \"eiddny\"], [\"destinythegame\", \"SlendyA8\", \"https://www.reddit.com/r/DestinyTheGame/comments/eidi29/with_the_new_year_i_have_only_one_request/\", \"eidi29\"], [\"destinythegame\", \"meowcubed\", \"https://www.reddit.com/r/DestinyTheGame/comments/eidj6v/void_battery_does_not_work/\", \"eidj6v\"], [\"destinythegame\", \"Noobcombos\", \"https://www.reddit.com/r/DestinyTheGame/comments/eidjda/upgrading_synthesizer/\", \"eidjda\"], [\"destinythegame\", \"Android5ooo\", \"https://www.reddit.com/r/DestinyTheGame/comments/eidkxm/quest_activity_spam_how_to_stop_it_is_it_a_bug/\", \"eidkxm\"], [\"destinythegame\", \"raptors592\", \"https://www.reddit.com/r/DestinyTheGame/comments/eidnpp/insults_for_classes/\", \"eidnpp\"], [\"destinythegame\", \"sabreclaw000\", \"https://www.reddit.com/r/DestinyTheGame/comments/eidnrv/how_does_bungie_handle_development_for_this_game/\", \"eidnrv\"], [\"destinythegame\", \"EmbodimentOfBruh\", \"https://www.reddit.com/r/DestinyTheGame/comments/eido3w/my_luck_is_sometimes_frightening/\", \"eido3w\"], [\"destinythegame\", \"AvxyPlays\", \"https://www.reddit.com/r/DestinyTheGame/comments/eidoo4/quest_bugged/\", \"eidoo4\"], [\"destinythegame\", \"WittyUnwittingly\", \"https://www.reddit.com/r/DestinyTheGame/comments/eidprn/protective_light_damage_reduction_in_pvp/\", \"eidprn\"], [\"destinythegame\", \"Ltmajorbones\", \"https://www.reddit.com/r/DestinyTheGame/comments/eidq4e/bring_leaderboards_and_meaningful_rewards_to/\", \"eidq4e\"], [\"destinythegame\", \"Ceraldus\", \"https://www.reddit.com/r/DestinyTheGame/comments/eidqk0/three_hunters_a_short_story/\", \"eidqk0\"], [\"destinythegame\", \"Joelioioio\", \"https://www.reddit.com/r/DestinyTheGame/comments/eie172/postmaster_prioritization/\", \"eie172\"], [\"destinythegame\", \"Golet234\", \"https://www.reddit.com/r/DestinyTheGame/comments/eie1fh/d1_why_in_the_world_i_cant_infuse_on_y1_gear/\", \"eie1fh\"], [\"destinythegame\", \"AtomicDog602\", \"https://www.reddit.com/r/DestinyTheGame/comments/eie1id/reset_day_you_have_already_completed_this/\", \"eie1id\"], [\"destinythegame\", \"kxviniscool\", \"https://www.reddit.com/r/DestinyTheGame/comments/eie3ds/why_do_i_play_against_4000_glory_players_when_i/\", \"eie3ds\"], [\"destinythegame\", \"pro3001\", \"https://www.reddit.com/r/DestinyTheGame/comments/eie3vb/sensitivity_needs_a_chang_on_console/\", \"eie3vb\"], [\"destinythegame\", \"LadyMlstress\", \"https://www.reddit.com/r/DestinyTheGame/comments/eie47n/there_is_no_future_here_guardian/\", \"eie47n\"], [\"destinythegame\", \"Nukesnipe\", \"https://www.reddit.com/r/DestinyTheGame/comments/eie5ni/with_the_proliferation_of_very_powerful_invader/\", \"eie5ni\"], [\"destinythegame\", \"TitanAnarchy\", \"https://www.reddit.com/r/DestinyTheGame/comments/eie66t/a_new_years_gift_from_one_guardian_to_others/\", \"eie66t\"], [\"destinythegame\", \"Jazzer995\", \"https://www.reddit.com/r/DestinyTheGame/comments/eie6ia/highest_total_base_value_on_armor/\", \"eie6ia\"], [\"destinythegame\", \"Pupfrolic\", \"https://www.reddit.com/r/DestinyTheGame/comments/eie93p/out_of_ideas/\", \"eie93p\"], [\"destinythegame\", \"PixelFool99\", \"https://www.reddit.com/r/DestinyTheGame/comments/eiea1i/perfect_paradox_trench_barrel_or_swashbuckler/\", \"eiea1i\"], [\"destinythegame\", \"al-Malok\", \"https://www.reddit.com/r/DestinyTheGame/comments/eieage/season_of_dawn_is_superior_to_coo_in_activities/\", \"eieage\"], [\"destinythegame\", \"rattlesnakemtn2\", \"https://www.reddit.com/r/DestinyTheGame/comments/eieaub/happy_new_year_guardians/\", \"eieaub\"], [\"destinythegame\", \"Your_Uncle_Gubsy\", \"https://www.reddit.com/r/DestinyTheGame/comments/eieerg/void_affinity_on_season_nine_armor/\", \"eieerg\"], [\"destinythegame\", \"al-Malok\", \"https://www.reddit.com/r/DestinyTheGame/comments/eiefcy/please_bring_nightfall_rewards_forward_to_year_3/\", \"eiefcy\"], [\"destinythegame\", \"C-I-Rome\", \"https://www.reddit.com/r/DestinyTheGame/comments/eieh0t/happy_new_year_2020_guardians/\", \"eieh0t\"], [\"destinythegame\", \"NAmElEss_NErd\", \"https://www.reddit.com/r/DestinyTheGame/comments/eiei6z/about_d1_crucible/\", \"eiei6z\"], [\"destinythegame\", \"0Sharky\", \"https://www.reddit.com/r/DestinyTheGame/comments/eielsh/hey_fart_heads_i_got_something_to_say/\", \"eielsh\"], [\"destinythegame\", \"BoxGamer713\", \"https://www.reddit.com/r/DestinyTheGame/comments/eieno1/the_new_dark_age_part_1_a_destiny_fan_story/\", \"eieno1\"], [\"destinythegame\", \"TheCoderAndAvatar\", \"https://www.reddit.com/r/DestinyTheGame/comments/eieoaq/is_it_worth_it_to_transfer_current_items_to_the/\", \"eieoaq\"], [\"destinythegame\", \"MetaphorTR\", \"https://www.reddit.com/r/DestinyTheGame/comments/eieoq4/help_with_barrel_choices_on_mindbenders/\", \"eieoq4\"], [\"destinythegame\", \"YaBoiLycaDaPeluca\", \"https://www.reddit.com/r/DestinyTheGame/comments/eietkd/hot_take_maybe_it_wouldnt_be_a_great_thing_for/\", \"eietkd\"], [\"destinythegame\", \"marcelopegacaneta\", \"https://www.reddit.com/r/DestinyTheGame/comments/eievm0/how_do_you_guys_feel_about_this/\", \"eievm0\"], [\"destinythegame\", \"AmbidextrousWaffle\", \"https://www.reddit.com/r/DestinyTheGame/comments/eieyjd/for_normal_crucible_can_we_please_go_back_to/\", \"eieyjd\"], [\"destinythegame\", \"vivereFerrari\", \"https://www.reddit.com/r/DestinyTheGame/comments/eiezfu/how_much_of_an_xp_boost_is_shared_wisdom_does_the/\", \"eiezfu\"], [\"destinythegame\", \"MB22283\", \"https://www.reddit.com/r/DestinyTheGame/comments/eif2k6/when_you_have_limited_time_to_play_9_patrols/\", \"eif2k6\"], [\"destinythegame\", \"firstheir\", \"https://www.reddit.com/r/DestinyTheGame/comments/eif2ld/third_week_of_all_pinnacle_drops_being_weapons/\", \"eif2ld\"], [\"destinythegame\", \"Kevins_Auskaps\", \"https://www.reddit.com/r/DestinyTheGame/comments/eif4yz/truth_quest_not_working/\", \"eif4yz\"], [\"destinythegame\", \"HungerReaper\", \"https://www.reddit.com/r/DestinyTheGame/comments/eif6po/guys_i_just_figured_out_how_we_can_get_the_magic/\", \"eif6po\"], [\"destinythegame\", \"lighting828\", \"https://www.reddit.com/r/DestinyTheGame/comments/eif8hk/sorry_to_those_poor_souls_of_the_game_i_joined/\", \"eif8hk\"], [\"destinythegame\", \"OthinusShmothinus\", \"https://www.reddit.com/r/DestinyTheGame/comments/eif9hu/bungie_please_fix_the_edz_obelisk/\", \"eif9hu\"], [\"destinythegame\", \"RoffronSherien\", \"https://www.reddit.com/r/DestinyTheGame/comments/eifewv/eververse_frostveil_on_sale/\", \"eifewv\"], [\"destinythegame\", \"khazixian\", \"https://www.reddit.com/r/DestinyTheGame/comments/eifh6m/resetting_infamy_rank_undos_quest_progress_for/\", \"eifh6m\"], [\"destinythegame\", \"DaBadGuy13\", \"https://www.reddit.com/r/DestinyTheGame/comments/eifljk/buff_tarrabah/\", \"eifljk\"], [\"destinythegame\", \"Caxu\", \"https://www.reddit.com/r/DestinyTheGame/comments/eifney/the_blade_barrage_ballerinas_have_to_the_tower_to/\", \"eifney\"], [\"destinythegame\", \"AmbidextrousWaffle\", \"https://www.reddit.com/r/DestinyTheGame/comments/eifoca/the_crucible_is_in_the_worst_state_it_has_ever/\", \"eifoca\"], [\"destinythegame\", \"TheAlcaeus\", \"https://www.reddit.com/r/DestinyTheGame/comments/eifp39/exotic_titan_gauntlet_idea/\", \"eifp39\"], [\"destinythegame\", \"berndguggi\", \"https://www.reddit.com/r/DestinyTheGame/comments/eifraf/the_hunt_for_anarchy_12_runs_since_update_only/\", \"eifraf\"], [\"destinythegame\", \"death2rum\", \"https://www.reddit.com/r/DestinyTheGame/comments/eifv6t/instant_supers_in_any_activity/\", \"eifv6t\"], [\"destinythegame\", \"AgentOrang_Jpg\", \"https://www.reddit.com/r/DestinyTheGame/comments/eifygd/grenade_launchers_with_spike_grenades/\", \"eifygd\"], [\"destinythegame\", \"kashaan_lucifer\", \"https://www.reddit.com/r/DestinyTheGame/comments/eifzan/easiest_exotic_hand_cannon_to_obtain/\", \"eifzan\"], [\"destinythegame\", \"Kierok3\", \"https://www.reddit.com/r/DestinyTheGame/comments/eig0ga/a_champion_has_appeared_has_disappeared/\", \"eig0ga\"], [\"destinythegame\", \"elsexyboygian\", \"https://www.reddit.com/r/DestinyTheGame/comments/eig3py/destiny_2_we_need_to_talk_about_text_to_chat_and/\", \"eig3py\"], [\"destinythegame\", \"thebutinator\", \"https://www.reddit.com/r/DestinyTheGame/comments/eig8ph/tlw_change/\", \"eig8ph\"], [\"destinythegame\", \"SurrealLogic\", \"https://www.reddit.com/r/DestinyTheGame/comments/eigbsc/casual_player_endgame/\", \"eigbsc\"], [\"destinythegame\", \"gor8884\", \"https://www.reddit.com/r/DestinyTheGame/comments/eigemk/new_years_resolutions/\", \"eigemk\"], [\"destinythegame\", \"OPgamerlife\", \"https://www.reddit.com/r/DestinyTheGame/comments/eigg3r/size_of_shadowkeep_and_forsaken_on_ps4/\", \"eigg3r\"], [\"destinythegame\", \"GuardianDestinyGuide\", \"https://www.reddit.com/r/DestinyTheGame/comments/eigioa/it_will_amazing_if_wearing_a_complete_armor_set/\", \"eigioa\"], [\"destinythegame\", \"Ultra_Unusual\", \"https://www.reddit.com/r/DestinyTheGame/comments/eigki7/i_would_gladly_give_up_my_grenade_and_melee/\", \"eigki7\"], [\"destinythegame\", \"DarkPulseHD\", \"https://www.reddit.com/r/DestinyTheGame/comments/eigkk4/riven_sword_cheese/\", \"eigkk4\"], [\"destinythegame\", \"Saeya_Gaming\", \"https://www.reddit.com/r/DestinyTheGame/comments/eigl29/despite_constant_development_and_new_updates_and/\", \"eigl29\"], [\"destinythegame\", \"ivorybloodsh3d\", \"https://www.reddit.com/r/DestinyTheGame/comments/eigmvp/where_was_our_update_to_ward_of_dawn/\", \"eigmvp\"], [\"destinythegame\", \"ChristmasBacon1001\", \"https://www.reddit.com/r/DestinyTheGame/comments/eigncw/which_tether_is_better/\", \"eigncw\"], [\"destinythegame\", \"bacterialtrailer\", \"https://www.reddit.com/r/DestinyTheGame/comments/eigqjy/warlock_the_afro_haired_step_child_of_bungie/\", \"eigqjy\"], [\"destinythegame\", \"Xerriim\", \"https://www.reddit.com/r/DestinyTheGame/comments/eigrmv/feeling_overwhelmed/\", \"eigrmv\"], [\"destinythegame\", \"Sarge184\", \"https://www.reddit.com/r/DestinyTheGame/comments/eigv87/huckleberry_catalyst/\", \"eigv87\"], [\"destinythegame\", \"Frostyhobo47\", \"https://www.reddit.com/r/DestinyTheGame/comments/eigxl3/ive_never_talked_to_a_d1_vet_that_honestly/\", \"eigxl3\"], [\"destinythegame\", \"SmurfStop\", \"https://www.reddit.com/r/DestinyTheGame/comments/eigygn/do_i_need_to_finish_all_encounter_for_a_chance_at/\", \"eigygn\"], [\"destinythegame\", \"Dreid2025\", \"https://www.reddit.com/r/DestinyTheGame/comments/eigzmo/do_you_guys_have_any_clue_if_you_can_get_the/\", \"eigzmo\"], [\"destinythegame\", \"harishcs\", \"https://www.reddit.com/r/DestinyTheGame/comments/eih1l4/cant_pick_up_banshee44s_precision_kills_weekly/\", \"eih1l4\"], [\"destinythegame\", \"Leny1000\", \"https://www.reddit.com/r/DestinyTheGame/comments/eih1su/help_with_the_ascent/\", \"eih1su\"], [\"destinythegame\", \"IronicIrony8\", \"https://www.reddit.com/r/DestinyTheGame/comments/eih2rv/issues_with_quests_heart_of_the_dragon_season_9/\", \"eih2rv\"], [\"destinythegame\", \"devjj\", \"https://www.reddit.com/r/DestinyTheGame/comments/eih3v5/guitar_errors_in_gambit/\", \"eih3v5\"], [\"destinythegame\", \"Hechtm11\", \"https://www.reddit.com/r/DestinyTheGame/comments/eih7ec/new_exotic_weapon_ideas/\", \"eih7ec\"], [\"destinythegame\", \"sephoud\", \"https://www.reddit.com/r/DestinyTheGame/comments/eih92l/building_off_of_the_sparrow_20_idea/\", \"eih92l\"], [\"destinythegame\", \"vanderzee\", \"https://www.reddit.com/r/DestinyTheGame/comments/eih95d/rose_quest_kill_invader_bugged/\", \"eih95d\"], [\"destinythegame\", \"Cynaren\", \"https://www.reddit.com/r/DestinyTheGame/comments/eihdkx/shards_of_galanor_is_broken_in_mayhem_and_yes_it/\", \"eihdkx\"], [\"destinythegame\", \"TheRealTTN\", \"https://www.reddit.com/r/DestinyTheGame/comments/eihhow/is_there_a_200k_threshold_for_nightfalls/\", \"eihhow\"], [\"destinythegame\", \"anuslikker99\", \"https://www.reddit.com/r/DestinyTheGame/comments/eihk6n/the_thing_i_miss_the_most_in_this_mmo/\", \"eihk6n\"], [\"destinythegame\", \"BlackTides\", \"https://www.reddit.com/r/DestinyTheGame/comments/eihkqk/how_much_range_to_the_ohk_range_of_a_mindbenders/\", \"eihkqk\"], [\"destinythegame\", \"Ariatexas\", \"https://www.reddit.com/r/DestinyTheGame/comments/eihl3j/do_you_get_points_on_reset_after_you_hit_5000/\", \"eihl3j\"], [\"destinythegame\", \"BrimbornSteelWorks\", \"https://www.reddit.com/r/DestinyTheGame/comments/eihl42/which_one_do_i_buy/\", \"eihl42\"], [\"destinythegame\", \"itskiser\", \"https://www.reddit.com/r/DestinyTheGame/comments/eihm2m/competitive_matchmaking_is_a_rageinducing/\", \"eihm2m\"], [\"destinythegame\", \"Cwirmon\", \"https://www.reddit.com/r/DestinyTheGame/comments/eihn7y/what_is_your_op_nightfall_loadout/\", \"eihn7y\"], [\"destinythegame\", \"Vegeta_SB13\", \"https://www.reddit.com/r/DestinyTheGame/comments/eihnic/what_is_better_spare_rations_or_lunas_howl/\", \"eihnic\"], [\"destinythegame\", \"Bane_of_Ruby\", \"https://www.reddit.com/r/DestinyTheGame/comments/eiho6t/why_are_we_still_getting_recycled_cosmetics_in/\", \"eiho6t\"], [\"destinythegame\", \"segaselsky\", \"https://www.reddit.com/r/DestinyTheGame/comments/eihvo0/symmetry_masterwork_should_re_introduce_spray_and/\", \"eihvo0\"], [\"destinythegame\", \"Lalakoola\", \"https://www.reddit.com/r/DestinyTheGame/comments/eihz55/can_we_finally_buff_sleeper_and_maybe_move/\", \"eihz55\"], [\"destinythegame\", \"Osiris-Reflection\", \"https://www.reddit.com/r/DestinyTheGame/comments/eihzc6/blink_deserves_a_rework_or_buff/\", \"eihzc6\"], [\"destinythegame\", \"DTG_Bot\", \"https://www.reddit.com/r/DestinyTheGame/comments/eii443/daily_questions_20200101/\", \"eii443\"], [\"destinythegame\", \"DTG_Bot\", \"https://www.reddit.com/r/DestinyTheGame/comments/eii45k/daily_thread_rant_wednesday/\", \"eii45k\"], [\"destinythegame\", \"Gidedin\", \"https://www.reddit.com/r/DestinyTheGame/comments/eiibot/i_opened_84_bright_engrams_so_far_in_this_season/\", \"eiibot\"], [\"destinythegame\", \"KISSMYTAIL\", \"https://www.reddit.com/r/DestinyTheGame/comments/eiifuj/i_wouldnt_mind_power_creep_if_im_having_fun/\", \"eiifuj\"], [\"destinythegame\", \"Paradox_VII\", \"https://www.reddit.com/r/DestinyTheGame/comments/eiimiw/best_place_to_kill_any_known_farms_for_vex_on_the/\", \"eiimiw\"], [\"destinythegame\", \"Ultra1101\", \"https://www.reddit.com/r/DestinyTheGame/comments/eiinfk/after_playing_destiny_2_on_an_ultrabook_on_a_trip/\", \"eiinfk\"], [\"destinythegame\", \"Cwirmon\", \"https://www.reddit.com/r/DestinyTheGame/comments/eiinow/gunsmith_weekly_bounties_are_bugged/\", \"eiinow\"], [\"destinythegame\", \"TheBastidiousBomber\", \"https://www.reddit.com/r/DestinyTheGame/comments/eiinwp/holiday_oven_masterwork/\", \"eiinwp\"], [\"destinythegame\", \"curdburglar\", \"https://www.reddit.com/r/DestinyTheGame/comments/eiior9/its_a_new_year_lets_all_come_together_and_make/\", \"eiior9\"], [\"destinythegame\", \"liamsnorthstar\", \"https://www.reddit.com/r/DestinyTheGame/comments/eiirbi/happy_new_year_guardians_silly_question_but_do/\", \"eiirbi\"], [\"destinythegame\", \"jayman1216\", \"https://www.reddit.com/r/DestinyTheGame/comments/eiit4n/seasonal_content/\", \"eiit4n\"], [\"destinythegame\", \"coles_man_mcjones\", \"https://www.reddit.com/r/DestinyTheGame/comments/eiiwhu/just_got_banned_for_no_reason/\", \"eiiwhu\"], [\"destinythegame\", \"Narot2342\", \"https://www.reddit.com/r/DestinyTheGame/comments/eiiwi9/helpful_tip_antialiasing_improved_nvidia/\", \"eiiwi9\"], [\"destinythegame\", \"6519719Mm\", \"https://www.reddit.com/r/DestinyTheGame/comments/eiiwk0/sundial_obelisk_rewards/\", \"eiiwk0\"], [\"destinythegame\", \"gusluke\", \"https://www.reddit.com/r/DestinyTheGame/comments/eiiwwe/proposal_to_the_community_about_trials/\", \"eiiwwe\"], [\"destinythegame\", \"Syixice\", \"https://www.reddit.com/r/DestinyTheGame/comments/eij0b4/season_8_strike_exotic_bow_quest/\", \"eij0b4\"], [\"destinythegame\", \"johnsolomon\", \"https://www.reddit.com/r/DestinyTheGame/comments/eij1l5/should_comp_introduce_a_progression_system_like/\", \"eij1l5\"], [\"destinythegame\", \"Awoken-Queen\", \"https://www.reddit.com/r/DestinyTheGame/comments/eij1p5/looks_like_i_will_become_a_permanent_fireteam/\", \"eij1p5\"], [\"destinythegame\", \"Unearthedrin\", \"https://www.reddit.com/r/DestinyTheGame/comments/eij5m0/titan_shield_throwing/\", \"eij5m0\"], [\"destinythegame\", \"Goldenfang08\", \"https://www.reddit.com/r/DestinyTheGame/comments/eij6lf/warlock_melee_ability_kills/\", \"eij6lf\"], [\"destinythegame\", \"subtlecalamity\", \"https://www.reddit.com/r/DestinyTheGame/comments/eijavm/so_why_werent_previous_dawning_sets_made/\", \"eijavm\"], [\"destinythegame\", \"AntoReakk\", \"https://www.reddit.com/r/DestinyTheGame/comments/eijd4k/two_shriekers_one_warlock/\", \"eijd4k\"], [\"destinythegame\", \"i4viator\", \"https://www.reddit.com/r/DestinyTheGame/comments/eijer3/we_need_an_option_to_see_the_map_while_on_our/\", \"eijer3\"], [\"destinythegame\", \"337soft\", \"https://www.reddit.com/r/DestinyTheGame/comments/eijfp3/leviathan_faceplant/\", \"eijfp3\"], [\"destinythegame\", \"Slimschutte8\", \"https://www.reddit.com/r/DestinyTheGame/comments/eijg58/legacy_campaigns/\", \"eijg58\"], [\"destinythegame\", \"UldrensVibrator\", \"https://www.reddit.com/r/DestinyTheGame/comments/eijghu/lord_saladin_redesign_picsinfographic/\", \"eijghu\"], [\"destinythegame\", \"x_pac13\", \"https://www.reddit.com/r/DestinyTheGame/comments/eijgug/have_glory_carry_over_between_seasons/\", \"eijgug\"], [\"destinythegame\", \"FourPharaohs\", \"https://www.reddit.com/r/DestinyTheGame/comments/eijiom/the_tower_trials_weekly_faction_warbased_pvp_event/\", \"eijiom\"], [\"destinythegame\", \"AresBloodwrath\", \"https://www.reddit.com/r/DestinyTheGame/comments/eijp82/trials_of_the_nine_idea/\", \"eijp82\"], [\"destinythegame\", \"Skifer91290\", \"https://www.reddit.com/r/DestinyTheGame/comments/eijq0s/hey_bungie_can_you_give_us_some_gambit_events/\", \"eijq0s\"], [\"destinythegame\", \"Ginsor\", \"https://www.reddit.com/r/DestinyTheGame/comments/eijqdu/ginsor_destiny_2_audiotool_ii/\", \"eijqdu\"], [\"destinythegame\", \"TeneKay\", \"https://www.reddit.com/r/DestinyTheGame/comments/eijr9n/dawning_hope_shader/\", \"eijr9n\"], [\"destinythegame\", \"nufrancis\", \"https://www.reddit.com/r/DestinyTheGame/comments/eijrdg/dawning_sparrow_quest_disappeared/\", \"eijrdg\"], [\"destinythegame\", \"ARBITERUMBRA\", \"https://www.reddit.com/r/DestinyTheGame/comments/eijv9j/hybrid_frame/\", \"eijv9j\"], [\"destinythegame\", \"Wess-L\", \"https://www.reddit.com/r/DestinyTheGame/comments/eijxaw/bungie_how_come_in_d1_you_could_farm_the_best_pvp/\", \"eijxaw\"], [\"destinythegame\", \"TylerFortierPhoto\", \"https://www.reddit.com/r/DestinyTheGame/comments/eik3ec/if_you_want_to_be_lazy_reacquiring_the_forsaken/\", \"eik3ec\"], [\"destinythegame\", \"X_C-GAMES-G_X\", \"https://www.reddit.com/r/DestinyTheGame/comments/eik3v0/volundr_forge/\", \"eik3v0\"], [\"destinythegame\", \"DrTaylorB\", \"https://www.reddit.com/r/DestinyTheGame/comments/eik5o1/how_to_give_riven_her_damn_cookies/\", \"eik5o1\"], [\"destinythegame\", \"Not_An_Ahamkara\", \"https://www.reddit.com/r/DestinyTheGame/comments/eik5ym/what_is_the_best_roll_for_gf/\", \"eik5ym\"], [\"destinythegame\", \"Boohma\", \"https://www.reddit.com/r/DestinyTheGame/comments/eik68e/v\\u00f6lundr_key_bug/\", \"eik68e\"], [\"destinythegame\", \"Kobraguy90\", \"https://www.reddit.com/r/DestinyTheGame/comments/eik79k/destiny_2_no_longer_working_in_the_year_2020/\", \"eik79k\"], [\"destinythegame\", \"Skifer91290\", \"https://www.reddit.com/r/DestinyTheGame/comments/eik874/there_are_3_strikes_with_no_rewards_fix_this/\", \"eik874\"], [\"destinythegame\", \"HydraX_Slayer\", \"https://www.reddit.com/r/DestinyTheGame/comments/eik8rq/black_armoury_bugged/\", \"eik8rq\"], [\"destinythegame\", \"canondocre\", \"https://www.reddit.com/r/DestinyTheGame/comments/eikd0n/can_someone_explain_the_best_way_to_approach/\", \"eikd0n\"], [\"destinythegame\", \"Ret0x\", \"https://www.reddit.com/r/DestinyTheGame/comments/eike78/ships_in_orbit_with_shiny_shaders_always_look/\", \"eike78\"]], \"hoverlabel\": {\"namelength\": 0}, \"hovertemplate\": \"subreddit=%{customdata[0]}<br>Date Posted=%{x}<br>Post Polarity=%{y}<br>author=%{customdata[1]}<br>url=%{customdata[2]}<br>id=%{customdata[3]}\", \"legendgroup\": \"subreddit=destinythegame\", \"marker\": {\"color\": \"blue\", \"symbol\": \"circle\"}, \"mode\": \"markers\", \"name\": \"subreddit=destinythegame\", \"showlegend\": true, \"type\": \"scatter\", \"x\": [\"2019-12-31T16:51:27\", \"2019-12-31T16:53:42\", \"2019-12-31T17:03:49\", \"2019-12-31T17:04:49\", \"2019-12-31T17:05:11\", \"2019-12-31T17:05:14\", \"2019-12-31T17:06:28\", \"2019-12-31T17:08:27\", \"2019-12-31T17:08:35\", \"2019-12-31T17:09:21\", \"2019-12-31T17:09:26\", \"2019-12-31T17:13:06\", \"2019-12-31T17:14:47\", \"2019-12-31T17:17:01\", \"2019-12-31T17:17:56\", \"2019-12-31T17:20:55\", \"2019-12-31T17:22:17\", \"2019-12-31T17:23:06\", \"2019-12-31T17:23:28\", \"2019-12-31T17:26:34\", \"2019-12-31T17:27:15\", \"2019-12-31T17:27:32\", \"2019-12-31T17:32:27\", \"2019-12-31T17:44:35\", \"2019-12-31T17:45:32\", \"2019-12-31T17:46:13\", \"2019-12-31T17:50:29\", \"2019-12-31T17:51:09\", \"2019-12-31T17:54:00\", \"2019-12-31T17:55:02\", \"2019-12-31T17:56:37\", \"2019-12-31T17:59:47\", \"2019-12-31T18:05:07\", \"2019-12-31T18:05:30\", \"2019-12-31T18:06:51\", \"2019-12-31T18:07:30\", \"2019-12-31T18:09:42\", \"2019-12-31T18:10:47\", \"2019-12-31T18:11:30\", \"2019-12-31T18:12:20\", \"2019-12-31T18:12:28\", \"2019-12-31T18:14:10\", \"2019-12-31T18:15:31\", \"2019-12-31T18:18:02\", \"2019-12-31T18:23:22\", \"2019-12-31T18:23:46\", \"2019-12-31T18:28:27\", \"2019-12-31T18:31:00\", \"2019-12-31T18:32:33\", \"2019-12-31T18:34:03\", \"2019-12-31T18:39:54\", \"2019-12-31T18:39:59\", \"2019-12-31T18:41:20\", \"2019-12-31T18:45:16\", \"2019-12-31T18:50:03\", \"2019-12-31T18:51:31\", \"2019-12-31T18:53:54\", \"2019-12-31T18:54:47\", \"2019-12-31T18:56:23\", \"2019-12-31T18:58:17\", \"2019-12-31T18:58:19\", \"2019-12-31T19:00:59\", \"2019-12-31T19:00:59\", \"2019-12-31T19:03:50\", \"2019-12-31T19:05:07\", \"2019-12-31T19:14:36\", \"2019-12-31T19:17:13\", \"2019-12-31T19:17:52\", \"2019-12-31T19:32:58\", \"2019-12-31T19:38:11\", \"2019-12-31T19:43:22\", \"2019-12-31T19:44:36\", \"2019-12-31T19:46:12\", \"2019-12-31T19:48:43\", \"2019-12-31T19:50:45\", \"2019-12-31T19:53:15\", \"2019-12-31T19:53:51\", \"2019-12-31T19:55:15\", \"2019-12-31T19:55:21\", \"2019-12-31T19:57:05\", \"2019-12-31T19:58:18\", \"2019-12-31T20:01:34\", \"2019-12-31T20:02:14\", \"2019-12-31T20:05:27\", \"2019-12-31T20:07:16\", \"2019-12-31T20:10:36\", \"2019-12-31T20:11:39\", \"2019-12-31T20:11:51\", \"2019-12-31T20:14:27\", \"2019-12-31T20:18:07\", \"2019-12-31T20:23:51\", \"2019-12-31T20:26:41\", \"2019-12-31T20:27:33\", \"2019-12-31T20:30:27\", \"2019-12-31T20:34:37\", \"2019-12-31T20:39:20\", \"2019-12-31T20:40:33\", \"2019-12-31T20:41:28\", \"2019-12-31T20:42:52\", \"2019-12-31T20:48:40\", \"2019-12-31T20:49:52\", \"2019-12-31T20:50:19\", \"2019-12-31T20:52:22\", \"2019-12-31T20:52:36\", \"2019-12-31T20:58:37\", \"2019-12-31T20:59:08\", \"2019-12-31T20:59:23\", \"2019-12-31T21:05:26\", \"2019-12-31T21:08:40\", \"2019-12-31T21:11:44\", \"2019-12-31T21:14:41\", \"2019-12-31T21:15:43\", \"2019-12-31T21:23:52\", \"2019-12-31T21:25:36\", \"2019-12-31T21:28:32\", \"2019-12-31T21:30:54\", \"2019-12-31T21:31:18\", \"2019-12-31T21:32:17\", \"2019-12-31T21:33:20\", \"2019-12-31T21:35:30\", \"2019-12-31T21:36:31\", \"2019-12-31T21:39:43\", \"2019-12-31T21:41:27\", \"2019-12-31T21:44:10\", \"2019-12-31T21:48:23\", \"2019-12-31T21:50:18\", \"2019-12-31T21:51:19\", \"2019-12-31T21:52:00\", \"2019-12-31T21:52:53\", \"2019-12-31T21:55:14\", \"2019-12-31T21:55:44\", \"2019-12-31T21:57:53\", \"2019-12-31T21:59:26\", \"2019-12-31T22:01:06\", \"2019-12-31T22:01:18\", \"2019-12-31T22:01:48\", \"2019-12-31T22:05:20\", \"2019-12-31T22:06:50\", \"2019-12-31T22:06:59\", \"2019-12-31T22:07:41\", \"2019-12-31T22:14:39\", \"2019-12-31T22:16:56\", \"2019-12-31T22:21:05\", \"2019-12-31T22:25:14\", \"2019-12-31T22:26:24\", \"2019-12-31T22:28:37\", \"2019-12-31T22:29:04\", \"2019-12-31T22:30:55\", \"2019-12-31T22:32:17\", \"2019-12-31T22:38:16\", \"2019-12-31T22:40:18\", \"2019-12-31T22:40:44\", \"2019-12-31T22:40:54\", \"2019-12-31T22:45:47\", \"2019-12-31T22:47:28\", \"2019-12-31T22:48:32\", \"2019-12-31T22:54:45\", \"2019-12-31T22:54:57\", \"2019-12-31T22:59:12\", \"2019-12-31T23:00:48\", \"2019-12-31T23:01:35\", \"2019-12-31T23:02:39\", \"2019-12-31T23:04:14\", \"2019-12-31T23:04:46\", \"2019-12-31T23:07:46\", \"2019-12-31T23:09:04\", \"2019-12-31T23:11:25\", \"2019-12-31T23:11:58\", \"2019-12-31T23:18:44\", \"2019-12-31T23:19:29\", \"2019-12-31T23:28:30\", \"2019-12-31T23:30:32\", \"2019-12-31T23:30:33\", \"2019-12-31T23:32:48\", \"2019-12-31T23:35:50\", \"2019-12-31T23:38:35\", \"2019-12-31T23:38:53\", \"2019-12-31T23:39:17\", \"2019-12-31T23:45:47\", \"2019-12-31T23:52:54\", \"2020-01-01T00:12:42\", \"2020-01-01T00:13:57\", \"2020-01-01T00:14:58\", \"2020-01-01T00:16:38\", \"2020-01-01T00:26:51\", \"2020-01-01T00:28:44\", \"2020-01-01T00:29:16\", \"2020-01-01T00:30:47\", \"2020-01-01T00:34:26\", \"2020-01-01T00:34:41\", \"2020-01-01T00:38:53\", \"2020-01-01T00:44:36\", \"2020-01-01T00:51:50\", \"2020-01-01T00:52:37\", \"2020-01-01T00:53:20\", \"2020-01-01T00:54:54\", \"2020-01-01T00:55:40\", \"2020-01-01T00:56:14\", \"2020-01-01T00:57:13\", \"2020-01-01T01:05:53\", \"2020-01-01T01:11:46\", \"2020-01-01T01:11:57\", \"2020-01-01T01:13:35\", \"2020-01-01T01:15:22\", \"2020-01-01T01:17:02\", \"2020-01-01T01:26:18\", \"2020-01-01T01:26:31\", \"2020-01-01T01:29:18\", \"2020-01-01T01:38:51\", \"2020-01-01T01:54:11\", \"2020-01-01T01:58:04\", \"2020-01-01T02:00:37\", \"2020-01-01T02:01:55\", \"2020-01-01T02:05:18\", \"2020-01-01T02:06:04\", \"2020-01-01T02:06:34\", \"2020-01-01T02:08:56\", \"2020-01-01T02:09:09\", \"2020-01-01T02:21:19\", \"2020-01-01T02:26:44\", \"2020-01-01T02:34:05\", \"2020-01-01T02:34:23\", \"2020-01-01T02:41:38\", \"2020-01-01T02:45:21\", \"2020-01-01T02:49:08\", \"2020-01-01T02:50:16\", \"2020-01-01T02:53:20\", \"2020-01-01T02:53:52\", \"2020-01-01T02:54:23\", \"2020-01-01T03:01:12\", \"2020-01-01T03:03:47\", \"2020-01-01T03:05:04\", \"2020-01-01T03:09:20\", \"2020-01-01T03:14:52\", \"2020-01-01T03:14:58\", \"2020-01-01T03:17:29\", \"2020-01-01T03:18:02\", \"2020-01-01T03:22:35\", \"2020-01-01T03:26:54\", \"2020-01-01T03:27:30\", \"2020-01-01T03:29:00\", \"2020-01-01T03:32:54\", \"2020-01-01T03:44:45\", \"2020-01-01T03:47:59\", \"2020-01-01T03:48:31\", \"2020-01-01T03:52:42\", \"2020-01-01T04:00:52\", \"2020-01-01T04:01:00\", \"2020-01-01T04:01:54\", \"2020-01-01T04:03:15\", \"2020-01-01T04:06:13\", \"2020-01-01T04:07:17\", \"2020-01-01T04:08:28\", \"2020-01-01T04:39:32\", \"2020-01-01T04:40:15\", \"2020-01-01T04:40:31\", \"2020-01-01T04:46:17\", \"2020-01-01T04:47:36\", \"2020-01-01T04:48:41\", \"2020-01-01T04:52:40\", \"2020-01-01T04:54:19\", \"2020-01-01T04:55:14\", \"2020-01-01T05:01:46\", \"2020-01-01T05:03:48\", \"2020-01-01T05:04:39\", \"2020-01-01T05:05:30\", \"2020-01-01T05:14:49\", \"2020-01-01T05:16:25\", \"2020-01-01T05:20:58\", \"2020-01-01T05:24:07\", \"2020-01-01T05:33:58\", \"2020-01-01T05:39:03\", \"2020-01-01T05:40:55\", \"2020-01-01T05:42:09\", \"2020-01-01T05:57:07\", \"2020-01-01T06:02:53\", \"2020-01-01T06:10:24\", \"2020-01-01T06:12:59\", \"2020-01-01T06:22:05\", \"2020-01-01T06:22:11\", \"2020-01-01T06:29:41\", \"2020-01-01T06:35:19\", \"2020-01-01T06:40:56\", \"2020-01-01T06:43:49\", \"2020-01-01T07:01:11\", \"2020-01-01T07:08:01\", \"2020-01-01T07:22:57\", \"2020-01-01T07:29:45\", \"2020-01-01T07:32:54\", \"2020-01-01T07:35:28\", \"2020-01-01T07:43:05\", \"2020-01-01T07:56:13\", \"2020-01-01T08:07:04\", \"2020-01-01T08:09:37\", \"2020-01-01T08:13:27\", \"2020-01-01T08:25:03\", \"2020-01-01T08:43:41\", \"2020-01-01T08:55:32\", \"2020-01-01T09:06:17\", \"2020-01-01T09:11:58\", \"2020-01-01T09:21:37\", \"2020-01-01T09:29:17\", \"2020-01-01T09:29:32\", \"2020-01-01T09:31:35\", \"2020-01-01T09:38:10\", \"2020-01-01T09:39:47\", \"2020-01-01T09:52:13\", \"2020-01-01T09:56:31\", \"2020-01-01T10:09:49\", \"2020-01-01T10:18:18\", \"2020-01-01T10:21:45\", \"2020-01-01T10:26:19\", \"2020-01-01T10:34:15\", \"2020-01-01T10:35:08\", \"2020-01-01T10:38:58\", \"2020-01-01T10:43:10\", \"2020-01-01T10:57:21\", \"2020-01-01T11:03:41\", \"2020-01-01T11:04:01\", \"2020-01-01T11:20:23\", \"2020-01-01T11:36:32\", \"2020-01-01T11:46:18\", \"2020-01-01T11:48:33\", \"2020-01-01T11:49:55\", \"2020-01-01T11:49:58\", \"2020-01-01T11:53:38\", \"2020-01-01T11:58:16\", \"2020-01-01T11:59:24\", \"2020-01-01T12:01:49\", \"2020-01-01T12:30:08\", \"2020-01-01T12:42:55\", \"2020-01-01T12:43:36\", \"2020-01-01T13:01:01\", \"2020-01-01T13:01:09\", \"2020-01-01T13:27:10\", \"2020-01-01T13:41:27\", \"2020-01-01T14:03:07\", \"2020-01-01T14:05:51\", \"2020-01-01T14:06:40\", \"2020-01-01T14:07:19\", \"2020-01-01T14:10:03\", \"2020-01-01T14:17:48\", \"2020-01-01T14:23:04\", \"2020-01-01T14:33:00\", \"2020-01-01T14:33:02\", \"2020-01-01T14:33:11\", \"2020-01-01T14:34:18\", \"2020-01-01T14:44:20\", \"2020-01-01T14:47:52\", \"2020-01-01T14:48:13\", \"2020-01-01T14:59:17\", \"2020-01-01T15:01:58\", \"2020-01-01T15:13:02\", \"2020-01-01T15:19:09\", \"2020-01-01T15:23:28\", \"2020-01-01T15:26:02\", \"2020-01-01T15:27:12\", \"2020-01-01T15:28:07\", \"2020-01-01T15:28:58\", \"2020-01-01T15:34:02\", \"2020-01-01T15:50:54\", \"2020-01-01T15:52:54\", \"2020-01-01T15:53:51\", \"2020-01-01T15:55:52\", \"2020-01-01T15:56:07\", \"2020-01-01T16:05:25\", \"2020-01-01T16:10:27\", \"2020-01-01T16:24:52\", \"2020-01-01T16:25:58\", \"2020-01-01T16:30:09\", \"2020-01-01T16:30:51\", \"2020-01-01T16:31:23\", \"2020-01-01T16:33:51\", \"2020-01-01T16:36:01\", \"2020-01-01T16:37:27\", \"2020-01-01T16:47:17\", \"2020-01-01T16:49:50\"], \"xaxis\": \"x\", \"y\": [-0.37500000000000006, 0.20554108796296297, 0.1481290849673203, -0.05, 0.10625, 0.0, -0.14593253968253966, 0.1272727272727273, 0.16499999999999998, 0.06158062234794907, 0.1255980861244019, 0.0964285714285714, 0.0, 0.07483766233766234, -0.09720238095238094, 0.012121212121212116, 0.29500000000000004, 0.28730158730158734, 0.06666666666666667, 0.5, -0.06778198653198654, 0.16666666666666669, 0.16666666666666666, -0.050000000000000044, 0.31, 0.2, 0.22828282828282828, 0.049999999999999996, -0.050000000000000044, 0.1568181818181818, 0.22555555555555554, -0.08863636363636364, -0.024999999999999984, 0.003737373737373745, 0.3578125, 0.04531746031746031, 0.0, -0.12, -0.15000000000000002, 0.17240852181328364, 0.06145833333333334, -0.14583333333333334, 0.1375, -0.16666666666666666, -0.25, -0.06041666666666666, -0.09285714285714286, 0.008333333333333331, -0.03333333333333333, 0.1, -0.11111111111111112, 0.095, 0.35, -0.13125, 0.17857142857142855, 0.0, 0.375, -0.0747159090909091, -0.090625, -0.07037037037037033, 0.087106357694593, 0.125, 0.1929814233385662, 0.425, -0.11632653061224489, 0.06864095500459137, 0.20113636363636364, -0.055555555555555504, -0.03234551396316103, -0.171875, 0.023333333333333338, 0.5, 0.2, -0.25, 0.45, 0.0, 0.09166666666666667, 0.4, -0.12301587301587302, 0.0, -0.8, 0.3400865800865801, 0.13950216450216452, -0.21666666666666667, 0.3477272727272727, -0.15, 0.0, 0.23611111111111113, 0.25, 0.03690476190476189, 0.1625, 0.13506493506493508, 0.15833333333333333, 0.04847060833902941, 0.029173292693700864, 0.4373015873015873, 0.0, 0.2526515151515152, 0.11111111111111112, -0.2, 0.0, 0.2562388591800357, 0.03666666666666666, 0.061805555555555544, 0.22551020408163264, 0.16666666666666666, 0.1602891156462585, 0.2337403337403338, 0.20777777777777778, 0.056842918985776106, 0.17670454545454548, 0.14285714285714285, 0.0, -0.17499999999999996, -0.06845238095238096, 0.3, 0.1393960895616525, 0.15, 0.04791666666666665, 0.05, 0.0, 0.0, 0.1429920634920635, 0.03566666666666666, -0.1, 0.19444444444444445, -0.11666666666666665, -0.05, 0.5060606060606061, 0.0, 0.1, 0.12916666666666665, 0.2, -0.1, 0.10714285714285714, 0.107009657009657, 0.14615384615384616, 0.06666666666666665, 0.0, 0.20069444444444445, 0.47999999999999987, -0.07638888888888888, -0.13333333333333333, 0.19999999999999998, 1.0, 0.2, 0.8, 0.4454545454545455, 0.12878787878787878, -0.13999999999999999, 0.18125, 0.16666666666666666, -0.075, 0.45, 0.12857142857142856, 0.5, 0.05059523809523809, 0.25, 0.12227272727272727, 0.15959595959595962, 0.12000000000000002, 0.35, -0.25, 0.5, 0.09999999999999998, 0.5166666666666667, 0.25, 0.2128787878787879, -0.08611111111111114, 0.2, 0.03333333333333333, 0.08650793650793652, 0.25999999999999995, 0.11716212121212123, 0.0, 0.009999999999999998, 0.0, 0.03474025974025974, 0.31338095238095237, 0.09983766233766234, 0.16249999999999998, 0.15892857142857142, 0.04285714285714286, 0.10944444444444443, 0.15892857142857142, -0.5, 0.5290909090909091, 0.39015151515151514, 0.0, 0.04545454545454545, -0.050000000000000044, -0.013888888888888902, 0.3666666666666667, -0.2333333333333333, 0.11818181818181818, 0.4666666666666668, -0.22083333333333333, 0.125, 0.0964285714285714, 0.0, -0.021428571428571436, 0.0, 0.1361111111111111, -0.0069444444444444475, 0.06818181818181818, 0.06326979472140762, -0.25, 0.5234848484848484, 0.10666666666666666, 0.21727272727272728, 0.0, 1.0, 0.0625, -0.05965909090909091, 0.19318181818181818, -0.07891156462585035, -0.01957813428401664, 0.5578282828282828, 0.29, 0.29545454545454547, 0.3, 0.2016666666666666, 0.019999999999999997, 0.03521205357142857, -0.18333333333333335, 0.20833333333333334, 0.3125, 0.18727272727272729, 0.14770267328456982, 0.0012626262626262614, 0.1880952380952381, 0.04930555555555555, -0.06785714285714287, 0.19004132231404958, 0.0, 0.0, -0.03621794871794872, -0.045312500000000006, -0.016666666666666677, 0.0, 0.24166666666666667, 0.0, 0.33712121212121215, -0.0020833333333333294, 0.0, 0.18409090909090908, 0.0, -0.004341491841491843, 0.175, -0.30000000000000004, 0.3594444444444444, 0.24997745310245312, 0.04274452618202618, 0.07857142857142858, 0.06882284382284382, 0.0, -0.15791666666666668, -0.017407407407407406, 0.13794656358279114, 0.19571406024531024, 0.1568181818181818, -0.0888888888888889, 0.12272727272727273, 0.35, 0.17402597402597406, 0.75, -0.21785714285714286, 0.047632575757575756, 0.15, 0.09999999999999998, 0.25, 0.04162037037037036, 0.09999999999999999, 0.35, 0.10129870129870129, -0.016666666666666653, 0.15763888888888888, 0.0, 0.09003759398496242, 0.11943722943722941, -0.014583333333333351, 0.05454545454545454, 0.11111111111111113, -0.008333333333333337, 0.19659090909090912, -0.025, 0.021212121212121213, 0.1160909090909091, 0.08005632360471067, 0.03333333333333333, 0.011111111111111136, 0.06166666666666667, 0.25, 0.35871212121212126, 0.25, -0.022380952380952397, 0.6720833333333334, 0.0672979797979798, 0.0, 0.0, 0.33011363636363633, 0.07393939393939394, 0.25, 0.16774891774891773, -0.10755208333333335, 0.16666666666666666, 0.37777777777777777, -0.0062500000000000056, 0.24833333333333335, 0.07739714933592486, 0.0, 0.06060606060606062, 0.026851851851851856, 0.175, 0.25999999999999995, -0.009285714285714286, 0.2160774410774411, 0.125, -0.07229437229437229, -0.15, 0.0, 0.033333333333333326, -0.08888888888888889, 0.016666666666666663, 0.06547619047619047, 0.009243697478991595, 0.33720779220779223, 0.14545454545454542, 0.0628509117145481, -0.15000000000000002, 0.10919642857142857, 0.10685185185185185, 0.3099897787397787, 0.24583333333333335, 0.2579188107489994, 0.16388564777236653, 0.21666666666666665, 0.0029761904761904747, 0.07142857142857142, 0.5, 0.014583333333333337, 0.34375, 0.08333333333333333, 0.1, -0.00833333333333334, 0.0, 0.25013061650992685, 0.13613636363636367, 0.11764069264069264, 0.04999999999999999, 0.04499999999999999, 0.25, 0.15083333333333332, -0.34074074074074073, 0.13714285714285715, -0.14375, 0.0, 0.06756004489337823, -0.025818452380952393, 0.17082999305221533, 0.018928571428571427, 0.024999999999999994, -0.04897186147186148, 0.11666666666666668, 0.0, 0.21880952380952381, -0.019642857142857146, 0.07924107142857142, 0.1, -0.07777777777777778, 0.22499999999999998, 0.0, 0.12272727272727273, 0.0, 0.19999999999999998, 0.175, 0.6], \"yaxis\": \"y\"}, {\"alignmentgroup\": \"True\", \"bingroup\": \"x\", \"hoverlabel\": {\"namelength\": 0}, \"hovertemplate\": \"subreddit=destinythegame<br>Date Posted=%{x}<br>count=%{y}\", \"legendgroup\": \"subreddit=destinythegame\", \"marker\": {\"color\": \"blue\"}, \"name\": \"subreddit=destinythegame\", \"offsetgroup\": \"subreddit=destinythegame\", \"opacity\": 0.5, \"showlegend\": false, \"type\": \"histogram\", \"x\": [\"2019-12-31T16:51:27\", \"2019-12-31T16:53:42\", \"2019-12-31T17:03:49\", \"2019-12-31T17:04:49\", \"2019-12-31T17:05:11\", \"2019-12-31T17:05:14\", \"2019-12-31T17:06:28\", \"2019-12-31T17:08:27\", \"2019-12-31T17:08:35\", \"2019-12-31T17:09:21\", \"2019-12-31T17:09:26\", \"2019-12-31T17:13:06\", \"2019-12-31T17:14:47\", \"2019-12-31T17:17:01\", \"2019-12-31T17:17:56\", \"2019-12-31T17:20:55\", \"2019-12-31T17:22:17\", \"2019-12-31T17:23:06\", \"2019-12-31T17:23:28\", \"2019-12-31T17:26:34\", \"2019-12-31T17:27:15\", \"2019-12-31T17:27:32\", \"2019-12-31T17:32:27\", \"2019-12-31T17:44:35\", \"2019-12-31T17:45:32\", \"2019-12-31T17:46:13\", \"2019-12-31T17:50:29\", \"2019-12-31T17:51:09\", \"2019-12-31T17:54:00\", \"2019-12-31T17:55:02\", \"2019-12-31T17:56:37\", \"2019-12-31T17:59:47\", \"2019-12-31T18:05:07\", \"2019-12-31T18:05:30\", \"2019-12-31T18:06:51\", \"2019-12-31T18:07:30\", \"2019-12-31T18:09:42\", \"2019-12-31T18:10:47\", \"2019-12-31T18:11:30\", \"2019-12-31T18:12:20\", \"2019-12-31T18:12:28\", \"2019-12-31T18:14:10\", \"2019-12-31T18:15:31\", \"2019-12-31T18:18:02\", \"2019-12-31T18:23:22\", \"2019-12-31T18:23:46\", \"2019-12-31T18:28:27\", \"2019-12-31T18:31:00\", \"2019-12-31T18:32:33\", \"2019-12-31T18:34:03\", \"2019-12-31T18:39:54\", \"2019-12-31T18:39:59\", \"2019-12-31T18:41:20\", \"2019-12-31T18:45:16\", \"2019-12-31T18:50:03\", \"2019-12-31T18:51:31\", \"2019-12-31T18:53:54\", \"2019-12-31T18:54:47\", \"2019-12-31T18:56:23\", \"2019-12-31T18:58:17\", \"2019-12-31T18:58:19\", \"2019-12-31T19:00:59\", \"2019-12-31T19:00:59\", \"2019-12-31T19:03:50\", \"2019-12-31T19:05:07\", \"2019-12-31T19:14:36\", \"2019-12-31T19:17:13\", \"2019-12-31T19:17:52\", \"2019-12-31T19:32:58\", \"2019-12-31T19:38:11\", \"2019-12-31T19:43:22\", \"2019-12-31T19:44:36\", \"2019-12-31T19:46:12\", \"2019-12-31T19:48:43\", \"2019-12-31T19:50:45\", \"2019-12-31T19:53:15\", \"2019-12-31T19:53:51\", \"2019-12-31T19:55:15\", \"2019-12-31T19:55:21\", \"2019-12-31T19:57:05\", \"2019-12-31T19:58:18\", \"2019-12-31T20:01:34\", \"2019-12-31T20:02:14\", \"2019-12-31T20:05:27\", \"2019-12-31T20:07:16\", \"2019-12-31T20:10:36\", \"2019-12-31T20:11:39\", \"2019-12-31T20:11:51\", \"2019-12-31T20:14:27\", \"2019-12-31T20:18:07\", \"2019-12-31T20:23:51\", \"2019-12-31T20:26:41\", \"2019-12-31T20:27:33\", \"2019-12-31T20:30:27\", \"2019-12-31T20:34:37\", \"2019-12-31T20:39:20\", \"2019-12-31T20:40:33\", \"2019-12-31T20:41:28\", \"2019-12-31T20:42:52\", \"2019-12-31T20:48:40\", \"2019-12-31T20:49:52\", \"2019-12-31T20:50:19\", \"2019-12-31T20:52:22\", \"2019-12-31T20:52:36\", \"2019-12-31T20:58:37\", \"2019-12-31T20:59:08\", \"2019-12-31T20:59:23\", \"2019-12-31T21:05:26\", \"2019-12-31T21:08:40\", \"2019-12-31T21:11:44\", \"2019-12-31T21:14:41\", \"2019-12-31T21:15:43\", \"2019-12-31T21:23:52\", \"2019-12-31T21:25:36\", \"2019-12-31T21:28:32\", \"2019-12-31T21:30:54\", \"2019-12-31T21:31:18\", \"2019-12-31T21:32:17\", \"2019-12-31T21:33:20\", \"2019-12-31T21:35:30\", \"2019-12-31T21:36:31\", \"2019-12-31T21:39:43\", \"2019-12-31T21:41:27\", \"2019-12-31T21:44:10\", \"2019-12-31T21:48:23\", \"2019-12-31T21:50:18\", \"2019-12-31T21:51:19\", \"2019-12-31T21:52:00\", \"2019-12-31T21:52:53\", \"2019-12-31T21:55:14\", \"2019-12-31T21:55:44\", \"2019-12-31T21:57:53\", \"2019-12-31T21:59:26\", \"2019-12-31T22:01:06\", \"2019-12-31T22:01:18\", \"2019-12-31T22:01:48\", \"2019-12-31T22:05:20\", \"2019-12-31T22:06:50\", \"2019-12-31T22:06:59\", \"2019-12-31T22:07:41\", \"2019-12-31T22:14:39\", \"2019-12-31T22:16:56\", \"2019-12-31T22:21:05\", \"2019-12-31T22:25:14\", \"2019-12-31T22:26:24\", \"2019-12-31T22:28:37\", \"2019-12-31T22:29:04\", \"2019-12-31T22:30:55\", \"2019-12-31T22:32:17\", \"2019-12-31T22:38:16\", \"2019-12-31T22:40:18\", \"2019-12-31T22:40:44\", \"2019-12-31T22:40:54\", \"2019-12-31T22:45:47\", \"2019-12-31T22:47:28\", \"2019-12-31T22:48:32\", \"2019-12-31T22:54:45\", \"2019-12-31T22:54:57\", \"2019-12-31T22:59:12\", \"2019-12-31T23:00:48\", \"2019-12-31T23:01:35\", \"2019-12-31T23:02:39\", \"2019-12-31T23:04:14\", \"2019-12-31T23:04:46\", \"2019-12-31T23:07:46\", \"2019-12-31T23:09:04\", \"2019-12-31T23:11:25\", \"2019-12-31T23:11:58\", \"2019-12-31T23:18:44\", \"2019-12-31T23:19:29\", \"2019-12-31T23:28:30\", \"2019-12-31T23:30:32\", \"2019-12-31T23:30:33\", \"2019-12-31T23:32:48\", \"2019-12-31T23:35:50\", \"2019-12-31T23:38:35\", \"2019-12-31T23:38:53\", \"2019-12-31T23:39:17\", \"2019-12-31T23:45:47\", \"2019-12-31T23:52:54\", \"2020-01-01T00:12:42\", \"2020-01-01T00:13:57\", \"2020-01-01T00:14:58\", \"2020-01-01T00:16:38\", \"2020-01-01T00:26:51\", \"2020-01-01T00:28:44\", \"2020-01-01T00:29:16\", \"2020-01-01T00:30:47\", \"2020-01-01T00:34:26\", \"2020-01-01T00:34:41\", \"2020-01-01T00:38:53\", \"2020-01-01T00:44:36\", \"2020-01-01T00:51:50\", \"2020-01-01T00:52:37\", \"2020-01-01T00:53:20\", \"2020-01-01T00:54:54\", \"2020-01-01T00:55:40\", \"2020-01-01T00:56:14\", \"2020-01-01T00:57:13\", \"2020-01-01T01:05:53\", \"2020-01-01T01:11:46\", \"2020-01-01T01:11:57\", \"2020-01-01T01:13:35\", \"2020-01-01T01:15:22\", \"2020-01-01T01:17:02\", \"2020-01-01T01:26:18\", \"2020-01-01T01:26:31\", \"2020-01-01T01:29:18\", \"2020-01-01T01:38:51\", \"2020-01-01T01:54:11\", \"2020-01-01T01:58:04\", \"2020-01-01T02:00:37\", \"2020-01-01T02:01:55\", \"2020-01-01T02:05:18\", \"2020-01-01T02:06:04\", \"2020-01-01T02:06:34\", \"2020-01-01T02:08:56\", \"2020-01-01T02:09:09\", \"2020-01-01T02:21:19\", \"2020-01-01T02:26:44\", \"2020-01-01T02:34:05\", \"2020-01-01T02:34:23\", \"2020-01-01T02:41:38\", \"2020-01-01T02:45:21\", \"2020-01-01T02:49:08\", \"2020-01-01T02:50:16\", \"2020-01-01T02:53:20\", \"2020-01-01T02:53:52\", \"2020-01-01T02:54:23\", \"2020-01-01T03:01:12\", \"2020-01-01T03:03:47\", \"2020-01-01T03:05:04\", \"2020-01-01T03:09:20\", \"2020-01-01T03:14:52\", \"2020-01-01T03:14:58\", \"2020-01-01T03:17:29\", \"2020-01-01T03:18:02\", \"2020-01-01T03:22:35\", \"2020-01-01T03:26:54\", \"2020-01-01T03:27:30\", \"2020-01-01T03:29:00\", \"2020-01-01T03:32:54\", \"2020-01-01T03:44:45\", \"2020-01-01T03:47:59\", \"2020-01-01T03:48:31\", \"2020-01-01T03:52:42\", \"2020-01-01T04:00:52\", \"2020-01-01T04:01:00\", \"2020-01-01T04:01:54\", \"2020-01-01T04:03:15\", \"2020-01-01T04:06:13\", \"2020-01-01T04:07:17\", \"2020-01-01T04:08:28\", \"2020-01-01T04:39:32\", \"2020-01-01T04:40:15\", \"2020-01-01T04:40:31\", \"2020-01-01T04:46:17\", \"2020-01-01T04:47:36\", \"2020-01-01T04:48:41\", \"2020-01-01T04:52:40\", \"2020-01-01T04:54:19\", \"2020-01-01T04:55:14\", \"2020-01-01T05:01:46\", \"2020-01-01T05:03:48\", \"2020-01-01T05:04:39\", \"2020-01-01T05:05:30\", \"2020-01-01T05:14:49\", \"2020-01-01T05:16:25\", \"2020-01-01T05:20:58\", \"2020-01-01T05:24:07\", \"2020-01-01T05:33:58\", \"2020-01-01T05:39:03\", \"2020-01-01T05:40:55\", \"2020-01-01T05:42:09\", \"2020-01-01T05:57:07\", \"2020-01-01T06:02:53\", \"2020-01-01T06:10:24\", \"2020-01-01T06:12:59\", \"2020-01-01T06:22:05\", \"2020-01-01T06:22:11\", \"2020-01-01T06:29:41\", \"2020-01-01T06:35:19\", \"2020-01-01T06:40:56\", \"2020-01-01T06:43:49\", \"2020-01-01T07:01:11\", \"2020-01-01T07:08:01\", \"2020-01-01T07:22:57\", \"2020-01-01T07:29:45\", \"2020-01-01T07:32:54\", \"2020-01-01T07:35:28\", \"2020-01-01T07:43:05\", \"2020-01-01T07:56:13\", \"2020-01-01T08:07:04\", \"2020-01-01T08:09:37\", \"2020-01-01T08:13:27\", \"2020-01-01T08:25:03\", \"2020-01-01T08:43:41\", \"2020-01-01T08:55:32\", \"2020-01-01T09:06:17\", \"2020-01-01T09:11:58\", \"2020-01-01T09:21:37\", \"2020-01-01T09:29:17\", \"2020-01-01T09:29:32\", \"2020-01-01T09:31:35\", \"2020-01-01T09:38:10\", \"2020-01-01T09:39:47\", \"2020-01-01T09:52:13\", \"2020-01-01T09:56:31\", \"2020-01-01T10:09:49\", \"2020-01-01T10:18:18\", \"2020-01-01T10:21:45\", \"2020-01-01T10:26:19\", \"2020-01-01T10:34:15\", \"2020-01-01T10:35:08\", \"2020-01-01T10:38:58\", \"2020-01-01T10:43:10\", \"2020-01-01T10:57:21\", \"2020-01-01T11:03:41\", \"2020-01-01T11:04:01\", \"2020-01-01T11:20:23\", \"2020-01-01T11:36:32\", \"2020-01-01T11:46:18\", \"2020-01-01T11:48:33\", \"2020-01-01T11:49:55\", \"2020-01-01T11:49:58\", \"2020-01-01T11:53:38\", \"2020-01-01T11:58:16\", \"2020-01-01T11:59:24\", \"2020-01-01T12:01:49\", \"2020-01-01T12:30:08\", \"2020-01-01T12:42:55\", \"2020-01-01T12:43:36\", \"2020-01-01T13:01:01\", \"2020-01-01T13:01:09\", \"2020-01-01T13:27:10\", \"2020-01-01T13:41:27\", \"2020-01-01T14:03:07\", \"2020-01-01T14:05:51\", \"2020-01-01T14:06:40\", \"2020-01-01T14:07:19\", \"2020-01-01T14:10:03\", \"2020-01-01T14:17:48\", \"2020-01-01T14:23:04\", \"2020-01-01T14:33:00\", \"2020-01-01T14:33:02\", \"2020-01-01T14:33:11\", \"2020-01-01T14:34:18\", \"2020-01-01T14:44:20\", \"2020-01-01T14:47:52\", \"2020-01-01T14:48:13\", \"2020-01-01T14:59:17\", \"2020-01-01T15:01:58\", \"2020-01-01T15:13:02\", \"2020-01-01T15:19:09\", \"2020-01-01T15:23:28\", \"2020-01-01T15:26:02\", \"2020-01-01T15:27:12\", \"2020-01-01T15:28:07\", \"2020-01-01T15:28:58\", \"2020-01-01T15:34:02\", \"2020-01-01T15:50:54\", \"2020-01-01T15:52:54\", \"2020-01-01T15:53:51\", \"2020-01-01T15:55:52\", \"2020-01-01T15:56:07\", \"2020-01-01T16:05:25\", \"2020-01-01T16:10:27\", \"2020-01-01T16:24:52\", \"2020-01-01T16:25:58\", \"2020-01-01T16:30:09\", \"2020-01-01T16:30:51\", \"2020-01-01T16:31:23\", \"2020-01-01T16:33:51\", \"2020-01-01T16:36:01\", \"2020-01-01T16:37:27\", \"2020-01-01T16:47:17\", \"2020-01-01T16:49:50\"], \"xaxis\": \"x3\", \"yaxis\": \"y3\"}, {\"customdata\": [[\"destiny2\", \"_SeparateEagle_\", \"https://www.reddit.com/r/destiny2/comments/ei5edh/the_destinythegame_subreddit_is_a_joke/\", \"ei5edh\"], [\"destiny2\", \"J2xACE\", \"https://www.reddit.com/r/destiny2/comments/ei5fwd/traction_mod/\", \"ei5fwd\"], [\"destiny2\", \"NegaChrome\", \"https://www.reddit.com/r/destiny2/comments/ei5jl8/question_on_weapon_mods/\", \"ei5jl8\"], [\"destiny2\", \"Ruraraid\", \"https://www.reddit.com/r/destiny2/comments/ei5p86/anyone_else_get_some_bonus_glory_points_today/\", \"ei5p86\"], [\"destiny2\", \"Vigil32\", \"https://www.reddit.com/r/destiny2/comments/ei5rw0/weekly_powerful_engrams/\", \"ei5rw0\"], [\"destiny2\", \"newaccount6969420\", \"https://www.reddit.com/r/destiny2/comments/ei5t6w/can_you_adjust_the_safe_area_on_pc/\", \"ei5t6w\"], [\"destiny2\", \"J8NSYY\", \"https://www.reddit.com/r/destiny2/comments/ei5tjg/iron_banner/\", \"ei5tjg\"], [\"destiny2\", \"LoLx1\", \"https://www.reddit.com/r/destiny2/comments/ei5v4p/thrown_strike/\", \"ei5v4p\"], [\"destiny2\", \"graspee\", \"https://www.reddit.com/r/destiny2/comments/ei5ymc/no_ib_banner_body_for_this_pangolin/\", \"ei5ymc\"], [\"destiny2\", \"Howard_Goldstien\", \"https://www.reddit.com/r/destiny2/comments/ei5zdo/how_to_get_a_quest_back/\", \"ei5zdo\"], [\"destiny2\", \"GrantFireType\", \"https://www.reddit.com/r/destiny2/comments/ei612f/any_idea_how_to_help/\", \"ei612f\"], [\"destiny2\", \"timetogoVroom\", \"https://www.reddit.com/r/destiny2/comments/ei67a4/would_like_some_guidance_regarding_the_obelisks/\", \"ei67a4\"], [\"destiny2\", \"smellypuddin\", \"https://www.reddit.com/r/destiny2/comments/ei6c98/cant_interact_with_obelisk_in_edz/\", \"ei6c98\"], [\"destiny2\", \"pazanate\", \"https://www.reddit.com/r/destiny2/comments/ei6jsw/best_way_to_farm_imperials_postshadowkeep/\", \"ei6jsw\"], [\"destiny2\", \"MochiBakaa\", \"https://www.reddit.com/r/destiny2/comments/ei6m7a/best_primary_smg_for_pvp/\", \"ei6m7a\"], [\"destiny2\", \"Strong_Mode\", \"https://www.reddit.com/r/destiny2/comments/ei6mtb/whats_wrong_with_the_fanatic/\", \"ei6mtb\"], [\"destiny2\", \"EGG_LOAF\", \"https://www.reddit.com/r/destiny2/comments/ei6o37/happy_new_years/\", \"ei6o37\"], [\"destiny2\", \"KrisDahl116\", \"https://www.reddit.com/r/destiny2/comments/ei6uts/the_current_state_of_the_game/\", \"ei6uts\"], [\"destiny2\", \"J8NSYY\", \"https://www.reddit.com/r/destiny2/comments/ei6vqs/legendary_kinetic_sniper_rifles/\", \"ei6vqs\"], [\"destiny2\", \"MrMyxzplk\", \"https://www.reddit.com/r/destiny2/comments/ei6w1b/malfeasence/\", \"ei6w1b\"], [\"destiny2\", \"Noman_Blaze\", \"https://www.reddit.com/r/destiny2/comments/ei7bzp/eris_is_not_giving_the_last_piece_of_unveiling/\", \"ei7bzp\"], [\"destiny2\", \"FungusAmongus007\", \"https://www.reddit.com/r/destiny2/comments/ei7fr8/i_aint_missin_you_at_all/\", \"ei7fr8\"], [\"destiny2\", \"SoyboySauce\", \"https://www.reddit.com/r/destiny2/comments/ei7id2/wayfarer_help/\", \"ei7id2\"], [\"destiny2\", \"Donrage8\", \"https://www.reddit.com/r/destiny2/comments/ei7key/new_player/\", \"ei7key\"], [\"destiny2\", \"Wahmanz3\", \"https://www.reddit.com/r/destiny2/comments/ei7nnz/which_destiny_gameexpansion_has_the_best/\", \"ei7nnz\"], [\"destiny2\", \"Dlucks83\", \"https://www.reddit.com/r/destiny2/comments/ei8buj/uh_where_to_start/\", \"ei8buj\"], [\"destiny2\", \"BGSPARK500\", \"https://www.reddit.com/r/destiny2/comments/ei8fdc/looking_for_clan/\", \"ei8fdc\"], [\"destiny2\", \"SapphireSammi\", \"https://www.reddit.com/r/destiny2/comments/ei8hi3/help_with_lumina_quest_please/\", \"ei8hi3\"], [\"destiny2\", \"Falkr__th\", \"https://www.reddit.com/r/destiny2/comments/ei8io8/i_cant_play_the_arms_dealer_assault/\", \"ei8io8\"], [\"destiny2\", \"JTyler2468\", \"https://www.reddit.com/r/destiny2/comments/ei8jk5/concerning_the_amount_of_crying_i_hear_about_d2/\", \"ei8jk5\"], [\"destiny2\", \"chrismarinoccio\", \"https://www.reddit.com/r/destiny2/comments/ei8mc2/how_come_the_season_pass_works_with_cross_save/\", \"ei8mc2\"], [\"destiny2\", \"xsummertime77\", \"https://www.reddit.com/r/destiny2/comments/ei8nj0/farming_mindbender_tips/\", \"ei8nj0\"], [\"destiny2\", \"JDuijne\", \"https://www.reddit.com/r/destiny2/comments/ei8q4q/xur/\", \"ei8q4q\"], [\"destiny2\", \"Animalesco\", \"https://www.reddit.com/r/destiny2/comments/ei8rdv/all_quests_account_bound/\", \"ei8rdv\"], [\"destiny2\", \"Ryderdawg\", \"https://www.reddit.com/r/destiny2/comments/ei8tal/menagerie/\", \"ei8tal\"], [\"destiny2\", \"onexyzero\", \"https://www.reddit.com/r/destiny2/comments/ei8twd/inconsistent_lost_glory_points_any_ideas/\", \"ei8twd\"], [\"destiny2\", \"Cornerbog\", \"https://www.reddit.com/r/destiny2/comments/ei92yv/any_fellow_aussieenglish_speaking_guardians_on/\", \"ei92yv\"], [\"destiny2\", \"TheMany-FacedGod\", \"https://www.reddit.com/r/destiny2/comments/ei94ii/mk_snipers_what_ads_sensitivity_to_you_use/\", \"ei94ii\"], [\"destiny2\", \"deathwatcher21\", \"https://www.reddit.com/r/destiny2/comments/ei965g/are_hunters_good_for_new_players/\", \"ei965g\"], [\"destiny2\", \"Vailix750\", \"https://www.reddit.com/r/destiny2/comments/ei96v2/how_to_start_a_raid/\", \"ei96v2\"], [\"destiny2\", \"Sketep\", \"https://www.reddit.com/r/destiny2/comments/ei9d39/whats_up_with_the_memory_of_cayde_class_item/\", \"ei9d39\"], [\"destiny2\", \"ThornierSpider7\", \"https://www.reddit.com/r/destiny2/comments/ei9nrm/see_ornaments_after_unlock/\", \"ei9nrm\"], [\"destiny2\", \"veryhiddentalent\", \"https://www.reddit.com/r/destiny2/comments/ei9o7i/think_well_ever_get_to_edit_our_guardians_faces/\", \"ei9o7i\"], [\"destiny2\", \"deathwatcher21\", \"https://www.reddit.com/r/destiny2/comments/ei9psy/warlock/\", \"ei9psy\"], [\"destiny2\", \"PCgamer7777\", \"https://www.reddit.com/r/destiny2/comments/ei9r22/arc_seasonal_armor/\", \"ei9r22\"], [\"destiny2\", \"NAMEANNONYMOUS\", \"https://www.reddit.com/r/destiny2/comments/eia4ok/swords/\", \"eia4ok\"], [\"destiny2\", \"Toast-that-is-burnt\", \"https://www.reddit.com/r/destiny2/comments/eia7k6/saviour_title_guide/\", \"eia7k6\"], [\"destiny2\", \"robertnk05\", \"https://www.reddit.com/r/destiny2/comments/eia84r/red_war_has_such_a_great_start_up_spoiler_obv/\", \"eia84r\"], [\"destiny2\", \"Jacksonhoward0\", \"https://www.reddit.com/r/destiny2/comments/eia8y8/why_is_this_subreddit_so_superior_to/\", \"eia8y8\"], [\"destiny2\", \"SheWantsPingu\", \"https://www.reddit.com/r/destiny2/comments/eiaa9k/how_to_get_tranquility_quest_essence_of_vanity/\", \"eiaa9k\"], [\"destiny2\", \"reddittidder1234321\", \"https://www.reddit.com/r/destiny2/comments/eiahmm/would_like_to_not_be_limited_to_only_4_emotes/\", \"eiahmm\"], [\"destiny2\", \"WabbitCZEN\", \"https://www.reddit.com/r/destiny2/comments/eiaigl/we_need_more_than_one_way_to_earn_glory/\", \"eiaigl\"], [\"destiny2\", \"WabbitCZEN\", \"https://www.reddit.com/r/destiny2/comments/eiajub/heart_of_the_dragon_requires_linear_fusion_rifle/\", \"eiajub\"], [\"destiny2\", \"Stayfrosty157\", \"https://www.reddit.com/r/destiny2/comments/eianls/happy_new_years_guardians/\", \"eianls\"], [\"destiny2\", \"J2xACE\", \"https://www.reddit.com/r/destiny2/comments/eianwy/what_is_your_rating_of_crucible_out_of_10_and_why/\", \"eianwy\"], [\"destiny2\", \"Gustalavalav\", \"https://www.reddit.com/r/destiny2/comments/eiax5v/hive_bring_a_sword/\", \"eiax5v\"], [\"destiny2\", \"dragonoid05\", \"https://www.reddit.com/r/destiny2/comments/eib02o/ascendant_challenge/\", \"eib02o\"], [\"destiny2\", \"xCovertSniperx\", \"https://www.reddit.com/r/destiny2/comments/eib0ii/new_titan_player_here_looking_for_a_team_to/\", \"eib0ii\"], [\"destiny2\", \"dstary\", \"https://www.reddit.com/r/destiny2/comments/eib0oi/real_quick_what_is_the_fastest_way_to_move_around/\", \"eib0oi\"], [\"destiny2\", \"patton3\", \"https://www.reddit.com/r/destiny2/comments/eib24f/so_is_leviathans_breath_just_impossible_to_get_if/\", \"eib24f\"], [\"destiny2\", \"incrassa\", \"https://www.reddit.com/r/destiny2/comments/eib7v1/just_a_thought/\", \"eib7v1\"], [\"destiny2\", \"RickV6\", \"https://www.reddit.com/r/destiny2/comments/eibb1k/i_just_have_one_simple_question_for_bungie_will/\", \"eibb1k\"], [\"destiny2\", \"Mirkblood\", \"https://www.reddit.com/r/destiny2/comments/eibusv/help_dawning_and_xur/\", \"eibusv\"], [\"destiny2\", \"MyAzzOwnzYou\", \"https://www.reddit.com/r/destiny2/comments/eibwc8/saint/\", \"eibwc8\"], [\"destiny2\", \"yoyo4444773728\", \"https://www.reddit.com/r/destiny2/comments/eibxhv/just_a_thought/\", \"eibxhv\"], [\"destiny2\", \"Uncreative_name1385\", \"https://www.reddit.com/r/destiny2/comments/eibyqg/exotics/\", \"eibyqg\"], [\"destiny2\", \"dj-kaled\", \"https://www.reddit.com/r/destiny2/comments/eibyv4/question_about_green_with_envy_bug/\", \"eibyv4\"], [\"destiny2\", \"melo23hd\", \"https://www.reddit.com/r/destiny2/comments/eic1tn/why_am_i_dying_so_quickly_in_the_crucible/\", \"eic1tn\"], [\"destiny2\", \"chrisasian45\", \"https://www.reddit.com/r/destiny2/comments/eic4d6/pls_play_mayhem_the_best_quotes_i_have_ever_heard/\", \"eic4d6\"], [\"destiny2\", \"deathwatcher21\", \"https://www.reddit.com/r/destiny2/comments/eic51v/titans/\", \"eic51v\"], [\"destiny2\", \"MachoPanda71\", \"https://www.reddit.com/r/destiny2/comments/eichg9/end_of_season_event/\", \"eichg9\"], [\"destiny2\", \"techmatrixusa\", \"https://www.reddit.com/r/destiny2/comments/eicjb0/devils_ruin_exotic_sidearm_preview_destiny_2_the/\", \"eicjb0\"], [\"destiny2\", \"Graves_Cigar_\", \"https://www.reddit.com/r/destiny2/comments/eiclf0/happy_new_year_guardians/\", \"eiclf0\"], [\"destiny2\", \"Frenchonion546\", \"https://www.reddit.com/r/destiny2/comments/eicoqw/dlc/\", \"eicoqw\"], [\"destiny2\", \"ghsvgreweb\", \"https://www.reddit.com/r/destiny2/comments/eicpwk/black_armory_forges/\", \"eicpwk\"], [\"destiny2\", \"brandyLove75\", \"https://www.reddit.com/r/destiny2/comments/eicqh4/most_powerful_gun_in_d2/\", \"eicqh4\"], [\"destiny2\", \"Luriction\", \"https://www.reddit.com/r/destiny2/comments/eicqlm/quest_to_make_our_own_ghost_shell/\", \"eicqlm\"], [\"destiny2\", \"cocoaboy123\", \"https://www.reddit.com/r/destiny2/comments/eicr2s/is_not_forgotten_doodoo/\", \"eicr2s\"], [\"destiny2\", \"Xx_k4ng4r00_xX\", \"https://www.reddit.com/r/destiny2/comments/eid683/unpopular_opinion_gambit_is_a_fun_and_creative/\", \"eid683\"], [\"destiny2\", \"Cheetos4You\", \"https://www.reddit.com/r/destiny2/comments/eid7f8/why_are_warlocks_so_bad_in_pvp/\", \"eid7f8\"], [\"destiny2\", \"Kailey_ra\", \"https://www.reddit.com/r/destiny2/comments/eid867/x\\u00fcr/\", \"eid867\"], [\"destiny2\", \"ErcDoogles\", \"https://www.reddit.com/r/destiny2/comments/eidab2/mindbenders_drops/\", \"eidab2\"], [\"destiny2\", \"DrBamMan\", \"https://www.reddit.com/r/destiny2/comments/eideu8/im_trying_to_do_the_make_bows_not_war_quest_but/\", \"eideu8\"], [\"destiny2\", \"BigIndo95\", \"https://www.reddit.com/r/destiny2/comments/eidh6t/looking_for_a_fireteam_to_start_raids_and_grind/\", \"eidh6t\"], [\"destiny2\", \"Xander142001\", \"https://www.reddit.com/r/destiny2/comments/eidj2h/im_having_problems_with_the_game/\", \"eidj2h\"], [\"destiny2\", \"VexOffender69420\", \"https://www.reddit.com/r/destiny2/comments/eidj74/mindbenders_ambition_farm/\", \"eidj74\"], [\"destiny2\", \"teezway\", \"https://www.reddit.com/r/destiny2/comments/eidnoy/option_to_re_roll_masterworks_and_gear_plz/\", \"eidnoy\"], [\"destiny2\", \"wasteland_superhero\", \"https://www.reddit.com/r/destiny2/comments/eidp2g/drifter_or_vanguard/\", \"eidp2g\"], [\"destiny2\", \"ParalyzedBeauty\", \"https://www.reddit.com/r/destiny2/comments/eidveb/needing_help_possibly/\", \"eidveb\"], [\"destiny2\", \"DredgenDisciple\", \"https://www.reddit.com/r/destiny2/comments/eidw61/ttk_questions/\", \"eidw61\"], [\"destiny2\", \"jackman48L\", \"https://www.reddit.com/r/destiny2/comments/eidxmv/whats_wrong_with_obelisk/\", \"eidxmv\"], [\"destiny2\", \"TUr805L4Y3R\", \"https://www.reddit.com/r/destiny2/comments/eie7dm/comp_matchmaking/\", \"eie7dm\"], [\"destiny2\", \"SkyGuyMcFly\", \"https://www.reddit.com/r/destiny2/comments/eieiwg/bungie_it_cant_be_that_hard/\", \"eieiwg\"], [\"destiny2\", \"Leonatius\", \"https://www.reddit.com/r/destiny2/comments/eielai/bungie_there_is_absolutely_no_reason_i_should_be/\", \"eielai\"], [\"destiny2\", \"xburningwaterx0\", \"https://www.reddit.com/r/destiny2/comments/eielr2/light_level_cap/\", \"eielr2\"], [\"destiny2\", \"wiithewalrus\", \"https://www.reddit.com/r/destiny2/comments/eieohb/40_hours_in_i_finally_realize_that_light_isnt_the/\", \"eieohb\"], [\"destiny2\", \"Critdentials\", \"https://www.reddit.com/r/destiny2/comments/eif7jp/just_got_anarchy_but_what_do_i_do_with_it/\", \"eif7jp\"], [\"destiny2\", \"ScottiScoot\", \"https://www.reddit.com/r/destiny2/comments/eifah3/destiny_2_heavy_weapon_farm/\", \"eifah3\"], [\"destiny2\", \"onexyzero\", \"https://www.reddit.com/r/destiny2/comments/eifb49/cant_apply_mods_purchased_from_obelisk/\", \"eifb49\"], [\"destiny2\", \"MickelDaMango\", \"https://www.reddit.com/r/destiny2/comments/eifbr3/season_of_dawn_riven_cheese_in_a_petras_run/\", \"eifbr3\"], [\"destiny2\", \"NeoDivergent\", \"https://www.reddit.com/r/destiny2/comments/eifc1w/nothing_spawning_in_the_whisper/\", \"eifc1w\"], [\"destiny2\", \"Zeoxhostil\", \"https://www.reddit.com/r/destiny2/comments/eifcpb/mayhem_fun/\", \"eifcpb\"], [\"destiny2\", \"elsexyboygian\", \"https://www.reddit.com/r/destiny2/comments/eiffnd/destiny_2_we_need_to_talk_about_text_to_chat_and/\", \"eiffnd\"], [\"destiny2\", \"TruBanana\", \"https://www.reddit.com/r/destiny2/comments/eiffua/daily_reset/\", \"eiffua\"], [\"destiny2\", \"BurntPopcorn_OW\", \"https://www.reddit.com/r/destiny2/comments/eifg1c/happy_dawning/\", \"eifg1c\"], [\"destiny2\", \"el_cartos\", \"https://www.reddit.com/r/destiny2/comments/eifj7q/twilight_oath_question/\", \"eifj7q\"], [\"destiny2\", \"taquitoxz86\", \"https://www.reddit.com/r/destiny2/comments/eifled/how_do_you_unlock_reckoning_tier_2_and_3/\", \"eifled\"], [\"destiny2\", \"voDox17\", \"https://www.reddit.com/r/destiny2/comments/eifmdh/raid_help_for_a_first_time_player/\", \"eifmdh\"], [\"destiny2\", \"lukedamemester\", \"https://www.reddit.com/r/destiny2/comments/eifs0g/what_the_fuck_am_i_supposed_to_do/\", \"eifs0g\"], [\"destiny2\", \"Memeaholic825\", \"https://www.reddit.com/r/destiny2/comments/eifw95/destiny_2_recoveries/\", \"eifw95\"], [\"destiny2\", \"el_cartos\", \"https://www.reddit.com/r/destiny2/comments/eifx0q/perkmod_help/\", \"eifx0q\"], [\"destiny2\", \"yoless28\", \"https://www.reddit.com/r/destiny2/comments/eig6t0/edz_obelisk_still_bugged/\", \"eig6t0\"], [\"destiny2\", \"Raxdamighty\", \"https://www.reddit.com/r/destiny2/comments/eiggj2/bug_on_black_talon_pvp/\", \"eiggj2\"], [\"destiny2\", \"InfiniteBiohazards\", \"https://www.reddit.com/r/destiny2/comments/eigtjl/izanagi_question/\", \"eigtjl\"], [\"destiny2\", \"TheHungWolf\", \"https://www.reddit.com/r/destiny2/comments/eigtyk/intentional_skip_found_in_mission/\", \"eigtyk\"], [\"destiny2\", \"Moldbourne\", \"https://www.reddit.com/r/destiny2/comments/eigw36/why_does_the_art_team_hate_warlocjs/\", \"eigw36\"], [\"destiny2\", \"-Setro-\", \"https://www.reddit.com/r/destiny2/comments/eigyxq/99_sure_i_was_banned_for_using_razer_synapse/\", \"eigyxq\"], [\"destiny2\", \"JustWil5\", \"https://www.reddit.com/r/destiny2/comments/eih4r9/game_keeps_crashing_unexpectedly/\", \"eih4r9\"], [\"destiny2\", \"yehaw23\", \"https://www.reddit.com/r/destiny2/comments/eih6yy/is_the_green_with_envy_quest_bugged/\", \"eih6yy\"], [\"destiny2\", \"PuppyDudeLol\", \"https://www.reddit.com/r/destiny2/comments/eihekx/why_do_i_get_oneshotted_in_og_nightfall/\", \"eihekx\"], [\"destiny2\", \"TheRealTTN\", \"https://www.reddit.com/r/destiny2/comments/eihfdw/nightfall_threshold_my_emblem_still_at_100k/\", \"eihfdw\"], [\"destiny2\", \"lesgedit\", \"https://www.reddit.com/r/destiny2/comments/eihgob/everything_will_eventually_nerfed_not_epic/\", \"eihgob\"], [\"destiny2\", \"VMini91\", \"https://www.reddit.com/r/destiny2/comments/eihhzo/saw_an_mpc_starimg/\", \"eihhzo\"], [\"destiny2\", \"Patrick_DSouza1\", \"https://www.reddit.com/r/destiny2/comments/eihp1r/mindbender_roll/\", \"eihp1r\"], [\"destiny2\", \"Naver789\", \"https://www.reddit.com/r/destiny2/comments/eihp83/divinity_in_gos/\", \"eihp83\"], [\"destiny2\", \"KeyanReid\", \"https://www.reddit.com/r/destiny2/comments/eihqip/escalation_protocol_broken_season_of_dawn/\", \"eihqip\"], [\"destiny2\", \"thingsandstuffsguy\", \"https://www.reddit.com/r/destiny2/comments/eihtok/happy_new_year_guardians/\", \"eihtok\"], [\"destiny2\", \"Brainhole87\", \"https://www.reddit.com/r/destiny2/comments/eihyim/what_do_you_solo_players_do_when_you_log_on/\", \"eihyim\"], [\"destiny2\", \"Kmack_00\", \"https://www.reddit.com/r/destiny2/comments/eii2zm/im_stuck_in_a_no_bow_loop/\", \"eii2zm\"], [\"destiny2\", \"Wolf_Ironic\", \"https://www.reddit.com/r/destiny2/comments/eiiau7/bungie_please_make_the_old_random_roll_armor/\", \"eiiau7\"], [\"destiny2\", \"k4rbine\", \"https://www.reddit.com/r/destiny2/comments/eiicbd/raid_loot_question/\", \"eiicbd\"], [\"destiny2\", \"Fear_Oryx\", \"https://www.reddit.com/r/destiny2/comments/eiiqf9/new_light_player_need_help/\", \"eiiqf9\"], [\"destiny2\", \"Vigil32\", \"https://www.reddit.com/r/destiny2/comments/eiis25/liars_handshake/\", \"eiis25\"], [\"destiny2\", \"coles_man_mcjones\", \"https://www.reddit.com/r/destiny2/comments/eiisiu/just_got_banned_for_no_reason/\", \"eiisiu\"], [\"destiny2\", \"J8NSYY\", \"https://www.reddit.com/r/destiny2/comments/eiivak/tranquility/\", \"eiivak\"], [\"destiny2\", \"ThatBluesBS\", \"https://www.reddit.com/r/destiny2/comments/eiizrv/of_all_the_hacking_in_this_game_i_have_to_say_its/\", \"eiizrv\"], [\"destiny2\", \"the-confused-gamer\", \"https://www.reddit.com/r/destiny2/comments/eijmp1/anyone_heard_anything_about_this_shader/\", \"eijmp1\"], [\"destiny2\", \"BT-3025\", \"https://www.reddit.com/r/destiny2/comments/eijpsq/ok_where_is_this_weeks_twab_and_last_weeks/\", \"eijpsq\"], [\"destiny2\", \"RealExuberantRaptor\", \"https://www.reddit.com/r/destiny2/comments/eijsn2/assistance_plz/\", \"eijsn2\"], [\"destiny2\", \"xXDaZealousXx\", \"https://www.reddit.com/r/destiny2/comments/eik3ug/drop_rate_of_mindbender_vs_nightfall_score/\", \"eik3ug\"], [\"destiny2\", \"UrgentQuestionMan\", \"https://www.reddit.com/r/destiny2/comments/eik7va/winterhart_warlock_bundle_bright_dust/\", \"eik7va\"], [\"destiny2\", \"CLAPPYBIRD1950\", \"https://www.reddit.com/r/destiny2/comments/eik8zn/when_i_load_destiny_it_says_shadow_keep_but_i/\", \"eik8zn\"]], \"hoverlabel\": {\"namelength\": 0}, \"hovertemplate\": \"subreddit=%{customdata[0]}<br>Date Posted=%{x}<br>Post Polarity=%{y}<br>author=%{customdata[1]}<br>url=%{customdata[2]}<br>id=%{customdata[3]}\", \"legendgroup\": \"subreddit=destiny2\", \"marker\": {\"color\": \"green\", \"symbol\": \"circle\"}, \"mode\": \"markers\", \"name\": \"subreddit=destiny2\", \"showlegend\": true, \"type\": \"scatter\", \"x\": [\"2019-12-31T16:54:13\", \"2019-12-31T16:57:15\", \"2019-12-31T17:04:24\", \"2019-12-31T17:15:15\", \"2019-12-31T17:20:42\", \"2019-12-31T17:23:12\", \"2019-12-31T17:23:54\", \"2019-12-31T17:26:41\", \"2019-12-31T17:33:35\", \"2019-12-31T17:35:06\", \"2019-12-31T17:38:24\", \"2019-12-31T17:50:46\", \"2019-12-31T18:00:36\", \"2019-12-31T18:15:31\", \"2019-12-31T18:20:24\", \"2019-12-31T18:21:37\", \"2019-12-31T18:24:02\", \"2019-12-31T18:37:29\", \"2019-12-31T18:39:27\", \"2019-12-31T18:39:59\", \"2019-12-31T19:11:46\", \"2019-12-31T19:19:12\", \"2019-12-31T19:24:16\", \"2019-12-31T19:28:31\", \"2019-12-31T19:35:03\", \"2019-12-31T20:26:05\", \"2019-12-31T20:33:36\", \"2019-12-31T20:38:08\", \"2019-12-31T20:40:37\", \"2019-12-31T20:42:25\", \"2019-12-31T20:48:42\", \"2019-12-31T20:51:16\", \"2019-12-31T20:57:01\", \"2019-12-31T20:59:51\", \"2019-12-31T21:04:11\", \"2019-12-31T21:05:23\", \"2019-12-31T21:25:24\", \"2019-12-31T21:28:51\", \"2019-12-31T21:32:32\", \"2019-12-31T21:34:11\", \"2019-12-31T21:47:58\", \"2019-12-31T22:12:10\", \"2019-12-31T22:13:08\", \"2019-12-31T22:16:33\", \"2019-12-31T22:19:27\", \"2019-12-31T22:49:53\", \"2019-12-31T22:56:27\", \"2019-12-31T22:57:49\", \"2019-12-31T22:59:47\", \"2019-12-31T23:02:36\", \"2019-12-31T23:18:59\", \"2019-12-31T23:21:01\", \"2019-12-31T23:24:04\", \"2019-12-31T23:32:13\", \"2019-12-31T23:32:56\", \"2019-12-31T23:53:38\", \"2020-01-01T00:00:17\", \"2020-01-01T00:01:14\", \"2020-01-01T00:01:35\", \"2020-01-01T00:04:40\", \"2020-01-01T00:17:04\", \"2020-01-01T00:24:08\", \"2020-01-01T01:09:29\", \"2020-01-01T01:13:19\", \"2020-01-01T01:16:12\", \"2020-01-01T01:19:18\", \"2020-01-01T01:19:38\", \"2020-01-01T01:26:47\", \"2020-01-01T01:32:57\", \"2020-01-01T01:34:41\", \"2020-01-01T02:06:25\", \"2020-01-01T02:11:13\", \"2020-01-01T02:16:43\", \"2020-01-01T02:25:17\", \"2020-01-01T02:28:20\", \"2020-01-01T02:29:52\", \"2020-01-01T02:30:13\", \"2020-01-01T02:31:33\", \"2020-01-01T03:12:18\", \"2020-01-01T03:15:43\", \"2020-01-01T03:17:49\", \"2020-01-01T03:23:29\", \"2020-01-01T03:35:59\", \"2020-01-01T03:42:20\", \"2020-01-01T03:47:36\", \"2020-01-01T03:48:00\", \"2020-01-01T04:00:48\", \"2020-01-01T04:04:22\", \"2020-01-01T04:22:17\", \"2020-01-01T04:24:36\", \"2020-01-01T04:29:03\", \"2020-01-01T04:57:39\", \"2020-01-01T05:25:50\", \"2020-01-01T05:32:26\", \"2020-01-01T05:33:50\", \"2020-01-01T05:41:24\", \"2020-01-01T06:37:56\", \"2020-01-01T06:47:00\", \"2020-01-01T06:49:08\", \"2020-01-01T06:51:09\", \"2020-01-01T06:51:58\", \"2020-01-01T06:53:58\", \"2020-01-01T07:03:11\", \"2020-01-01T07:03:52\", \"2020-01-01T07:04:22\", \"2020-01-01T07:14:48\", \"2020-01-01T07:22:27\", \"2020-01-01T07:25:53\", \"2020-01-01T07:45:26\", \"2020-01-01T08:00:09\", \"2020-01-01T08:02:27\", \"2020-01-01T08:36:46\", \"2020-01-01T09:13:21\", \"2020-01-01T10:03:31\", \"2020-01-01T10:04:46\", \"2020-01-01T10:12:19\", \"2020-01-01T10:23:36\", \"2020-01-01T10:46:39\", \"2020-01-01T10:55:41\", \"2020-01-01T11:24:16\", \"2020-01-01T11:27:30\", \"2020-01-01T11:32:30\", \"2020-01-01T11:37:41\", \"2020-01-01T12:04:44\", \"2020-01-01T12:05:33\", \"2020-01-01T12:10:18\", \"2020-01-01T12:22:08\", \"2020-01-01T12:40:46\", \"2020-01-01T12:57:00\", \"2020-01-01T13:24:11\", \"2020-01-01T13:29:23\", \"2020-01-01T14:14:50\", \"2020-01-01T14:19:56\", \"2020-01-01T14:21:19\", \"2020-01-01T14:29:28\", \"2020-01-01T14:42:37\", \"2020-01-01T15:44:25\", \"2020-01-01T15:52:22\", \"2020-01-01T15:59:14\", \"2020-01-01T16:25:55\", \"2020-01-01T16:35:18\", \"2020-01-01T16:37:57\"], \"xaxis\": \"x2\", \"y\": [-0.14285714285714285, 0.12499999999999999, 0.1642857142857143, 0.0, 0.0, 0.1732142857142857, -0.08333333333333333, 0.0, 0.03912337662337661, 0.04285714285714285, 0.03125, -0.3499999999999999, 0.0, 0.0, 0.36666666666666664, 0.18293650793650795, 0.4840909090909091, 0.10495129870129871, 1.0, -0.06979166666666668, 0.0, 0.19999999999999998, 0.012499999999999997, 0.3, 0.2, 0.23958333333333334, -0.011111111111111108, -0.2, 0.075, 0.1199284511784512, -0.4291666666666667, 0.09722222222222222, 0.0, 0.08367346938775509, -0.07500000000000001, 0.0, 0.3625, 0.030555555555555555, 0.7, 0.41818181818181815, -0.04, 0.0, 0.59375, 0.21428571428571427, 1.0, 0.2545454545454545, -0.016326530612244903, 0.4, 0.020000000000000018, 0.5, 0.3215277777777778, 0.03333333333333333, 0.0, 0.5, 0.19090909090909094, -0.05833333333333335, 0.0, -0.024999999999999994, 0.2, -0.6666666666666666, -0.65, 0.04545454545454545, 0.0, 0.0, 0.0, 0.5555555555555555, 0.0, 0.0, 0.022222222222222216, 0.39298701298701294, -0.01957813428401664, 0.2909090909090909, 1.0, 0.35, -0.07045454545454546, 0.26666666666666666, 0.4166666666666667, -0.075, 0.027499999999999997, 0.012351190476190488, 0.0, 0.02619047619047619, -0.125, 0.05666666666666664, -0.15, 0.0, 0.38, 0.19545454545454544, 0.0, 0.25, -0.2916666666666667, -0.2722222222222222, 0.18333333333333332, 0.1166666666666667, 0.09545454545454546, -0.10351239669421487, 0.19, 0.009407096171802052, 0.3, 0.033333333333333326, 0.0, 0.3, -0.022380952380952397, 0.040624999999999994, 0.28954545454545455, 0.28939393939393937, -0.125, 0.11253656253656251, -0.025139146567718016, 0.2672727272727272, 0.3466666666666666, -0.4125, -0.011904761904761904, 0.08472222222222221, 0.05842464826839827, -0.16666666666666666, 0.010049019607843143, 0.061136363636363635, -0.10000000000000003, -0.1, 0.0, 0.22857142857142856, 0.0, 0.75, 0.3125, 0.11249999999999999, 0.07050092764378478, 0.28787878787878785, -0.16666666666666666, 0.18293650793650792, 0.15204545454545454, 0.2278409090909091, 0.0, 0.1, 0.0, -0.025000000000000022, -0.55, 0.0, 0.3333333333333333, 0.3625, 0.22500000000000003, 0.16818181818181818], \"yaxis\": \"y2\"}, {\"alignmentgroup\": \"True\", \"bingroup\": \"x\", \"hoverlabel\": {\"namelength\": 0}, \"hovertemplate\": \"subreddit=destiny2<br>Date Posted=%{x}<br>count=%{y}\", \"legendgroup\": \"subreddit=destiny2\", \"marker\": {\"color\": \"green\"}, \"name\": \"subreddit=destiny2\", \"offsetgroup\": \"subreddit=destiny2\", \"opacity\": 0.5, \"showlegend\": false, \"type\": \"histogram\", \"x\": [\"2019-12-31T16:54:13\", \"2019-12-31T16:57:15\", \"2019-12-31T17:04:24\", \"2019-12-31T17:15:15\", \"2019-12-31T17:20:42\", \"2019-12-31T17:23:12\", \"2019-12-31T17:23:54\", \"2019-12-31T17:26:41\", \"2019-12-31T17:33:35\", \"2019-12-31T17:35:06\", \"2019-12-31T17:38:24\", \"2019-12-31T17:50:46\", \"2019-12-31T18:00:36\", \"2019-12-31T18:15:31\", \"2019-12-31T18:20:24\", \"2019-12-31T18:21:37\", \"2019-12-31T18:24:02\", \"2019-12-31T18:37:29\", \"2019-12-31T18:39:27\", \"2019-12-31T18:39:59\", \"2019-12-31T19:11:46\", \"2019-12-31T19:19:12\", \"2019-12-31T19:24:16\", \"2019-12-31T19:28:31\", \"2019-12-31T19:35:03\", \"2019-12-31T20:26:05\", \"2019-12-31T20:33:36\", \"2019-12-31T20:38:08\", \"2019-12-31T20:40:37\", \"2019-12-31T20:42:25\", \"2019-12-31T20:48:42\", \"2019-12-31T20:51:16\", \"2019-12-31T20:57:01\", \"2019-12-31T20:59:51\", \"2019-12-31T21:04:11\", \"2019-12-31T21:05:23\", \"2019-12-31T21:25:24\", \"2019-12-31T21:28:51\", \"2019-12-31T21:32:32\", \"2019-12-31T21:34:11\", \"2019-12-31T21:47:58\", \"2019-12-31T22:12:10\", \"2019-12-31T22:13:08\", \"2019-12-31T22:16:33\", \"2019-12-31T22:19:27\", \"2019-12-31T22:49:53\", \"2019-12-31T22:56:27\", \"2019-12-31T22:57:49\", \"2019-12-31T22:59:47\", \"2019-12-31T23:02:36\", \"2019-12-31T23:18:59\", \"2019-12-31T23:21:01\", \"2019-12-31T23:24:04\", \"2019-12-31T23:32:13\", \"2019-12-31T23:32:56\", \"2019-12-31T23:53:38\", \"2020-01-01T00:00:17\", \"2020-01-01T00:01:14\", \"2020-01-01T00:01:35\", \"2020-01-01T00:04:40\", \"2020-01-01T00:17:04\", \"2020-01-01T00:24:08\", \"2020-01-01T01:09:29\", \"2020-01-01T01:13:19\", \"2020-01-01T01:16:12\", \"2020-01-01T01:19:18\", \"2020-01-01T01:19:38\", \"2020-01-01T01:26:47\", \"2020-01-01T01:32:57\", \"2020-01-01T01:34:41\", \"2020-01-01T02:06:25\", \"2020-01-01T02:11:13\", \"2020-01-01T02:16:43\", \"2020-01-01T02:25:17\", \"2020-01-01T02:28:20\", \"2020-01-01T02:29:52\", \"2020-01-01T02:30:13\", \"2020-01-01T02:31:33\", \"2020-01-01T03:12:18\", \"2020-01-01T03:15:43\", \"2020-01-01T03:17:49\", \"2020-01-01T03:23:29\", \"2020-01-01T03:35:59\", \"2020-01-01T03:42:20\", \"2020-01-01T03:47:36\", \"2020-01-01T03:48:00\", \"2020-01-01T04:00:48\", \"2020-01-01T04:04:22\", \"2020-01-01T04:22:17\", \"2020-01-01T04:24:36\", \"2020-01-01T04:29:03\", \"2020-01-01T04:57:39\", \"2020-01-01T05:25:50\", \"2020-01-01T05:32:26\", \"2020-01-01T05:33:50\", \"2020-01-01T05:41:24\", \"2020-01-01T06:37:56\", \"2020-01-01T06:47:00\", \"2020-01-01T06:49:08\", \"2020-01-01T06:51:09\", \"2020-01-01T06:51:58\", \"2020-01-01T06:53:58\", \"2020-01-01T07:03:11\", \"2020-01-01T07:03:52\", \"2020-01-01T07:04:22\", \"2020-01-01T07:14:48\", \"2020-01-01T07:22:27\", \"2020-01-01T07:25:53\", \"2020-01-01T07:45:26\", \"2020-01-01T08:00:09\", \"2020-01-01T08:02:27\", \"2020-01-01T08:36:46\", \"2020-01-01T09:13:21\", \"2020-01-01T10:03:31\", \"2020-01-01T10:04:46\", \"2020-01-01T10:12:19\", \"2020-01-01T10:23:36\", \"2020-01-01T10:46:39\", \"2020-01-01T10:55:41\", \"2020-01-01T11:24:16\", \"2020-01-01T11:27:30\", \"2020-01-01T11:32:30\", \"2020-01-01T11:37:41\", \"2020-01-01T12:04:44\", \"2020-01-01T12:05:33\", \"2020-01-01T12:10:18\", \"2020-01-01T12:22:08\", \"2020-01-01T12:40:46\", \"2020-01-01T12:57:00\", \"2020-01-01T13:24:11\", \"2020-01-01T13:29:23\", \"2020-01-01T14:14:50\", \"2020-01-01T14:19:56\", \"2020-01-01T14:21:19\", \"2020-01-01T14:29:28\", \"2020-01-01T14:42:37\", \"2020-01-01T15:44:25\", \"2020-01-01T15:52:22\", \"2020-01-01T15:59:14\", \"2020-01-01T16:25:55\", \"2020-01-01T16:35:18\", \"2020-01-01T16:37:57\"], \"xaxis\": \"x4\", \"yaxis\": \"y4\"}],\n",
       "                        {\"annotations\": [{\"font\": {}, \"showarrow\": false, \"text\": \"subreddit=destinythegame\", \"x\": 0.245, \"xanchor\": \"center\", \"xref\": \"paper\", \"y\": 1.0, \"yanchor\": \"bottom\", \"yref\": \"paper\"}, {\"font\": {}, \"showarrow\": false, \"text\": \"subreddit=destiny2\", \"x\": 0.755, \"xanchor\": \"center\", \"xref\": \"paper\", \"y\": 1.0, \"yanchor\": \"bottom\", \"yref\": \"paper\"}], \"barmode\": \"overlay\", \"legend\": {\"tracegroupgap\": 0}, \"template\": {\"data\": {\"bar\": [{\"error_x\": {\"color\": \"#2a3f5f\"}, \"error_y\": {\"color\": \"#2a3f5f\"}, \"marker\": {\"line\": {\"color\": \"#E5ECF6\", \"width\": 0.5}}, \"type\": \"bar\"}], \"barpolar\": [{\"marker\": {\"line\": {\"color\": \"#E5ECF6\", \"width\": 0.5}}, \"type\": \"barpolar\"}], \"carpet\": [{\"aaxis\": {\"endlinecolor\": \"#2a3f5f\", \"gridcolor\": \"white\", \"linecolor\": \"white\", \"minorgridcolor\": \"white\", \"startlinecolor\": \"#2a3f5f\"}, \"baxis\": {\"endlinecolor\": \"#2a3f5f\", \"gridcolor\": \"white\", \"linecolor\": \"white\", \"minorgridcolor\": \"white\", \"startlinecolor\": \"#2a3f5f\"}, \"type\": \"carpet\"}], \"choropleth\": [{\"colorbar\": {\"outlinewidth\": 0, \"ticks\": \"\"}, \"type\": \"choropleth\"}], \"contour\": [{\"colorbar\": {\"outlinewidth\": 0, \"ticks\": \"\"}, \"colorscale\": [[0.0, \"#0d0887\"], [0.1111111111111111, \"#46039f\"], [0.2222222222222222, \"#7201a8\"], [0.3333333333333333, \"#9c179e\"], [0.4444444444444444, \"#bd3786\"], [0.5555555555555556, \"#d8576b\"], [0.6666666666666666, \"#ed7953\"], [0.7777777777777778, \"#fb9f3a\"], [0.8888888888888888, \"#fdca26\"], [1.0, \"#f0f921\"]], \"type\": \"contour\"}], \"contourcarpet\": [{\"colorbar\": {\"outlinewidth\": 0, \"ticks\": \"\"}, \"type\": \"contourcarpet\"}], \"heatmap\": [{\"colorbar\": {\"outlinewidth\": 0, \"ticks\": \"\"}, \"colorscale\": [[0.0, \"#0d0887\"], [0.1111111111111111, \"#46039f\"], [0.2222222222222222, \"#7201a8\"], [0.3333333333333333, \"#9c179e\"], [0.4444444444444444, \"#bd3786\"], [0.5555555555555556, \"#d8576b\"], [0.6666666666666666, \"#ed7953\"], [0.7777777777777778, \"#fb9f3a\"], [0.8888888888888888, \"#fdca26\"], [1.0, \"#f0f921\"]], \"type\": \"heatmap\"}], \"heatmapgl\": [{\"colorbar\": {\"outlinewidth\": 0, \"ticks\": \"\"}, \"colorscale\": [[0.0, \"#0d0887\"], [0.1111111111111111, \"#46039f\"], [0.2222222222222222, \"#7201a8\"], [0.3333333333333333, \"#9c179e\"], [0.4444444444444444, \"#bd3786\"], [0.5555555555555556, \"#d8576b\"], [0.6666666666666666, \"#ed7953\"], [0.7777777777777778, \"#fb9f3a\"], [0.8888888888888888, \"#fdca26\"], [1.0, \"#f0f921\"]], \"type\": \"heatmapgl\"}], \"histogram\": [{\"marker\": {\"colorbar\": {\"outlinewidth\": 0, \"ticks\": \"\"}}, \"type\": \"histogram\"}], \"histogram2d\": [{\"colorbar\": {\"outlinewidth\": 0, \"ticks\": \"\"}, \"colorscale\": [[0.0, \"#0d0887\"], [0.1111111111111111, \"#46039f\"], [0.2222222222222222, \"#7201a8\"], [0.3333333333333333, \"#9c179e\"], [0.4444444444444444, \"#bd3786\"], [0.5555555555555556, \"#d8576b\"], [0.6666666666666666, \"#ed7953\"], [0.7777777777777778, \"#fb9f3a\"], [0.8888888888888888, \"#fdca26\"], [1.0, \"#f0f921\"]], \"type\": \"histogram2d\"}], \"histogram2dcontour\": [{\"colorbar\": {\"outlinewidth\": 0, \"ticks\": \"\"}, \"colorscale\": [[0.0, \"#0d0887\"], [0.1111111111111111, \"#46039f\"], [0.2222222222222222, \"#7201a8\"], [0.3333333333333333, \"#9c179e\"], [0.4444444444444444, \"#bd3786\"], [0.5555555555555556, \"#d8576b\"], [0.6666666666666666, \"#ed7953\"], [0.7777777777777778, \"#fb9f3a\"], [0.8888888888888888, \"#fdca26\"], [1.0, \"#f0f921\"]], \"type\": \"histogram2dcontour\"}], \"mesh3d\": [{\"colorbar\": {\"outlinewidth\": 0, \"ticks\": \"\"}, \"type\": \"mesh3d\"}], \"parcoords\": [{\"line\": {\"colorbar\": {\"outlinewidth\": 0, \"ticks\": \"\"}}, \"type\": \"parcoords\"}], \"pie\": [{\"automargin\": true, \"type\": \"pie\"}], \"scatter\": [{\"marker\": {\"colorbar\": {\"outlinewidth\": 0, \"ticks\": \"\"}}, \"type\": \"scatter\"}], \"scatter3d\": [{\"line\": {\"colorbar\": {\"outlinewidth\": 0, \"ticks\": \"\"}}, \"marker\": {\"colorbar\": {\"outlinewidth\": 0, \"ticks\": \"\"}}, \"type\": \"scatter3d\"}], \"scattercarpet\": [{\"marker\": {\"colorbar\": {\"outlinewidth\": 0, \"ticks\": \"\"}}, \"type\": \"scattercarpet\"}], \"scattergeo\": [{\"marker\": {\"colorbar\": {\"outlinewidth\": 0, \"ticks\": \"\"}}, \"type\": \"scattergeo\"}], \"scattergl\": [{\"marker\": {\"colorbar\": {\"outlinewidth\": 0, \"ticks\": \"\"}}, \"type\": \"scattergl\"}], \"scattermapbox\": [{\"marker\": {\"colorbar\": {\"outlinewidth\": 0, \"ticks\": \"\"}}, \"type\": \"scattermapbox\"}], \"scatterpolar\": [{\"marker\": {\"colorbar\": {\"outlinewidth\": 0, \"ticks\": \"\"}}, \"type\": \"scatterpolar\"}], \"scatterpolargl\": [{\"marker\": {\"colorbar\": {\"outlinewidth\": 0, \"ticks\": \"\"}}, \"type\": \"scatterpolargl\"}], \"scatterternary\": [{\"marker\": {\"colorbar\": {\"outlinewidth\": 0, \"ticks\": \"\"}}, \"type\": \"scatterternary\"}], \"surface\": [{\"colorbar\": {\"outlinewidth\": 0, \"ticks\": \"\"}, \"colorscale\": [[0.0, \"#0d0887\"], [0.1111111111111111, \"#46039f\"], [0.2222222222222222, \"#7201a8\"], [0.3333333333333333, \"#9c179e\"], [0.4444444444444444, \"#bd3786\"], [0.5555555555555556, \"#d8576b\"], [0.6666666666666666, \"#ed7953\"], [0.7777777777777778, \"#fb9f3a\"], [0.8888888888888888, \"#fdca26\"], [1.0, \"#f0f921\"]], \"type\": \"surface\"}], \"table\": [{\"cells\": {\"fill\": {\"color\": \"#EBF0F8\"}, \"line\": {\"color\": \"white\"}}, \"header\": {\"fill\": {\"color\": \"#C8D4E3\"}, \"line\": {\"color\": \"white\"}}, \"type\": \"table\"}]}, \"layout\": {\"annotationdefaults\": {\"arrowcolor\": \"#2a3f5f\", \"arrowhead\": 0, \"arrowwidth\": 1}, \"coloraxis\": {\"colorbar\": {\"outlinewidth\": 0, \"ticks\": \"\"}}, \"colorscale\": {\"diverging\": [[0, \"#8e0152\"], [0.1, \"#c51b7d\"], [0.2, \"#de77ae\"], [0.3, \"#f1b6da\"], [0.4, \"#fde0ef\"], [0.5, \"#f7f7f7\"], [0.6, \"#e6f5d0\"], [0.7, \"#b8e186\"], [0.8, \"#7fbc41\"], [0.9, \"#4d9221\"], [1, \"#276419\"]], \"sequential\": [[0.0, \"#0d0887\"], [0.1111111111111111, \"#46039f\"], [0.2222222222222222, \"#7201a8\"], [0.3333333333333333, \"#9c179e\"], [0.4444444444444444, \"#bd3786\"], [0.5555555555555556, \"#d8576b\"], [0.6666666666666666, \"#ed7953\"], [0.7777777777777778, \"#fb9f3a\"], [0.8888888888888888, \"#fdca26\"], [1.0, \"#f0f921\"]], \"sequentialminus\": [[0.0, \"#0d0887\"], [0.1111111111111111, \"#46039f\"], [0.2222222222222222, \"#7201a8\"], [0.3333333333333333, \"#9c179e\"], [0.4444444444444444, \"#bd3786\"], [0.5555555555555556, \"#d8576b\"], [0.6666666666666666, \"#ed7953\"], [0.7777777777777778, \"#fb9f3a\"], [0.8888888888888888, \"#fdca26\"], [1.0, \"#f0f921\"]]}, \"colorway\": [\"#636efa\", \"#EF553B\", \"#00cc96\", \"#ab63fa\", \"#FFA15A\", \"#19d3f3\", \"#FF6692\", \"#B6E880\", \"#FF97FF\", \"#FECB52\"], \"font\": {\"color\": \"#2a3f5f\"}, \"geo\": {\"bgcolor\": \"white\", \"lakecolor\": \"white\", \"landcolor\": \"#E5ECF6\", \"showlakes\": true, \"showland\": true, \"subunitcolor\": \"white\"}, \"hoverlabel\": {\"align\": \"left\"}, \"hovermode\": \"closest\", \"mapbox\": {\"style\": \"light\"}, \"paper_bgcolor\": \"white\", \"plot_bgcolor\": \"#E5ECF6\", \"polar\": {\"angularaxis\": {\"gridcolor\": \"white\", \"linecolor\": \"white\", \"ticks\": \"\"}, \"bgcolor\": \"#E5ECF6\", \"radialaxis\": {\"gridcolor\": \"white\", \"linecolor\": \"white\", \"ticks\": \"\"}}, \"scene\": {\"xaxis\": {\"backgroundcolor\": \"#E5ECF6\", \"gridcolor\": \"white\", \"gridwidth\": 2, \"linecolor\": \"white\", \"showbackground\": true, \"ticks\": \"\", \"zerolinecolor\": \"white\"}, \"yaxis\": {\"backgroundcolor\": \"#E5ECF6\", \"gridcolor\": \"white\", \"gridwidth\": 2, \"linecolor\": \"white\", \"showbackground\": true, \"ticks\": \"\", \"zerolinecolor\": \"white\"}, \"zaxis\": {\"backgroundcolor\": \"#E5ECF6\", \"gridcolor\": \"white\", \"gridwidth\": 2, \"linecolor\": \"white\", \"showbackground\": true, \"ticks\": \"\", \"zerolinecolor\": \"white\"}}, \"shapedefaults\": {\"line\": {\"color\": \"#2a3f5f\"}}, \"ternary\": {\"aaxis\": {\"gridcolor\": \"white\", \"linecolor\": \"white\", \"ticks\": \"\"}, \"baxis\": {\"gridcolor\": \"white\", \"linecolor\": \"white\", \"ticks\": \"\"}, \"bgcolor\": \"#E5ECF6\", \"caxis\": {\"gridcolor\": \"white\", \"linecolor\": \"white\", \"ticks\": \"\"}}, \"title\": {\"x\": 0.05}, \"xaxis\": {\"automargin\": true, \"gridcolor\": \"white\", \"linecolor\": \"white\", \"ticks\": \"\", \"title\": {\"standoff\": 15}, \"zerolinecolor\": \"white\", \"zerolinewidth\": 2}, \"yaxis\": {\"automargin\": true, \"gridcolor\": \"white\", \"linecolor\": \"white\", \"ticks\": \"\", \"title\": {\"standoff\": 15}, \"zerolinecolor\": \"white\", \"zerolinewidth\": 2}}}, \"title\": {\"text\": \"r/destinythegame vs r/destiny2 posts from previous 24 hours\"}, \"xaxis\": {\"anchor\": \"y\", \"domain\": [0.0, 0.49], \"title\": {\"text\": \"Date Posted\"}}, \"xaxis2\": {\"anchor\": \"y2\", \"domain\": [0.51, 1.0], \"matches\": \"x\", \"title\": {\"text\": \"Date Posted\"}}, \"xaxis3\": {\"anchor\": \"y3\", \"domain\": [0.0, 0.49], \"matches\": \"x\", \"showgrid\": true, \"showticklabels\": false}, \"xaxis4\": {\"anchor\": \"y4\", \"domain\": [0.51, 1.0], \"matches\": \"x\", \"showgrid\": true, \"showticklabels\": false}, \"yaxis\": {\"anchor\": \"x\", \"domain\": [0.0, 0.7326], \"title\": {\"text\": \"Post Polarity\"}}, \"yaxis2\": {\"anchor\": \"x2\", \"domain\": [0.0, 0.7326], \"matches\": \"y\", \"showticklabels\": false}, \"yaxis3\": {\"anchor\": \"x3\", \"domain\": [0.7426, 1.0], \"matches\": \"y3\", \"showgrid\": true, \"showline\": false, \"showticklabels\": false, \"ticks\": \"\"}, \"yaxis4\": {\"anchor\": \"x4\", \"domain\": [0.7426, 1.0], \"matches\": \"y3\", \"showgrid\": true, \"showline\": false, \"showticklabels\": false, \"ticks\": \"\"}},\n",
       "                        {\"responsive\": true}\n",
       "                    ).then(function(){\n",
       "                            \n",
       "var gd = document.getElementById('ba7a2168-efd0-447f-b152-1962c9b82d42');\n",
       "var x = new MutationObserver(function (mutations, observer) {{\n",
       "        var display = window.getComputedStyle(gd).display;\n",
       "        if (!display || display === 'none') {{\n",
       "            console.log([gd, 'removed!']);\n",
       "            Plotly.purge(gd);\n",
       "            observer.disconnect();\n",
       "        }}\n",
       "}});\n",
       "\n",
       "// Listen for the removal of the full notebook cells\n",
       "var notebookContainer = gd.closest('#notebook-container');\n",
       "if (notebookContainer) {{\n",
       "    x.observe(notebookContainer, {childList: true});\n",
       "}}\n",
       "\n",
       "// Listen for the clearing of the current output cell\n",
       "var outputEl = gd.closest('.output');\n",
       "if (outputEl) {{\n",
       "    x.observe(outputEl, {childList: true});\n",
       "}}\n",
       "\n",
       "                        })\n",
       "                };\n",
       "                });\n",
       "            </script>\n",
       "        </div>"
      ]
     },
     "metadata": {},
     "output_type": "display_data"
    },
    {
     "data": {
      "application/vnd.plotly.v1+json": {
       "config": {
        "plotlyServerURL": "https://plot.ly"
       },
       "data": [
        {
         "alignmentgroup": "True",
         "hoverlabel": {
          "namelength": 0
         },
         "hovertemplate": "rating=positive polarity<br>subreddit=destinythegame<br>sentiment analysis=%{x}<br>percent of total posts=%{y}",
         "legendgroup": "rating=positive polarity",
         "marker": {
          "color": "#636efa"
         },
         "name": "rating=positive polarity",
         "offsetgroup": "rating=positive polarity",
         "orientation": "v",
         "showlegend": true,
         "textposition": "auto",
         "type": "bar",
         "x": [
          "polarity"
         ],
         "xaxis": "x",
         "y": [
          0.7718832891246684
         ],
         "yaxis": "y"
        },
        {
         "alignmentgroup": "True",
         "hoverlabel": {
          "namelength": 0
         },
         "hovertemplate": "rating=positive polarity<br>subreddit=destiny2<br>sentiment analysis=%{x}<br>percent of total posts=%{y}",
         "legendgroup": "rating=positive polarity",
         "marker": {
          "color": "#636efa"
         },
         "name": "rating=positive polarity",
         "offsetgroup": "rating=positive polarity",
         "orientation": "v",
         "showlegend": false,
         "textposition": "auto",
         "type": "bar",
         "x": [
          "polarity"
         ],
         "xaxis": "x2",
         "y": [
          0.7676056338028169
         ],
         "yaxis": "y2"
        },
        {
         "alignmentgroup": "True",
         "hoverlabel": {
          "namelength": 0
         },
         "hovertemplate": "rating=negative polarity<br>subreddit=destinythegame<br>sentiment analysis=%{x}<br>percent of total posts=%{y}",
         "legendgroup": "rating=negative polarity",
         "marker": {
          "color": "#EF553B"
         },
         "name": "rating=negative polarity",
         "offsetgroup": "rating=negative polarity",
         "orientation": "v",
         "showlegend": true,
         "textposition": "auto",
         "type": "bar",
         "x": [
          "polarity"
         ],
         "xaxis": "x",
         "y": [
          0.22811671087533156
         ],
         "yaxis": "y"
        },
        {
         "alignmentgroup": "True",
         "hoverlabel": {
          "namelength": 0
         },
         "hovertemplate": "rating=negative polarity<br>subreddit=destiny2<br>sentiment analysis=%{x}<br>percent of total posts=%{y}",
         "legendgroup": "rating=negative polarity",
         "marker": {
          "color": "#EF553B"
         },
         "name": "rating=negative polarity",
         "offsetgroup": "rating=negative polarity",
         "orientation": "v",
         "showlegend": false,
         "textposition": "auto",
         "type": "bar",
         "x": [
          "polarity"
         ],
         "xaxis": "x2",
         "y": [
          0.2323943661971831
         ],
         "yaxis": "y2"
        },
        {
         "alignmentgroup": "True",
         "hoverlabel": {
          "namelength": 0
         },
         "hovertemplate": "rating=subjective<br>subreddit=destinythegame<br>sentiment analysis=%{x}<br>percent of total posts=%{y}",
         "legendgroup": "rating=subjective",
         "marker": {
          "color": "#00cc96"
         },
         "name": "rating=subjective",
         "offsetgroup": "rating=subjective",
         "orientation": "v",
         "showlegend": true,
         "textposition": "auto",
         "type": "bar",
         "x": [
          "subjectivity"
         ],
         "xaxis": "x",
         "y": [
          0.4588859416445623
         ],
         "yaxis": "y"
        },
        {
         "alignmentgroup": "True",
         "hoverlabel": {
          "namelength": 0
         },
         "hovertemplate": "rating=subjective<br>subreddit=destiny2<br>sentiment analysis=%{x}<br>percent of total posts=%{y}",
         "legendgroup": "rating=subjective",
         "marker": {
          "color": "#00cc96"
         },
         "name": "rating=subjective",
         "offsetgroup": "rating=subjective",
         "orientation": "v",
         "showlegend": false,
         "textposition": "auto",
         "type": "bar",
         "x": [
          "subjectivity"
         ],
         "xaxis": "x2",
         "y": [
          0.5211267605633803
         ],
         "yaxis": "y2"
        },
        {
         "alignmentgroup": "True",
         "hoverlabel": {
          "namelength": 0
         },
         "hovertemplate": "rating=objective<br>subreddit=destinythegame<br>sentiment analysis=%{x}<br>percent of total posts=%{y}",
         "legendgroup": "rating=objective",
         "marker": {
          "color": "#ab63fa"
         },
         "name": "rating=objective",
         "offsetgroup": "rating=objective",
         "orientation": "v",
         "showlegend": true,
         "textposition": "auto",
         "type": "bar",
         "x": [
          "subjectivity"
         ],
         "xaxis": "x",
         "y": [
          0.5411140583554377
         ],
         "yaxis": "y"
        },
        {
         "alignmentgroup": "True",
         "hoverlabel": {
          "namelength": 0
         },
         "hovertemplate": "rating=objective<br>subreddit=destiny2<br>sentiment analysis=%{x}<br>percent of total posts=%{y}",
         "legendgroup": "rating=objective",
         "marker": {
          "color": "#ab63fa"
         },
         "name": "rating=objective",
         "offsetgroup": "rating=objective",
         "orientation": "v",
         "showlegend": false,
         "textposition": "auto",
         "type": "bar",
         "x": [
          "subjectivity"
         ],
         "xaxis": "x2",
         "y": [
          0.4788732394366197
         ],
         "yaxis": "y2"
        }
       ],
       "layout": {
        "annotations": [
         {
          "font": {},
          "showarrow": false,
          "text": "subreddit=destinythegame",
          "x": 0.245,
          "xanchor": "center",
          "xref": "paper",
          "y": 1,
          "yanchor": "bottom",
          "yref": "paper"
         },
         {
          "font": {},
          "showarrow": false,
          "text": "subreddit=destiny2",
          "x": 0.755,
          "xanchor": "center",
          "xref": "paper",
          "y": 1,
          "yanchor": "bottom",
          "yref": "paper"
         }
        ],
        "barmode": "group",
        "legend": {
         "tracegroupgap": 0
        },
        "template": {
         "data": {
          "bar": [
           {
            "error_x": {
             "color": "#2a3f5f"
            },
            "error_y": {
             "color": "#2a3f5f"
            },
            "marker": {
             "line": {
              "color": "#E5ECF6",
              "width": 0.5
             }
            },
            "type": "bar"
           }
          ],
          "barpolar": [
           {
            "marker": {
             "line": {
              "color": "#E5ECF6",
              "width": 0.5
             }
            },
            "type": "barpolar"
           }
          ],
          "carpet": [
           {
            "aaxis": {
             "endlinecolor": "#2a3f5f",
             "gridcolor": "white",
             "linecolor": "white",
             "minorgridcolor": "white",
             "startlinecolor": "#2a3f5f"
            },
            "baxis": {
             "endlinecolor": "#2a3f5f",
             "gridcolor": "white",
             "linecolor": "white",
             "minorgridcolor": "white",
             "startlinecolor": "#2a3f5f"
            },
            "type": "carpet"
           }
          ],
          "choropleth": [
           {
            "colorbar": {
             "outlinewidth": 0,
             "ticks": ""
            },
            "type": "choropleth"
           }
          ],
          "contour": [
           {
            "colorbar": {
             "outlinewidth": 0,
             "ticks": ""
            },
            "colorscale": [
             [
              0,
              "#0d0887"
             ],
             [
              0.1111111111111111,
              "#46039f"
             ],
             [
              0.2222222222222222,
              "#7201a8"
             ],
             [
              0.3333333333333333,
              "#9c179e"
             ],
             [
              0.4444444444444444,
              "#bd3786"
             ],
             [
              0.5555555555555556,
              "#d8576b"
             ],
             [
              0.6666666666666666,
              "#ed7953"
             ],
             [
              0.7777777777777778,
              "#fb9f3a"
             ],
             [
              0.8888888888888888,
              "#fdca26"
             ],
             [
              1,
              "#f0f921"
             ]
            ],
            "type": "contour"
           }
          ],
          "contourcarpet": [
           {
            "colorbar": {
             "outlinewidth": 0,
             "ticks": ""
            },
            "type": "contourcarpet"
           }
          ],
          "heatmap": [
           {
            "colorbar": {
             "outlinewidth": 0,
             "ticks": ""
            },
            "colorscale": [
             [
              0,
              "#0d0887"
             ],
             [
              0.1111111111111111,
              "#46039f"
             ],
             [
              0.2222222222222222,
              "#7201a8"
             ],
             [
              0.3333333333333333,
              "#9c179e"
             ],
             [
              0.4444444444444444,
              "#bd3786"
             ],
             [
              0.5555555555555556,
              "#d8576b"
             ],
             [
              0.6666666666666666,
              "#ed7953"
             ],
             [
              0.7777777777777778,
              "#fb9f3a"
             ],
             [
              0.8888888888888888,
              "#fdca26"
             ],
             [
              1,
              "#f0f921"
             ]
            ],
            "type": "heatmap"
           }
          ],
          "heatmapgl": [
           {
            "colorbar": {
             "outlinewidth": 0,
             "ticks": ""
            },
            "colorscale": [
             [
              0,
              "#0d0887"
             ],
             [
              0.1111111111111111,
              "#46039f"
             ],
             [
              0.2222222222222222,
              "#7201a8"
             ],
             [
              0.3333333333333333,
              "#9c179e"
             ],
             [
              0.4444444444444444,
              "#bd3786"
             ],
             [
              0.5555555555555556,
              "#d8576b"
             ],
             [
              0.6666666666666666,
              "#ed7953"
             ],
             [
              0.7777777777777778,
              "#fb9f3a"
             ],
             [
              0.8888888888888888,
              "#fdca26"
             ],
             [
              1,
              "#f0f921"
             ]
            ],
            "type": "heatmapgl"
           }
          ],
          "histogram": [
           {
            "marker": {
             "colorbar": {
              "outlinewidth": 0,
              "ticks": ""
             }
            },
            "type": "histogram"
           }
          ],
          "histogram2d": [
           {
            "colorbar": {
             "outlinewidth": 0,
             "ticks": ""
            },
            "colorscale": [
             [
              0,
              "#0d0887"
             ],
             [
              0.1111111111111111,
              "#46039f"
             ],
             [
              0.2222222222222222,
              "#7201a8"
             ],
             [
              0.3333333333333333,
              "#9c179e"
             ],
             [
              0.4444444444444444,
              "#bd3786"
             ],
             [
              0.5555555555555556,
              "#d8576b"
             ],
             [
              0.6666666666666666,
              "#ed7953"
             ],
             [
              0.7777777777777778,
              "#fb9f3a"
             ],
             [
              0.8888888888888888,
              "#fdca26"
             ],
             [
              1,
              "#f0f921"
             ]
            ],
            "type": "histogram2d"
           }
          ],
          "histogram2dcontour": [
           {
            "colorbar": {
             "outlinewidth": 0,
             "ticks": ""
            },
            "colorscale": [
             [
              0,
              "#0d0887"
             ],
             [
              0.1111111111111111,
              "#46039f"
             ],
             [
              0.2222222222222222,
              "#7201a8"
             ],
             [
              0.3333333333333333,
              "#9c179e"
             ],
             [
              0.4444444444444444,
              "#bd3786"
             ],
             [
              0.5555555555555556,
              "#d8576b"
             ],
             [
              0.6666666666666666,
              "#ed7953"
             ],
             [
              0.7777777777777778,
              "#fb9f3a"
             ],
             [
              0.8888888888888888,
              "#fdca26"
             ],
             [
              1,
              "#f0f921"
             ]
            ],
            "type": "histogram2dcontour"
           }
          ],
          "mesh3d": [
           {
            "colorbar": {
             "outlinewidth": 0,
             "ticks": ""
            },
            "type": "mesh3d"
           }
          ],
          "parcoords": [
           {
            "line": {
             "colorbar": {
              "outlinewidth": 0,
              "ticks": ""
             }
            },
            "type": "parcoords"
           }
          ],
          "pie": [
           {
            "automargin": true,
            "type": "pie"
           }
          ],
          "scatter": [
           {
            "marker": {
             "colorbar": {
              "outlinewidth": 0,
              "ticks": ""
             }
            },
            "type": "scatter"
           }
          ],
          "scatter3d": [
           {
            "line": {
             "colorbar": {
              "outlinewidth": 0,
              "ticks": ""
             }
            },
            "marker": {
             "colorbar": {
              "outlinewidth": 0,
              "ticks": ""
             }
            },
            "type": "scatter3d"
           }
          ],
          "scattercarpet": [
           {
            "marker": {
             "colorbar": {
              "outlinewidth": 0,
              "ticks": ""
             }
            },
            "type": "scattercarpet"
           }
          ],
          "scattergeo": [
           {
            "marker": {
             "colorbar": {
              "outlinewidth": 0,
              "ticks": ""
             }
            },
            "type": "scattergeo"
           }
          ],
          "scattergl": [
           {
            "marker": {
             "colorbar": {
              "outlinewidth": 0,
              "ticks": ""
             }
            },
            "type": "scattergl"
           }
          ],
          "scattermapbox": [
           {
            "marker": {
             "colorbar": {
              "outlinewidth": 0,
              "ticks": ""
             }
            },
            "type": "scattermapbox"
           }
          ],
          "scatterpolar": [
           {
            "marker": {
             "colorbar": {
              "outlinewidth": 0,
              "ticks": ""
             }
            },
            "type": "scatterpolar"
           }
          ],
          "scatterpolargl": [
           {
            "marker": {
             "colorbar": {
              "outlinewidth": 0,
              "ticks": ""
             }
            },
            "type": "scatterpolargl"
           }
          ],
          "scatterternary": [
           {
            "marker": {
             "colorbar": {
              "outlinewidth": 0,
              "ticks": ""
             }
            },
            "type": "scatterternary"
           }
          ],
          "surface": [
           {
            "colorbar": {
             "outlinewidth": 0,
             "ticks": ""
            },
            "colorscale": [
             [
              0,
              "#0d0887"
             ],
             [
              0.1111111111111111,
              "#46039f"
             ],
             [
              0.2222222222222222,
              "#7201a8"
             ],
             [
              0.3333333333333333,
              "#9c179e"
             ],
             [
              0.4444444444444444,
              "#bd3786"
             ],
             [
              0.5555555555555556,
              "#d8576b"
             ],
             [
              0.6666666666666666,
              "#ed7953"
             ],
             [
              0.7777777777777778,
              "#fb9f3a"
             ],
             [
              0.8888888888888888,
              "#fdca26"
             ],
             [
              1,
              "#f0f921"
             ]
            ],
            "type": "surface"
           }
          ],
          "table": [
           {
            "cells": {
             "fill": {
              "color": "#EBF0F8"
             },
             "line": {
              "color": "white"
             }
            },
            "header": {
             "fill": {
              "color": "#C8D4E3"
             },
             "line": {
              "color": "white"
             }
            },
            "type": "table"
           }
          ]
         },
         "layout": {
          "annotationdefaults": {
           "arrowcolor": "#2a3f5f",
           "arrowhead": 0,
           "arrowwidth": 1
          },
          "coloraxis": {
           "colorbar": {
            "outlinewidth": 0,
            "ticks": ""
           }
          },
          "colorscale": {
           "diverging": [
            [
             0,
             "#8e0152"
            ],
            [
             0.1,
             "#c51b7d"
            ],
            [
             0.2,
             "#de77ae"
            ],
            [
             0.3,
             "#f1b6da"
            ],
            [
             0.4,
             "#fde0ef"
            ],
            [
             0.5,
             "#f7f7f7"
            ],
            [
             0.6,
             "#e6f5d0"
            ],
            [
             0.7,
             "#b8e186"
            ],
            [
             0.8,
             "#7fbc41"
            ],
            [
             0.9,
             "#4d9221"
            ],
            [
             1,
             "#276419"
            ]
           ],
           "sequential": [
            [
             0,
             "#0d0887"
            ],
            [
             0.1111111111111111,
             "#46039f"
            ],
            [
             0.2222222222222222,
             "#7201a8"
            ],
            [
             0.3333333333333333,
             "#9c179e"
            ],
            [
             0.4444444444444444,
             "#bd3786"
            ],
            [
             0.5555555555555556,
             "#d8576b"
            ],
            [
             0.6666666666666666,
             "#ed7953"
            ],
            [
             0.7777777777777778,
             "#fb9f3a"
            ],
            [
             0.8888888888888888,
             "#fdca26"
            ],
            [
             1,
             "#f0f921"
            ]
           ],
           "sequentialminus": [
            [
             0,
             "#0d0887"
            ],
            [
             0.1111111111111111,
             "#46039f"
            ],
            [
             0.2222222222222222,
             "#7201a8"
            ],
            [
             0.3333333333333333,
             "#9c179e"
            ],
            [
             0.4444444444444444,
             "#bd3786"
            ],
            [
             0.5555555555555556,
             "#d8576b"
            ],
            [
             0.6666666666666666,
             "#ed7953"
            ],
            [
             0.7777777777777778,
             "#fb9f3a"
            ],
            [
             0.8888888888888888,
             "#fdca26"
            ],
            [
             1,
             "#f0f921"
            ]
           ]
          },
          "colorway": [
           "#636efa",
           "#EF553B",
           "#00cc96",
           "#ab63fa",
           "#FFA15A",
           "#19d3f3",
           "#FF6692",
           "#B6E880",
           "#FF97FF",
           "#FECB52"
          ],
          "font": {
           "color": "#2a3f5f"
          },
          "geo": {
           "bgcolor": "white",
           "lakecolor": "white",
           "landcolor": "#E5ECF6",
           "showlakes": true,
           "showland": true,
           "subunitcolor": "white"
          },
          "hoverlabel": {
           "align": "left"
          },
          "hovermode": "closest",
          "mapbox": {
           "style": "light"
          },
          "paper_bgcolor": "white",
          "plot_bgcolor": "#E5ECF6",
          "polar": {
           "angularaxis": {
            "gridcolor": "white",
            "linecolor": "white",
            "ticks": ""
           },
           "bgcolor": "#E5ECF6",
           "radialaxis": {
            "gridcolor": "white",
            "linecolor": "white",
            "ticks": ""
           }
          },
          "scene": {
           "xaxis": {
            "backgroundcolor": "#E5ECF6",
            "gridcolor": "white",
            "gridwidth": 2,
            "linecolor": "white",
            "showbackground": true,
            "ticks": "",
            "zerolinecolor": "white"
           },
           "yaxis": {
            "backgroundcolor": "#E5ECF6",
            "gridcolor": "white",
            "gridwidth": 2,
            "linecolor": "white",
            "showbackground": true,
            "ticks": "",
            "zerolinecolor": "white"
           },
           "zaxis": {
            "backgroundcolor": "#E5ECF6",
            "gridcolor": "white",
            "gridwidth": 2,
            "linecolor": "white",
            "showbackground": true,
            "ticks": "",
            "zerolinecolor": "white"
           }
          },
          "shapedefaults": {
           "line": {
            "color": "#2a3f5f"
           }
          },
          "ternary": {
           "aaxis": {
            "gridcolor": "white",
            "linecolor": "white",
            "ticks": ""
           },
           "baxis": {
            "gridcolor": "white",
            "linecolor": "white",
            "ticks": ""
           },
           "bgcolor": "#E5ECF6",
           "caxis": {
            "gridcolor": "white",
            "linecolor": "white",
            "ticks": ""
           }
          },
          "title": {
           "x": 0.05
          },
          "xaxis": {
           "automargin": true,
           "gridcolor": "white",
           "linecolor": "white",
           "ticks": "",
           "title": {
            "standoff": 15
           },
           "zerolinecolor": "white",
           "zerolinewidth": 2
          },
          "yaxis": {
           "automargin": true,
           "gridcolor": "white",
           "linecolor": "white",
           "ticks": "",
           "title": {
            "standoff": 15
           },
           "zerolinecolor": "white",
           "zerolinewidth": 2
          }
         }
        },
        "title": {
         "text": "Comparison of post sentiment and subjectivity over last 24 hours for r/destinythegame vs r/destiny2"
        },
        "xaxis": {
         "anchor": "y",
         "domain": [
          0,
          0.49
         ],
         "title": {
          "text": "sentiment analysis"
         }
        },
        "xaxis2": {
         "anchor": "y2",
         "domain": [
          0.51,
          1
         ],
         "matches": "x",
         "title": {
          "text": "sentiment analysis"
         }
        },
        "yaxis": {
         "anchor": "x",
         "domain": [
          0,
          1
         ],
         "title": {
          "text": "percent of total posts"
         }
        },
        "yaxis2": {
         "anchor": "x2",
         "domain": [
          0,
          1
         ],
         "matches": "y",
         "showticklabels": false
        }
       }
      },
      "text/html": [
       "<div>\n",
       "        \n",
       "        \n",
       "            <div id=\"482ffc4c-c500-48d1-9d1d-26dae088e8e8\" class=\"plotly-graph-div\" style=\"height:525px; width:100%;\"></div>\n",
       "            <script type=\"text/javascript\">\n",
       "                require([\"plotly\"], function(Plotly) {\n",
       "                    window.PLOTLYENV=window.PLOTLYENV || {};\n",
       "                    \n",
       "                if (document.getElementById(\"482ffc4c-c500-48d1-9d1d-26dae088e8e8\")) {\n",
       "                    Plotly.newPlot(\n",
       "                        '482ffc4c-c500-48d1-9d1d-26dae088e8e8',\n",
       "                        [{\"alignmentgroup\": \"True\", \"hoverlabel\": {\"namelength\": 0}, \"hovertemplate\": \"rating=positive polarity<br>subreddit=destinythegame<br>sentiment analysis=%{x}<br>percent of total posts=%{y}\", \"legendgroup\": \"rating=positive polarity\", \"marker\": {\"color\": \"#636efa\"}, \"name\": \"rating=positive polarity\", \"offsetgroup\": \"rating=positive polarity\", \"orientation\": \"v\", \"showlegend\": true, \"textposition\": \"auto\", \"type\": \"bar\", \"x\": [\"polarity\"], \"xaxis\": \"x\", \"y\": [0.7718832891246684], \"yaxis\": \"y\"}, {\"alignmentgroup\": \"True\", \"hoverlabel\": {\"namelength\": 0}, \"hovertemplate\": \"rating=positive polarity<br>subreddit=destiny2<br>sentiment analysis=%{x}<br>percent of total posts=%{y}\", \"legendgroup\": \"rating=positive polarity\", \"marker\": {\"color\": \"#636efa\"}, \"name\": \"rating=positive polarity\", \"offsetgroup\": \"rating=positive polarity\", \"orientation\": \"v\", \"showlegend\": false, \"textposition\": \"auto\", \"type\": \"bar\", \"x\": [\"polarity\"], \"xaxis\": \"x2\", \"y\": [0.7676056338028169], \"yaxis\": \"y2\"}, {\"alignmentgroup\": \"True\", \"hoverlabel\": {\"namelength\": 0}, \"hovertemplate\": \"rating=negative polarity<br>subreddit=destinythegame<br>sentiment analysis=%{x}<br>percent of total posts=%{y}\", \"legendgroup\": \"rating=negative polarity\", \"marker\": {\"color\": \"#EF553B\"}, \"name\": \"rating=negative polarity\", \"offsetgroup\": \"rating=negative polarity\", \"orientation\": \"v\", \"showlegend\": true, \"textposition\": \"auto\", \"type\": \"bar\", \"x\": [\"polarity\"], \"xaxis\": \"x\", \"y\": [0.22811671087533156], \"yaxis\": \"y\"}, {\"alignmentgroup\": \"True\", \"hoverlabel\": {\"namelength\": 0}, \"hovertemplate\": \"rating=negative polarity<br>subreddit=destiny2<br>sentiment analysis=%{x}<br>percent of total posts=%{y}\", \"legendgroup\": \"rating=negative polarity\", \"marker\": {\"color\": \"#EF553B\"}, \"name\": \"rating=negative polarity\", \"offsetgroup\": \"rating=negative polarity\", \"orientation\": \"v\", \"showlegend\": false, \"textposition\": \"auto\", \"type\": \"bar\", \"x\": [\"polarity\"], \"xaxis\": \"x2\", \"y\": [0.2323943661971831], \"yaxis\": \"y2\"}, {\"alignmentgroup\": \"True\", \"hoverlabel\": {\"namelength\": 0}, \"hovertemplate\": \"rating=subjective<br>subreddit=destinythegame<br>sentiment analysis=%{x}<br>percent of total posts=%{y}\", \"legendgroup\": \"rating=subjective\", \"marker\": {\"color\": \"#00cc96\"}, \"name\": \"rating=subjective\", \"offsetgroup\": \"rating=subjective\", \"orientation\": \"v\", \"showlegend\": true, \"textposition\": \"auto\", \"type\": \"bar\", \"x\": [\"subjectivity\"], \"xaxis\": \"x\", \"y\": [0.4588859416445623], \"yaxis\": \"y\"}, {\"alignmentgroup\": \"True\", \"hoverlabel\": {\"namelength\": 0}, \"hovertemplate\": \"rating=subjective<br>subreddit=destiny2<br>sentiment analysis=%{x}<br>percent of total posts=%{y}\", \"legendgroup\": \"rating=subjective\", \"marker\": {\"color\": \"#00cc96\"}, \"name\": \"rating=subjective\", \"offsetgroup\": \"rating=subjective\", \"orientation\": \"v\", \"showlegend\": false, \"textposition\": \"auto\", \"type\": \"bar\", \"x\": [\"subjectivity\"], \"xaxis\": \"x2\", \"y\": [0.5211267605633803], \"yaxis\": \"y2\"}, {\"alignmentgroup\": \"True\", \"hoverlabel\": {\"namelength\": 0}, \"hovertemplate\": \"rating=objective<br>subreddit=destinythegame<br>sentiment analysis=%{x}<br>percent of total posts=%{y}\", \"legendgroup\": \"rating=objective\", \"marker\": {\"color\": \"#ab63fa\"}, \"name\": \"rating=objective\", \"offsetgroup\": \"rating=objective\", \"orientation\": \"v\", \"showlegend\": true, \"textposition\": \"auto\", \"type\": \"bar\", \"x\": [\"subjectivity\"], \"xaxis\": \"x\", \"y\": [0.5411140583554377], \"yaxis\": \"y\"}, {\"alignmentgroup\": \"True\", \"hoverlabel\": {\"namelength\": 0}, \"hovertemplate\": \"rating=objective<br>subreddit=destiny2<br>sentiment analysis=%{x}<br>percent of total posts=%{y}\", \"legendgroup\": \"rating=objective\", \"marker\": {\"color\": \"#ab63fa\"}, \"name\": \"rating=objective\", \"offsetgroup\": \"rating=objective\", \"orientation\": \"v\", \"showlegend\": false, \"textposition\": \"auto\", \"type\": \"bar\", \"x\": [\"subjectivity\"], \"xaxis\": \"x2\", \"y\": [0.4788732394366197], \"yaxis\": \"y2\"}],\n",
       "                        {\"annotations\": [{\"font\": {}, \"showarrow\": false, \"text\": \"subreddit=destinythegame\", \"x\": 0.245, \"xanchor\": \"center\", \"xref\": \"paper\", \"y\": 1.0, \"yanchor\": \"bottom\", \"yref\": \"paper\"}, {\"font\": {}, \"showarrow\": false, \"text\": \"subreddit=destiny2\", \"x\": 0.755, \"xanchor\": \"center\", \"xref\": \"paper\", \"y\": 1.0, \"yanchor\": \"bottom\", \"yref\": \"paper\"}], \"barmode\": \"group\", \"legend\": {\"tracegroupgap\": 0}, \"template\": {\"data\": {\"bar\": [{\"error_x\": {\"color\": \"#2a3f5f\"}, \"error_y\": {\"color\": \"#2a3f5f\"}, \"marker\": {\"line\": {\"color\": \"#E5ECF6\", \"width\": 0.5}}, \"type\": \"bar\"}], \"barpolar\": [{\"marker\": {\"line\": {\"color\": \"#E5ECF6\", \"width\": 0.5}}, \"type\": \"barpolar\"}], \"carpet\": [{\"aaxis\": {\"endlinecolor\": \"#2a3f5f\", \"gridcolor\": \"white\", \"linecolor\": \"white\", \"minorgridcolor\": \"white\", \"startlinecolor\": \"#2a3f5f\"}, \"baxis\": {\"endlinecolor\": \"#2a3f5f\", \"gridcolor\": \"white\", \"linecolor\": \"white\", \"minorgridcolor\": \"white\", \"startlinecolor\": \"#2a3f5f\"}, \"type\": \"carpet\"}], \"choropleth\": [{\"colorbar\": {\"outlinewidth\": 0, \"ticks\": \"\"}, \"type\": \"choropleth\"}], \"contour\": [{\"colorbar\": {\"outlinewidth\": 0, \"ticks\": \"\"}, \"colorscale\": [[0.0, \"#0d0887\"], [0.1111111111111111, \"#46039f\"], [0.2222222222222222, \"#7201a8\"], [0.3333333333333333, \"#9c179e\"], [0.4444444444444444, \"#bd3786\"], [0.5555555555555556, \"#d8576b\"], [0.6666666666666666, \"#ed7953\"], [0.7777777777777778, \"#fb9f3a\"], [0.8888888888888888, \"#fdca26\"], [1.0, \"#f0f921\"]], \"type\": \"contour\"}], \"contourcarpet\": [{\"colorbar\": {\"outlinewidth\": 0, \"ticks\": \"\"}, \"type\": \"contourcarpet\"}], \"heatmap\": [{\"colorbar\": {\"outlinewidth\": 0, \"ticks\": \"\"}, \"colorscale\": [[0.0, \"#0d0887\"], [0.1111111111111111, \"#46039f\"], [0.2222222222222222, \"#7201a8\"], [0.3333333333333333, \"#9c179e\"], [0.4444444444444444, \"#bd3786\"], [0.5555555555555556, \"#d8576b\"], [0.6666666666666666, \"#ed7953\"], [0.7777777777777778, \"#fb9f3a\"], [0.8888888888888888, \"#fdca26\"], [1.0, \"#f0f921\"]], \"type\": \"heatmap\"}], \"heatmapgl\": [{\"colorbar\": {\"outlinewidth\": 0, \"ticks\": \"\"}, \"colorscale\": [[0.0, \"#0d0887\"], [0.1111111111111111, \"#46039f\"], [0.2222222222222222, \"#7201a8\"], [0.3333333333333333, \"#9c179e\"], [0.4444444444444444, \"#bd3786\"], [0.5555555555555556, \"#d8576b\"], [0.6666666666666666, \"#ed7953\"], [0.7777777777777778, \"#fb9f3a\"], [0.8888888888888888, \"#fdca26\"], [1.0, \"#f0f921\"]], \"type\": \"heatmapgl\"}], \"histogram\": [{\"marker\": {\"colorbar\": {\"outlinewidth\": 0, \"ticks\": \"\"}}, \"type\": \"histogram\"}], \"histogram2d\": [{\"colorbar\": {\"outlinewidth\": 0, \"ticks\": \"\"}, \"colorscale\": [[0.0, \"#0d0887\"], [0.1111111111111111, \"#46039f\"], [0.2222222222222222, \"#7201a8\"], [0.3333333333333333, \"#9c179e\"], [0.4444444444444444, \"#bd3786\"], [0.5555555555555556, \"#d8576b\"], [0.6666666666666666, \"#ed7953\"], [0.7777777777777778, \"#fb9f3a\"], [0.8888888888888888, \"#fdca26\"], [1.0, \"#f0f921\"]], \"type\": \"histogram2d\"}], \"histogram2dcontour\": [{\"colorbar\": {\"outlinewidth\": 0, \"ticks\": \"\"}, \"colorscale\": [[0.0, \"#0d0887\"], [0.1111111111111111, \"#46039f\"], [0.2222222222222222, \"#7201a8\"], [0.3333333333333333, \"#9c179e\"], [0.4444444444444444, \"#bd3786\"], [0.5555555555555556, \"#d8576b\"], [0.6666666666666666, \"#ed7953\"], [0.7777777777777778, \"#fb9f3a\"], [0.8888888888888888, \"#fdca26\"], [1.0, \"#f0f921\"]], \"type\": \"histogram2dcontour\"}], \"mesh3d\": [{\"colorbar\": {\"outlinewidth\": 0, \"ticks\": \"\"}, \"type\": \"mesh3d\"}], \"parcoords\": [{\"line\": {\"colorbar\": {\"outlinewidth\": 0, \"ticks\": \"\"}}, \"type\": \"parcoords\"}], \"pie\": [{\"automargin\": true, \"type\": \"pie\"}], \"scatter\": [{\"marker\": {\"colorbar\": {\"outlinewidth\": 0, \"ticks\": \"\"}}, \"type\": \"scatter\"}], \"scatter3d\": [{\"line\": {\"colorbar\": {\"outlinewidth\": 0, \"ticks\": \"\"}}, \"marker\": {\"colorbar\": {\"outlinewidth\": 0, \"ticks\": \"\"}}, \"type\": \"scatter3d\"}], \"scattercarpet\": [{\"marker\": {\"colorbar\": {\"outlinewidth\": 0, \"ticks\": \"\"}}, \"type\": \"scattercarpet\"}], \"scattergeo\": [{\"marker\": {\"colorbar\": {\"outlinewidth\": 0, \"ticks\": \"\"}}, \"type\": \"scattergeo\"}], \"scattergl\": [{\"marker\": {\"colorbar\": {\"outlinewidth\": 0, \"ticks\": \"\"}}, \"type\": \"scattergl\"}], \"scattermapbox\": [{\"marker\": {\"colorbar\": {\"outlinewidth\": 0, \"ticks\": \"\"}}, \"type\": \"scattermapbox\"}], \"scatterpolar\": [{\"marker\": {\"colorbar\": {\"outlinewidth\": 0, \"ticks\": \"\"}}, \"type\": \"scatterpolar\"}], \"scatterpolargl\": [{\"marker\": {\"colorbar\": {\"outlinewidth\": 0, \"ticks\": \"\"}}, \"type\": \"scatterpolargl\"}], \"scatterternary\": [{\"marker\": {\"colorbar\": {\"outlinewidth\": 0, \"ticks\": \"\"}}, \"type\": \"scatterternary\"}], \"surface\": [{\"colorbar\": {\"outlinewidth\": 0, \"ticks\": \"\"}, \"colorscale\": [[0.0, \"#0d0887\"], [0.1111111111111111, \"#46039f\"], [0.2222222222222222, \"#7201a8\"], [0.3333333333333333, \"#9c179e\"], [0.4444444444444444, \"#bd3786\"], [0.5555555555555556, \"#d8576b\"], [0.6666666666666666, \"#ed7953\"], [0.7777777777777778, \"#fb9f3a\"], [0.8888888888888888, \"#fdca26\"], [1.0, \"#f0f921\"]], \"type\": \"surface\"}], \"table\": [{\"cells\": {\"fill\": {\"color\": \"#EBF0F8\"}, \"line\": {\"color\": \"white\"}}, \"header\": {\"fill\": {\"color\": \"#C8D4E3\"}, \"line\": {\"color\": \"white\"}}, \"type\": \"table\"}]}, \"layout\": {\"annotationdefaults\": {\"arrowcolor\": \"#2a3f5f\", \"arrowhead\": 0, \"arrowwidth\": 1}, \"coloraxis\": {\"colorbar\": {\"outlinewidth\": 0, \"ticks\": \"\"}}, \"colorscale\": {\"diverging\": [[0, \"#8e0152\"], [0.1, \"#c51b7d\"], [0.2, \"#de77ae\"], [0.3, \"#f1b6da\"], [0.4, \"#fde0ef\"], [0.5, \"#f7f7f7\"], [0.6, \"#e6f5d0\"], [0.7, \"#b8e186\"], [0.8, \"#7fbc41\"], [0.9, \"#4d9221\"], [1, \"#276419\"]], \"sequential\": [[0.0, \"#0d0887\"], [0.1111111111111111, \"#46039f\"], [0.2222222222222222, \"#7201a8\"], [0.3333333333333333, \"#9c179e\"], [0.4444444444444444, \"#bd3786\"], [0.5555555555555556, \"#d8576b\"], [0.6666666666666666, \"#ed7953\"], [0.7777777777777778, \"#fb9f3a\"], [0.8888888888888888, \"#fdca26\"], [1.0, \"#f0f921\"]], \"sequentialminus\": [[0.0, \"#0d0887\"], [0.1111111111111111, \"#46039f\"], [0.2222222222222222, \"#7201a8\"], [0.3333333333333333, \"#9c179e\"], [0.4444444444444444, \"#bd3786\"], [0.5555555555555556, \"#d8576b\"], [0.6666666666666666, \"#ed7953\"], [0.7777777777777778, \"#fb9f3a\"], [0.8888888888888888, \"#fdca26\"], [1.0, \"#f0f921\"]]}, \"colorway\": [\"#636efa\", \"#EF553B\", \"#00cc96\", \"#ab63fa\", \"#FFA15A\", \"#19d3f3\", \"#FF6692\", \"#B6E880\", \"#FF97FF\", \"#FECB52\"], \"font\": {\"color\": \"#2a3f5f\"}, \"geo\": {\"bgcolor\": \"white\", \"lakecolor\": \"white\", \"landcolor\": \"#E5ECF6\", \"showlakes\": true, \"showland\": true, \"subunitcolor\": \"white\"}, \"hoverlabel\": {\"align\": \"left\"}, \"hovermode\": \"closest\", \"mapbox\": {\"style\": \"light\"}, \"paper_bgcolor\": \"white\", \"plot_bgcolor\": \"#E5ECF6\", \"polar\": {\"angularaxis\": {\"gridcolor\": \"white\", \"linecolor\": \"white\", \"ticks\": \"\"}, \"bgcolor\": \"#E5ECF6\", \"radialaxis\": {\"gridcolor\": \"white\", \"linecolor\": \"white\", \"ticks\": \"\"}}, \"scene\": {\"xaxis\": {\"backgroundcolor\": \"#E5ECF6\", \"gridcolor\": \"white\", \"gridwidth\": 2, \"linecolor\": \"white\", \"showbackground\": true, \"ticks\": \"\", \"zerolinecolor\": \"white\"}, \"yaxis\": {\"backgroundcolor\": \"#E5ECF6\", \"gridcolor\": \"white\", \"gridwidth\": 2, \"linecolor\": \"white\", \"showbackground\": true, \"ticks\": \"\", \"zerolinecolor\": \"white\"}, \"zaxis\": {\"backgroundcolor\": \"#E5ECF6\", \"gridcolor\": \"white\", \"gridwidth\": 2, \"linecolor\": \"white\", \"showbackground\": true, \"ticks\": \"\", \"zerolinecolor\": \"white\"}}, \"shapedefaults\": {\"line\": {\"color\": \"#2a3f5f\"}}, \"ternary\": {\"aaxis\": {\"gridcolor\": \"white\", \"linecolor\": \"white\", \"ticks\": \"\"}, \"baxis\": {\"gridcolor\": \"white\", \"linecolor\": \"white\", \"ticks\": \"\"}, \"bgcolor\": \"#E5ECF6\", \"caxis\": {\"gridcolor\": \"white\", \"linecolor\": \"white\", \"ticks\": \"\"}}, \"title\": {\"x\": 0.05}, \"xaxis\": {\"automargin\": true, \"gridcolor\": \"white\", \"linecolor\": \"white\", \"ticks\": \"\", \"title\": {\"standoff\": 15}, \"zerolinecolor\": \"white\", \"zerolinewidth\": 2}, \"yaxis\": {\"automargin\": true, \"gridcolor\": \"white\", \"linecolor\": \"white\", \"ticks\": \"\", \"title\": {\"standoff\": 15}, \"zerolinecolor\": \"white\", \"zerolinewidth\": 2}}}, \"title\": {\"text\": \"Comparison of post sentiment and subjectivity over last 24 hours for r/destinythegame vs r/destiny2\"}, \"xaxis\": {\"anchor\": \"y\", \"domain\": [0.0, 0.49], \"title\": {\"text\": \"sentiment analysis\"}}, \"xaxis2\": {\"anchor\": \"y2\", \"domain\": [0.51, 1.0], \"matches\": \"x\", \"title\": {\"text\": \"sentiment analysis\"}}, \"yaxis\": {\"anchor\": \"x\", \"domain\": [0.0, 1.0], \"title\": {\"text\": \"percent of total posts\"}}, \"yaxis2\": {\"anchor\": \"x2\", \"domain\": [0.0, 1.0], \"matches\": \"y\", \"showticklabels\": false}},\n",
       "                        {\"responsive\": true}\n",
       "                    ).then(function(){\n",
       "                            \n",
       "var gd = document.getElementById('482ffc4c-c500-48d1-9d1d-26dae088e8e8');\n",
       "var x = new MutationObserver(function (mutations, observer) {{\n",
       "        var display = window.getComputedStyle(gd).display;\n",
       "        if (!display || display === 'none') {{\n",
       "            console.log([gd, 'removed!']);\n",
       "            Plotly.purge(gd);\n",
       "            observer.disconnect();\n",
       "        }}\n",
       "}});\n",
       "\n",
       "// Listen for the removal of the full notebook cells\n",
       "var notebookContainer = gd.closest('#notebook-container');\n",
       "if (notebookContainer) {{\n",
       "    x.observe(notebookContainer, {childList: true});\n",
       "}}\n",
       "\n",
       "// Listen for the clearing of the current output cell\n",
       "var outputEl = gd.closest('.output');\n",
       "if (outputEl) {{\n",
       "    x.observe(outputEl, {childList: true});\n",
       "}}\n",
       "\n",
       "                        })\n",
       "                };\n",
       "                });\n",
       "            </script>\n",
       "        </div>"
      ]
     },
     "metadata": {},
     "output_type": "display_data"
    }
   ],
   "source": [
    "df = get_submissions_df(\"destinythegame\", after = \"1d\", size = 500)\n",
    "df2 = get_submissions_df(\"destiny2\", after = \"1d\", size = 500)\n",
    "#dfraid = get_submissions_df(\"raidsecrets\", after = \"1d\", size = 500)\n",
    "#dfcrucible = get_submissions_df(\"crucibleplaybook\", after = \"1d\", size = 500)\n",
    "\n",
    "df3 = df.append(df2)\n",
    "\n",
    "fig1 = px.scatter(df, \n",
    "                  x='date',\n",
    "                  y='polarity',\n",
    "                 hover_data=[\"author\", \"id\"],\n",
    "                marginal_x='histogram',\n",
    "               color_discrete_sequence=[\"violet\", \"lightslategrey\"], # colors to use\n",
    "               color=\"sentiment\", # what should the color depend on?\n",
    "               size=\"num_comments\", # the more votes, the bigger the circle\n",
    "               #size_max=10, # not too big\n",
    "               labels={\"polarity\": \"Post Polarity\", \"date\": \"Date Posted\"}, # axis names\n",
    "               title=f\"Sentiment analysis of r/destinythegame posts from previous 24 hours\", # title of figure\n",
    " )\n",
    "\n",
    "fig2 = px.scatter(df2, \n",
    "                  x='date',\n",
    "                  y='polarity',\n",
    "                 hover_data=[\"author\", \"id\"],\n",
    "                marginal_x='histogram',\n",
    "               color_discrete_sequence=[\"violet\", \"lightslategrey\"], # colors to use\n",
    "               color=\"sentiment\", # what should the color depend on?\n",
    "               size=\"num_comments\", # the more votes, the bigger the circle\n",
    "               #size_max=10, # not too big\n",
    "               labels={\"polarity\": \"Post Polarity\", \"date\": \"Date Posted\"}, # axis names\n",
    "               title=f\"Sentiment analysis of r/destiny2 posts from previous 24 hours\", # title of figure\n",
    " )\n",
    "\n",
    "\n",
    "\n",
    "\n",
    "fig3 = px.scatter(df3, \n",
    "                  x='date',\n",
    "                  y='polarity',\n",
    "                 hover_data=['subreddit', \"author\",\"url\", \"id\"],\n",
    "                marginal_x='histogram',\n",
    "               color_discrete_sequence=[\"blue\", \"green\"], # colors to use\n",
    "               color=\"subreddit\", # what should the color depend on?\n",
    "               #size=\"num_comments\", # the more votes, the bigger the circle\n",
    "               #size_max=10, # not too big\n",
    "               labels={\"polarity\": \"Post Polarity\", \"date\": \"Date Posted\"},\n",
    "                  category_orders = {'subreddit': ['DestinyTheGame', 'Destiny2']},\n",
    "                  facet_col = 'subreddit',\n",
    "               title=f\"r/destinythegame vs r/destiny2 posts from previous 24 hours\", # title of figure\n",
    " )\n",
    "\n",
    "\n",
    "# bargraph showing percentage of posts postive and negative, objective and subjective, for dtg and destiny2\n",
    "labels = ['+polarity %', '-polarity %', 'subjective %', 'objective %']\n",
    "dtg0 = [len(df[df.polarity >= 0]) / len(df), len(df[df.polarity < 0])/len(df), len(df[df.subjectivity >= .5])/len(df),\n",
    "      len(df[df.subjectivity < .5])/len(df)]\n",
    "d20 = [len(df2[df2.polarity >= 0]) / len(df2), len(df2[df2.polarity < 0])/len(df2), len(df2[df2.subjectivity >= .5])/len(df2),\n",
    "      len(df2[df2.subjectivity < .5])/len(df2)]\n",
    "dtg = dict(zip(labels, dtg0))\n",
    "d2 = dict(zip(labels,d20))\n",
    "\n",
    "labels2 = ['subreddit', 'rating', 'polarity/subjectvity', 'percent']\n",
    "df4list = [dict(zip(labels2,['destinythegame', 'positive polarity', 'polarity', dtg0[0]])),\n",
    "           dict(zip(labels2,['destinythegame', 'negative polarity', 'polarity', dtg0[1]])),\n",
    "           dict(zip(labels2,['destinythegame', 'subjective', 'subjectivity', dtg0[2]])),\n",
    "           dict(zip(labels2,['destinythegame', 'objective', 'subjectivity', dtg0[3]])),\n",
    "           dict(zip(labels2,['destiny2', 'positive polarity', 'polarity', d20[0]])),\n",
    "           dict(zip(labels2,['destiny2', 'negative polarity', 'polarity', d20[1]])),\n",
    "           dict(zip(labels2,['destiny2', 'subjective', 'subjectivity', d20[2]])),\n",
    "           dict(zip(labels2,['destiny2', 'objective', 'subjectivity', d20[3]]))\n",
    "        ]\n",
    "\n",
    "\n",
    "df4 = pd.DataFrame(df4list)\n",
    "fig4 = px.bar(df4, x='polarity/subjectvity',\n",
    "              y ='percent',\n",
    "              color='rating',\n",
    "              barmode='group',\n",
    "              category_orders = {'subreddit': ['DestinyTheGame', 'Destiny2']},\n",
    "              labels={'percent':'percent of total posts', 'polarity/subjectvity': 'sentiment analysis'},\n",
    "              facet_col = 'subreddit',\n",
    "             title='Comparison of post sentiment and subjectivity over last 24 hours for r/destinythegame vs r/destiny2')\n",
    "\n",
    "fig1.show()\n",
    "fig2.show()\n",
    "fig3.show()\n",
    "fig4.show()"
   ]
  },
  {
   "cell_type": "markdown",
   "metadata": {},
   "source": [
    "## Sentiment Analysis of Posts for Last 30 Days of Selected Subreddit\n",
    "**WARNING: THIS CHART TAKES A LONG TIME (2+ mins) TO LOAD FOR CERTAIN SUBREDDITS BUT ITS WORTH IT**\n",
    "\n",
    "This shows all the posts from the last 30 days of a selected subreddit, and plots the\n",
    "posts by their polarity. The size of the dots represents the number of comments on each post.\n",
    "This way you can see how well postive and negative posts do at attracting commentors.\n",
    "\n",
    "The bar chart looking thing on top is a histogram. It shows total number of positive posts versus total\n",
    "number of negative posts for the section of time represented by the area directly under each bar."
   ]
  },
  {
   "cell_type": "code",
   "execution_count": 179,
   "metadata": {},
   "outputs": [
    {
     "data": {
      "application/vnd.jupyter.widget-view+json": {
       "model_id": "9cb2cdb084ad442791f61f439cbc0ebf",
       "version_major": 2,
       "version_minor": 0
      },
      "text/plain": [
       "interactive(children=(ToggleButtons(button_style='success', description='Load Chart?', options=(('Off', False)…"
      ]
     },
     "metadata": {},
     "output_type": "display_data"
    },
    {
     "data": {
      "application/vnd.jupyter.widget-view+json": {
       "model_id": "4c01296f08f7450bbde8baa4dd2aef98",
       "version_major": 2,
       "version_minor": 0
      },
      "text/plain": [
       "Output(layout=Layout(border='4px solid black'))"
      ]
     },
     "metadata": {},
     "output_type": "display_data"
    }
   ],
   "source": [
    "#####OUTPUT 1#####\n",
    "#functions---------------------\n",
    "def sub_data(subreddit, days=30):\n",
    "    i = 2\n",
    "    j = 1\n",
    "    df = get_submissions_df(subreddit, after = '1d', size = 500)\n",
    "    while i <= days:\n",
    "        temp = get_submissions_df(subreddit, after = ''+str(i)+'d',before=''+str(j)+'d', size = 500)\n",
    "        df = df.append(temp)\n",
    "        i += 1\n",
    "        j += 1\n",
    "    fig = px.scatter(df, \n",
    "                  x='date',\n",
    "                  y='polarity',\n",
    "                 hover_data=[\"author\", \"id\"],\n",
    "                marginal_x='histogram',\n",
    "               color_discrete_sequence=[\"violet\", \"lightslategrey\"], # colors to use\n",
    "               color=\"sentiment\", # what should the color depend on?\n",
    "               size=\"num_comments\", # the more votes, the bigger the circle\n",
    "               #size_max=10, # not too big\n",
    "               labels={\"polarity\": \"Post Polarity\", \"date\": \"Date Posted\"}, # axis names\n",
    "               title=f\"Sentiment analysis of r/\"+subreddit+\" \"+\"last \" + str(days) + \" days\", # title of figure\n",
    "                 )\n",
    "    return fig.show()\n",
    "\n",
    "\n",
    "\n",
    "def display_out1(x=False):\n",
    "    if x:\n",
    "        with out1:\n",
    "            o = widgets.interactive(sub_data, subreddit=subreddit_select_widget, days=widgets.fixed(30))\n",
    "            display(o)\n",
    "    else:\n",
    "        out1.clear_output()\n",
    "        \n",
    "#widgets------------------------\n",
    "subreddit_select_widget = widgets.RadioButtons(\n",
    "    options=['destinythegame', 'destiny2', 'lowsodiumdestiny', 'raidsecrets', 'crucibleplaybook'],\n",
    "    value = 'destinythegame',\n",
    "    description='subreddit',\n",
    "    disabled=False)\n",
    "\n",
    "out1 = widgets.Output(layout={'border': '4px solid black'})\n",
    "\n",
    "wout1 = widgets.ToggleButtons( options=[('Off', False),('On',True)],\n",
    "                          description='Load Chart?',\n",
    "                          disabled=False,\n",
    "                          button_style='success')\n",
    "\n",
    "\n",
    "#display-------------------------\n",
    "widgets.interact(display_out1, x=wout1)\n",
    "display(out1)"
   ]
  },
  {
   "cell_type": "markdown",
   "metadata": {},
   "source": [
    "## Compare last 500 post from selected subreddits\n",
    "Hit \"On\" to load the widget and select a different subreddit from either one of the\n",
    "selection boxs to cause the chart to display."
   ]
  },
  {
   "cell_type": "code",
   "execution_count": 175,
   "metadata": {},
   "outputs": [
    {
     "data": {
      "application/vnd.jupyter.widget-view+json": {
       "model_id": "a927e58fdcc94ff796f7a374aa00b8f8",
       "version_major": 2,
       "version_minor": 0
      },
      "text/plain": [
       "interactive(children=(ToggleButtons(button_style='success', description='Load Chart?', options=(('Off', False)…"
      ]
     },
     "metadata": {},
     "output_type": "display_data"
    },
    {
     "data": {
      "application/vnd.jupyter.widget-view+json": {
       "model_id": "f455579fc1994012bc6a6c1ee901585b",
       "version_major": 2,
       "version_minor": 0
      },
      "text/plain": [
       "Output(layout=Layout(border='4px solid blue'))"
      ]
     },
     "metadata": {},
     "output_type": "display_data"
    }
   ],
   "source": [
    "#####Output 2#####\n",
    "\n",
    "#functions---------------------\n",
    "    \n",
    "def compare_subreddit_last_500_sidebyside(one,two):\n",
    "    count = 10\n",
    "    dflist = []\n",
    "    subs = [one,two]\n",
    "    #get posts for subs\n",
    "    for sub in subs:\n",
    "        i = 1\n",
    "        j = 0\n",
    "        x = 0\n",
    "        df = get_submissions_df(sub, after = '1d', size = 500)\n",
    "        while df is None:\n",
    "            i+=1\n",
    "            j+=1\n",
    "            df = get_submissions_df(sub, after = str(i)+'d', before=str(j)+'d', size = 500)\n",
    "            print('df was none ' + str(sub) +' ' + 'i= '+ str(i) + ' j = '+str(j))\n",
    "        x = len(df)\n",
    "        \n",
    "        if x > count:\n",
    "            df = df[:500]\n",
    "        else:\n",
    "            while x < count and i < count:\n",
    "                if i == count-1:\n",
    "                    print(\"i got to count\")\n",
    "                    return None\n",
    "                i+=1\n",
    "                j+=1\n",
    "                temp = get_submissions_df(sub, after = str(i)+'d', before=str(j)+'d', size = 500)\n",
    "                while temp is None:\n",
    "                    i+=1\n",
    "                    j+=1\n",
    "                    temp = get_submissions_df(sub, after = str(i)+'d', before=str(j)+'d', size = 500)\n",
    "                size = len(temp)\n",
    "                if (x + size) < count:\n",
    "                    df.append(temp)\n",
    "                    x += size\n",
    "                else:\n",
    "                    rest = count - x\n",
    "                    df.append(temp[:rest])\n",
    "                    x = 1000\n",
    "        #get polarity for sub:\n",
    "        measures = [len(df[df.polarity >= 0]) / len(df), len(df[df.polarity < 0])/len(df),\n",
    "                    len(df[df.subjectivity >= .5])/len(df),\n",
    "                    len(df[df.subjectivity < .5])/len(df)]\n",
    "        labels = ['subreddit', 'rating', 'polarity/subjectvity', 'percent']\n",
    "        templist = [dict(zip(labels,[sub, 'positive polarity', 'polarity', measures[0]])),\n",
    "               dict(zip(labels,[sub, 'negative polarity', 'polarity', measures[1]])),\n",
    "               dict(zip(labels,[sub, 'subjective', 'subjectivity', measures[2]])),\n",
    "               dict(zip(labels,[sub, 'objective', 'subjectivity', measures[3]]))]\n",
    "        for thing in templist:\n",
    "            dflist.append(thing)\n",
    "    #convert dataframe\n",
    "    df = pd.DataFrame(dflist)\n",
    "    fig = px.bar(df, x='polarity/subjectvity',\n",
    "              y ='percent',\n",
    "              color='rating',\n",
    "              barmode='group',\n",
    "              category_orders = {'subreddit': ['destinythegame','destiny2', 'lowsodiumdestiny',\n",
    "                                               'raidsecrets', 'crucibleplaybook']},\n",
    "              labels = {'percent':'percent of total posts', 'polarity/subjectvity': 'sentiment analysis'},\n",
    "              facet_col = 'subreddit',\n",
    "             title='Comparison of post sentiment and subjectivity over last 500 posts for various destiny subreddits')\n",
    "    fig.show()\n",
    "    \n",
    "\n",
    "def display_out2(x=False):\n",
    "    if x:\n",
    "        with out2:\n",
    "            o = widgets.interactive(compare_subreddit_last_500_sidebyside,\n",
    "                                           one=toggle_subs1, two=toggle_subs2)\n",
    "            display(o)\n",
    "    else:\n",
    "        out2.clear_output()\n",
    "\n",
    "#widgets---------------------------------------------------\n",
    "out2 = widgets.Output(layout={'border': '4px solid blue'})\n",
    "\n",
    "boxv = widgets.VBox([toggle_subs1, toggle_subs2])\n",
    "\n",
    "toggle_subs1 = widgets.Dropdown( options=[('DestinyTheGame', 'destinythegame'),\n",
    "                                               ('Destiny2', 'destiny2'),\n",
    "                                               ('LowSodiumDestiny', 'lowsodiumdestiny'),\n",
    "                                              ('RaidSecrets', 'raidsecrets'),\n",
    "                                              ('CruciblePlaybook', 'crucibleplaybook')],\n",
    "                                value='destinythegame',\n",
    "                          description='Subreddit 1',\n",
    "                          disabled=False)\n",
    "\n",
    "toggle_subs2 = widgets.Dropdown( options=[('DestinyTheGame', 'destinythegame'),\n",
    "                                               ('Destiny2', 'destiny2'),\n",
    "                                               ('LowSodiumDestiny', 'lowsodiumdestiny'),\n",
    "                                              ('RaidSecrets', 'raidsecrets'),\n",
    "                                              ('CruciblePlaybook', 'crucibleplaybook')],\n",
    "                          description='Subreddit 2',\n",
    "                            value = 'destiny2',\n",
    "                          disabled=False)\n",
    "\n",
    "wout2 = widgets.ToggleButtons( options=[('Off', False),('On',True)],\n",
    "                          description='Load Chart?',\n",
    "                          disabled=False,\n",
    "                          button_style='success')\n",
    "\n",
    "widgets.interact(display_out2, x=wout2)\n",
    "\n",
    "display(out2)\n"
   ]
  },
  {
   "cell_type": "markdown",
   "metadata": {},
   "source": [
    "# About\n",
    "\n",
    "## Why?\n",
    "Well I noticed we have all kinds of nice tools to analyze in-game stats, but I didn't know of any tools to analyze\n",
    "the destiny community itself outside of the game. So I figured I'd play around with what I know and build up a set of\n",
    "tools that can be used to examine different aspects of the community starting with the destiny subreddits. \n",
    "\n",
    "This is currently just a quick demo to get it up and running,  but I hope to soon (before the end of January) have features that allow for customized search and data analysis of different aspects of the subreddit. This will be my first time creating something like this so any feedback or feature requests would be appreciated.\n",
    "\n",
    "## Things I'd like to add soon\n",
    "\n",
    "- Charts showing # pvp-focused posts vs # pve focused posts over time\n",
    "- User search to see stats about a users various posting habits, overall attitute (pos or negative), favorite curse words, favorite day to post, posts / comments per subreddit,  and whatever else people can think of that they might want\n",
    "- Post features most likely to get a bungie response (pvp or pve focused, specific words, time of post, etc)\n",
    "- Whatever else I can think up or is suggested to me\n",
    "\n",
    "## How it works\n",
    "\n",
    "This is all done using python and jupyter notebooks with Viola to create a dashboard from the notebook and\n",
    "Binder to deploy it to the web using github.\n",
    "\n",
    "### Libraries and Packages\n",
    "\n",
    "- **numpy** - matrix creation\n",
    "- **pandas** - data manipulation and cleaning\n",
    "- **requests** - accessing apis\n",
    "- **plotly** - creation of interactive plots\n",
    "- **textblob** - sentiment analysis of posts and comments\n",
    "- **voila** - creation of standalone web apps from jupyter notebooks [link](https://github.com/voila-dashboards/voila)\n",
    "- **ipywidgets** - widget creation\n",
    "\n",
    "### APIs\n",
    "**pushshift** - accesing reddit data [link](https://github.com/pushshift/api)\n",
    "\n",
    "### Servives\n",
    "**binder** - turn github repo into interactive notebook environment [link](https://mybinder.org/)\n",
    "\n",
    "\n",
    "## Contact Me\n",
    "\n",
    "Send complaints and suggestions to destiny_sub_analyzer@gmx.com"
   ]
  },
  {
   "cell_type": "code",
   "execution_count": null,
   "metadata": {},
   "outputs": [],
   "source": [
    "#to-do : create a widget for each graph so that you can enter an id number and get the full text of the post or comment"
   ]
  }
 ],
 "metadata": {
  "kernelspec": {
   "display_name": "Python 3",
   "language": "python",
   "name": "python3"
  },
  "language_info": {
   "codemirror_mode": {
    "name": "ipython",
    "version": 3
   },
   "file_extension": ".py",
   "mimetype": "text/x-python",
   "name": "python",
   "nbconvert_exporter": "python",
   "pygments_lexer": "ipython3",
   "version": "3.7.5"
  }
 },
 "nbformat": 4,
 "nbformat_minor": 2
}
